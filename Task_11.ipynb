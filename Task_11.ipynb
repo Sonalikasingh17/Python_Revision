{
  "cells": [
    {
      "cell_type": "markdown",
      "metadata": {
        "id": "ajVfqio_GinI"
      },
      "source": [
        "## Exception Handling\n"
      ]
    },
    {
      "cell_type": "markdown",
      "metadata": {
        "id": "0qnQkJtnGozz"
      },
      "source": [
        "##### `Q-1`: You are given a function definition. There might be several issues on execution of this function. You are asked to do exception handling for diffrent errors that this function goes in to `without altering this function`. And print error text.\n",
        "\n"
      ]
    },
    {
      "cell_type": "markdown",
      "metadata": {
        "id": "2no_EB2fGyGq"
      },
      "source": [
        "Function parameters `l -> list, s -> could be anything`\n",
        "\n",
        "```\n",
        "def function(l: list, s, **args):\n",
        "    last_element = l[-1]\n",
        "    \n",
        "    l[int(s)]=10\n",
        "    any_element = l[int(s)+10]\n",
        "    l[s]=10\n",
        "    \n",
        "    res = sum(l)\n",
        "    \n",
        "    p = args['p']\n",
        "    # print(p)\n",
        "    return res/last_element * p + any_element\n",
        "\n",
        "```\n",
        "Check for different function calls:-\n",
        "\n",
        "```\n",
        "function([1,2,1], 12)\n",
        "function([1,2,1]*9, '1-2')\n",
        "function([1,'2',1]*9, 12)\n",
        "function([1,'2',1]*9, 12)\n",
        "function([1,2,0]*9, 12  )\n",
        "function([1,2,1]*9, 12, p=None)\n",
        "function([1,2,0]*9, 12, p=10)\n",
        "```"
      ]
    },
    {
      "cell_type": "code",
      "execution_count": 1,
      "metadata": {
        "id": "VoaL4_9eGjFU"
      },
      "outputs": [
        {
          "name": "stdout",
          "output_type": "stream",
          "text": [
            "Result: 452.0\n",
            "Execution completed.\n"
          ]
        }
      ],
      "source": [
        "# Write code here\n",
        "def function(l: list, s, **args):\n",
        "    last_element = l[-1]\n",
        "    \n",
        "    l[int(s)]=10\n",
        "    any_element = l[int(s)+10]\n",
        "    l[s]=10\n",
        "    \n",
        "    res = sum(l)\n",
        "    \n",
        "    p = args['p']\n",
        "    # print(p)\n",
        "    return res/last_element * p + any_element\n",
        "\n",
        "try: \n",
        "    res = function([1,2,1]*9, 12, p= 10)\n",
        "\n",
        "except IndexError as i:\n",
        "    print(type(i))\n",
        "    print(\"IndexError:\", i)\n",
        "\n",
        "except ValueError as v:\n",
        "    print(type(v))\n",
        "    print(\"ValueError:\", v)\n",
        "\n",
        "except TypeError as t:\n",
        "    print(type(t))\n",
        "    print(\"TypeError:\", t)\n",
        "\n",
        "except KeyError as k:\n",
        "    print(type(k))\n",
        "    print(\"KeyError:\", k)   \n",
        "\n",
        "except ZeroDivisionError as z:\n",
        "    print(type(z))\n",
        "    print(\"ZeroDivisionError:\", z)\n",
        "\n",
        "else:\n",
        "    print(\"Result:\", res)\n",
        "\n",
        "finally:\n",
        "    print(\"Execution completed.\")"
      ]
    },
    {
      "cell_type": "markdown",
      "metadata": {
        "id": "HuLMy2fVG9sL"
      },
      "source": [
        "##### `Q-2:` You are given a code snippet. There might be several issues on execution of this code. You are asked to do exception handling for diffrent errors, condition is what ever happens we need to execute last line printing correct result of `sum of elements`.\n",
        "\n",
        "List have elemnts as any no of  `key-pair dict with key as list index and value as any integer`, `integers` and `numeric-strings`. There is always only one element in the dict.\n",
        "\n",
        "\n",
        "```\n",
        "l = [{0:2},2,3,4,'5', {5:10}]\n",
        "# For calculating sum of above list\n",
        "s=0\n",
        "for i in range(len(l)):\n",
        "    #You can Edit code from here\n",
        "    s += l[i].get(i)\n",
        "    s += l[i]\n",
        "    s += int(l[i])\n",
        "\n",
        "\n",
        "print(s)\n",
        "```"
      ]
    },
    {
      "cell_type": "code",
      "execution_count": null,
      "metadata": {
        "id": "pEP8JU0qHAf8"
      },
      "outputs": [
        {
          "name": "stdout",
          "output_type": "stream",
          "text": [
            "26\n"
          ]
        }
      ],
      "source": [
        "# Given list with different data types\n",
        "l = [{0:2},2,3,4,'5', {5:10}]\n",
        "# For calculating sum of above list\n",
        "s=0\n",
        "for i in range(len(l)):\n",
        "    try:\n",
        "        s += l[i]\n",
        "    except TypeError:\n",
        "\n",
        "        try:\n",
        "            s += l[i].get(i)\n",
        "        except AttributeError:\n",
        "            s += int(l[i])\n",
        "            \n",
        "print(s)"
      ]
    },
    {
      "cell_type": "markdown",
      "metadata": {
        "id": "ohE2fDTXHIan"
      },
      "source": [
        "### `Q-3:`: File Handling with Exception handling\n",
        "\n",
        "Write a program that opens a text file and write data to it as \"Hello, Good Morning!!!\". Handle exceptions that can be generated during the I/O operations. Do not show the success message on the main exception handling block (write inside the else block)."
      ]
    },
    {
      "cell_type": "code",
      "execution_count": null,
      "metadata": {
        "id": "iOeiWrcIHPlY"
      },
      "outputs": [
        {
          "name": "stdout",
          "output_type": "stream",
          "text": [
            "File written successfully\n"
          ]
        }
      ],
      "source": [
        "# write code here\n",
        "try:\n",
        "    with open('text_file.txt', 'w') as f:\n",
        "        f.write(\"Hello, Good Morning!!!\")\n",
        "\n",
        "except IOError as e:\n",
        "    print(\"I/O error occurred:\", e)\n",
        "    print(\"Error working with file...\")\n",
        "    \n",
        "else:\n",
        "    print(\"File written successfully\")"
      ]
    },
    {
      "cell_type": "markdown",
      "metadata": {
        "id": "ru8g8-_bHTUf"
      },
      "source": [
        "### `Q-4`: Number game program.\n",
        "\n",
        "Write a number game program. Ask the user to enter a number. If the number is greater than number to be guessed, raise a **ValueTooLarge** exception. If the value is smaller the number to be guessed the, raise a **ValueTooSmall** exception and prompt the user to enter again. Quit the program only when the user enters the correct number. Also raise **GuessError** if user guess a number less than 1."
      ]
    },
    {
      "cell_type": "code",
      "execution_count": 6,
      "metadata": {},
      "outputs": [
        {
          "name": "stdout",
          "output_type": "stream",
          "text": [
            "Input value is too small\n",
            "Input value is too small\n",
            "Great You succeeded...\n"
          ]
        }
      ],
      "source": [
        "import random\n",
        "\n",
        "class ValueTooLarge(Exception):\n",
        "    def display(self):\n",
        "        print(\"Input value is too large\")\n",
        "\n",
        "class ValueTooSmall(Exception):\n",
        "    def display(self):\n",
        "        print(\"Input value is too small\")\n",
        "    \n",
        "class GuessError(Exception):\n",
        "    def display(self):\n",
        "        print(\"Guess the number between 1 and 100\")\n",
        "\n",
        "num = random.randint(1, 100)\n",
        "\n",
        "while 1:\n",
        "    try:\n",
        "        guess = int(input(\"Enter a number: \"))\n",
        "\n",
        "        if guess < 1:\n",
        "            raise GuessError\n",
        "\n",
        "        if guess == num:\n",
        "            print(\"Great You succeeded...\")\n",
        "            break\n",
        "\n",
        "        if guess < num:\n",
        "            raise ValueTooSmall\n",
        "        if guess > num:\n",
        "            raise ValueTooLarge\n",
        "        \n",
        "    except ValueTooSmall as s:\n",
        "        s.display()\n",
        "    except ValueTooLarge as l:\n",
        "        l.display()\n",
        "    except GuessError as g:\n",
        "        g.display()\n"
      ]
    },
    {
      "cell_type": "markdown",
      "metadata": {
        "id": "ZsGI_40fHcsd"
      },
      "source": [
        "### `Q-5:` Cast vote\n",
        "\n",
        "Write a program that validate name and age as entered by the user to determine whether the person can cast vote or not. To handle the age, create **InvalidAge** exception and for name, create **InvalidName** exception. The name will be invalid when the string will be empty or name has only one word.\n",
        "\n",
        "Example 1:\n",
        "\n",
        "Input:\n",
        "\n",
        "```bash\n",
        "Enter the name:               goransh singh\n",
        "Enter the age: 25\n",
        "```\n",
        "\n",
        "Output:\n",
        "\n",
        "```bash\n",
        "Goransh Singh  Congratulation !!! You can vote.\n",
        "```"
      ]
    },
    {
      "cell_type": "code",
      "execution_count": 13,
      "metadata": {
        "id": "OHL3UiS4Hi3U"
      },
      "outputs": [
        {
          "name": "stdout",
          "output_type": "stream",
          "text": [
            "Your name is sonam and your age is 18\n",
            "sonam Congratulations!!! You are eligible for voting.\n"
          ]
        }
      ],
      "source": [
        "# Write code here\n",
        "\n",
        "class InvalidAgeError(Exception):\n",
        "    def display(self):\n",
        "        print(\"Age cannot be negative or zero\")\n",
        "\n",
        "class InvalidNameError(Exception):\n",
        "    def display(self):\n",
        "        print(\"Name cannot be empty or only contain one character\")\n",
        "\n",
        "\n",
        "age = int(input(\"Enter your age: \"))\n",
        "name = input(\"Enter your name: \")\n",
        "print(f\"Your name is {name} and your age is {age}\")\n",
        "\n",
        "try:\n",
        "    if age <= 0:\n",
        "        raise InvalidAgeError\n",
        "    if len(name) <= 1:\n",
        "        raise InvalidNameError\n",
        "    \n",
        "    if age < 18:\n",
        "        print(f\"{name} Sorry!!! You are not eligible for voting.\")\n",
        "    else:\n",
        "        print(f\"{name} Congratulations!!! You are eligible for voting.\")\n",
        "    \n",
        "except InvalidAgeError as a:\n",
        "    a.display()\n",
        "except InvalidNameError as n:\n",
        "    n.display()"
      ]
    },
    {
      "cell_type": "code",
      "execution_count": null,
      "metadata": {},
      "outputs": [],
      "source": [
        "# Alternative Solution\n",
        "class InvalidAge(Exception):\n",
        "    def display(self):\n",
        "        print(\"Sorry!! Age cannot be below 18. Please come after that\")\n",
        "class InvalidName(Exception):\n",
        "    def display(self):\n",
        "        print(\"Please enter a valid name...\")\n",
        "try:\n",
        "    name = input(\"Enter your name: \")\n",
        "    if len(name) == 0 or len(name.split()) < 2:\n",
        "        raise InvalidName\n",
        "\n",
        "    age = int(input(\"Enter your age: \"))\n",
        "    if age < 18:\n",
        "        raise InvalidAge\n",
        "except InvalidName as i:\n",
        "    i.display()\n",
        "except InvalidAge as a:\n",
        "    a.display()\n",
        "else:\n",
        "    print(\"Your vote is accepted successfully\")\n",
        "finally:\n",
        "    print(\"Thank You\")"
      ]
    },
    {
      "cell_type": "markdown",
      "metadata": {
        "id": "SCvs0QjgHlOG"
      },
      "source": [
        "##### `Q-6`: Write a python function which infinitely prints natural numbers in a single line. Raise the **StopIteration** exception after displaying first 20 numnbers to exit from the program."
      ]
    },
    {
      "cell_type": "code",
      "execution_count": 15,
      "metadata": {
        "id": "Lc5ilNgNHoSx"
      },
      "outputs": [
        {
          "name": "stdout",
          "output_type": "stream",
          "text": [
            "1 2 3 4 5 6 7 8 9 10 11 12 13 14 15 16 17 18 19 20 \n",
            "Iteration stopped after printing 20 natural numbers.\n"
          ]
        }
      ],
      "source": [
        "# Write code here\n",
        "def infinite_natural_numbers():\n",
        "    n = 1\n",
        "    while True:\n",
        "        if n > 20:\n",
        "            raise StopIteration\n",
        "        print(n, end=' ')\n",
        "        n += 1\n",
        "\n",
        "try:\n",
        "    infinite_natural_numbers()\n",
        "except StopIteration:\n",
        "    print(\"\\nIteration stopped after printing 20 natural numbers.\")"
      ]
    },
    {
      "cell_type": "code",
      "execution_count": 16,
      "metadata": {},
      "outputs": [
        {
          "name": "stdout",
          "output_type": "stream",
          "text": [
            "101 102 103 104 105 106 107 108 109 110 111 112 113 114 115 116 117 118 119 120 "
          ]
        }
      ],
      "source": [
        "# Alternative Solution\n",
        "def display(n):\n",
        "    i=0\n",
        "    while True:\n",
        "        try:\n",
        "            n+=1\n",
        "            i+=1\n",
        "            if i==21:\n",
        "                raise StopIteration\n",
        "        except StopIteration:\n",
        "            break\n",
        "        else:\n",
        "            print(n, end =' ')\n",
        "display(100)"
      ]
    }
  ],
  "metadata": {
    "colab": {
      "provenance": []
    },
    "kernelspec": {
      "display_name": "base",
      "language": "python",
      "name": "python3"
    },
    "language_info": {
      "codemirror_mode": {
        "name": "ipython",
        "version": 3
      },
      "file_extension": ".py",
      "mimetype": "text/x-python",
      "name": "python",
      "nbconvert_exporter": "python",
      "pygments_lexer": "ipython3",
      "version": "3.13.5"
    }
  },
  "nbformat": 4,
  "nbformat_minor": 0
}
