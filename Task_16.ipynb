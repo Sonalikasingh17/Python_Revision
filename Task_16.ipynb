{
  "cells": [
    {
      "cell_type": "code",
      "execution_count": 1,
      "metadata": {
        "id": "zxrbXftDYalU"
      },
      "outputs": [],
      "source": [
        "import pandas as pd"
      ]
    },
    {
      "cell_type": "markdown",
      "metadata": {
        "id": "MetYTZJpYfdz"
      },
      "source": [
        "### `Q-1:` Write a program to create an empty series."
      ]
    },
    {
      "cell_type": "code",
      "execution_count": 3,
      "metadata": {
        "id": "KUcgT935YgC5"
      },
      "outputs": [
        {
          "data": {
            "application/vnd.microsoft.datawrangler.viewer.v0+json": {
              "columns": [
                {
                  "name": "index",
                  "rawType": "int64",
                  "type": "integer"
                },
                {
                  "name": "0",
                  "rawType": "object",
                  "type": "string"
                }
              ],
              "ref": "33633ea3-371e-406a-84d2-8dc5584d218c",
              "rows": [],
              "shape": {
                "columns": 1,
                "rows": 0
              }
            },
            "text/plain": [
              "Series([], dtype: object)"
            ]
          },
          "execution_count": 3,
          "metadata": {},
          "output_type": "execute_result"
        }
      ],
      "source": [
        "pd.Series()"
      ]
    },
    {
      "cell_type": "markdown",
      "metadata": {
        "id": "jw5ybzU6YhOo"
      },
      "source": [
        "##### `Q-2:` Write a Pandas program to add, subtract, multiple and divide two Pandas Series."
      ]
    },
    {
      "cell_type": "code",
      "execution_count": 6,
      "metadata": {
        "id": "EF3GgVFjYjwG"
      },
      "outputs": [
        {
          "name": "stdout",
          "output_type": "stream",
          "text": [
            "0    11\n",
            "1    22\n",
            "2    33\n",
            "3    44\n",
            "4    55\n",
            "dtype: int64\n",
            "0     9\n",
            "1    18\n",
            "2    27\n",
            "3    36\n",
            "4    45\n",
            "dtype: int64\n",
            "0     10\n",
            "1     40\n",
            "2     90\n",
            "3    160\n",
            "4    250\n",
            "dtype: int64\n",
            "0    10.0\n",
            "1    10.0\n",
            "2    10.0\n",
            "3    10.0\n",
            "4    10.0\n",
            "dtype: float64\n"
          ]
        }
      ],
      "source": [
        "# code here\n",
        "x = pd.Series([10, 20, 30, 40, 50])\n",
        "y = pd.Series([1, 2, 3, 4, 5])\n",
        "print( x+ y)\n",
        "print(x - y)\n",
        "print(x * y)\n",
        "print(x / y)"
      ]
    },
    {
      "cell_type": "markdown",
      "metadata": {
        "id": "TZDp25jeYlB6"
      },
      "source": [
        "##### `Q-3` Write a Pandas program to compare the elements of the two Pandas Series.\n",
        "Sample Series: [2, 4, 6, 8, 10], [1, 3, 5, 7, 10]\n",
        "\n"
      ]
    },
    {
      "cell_type": "code",
      "execution_count": 7,
      "metadata": {
        "id": "gFNil8ruYp1y"
      },
      "outputs": [
        {
          "name": "stdout",
          "output_type": "stream",
          "text": [
            "0    False\n",
            "1    False\n",
            "2    False\n",
            "3    False\n",
            "4     True\n",
            "dtype: bool\n",
            "0    False\n",
            "1    False\n",
            "2    False\n",
            "3    False\n",
            "4    False\n",
            "dtype: bool\n",
            "0     True\n",
            "1     True\n",
            "2     True\n",
            "3     True\n",
            "4    False\n",
            "dtype: bool\n"
          ]
        }
      ],
      "source": [
        "# code here\n",
        "a = pd.Series([2, 4, 6, 8, 10])\n",
        "b = pd.Series([1, 3, 5, 7, 10])\n",
        "\n",
        "print(a==b)\n",
        "print(a<b)\n",
        "print(a>b)"
      ]
    },
    {
      "cell_type": "markdown",
      "metadata": {
        "id": "HlOBn_N6YrZz"
      },
      "source": [
        "##### `Q-4.`Write a function to change the data type of given a column or a Series. Function takes series and data type as input, returns the converted series.\n",
        "```\n",
        "series = pd.Series([1,2,'Python', 2.0, True, 100])\n",
        "change to float type data\n",
        "```\n",
        "Note: Read about pd.to_numeric()"
      ]
    },
    {
      "cell_type": "code",
      "execution_count": 10,
      "metadata": {},
      "outputs": [
        {
          "data": {
            "application/vnd.microsoft.datawrangler.viewer.v0+json": {
              "columns": [
                {
                  "name": "index",
                  "rawType": "int64",
                  "type": "integer"
                },
                {
                  "name": "0",
                  "rawType": "float64",
                  "type": "float"
                }
              ],
              "ref": "8c1c1aa9-2c01-4e1e-b2d8-d2904bb75c8b",
              "rows": [
                [
                  "0",
                  "1.0"
                ],
                [
                  "1",
                  "2.0"
                ],
                [
                  "2",
                  null
                ],
                [
                  "3",
                  "2.0"
                ],
                [
                  "4",
                  "1.0"
                ],
                [
                  "5",
                  "100.0"
                ]
              ],
              "shape": {
                "columns": 1,
                "rows": 6
              }
            },
            "text/plain": [
              "0      1.0\n",
              "1      2.0\n",
              "2      NaN\n",
              "3      2.0\n",
              "4      1.0\n",
              "5    100.0\n",
              "dtype: float64"
            ]
          },
          "execution_count": 10,
          "metadata": {},
          "output_type": "execute_result"
        }
      ],
      "source": [
        "def change_dtype(series):\n",
        "    return pd.to_numeric(series, errors = 'coerce')\n",
        "\n",
        "series = pd.Series([1,2,'Python', 2.0, True, 100])\n",
        "change_dtype(series)"
      ]
    },
    {
      "cell_type": "code",
      "execution_count": null,
      "metadata": {
        "id": "_SWQJCUJYwXm"
      },
      "outputs": [
        {
          "name": "stdout",
          "output_type": "stream",
          "text": [
            "0      1.0\n",
            "1      2.0\n",
            "2      1.0\n",
            "3    100.0\n",
            "dtype: float64\n"
          ]
        }
      ],
      "source": [
        "# just checking\n",
        "# code here\n",
        "def change_dtype(series, dtype):\n",
        "    return series.astype(dtype)\n",
        "\n",
        "series = pd.Series([1,2.0, True, 100])\n",
        "converted_series = change_dtype(series, float)\n",
        "print(converted_series)"
      ]
    },
    {
      "cell_type": "markdown",
      "metadata": {
        "id": "PGp3OqRIY0Va"
      },
      "source": [
        "Download data - https://drive.google.com/file/d/1LRhXwbEodeWXtzPhJCX0X9Lf_BECzvqb/view?usp=share_link\n",
        "All Batsman runs series in IPL 2008 to 2022.\n",
        "\n",
        "Below questions are based on this data."
      ]
    },
    {
      "cell_type": "markdown",
      "metadata": {
        "id": "TxFkp-L4Y23d"
      },
      "source": [
        "#### `Q-5` Find top 10 most run getter from the series."
      ]
    },
    {
      "cell_type": "code",
      "execution_count": 17,
      "metadata": {
        "id": "muBgocA6Y2Bg"
      },
      "outputs": [
        {
          "data": {
            "application/vnd.microsoft.datawrangler.viewer.v0+json": {
              "columns": [
                {
                  "name": "index",
                  "rawType": "int64",
                  "type": "integer"
                },
                {
                  "name": "batter",
                  "rawType": "object",
                  "type": "string"
                },
                {
                  "name": "batsman_run",
                  "rawType": "int64",
                  "type": "integer"
                }
              ],
              "ref": "b1b4a360-f090-4271-97ac-12b14ad6f7d4",
              "rows": [
                [
                  "0",
                  "A Ashish Reddy",
                  "280"
                ],
                [
                  "1",
                  "A Badoni",
                  "161"
                ],
                [
                  "2",
                  "A Chandila",
                  "4"
                ],
                [
                  "3",
                  "A Chopra",
                  "53"
                ],
                [
                  "4",
                  "A Choudhary",
                  "25"
                ],
                [
                  "5",
                  "A Dananjaya",
                  "4"
                ],
                [
                  "6",
                  "A Flintoff",
                  "62"
                ],
                [
                  "7",
                  "A Kumble",
                  "35"
                ],
                [
                  "8",
                  "A Manohar",
                  "108"
                ],
                [
                  "9",
                  "A Mishra",
                  "362"
                ],
                [
                  "10",
                  "A Mithun",
                  "34"
                ],
                [
                  "11",
                  "A Mukund",
                  "19"
                ],
                [
                  "12",
                  "A Nehra",
                  "41"
                ],
                [
                  "13",
                  "A Nortje",
                  "8"
                ],
                [
                  "14",
                  "A Singh",
                  "2"
                ],
                [
                  "15",
                  "A Symonds",
                  "974"
                ],
                [
                  "16",
                  "A Tomar",
                  "4"
                ],
                [
                  "17",
                  "A Uniyal",
                  "4"
                ],
                [
                  "18",
                  "A Zampa",
                  "5"
                ],
                [
                  "19",
                  "AA Bilakhia",
                  "69"
                ],
                [
                  "20",
                  "AA Chavan",
                  "12"
                ],
                [
                  "21",
                  "AA Jhunjhunwala",
                  "217"
                ],
                [
                  "22",
                  "AA Noffke",
                  "9"
                ],
                [
                  "23",
                  "AB Agarkar",
                  "179"
                ],
                [
                  "24",
                  "AB Barath",
                  "42"
                ],
                [
                  "25",
                  "AB Dinda",
                  "26"
                ],
                [
                  "26",
                  "AB McDonald",
                  "123"
                ],
                [
                  "27",
                  "AB de Villiers",
                  "5181"
                ],
                [
                  "28",
                  "AC Blizzard",
                  "120"
                ],
                [
                  "29",
                  "AC Gilchrist",
                  "2069"
                ],
                [
                  "30",
                  "AC Thomas",
                  "20"
                ],
                [
                  "31",
                  "AC Voges",
                  "181"
                ],
                [
                  "32",
                  "AD Hales",
                  "148"
                ],
                [
                  "33",
                  "AD Mascarenhas",
                  "79"
                ],
                [
                  "34",
                  "AD Mathews",
                  "724"
                ],
                [
                  "35",
                  "AD Nath",
                  "90"
                ],
                [
                  "36",
                  "AD Russell",
                  "2039"
                ],
                [
                  "37",
                  "AF Milne",
                  "23"
                ],
                [
                  "38",
                  "AG Murtaza",
                  "10"
                ],
                [
                  "39",
                  "AG Paunikar",
                  "49"
                ],
                [
                  "40",
                  "AJ Finch",
                  "2092"
                ],
                [
                  "41",
                  "AJ Turner",
                  "3"
                ],
                [
                  "42",
                  "AJ Tye",
                  "91"
                ],
                [
                  "43",
                  "AK Markram",
                  "527"
                ],
                [
                  "44",
                  "AL Menaria",
                  "401"
                ],
                [
                  "45",
                  "AM Nayar",
                  "672"
                ],
                [
                  "46",
                  "AM Rahane",
                  "4074"
                ],
                [
                  "47",
                  "AN Ahmed",
                  "36"
                ],
                [
                  "48",
                  "AN Ghosh",
                  "7"
                ],
                [
                  "49",
                  "AP Dole",
                  "34"
                ]
              ],
              "shape": {
                "columns": 2,
                "rows": 605
              }
            },
            "text/html": [
              "<div>\n",
              "<style scoped>\n",
              "    .dataframe tbody tr th:only-of-type {\n",
              "        vertical-align: middle;\n",
              "    }\n",
              "\n",
              "    .dataframe tbody tr th {\n",
              "        vertical-align: top;\n",
              "    }\n",
              "\n",
              "    .dataframe thead th {\n",
              "        text-align: right;\n",
              "    }\n",
              "</style>\n",
              "<table border=\"1\" class=\"dataframe\">\n",
              "  <thead>\n",
              "    <tr style=\"text-align: right;\">\n",
              "      <th></th>\n",
              "      <th>batter</th>\n",
              "      <th>batsman_run</th>\n",
              "    </tr>\n",
              "  </thead>\n",
              "  <tbody>\n",
              "    <tr>\n",
              "      <th>0</th>\n",
              "      <td>A Ashish Reddy</td>\n",
              "      <td>280</td>\n",
              "    </tr>\n",
              "    <tr>\n",
              "      <th>1</th>\n",
              "      <td>A Badoni</td>\n",
              "      <td>161</td>\n",
              "    </tr>\n",
              "    <tr>\n",
              "      <th>2</th>\n",
              "      <td>A Chandila</td>\n",
              "      <td>4</td>\n",
              "    </tr>\n",
              "    <tr>\n",
              "      <th>3</th>\n",
              "      <td>A Chopra</td>\n",
              "      <td>53</td>\n",
              "    </tr>\n",
              "    <tr>\n",
              "      <th>4</th>\n",
              "      <td>A Choudhary</td>\n",
              "      <td>25</td>\n",
              "    </tr>\n",
              "    <tr>\n",
              "      <th>...</th>\n",
              "      <td>...</td>\n",
              "      <td>...</td>\n",
              "    </tr>\n",
              "    <tr>\n",
              "      <th>600</th>\n",
              "      <td>Yash Dayal</td>\n",
              "      <td>0</td>\n",
              "    </tr>\n",
              "    <tr>\n",
              "      <th>601</th>\n",
              "      <td>Yashpal Singh</td>\n",
              "      <td>47</td>\n",
              "    </tr>\n",
              "    <tr>\n",
              "      <th>602</th>\n",
              "      <td>Younis Khan</td>\n",
              "      <td>3</td>\n",
              "    </tr>\n",
              "    <tr>\n",
              "      <th>603</th>\n",
              "      <td>Yuvraj Singh</td>\n",
              "      <td>2754</td>\n",
              "    </tr>\n",
              "    <tr>\n",
              "      <th>604</th>\n",
              "      <td>Z Khan</td>\n",
              "      <td>117</td>\n",
              "    </tr>\n",
              "  </tbody>\n",
              "</table>\n",
              "<p>605 rows × 2 columns</p>\n",
              "</div>"
            ],
            "text/plain": [
              "             batter  batsman_run\n",
              "0    A Ashish Reddy          280\n",
              "1          A Badoni          161\n",
              "2        A Chandila            4\n",
              "3          A Chopra           53\n",
              "4       A Choudhary           25\n",
              "..              ...          ...\n",
              "600      Yash Dayal            0\n",
              "601   Yashpal Singh           47\n",
              "602     Younis Khan            3\n",
              "603    Yuvraj Singh         2754\n",
              "604          Z Khan          117\n",
              "\n",
              "[605 rows x 2 columns]"
            ]
          },
          "execution_count": 17,
          "metadata": {},
          "output_type": "execute_result"
        }
      ],
      "source": [
        "# code here\n",
        "data = pd.read_csv('batsman_runs_series.csv')\n",
        "data\n"
      ]
    },
    {
      "cell_type": "code",
      "execution_count": 19,
      "metadata": {},
      "outputs": [
        {
          "data": {
            "application/vnd.microsoft.datawrangler.viewer.v0+json": {
              "columns": [
                {
                  "name": "index",
                  "rawType": "int64",
                  "type": "integer"
                },
                {
                  "name": "batter",
                  "rawType": "object",
                  "type": "string"
                },
                {
                  "name": "batsman_run",
                  "rawType": "int64",
                  "type": "integer"
                }
              ],
              "ref": "7582c7f5-e662-41a6-abeb-a11c5b532bbf",
              "rows": [
                [
                  "569",
                  "V Kohli",
                  "6634"
                ],
                [
                  "462",
                  "S Dhawan",
                  "6244"
                ],
                [
                  "130",
                  "DA Warner",
                  "5883"
                ],
                [
                  "430",
                  "RG Sharma",
                  "5881"
                ],
                [
                  "493",
                  "SK Raina",
                  "5536"
                ],
                [
                  "27",
                  "AB de Villiers",
                  "5181"
                ],
                [
                  "108",
                  "CH Gayle",
                  "4997"
                ],
                [
                  "339",
                  "MS Dhoni",
                  "4978"
                ],
                [
                  "452",
                  "RV Uthappa",
                  "4954"
                ],
                [
                  "256",
                  "KD Karthik",
                  "4377"
                ]
              ],
              "shape": {
                "columns": 2,
                "rows": 10
              }
            },
            "text/html": [
              "<div>\n",
              "<style scoped>\n",
              "    .dataframe tbody tr th:only-of-type {\n",
              "        vertical-align: middle;\n",
              "    }\n",
              "\n",
              "    .dataframe tbody tr th {\n",
              "        vertical-align: top;\n",
              "    }\n",
              "\n",
              "    .dataframe thead th {\n",
              "        text-align: right;\n",
              "    }\n",
              "</style>\n",
              "<table border=\"1\" class=\"dataframe\">\n",
              "  <thead>\n",
              "    <tr style=\"text-align: right;\">\n",
              "      <th></th>\n",
              "      <th>batter</th>\n",
              "      <th>batsman_run</th>\n",
              "    </tr>\n",
              "  </thead>\n",
              "  <tbody>\n",
              "    <tr>\n",
              "      <th>569</th>\n",
              "      <td>V Kohli</td>\n",
              "      <td>6634</td>\n",
              "    </tr>\n",
              "    <tr>\n",
              "      <th>462</th>\n",
              "      <td>S Dhawan</td>\n",
              "      <td>6244</td>\n",
              "    </tr>\n",
              "    <tr>\n",
              "      <th>130</th>\n",
              "      <td>DA Warner</td>\n",
              "      <td>5883</td>\n",
              "    </tr>\n",
              "    <tr>\n",
              "      <th>430</th>\n",
              "      <td>RG Sharma</td>\n",
              "      <td>5881</td>\n",
              "    </tr>\n",
              "    <tr>\n",
              "      <th>493</th>\n",
              "      <td>SK Raina</td>\n",
              "      <td>5536</td>\n",
              "    </tr>\n",
              "    <tr>\n",
              "      <th>27</th>\n",
              "      <td>AB de Villiers</td>\n",
              "      <td>5181</td>\n",
              "    </tr>\n",
              "    <tr>\n",
              "      <th>108</th>\n",
              "      <td>CH Gayle</td>\n",
              "      <td>4997</td>\n",
              "    </tr>\n",
              "    <tr>\n",
              "      <th>339</th>\n",
              "      <td>MS Dhoni</td>\n",
              "      <td>4978</td>\n",
              "    </tr>\n",
              "    <tr>\n",
              "      <th>452</th>\n",
              "      <td>RV Uthappa</td>\n",
              "      <td>4954</td>\n",
              "    </tr>\n",
              "    <tr>\n",
              "      <th>256</th>\n",
              "      <td>KD Karthik</td>\n",
              "      <td>4377</td>\n",
              "    </tr>\n",
              "  </tbody>\n",
              "</table>\n",
              "</div>"
            ],
            "text/plain": [
              "             batter  batsman_run\n",
              "569         V Kohli         6634\n",
              "462        S Dhawan         6244\n",
              "130       DA Warner         5883\n",
              "430       RG Sharma         5881\n",
              "493        SK Raina         5536\n",
              "27   AB de Villiers         5181\n",
              "108        CH Gayle         4997\n",
              "339        MS Dhoni         4978\n",
              "452      RV Uthappa         4954\n",
              "256      KD Karthik         4377"
            ]
          },
          "execution_count": 19,
          "metadata": {},
          "output_type": "execute_result"
        }
      ],
      "source": [
        "data.sort_values('batsman_run',ascending=False).head(10)"
      ]
    },
    {
      "cell_type": "markdown",
      "metadata": {
        "id": "GzlCFBM_Y83g"
      },
      "source": [
        "##### `Q-6` No of players having runs above 3000"
      ]
    },
    {
      "cell_type": "code",
      "execution_count": 20,
      "metadata": {
        "id": "JdNchHRWY1B-"
      },
      "outputs": [
        {
          "data": {
            "text/plain": [
              "20"
            ]
          },
          "execution_count": 20,
          "metadata": {},
          "output_type": "execute_result"
        }
      ],
      "source": [
        "# code here\n",
        "data[data['batsman_run'] > 3000].shape[0]"
      ]
    },
    {
      "cell_type": "markdown",
      "metadata": {
        "id": "pMBEoCL1Y-vh"
      },
      "source": [
        "##### `Q-7` No of players having runs above mean value?"
      ]
    },
    {
      "cell_type": "code",
      "execution_count": 26,
      "metadata": {},
      "outputs": [
        {
          "name": "stdout",
          "output_type": "stream",
          "text": [
            "464.42809917355373\n"
          ]
        }
      ],
      "source": [
        "print(data['batsman_run'].mean())"
      ]
    },
    {
      "cell_type": "code",
      "execution_count": 22,
      "metadata": {
        "id": "LgtViVFZZBIu"
      },
      "outputs": [
        {
          "data": {
            "text/plain": [
              "128"
            ]
          },
          "execution_count": 22,
          "metadata": {},
          "output_type": "execute_result"
        }
      ],
      "source": [
        "data[data['batsman_run'] > data['batsman_run'].mean()].shape[0]"
      ]
    },
    {
      "cell_type": "markdown",
      "metadata": {
        "id": "OAB1CgdgZEqE"
      },
      "source": [
        "Download data - https://drive.google.com/file/d/1QZuZ5bypUInfVvarHACLAi8tXXHvb8xd/view?usp=share_link\n",
        "\n",
        "file name - items.csv\n",
        "\n"
      ]
    },
    {
      "cell_type": "markdown",
      "metadata": {
        "id": "1UTQQImxZGLu"
      },
      "source": [
        "##### `Q-8`\n",
        "    i. Read `items.csv` making `item_name` as index.\n",
        "    ii. Show no of nan values\n",
        "    ii. Item price is given in $, so convert it to rupees without currency symbol.\n",
        "    iii. Make data type of newly made series as float.\n",
        "    iv. Fill nan with mean of the series\n",
        "\n",
        "\n",
        "How csv file looks\n",
        "\n",
        "```\n",
        "item_name\titem_price\n",
        "Chips and Fresh Tomato Salsa\t$2.39\n",
        "Izze\t$3.39\n",
        "Nantucket Nectar\t$3.39\n",
        "Chips and Tomatillo-Green Chili Salsa\t$2.39\n",
        "Chicken Bowl\t$16.98\n",
        "\n",
        "```"
      ]
    },
    {
      "cell_type": "code",
      "execution_count": 29,
      "metadata": {},
      "outputs": [
        {
          "data": {
            "application/vnd.microsoft.datawrangler.viewer.v0+json": {
              "columns": [
                {
                  "name": "index",
                  "rawType": "int64",
                  "type": "integer"
                },
                {
                  "name": "item_name",
                  "rawType": "object",
                  "type": "string"
                },
                {
                  "name": "item_price",
                  "rawType": "object",
                  "type": "unknown"
                }
              ],
              "ref": "5d42618d-ae14-4ec2-82bc-29114d7af6f6",
              "rows": [
                [
                  "0",
                  "Chips and Fresh Tomato Salsa",
                  "$2.39 "
                ],
                [
                  "1",
                  "Izze",
                  "$3.39 "
                ],
                [
                  "2",
                  "Nantucket Nectar",
                  "$3.39 "
                ],
                [
                  "3",
                  "Chips and Tomatillo-Green Chili Salsa",
                  "$2.39 "
                ],
                [
                  "4",
                  "Chicken Bowl",
                  "$16.98 "
                ],
                [
                  "5",
                  "Chicken Bowl",
                  "$10.98 "
                ],
                [
                  "6",
                  "Side of Chips",
                  null
                ],
                [
                  "7",
                  "Steak Burrito",
                  "$11.75 "
                ],
                [
                  "8",
                  "Steak Soft Tacos",
                  null
                ],
                [
                  "9",
                  "Steak Burrito",
                  "$9.25 "
                ],
                [
                  "10",
                  "Chips and Guacamole",
                  "$4.45 "
                ],
                [
                  "11",
                  "Chicken Crispy Tacos",
                  "$8.75 "
                ],
                [
                  "12",
                  "Chicken Soft Tacos",
                  "$8.75 "
                ],
                [
                  "13",
                  "Chicken Bowl",
                  "$11.25 "
                ],
                [
                  "14",
                  "Chips and Guacamole",
                  "$4.45 "
                ],
                [
                  "15",
                  "Chips and Tomatillo-Green Chili Salsa",
                  "$2.39 "
                ],
                [
                  "16",
                  "Chicken Burrito",
                  "$8.49 "
                ],
                [
                  "17",
                  "Chicken Burrito",
                  "$8.49 "
                ],
                [
                  "18",
                  "Canned Soda",
                  "$2.18 "
                ],
                [
                  "19",
                  "Chicken Bowl",
                  "$8.75 "
                ],
                [
                  "20",
                  "Chips and Guacamole",
                  "$4.45 "
                ],
                [
                  "21",
                  "Barbacoa Burrito",
                  "$8.99 "
                ],
                [
                  "22",
                  "Nantucket Nectar",
                  "$3.39 "
                ],
                [
                  "23",
                  "Chicken Burrito",
                  "$10.98 "
                ],
                [
                  "24",
                  "Izze",
                  "$3.39 "
                ],
                [
                  "25",
                  "Chips and Fresh Tomato Salsa",
                  "$2.39 "
                ],
                [
                  "26",
                  "Chicken Bowl",
                  "$8.49 "
                ],
                [
                  "27",
                  "Carnitas Burrito",
                  "$8.99 "
                ],
                [
                  "28",
                  "Canned Soda",
                  "$1.09 "
                ],
                [
                  "29",
                  "Chicken Burrito",
                  "$8.49 "
                ],
                [
                  "30",
                  "Chips and Tomatillo-Green Chili Salsa",
                  "$2.39 "
                ],
                [
                  "31",
                  "Steak Burrito",
                  "$8.99 "
                ],
                [
                  "32",
                  "Side of Chips",
                  "$1.69 "
                ],
                [
                  "33",
                  "Carnitas Bowl",
                  "$8.99 "
                ],
                [
                  "34",
                  "Bottled Water",
                  "$1.09 "
                ],
                [
                  "35",
                  "Chicken Soft Tacos",
                  "$8.75 "
                ],
                [
                  "36",
                  "Chicken Soft Tacos",
                  "$8.75 "
                ],
                [
                  "37",
                  "Chips and Guacamole",
                  "$4.45 "
                ],
                [
                  "38",
                  "Chips and Tomatillo Green Chili Salsa",
                  "$2.95 "
                ],
                [
                  "39",
                  "Barbacoa Bowl",
                  "$11.75 "
                ],
                [
                  "40",
                  "Chips",
                  null
                ],
                [
                  "41",
                  "Chips and Guacamole",
                  "$4.45 "
                ],
                [
                  "42",
                  "Chicken Bowl",
                  "$11.25 "
                ],
                [
                  "43",
                  "Steak Burrito",
                  "$11.75 "
                ],
                [
                  "44",
                  "Chicken Salad Bowl",
                  "$8.75 "
                ],
                [
                  "45",
                  "Chicken Burrito",
                  "$10.98 "
                ],
                [
                  "46",
                  "Steak Burrito",
                  "$8.99 "
                ],
                [
                  "47",
                  "Izze",
                  "$3.39 "
                ],
                [
                  "48",
                  "Steak Burrito",
                  "$8.99 "
                ],
                [
                  "49",
                  "Chips and Guacamole",
                  "$3.99 "
                ]
              ],
              "shape": {
                "columns": 2,
                "rows": 4622
              }
            },
            "text/html": [
              "<div>\n",
              "<style scoped>\n",
              "    .dataframe tbody tr th:only-of-type {\n",
              "        vertical-align: middle;\n",
              "    }\n",
              "\n",
              "    .dataframe tbody tr th {\n",
              "        vertical-align: top;\n",
              "    }\n",
              "\n",
              "    .dataframe thead th {\n",
              "        text-align: right;\n",
              "    }\n",
              "</style>\n",
              "<table border=\"1\" class=\"dataframe\">\n",
              "  <thead>\n",
              "    <tr style=\"text-align: right;\">\n",
              "      <th></th>\n",
              "      <th>item_name</th>\n",
              "      <th>item_price</th>\n",
              "    </tr>\n",
              "  </thead>\n",
              "  <tbody>\n",
              "    <tr>\n",
              "      <th>0</th>\n",
              "      <td>Chips and Fresh Tomato Salsa</td>\n",
              "      <td>$2.39</td>\n",
              "    </tr>\n",
              "    <tr>\n",
              "      <th>1</th>\n",
              "      <td>Izze</td>\n",
              "      <td>$3.39</td>\n",
              "    </tr>\n",
              "    <tr>\n",
              "      <th>2</th>\n",
              "      <td>Nantucket Nectar</td>\n",
              "      <td>$3.39</td>\n",
              "    </tr>\n",
              "    <tr>\n",
              "      <th>3</th>\n",
              "      <td>Chips and Tomatillo-Green Chili Salsa</td>\n",
              "      <td>$2.39</td>\n",
              "    </tr>\n",
              "    <tr>\n",
              "      <th>4</th>\n",
              "      <td>Chicken Bowl</td>\n",
              "      <td>$16.98</td>\n",
              "    </tr>\n",
              "    <tr>\n",
              "      <th>...</th>\n",
              "      <td>...</td>\n",
              "      <td>...</td>\n",
              "    </tr>\n",
              "    <tr>\n",
              "      <th>4617</th>\n",
              "      <td>Steak Burrito</td>\n",
              "      <td>$11.75</td>\n",
              "    </tr>\n",
              "    <tr>\n",
              "      <th>4618</th>\n",
              "      <td>Steak Burrito</td>\n",
              "      <td>$11.75</td>\n",
              "    </tr>\n",
              "    <tr>\n",
              "      <th>4619</th>\n",
              "      <td>Chicken Salad Bowl</td>\n",
              "      <td>$11.25</td>\n",
              "    </tr>\n",
              "    <tr>\n",
              "      <th>4620</th>\n",
              "      <td>Chicken Salad Bowl</td>\n",
              "      <td>$8.75</td>\n",
              "    </tr>\n",
              "    <tr>\n",
              "      <th>4621</th>\n",
              "      <td>Chicken Salad Bowl</td>\n",
              "      <td>$8.75</td>\n",
              "    </tr>\n",
              "  </tbody>\n",
              "</table>\n",
              "<p>4622 rows × 2 columns</p>\n",
              "</div>"
            ],
            "text/plain": [
              "                                  item_name item_price\n",
              "0              Chips and Fresh Tomato Salsa     $2.39 \n",
              "1                                      Izze     $3.39 \n",
              "2                          Nantucket Nectar     $3.39 \n",
              "3     Chips and Tomatillo-Green Chili Salsa     $2.39 \n",
              "4                              Chicken Bowl    $16.98 \n",
              "...                                     ...        ...\n",
              "4617                          Steak Burrito    $11.75 \n",
              "4618                          Steak Burrito    $11.75 \n",
              "4619                     Chicken Salad Bowl    $11.25 \n",
              "4620                     Chicken Salad Bowl     $8.75 \n",
              "4621                     Chicken Salad Bowl     $8.75 \n",
              "\n",
              "[4622 rows x 2 columns]"
            ]
          },
          "execution_count": 29,
          "metadata": {},
          "output_type": "execute_result"
        }
      ],
      "source": [
        "data2 = pd.read_csv('items.csv')\n",
        "data2"
      ]
    },
    {
      "cell_type": "code",
      "execution_count": 30,
      "metadata": {
        "id": "1xaWkoMJZFNK"
      },
      "outputs": [
        {
          "data": {
            "application/vnd.microsoft.datawrangler.viewer.v0+json": {
              "columns": [
                {
                  "name": "item_name",
                  "rawType": "object",
                  "type": "string"
                },
                {
                  "name": "item_price",
                  "rawType": "object",
                  "type": "unknown"
                }
              ],
              "ref": "ae13765f-7a8f-44a2-bac1-73f921951ad2",
              "rows": [
                [
                  "Chips and Fresh Tomato Salsa",
                  "$2.39 "
                ],
                [
                  "Izze",
                  "$3.39 "
                ],
                [
                  "Nantucket Nectar",
                  "$3.39 "
                ],
                [
                  "Chips and Tomatillo-Green Chili Salsa",
                  "$2.39 "
                ],
                [
                  "Chicken Bowl",
                  "$16.98 "
                ],
                [
                  "Chicken Bowl",
                  "$10.98 "
                ],
                [
                  "Side of Chips",
                  null
                ],
                [
                  "Steak Burrito",
                  "$11.75 "
                ],
                [
                  "Steak Soft Tacos",
                  null
                ],
                [
                  "Steak Burrito",
                  "$9.25 "
                ],
                [
                  "Chips and Guacamole",
                  "$4.45 "
                ],
                [
                  "Chicken Crispy Tacos",
                  "$8.75 "
                ],
                [
                  "Chicken Soft Tacos",
                  "$8.75 "
                ],
                [
                  "Chicken Bowl",
                  "$11.25 "
                ],
                [
                  "Chips and Guacamole",
                  "$4.45 "
                ],
                [
                  "Chips and Tomatillo-Green Chili Salsa",
                  "$2.39 "
                ],
                [
                  "Chicken Burrito",
                  "$8.49 "
                ],
                [
                  "Chicken Burrito",
                  "$8.49 "
                ],
                [
                  "Canned Soda",
                  "$2.18 "
                ],
                [
                  "Chicken Bowl",
                  "$8.75 "
                ],
                [
                  "Chips and Guacamole",
                  "$4.45 "
                ],
                [
                  "Barbacoa Burrito",
                  "$8.99 "
                ],
                [
                  "Nantucket Nectar",
                  "$3.39 "
                ],
                [
                  "Chicken Burrito",
                  "$10.98 "
                ],
                [
                  "Izze",
                  "$3.39 "
                ],
                [
                  "Chips and Fresh Tomato Salsa",
                  "$2.39 "
                ],
                [
                  "Chicken Bowl",
                  "$8.49 "
                ],
                [
                  "Carnitas Burrito",
                  "$8.99 "
                ],
                [
                  "Canned Soda",
                  "$1.09 "
                ],
                [
                  "Chicken Burrito",
                  "$8.49 "
                ],
                [
                  "Chips and Tomatillo-Green Chili Salsa",
                  "$2.39 "
                ],
                [
                  "Steak Burrito",
                  "$8.99 "
                ],
                [
                  "Side of Chips",
                  "$1.69 "
                ],
                [
                  "Carnitas Bowl",
                  "$8.99 "
                ],
                [
                  "Bottled Water",
                  "$1.09 "
                ],
                [
                  "Chicken Soft Tacos",
                  "$8.75 "
                ],
                [
                  "Chicken Soft Tacos",
                  "$8.75 "
                ],
                [
                  "Chips and Guacamole",
                  "$4.45 "
                ],
                [
                  "Chips and Tomatillo Green Chili Salsa",
                  "$2.95 "
                ],
                [
                  "Barbacoa Bowl",
                  "$11.75 "
                ],
                [
                  "Chips",
                  null
                ],
                [
                  "Chips and Guacamole",
                  "$4.45 "
                ],
                [
                  "Chicken Bowl",
                  "$11.25 "
                ],
                [
                  "Steak Burrito",
                  "$11.75 "
                ],
                [
                  "Chicken Salad Bowl",
                  "$8.75 "
                ],
                [
                  "Chicken Burrito",
                  "$10.98 "
                ],
                [
                  "Steak Burrito",
                  "$8.99 "
                ],
                [
                  "Izze",
                  "$3.39 "
                ],
                [
                  "Steak Burrito",
                  "$8.99 "
                ],
                [
                  "Chips and Guacamole",
                  "$3.99 "
                ]
              ],
              "shape": {
                "columns": 1,
                "rows": 4622
              }
            },
            "text/plain": [
              "item_name\n",
              "Chips and Fresh Tomato Salsa              $2.39 \n",
              "Izze                                      $3.39 \n",
              "Nantucket Nectar                          $3.39 \n",
              "Chips and Tomatillo-Green Chili Salsa     $2.39 \n",
              "Chicken Bowl                             $16.98 \n",
              "                                          ...   \n",
              "Steak Burrito                            $11.75 \n",
              "Steak Burrito                            $11.75 \n",
              "Chicken Salad Bowl                       $11.25 \n",
              "Chicken Salad Bowl                        $8.75 \n",
              "Chicken Salad Bowl                        $8.75 \n",
              "Name: item_price, Length: 4622, dtype: object"
            ]
          },
          "execution_count": 30,
          "metadata": {},
          "output_type": "execute_result"
        }
      ],
      "source": [
        "# code here\n",
        "\n",
        "data2= pd.read_csv(\"items.csv\", index_col = ['item_name']).squeeze(\"columns\")\n",
        "data2"
      ]
    },
    {
      "cell_type": "code",
      "execution_count": 32,
      "metadata": {},
      "outputs": [
        {
          "name": "stdout",
          "output_type": "stream",
          "text": [
            "50\n"
          ]
        }
      ],
      "source": [
        "print(data2.isnull().sum())"
      ]
    },
    {
      "cell_type": "code",
      "execution_count": 39,
      "metadata": {},
      "outputs": [
        {
          "data": {
            "application/vnd.microsoft.datawrangler.viewer.v0+json": {
              "columns": [
                {
                  "name": "item_name",
                  "rawType": "object",
                  "type": "string"
                },
                {
                  "name": "item_price",
                  "rawType": "float64",
                  "type": "float"
                }
              ],
              "ref": "d3dcbdb1-78d5-4b52-a11e-361dc2a221bc",
              "rows": [
                [
                  "Chips and Fresh Tomato Salsa",
                  "212.04080000000002"
                ],
                [
                  "Izze",
                  "300.7608"
                ],
                [
                  "Nantucket Nectar",
                  "300.7608"
                ],
                [
                  "Chips and Tomatillo-Green Chili Salsa",
                  "212.04080000000002"
                ],
                [
                  "Chicken Bowl",
                  "1506.4656"
                ],
                [
                  "Chicken Bowl",
                  "974.1456000000001"
                ],
                [
                  "Side of Chips",
                  null
                ],
                [
                  "Steak Burrito",
                  "1042.46"
                ],
                [
                  "Steak Soft Tacos",
                  null
                ],
                [
                  "Steak Burrito",
                  "820.66"
                ],
                [
                  "Chips and Guacamole",
                  "394.80400000000003"
                ],
                [
                  "Chicken Crispy Tacos",
                  "776.3"
                ],
                [
                  "Chicken Soft Tacos",
                  "776.3"
                ],
                [
                  "Chicken Bowl",
                  "998.1"
                ],
                [
                  "Chips and Guacamole",
                  "394.80400000000003"
                ],
                [
                  "Chips and Tomatillo-Green Chili Salsa",
                  "212.04080000000002"
                ],
                [
                  "Chicken Burrito",
                  "753.2328"
                ],
                [
                  "Chicken Burrito",
                  "753.2328"
                ],
                [
                  "Canned Soda",
                  "193.4096"
                ],
                [
                  "Chicken Bowl",
                  "776.3"
                ],
                [
                  "Chips and Guacamole",
                  "394.80400000000003"
                ],
                [
                  "Barbacoa Burrito",
                  "797.5928"
                ],
                [
                  "Nantucket Nectar",
                  "300.7608"
                ],
                [
                  "Chicken Burrito",
                  "974.1456000000001"
                ],
                [
                  "Izze",
                  "300.7608"
                ],
                [
                  "Chips and Fresh Tomato Salsa",
                  "212.04080000000002"
                ],
                [
                  "Chicken Bowl",
                  "753.2328"
                ],
                [
                  "Carnitas Burrito",
                  "797.5928"
                ],
                [
                  "Canned Soda",
                  "96.7048"
                ],
                [
                  "Chicken Burrito",
                  "753.2328"
                ],
                [
                  "Chips and Tomatillo-Green Chili Salsa",
                  "212.04080000000002"
                ],
                [
                  "Steak Burrito",
                  "797.5928"
                ],
                [
                  "Side of Chips",
                  "149.9368"
                ],
                [
                  "Carnitas Bowl",
                  "797.5928"
                ],
                [
                  "Bottled Water",
                  "96.7048"
                ],
                [
                  "Chicken Soft Tacos",
                  "776.3"
                ],
                [
                  "Chicken Soft Tacos",
                  "776.3"
                ],
                [
                  "Chips and Guacamole",
                  "394.80400000000003"
                ],
                [
                  "Chips and Tomatillo Green Chili Salsa",
                  "261.724"
                ],
                [
                  "Barbacoa Bowl",
                  "1042.46"
                ],
                [
                  "Chips",
                  null
                ],
                [
                  "Chips and Guacamole",
                  "394.80400000000003"
                ],
                [
                  "Chicken Bowl",
                  "998.1"
                ],
                [
                  "Steak Burrito",
                  "1042.46"
                ],
                [
                  "Chicken Salad Bowl",
                  "776.3"
                ],
                [
                  "Chicken Burrito",
                  "974.1456000000001"
                ],
                [
                  "Steak Burrito",
                  "797.5928"
                ],
                [
                  "Izze",
                  "300.7608"
                ],
                [
                  "Steak Burrito",
                  "797.5928"
                ],
                [
                  "Chips and Guacamole",
                  "353.9928"
                ]
              ],
              "shape": {
                "columns": 1,
                "rows": 4622
              }
            },
            "text/plain": [
              "item_name\n",
              "Chips and Fresh Tomato Salsa              212.0408\n",
              "Izze                                      300.7608\n",
              "Nantucket Nectar                          300.7608\n",
              "Chips and Tomatillo-Green Chili Salsa     212.0408\n",
              "Chicken Bowl                             1506.4656\n",
              "                                           ...    \n",
              "Steak Burrito                            1042.4600\n",
              "Steak Burrito                            1042.4600\n",
              "Chicken Salad Bowl                        998.1000\n",
              "Chicken Salad Bowl                        776.3000\n",
              "Chicken Salad Bowl                        776.3000\n",
              "Name: item_price, Length: 4622, dtype: float64"
            ]
          },
          "execution_count": 39,
          "metadata": {},
          "output_type": "execute_result"
        }
      ],
      "source": [
        "def rupees(x):\n",
        "    try:\n",
        "        y = x[1:]\n",
        "    except:\n",
        "        # Sometimes Dollar sign is not there which throws an exception \n",
        "        y = x\n",
        "    return float(y)*88.72\n",
        "\n",
        "data2.apply(rupees)"
      ]
    },
    {
      "cell_type": "code",
      "execution_count": 42,
      "metadata": {},
      "outputs": [
        {
          "data": {
            "application/vnd.microsoft.datawrangler.viewer.v0+json": {
              "columns": [
                {
                  "name": "item_name",
                  "rawType": "object",
                  "type": "string"
                },
                {
                  "name": "item_price",
                  "rawType": "float64",
                  "type": "float"
                }
              ],
              "ref": "7caa5733-fd4c-4f58-b1d3-b099f7ed0b00",
              "rows": [
                [
                  "Chips and Fresh Tomato Salsa",
                  "212.04080000000002"
                ],
                [
                  "Izze",
                  "300.7608"
                ],
                [
                  "Nantucket Nectar",
                  "300.7608"
                ],
                [
                  "Chips and Tomatillo-Green Chili Salsa",
                  "212.04080000000002"
                ],
                [
                  "Chicken Bowl",
                  "1506.4656"
                ],
                [
                  "Chicken Bowl",
                  "974.1456000000001"
                ],
                [
                  "Side of Chips",
                  null
                ],
                [
                  "Steak Burrito",
                  "1042.46"
                ],
                [
                  "Steak Soft Tacos",
                  null
                ],
                [
                  "Steak Burrito",
                  "820.66"
                ],
                [
                  "Chips and Guacamole",
                  "394.80400000000003"
                ],
                [
                  "Chicken Crispy Tacos",
                  "776.3"
                ],
                [
                  "Chicken Soft Tacos",
                  "776.3"
                ],
                [
                  "Chicken Bowl",
                  "998.1"
                ],
                [
                  "Chips and Guacamole",
                  "394.80400000000003"
                ],
                [
                  "Chips and Tomatillo-Green Chili Salsa",
                  "212.04080000000002"
                ],
                [
                  "Chicken Burrito",
                  "753.2328"
                ],
                [
                  "Chicken Burrito",
                  "753.2328"
                ],
                [
                  "Canned Soda",
                  "193.4096"
                ],
                [
                  "Chicken Bowl",
                  "776.3"
                ],
                [
                  "Chips and Guacamole",
                  "394.80400000000003"
                ],
                [
                  "Barbacoa Burrito",
                  "797.5928"
                ],
                [
                  "Nantucket Nectar",
                  "300.7608"
                ],
                [
                  "Chicken Burrito",
                  "974.1456000000001"
                ],
                [
                  "Izze",
                  "300.7608"
                ],
                [
                  "Chips and Fresh Tomato Salsa",
                  "212.04080000000002"
                ],
                [
                  "Chicken Bowl",
                  "753.2328"
                ],
                [
                  "Carnitas Burrito",
                  "797.5928"
                ],
                [
                  "Canned Soda",
                  "96.7048"
                ],
                [
                  "Chicken Burrito",
                  "753.2328"
                ],
                [
                  "Chips and Tomatillo-Green Chili Salsa",
                  "212.04080000000002"
                ],
                [
                  "Steak Burrito",
                  "797.5928"
                ],
                [
                  "Side of Chips",
                  "149.9368"
                ],
                [
                  "Carnitas Bowl",
                  "797.5928"
                ],
                [
                  "Bottled Water",
                  "96.7048"
                ],
                [
                  "Chicken Soft Tacos",
                  "776.3"
                ],
                [
                  "Chicken Soft Tacos",
                  "776.3"
                ],
                [
                  "Chips and Guacamole",
                  "394.80400000000003"
                ],
                [
                  "Chips and Tomatillo Green Chili Salsa",
                  "261.724"
                ],
                [
                  "Barbacoa Bowl",
                  "1042.46"
                ],
                [
                  "Chips",
                  null
                ],
                [
                  "Chips and Guacamole",
                  "394.80400000000003"
                ],
                [
                  "Chicken Bowl",
                  "998.1"
                ],
                [
                  "Steak Burrito",
                  "1042.46"
                ],
                [
                  "Chicken Salad Bowl",
                  "776.3"
                ],
                [
                  "Chicken Burrito",
                  "974.1456000000001"
                ],
                [
                  "Steak Burrito",
                  "797.5928"
                ],
                [
                  "Izze",
                  "300.7608"
                ],
                [
                  "Steak Burrito",
                  "797.5928"
                ],
                [
                  "Chips and Guacamole",
                  "353.9928"
                ]
              ],
              "shape": {
                "columns": 1,
                "rows": 4622
              }
            },
            "text/plain": [
              "item_name\n",
              "Chips and Fresh Tomato Salsa              212.0408\n",
              "Izze                                      300.7608\n",
              "Nantucket Nectar                          300.7608\n",
              "Chips and Tomatillo-Green Chili Salsa     212.0408\n",
              "Chicken Bowl                             1506.4656\n",
              "                                           ...    \n",
              "Steak Burrito                            1042.4600\n",
              "Steak Burrito                            1042.4600\n",
              "Chicken Salad Bowl                        998.1000\n",
              "Chicken Salad Bowl                        776.3000\n",
              "Chicken Salad Bowl                        776.3000\n",
              "Name: item_price, Length: 4622, dtype: float64"
            ]
          },
          "execution_count": 42,
          "metadata": {},
          "output_type": "execute_result"
        }
      ],
      "source": [
        "items = data2.apply(rupees)\n",
        "items"
      ]
    },
    {
      "cell_type": "code",
      "execution_count": null,
      "metadata": {},
      "outputs": [
        {
          "data": {
            "application/vnd.microsoft.datawrangler.viewer.v0+json": {
              "columns": [
                {
                  "name": "item_name",
                  "rawType": "object",
                  "type": "string"
                },
                {
                  "name": "item_price",
                  "rawType": "float64",
                  "type": "float"
                }
              ],
              "ref": "926ae5a1-2ae6-480d-a518-0c99e829abc2",
              "rows": [
                [
                  "Chips and Fresh Tomato Salsa",
                  "212.04080000000002"
                ],
                [
                  "Izze",
                  "300.7608"
                ],
                [
                  "Nantucket Nectar",
                  "300.7608"
                ],
                [
                  "Chips and Tomatillo-Green Chili Salsa",
                  "212.04080000000002"
                ],
                [
                  "Chicken Bowl",
                  "1506.4656"
                ],
                [
                  "Chicken Bowl",
                  "974.1456000000001"
                ],
                [
                  "Side of Chips",
                  null
                ],
                [
                  "Steak Burrito",
                  "1042.46"
                ],
                [
                  "Steak Soft Tacos",
                  null
                ],
                [
                  "Steak Burrito",
                  "820.66"
                ],
                [
                  "Chips and Guacamole",
                  "394.80400000000003"
                ],
                [
                  "Chicken Crispy Tacos",
                  "776.3"
                ],
                [
                  "Chicken Soft Tacos",
                  "776.3"
                ],
                [
                  "Chicken Bowl",
                  "998.1"
                ],
                [
                  "Chips and Guacamole",
                  "394.80400000000003"
                ],
                [
                  "Chips and Tomatillo-Green Chili Salsa",
                  "212.04080000000002"
                ],
                [
                  "Chicken Burrito",
                  "753.2328"
                ],
                [
                  "Chicken Burrito",
                  "753.2328"
                ],
                [
                  "Canned Soda",
                  "193.4096"
                ],
                [
                  "Chicken Bowl",
                  "776.3"
                ],
                [
                  "Chips and Guacamole",
                  "394.80400000000003"
                ],
                [
                  "Barbacoa Burrito",
                  "797.5928"
                ],
                [
                  "Nantucket Nectar",
                  "300.7608"
                ],
                [
                  "Chicken Burrito",
                  "974.1456000000001"
                ],
                [
                  "Izze",
                  "300.7608"
                ],
                [
                  "Chips and Fresh Tomato Salsa",
                  "212.04080000000002"
                ],
                [
                  "Chicken Bowl",
                  "753.2328"
                ],
                [
                  "Carnitas Burrito",
                  "797.5928"
                ],
                [
                  "Canned Soda",
                  "96.7048"
                ],
                [
                  "Chicken Burrito",
                  "753.2328"
                ],
                [
                  "Chips and Tomatillo-Green Chili Salsa",
                  "212.04080000000002"
                ],
                [
                  "Steak Burrito",
                  "797.5928"
                ],
                [
                  "Side of Chips",
                  "149.9368"
                ],
                [
                  "Carnitas Bowl",
                  "797.5928"
                ],
                [
                  "Bottled Water",
                  "96.7048"
                ],
                [
                  "Chicken Soft Tacos",
                  "776.3"
                ],
                [
                  "Chicken Soft Tacos",
                  "776.3"
                ],
                [
                  "Chips and Guacamole",
                  "394.80400000000003"
                ],
                [
                  "Chips and Tomatillo Green Chili Salsa",
                  "261.724"
                ],
                [
                  "Barbacoa Bowl",
                  "1042.46"
                ],
                [
                  "Chips",
                  null
                ],
                [
                  "Chips and Guacamole",
                  "394.80400000000003"
                ],
                [
                  "Chicken Bowl",
                  "998.1"
                ],
                [
                  "Steak Burrito",
                  "1042.46"
                ],
                [
                  "Chicken Salad Bowl",
                  "776.3"
                ],
                [
                  "Chicken Burrito",
                  "974.1456000000001"
                ],
                [
                  "Steak Burrito",
                  "797.5928"
                ],
                [
                  "Izze",
                  "300.7608"
                ],
                [
                  "Steak Burrito",
                  "797.5928"
                ],
                [
                  "Chips and Guacamole",
                  "353.9928"
                ]
              ],
              "shape": {
                "columns": 1,
                "rows": 4622
              }
            },
            "text/plain": [
              "item_name\n",
              "Chips and Fresh Tomato Salsa              212.0408\n",
              "Izze                                      300.7608\n",
              "Nantucket Nectar                          300.7608\n",
              "Chips and Tomatillo-Green Chili Salsa     212.0408\n",
              "Chicken Bowl                             1506.4656\n",
              "                                           ...    \n",
              "Steak Burrito                            1042.4600\n",
              "Steak Burrito                            1042.4600\n",
              "Chicken Salad Bowl                        998.1000\n",
              "Chicken Salad Bowl                        776.3000\n",
              "Chicken Salad Bowl                        776.3000\n",
              "Name: item_price, Length: 4622, dtype: float64"
            ]
          },
          "execution_count": 43,
          "metadata": {},
          "output_type": "execute_result"
        }
      ],
      "source": [
        "items.astype('float')\n"
      ]
    },
    {
      "cell_type": "code",
      "execution_count": 44,
      "metadata": {},
      "outputs": [
        {
          "name": "stdout",
          "output_type": "stream",
          "text": [
            "<class 'pandas.core.series.Series'>\n",
            "Index: 4622 entries, Chips and Fresh Tomato Salsa to Chicken Salad Bowl\n",
            "Series name: item_price\n",
            "Non-Null Count  Dtype  \n",
            "--------------  -----  \n",
            "4572 non-null   float64\n",
            "dtypes: float64(1)\n",
            "memory usage: 201.3+ KB\n"
          ]
        }
      ],
      "source": [
        "items.info()"
      ]
    },
    {
      "cell_type": "code",
      "execution_count": 50,
      "metadata": {},
      "outputs": [],
      "source": [
        "df = items.fillna(items.mean())"
      ]
    },
    {
      "cell_type": "code",
      "execution_count": 51,
      "metadata": {},
      "outputs": [
        {
          "name": "stdout",
          "output_type": "stream",
          "text": [
            "0\n"
          ]
        }
      ],
      "source": [
        "print(df.isna().sum())"
      ]
    },
    {
      "cell_type": "code",
      "execution_count": 54,
      "metadata": {},
      "outputs": [
        {
          "data": {
            "application/vnd.microsoft.datawrangler.viewer.v0+json": {
              "columns": [
                {
                  "name": "item_name",
                  "rawType": "object",
                  "type": "string"
                },
                {
                  "name": "item_price",
                  "rawType": "float64",
                  "type": "float"
                }
              ],
              "ref": "cafb4380-2f15-473d-8199-eee929d9919d",
              "rows": [
                [
                  "Chips and Fresh Tomato Salsa",
                  "212.04080000000002"
                ],
                [
                  "Izze",
                  "300.7608"
                ],
                [
                  "Nantucket Nectar",
                  "300.7608"
                ],
                [
                  "Chips and Tomatillo-Green Chili Salsa",
                  "212.04080000000002"
                ],
                [
                  "Chicken Bowl",
                  "1506.4656"
                ],
                [
                  "Chicken Bowl",
                  "974.1456000000001"
                ],
                [
                  "Side of Chips",
                  "662.1201543307087"
                ],
                [
                  "Steak Burrito",
                  "1042.46"
                ],
                [
                  "Steak Soft Tacos",
                  "662.1201543307087"
                ],
                [
                  "Steak Burrito",
                  "820.66"
                ],
                [
                  "Chips and Guacamole",
                  "394.80400000000003"
                ],
                [
                  "Chicken Crispy Tacos",
                  "776.3"
                ],
                [
                  "Chicken Soft Tacos",
                  "776.3"
                ],
                [
                  "Chicken Bowl",
                  "998.1"
                ],
                [
                  "Chips and Guacamole",
                  "394.80400000000003"
                ],
                [
                  "Chips and Tomatillo-Green Chili Salsa",
                  "212.04080000000002"
                ],
                [
                  "Chicken Burrito",
                  "753.2328"
                ],
                [
                  "Chicken Burrito",
                  "753.2328"
                ],
                [
                  "Canned Soda",
                  "193.4096"
                ],
                [
                  "Chicken Bowl",
                  "776.3"
                ],
                [
                  "Chips and Guacamole",
                  "394.80400000000003"
                ],
                [
                  "Barbacoa Burrito",
                  "797.5928"
                ],
                [
                  "Nantucket Nectar",
                  "300.7608"
                ],
                [
                  "Chicken Burrito",
                  "974.1456000000001"
                ],
                [
                  "Izze",
                  "300.7608"
                ],
                [
                  "Chips and Fresh Tomato Salsa",
                  "212.04080000000002"
                ],
                [
                  "Chicken Bowl",
                  "753.2328"
                ],
                [
                  "Carnitas Burrito",
                  "797.5928"
                ],
                [
                  "Canned Soda",
                  "96.7048"
                ],
                [
                  "Chicken Burrito",
                  "753.2328"
                ],
                [
                  "Chips and Tomatillo-Green Chili Salsa",
                  "212.04080000000002"
                ],
                [
                  "Steak Burrito",
                  "797.5928"
                ],
                [
                  "Side of Chips",
                  "149.9368"
                ],
                [
                  "Carnitas Bowl",
                  "797.5928"
                ],
                [
                  "Bottled Water",
                  "96.7048"
                ],
                [
                  "Chicken Soft Tacos",
                  "776.3"
                ],
                [
                  "Chicken Soft Tacos",
                  "776.3"
                ],
                [
                  "Chips and Guacamole",
                  "394.80400000000003"
                ],
                [
                  "Chips and Tomatillo Green Chili Salsa",
                  "261.724"
                ],
                [
                  "Barbacoa Bowl",
                  "1042.46"
                ],
                [
                  "Chips",
                  "662.1201543307087"
                ],
                [
                  "Chips and Guacamole",
                  "394.80400000000003"
                ],
                [
                  "Chicken Bowl",
                  "998.1"
                ],
                [
                  "Steak Burrito",
                  "1042.46"
                ],
                [
                  "Chicken Salad Bowl",
                  "776.3"
                ],
                [
                  "Chicken Burrito",
                  "974.1456000000001"
                ],
                [
                  "Steak Burrito",
                  "797.5928"
                ],
                [
                  "Izze",
                  "300.7608"
                ],
                [
                  "Steak Burrito",
                  "797.5928"
                ],
                [
                  "Chips and Guacamole",
                  "353.9928"
                ]
              ],
              "shape": {
                "columns": 1,
                "rows": 4622
              }
            },
            "text/plain": [
              "item_name\n",
              "Chips and Fresh Tomato Salsa              212.0408\n",
              "Izze                                      300.7608\n",
              "Nantucket Nectar                          300.7608\n",
              "Chips and Tomatillo-Green Chili Salsa     212.0408\n",
              "Chicken Bowl                             1506.4656\n",
              "                                           ...    \n",
              "Steak Burrito                            1042.4600\n",
              "Steak Burrito                            1042.4600\n",
              "Chicken Salad Bowl                        998.1000\n",
              "Chicken Salad Bowl                        776.3000\n",
              "Chicken Salad Bowl                        776.3000\n",
              "Name: item_price, Length: 4622, dtype: float64"
            ]
          },
          "execution_count": 54,
          "metadata": {},
          "output_type": "execute_result"
        }
      ],
      "source": [
        "df"
      ]
    },
    {
      "cell_type": "code",
      "execution_count": null,
      "metadata": {},
      "outputs": [],
      "source": [
        "# i. Read CSV file making 'item_name' as index\n",
        "df = pd.read_csv('items.csv', index_col='item_name')\n",
        "\n",
        "# ii. Show number of NaN values\n",
        "print(\"NaN values in each column:\\n\", df.isna().sum())\n",
        "\n",
        "# iii. Convert item price from $ to rupees (assume 1 USD = 83 INR)\n",
        "# remove '$' and convert to float\n",
        "df['item_price'] = df['item_price'].str.replace('$', '').astype(float) * 83\n",
        "\n",
        "# iv. Fill NaN with mean of the series\n",
        "df['item_price'].fillna(df['item_price'].mean(), inplace=True)\n",
        "\n",
        "print(df.head())\n"
      ]
    },
    {
      "cell_type": "markdown",
      "metadata": {
        "id": "UHc_4e9cZK8r"
      },
      "source": [
        "##### `Q-9`:\n",
        "    i. Find mean price\n",
        "    ii. Find 30th and 6th percentile value\n",
        "    iii. Plot Histogram on price with bin size 50\n",
        "    iv. No of items price lies between [1000 to 2000]\n",
        "\n"
      ]
    },
    {
      "cell_type": "code",
      "execution_count": 55,
      "metadata": {
        "id": "Eh3xX9FpZNmE"
      },
      "outputs": [
        {
          "name": "stdout",
          "output_type": "stream",
          "text": [
            "662.1201543307086\n"
          ]
        }
      ],
      "source": [
        "# code here\n",
        "print(df.mean())"
      ]
    },
    {
      "cell_type": "code",
      "execution_count": 57,
      "metadata": {},
      "outputs": [
        {
          "name": "stdout",
          "output_type": "stream",
          "text": [
            "0.25    345.1208\n",
            "0.30    394.8040\n",
            "0.06    110.9000\n",
            "Name: item_price, dtype: float64\n"
          ]
        }
      ],
      "source": [
        "print(df.quantile([0.25, 0.3, 0.06]))"
      ]
    },
    {
      "cell_type": "code",
      "execution_count": 58,
      "metadata": {},
      "outputs": [
        {
          "data": {
            "text/plain": [
              "<Axes: ylabel='Frequency'>"
            ]
          },
          "execution_count": 58,
          "metadata": {},
          "output_type": "execute_result"
        },
        {
          "data": {
            "image/png": "[encoded data removed]",
            "text/plain": [
              "<Figure size 640x480 with 1 Axes>"
            ]
          },
          "metadata": {},
          "output_type": "display_data"
        }
      ],
      "source": [
        "df.plot.hist(bins= 50)"
      ]
    },
    {
      "cell_type": "code",
      "execution_count": 60,
      "metadata": {},
      "outputs": [
        {
          "data": {
            "application/vnd.microsoft.datawrangler.viewer.v0+json": {
              "columns": [
                {
                  "name": "item_name",
                  "rawType": "object",
                  "type": "string"
                },
                {
                  "name": "item_price",
                  "rawType": "float64",
                  "type": "float"
                }
              ],
              "ref": "3641cc45-7c4f-41f6-9917-e89e92223c9d",
              "rows": [
                [
                  "Chicken Bowl",
                  "1506.4656"
                ],
                [
                  "Steak Burrito",
                  "1042.46"
                ],
                [
                  "Barbacoa Bowl",
                  "1042.46"
                ],
                [
                  "Steak Burrito",
                  "1042.46"
                ],
                [
                  "Barbacoa Bowl",
                  "1042.46"
                ],
                [
                  "Steak Bowl",
                  "1042.46"
                ],
                [
                  "Steak Bowl",
                  "1042.46"
                ],
                [
                  "Carnitas Burrito",
                  "1042.46"
                ],
                [
                  "Carnitas Bowl",
                  "1042.46"
                ],
                [
                  "Barbacoa Burrito",
                  "1042.46"
                ],
                [
                  "Chicken Salad Bowl",
                  "1996.2"
                ],
                [
                  "Barbacoa Bowl",
                  "1042.46"
                ],
                [
                  "Barbacoa Burrito",
                  "1042.46"
                ],
                [
                  "Steak Burrito",
                  "1018.5056000000001"
                ],
                [
                  "Steak Burrito",
                  "1595.1856"
                ],
                [
                  "Chicken Burrito",
                  "1552.6"
                ],
                [
                  "Chicken Bowl",
                  "1552.6"
                ],
                [
                  "Steak Burrito",
                  "1042.46"
                ],
                [
                  "Carnitas Bowl",
                  "1018.5056000000001"
                ],
                [
                  "Barbacoa Crispy Tacos",
                  "1042.46"
                ],
                [
                  "Steak Burrito",
                  "1018.5056000000001"
                ],
                [
                  "Steak Bowl",
                  "1018.5056000000001"
                ],
                [
                  "Chicken Salad Bowl",
                  "1996.2"
                ],
                [
                  "Steak Bowl",
                  "1042.46"
                ],
                [
                  "Chicken Crispy Tacos",
                  "1552.6"
                ],
                [
                  "Steak Burrito",
                  "1042.46"
                ],
                [
                  "Steak Burrito",
                  "1042.46"
                ],
                [
                  "Chicken Burrito",
                  "1552.6"
                ],
                [
                  "Steak Bowl",
                  "1042.46"
                ],
                [
                  "Chicken Bowl",
                  "1552.6"
                ],
                [
                  "Steak Burrito",
                  "1042.46"
                ],
                [
                  "Steak Burrito",
                  "1042.46"
                ],
                [
                  "Barbacoa Burrito",
                  "1042.46"
                ],
                [
                  "Steak Bowl",
                  "1042.46"
                ],
                [
                  "Steak Burrito",
                  "1966.0352"
                ],
                [
                  "Chicken Soft Tacos",
                  "1552.6"
                ],
                [
                  "Barbacoa Burrito",
                  "1042.46"
                ],
                [
                  "Steak Burrito",
                  "1042.46"
                ],
                [
                  "Steak Bowl",
                  "1042.46"
                ],
                [
                  "Steak Burrito",
                  "1042.46"
                ],
                [
                  "Steak Burrito",
                  "1042.46"
                ],
                [
                  "Steak Bowl",
                  "1018.5056000000001"
                ],
                [
                  "Chicken Bowl",
                  "1552.6"
                ],
                [
                  "Chicken Soft Tacos",
                  "1552.6"
                ],
                [
                  "Steak Bowl",
                  "1018.5056000000001"
                ],
                [
                  "Barbacoa Crispy Tacos",
                  "1018.5056000000001"
                ],
                [
                  "Bowl",
                  "1969.5839999999998"
                ],
                [
                  "Barbacoa Burrito",
                  "1042.46"
                ],
                [
                  "Carnitas Burrito",
                  "1042.46"
                ],
                [
                  "Barbacoa Bowl",
                  "1018.5056000000001"
                ]
              ],
              "shape": {
                "columns": 1,
                "rows": 469
              }
            },
            "text/plain": [
              "item_name\n",
              "Chicken Bowl     1506.4656\n",
              "Steak Burrito    1042.4600\n",
              "Barbacoa Bowl    1042.4600\n",
              "Steak Burrito    1042.4600\n",
              "Barbacoa Bowl    1042.4600\n",
              "                   ...    \n",
              "Barbacoa Bowl    1042.4600\n",
              "Steak Burrito    1042.4600\n",
              "Steak Burrito    1042.4600\n",
              "Steak Burrito    1042.4600\n",
              "Steak Burrito    1042.4600\n",
              "Name: item_price, Length: 469, dtype: float64"
            ]
          },
          "execution_count": 60,
          "metadata": {},
          "output_type": "execute_result"
        }
      ],
      "source": [
        "s = df[(df>1000) & (df<2000)]\n",
        "s"
      ]
    },
    {
      "cell_type": "code",
      "execution_count": 62,
      "metadata": {},
      "outputs": [
        {
          "name": "stdout",
          "output_type": "stream",
          "text": [
            "469\n"
          ]
        }
      ],
      "source": [
        "print(s.count())"
      ]
    },
    {
      "cell_type": "code",
      "execution_count": null,
      "metadata": {},
      "outputs": [],
      "source": []
    }
  ],
  "metadata": {
    "colab": {
      "provenance": []
    },
    "kernelspec": {
      "display_name": "base",
      "language": "python",
      "name": "python3"
    },
    "language_info": {
      "codemirror_mode": {
        "name": "ipython",
        "version": 3
      },
      "file_extension": ".py",
      "mimetype": "text/x-python",
      "name": "python",
      "nbconvert_exporter": "python",
      "pygments_lexer": "ipython3",
      "version": "3.13.5"
    }
  },
  "nbformat": 4,
  "nbformat_minor": 0
}
