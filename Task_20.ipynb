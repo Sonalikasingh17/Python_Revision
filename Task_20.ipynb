{
  "cells": [
    {
      "cell_type": "code",
      "execution_count": 1,
      "metadata": {
        "id": "tWO36cIgWlev"
      },
      "outputs": [],
      "source": [
        "import pandas as pd\n",
        "import numpy as np"
      ]
    },
    {
      "cell_type": "markdown",
      "metadata": {
        "id": "zMEk5SAYWqbG"
      },
      "source": [
        "DATA DESCRIPTION\n",
        "```\n",
        "file name -> Columns\n",
        "quater-i.csv -> ['order_id', 'quantity', 'item_id', 'choice_description_id' 'item_price']\n",
        "items.csv -> ['item_id', 'item_name']\n",
        "```\n",
        "Dataset Link - https://drive.google.com/drive/folders/1Z0kaFybvgFeczeUj4dldUnhTdloLqLsL?usp=share_link"
      ]
    },
    {
      "cell_type": "code",
      "execution_count": null,
      "metadata": {},
      "outputs": [],
      "source": [
        "# import like this\n",
        "items_path = \"/content/drive/MyDrive/DSMP/01 - Python/Daily Tasks/Week 7/data/items.csv\"\n",
        "q1_path = \"/content/drive/MyDrive/DSMP/01 - Python/Daily Tasks/Week 7/data/quarter-1.csv\"\n",
        "q2_path = \"/content/drive/MyDrive/DSMP/01 - Python/Daily Tasks/Week 7/data/quarter-2.csv\"\n",
        "q3_path = \"/content/drive/MyDrive/DSMP/01 - Python/Daily Tasks/Week 7/data/quarter-3.csv\"\n",
        "\n",
        "\n",
        "q1= pd.read_csv(q1_path)\n",
        "q2 = pd.read_csv(q2_path)\n",
        "q3 = pd.read_csv(q3_path)\n",
        "\n",
        "items = pd.read_csv(items_path)"
      ]
    },
    {
      "cell_type": "code",
      "execution_count": 3,
      "metadata": {},
      "outputs": [],
      "source": [
        "q1= pd.read_csv(\"quarter-1.csv\")\n",
        "q2 = pd.read_csv(\"quarter-2.csv\")\n",
        "q3 = pd.read_csv(\"quarter-3.csv\")\n",
        "\n",
        "items = pd.read_csv(\"items1.csv\")"
      ]
    },
    {
      "cell_type": "code",
      "execution_count": 4,
      "metadata": {},
      "outputs": [
        {
          "data": {
            "application/vnd.microsoft.datawrangler.viewer.v0+json": {
              "columns": [
                {
                  "name": "index",
                  "rawType": "int64",
                  "type": "integer"
                },
                {
                  "name": "item_id",
                  "rawType": "int64",
                  "type": "integer"
                },
                {
                  "name": "item_name",
                  "rawType": "object",
                  "type": "string"
                }
              ],
              "ref": "1a26c505-5fe5-4135-af98-828c8e1137c3",
              "rows": [
                [
                  "0",
                  "0",
                  "Chips and Fresh Tomato Salsa"
                ],
                [
                  "1",
                  "1",
                  "Izze"
                ],
                [
                  "2",
                  "2",
                  "Nantucket Nectar"
                ],
                [
                  "3",
                  "3",
                  "Chips and Tomatillo-Green Chili Salsa"
                ],
                [
                  "4",
                  "4",
                  "Chicken Bowl"
                ],
                [
                  "5",
                  "5",
                  "Side of Chips"
                ],
                [
                  "6",
                  "6",
                  "Steak Burrito"
                ],
                [
                  "7",
                  "7",
                  "Steak Soft Tacos"
                ],
                [
                  "8",
                  "8",
                  "Chips and Guacamole"
                ],
                [
                  "9",
                  "9",
                  "Chicken Crispy Tacos"
                ],
                [
                  "10",
                  "10",
                  "Chicken Soft Tacos"
                ],
                [
                  "11",
                  "11",
                  "Chicken Burrito"
                ],
                [
                  "12",
                  "12",
                  "Canned Soda"
                ],
                [
                  "13",
                  "13",
                  "Barbacoa Burrito"
                ],
                [
                  "14",
                  "14",
                  "Carnitas Burrito"
                ],
                [
                  "15",
                  "15",
                  "Carnitas Bowl"
                ],
                [
                  "16",
                  "16",
                  "Bottled Water"
                ],
                [
                  "17",
                  "17",
                  "Chips and Tomatillo Green Chili Salsa"
                ],
                [
                  "18",
                  "18",
                  "Barbacoa Bowl"
                ],
                [
                  "19",
                  "19",
                  "Chips"
                ],
                [
                  "20",
                  "20",
                  "Chicken Salad Bowl"
                ],
                [
                  "21",
                  "21",
                  "Steak Bowl"
                ],
                [
                  "22",
                  "22",
                  "Barbacoa Soft Tacos"
                ],
                [
                  "23",
                  "23",
                  "Veggie Burrito"
                ],
                [
                  "24",
                  "24",
                  "Veggie Bowl"
                ],
                [
                  "25",
                  "25",
                  "Steak Crispy Tacos"
                ],
                [
                  "26",
                  "26",
                  "Chips and Tomatillo Red Chili Salsa"
                ],
                [
                  "27",
                  "27",
                  "Barbacoa Crispy Tacos"
                ],
                [
                  "28",
                  "28",
                  "Veggie Salad Bowl"
                ],
                [
                  "29",
                  "29",
                  "Chips and Roasted Chili-Corn Salsa"
                ],
                [
                  "30",
                  "30",
                  "Chips and Roasted Chili Corn Salsa"
                ],
                [
                  "31",
                  "31",
                  "Carnitas Soft Tacos"
                ],
                [
                  "32",
                  "32",
                  "Chicken Salad"
                ],
                [
                  "33",
                  "33",
                  "Canned Soft Drink"
                ],
                [
                  "34",
                  "34",
                  "Steak Salad Bowl"
                ],
                [
                  "35",
                  "35",
                  "6 Pack Soft Drink"
                ],
                [
                  "36",
                  "36",
                  "Chips and Tomatillo-Red Chili Salsa"
                ],
                [
                  "37",
                  "37",
                  "Bowl"
                ],
                [
                  "38",
                  "38",
                  "Burrito"
                ],
                [
                  "39",
                  "39",
                  "Crispy Tacos"
                ],
                [
                  "40",
                  "40",
                  "Carnitas Crispy Tacos"
                ],
                [
                  "41",
                  "41",
                  "Steak Salad"
                ],
                [
                  "42",
                  "42",
                  "Chips and Mild Fresh Tomato Salsa"
                ],
                [
                  "43",
                  "43",
                  "Veggie Soft Tacos"
                ],
                [
                  "44",
                  "44",
                  "Carnitas Salad Bowl"
                ],
                [
                  "45",
                  "45",
                  "Barbacoa Salad Bowl"
                ],
                [
                  "46",
                  "46",
                  "Salad"
                ],
                [
                  "47",
                  "47",
                  "Veggie Crispy Tacos"
                ],
                [
                  "48",
                  "48",
                  "Veggie Salad"
                ],
                [
                  "49",
                  "49",
                  "Carnitas Salad"
                ]
              ],
              "shape": {
                "columns": 2,
                "rows": 50
              }
            },
            "text/html": [
              "<div>\n",
              "<style scoped>\n",
              "    .dataframe tbody tr th:only-of-type {\n",
              "        vertical-align: middle;\n",
              "    }\n",
              "\n",
              "    .dataframe tbody tr th {\n",
              "        vertical-align: top;\n",
              "    }\n",
              "\n",
              "    .dataframe thead th {\n",
              "        text-align: right;\n",
              "    }\n",
              "</style>\n",
              "<table border=\"1\" class=\"dataframe\">\n",
              "  <thead>\n",
              "    <tr style=\"text-align: right;\">\n",
              "      <th></th>\n",
              "      <th>item_id</th>\n",
              "      <th>item_name</th>\n",
              "    </tr>\n",
              "  </thead>\n",
              "  <tbody>\n",
              "    <tr>\n",
              "      <th>0</th>\n",
              "      <td>0</td>\n",
              "      <td>Chips and Fresh Tomato Salsa</td>\n",
              "    </tr>\n",
              "    <tr>\n",
              "      <th>1</th>\n",
              "      <td>1</td>\n",
              "      <td>Izze</td>\n",
              "    </tr>\n",
              "    <tr>\n",
              "      <th>2</th>\n",
              "      <td>2</td>\n",
              "      <td>Nantucket Nectar</td>\n",
              "    </tr>\n",
              "    <tr>\n",
              "      <th>3</th>\n",
              "      <td>3</td>\n",
              "      <td>Chips and Tomatillo-Green Chili Salsa</td>\n",
              "    </tr>\n",
              "    <tr>\n",
              "      <th>4</th>\n",
              "      <td>4</td>\n",
              "      <td>Chicken Bowl</td>\n",
              "    </tr>\n",
              "    <tr>\n",
              "      <th>5</th>\n",
              "      <td>5</td>\n",
              "      <td>Side of Chips</td>\n",
              "    </tr>\n",
              "    <tr>\n",
              "      <th>6</th>\n",
              "      <td>6</td>\n",
              "      <td>Steak Burrito</td>\n",
              "    </tr>\n",
              "    <tr>\n",
              "      <th>7</th>\n",
              "      <td>7</td>\n",
              "      <td>Steak Soft Tacos</td>\n",
              "    </tr>\n",
              "    <tr>\n",
              "      <th>8</th>\n",
              "      <td>8</td>\n",
              "      <td>Chips and Guacamole</td>\n",
              "    </tr>\n",
              "    <tr>\n",
              "      <th>9</th>\n",
              "      <td>9</td>\n",
              "      <td>Chicken Crispy Tacos</td>\n",
              "    </tr>\n",
              "    <tr>\n",
              "      <th>10</th>\n",
              "      <td>10</td>\n",
              "      <td>Chicken Soft Tacos</td>\n",
              "    </tr>\n",
              "    <tr>\n",
              "      <th>11</th>\n",
              "      <td>11</td>\n",
              "      <td>Chicken Burrito</td>\n",
              "    </tr>\n",
              "    <tr>\n",
              "      <th>12</th>\n",
              "      <td>12</td>\n",
              "      <td>Canned Soda</td>\n",
              "    </tr>\n",
              "    <tr>\n",
              "      <th>13</th>\n",
              "      <td>13</td>\n",
              "      <td>Barbacoa Burrito</td>\n",
              "    </tr>\n",
              "    <tr>\n",
              "      <th>14</th>\n",
              "      <td>14</td>\n",
              "      <td>Carnitas Burrito</td>\n",
              "    </tr>\n",
              "    <tr>\n",
              "      <th>15</th>\n",
              "      <td>15</td>\n",
              "      <td>Carnitas Bowl</td>\n",
              "    </tr>\n",
              "    <tr>\n",
              "      <th>16</th>\n",
              "      <td>16</td>\n",
              "      <td>Bottled Water</td>\n",
              "    </tr>\n",
              "    <tr>\n",
              "      <th>17</th>\n",
              "      <td>17</td>\n",
              "      <td>Chips and Tomatillo Green Chili Salsa</td>\n",
              "    </tr>\n",
              "    <tr>\n",
              "      <th>18</th>\n",
              "      <td>18</td>\n",
              "      <td>Barbacoa Bowl</td>\n",
              "    </tr>\n",
              "    <tr>\n",
              "      <th>19</th>\n",
              "      <td>19</td>\n",
              "      <td>Chips</td>\n",
              "    </tr>\n",
              "    <tr>\n",
              "      <th>20</th>\n",
              "      <td>20</td>\n",
              "      <td>Chicken Salad Bowl</td>\n",
              "    </tr>\n",
              "    <tr>\n",
              "      <th>21</th>\n",
              "      <td>21</td>\n",
              "      <td>Steak Bowl</td>\n",
              "    </tr>\n",
              "    <tr>\n",
              "      <th>22</th>\n",
              "      <td>22</td>\n",
              "      <td>Barbacoa Soft Tacos</td>\n",
              "    </tr>\n",
              "    <tr>\n",
              "      <th>23</th>\n",
              "      <td>23</td>\n",
              "      <td>Veggie Burrito</td>\n",
              "    </tr>\n",
              "    <tr>\n",
              "      <th>24</th>\n",
              "      <td>24</td>\n",
              "      <td>Veggie Bowl</td>\n",
              "    </tr>\n",
              "    <tr>\n",
              "      <th>25</th>\n",
              "      <td>25</td>\n",
              "      <td>Steak Crispy Tacos</td>\n",
              "    </tr>\n",
              "    <tr>\n",
              "      <th>26</th>\n",
              "      <td>26</td>\n",
              "      <td>Chips and Tomatillo Red Chili Salsa</td>\n",
              "    </tr>\n",
              "    <tr>\n",
              "      <th>27</th>\n",
              "      <td>27</td>\n",
              "      <td>Barbacoa Crispy Tacos</td>\n",
              "    </tr>\n",
              "    <tr>\n",
              "      <th>28</th>\n",
              "      <td>28</td>\n",
              "      <td>Veggie Salad Bowl</td>\n",
              "    </tr>\n",
              "    <tr>\n",
              "      <th>29</th>\n",
              "      <td>29</td>\n",
              "      <td>Chips and Roasted Chili-Corn Salsa</td>\n",
              "    </tr>\n",
              "    <tr>\n",
              "      <th>30</th>\n",
              "      <td>30</td>\n",
              "      <td>Chips and Roasted Chili Corn Salsa</td>\n",
              "    </tr>\n",
              "    <tr>\n",
              "      <th>31</th>\n",
              "      <td>31</td>\n",
              "      <td>Carnitas Soft Tacos</td>\n",
              "    </tr>\n",
              "    <tr>\n",
              "      <th>32</th>\n",
              "      <td>32</td>\n",
              "      <td>Chicken Salad</td>\n",
              "    </tr>\n",
              "    <tr>\n",
              "      <th>33</th>\n",
              "      <td>33</td>\n",
              "      <td>Canned Soft Drink</td>\n",
              "    </tr>\n",
              "    <tr>\n",
              "      <th>34</th>\n",
              "      <td>34</td>\n",
              "      <td>Steak Salad Bowl</td>\n",
              "    </tr>\n",
              "    <tr>\n",
              "      <th>35</th>\n",
              "      <td>35</td>\n",
              "      <td>6 Pack Soft Drink</td>\n",
              "    </tr>\n",
              "    <tr>\n",
              "      <th>36</th>\n",
              "      <td>36</td>\n",
              "      <td>Chips and Tomatillo-Red Chili Salsa</td>\n",
              "    </tr>\n",
              "    <tr>\n",
              "      <th>37</th>\n",
              "      <td>37</td>\n",
              "      <td>Bowl</td>\n",
              "    </tr>\n",
              "    <tr>\n",
              "      <th>38</th>\n",
              "      <td>38</td>\n",
              "      <td>Burrito</td>\n",
              "    </tr>\n",
              "    <tr>\n",
              "      <th>39</th>\n",
              "      <td>39</td>\n",
              "      <td>Crispy Tacos</td>\n",
              "    </tr>\n",
              "    <tr>\n",
              "      <th>40</th>\n",
              "      <td>40</td>\n",
              "      <td>Carnitas Crispy Tacos</td>\n",
              "    </tr>\n",
              "    <tr>\n",
              "      <th>41</th>\n",
              "      <td>41</td>\n",
              "      <td>Steak Salad</td>\n",
              "    </tr>\n",
              "    <tr>\n",
              "      <th>42</th>\n",
              "      <td>42</td>\n",
              "      <td>Chips and Mild Fresh Tomato Salsa</td>\n",
              "    </tr>\n",
              "    <tr>\n",
              "      <th>43</th>\n",
              "      <td>43</td>\n",
              "      <td>Veggie Soft Tacos</td>\n",
              "    </tr>\n",
              "    <tr>\n",
              "      <th>44</th>\n",
              "      <td>44</td>\n",
              "      <td>Carnitas Salad Bowl</td>\n",
              "    </tr>\n",
              "    <tr>\n",
              "      <th>45</th>\n",
              "      <td>45</td>\n",
              "      <td>Barbacoa Salad Bowl</td>\n",
              "    </tr>\n",
              "    <tr>\n",
              "      <th>46</th>\n",
              "      <td>46</td>\n",
              "      <td>Salad</td>\n",
              "    </tr>\n",
              "    <tr>\n",
              "      <th>47</th>\n",
              "      <td>47</td>\n",
              "      <td>Veggie Crispy Tacos</td>\n",
              "    </tr>\n",
              "    <tr>\n",
              "      <th>48</th>\n",
              "      <td>48</td>\n",
              "      <td>Veggie Salad</td>\n",
              "    </tr>\n",
              "    <tr>\n",
              "      <th>49</th>\n",
              "      <td>49</td>\n",
              "      <td>Carnitas Salad</td>\n",
              "    </tr>\n",
              "  </tbody>\n",
              "</table>\n",
              "</div>"
            ],
            "text/plain": [
              "    item_id                              item_name\n",
              "0         0           Chips and Fresh Tomato Salsa\n",
              "1         1                                   Izze\n",
              "2         2                       Nantucket Nectar\n",
              "3         3  Chips and Tomatillo-Green Chili Salsa\n",
              "4         4                           Chicken Bowl\n",
              "5         5                          Side of Chips\n",
              "6         6                          Steak Burrito\n",
              "7         7                       Steak Soft Tacos\n",
              "8         8                    Chips and Guacamole\n",
              "9         9                   Chicken Crispy Tacos\n",
              "10       10                     Chicken Soft Tacos\n",
              "11       11                        Chicken Burrito\n",
              "12       12                            Canned Soda\n",
              "13       13                       Barbacoa Burrito\n",
              "14       14                       Carnitas Burrito\n",
              "15       15                          Carnitas Bowl\n",
              "16       16                          Bottled Water\n",
              "17       17  Chips and Tomatillo Green Chili Salsa\n",
              "18       18                          Barbacoa Bowl\n",
              "19       19                                  Chips\n",
              "20       20                     Chicken Salad Bowl\n",
              "21       21                             Steak Bowl\n",
              "22       22                    Barbacoa Soft Tacos\n",
              "23       23                         Veggie Burrito\n",
              "24       24                            Veggie Bowl\n",
              "25       25                     Steak Crispy Tacos\n",
              "26       26    Chips and Tomatillo Red Chili Salsa\n",
              "27       27                  Barbacoa Crispy Tacos\n",
              "28       28                      Veggie Salad Bowl\n",
              "29       29     Chips and Roasted Chili-Corn Salsa\n",
              "30       30     Chips and Roasted Chili Corn Salsa\n",
              "31       31                    Carnitas Soft Tacos\n",
              "32       32                          Chicken Salad\n",
              "33       33                      Canned Soft Drink\n",
              "34       34                       Steak Salad Bowl\n",
              "35       35                      6 Pack Soft Drink\n",
              "36       36    Chips and Tomatillo-Red Chili Salsa\n",
              "37       37                                   Bowl\n",
              "38       38                                Burrito\n",
              "39       39                           Crispy Tacos\n",
              "40       40                  Carnitas Crispy Tacos\n",
              "41       41                            Steak Salad\n",
              "42       42      Chips and Mild Fresh Tomato Salsa\n",
              "43       43                      Veggie Soft Tacos\n",
              "44       44                    Carnitas Salad Bowl\n",
              "45       45                    Barbacoa Salad Bowl\n",
              "46       46                                  Salad\n",
              "47       47                    Veggie Crispy Tacos\n",
              "48       48                           Veggie Salad\n",
              "49       49                         Carnitas Salad"
            ]
          },
          "execution_count": 4,
          "metadata": {},
          "output_type": "execute_result"
        }
      ],
      "source": [
        "items"
      ]
    },
    {
      "cell_type": "markdown",
      "metadata": {
        "id": "zEhub0BcW1Ma"
      },
      "source": [
        "#### `Q:1-5`\n",
        "1. You are given three quater files, your job is to append these three files and make a single dataframe.\n",
        "2. Have a index as Q-1 Q-2 Q-3 for respective quater files in the dataframe\n",
        "3. Your are given a file items.csv which has item_id and item_name. Find out most sold items in each quarter.\n",
        "4. Find out items which has made most revenue in each quarter.\n",
        "5. Find out avg order price of each quarter.\n",
        "\n",
        "***Note: item_price is given as str with $ sign, in earlier task you have converted this to rupees, here too first convert item_price field in rupees.***"
      ]
    },
    {
      "cell_type": "code",
      "execution_count": null,
      "metadata": {},
      "outputs": [],
      "source": [
        "def dollar_to_rupees(value):\n",
        "    # remove '$' sign and convert to float\n",
        "    value = value.replace( '$' , '')\n",
        "    return float(value) * 88.72\n",
        "    \n",
        "\n",
        "# Apply to all 3 quarters\n",
        "for df in [q1, q2, q3]:\n",
        "    df[\"item_price\"]= df[\"item_price\"].apply(dollar_to_rupees)"
      ]
    },
    {
      "cell_type": "code",
      "execution_count": null,
      "metadata": {},
      "outputs": [],
      "source": [
        "# Another Approach\n",
        "\n",
        "# import pandas as pd\n",
        "\n",
        "# # Step 1: Read data\n",
        "# q1 = pd.read_csv(\"quarter-1.csv\")\n",
        "# q2 = pd.read_csv(\"quarter-2.csv\")\n",
        "# q3 = pd.read_csv(\"quarter-3.csv\")\n",
        "# items = pd.read_csv(\"items1.csv\")\n",
        "\n",
        "# # Step 2: Convert to rupees\n",
        "# def dollar_to_rupees(value):\n",
        "#     value = value.replace('$', '')\n",
        "#     return float(value) * 83\n",
        "\n",
        "# for df in [q1, q2, q3]:\n",
        "#     df[\"item_price\"] = df[\"item_price\"].apply(dollar_to_rupees)\n",
        "\n",
        "# # Step 3: Label quarters\n",
        "# q1[\"Quarter\"] = \"Q-1\"\n",
        "# q2[\"Quarter\"] = \"Q-2\"\n",
        "# q3[\"Quarter\"] = \"Q-3\"\n",
        "\n",
        "# df = pd.concat([q1, q2, q3], axis=0).reset_index(drop=True)\n",
        "\n",
        "# # Step 4: Merge with items\n",
        "# df = df.merge(items, on=\"item_id\", how=\"left\")\n",
        "\n",
        "# # Q3: Most sold items per quarter\n",
        "# most_sold = (\n",
        "#     df.groupby([\"Quarter\", \"item_name\"])[\"quantity\"]\n",
        "#     .sum()\n",
        "#     .reset_index()\n",
        "# )\n",
        "# most_sold_items = (\n",
        "#     most_sold.sort_values([\"Quarter\", \"quantity\"], ascending=[True, False])\n",
        "#     .groupby(\"Quarter\")\n",
        "#     .head(1)\n",
        "# )\n",
        "\n",
        "# # Q4: Most revenue items per quarter\n",
        "# df[\"revenue\"] = df[\"quantity\"] * df[\"item_price\"]\n",
        "# most_revenue_items = (\n",
        "#     df.groupby([\"Quarter\", \"item_name\"])[\"revenue\"]\n",
        "#     .sum()\n",
        "#     .reset_index()\n",
        "#     .sort_values([\"Quarter\", \"revenue\"], ascending=[True, False])\n",
        "#     .groupby(\"Quarter\")\n",
        "#     .head(1)\n",
        "# )\n",
        "\n",
        "# # Q5: Average order price per quarter\n",
        "# avg_order_price = (\n",
        "#     df.groupby([\"Quarter\", \"order_id\"])[\"revenue\"]\n",
        "#     .sum()\n",
        "#     .groupby(\"Quarter\")\n",
        "#     .mean()\n",
        "#     .reset_index(name=\"avg_order_price\")\n",
        "# )\n",
        "\n",
        "# print(\"Most Sold Items per Quarter:\\n\", most_sold_items)\n",
        "# print(\"\\nItems with Most Revenue per Quarter:\\n\", most_revenue_items)\n",
        "# print(\"\\nAverage Order Price per Quarter:\\n\", avg_order_price)\n"
      ]
    },
    {
      "cell_type": "code",
      "execution_count": 33,
      "metadata": {},
      "outputs": [],
      "source": [
        "# code here\n",
        "# Question 1 & 2\n",
        "# df1 = pd.concat([q1,q2,q3], keys = [\"Q1\", \"Q2\", \"Q3\"])\n",
        "# df1"
      ]
    },
    {
      "cell_type": "code",
      "execution_count": 34,
      "metadata": {},
      "outputs": [],
      "source": [
        "# Question 3\n",
        "\n",
        "# new_df = df1.reset_index().merge(items, on =\"item_id\")\n",
        "# new_df.rename(columns= {\"level_0\": \"quarter\"}, inplace = True)\n",
        "# new_df.groupby([\"quarter\", \"item_name\"], as_index= False)[\"quantity\"].sum().sort_values(\"quantity\", ascending= False).drop_duplicates(subset = \"quarter\", keep = \"first\")\n",
        "\n",
        "# # Question 4\n",
        "# new_df[\"item_price\"] = new_df.item_price.apply(lambda x: float(x[1:]))\n",
        "# new_df[\"total_item_price\"] = new_df[\"item_price\"] * new_df[\"quantity\"]\n",
        "\n",
        "# new_df.groupby([\"quarter\", \"item_name\"], as_index = False)[\"total_item_price\"].sum().sort_values(\"total_item_price\", ascending=False).drop_duplicates(\"quarter\", keep=\"first\")\n",
        "\n",
        "# Question 5\n",
        "# new_df.groupby([\"quarter\", \"order_id\"], as_index = False)[\"total_item_price\"].sum().groupby(\"quarter\", as_index = False)[\"total_item_price\"].mean()"
      ]
    },
    {
      "cell_type": "code",
      "execution_count": 39,
      "metadata": {},
      "outputs": [
        {
          "name": "stdout",
          "output_type": "stream",
          "text": [
            "Most Sold Items per Quarter:\n",
            "    Quarter     item_name quantity\n",
            "17     Q-1  Chicken Bowl      367\n",
            "65     Q-2  Chicken Bowl      394\n",
            "\n",
            "Items with Most Revenue per Quarter:\n",
            "    Quarter     item_name    revenue\n",
            "17     Q-1  Chicken Bowl  319747.54\n",
            "65     Q-2  Chicken Bowl  347956.75\n",
            "\n",
            "Average Order Price per Quarter:\n",
            "   Quarter avg_order_price\n",
            "0     Q-1     1146.187495\n",
            "1     Q-2     1102.225709\n"
          ]
        },
        {
          "name": "stderr",
          "output_type": "stream",
          "text": [
            "C:\\Users\\singh\\AppData\\Local\\Temp\\ipykernel_23460\\270226725.py:24: FutureWarning: The behavior of DataFrame concatenation with empty or all-NA entries is deprecated. In a future version, this will no longer exclude empty or all-NA columns when determining the result dtypes. To retain the old behavior, exclude the relevant entries before the concat operation.\n",
            "  df = pd.concat([q1, q2, q3], axis=0).reset_index(drop=True)\n"
          ]
        }
      ],
      "source": [
        "# Another Approach\n",
        "\n",
        "import pandas as pd\n",
        "\n",
        "# Step 1: Read data\n",
        "q1 = pd.read_csv(\"quarter-1.csv\")\n",
        "q2 = pd.read_csv(\"quarter-2.csv\")\n",
        "q3 = pd.read_csv(\"quarter-3.csv\")\n",
        "items = pd.read_csv(\"items1.csv\")\n",
        "\n",
        "# Step 2: Convert to rupees\n",
        "def dollar_to_rupees(value):\n",
        "    value = value.replace('$', '')\n",
        "    return float(value) * 83\n",
        "\n",
        "for df in [q1, q2, q3]:\n",
        "    df[\"item_price\"] = df[\"item_price\"].apply(dollar_to_rupees)\n",
        "\n",
        "# Step 3: Label quarters\n",
        "q1[\"Quarter\"] = \"Q-1\"\n",
        "q2[\"Quarter\"] = \"Q-2\"\n",
        "q3[\"Quarter\"] = \"Q-3\"\n",
        "\n",
        "df = pd.concat([q1, q2, q3], axis=0).reset_index(drop=True)\n",
        "\n",
        "# Step 4: Merge with items\n",
        "df = df.merge(items, on=\"item_id\", how=\"left\")\n",
        "\n",
        "# Q3: Most sold items per quarter\n",
        "most_sold = (\n",
        "    df.groupby([\"Quarter\", \"item_name\"])[\"quantity\"]\n",
        "    .sum()\n",
        "    .reset_index()\n",
        ")\n",
        "most_sold_items = (\n",
        "    most_sold.sort_values([\"Quarter\", \"quantity\"], ascending=[True, False])\n",
        "    .groupby(\"Quarter\")\n",
        "    .head(1)\n",
        ")\n",
        "\n",
        "# Q4: Most revenue items per quarter\n",
        "df[\"revenue\"] = df[\"quantity\"] * df[\"item_price\"]\n",
        "most_revenue_items = (\n",
        "    df.groupby([\"Quarter\", \"item_name\"])[\"revenue\"]\n",
        "    .sum()\n",
        "    .reset_index()\n",
        "    .sort_values([\"Quarter\", \"revenue\"], ascending=[True, False])\n",
        "    .groupby(\"Quarter\")\n",
        "    .head(1)\n",
        ")\n",
        "\n",
        "# Q5: Average order price per quarter\n",
        "avg_order_price = (\n",
        "    df.groupby([\"Quarter\", \"order_id\"])[\"revenue\"]\n",
        "    .sum()\n",
        "    .groupby(\"Quarter\")\n",
        "    .mean()\n",
        "    .reset_index(name=\"avg_order_price\")\n",
        ")\n",
        "\n",
        "print(\"Most Sold Items per Quarter:\\n\", most_sold_items)\n",
        "print(\"\\nItems with Most Revenue per Quarter:\\n\", most_revenue_items)\n",
        "print(\"\\nAverage Order Price per Quarter:\\n\", avg_order_price)\n"
      ]
    },
    {
      "cell_type": "code",
      "execution_count": 37,
      "metadata": {},
      "outputs": [
        {
          "name": "stdout",
          "output_type": "stream",
          "text": [
            "\n",
            "Items with Most Revenue per Quarter:\n",
            "    Quarter     item_name    revenue\n",
            "17     Q-1  Chicken Bowl  319747.54\n",
            "65     Q-2  Chicken Bowl  347956.75\n"
          ]
        }
      ],
      "source": [
        "# Question 4\n",
        "\n",
        "df[\"revenue\"] = df[\"quantity\"] * df[\"item_price\"]\n",
        "\n",
        "most_revenue_items = (\n",
        "\n",
        "    df.groupby([\"Quarter\", \"item_name\"])[\"revenue\"]\n",
        "    .sum()\n",
        "    .reset_index()\n",
        "    .sort_values([\"Quarter\", \"revenue\"], ascending = [True, False])\n",
        "    .groupby(\"Quarter\")\n",
        "    .head(1)\n",
        "\n",
        ")\n",
        "print(\"\\nItems with Most Revenue per Quarter:\\n\", most_revenue_items)"
      ]
    },
    {
      "cell_type": "code",
      "execution_count": 38,
      "metadata": {},
      "outputs": [
        {
          "name": "stdout",
          "output_type": "stream",
          "text": [
            "\n",
            "Average Order Price per Quarter:\n",
            "   Quarter avg_order_price\n",
            "0     Q-1     1146.187495\n",
            "1     Q-2     1102.225709\n"
          ]
        }
      ],
      "source": [
        "# Q5: Average order price per quarter\n",
        "avg_order_price = (\n",
        "    df.groupby([\"Quarter\", \"order_id\"])[\"revenue\"]\n",
        "    .sum()\n",
        "    .groupby(\"Quarter\")\n",
        "    .mean()\n",
        "    .reset_index(name=\"avg_order_price\")\n",
        ")\n",
        "\n",
        "print(\"\\nAverage Order Price per Quarter:\\n\", avg_order_price)\n"
      ]
    },
    {
      "cell_type": "markdown",
      "metadata": {
        "id": "IRg-rNsDW-Ca"
      },
      "source": [
        "##### `Q-6` From the IPL wala dataset you have to find the Purple cap holder each season.\n",
        "\n",
        "*Note: Bowler with most no wickets in a season gets purple cap. If more than one bowler have same no of wickets in the season, one with least economy among them is purple cap holder.*\n",
        "\n",
        "Bowler's Economy = runs-conceded per six balls"
      ]
    },
    {
      "cell_type": "code",
      "execution_count": null,
      "metadata": {
        "id": "yQeUfliHXKJm"
      },
      "outputs": [],
      "source": [
        "# code here"
      ]
    },
    {
      "cell_type": "markdown",
      "metadata": {
        "id": "pmJJB0Q6XMWy"
      },
      "source": [
        "#### `Q-7:` Best bowler in death overs.\n",
        "*Note: Have taken most no of wickets in case of tie with least economy*\n",
        "\n",
        "Death Overs - [16-20]"
      ]
    },
    {
      "cell_type": "code",
      "execution_count": null,
      "metadata": {
        "id": "s2t1IXf-XLak"
      },
      "outputs": [],
      "source": [
        "# code here"
      ]
    },
    {
      "cell_type": "markdown",
      "metadata": {
        "id": "BHU3PYRTXbPc"
      },
      "source": [
        "#### `Q-8` Batsman record season wise\n",
        "\n",
        "Make a function which takes a input `batsman_name` and it returns a dataframe.\n",
        "Columns of the data frame are - `['Season','Innings', 'TotalRuns', 'Avg', 'HighestScore','StrikeRate']`.\n",
        "* In result make `Season` column as index.\n",
        "\n",
        "* Avg - total_runs/ no of time got out. - player_out column will help.\n",
        "* StrikeRate -(total_runs/ balls faced) * 100- wides are not included in batsman ball faced counts. No balls are included. -> Extra_type column will help\n",
        "* Batsman Can score runs on No Balls.\n",
        "* Batsman can get out on No Ball or Wides. And even while being on non-striker. Keep these things in mind before masking."
      ]
    },
    {
      "cell_type": "code",
      "execution_count": null,
      "metadata": {
        "id": "3RQTt5ELXdbH"
      },
      "outputs": [],
      "source": [
        "# code here"
      ]
    },
    {
      "cell_type": "markdown",
      "metadata": {
        "id": "jMyy5LcUXjUA"
      },
      "source": [
        "#### `Q-9` Using both dataset, make a dataframe as described below\n",
        "\n",
        "Data Frame columns-> `['PlayerOfThematch', 'BattingFigure', 'BowlingFigure']`\n",
        "\n",
        "* BattingFigure->`<runs>/<balls>`\n",
        "* BowlingFigure->`<wicket>/<runs-conceded>`\n",
        "\n",
        "DataFrame should have one record for each match.\n",
        "\n",
        "Say 'V Kohli' got POM award then in dataset include his batting figure of that match. Say he scored 112runs in 76 balls. And he hasn't bowled so Bowling Figure will be NaN\n",
        "```\n",
        "PlayerOfThematch BattingFigure BowlingFigure\n",
        "V Kohli          112/76         nan  \n",
        "\n",
        "```\n"
      ]
    },
    {
      "cell_type": "code",
      "execution_count": null,
      "metadata": {
        "id": "uh36R6AZXn82"
      },
      "outputs": [],
      "source": [
        "# code here"
      ]
    },
    {
      "cell_type": "markdown",
      "metadata": {
        "id": "iljGaXfzXq1t"
      },
      "source": [
        "## **Questions Based on Iris Dataset**\n",
        "\n",
        "- **Sepal All:** https://docs.google.com/spreadsheets/d/e/2PACX-1vT58ekmHTwptX7Bs4QOy6YByA1HMvYTACeeIjrKhHE0Pg1K_3egewHMKMh02zN9D5-yHVXfvuaa3s5u/pub?gid=2028782809&single=true&output=csv\n",
        "    - **Unnamed: 0:** Unused column. This column is created when creating this sub-dataset.\n",
        "    - **Id:** Id of the records.\n",
        "    - **SepalLengthCm:** Sepal length of flowers in cm\n",
        "    - **SepalWidthCm:** Sepal width of flowers in cm\n",
        "\n",
        "- **Petal All:** https://docs.google.com/spreadsheets/d/e/2PACX-1vQinLXShrOz4ExNaW1bSQVuvbbhIzJW7G0kkkD2SvqSD6STjLrQQiftgI7BGe10sBZi0CNr2_sJpQAz/pub?gid=1580010789&single=true&output=csv\n",
        "    - **Unnamed: 0:** Unused column. This column is created when creating this sub-dataset.\n",
        "    - **Id:** Id of the records.\n",
        "    - **PetalLengthCm:** Petal length of flowers in cm\n",
        "    - **PetalWidthCm:** Petal width of flowers in cm\n",
        "\n",
        "- **Iris Virginica:** https://docs.google.com/spreadsheets/d/e/2PACX-1vSK39MwduGPHYNgw5yViezoLYCVDKMCWIHzjnt3GZNaxHPFOQLr2q6no_tyqTsOk-VfXleslfGVe9eJ/pub?gid=314231613&single=true&output=csv\n",
        "    - **Unnamed: 0:** Unused column. This column is created when creating the sub-dataset.\n",
        "    - **Id:** Id of the records.\n",
        "    - **Species:** Name of this species.\n",
        "\n",
        "- **Iris Versicolor:** https://docs.google.com/spreadsheets/d/e/2PACX-1vTcSFgLnabqIrgIc5WlwvnbbvyyJsgZjR-0E0-4TR-5aHgv_0EP6yNWglkkls3AXM2qHCR5VYzWCoTM/pub?gid=715607857&single=true&output=csv\n",
        "    - **Unnamed: 0:** Unused column. This column is created when creating the sub-dataset.\n",
        "    - **Id:** Id of the records.\n",
        "    - **Species:** Name of this species.\n",
        "\n",
        "- **Iris Setosa:** https://docs.google.com/spreadsheets/d/e/2PACX-1vSjqJpdgy2X_oDUUqQ0sSaFKqnnf8MYU4KgJSYgHaHmq0Wb1weMOsJXh-rICHmkLcaTkOwzMYLeh959/pub?gid=2003684803&single=true&output=csv\n",
        "    - **Unnamed 0:** Unused column. This column is created when creating the sub-dataset.\n",
        "    - **Id:** Id of the records.\n",
        "    - **Species:** Name of this species."
      ]
    },
    {
      "cell_type": "code",
      "execution_count": 40,
      "metadata": {
        "id": "nY1khG0XXp1X"
      },
      "outputs": [],
      "source": [
        "import pandas as pd\n",
        "sepal_all = pd.read_csv(\"https://docs.google.com/spreadsheets/d/e/2PACX-1vT58ekmHTwptX7Bs4QOy6YByA1HMvYTACeeIjrKhHE0Pg1K_3egewHMKMh02zN9D5-yHVXfvuaa3s5u/pub?gid=2028782809&single=true&output=csv\")\n",
        "petal_all = pd.read_csv(\"https://docs.google.com/spreadsheets/d/e/2PACX-1vQinLXShrOz4ExNaW1bSQVuvbbhIzJW7G0kkkD2SvqSD6STjLrQQiftgI7BGe10sBZi0CNr2_sJpQAz/pub?gid=1580010789&single=true&output=csv\")\n",
        "\n",
        "virginica = pd.read_csv(\"https://docs.google.com/spreadsheets/d/e/2PACX-1vSK39MwduGPHYNgw5yViezoLYCVDKMCWIHzjnt3GZNaxHPFOQLr2q6no_tyqTsOk-VfXleslfGVe9eJ/pub?gid=314231613&single=true&output=csv\")\n",
        "versicolor = pd.read_csv(\"https://docs.google.com/spreadsheets/d/e/2PACX-1vTcSFgLnabqIrgIc5WlwvnbbvyyJsgZjR-0E0-4TR-5aHgv_0EP6yNWglkkls3AXM2qHCR5VYzWCoTM/pub?gid=715607857&single=true&output=csv\")\n",
        "setosa = pd.read_csv(\"https://docs.google.com/spreadsheets/d/e/2PACX-1vSjqJpdgy2X_oDUUqQ0sSaFKqnnf8MYU4KgJSYgHaHmq0Wb1weMOsJXh-rICHmkLcaTkOwzMYLeh959/pub?gid=2003684803&single=true&output=csv\")\n"
      ]
    },
    {
      "cell_type": "markdown",
      "metadata": {
        "id": "R6jqy4GQX4RI"
      },
      "source": [
        "### `Q-10:` Plot a bar chart of the average Sepal Length  of Virginica and average Petal length of Setosa flower."
      ]
    },
    {
      "cell_type": "code",
      "execution_count": 42,
      "metadata": {
        "id": "zTx5S3yiX15D"
      },
      "outputs": [
        {
          "data": {
            "text/plain": [
              "<Axes: xlabel='kind'>"
            ]
          },
          "execution_count": 42,
          "metadata": {},
          "output_type": "execute_result"
        },
        {
          "data": {
            "image/png": "[encoded data removed]",
            "text/plain": [
              "<Figure size 640x480 with 1 Axes>"
            ]
          },
          "metadata": {},
          "output_type": "display_data"
        }
      ],
      "source": [
        "# code here\n",
        "sepal = pd.merge(virginica, sepal_all, on = \"Id\")[\"SepalLengthCm\"].mean()\n",
        "petal = pd.merge(setosa, petal_all, on=\"Id\")[\"PetalLengthCm\"].mean()\n",
        "\n",
        "pd.DataFrame({\"kind\" : [\"Sepal Length\", \"Petal Length\"], \"length\": [sepal, petal]}).plot(x = \"kind\", kind = \"bar\")"
      ]
    },
    {
      "cell_type": "markdown",
      "metadata": {
        "id": "ecWHo_gsYAT2"
      },
      "source": [
        "### `Q-11:` Create the complete dataset by uisng the below datasets:\n",
        "- virginica\n",
        "- versicolor\n",
        "- setosa\n",
        "- sepal all\n",
        "- petal all\n",
        "\n",
        "This dataset should have these below column names in order:\n",
        "1. Id\n",
        "2. Species\n",
        "3. SepalLengthCm\n",
        "4. SepalWidthCm\n",
        "5. PetalLengthCm\n",
        "6. PetalWidthCm\n",
        "\n",
        "Also, the dataset should be shuffled means the `Id` column should not be in increasing or decreasing order. So, make a dataset which has the shuffled Id column. You can use `DataFrame.sample()` method to shuffle."
      ]
    },
    {
      "cell_type": "code",
      "execution_count": 44,
      "metadata": {
        "id": "PsWBn7g3YDRZ"
      },
      "outputs": [
        {
          "data": {
            "application/vnd.microsoft.datawrangler.viewer.v0+json": {
              "columns": [
                {
                  "name": "index",
                  "rawType": "int64",
                  "type": "integer"
                },
                {
                  "name": "Id",
                  "rawType": "int64",
                  "type": "integer"
                },
                {
                  "name": "Species",
                  "rawType": "object",
                  "type": "string"
                },
                {
                  "name": "SepalLengthCm",
                  "rawType": "float64",
                  "type": "float"
                },
                {
                  "name": "SepalWidthCm",
                  "rawType": "float64",
                  "type": "float"
                },
                {
                  "name": "PetalLengthCm",
                  "rawType": "float64",
                  "type": "float"
                },
                {
                  "name": "PetalWidthCm",
                  "rawType": "float64",
                  "type": "float"
                }
              ],
              "ref": "65e64b58-1b9a-42b5-aba0-8144d753b760",
              "rows": [
                [
                  "26",
                  "77",
                  "Iris-versicolor",
                  "6.8",
                  "2.8",
                  "4.8",
                  "1.4"
                ],
                [
                  "18",
                  "19",
                  "Iris-setosa",
                  "5.7",
                  "3.8",
                  "1.7",
                  "0.3"
                ],
                [
                  "29",
                  "30",
                  "Iris-setosa",
                  "4.7",
                  "3.2",
                  "1.6",
                  "0.2"
                ],
                [
                  "45",
                  "46",
                  "Iris-setosa",
                  "4.8",
                  "3.0",
                  "1.4",
                  "0.3"
                ],
                [
                  "36",
                  "137",
                  "Iris-virginica",
                  "6.3",
                  "3.4",
                  "5.6",
                  "2.4"
                ],
                [
                  "11",
                  "112",
                  "Iris-virginica",
                  "6.4",
                  "2.7",
                  "5.3",
                  "1.9"
                ],
                [
                  "44",
                  "45",
                  "Iris-setosa",
                  "5.1",
                  "3.8",
                  "1.9",
                  "0.4"
                ],
                [
                  "24",
                  "25",
                  "Iris-setosa",
                  "4.8",
                  "3.4",
                  "1.9",
                  "0.2"
                ],
                [
                  "37",
                  "138",
                  "Iris-virginica",
                  "6.4",
                  "3.1",
                  "5.5",
                  "1.8"
                ],
                [
                  "6",
                  "57",
                  "Iris-versicolor",
                  "6.3",
                  "3.3",
                  "4.7",
                  "1.6"
                ],
                [
                  "5",
                  "56",
                  "Iris-versicolor",
                  "5.7",
                  "2.8",
                  "4.5",
                  "1.3"
                ],
                [
                  "14",
                  "15",
                  "Iris-setosa",
                  "5.8",
                  "4.0",
                  "1.2",
                  "0.2"
                ],
                [
                  "20",
                  "21",
                  "Iris-setosa",
                  "5.4",
                  "3.4",
                  "1.7",
                  "0.2"
                ],
                [
                  "27",
                  "78",
                  "Iris-versicolor",
                  "6.7",
                  "3.0",
                  "5.0",
                  "1.7"
                ],
                [
                  "10",
                  "11",
                  "Iris-setosa",
                  "5.4",
                  "3.7",
                  "1.5",
                  "0.2"
                ],
                [
                  "47",
                  "98",
                  "Iris-versicolor",
                  "6.2",
                  "2.9",
                  "4.3",
                  "1.3"
                ],
                [
                  "9",
                  "60",
                  "Iris-versicolor",
                  "5.2",
                  "2.7",
                  "3.9",
                  "1.4"
                ],
                [
                  "26",
                  "127",
                  "Iris-virginica",
                  "6.2",
                  "2.8",
                  "4.8",
                  "1.8"
                ],
                [
                  "7",
                  "8",
                  "Iris-setosa",
                  "5.0",
                  "3.4",
                  "1.5",
                  "0.2"
                ],
                [
                  "28",
                  "79",
                  "Iris-versicolor",
                  "6.0",
                  "2.9",
                  "4.5",
                  "1.5"
                ],
                [
                  "2",
                  "103",
                  "Iris-virginica",
                  "7.1",
                  "3.0",
                  "5.9",
                  "2.1"
                ],
                [
                  "30",
                  "131",
                  "Iris-virginica",
                  "7.4",
                  "2.8",
                  "6.1",
                  "1.9"
                ],
                [
                  "23",
                  "74",
                  "Iris-versicolor",
                  "6.1",
                  "2.8",
                  "4.7",
                  "1.2"
                ],
                [
                  "6",
                  "7",
                  "Iris-setosa",
                  "4.6",
                  "3.4",
                  "1.4",
                  "0.3"
                ],
                [
                  "14",
                  "115",
                  "Iris-virginica",
                  "5.8",
                  "2.8",
                  "5.1",
                  "2.4"
                ],
                [
                  "24",
                  "75",
                  "Iris-versicolor",
                  "6.4",
                  "2.9",
                  "4.3",
                  "1.3"
                ],
                [
                  "27",
                  "28",
                  "Iris-setosa",
                  "5.2",
                  "3.5",
                  "1.5",
                  "0.2"
                ],
                [
                  "43",
                  "44",
                  "Iris-setosa",
                  "5.0",
                  "3.5",
                  "1.6",
                  "0.6"
                ],
                [
                  "33",
                  "34",
                  "Iris-setosa",
                  "5.5",
                  "4.2",
                  "1.4",
                  "0.2"
                ],
                [
                  "23",
                  "124",
                  "Iris-virginica",
                  "6.3",
                  "2.7",
                  "4.9",
                  "1.8"
                ],
                [
                  "33",
                  "84",
                  "Iris-versicolor",
                  "6.0",
                  "2.7",
                  "5.1",
                  "1.6"
                ],
                [
                  "9",
                  "110",
                  "Iris-virginica",
                  "7.2",
                  "3.6",
                  "6.1",
                  "2.5"
                ],
                [
                  "28",
                  "29",
                  "Iris-setosa",
                  "5.2",
                  "3.4",
                  "1.4",
                  "0.2"
                ],
                [
                  "49",
                  "50",
                  "Iris-setosa",
                  "5.0",
                  "3.3",
                  "1.4",
                  "0.2"
                ],
                [
                  "12",
                  "63",
                  "Iris-versicolor",
                  "6.0",
                  "2.2",
                  "4.0",
                  "1.0"
                ],
                [
                  "7",
                  "108",
                  "Iris-virginica",
                  "7.3",
                  "2.9",
                  "6.3",
                  "1.8"
                ],
                [
                  "31",
                  "132",
                  "Iris-virginica",
                  "7.9",
                  "3.8",
                  "6.4",
                  "2.0"
                ],
                [
                  "16",
                  "17",
                  "Iris-setosa",
                  "5.4",
                  "3.9",
                  "1.3",
                  "0.4"
                ],
                [
                  "40",
                  "91",
                  "Iris-versicolor",
                  "5.5",
                  "2.6",
                  "4.4",
                  "1.2"
                ],
                [
                  "34",
                  "85",
                  "Iris-versicolor",
                  "5.4",
                  "3.0",
                  "4.5",
                  "1.5"
                ],
                [
                  "29",
                  "80",
                  "Iris-versicolor",
                  "5.7",
                  "2.6",
                  "3.5",
                  "1.0"
                ],
                [
                  "38",
                  "39",
                  "Iris-setosa",
                  "4.4",
                  "3.0",
                  "1.3",
                  "0.2"
                ],
                [
                  "32",
                  "83",
                  "Iris-versicolor",
                  "5.8",
                  "2.7",
                  "3.9",
                  "1.2"
                ],
                [
                  "48",
                  "99",
                  "Iris-versicolor",
                  "5.1",
                  "2.5",
                  "3.0",
                  "1.1"
                ],
                [
                  "24",
                  "125",
                  "Iris-virginica",
                  "6.7",
                  "3.3",
                  "5.7",
                  "2.1"
                ],
                [
                  "48",
                  "49",
                  "Iris-setosa",
                  "5.3",
                  "3.7",
                  "1.5",
                  "0.2"
                ],
                [
                  "0",
                  "51",
                  "Iris-versicolor",
                  "7.0",
                  "3.2",
                  "4.7",
                  "1.4"
                ],
                [
                  "44",
                  "145",
                  "Iris-virginica",
                  "6.7",
                  "3.3",
                  "5.7",
                  "2.5"
                ],
                [
                  "19",
                  "120",
                  "Iris-virginica",
                  "6.0",
                  "2.2",
                  "5.0",
                  "1.5"
                ],
                [
                  "27",
                  "128",
                  "Iris-virginica",
                  "6.1",
                  "3.0",
                  "4.9",
                  "1.8"
                ]
              ],
              "shape": {
                "columns": 6,
                "rows": 150
              }
            },
            "text/html": [
              "<div>\n",
              "<style scoped>\n",
              "    .dataframe tbody tr th:only-of-type {\n",
              "        vertical-align: middle;\n",
              "    }\n",
              "\n",
              "    .dataframe tbody tr th {\n",
              "        vertical-align: top;\n",
              "    }\n",
              "\n",
              "    .dataframe thead th {\n",
              "        text-align: right;\n",
              "    }\n",
              "</style>\n",
              "<table border=\"1\" class=\"dataframe\">\n",
              "  <thead>\n",
              "    <tr style=\"text-align: right;\">\n",
              "      <th></th>\n",
              "      <th>Id</th>\n",
              "      <th>Species</th>\n",
              "      <th>SepalLengthCm</th>\n",
              "      <th>SepalWidthCm</th>\n",
              "      <th>PetalLengthCm</th>\n",
              "      <th>PetalWidthCm</th>\n",
              "    </tr>\n",
              "  </thead>\n",
              "  <tbody>\n",
              "    <tr>\n",
              "      <th>26</th>\n",
              "      <td>77</td>\n",
              "      <td>Iris-versicolor</td>\n",
              "      <td>6.8</td>\n",
              "      <td>2.8</td>\n",
              "      <td>4.8</td>\n",
              "      <td>1.4</td>\n",
              "    </tr>\n",
              "    <tr>\n",
              "      <th>18</th>\n",
              "      <td>19</td>\n",
              "      <td>Iris-setosa</td>\n",
              "      <td>5.7</td>\n",
              "      <td>3.8</td>\n",
              "      <td>1.7</td>\n",
              "      <td>0.3</td>\n",
              "    </tr>\n",
              "    <tr>\n",
              "      <th>29</th>\n",
              "      <td>30</td>\n",
              "      <td>Iris-setosa</td>\n",
              "      <td>4.7</td>\n",
              "      <td>3.2</td>\n",
              "      <td>1.6</td>\n",
              "      <td>0.2</td>\n",
              "    </tr>\n",
              "    <tr>\n",
              "      <th>45</th>\n",
              "      <td>46</td>\n",
              "      <td>Iris-setosa</td>\n",
              "      <td>4.8</td>\n",
              "      <td>3.0</td>\n",
              "      <td>1.4</td>\n",
              "      <td>0.3</td>\n",
              "    </tr>\n",
              "    <tr>\n",
              "      <th>36</th>\n",
              "      <td>137</td>\n",
              "      <td>Iris-virginica</td>\n",
              "      <td>6.3</td>\n",
              "      <td>3.4</td>\n",
              "      <td>5.6</td>\n",
              "      <td>2.4</td>\n",
              "    </tr>\n",
              "    <tr>\n",
              "      <th>...</th>\n",
              "      <td>...</td>\n",
              "      <td>...</td>\n",
              "      <td>...</td>\n",
              "      <td>...</td>\n",
              "      <td>...</td>\n",
              "      <td>...</td>\n",
              "    </tr>\n",
              "    <tr>\n",
              "      <th>36</th>\n",
              "      <td>87</td>\n",
              "      <td>Iris-versicolor</td>\n",
              "      <td>6.7</td>\n",
              "      <td>3.1</td>\n",
              "      <td>4.7</td>\n",
              "      <td>1.5</td>\n",
              "    </tr>\n",
              "    <tr>\n",
              "      <th>17</th>\n",
              "      <td>118</td>\n",
              "      <td>Iris-virginica</td>\n",
              "      <td>7.7</td>\n",
              "      <td>3.8</td>\n",
              "      <td>6.7</td>\n",
              "      <td>2.2</td>\n",
              "    </tr>\n",
              "    <tr>\n",
              "      <th>28</th>\n",
              "      <td>129</td>\n",
              "      <td>Iris-virginica</td>\n",
              "      <td>6.4</td>\n",
              "      <td>2.8</td>\n",
              "      <td>5.6</td>\n",
              "      <td>2.1</td>\n",
              "    </tr>\n",
              "    <tr>\n",
              "      <th>41</th>\n",
              "      <td>92</td>\n",
              "      <td>Iris-versicolor</td>\n",
              "      <td>6.1</td>\n",
              "      <td>3.0</td>\n",
              "      <td>4.6</td>\n",
              "      <td>1.4</td>\n",
              "    </tr>\n",
              "    <tr>\n",
              "      <th>8</th>\n",
              "      <td>9</td>\n",
              "      <td>Iris-setosa</td>\n",
              "      <td>4.4</td>\n",
              "      <td>2.9</td>\n",
              "      <td>1.4</td>\n",
              "      <td>0.2</td>\n",
              "    </tr>\n",
              "  </tbody>\n",
              "</table>\n",
              "<p>150 rows × 6 columns</p>\n",
              "</div>"
            ],
            "text/plain": [
              "     Id          Species  SepalLengthCm  SepalWidthCm  PetalLengthCm  \\\n",
              "26   77  Iris-versicolor            6.8           2.8            4.8   \n",
              "18   19      Iris-setosa            5.7           3.8            1.7   \n",
              "29   30      Iris-setosa            4.7           3.2            1.6   \n",
              "45   46      Iris-setosa            4.8           3.0            1.4   \n",
              "36  137   Iris-virginica            6.3           3.4            5.6   \n",
              "..  ...              ...            ...           ...            ...   \n",
              "36   87  Iris-versicolor            6.7           3.1            4.7   \n",
              "17  118   Iris-virginica            7.7           3.8            6.7   \n",
              "28  129   Iris-virginica            6.4           2.8            5.6   \n",
              "41   92  Iris-versicolor            6.1           3.0            4.6   \n",
              "8     9      Iris-setosa            4.4           2.9            1.4   \n",
              "\n",
              "    PetalWidthCm  \n",
              "26           1.4  \n",
              "18           0.3  \n",
              "29           0.2  \n",
              "45           0.3  \n",
              "36           2.4  \n",
              "..           ...  \n",
              "36           1.5  \n",
              "17           2.2  \n",
              "28           2.1  \n",
              "41           1.4  \n",
              "8            0.2  \n",
              "\n",
              "[150 rows x 6 columns]"
            ]
          },
          "execution_count": 44,
          "metadata": {},
          "output_type": "execute_result"
        }
      ],
      "source": [
        "# code here\n",
        "\n",
        "v_sepal = pd.merge(virginica, sepal_all, on=\"Id\").drop(columns= [\"Unnamed: 0_x\", \"Unnamed: 0_y\"])\n",
        "v = pd.merge(v_sepal, petal_all, on=\"Id\").drop(columns= [\"Unnamed: 0\"])\n",
        "\n",
        "s_sepal = pd.merge(setosa, sepal_all, on=\"Id\").drop(columns= [\"Unnamed: 0_x\", \"Unnamed: 0_y\"])\n",
        "s = pd.merge(s_sepal, petal_all, on=\"Id\").drop(columns= [\"Unnamed: 0\"])\n",
        "\n",
        "ver_sepal = pd.merge(versicolor, sepal_all, on=\"Id\").drop(columns= [\"Unnamed: 0_x\", \"Unnamed: 0_y\"])\n",
        "ver = pd.merge(ver_sepal, petal_all, on=\"Id\").drop(columns= [\"Unnamed: 0\"])\n",
        "\n",
        "pd.concat([v, s, ver]).sample(150)"
      ]
    },
    {
      "cell_type": "markdown",
      "metadata": {
        "id": "FLlBdChyYHtw"
      },
      "source": [
        "#### `Q-12:` Find out the maximum and minimum sepal width and petal width of Setosa and Versicolor. To do this:\n",
        "- First create a dataset with merging the required datasets\n",
        "- After that, use `groupby` to create groups based on the \"Species\" column.\n",
        "- Then find out which are asked in this question.\n",
        "\n",
        "\n",
        "The output should be like this:\n",
        "```bash\n",
        "Minimum Sepal width of Setosa is 2.3\n",
        "Maximum Sepal width of Setosa is 4.4\n",
        "\n",
        "**************************************************\n",
        "\n",
        "Minimum Sepal width of Versicolor is 2.0\n",
        "Maximum Sepal width of Versicolor is 3.4\n",
        "\n",
        "**************************************************\n",
        "```"
      ]
    },
    {
      "cell_type": "code",
      "execution_count": 45,
      "metadata": {
        "id": "T7toJgSkYIIF"
      },
      "outputs": [
        {
          "name": "stdout",
          "output_type": "stream",
          "text": [
            "Minimum Sepal width of Setosa is 2.3\n",
            "Maximum Sepal width of Setosa is 4.4\n",
            "Minimum Petal width of Setosa is 0.1\n",
            "Maximum Petal width of Setosa is 0.6\n",
            "Minimum Sepal width of Versicolor is 2.0\n",
            "Maximum Sepal width of Versicolor is 3.4\n",
            "Minimum Petal width of Versicolor is 1.0\n",
            "Maximum Petal width of Versicolor is 1.8\n"
          ]
        }
      ],
      "source": [
        "# code here\n",
        "print(f\"Minimum Sepal width of Setosa is {s.SepalWidthCm.min()}\")\n",
        "print(f\"Maximum Sepal width of Setosa is {s.SepalWidthCm.max()}\")\n",
        "print(f\"Minimum Petal width of Setosa is {s.PetalWidthCm.min()}\")\n",
        "print(f\"Maximum Petal width of Setosa is {s.PetalWidthCm.max()}\")\n",
        "print(f\"Minimum Sepal width of Versicolor is {ver.SepalWidthCm.min()}\")\n",
        "print(f\"Maximum Sepal width of Versicolor is {ver.SepalWidthCm.max()}\")\n",
        "print(f\"Minimum Petal width of Versicolor is {ver.PetalWidthCm.min()}\")\n",
        "print(f\"Maximum Petal width of Versicolor is {ver.PetalWidthCm.max()}\")"
      ]
    },
    {
      "cell_type": "code",
      "execution_count": null,
      "metadata": {},
      "outputs": [],
      "source": []
    }
  ],
  "metadata": {
    "colab": {
      "provenance": []
    },
    "kernelspec": {
      "display_name": "base",
      "language": "python",
      "name": "python3"
    },
    "language_info": {
      "codemirror_mode": {
        "name": "ipython",
        "version": 3
      },
      "file_extension": ".py",
      "mimetype": "text/x-python",
      "name": "python",
      "nbconvert_exporter": "python",
      "pygments_lexer": "ipython3",
      "version": "3.13.5"
    }
  },
  "nbformat": 4,
  "nbformat_minor": 0
}
