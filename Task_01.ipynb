{
 "cells": [
  {
   "cell_type": "markdown",
   "id": "06cafd56",
   "metadata": {},
   "source": [
    "# Session 01 - Task 01\n"
   ]
  },
  {
   "cell_type": "markdown",
   "id": "2cd9d1d0",
   "metadata": {},
   "source": [
    "### Q1 :- Print the given strings as per stated format.\n",
    "\n",
    "**Given strings**: \n",
    "```\n",
    "\"Data\" \"Science\" \"Mentorship\" \"Program\" \n",
    "\"By\" \"CampusX\"\n",
    "```\n",
    "**Output**: \n",
    "``` \n",
    "Data-Science-Mentorship-Program-started-By-CampusX\n",
    "```\n"
   ]
  },
  {
   "cell_type": "code",
   "execution_count": 8,
   "id": "5fc160d5",
   "metadata": {},
   "outputs": [
    {
     "name": "stdout",
     "output_type": "stream",
     "text": [
      "Data- Sciene- Mentorship- Program- By- CampusX\n"
     ]
    }
   ],
   "source": [
    "# Solution\n",
    "print(\"Data\",\" Sciene\",\" Mentorship\",\" Program\",\" By\",\" CampusX\", sep=\"-\")"
   ]
  },
  {
   "cell_type": "markdown",
   "id": "bc8407ca",
   "metadata": {},
   "source": [
    "### Q2:- Write a program that will convert celsius value to fahrenheit."
   ]
  },
  {
   "cell_type": "code",
   "execution_count": null,
   "id": "c3cbd73c",
   "metadata": {},
   "outputs": [
    {
     "name": "stdout",
     "output_type": "stream",
     "text": [
      "The temperature in farenheit is: 42.8\n"
     ]
    }
   ],
   "source": [
    "c = float(input(\"enter temperature in celsius: \"))\n",
    "f = (9/5)*c + 32\n",
    "print(\"The temperature in farenheit is:\", f)"
   ]
  },
  {
   "cell_type": "markdown",
   "id": "250a2925",
   "metadata": {},
   "source": [
    "### Q3:- Take 2 numbers as input from the user.Write a program to swap the numbers without using any special python syntax."
   ]
  },
  {
   "cell_type": "code",
   "execution_count": 14,
   "id": "05a6e3e7",
   "metadata": {},
   "outputs": [
    {
     "name": "stdout",
     "output_type": "stream",
     "text": [
      "First number: 4\n",
      "Second number: 5\n",
      "After swapping: the first number is 5 and the second number is 4\n"
     ]
    }
   ],
   "source": [
    "first = int(input(\"Enter first number: \"))\n",
    "second = int(input(\"Enter second number: \"))\n",
    "print(\"First number:\", first)   \n",
    "print(\"Second number:\", second)\n",
    "\n",
    "first, second = second, first\n",
    "print(f\"After swapping: the first number is {first} and the second number is {second}\")"
   ]
  },
  {
   "cell_type": "markdown",
   "id": "32adc835",
   "metadata": {},
   "source": [
    "### Q4:- Write a program to find the euclidean distance between two coordinates.Take both the coordinates from the user as input."
   ]
  },
  {
   "cell_type": "code",
   "execution_count": 17,
   "id": "03b826b7",
   "metadata": {},
   "outputs": [
    {
     "name": "stdout",
     "output_type": "stream",
     "text": [
      "The distance between the points is: 2.8284271247461903\n"
     ]
    }
   ],
   "source": [
    "x1 = int(input(\"Enter x1: \"))\n",
    "y1 = int(input(\"Enter y1: \"))\n",
    "x2 = int(input(\"Enter x2: \"))\n",
    "y2 = int(input(\"Enter y2: \"))\n",
    "\n",
    "distance = ((x2 - x1)**2 + (y2 - y1)**2)**0.5\n",
    "print(\"The distance between the points is:\", distance)"
   ]
  },
  {
   "cell_type": "markdown",
   "id": "352f24e9",
   "metadata": {},
   "source": [
    "### Q5:- Write a program to find the simple interest when the value of principle,rate of interest and time period is provided by the user.\n"
   ]
  },
  {
   "cell_type": "code",
   "execution_count": null,
   "id": "3c0caacf",
   "metadata": {},
   "outputs": [
    {
     "name": "stdout",
     "output_type": "stream",
     "text": [
      "The simple interest is: 1.2\n"
     ]
    }
   ],
   "source": [
    "p=int(input(\"Enter principal amount: \"))\n",
    "r= float(input(\"Enter rate of interest: \"))\n",
    "t= int(input(\"Enter time in years: \"))\n",
    "\n",
    "si = (p*r*t)/100\n",
    "print(\"The simple interest is:\", si)"
   ]
  },
  {
   "cell_type": "markdown",
   "id": "108b9fd8",
   "metadata": {},
   "source": [
    "### Q6:- Write a program that will tell the number of dogs and chicken are there when the user will provide the value of total heads and legs.\n",
    "\n",
    "For example:\n",
    "Input:\n",
    "heads -> 4\n",
    "legs -> 12\n",
    "<br>\n",
    "Output:\n",
    "dogs -> 2\n",
    "chicken -> 2"
   ]
  },
  {
   "cell_type": "code",
   "execution_count": 39,
   "id": "c1d4824b",
   "metadata": {},
   "outputs": [
    {
     "name": "stdout",
     "output_type": "stream",
     "text": [
      "Dogs -> 1, Chickens -> 7\n"
     ]
    }
   ],
   "source": [
    "# Take input\n",
    "heads = int(input(\"Enter total number of heads: \"))\n",
    "legs = int(input(\"Enter total number of legs: \"))\n",
    "\n",
    "# Formula:\n",
    "# chickens + dogs = heads\n",
    "# 2*chickens + 4*dogs = legs\n",
    "\n",
    "# Solve for dogs:\n",
    "# 2*chickens + 4*dogs = legs\n",
    "# 2*(heads - dogs) + 4*dogs = legs\n",
    "# 2*heads + 2*dogs = legs\n",
    "# dogs = (legs - 2*heads) / 2\n",
    "dogs = (legs - 2*heads) // 2\n",
    "chickens = heads - dogs\n",
    "\n",
    "# Validate solution\n",
    "if dogs < 0 or chickens < 0 or (2*chickens + 4*dogs != legs):\n",
    "    print(\"No valid solution!\")\n",
    "else:\n",
    "    print(f\"Dogs -> {dogs}, Chickens -> {chickens}\")\n"
   ]
  },
  {
   "cell_type": "markdown",
   "id": "a727af60",
   "metadata": {},
   "source": [
    "### Q7:- Write a program to find the sum of squares of first n natural numbers where n will be provided by the user."
   ]
  },
  {
   "cell_type": "code",
   "execution_count": 20,
   "id": "afea72cb",
   "metadata": {},
   "outputs": [
    {
     "name": "stdout",
     "output_type": "stream",
     "text": [
      "The sunm of squares of first 3 natural numbers is  {14}\n"
     ]
    }
   ],
   "source": [
    "n = int(input(\"Enter a number: \"))\n",
    "square_sum = (n * (n + 1) * (2 * n + 1)) // 6\n",
    "print(f\"The sunm of squares of first\",n,\"natural numbers is \",{square_sum})"
   ]
  },
  {
   "cell_type": "markdown",
   "id": "7cbbfa96",
   "metadata": {},
   "source": [
    "### Q8:- Given the first 2 terms of an Arithmetic Series.Find the Nth term of the series. Assume all inputs are provided by the user."
   ]
  },
  {
   "cell_type": "code",
   "execution_count": null,
   "id": "06203c0d",
   "metadata": {},
   "outputs": [],
   "source": [
    "# Write your code here\n",
    "first_term = int(input('enter 1st term'))\n",
    "second_term = int(input('enter 2nd term'))\n",
    "n = int(input('enter the value of n'))\n",
    "\n",
    "d = second_term - first_term\n",
    "\n",
    "nth = first_term + (n-1)*d\n",
    "\n",
    "print(nth)"
   ]
  },
  {
   "cell_type": "code",
   "execution_count": null,
   "id": "b107445a",
   "metadata": {},
   "outputs": [
    {
     "name": "stdout",
     "output_type": "stream",
     "text": [
      "The first term of the arithmetic series is: 2.5\n",
      "The second term of the arithmetic series is: 3.0\n",
      "The common difference is: 0.5\n",
      "The nth term of the arithmetic series 3.5 is: 3\n"
     ]
    }
   ],
   "source": [
    "# if i know the nth term of an arithmetic series and common difference then find the first term and total number of terms\n",
    "a = float(input(\"Enter the first number of arithmetic series: \"))\n",
    "d = float(input(\"Enter the common difference: \"))\n",
    "series = float(input(\"Enter the term number to find the nth term: \"))\n",
    "n = int(((series-a)/d)+1)\n",
    "print(\"The first term of the arithmetic series is:\", a)\n",
    "print(f\"The second term of the arithmetic series is:\", a+d)\n",
    "print(\"The common difference is:\", d)\n",
    "print(f\"The nth term of the arithmetic series {series} is:\", n)"
   ]
  },
  {
   "cell_type": "markdown",
   "id": "af25aa87",
   "metadata": {},
   "source": [
    "### Q9:- Given 2 fractions, find the sum of those 2 fractions.Take the numerator and denominator values of the fractions from the user."
   ]
  },
  {
   "cell_type": "code",
   "execution_count": 27,
   "id": "ced1c361",
   "metadata": {},
   "outputs": [
    {
     "name": "stdout",
     "output_type": "stream",
     "text": [
      "The sum of the two fractions is: 25 / 12\n"
     ]
    }
   ],
   "source": [
    "n1= int(input(\"Enter the numerator of first number: \"))\n",
    "d1= int(input(\"Enter the denominator of first number: \"))\n",
    "n2= int(input(\"Enter the numerator of second number: \"))\n",
    "d2= int(input(\"Enter the denominator of second number: \"))\n",
    "\n",
    "\n",
    "\n",
    "sum_numerator = n1 * d2 + n2 * d1\n",
    "sum_denominator = d1 * d2\n",
    "print(\"The sum of the two fractions is:\", sum_numerator, \"/\", sum_denominator)\n",
    "# print('{}/{}'.format(sum_numerator,sum_denominator))"
   ]
  },
  {
   "cell_type": "code",
   "execution_count": null,
   "id": "1980f0ba",
   "metadata": {},
   "outputs": [],
   "source": [
    "from math import gcd  # to simplify the fraction\n",
    "\n",
    "# Function to simplify a fraction\n",
    "def simplify(numerator, denominator):\n",
    "    common = gcd(numerator, denominator)\n",
    "    return numerator // common, denominator // common\n",
    "\n",
    "# Take input for first fraction\n",
    "num1 = int(input(\"Enter numerator of first fraction: \"))\n",
    "den1 = int(input(\"Enter denominator of first fraction: \"))\n",
    "\n",
    "# Take input for second fraction\n",
    "num2 = int(input(\"Enter numerator of second fraction: \"))\n",
    "den2 = int(input(\"Enter denominator of second fraction: \"))\n",
    "\n",
    "# Find LCM of denominators\n",
    "lcm = (den1 * den2) // gcd(den1, den2)\n",
    "\n",
    "# Convert fractions to have same denominator\n",
    "num1 = num1 * (lcm // den1)\n",
    "num2 = num2 * (lcm // den2)\n",
    "\n",
    "# Add numerators\n",
    "sum_num = num1 + num2\n",
    "sum_den = lcm\n",
    "\n",
    "# Simplify the result\n",
    "sum_num, sum_den = simplify(sum_num, sum_den)\n",
    "\n",
    "print(f\"Sum of fractions = {sum_num}/{sum_den}\")\n"
   ]
  },
  {
   "cell_type": "markdown",
   "id": "68445c6d",
   "metadata": {},
   "source": [
    "### Q10:- Given the height, width and breadth of a milk tank, you have to find out how many glasses of milk can be obtained? Assume all the inputs are provided by the user.\n",
    "\n",
    "\n",
    "\n",
    "Input:<br>\n",
    "Dimensions of the milk tank<br>\n",
    "H = 20cm, L = 20cm, B = 20cm\n",
    "<br><br>\n",
    "Dimensions of the glass<br>\n",
    "h = 3cm, r = 1cm"
   ]
  },
  {
   "cell_type": "code",
   "execution_count": 34,
   "id": "6d55f708",
   "metadata": {},
   "outputs": [
    {
     "name": "stdout",
     "output_type": "stream",
     "text": [
      "Volume of tank is: 8000\n",
      "Volume of glass is: 28.259999999999998\n",
      "Number of glasses required to fill the tank: 283\n"
     ]
    }
   ],
   "source": [
    "import math\n",
    "\n",
    "# Dimension of milk tank \n",
    "H = int(input(\"Enter the height of the tank: \"))\n",
    "L = int(input(\"Enter the radius of the tank: \"))\n",
    "B = int(input(\"Enter the breadth of the tank: \"))\n",
    "\n",
    "# Dimension of glass\n",
    "r = int(input(\"Enter the radius of the glass: \"))\n",
    "h = int(input(\"Enter the height of the glass: \"))\n",
    "\n",
    "\n",
    "# Volume of tank\n",
    "tank_volume = L * B* H\n",
    "print(\"Volume of tank is:\", tank_volume)\n",
    "\n",
    "# Volume of glass\n",
    "glass_volume = 3.14 * r * r * h\n",
    "print(\"Volume of glass is:\", glass_volume)\n",
    "\n",
    "# Number of glasses to fill the tank\n",
    "num_glasses = math.floor(tank_volume // glass_volume)\n",
    "print(\"Number of glasses required to fill the tank:\", num_glasses)\n"
   ]
  },
  {
   "cell_type": "code",
   "execution_count": null,
   "id": "e1dbc429",
   "metadata": {},
   "outputs": [],
   "source": []
  }
 ],
 "metadata": {
  "kernelspec": {
   "display_name": "base",
   "language": "python",
   "name": "python3"
  },
  "language_info": {
   "codemirror_mode": {
    "name": "ipython",
    "version": 3
   },
   "file_extension": ".py",
   "mimetype": "text/x-python",
   "name": "python",
   "nbconvert_exporter": "python",
   "pygments_lexer": "ipython3",
   "version": "3.13.5"
  }
 },
 "nbformat": 4,
 "nbformat_minor": 5
}
