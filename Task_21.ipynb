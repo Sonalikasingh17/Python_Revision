{
  "cells": [
    {
      "cell_type": "code",
      "execution_count": 1,
      "metadata": {
        "id": "gZyo07nMM_Ds"
      },
      "outputs": [],
      "source": [
        "import pandas as pd"
      ]
    },
    {
      "cell_type": "markdown",
      "metadata": {
        "id": "GljWwvYWNIRf"
      },
      "source": [
        "##### `Q-1:` You are given a Multi index DataFrame. You task is to swap level-0 index with level-0 column.\n",
        "* Change Branch -> ('cse', 'ece') as columns at level-0 and ('delhi'\t'mumbai') as level-0 Index\n",
        "* And Sort on row index level-0"
      ]
    },
    {
      "cell_type": "code",
      "execution_count": 2,
      "metadata": {
        "colab": {
          "base_uri": "https://localhost:8080/",
          "height": 332
        },
        "id": "lGGCC0xVNKNT",
        "outputId": "a9105459-9682-48aa-ab43-46a05206f367"
      },
      "outputs": [
        {
          "data": {
            "application/vnd.microsoft.datawrangler.viewer.v0+json": {
              "columns": [
                {
                  "name": "(None, None)",
                  "rawType": "object",
                  "type": "unknown"
                },
                {
                  "name": "('delhi', 'avg_package')",
                  "rawType": "int64",
                  "type": "integer"
                },
                {
                  "name": "('delhi', 'students')",
                  "rawType": "int64",
                  "type": "integer"
                },
                {
                  "name": "('mumbai', 'avg_package')",
                  "rawType": "int64",
                  "type": "integer"
                },
                {
                  "name": "('mumbai', 'students')",
                  "rawType": "int64",
                  "type": "integer"
                }
              ],
              "ref": "b0eca084-ea17-4cfa-9066-fa221ae5e446",
              "rows": [
                [
                  "('cse', np.int64(2019))",
                  "1",
                  "2",
                  "0",
                  "0"
                ],
                [
                  "('cse', np.int64(2020))",
                  "3",
                  "4",
                  "0",
                  "0"
                ],
                [
                  "('cse', np.int64(2021))",
                  "5",
                  "6",
                  "0",
                  "0"
                ],
                [
                  "('cse', np.int64(2022))",
                  "7",
                  "8",
                  "0",
                  "0"
                ],
                [
                  "('ece', np.int64(2019))",
                  "9",
                  "10",
                  "0",
                  "0"
                ],
                [
                  "('ece', np.int64(2020))",
                  "11",
                  "12",
                  "0",
                  "0"
                ],
                [
                  "('ece', np.int64(2021))",
                  "13",
                  "14",
                  "0",
                  "0"
                ],
                [
                  "('ece', np.int64(2022))",
                  "15",
                  "16",
                  "0",
                  "0"
                ]
              ],
              "shape": {
                "columns": 4,
                "rows": 8
              }
            },
            "text/html": [
              "<div>\n",
              "<style scoped>\n",
              "    .dataframe tbody tr th:only-of-type {\n",
              "        vertical-align: middle;\n",
              "    }\n",
              "\n",
              "    .dataframe tbody tr th {\n",
              "        vertical-align: top;\n",
              "    }\n",
              "\n",
              "    .dataframe thead tr th {\n",
              "        text-align: left;\n",
              "    }\n",
              "</style>\n",
              "<table border=\"1\" class=\"dataframe\">\n",
              "  <thead>\n",
              "    <tr>\n",
              "      <th></th>\n",
              "      <th></th>\n",
              "      <th colspan=\"2\" halign=\"left\">delhi</th>\n",
              "      <th colspan=\"2\" halign=\"left\">mumbai</th>\n",
              "    </tr>\n",
              "    <tr>\n",
              "      <th></th>\n",
              "      <th></th>\n",
              "      <th>avg_package</th>\n",
              "      <th>students</th>\n",
              "      <th>avg_package</th>\n",
              "      <th>students</th>\n",
              "    </tr>\n",
              "  </thead>\n",
              "  <tbody>\n",
              "    <tr>\n",
              "      <th rowspan=\"4\" valign=\"top\">cse</th>\n",
              "      <th>2019</th>\n",
              "      <td>1</td>\n",
              "      <td>2</td>\n",
              "      <td>0</td>\n",
              "      <td>0</td>\n",
              "    </tr>\n",
              "    <tr>\n",
              "      <th>2020</th>\n",
              "      <td>3</td>\n",
              "      <td>4</td>\n",
              "      <td>0</td>\n",
              "      <td>0</td>\n",
              "    </tr>\n",
              "    <tr>\n",
              "      <th>2021</th>\n",
              "      <td>5</td>\n",
              "      <td>6</td>\n",
              "      <td>0</td>\n",
              "      <td>0</td>\n",
              "    </tr>\n",
              "    <tr>\n",
              "      <th>2022</th>\n",
              "      <td>7</td>\n",
              "      <td>8</td>\n",
              "      <td>0</td>\n",
              "      <td>0</td>\n",
              "    </tr>\n",
              "    <tr>\n",
              "      <th rowspan=\"4\" valign=\"top\">ece</th>\n",
              "      <th>2019</th>\n",
              "      <td>9</td>\n",
              "      <td>10</td>\n",
              "      <td>0</td>\n",
              "      <td>0</td>\n",
              "    </tr>\n",
              "    <tr>\n",
              "      <th>2020</th>\n",
              "      <td>11</td>\n",
              "      <td>12</td>\n",
              "      <td>0</td>\n",
              "      <td>0</td>\n",
              "    </tr>\n",
              "    <tr>\n",
              "      <th>2021</th>\n",
              "      <td>13</td>\n",
              "      <td>14</td>\n",
              "      <td>0</td>\n",
              "      <td>0</td>\n",
              "    </tr>\n",
              "    <tr>\n",
              "      <th>2022</th>\n",
              "      <td>15</td>\n",
              "      <td>16</td>\n",
              "      <td>0</td>\n",
              "      <td>0</td>\n",
              "    </tr>\n",
              "  </tbody>\n",
              "</table>\n",
              "</div>"
            ],
            "text/plain": [
              "               delhi               mumbai         \n",
              "         avg_package students avg_package students\n",
              "cse 2019           1        2           0        0\n",
              "    2020           3        4           0        0\n",
              "    2021           5        6           0        0\n",
              "    2022           7        8           0        0\n",
              "ece 2019           9       10           0        0\n",
              "    2020          11       12           0        0\n",
              "    2021          13       14           0        0\n",
              "    2022          15       16           0        0"
            ]
          },
          "execution_count": 2,
          "metadata": {},
          "output_type": "execute_result"
        }
      ],
      "source": [
        "# Given Code Snippets\n",
        "index_val = [('cse',2019),('cse',2020),('cse',2021),('cse',2022),('ece',2019),('ece',2020),('ece',2021),('ece',2022)]\n",
        "multiindex = pd.MultiIndex.from_tuples(index_val)\n",
        "df = pd.DataFrame(\n",
        "    [\n",
        "        [1,2,0,0],\n",
        "        [3,4,0,0],\n",
        "        [5,6,0,0],\n",
        "        [7,8,0,0],\n",
        "        [9,10,0,0],\n",
        "        [11,12,0,0],\n",
        "        [13,14,0,0],\n",
        "        [15,16,0,0],\n",
        "    ],\n",
        "    index = multiindex,\n",
        "    columns = pd.MultiIndex.from_product([['delhi','mumbai'],['avg_package','students']])\n",
        ")\n",
        "\n",
        "df"
      ]
    },
    {
      "cell_type": "code",
      "execution_count": 3,
      "metadata": {
        "id": "KFu4-dIFNNxa"
      },
      "outputs": [
        {
          "name": "stderr",
          "output_type": "stream",
          "text": [
            "C:\\Users\\singh\\AppData\\Local\\Temp\\ipykernel_12796\\2802933979.py:2: FutureWarning: The previous implementation of stack is deprecated and will be removed in a future version of pandas. See the What's New notes for pandas 2.1.0 for details. Specify future_stack=True to adopt the new implementation and silence this warning.\n",
            "  df.unstack(level=0).stack(level=0).swaplevel().swaplevel(axis=1).sort_index()\n"
          ]
        },
        {
          "data": {
            "application/vnd.microsoft.datawrangler.viewer.v0+json": {
              "columns": [
                {
                  "name": "(None, None)",
                  "rawType": "object",
                  "type": "unknown"
                },
                {
                  "name": "('cse', 'avg_package')",
                  "rawType": "int64",
                  "type": "integer"
                },
                {
                  "name": "('ece', 'avg_package')",
                  "rawType": "int64",
                  "type": "integer"
                },
                {
                  "name": "('cse', 'students')",
                  "rawType": "int64",
                  "type": "integer"
                },
                {
                  "name": "('ece', 'students')",
                  "rawType": "int64",
                  "type": "integer"
                }
              ],
              "ref": "de525ad4-4e0c-4401-a1f4-e1847ddb32d1",
              "rows": [
                [
                  "('delhi', np.int64(2019))",
                  "1",
                  "9",
                  "2",
                  "10"
                ],
                [
                  "('delhi', np.int64(2020))",
                  "3",
                  "11",
                  "4",
                  "12"
                ],
                [
                  "('delhi', np.int64(2021))",
                  "5",
                  "13",
                  "6",
                  "14"
                ],
                [
                  "('delhi', np.int64(2022))",
                  "7",
                  "15",
                  "8",
                  "16"
                ],
                [
                  "('mumbai', np.int64(2019))",
                  "0",
                  "0",
                  "0",
                  "0"
                ],
                [
                  "('mumbai', np.int64(2020))",
                  "0",
                  "0",
                  "0",
                  "0"
                ],
                [
                  "('mumbai', np.int64(2021))",
                  "0",
                  "0",
                  "0",
                  "0"
                ],
                [
                  "('mumbai', np.int64(2022))",
                  "0",
                  "0",
                  "0",
                  "0"
                ]
              ],
              "shape": {
                "columns": 4,
                "rows": 8
              }
            },
            "text/html": [
              "<div>\n",
              "<style scoped>\n",
              "    .dataframe tbody tr th:only-of-type {\n",
              "        vertical-align: middle;\n",
              "    }\n",
              "\n",
              "    .dataframe tbody tr th {\n",
              "        vertical-align: top;\n",
              "    }\n",
              "\n",
              "    .dataframe thead tr th {\n",
              "        text-align: left;\n",
              "    }\n",
              "</style>\n",
              "<table border=\"1\" class=\"dataframe\">\n",
              "  <thead>\n",
              "    <tr>\n",
              "      <th></th>\n",
              "      <th></th>\n",
              "      <th>cse</th>\n",
              "      <th>ece</th>\n",
              "      <th>cse</th>\n",
              "      <th>ece</th>\n",
              "    </tr>\n",
              "    <tr>\n",
              "      <th></th>\n",
              "      <th></th>\n",
              "      <th>avg_package</th>\n",
              "      <th>avg_package</th>\n",
              "      <th>students</th>\n",
              "      <th>students</th>\n",
              "    </tr>\n",
              "  </thead>\n",
              "  <tbody>\n",
              "    <tr>\n",
              "      <th rowspan=\"4\" valign=\"top\">delhi</th>\n",
              "      <th>2019</th>\n",
              "      <td>1</td>\n",
              "      <td>9</td>\n",
              "      <td>2</td>\n",
              "      <td>10</td>\n",
              "    </tr>\n",
              "    <tr>\n",
              "      <th>2020</th>\n",
              "      <td>3</td>\n",
              "      <td>11</td>\n",
              "      <td>4</td>\n",
              "      <td>12</td>\n",
              "    </tr>\n",
              "    <tr>\n",
              "      <th>2021</th>\n",
              "      <td>5</td>\n",
              "      <td>13</td>\n",
              "      <td>6</td>\n",
              "      <td>14</td>\n",
              "    </tr>\n",
              "    <tr>\n",
              "      <th>2022</th>\n",
              "      <td>7</td>\n",
              "      <td>15</td>\n",
              "      <td>8</td>\n",
              "      <td>16</td>\n",
              "    </tr>\n",
              "    <tr>\n",
              "      <th rowspan=\"4\" valign=\"top\">mumbai</th>\n",
              "      <th>2019</th>\n",
              "      <td>0</td>\n",
              "      <td>0</td>\n",
              "      <td>0</td>\n",
              "      <td>0</td>\n",
              "    </tr>\n",
              "    <tr>\n",
              "      <th>2020</th>\n",
              "      <td>0</td>\n",
              "      <td>0</td>\n",
              "      <td>0</td>\n",
              "      <td>0</td>\n",
              "    </tr>\n",
              "    <tr>\n",
              "      <th>2021</th>\n",
              "      <td>0</td>\n",
              "      <td>0</td>\n",
              "      <td>0</td>\n",
              "      <td>0</td>\n",
              "    </tr>\n",
              "    <tr>\n",
              "      <th>2022</th>\n",
              "      <td>0</td>\n",
              "      <td>0</td>\n",
              "      <td>0</td>\n",
              "      <td>0</td>\n",
              "    </tr>\n",
              "  </tbody>\n",
              "</table>\n",
              "</div>"
            ],
            "text/plain": [
              "                    cse         ece      cse      ece\n",
              "            avg_package avg_package students students\n",
              "delhi  2019           1           9        2       10\n",
              "       2020           3          11        4       12\n",
              "       2021           5          13        6       14\n",
              "       2022           7          15        8       16\n",
              "mumbai 2019           0           0        0        0\n",
              "       2020           0           0        0        0\n",
              "       2021           0           0        0        0\n",
              "       2022           0           0        0        0"
            ]
          },
          "execution_count": 3,
          "metadata": {},
          "output_type": "execute_result"
        }
      ],
      "source": [
        "# code here\n",
        "df.unstack(level=0).stack(level=0).swaplevel().swaplevel(axis=1).sort_index()"
      ]
    },
    {
      "cell_type": "markdown",
      "metadata": {
        "id": "hG2FVM5yNfky"
      },
      "source": [
        "##### `Q-2:` Covid Cases Data Set Problem\n",
        " Make a DataFrame Using both Covid Dataset. With Country name as Level-0 and Provinance/State as Level-1 Index and date, No of cases and No of Deaths as Columns."
      ]
    },
    {
      "cell_type": "code",
      "execution_count": 20,
      "metadata": {
        "id": "OzTr2O_wNgNy"
      },
      "outputs": [],
      "source": [
        "confirm = pd.read_csv('https://docs.google.com/spreadsheets/d/e/2PACX-1vTmqT3kxd0i0RUFiEnwA1Hboiunv28MeNTatZsIEqlPPB7mHrl0ttJL7utZ23_1s5FW8ZjODmB8jHIi/pub?gid=2142019845&single=true&output=csv')\n",
        "\n",
        "deaths = pd.read_csv(\"https://docs.google.com/spreadsheets/d/e/2PACX-1vQn4nLCKIVZMw4e89YeRqgKaSAAwRFaZ6ILMW_FUejZ2tkv3Np1f9gD4QOl3ASHeLzWjOjfmLDKcCOF/pub?gid=212966958&single=true&output=csv\")"
      ]
    },
    {
      "cell_type": "code",
      "execution_count": 21,
      "metadata": {},
      "outputs": [
        {
          "data": {
            "application/vnd.microsoft.datawrangler.viewer.v0+json": {
              "columns": [
                {
                  "name": "index",
                  "rawType": "int64",
                  "type": "integer"
                },
                {
                  "name": "Province/State",
                  "rawType": "object",
                  "type": "unknown"
                },
                {
                  "name": "Country/Region",
                  "rawType": "object",
                  "type": "string"
                },
                {
                  "name": "Lat",
                  "rawType": "float64",
                  "type": "float"
                },
                {
                  "name": "Long",
                  "rawType": "float64",
                  "type": "float"
                },
                {
                  "name": "1/22/20",
                  "rawType": "int64",
                  "type": "integer"
                },
                {
                  "name": "1/23/20",
                  "rawType": "int64",
                  "type": "integer"
                },
                {
                  "name": "1/24/20",
                  "rawType": "int64",
                  "type": "integer"
                },
                {
                  "name": "1/25/20",
                  "rawType": "int64",
                  "type": "integer"
                },
                {
                  "name": "1/26/20",
                  "rawType": "int64",
                  "type": "integer"
                },
                {
                  "name": "1/27/20",
                  "rawType": "int64",
                  "type": "integer"
                },
                {
                  "name": "1/28/20",
                  "rawType": "int64",
                  "type": "integer"
                },
                {
                  "name": "1/29/20",
                  "rawType": "int64",
                  "type": "integer"
                },
                {
                  "name": "1/30/20",
                  "rawType": "int64",
                  "type": "integer"
                },
                {
                  "name": "1/31/20",
                  "rawType": "int64",
                  "type": "integer"
                },
                {
                  "name": "2/1/20",
                  "rawType": "int64",
                  "type": "integer"
                },
                {
                  "name": "2/2/20",
                  "rawType": "int64",
                  "type": "integer"
                },
                {
                  "name": "2/3/20",
                  "rawType": "int64",
                  "type": "integer"
                },
                {
                  "name": "2/4/20",
                  "rawType": "int64",
                  "type": "integer"
                },
                {
                  "name": "2/5/20",
                  "rawType": "int64",
                  "type": "integer"
                },
                {
                  "name": "2/6/20",
                  "rawType": "int64",
                  "type": "integer"
                },
                {
                  "name": "2/7/20",
                  "rawType": "int64",
                  "type": "integer"
                },
                {
                  "name": "2/8/20",
                  "rawType": "int64",
                  "type": "integer"
                },
                {
                  "name": "2/9/20",
                  "rawType": "int64",
                  "type": "integer"
                },
                {
                  "name": "2/10/20",
                  "rawType": "int64",
                  "type": "integer"
                },
                {
                  "name": "2/11/20",
                  "rawType": "int64",
                  "type": "integer"
                },
                {
                  "name": "2/12/20",
                  "rawType": "int64",
                  "type": "integer"
                },
                {
                  "name": "2/13/20",
                  "rawType": "int64",
                  "type": "integer"
                },
                {
                  "name": "2/14/20",
                  "rawType": "int64",
                  "type": "integer"
                },
                {
                  "name": "2/15/20",
                  "rawType": "int64",
                  "type": "integer"
                },
                {
                  "name": "2/16/20",
                  "rawType": "int64",
                  "type": "integer"
                },
                {
                  "name": "2/17/20",
                  "rawType": "int64",
                  "type": "integer"
                },
                {
                  "name": "2/18/20",
                  "rawType": "int64",
                  "type": "integer"
                },
                {
                  "name": "2/19/20",
                  "rawType": "int64",
                  "type": "integer"
                },
                {
                  "name": "2/20/20",
                  "rawType": "int64",
                  "type": "integer"
                },
                {
                  "name": "2/21/20",
                  "rawType": "int64",
                  "type": "integer"
                },
                {
                  "name": "2/22/20",
                  "rawType": "int64",
                  "type": "integer"
                },
                {
                  "name": "2/23/20",
                  "rawType": "int64",
                  "type": "integer"
                },
                {
                  "name": "2/24/20",
                  "rawType": "int64",
                  "type": "integer"
                },
                {
                  "name": "2/25/20",
                  "rawType": "int64",
                  "type": "integer"
                },
                {
                  "name": "2/26/20",
                  "rawType": "int64",
                  "type": "integer"
                },
                {
                  "name": "2/27/20",
                  "rawType": "int64",
                  "type": "integer"
                },
                {
                  "name": "2/28/20",
                  "rawType": "int64",
                  "type": "integer"
                },
                {
                  "name": "2/29/20",
                  "rawType": "int64",
                  "type": "integer"
                },
                {
                  "name": "3/1/20",
                  "rawType": "int64",
                  "type": "integer"
                },
                {
                  "name": "3/2/20",
                  "rawType": "int64",
                  "type": "integer"
                },
                {
                  "name": "3/3/20",
                  "rawType": "int64",
                  "type": "integer"
                },
                {
                  "name": "3/4/20",
                  "rawType": "int64",
                  "type": "integer"
                },
                {
                  "name": "3/5/20",
                  "rawType": "int64",
                  "type": "integer"
                },
                {
                  "name": "3/6/20",
                  "rawType": "int64",
                  "type": "integer"
                },
                {
                  "name": "3/7/20",
                  "rawType": "int64",
                  "type": "integer"
                },
                {
                  "name": "3/8/20",
                  "rawType": "int64",
                  "type": "integer"
                },
                {
                  "name": "3/9/20",
                  "rawType": "int64",
                  "type": "integer"
                },
                {
                  "name": "3/10/20",
                  "rawType": "int64",
                  "type": "integer"
                },
                {
                  "name": "3/11/20",
                  "rawType": "int64",
                  "type": "integer"
                },
                {
                  "name": "3/12/20",
                  "rawType": "int64",
                  "type": "integer"
                },
                {
                  "name": "3/13/20",
                  "rawType": "int64",
                  "type": "integer"
                },
                {
                  "name": "3/14/20",
                  "rawType": "int64",
                  "type": "integer"
                },
                {
                  "name": "3/15/20",
                  "rawType": "int64",
                  "type": "integer"
                },
                {
                  "name": "3/16/20",
                  "rawType": "int64",
                  "type": "integer"
                },
                {
                  "name": "3/17/20",
                  "rawType": "int64",
                  "type": "integer"
                },
                {
                  "name": "3/18/20",
                  "rawType": "int64",
                  "type": "integer"
                },
                {
                  "name": "3/19/20",
                  "rawType": "int64",
                  "type": "integer"
                },
                {
                  "name": "3/20/20",
                  "rawType": "int64",
                  "type": "integer"
                },
                {
                  "name": "3/21/20",
                  "rawType": "int64",
                  "type": "integer"
                },
                {
                  "name": "3/22/20",
                  "rawType": "int64",
                  "type": "integer"
                },
                {
                  "name": "3/23/20",
                  "rawType": "int64",
                  "type": "integer"
                },
                {
                  "name": "3/24/20",
                  "rawType": "int64",
                  "type": "integer"
                },
                {
                  "name": "3/25/20",
                  "rawType": "int64",
                  "type": "integer"
                },
                {
                  "name": "3/26/20",
                  "rawType": "int64",
                  "type": "integer"
                },
                {
                  "name": "3/27/20",
                  "rawType": "int64",
                  "type": "integer"
                },
                {
                  "name": "3/28/20",
                  "rawType": "int64",
                  "type": "integer"
                },
                {
                  "name": "3/29/20",
                  "rawType": "int64",
                  "type": "integer"
                },
                {
                  "name": "3/30/20",
                  "rawType": "int64",
                  "type": "integer"
                },
                {
                  "name": "3/31/20",
                  "rawType": "int64",
                  "type": "integer"
                },
                {
                  "name": "4/1/20",
                  "rawType": "int64",
                  "type": "integer"
                },
                {
                  "name": "4/2/20",
                  "rawType": "int64",
                  "type": "integer"
                },
                {
                  "name": "4/3/20",
                  "rawType": "int64",
                  "type": "integer"
                },
                {
                  "name": "4/4/20",
                  "rawType": "int64",
                  "type": "integer"
                },
                {
                  "name": "4/5/20",
                  "rawType": "int64",
                  "type": "integer"
                },
                {
                  "name": "4/6/20",
                  "rawType": "int64",
                  "type": "integer"
                },
                {
                  "name": "4/7/20",
                  "rawType": "int64",
                  "type": "integer"
                },
                {
                  "name": "4/8/20",
                  "rawType": "int64",
                  "type": "integer"
                },
                {
                  "name": "4/9/20",
                  "rawType": "int64",
                  "type": "integer"
                },
                {
                  "name": "4/10/20",
                  "rawType": "int64",
                  "type": "integer"
                },
                {
                  "name": "4/11/20",
                  "rawType": "int64",
                  "type": "integer"
                },
                {
                  "name": "4/12/20",
                  "rawType": "int64",
                  "type": "integer"
                },
                {
                  "name": "4/13/20",
                  "rawType": "int64",
                  "type": "integer"
                },
                {
                  "name": "4/14/20",
                  "rawType": "int64",
                  "type": "integer"
                },
                {
                  "name": "4/15/20",
                  "rawType": "int64",
                  "type": "integer"
                },
                {
                  "name": "4/16/20",
                  "rawType": "int64",
                  "type": "integer"
                },
                {
                  "name": "4/17/20",
                  "rawType": "int64",
                  "type": "integer"
                },
                {
                  "name": "4/18/20",
                  "rawType": "int64",
                  "type": "integer"
                },
                {
                  "name": "4/19/20",
                  "rawType": "int64",
                  "type": "integer"
                },
                {
                  "name": "4/20/20",
                  "rawType": "int64",
                  "type": "integer"
                },
                {
                  "name": "4/21/20",
                  "rawType": "int64",
                  "type": "integer"
                },
                {
                  "name": "4/22/20",
                  "rawType": "int64",
                  "type": "integer"
                },
                {
                  "name": "4/23/20",
                  "rawType": "int64",
                  "type": "integer"
                },
                {
                  "name": "4/24/20",
                  "rawType": "int64",
                  "type": "integer"
                },
                {
                  "name": "4/25/20",
                  "rawType": "int64",
                  "type": "integer"
                },
                {
                  "name": "4/26/20",
                  "rawType": "int64",
                  "type": "integer"
                },
                {
                  "name": "4/27/20",
                  "rawType": "int64",
                  "type": "integer"
                },
                {
                  "name": "4/28/20",
                  "rawType": "int64",
                  "type": "integer"
                },
                {
                  "name": "4/29/20",
                  "rawType": "int64",
                  "type": "integer"
                },
                {
                  "name": "4/30/20",
                  "rawType": "int64",
                  "type": "integer"
                },
                {
                  "name": "5/1/20",
                  "rawType": "int64",
                  "type": "integer"
                },
                {
                  "name": "5/2/20",
                  "rawType": "int64",
                  "type": "integer"
                },
                {
                  "name": "5/3/20",
                  "rawType": "int64",
                  "type": "integer"
                },
                {
                  "name": "5/4/20",
                  "rawType": "int64",
                  "type": "integer"
                },
                {
                  "name": "5/5/20",
                  "rawType": "int64",
                  "type": "integer"
                },
                {
                  "name": "5/6/20",
                  "rawType": "int64",
                  "type": "integer"
                },
                {
                  "name": "5/7/20",
                  "rawType": "int64",
                  "type": "integer"
                },
                {
                  "name": "5/8/20",
                  "rawType": "int64",
                  "type": "integer"
                },
                {
                  "name": "5/9/20",
                  "rawType": "int64",
                  "type": "integer"
                },
                {
                  "name": "5/10/20",
                  "rawType": "int64",
                  "type": "integer"
                },
                {
                  "name": "5/11/20",
                  "rawType": "int64",
                  "type": "integer"
                },
                {
                  "name": "5/12/20",
                  "rawType": "int64",
                  "type": "integer"
                },
                {
                  "name": "5/13/20",
                  "rawType": "int64",
                  "type": "integer"
                },
                {
                  "name": "5/14/20",
                  "rawType": "int64",
                  "type": "integer"
                },
                {
                  "name": "5/15/20",
                  "rawType": "int64",
                  "type": "integer"
                },
                {
                  "name": "5/16/20",
                  "rawType": "int64",
                  "type": "integer"
                },
                {
                  "name": "5/17/20",
                  "rawType": "int64",
                  "type": "integer"
                },
                {
                  "name": "5/18/20",
                  "rawType": "int64",
                  "type": "integer"
                },
                {
                  "name": "5/19/20",
                  "rawType": "int64",
                  "type": "integer"
                },
                {
                  "name": "5/20/20",
                  "rawType": "int64",
                  "type": "integer"
                },
                {
                  "name": "5/21/20",
                  "rawType": "int64",
                  "type": "integer"
                },
                {
                  "name": "5/22/20",
                  "rawType": "int64",
                  "type": "integer"
                },
                {
                  "name": "5/23/20",
                  "rawType": "int64",
                  "type": "integer"
                },
                {
                  "name": "5/24/20",
                  "rawType": "int64",
                  "type": "integer"
                },
                {
                  "name": "5/25/20",
                  "rawType": "int64",
                  "type": "integer"
                },
                {
                  "name": "5/26/20",
                  "rawType": "int64",
                  "type": "integer"
                },
                {
                  "name": "5/27/20",
                  "rawType": "int64",
                  "type": "integer"
                },
                {
                  "name": "5/28/20",
                  "rawType": "int64",
                  "type": "integer"
                },
                {
                  "name": "5/29/20",
                  "rawType": "int64",
                  "type": "integer"
                },
                {
                  "name": "5/30/20",
                  "rawType": "int64",
                  "type": "integer"
                },
                {
                  "name": "5/31/20",
                  "rawType": "int64",
                  "type": "integer"
                },
                {
                  "name": "6/1/20",
                  "rawType": "int64",
                  "type": "integer"
                },
                {
                  "name": "6/2/20",
                  "rawType": "int64",
                  "type": "integer"
                },
                {
                  "name": "6/3/20",
                  "rawType": "int64",
                  "type": "integer"
                },
                {
                  "name": "6/4/20",
                  "rawType": "int64",
                  "type": "integer"
                },
                {
                  "name": "6/5/20",
                  "rawType": "int64",
                  "type": "integer"
                },
                {
                  "name": "6/6/20",
                  "rawType": "int64",
                  "type": "integer"
                },
                {
                  "name": "6/7/20",
                  "rawType": "int64",
                  "type": "integer"
                },
                {
                  "name": "6/8/20",
                  "rawType": "int64",
                  "type": "integer"
                },
                {
                  "name": "6/9/20",
                  "rawType": "int64",
                  "type": "integer"
                },
                {
                  "name": "6/10/20",
                  "rawType": "int64",
                  "type": "integer"
                },
                {
                  "name": "6/11/20",
                  "rawType": "int64",
                  "type": "integer"
                },
                {
                  "name": "6/12/20",
                  "rawType": "int64",
                  "type": "integer"
                },
                {
                  "name": "6/13/20",
                  "rawType": "int64",
                  "type": "integer"
                },
                {
                  "name": "6/14/20",
                  "rawType": "int64",
                  "type": "integer"
                },
                {
                  "name": "6/15/20",
                  "rawType": "int64",
                  "type": "integer"
                },
                {
                  "name": "6/16/20",
                  "rawType": "int64",
                  "type": "integer"
                },
                {
                  "name": "6/17/20",
                  "rawType": "int64",
                  "type": "integer"
                },
                {
                  "name": "6/18/20",
                  "rawType": "int64",
                  "type": "integer"
                },
                {
                  "name": "6/19/20",
                  "rawType": "int64",
                  "type": "integer"
                },
                {
                  "name": "6/20/20",
                  "rawType": "int64",
                  "type": "integer"
                },
                {
                  "name": "6/21/20",
                  "rawType": "int64",
                  "type": "integer"
                },
                {
                  "name": "6/22/20",
                  "rawType": "int64",
                  "type": "integer"
                },
                {
                  "name": "6/23/20",
                  "rawType": "int64",
                  "type": "integer"
                },
                {
                  "name": "6/24/20",
                  "rawType": "int64",
                  "type": "integer"
                },
                {
                  "name": "6/25/20",
                  "rawType": "int64",
                  "type": "integer"
                },
                {
                  "name": "6/26/20",
                  "rawType": "int64",
                  "type": "integer"
                },
                {
                  "name": "6/27/20",
                  "rawType": "int64",
                  "type": "integer"
                },
                {
                  "name": "6/28/20",
                  "rawType": "int64",
                  "type": "integer"
                },
                {
                  "name": "6/29/20",
                  "rawType": "int64",
                  "type": "integer"
                },
                {
                  "name": "6/30/20",
                  "rawType": "int64",
                  "type": "integer"
                },
                {
                  "name": "7/1/20",
                  "rawType": "int64",
                  "type": "integer"
                },
                {
                  "name": "7/2/20",
                  "rawType": "int64",
                  "type": "integer"
                },
                {
                  "name": "7/3/20",
                  "rawType": "int64",
                  "type": "integer"
                },
                {
                  "name": "7/4/20",
                  "rawType": "int64",
                  "type": "integer"
                },
                {
                  "name": "7/5/20",
                  "rawType": "int64",
                  "type": "integer"
                },
                {
                  "name": "7/6/20",
                  "rawType": "int64",
                  "type": "integer"
                },
                {
                  "name": "7/7/20",
                  "rawType": "int64",
                  "type": "integer"
                },
                {
                  "name": "7/8/20",
                  "rawType": "int64",
                  "type": "integer"
                },
                {
                  "name": "7/9/20",
                  "rawType": "int64",
                  "type": "integer"
                },
                {
                  "name": "7/10/20",
                  "rawType": "int64",
                  "type": "integer"
                },
                {
                  "name": "7/11/20",
                  "rawType": "int64",
                  "type": "integer"
                },
                {
                  "name": "7/12/20",
                  "rawType": "int64",
                  "type": "integer"
                },
                {
                  "name": "7/13/20",
                  "rawType": "int64",
                  "type": "integer"
                },
                {
                  "name": "7/14/20",
                  "rawType": "int64",
                  "type": "integer"
                },
                {
                  "name": "7/15/20",
                  "rawType": "int64",
                  "type": "integer"
                },
                {
                  "name": "7/16/20",
                  "rawType": "int64",
                  "type": "integer"
                },
                {
                  "name": "7/17/20",
                  "rawType": "int64",
                  "type": "integer"
                },
                {
                  "name": "7/18/20",
                  "rawType": "int64",
                  "type": "integer"
                },
                {
                  "name": "7/19/20",
                  "rawType": "int64",
                  "type": "integer"
                },
                {
                  "name": "7/20/20",
                  "rawType": "int64",
                  "type": "integer"
                },
                {
                  "name": "7/21/20",
                  "rawType": "int64",
                  "type": "integer"
                },
                {
                  "name": "7/22/20",
                  "rawType": "int64",
                  "type": "integer"
                },
                {
                  "name": "7/23/20",
                  "rawType": "int64",
                  "type": "integer"
                },
                {
                  "name": "7/24/20",
                  "rawType": "int64",
                  "type": "integer"
                },
                {
                  "name": "7/25/20",
                  "rawType": "int64",
                  "type": "integer"
                },
                {
                  "name": "7/26/20",
                  "rawType": "int64",
                  "type": "integer"
                },
                {
                  "name": "7/27/20",
                  "rawType": "int64",
                  "type": "integer"
                },
                {
                  "name": "7/28/20",
                  "rawType": "int64",
                  "type": "integer"
                },
                {
                  "name": "7/29/20",
                  "rawType": "int64",
                  "type": "integer"
                },
                {
                  "name": "7/30/20",
                  "rawType": "int64",
                  "type": "integer"
                },
                {
                  "name": "7/31/20",
                  "rawType": "int64",
                  "type": "integer"
                },
                {
                  "name": "8/1/20",
                  "rawType": "int64",
                  "type": "integer"
                },
                {
                  "name": "8/2/20",
                  "rawType": "int64",
                  "type": "integer"
                },
                {
                  "name": "8/3/20",
                  "rawType": "int64",
                  "type": "integer"
                },
                {
                  "name": "8/4/20",
                  "rawType": "int64",
                  "type": "integer"
                },
                {
                  "name": "8/5/20",
                  "rawType": "int64",
                  "type": "integer"
                },
                {
                  "name": "8/6/20",
                  "rawType": "int64",
                  "type": "integer"
                },
                {
                  "name": "8/7/20",
                  "rawType": "int64",
                  "type": "integer"
                },
                {
                  "name": "8/8/20",
                  "rawType": "int64",
                  "type": "integer"
                },
                {
                  "name": "8/9/20",
                  "rawType": "int64",
                  "type": "integer"
                },
                {
                  "name": "8/10/20",
                  "rawType": "int64",
                  "type": "integer"
                },
                {
                  "name": "8/11/20",
                  "rawType": "int64",
                  "type": "integer"
                },
                {
                  "name": "8/12/20",
                  "rawType": "int64",
                  "type": "integer"
                },
                {
                  "name": "8/13/20",
                  "rawType": "int64",
                  "type": "integer"
                },
                {
                  "name": "8/14/20",
                  "rawType": "int64",
                  "type": "integer"
                },
                {
                  "name": "8/15/20",
                  "rawType": "int64",
                  "type": "integer"
                },
                {
                  "name": "8/16/20",
                  "rawType": "int64",
                  "type": "integer"
                },
                {
                  "name": "8/17/20",
                  "rawType": "int64",
                  "type": "integer"
                },
                {
                  "name": "8/18/20",
                  "rawType": "int64",
                  "type": "integer"
                },
                {
                  "name": "8/19/20",
                  "rawType": "int64",
                  "type": "integer"
                },
                {
                  "name": "8/20/20",
                  "rawType": "int64",
                  "type": "integer"
                },
                {
                  "name": "8/21/20",
                  "rawType": "int64",
                  "type": "integer"
                },
                {
                  "name": "8/22/20",
                  "rawType": "int64",
                  "type": "integer"
                },
                {
                  "name": "8/23/20",
                  "rawType": "int64",
                  "type": "integer"
                },
                {
                  "name": "8/24/20",
                  "rawType": "int64",
                  "type": "integer"
                },
                {
                  "name": "8/25/20",
                  "rawType": "int64",
                  "type": "integer"
                },
                {
                  "name": "8/26/20",
                  "rawType": "int64",
                  "type": "integer"
                },
                {
                  "name": "8/27/20",
                  "rawType": "int64",
                  "type": "integer"
                },
                {
                  "name": "8/28/20",
                  "rawType": "int64",
                  "type": "integer"
                },
                {
                  "name": "8/29/20",
                  "rawType": "int64",
                  "type": "integer"
                },
                {
                  "name": "8/30/20",
                  "rawType": "int64",
                  "type": "integer"
                },
                {
                  "name": "8/31/20",
                  "rawType": "int64",
                  "type": "integer"
                },
                {
                  "name": "9/1/20",
                  "rawType": "int64",
                  "type": "integer"
                },
                {
                  "name": "9/2/20",
                  "rawType": "int64",
                  "type": "integer"
                },
                {
                  "name": "9/3/20",
                  "rawType": "int64",
                  "type": "integer"
                },
                {
                  "name": "9/4/20",
                  "rawType": "int64",
                  "type": "integer"
                },
                {
                  "name": "9/5/20",
                  "rawType": "int64",
                  "type": "integer"
                },
                {
                  "name": "9/6/20",
                  "rawType": "int64",
                  "type": "integer"
                },
                {
                  "name": "9/7/20",
                  "rawType": "int64",
                  "type": "integer"
                },
                {
                  "name": "9/8/20",
                  "rawType": "int64",
                  "type": "integer"
                },
                {
                  "name": "9/9/20",
                  "rawType": "int64",
                  "type": "integer"
                },
                {
                  "name": "9/10/20",
                  "rawType": "int64",
                  "type": "integer"
                },
                {
                  "name": "9/11/20",
                  "rawType": "int64",
                  "type": "integer"
                },
                {
                  "name": "9/12/20",
                  "rawType": "int64",
                  "type": "integer"
                },
                {
                  "name": "9/13/20",
                  "rawType": "int64",
                  "type": "integer"
                },
                {
                  "name": "9/14/20",
                  "rawType": "int64",
                  "type": "integer"
                },
                {
                  "name": "9/15/20",
                  "rawType": "int64",
                  "type": "integer"
                },
                {
                  "name": "9/16/20",
                  "rawType": "int64",
                  "type": "integer"
                },
                {
                  "name": "9/17/20",
                  "rawType": "int64",
                  "type": "integer"
                },
                {
                  "name": "9/18/20",
                  "rawType": "int64",
                  "type": "integer"
                },
                {
                  "name": "9/19/20",
                  "rawType": "int64",
                  "type": "integer"
                },
                {
                  "name": "9/20/20",
                  "rawType": "int64",
                  "type": "integer"
                },
                {
                  "name": "9/21/20",
                  "rawType": "int64",
                  "type": "integer"
                },
                {
                  "name": "9/22/20",
                  "rawType": "int64",
                  "type": "integer"
                },
                {
                  "name": "9/23/20",
                  "rawType": "int64",
                  "type": "integer"
                },
                {
                  "name": "9/24/20",
                  "rawType": "int64",
                  "type": "integer"
                },
                {
                  "name": "9/25/20",
                  "rawType": "int64",
                  "type": "integer"
                },
                {
                  "name": "9/26/20",
                  "rawType": "int64",
                  "type": "integer"
                },
                {
                  "name": "9/27/20",
                  "rawType": "int64",
                  "type": "integer"
                },
                {
                  "name": "9/28/20",
                  "rawType": "int64",
                  "type": "integer"
                },
                {
                  "name": "9/29/20",
                  "rawType": "int64",
                  "type": "integer"
                },
                {
                  "name": "9/30/20",
                  "rawType": "int64",
                  "type": "integer"
                },
                {
                  "name": "10/1/20",
                  "rawType": "int64",
                  "type": "integer"
                },
                {
                  "name": "10/2/20",
                  "rawType": "int64",
                  "type": "integer"
                },
                {
                  "name": "10/3/20",
                  "rawType": "int64",
                  "type": "integer"
                },
                {
                  "name": "10/4/20",
                  "rawType": "int64",
                  "type": "integer"
                },
                {
                  "name": "10/5/20",
                  "rawType": "int64",
                  "type": "integer"
                },
                {
                  "name": "10/6/20",
                  "rawType": "int64",
                  "type": "integer"
                },
                {
                  "name": "10/7/20",
                  "rawType": "int64",
                  "type": "integer"
                },
                {
                  "name": "10/8/20",
                  "rawType": "int64",
                  "type": "integer"
                },
                {
                  "name": "10/9/20",
                  "rawType": "int64",
                  "type": "integer"
                },
                {
                  "name": "10/10/20",
                  "rawType": "int64",
                  "type": "integer"
                },
                {
                  "name": "10/11/20",
                  "rawType": "int64",
                  "type": "integer"
                },
                {
                  "name": "10/12/20",
                  "rawType": "int64",
                  "type": "integer"
                },
                {
                  "name": "10/13/20",
                  "rawType": "int64",
                  "type": "integer"
                },
                {
                  "name": "10/14/20",
                  "rawType": "int64",
                  "type": "integer"
                },
                {
                  "name": "10/15/20",
                  "rawType": "int64",
                  "type": "integer"
                },
                {
                  "name": "10/16/20",
                  "rawType": "int64",
                  "type": "integer"
                },
                {
                  "name": "10/17/20",
                  "rawType": "int64",
                  "type": "integer"
                },
                {
                  "name": "10/18/20",
                  "rawType": "int64",
                  "type": "integer"
                },
                {
                  "name": "10/19/20",
                  "rawType": "int64",
                  "type": "integer"
                },
                {
                  "name": "10/20/20",
                  "rawType": "int64",
                  "type": "integer"
                },
                {
                  "name": "10/21/20",
                  "rawType": "int64",
                  "type": "integer"
                },
                {
                  "name": "10/22/20",
                  "rawType": "int64",
                  "type": "integer"
                },
                {
                  "name": "10/23/20",
                  "rawType": "int64",
                  "type": "integer"
                },
                {
                  "name": "10/24/20",
                  "rawType": "int64",
                  "type": "integer"
                },
                {
                  "name": "10/25/20",
                  "rawType": "int64",
                  "type": "integer"
                },
                {
                  "name": "10/26/20",
                  "rawType": "int64",
                  "type": "integer"
                },
                {
                  "name": "10/27/20",
                  "rawType": "int64",
                  "type": "integer"
                },
                {
                  "name": "10/28/20",
                  "rawType": "int64",
                  "type": "integer"
                },
                {
                  "name": "10/29/20",
                  "rawType": "int64",
                  "type": "integer"
                },
                {
                  "name": "10/30/20",
                  "rawType": "int64",
                  "type": "integer"
                },
                {
                  "name": "10/31/20",
                  "rawType": "int64",
                  "type": "integer"
                },
                {
                  "name": "11/1/20",
                  "rawType": "int64",
                  "type": "integer"
                },
                {
                  "name": "11/2/20",
                  "rawType": "int64",
                  "type": "integer"
                },
                {
                  "name": "11/3/20",
                  "rawType": "int64",
                  "type": "integer"
                },
                {
                  "name": "11/4/20",
                  "rawType": "int64",
                  "type": "integer"
                },
                {
                  "name": "11/5/20",
                  "rawType": "int64",
                  "type": "integer"
                },
                {
                  "name": "11/6/20",
                  "rawType": "int64",
                  "type": "integer"
                },
                {
                  "name": "11/7/20",
                  "rawType": "int64",
                  "type": "integer"
                },
                {
                  "name": "11/8/20",
                  "rawType": "int64",
                  "type": "integer"
                },
                {
                  "name": "11/9/20",
                  "rawType": "int64",
                  "type": "integer"
                },
                {
                  "name": "11/10/20",
                  "rawType": "int64",
                  "type": "integer"
                },
                {
                  "name": "11/11/20",
                  "rawType": "int64",
                  "type": "integer"
                },
                {
                  "name": "11/12/20",
                  "rawType": "int64",
                  "type": "integer"
                },
                {
                  "name": "11/13/20",
                  "rawType": "int64",
                  "type": "integer"
                },
                {
                  "name": "11/14/20",
                  "rawType": "int64",
                  "type": "integer"
                },
                {
                  "name": "11/15/20",
                  "rawType": "int64",
                  "type": "integer"
                },
                {
                  "name": "11/16/20",
                  "rawType": "int64",
                  "type": "integer"
                },
                {
                  "name": "11/17/20",
                  "rawType": "int64",
                  "type": "integer"
                },
                {
                  "name": "11/18/20",
                  "rawType": "int64",
                  "type": "integer"
                },
                {
                  "name": "11/19/20",
                  "rawType": "int64",
                  "type": "integer"
                },
                {
                  "name": "11/20/20",
                  "rawType": "int64",
                  "type": "integer"
                },
                {
                  "name": "11/21/20",
                  "rawType": "int64",
                  "type": "integer"
                },
                {
                  "name": "11/22/20",
                  "rawType": "int64",
                  "type": "integer"
                },
                {
                  "name": "11/23/20",
                  "rawType": "int64",
                  "type": "integer"
                },
                {
                  "name": "11/24/20",
                  "rawType": "int64",
                  "type": "integer"
                },
                {
                  "name": "11/25/20",
                  "rawType": "int64",
                  "type": "integer"
                },
                {
                  "name": "11/26/20",
                  "rawType": "int64",
                  "type": "integer"
                },
                {
                  "name": "11/27/20",
                  "rawType": "int64",
                  "type": "integer"
                },
                {
                  "name": "11/28/20",
                  "rawType": "int64",
                  "type": "integer"
                },
                {
                  "name": "11/29/20",
                  "rawType": "int64",
                  "type": "integer"
                },
                {
                  "name": "11/30/20",
                  "rawType": "int64",
                  "type": "integer"
                },
                {
                  "name": "12/1/20",
                  "rawType": "int64",
                  "type": "integer"
                },
                {
                  "name": "12/2/20",
                  "rawType": "int64",
                  "type": "integer"
                },
                {
                  "name": "12/3/20",
                  "rawType": "int64",
                  "type": "integer"
                },
                {
                  "name": "12/4/20",
                  "rawType": "int64",
                  "type": "integer"
                },
                {
                  "name": "12/5/20",
                  "rawType": "int64",
                  "type": "integer"
                },
                {
                  "name": "12/6/20",
                  "rawType": "int64",
                  "type": "integer"
                },
                {
                  "name": "12/7/20",
                  "rawType": "int64",
                  "type": "integer"
                },
                {
                  "name": "12/8/20",
                  "rawType": "int64",
                  "type": "integer"
                },
                {
                  "name": "12/9/20",
                  "rawType": "int64",
                  "type": "integer"
                },
                {
                  "name": "12/10/20",
                  "rawType": "int64",
                  "type": "integer"
                },
                {
                  "name": "12/11/20",
                  "rawType": "int64",
                  "type": "integer"
                },
                {
                  "name": "12/12/20",
                  "rawType": "int64",
                  "type": "integer"
                },
                {
                  "name": "12/13/20",
                  "rawType": "int64",
                  "type": "integer"
                },
                {
                  "name": "12/14/20",
                  "rawType": "int64",
                  "type": "integer"
                },
                {
                  "name": "12/15/20",
                  "rawType": "int64",
                  "type": "integer"
                },
                {
                  "name": "12/16/20",
                  "rawType": "int64",
                  "type": "integer"
                },
                {
                  "name": "12/17/20",
                  "rawType": "int64",
                  "type": "integer"
                },
                {
                  "name": "12/18/20",
                  "rawType": "int64",
                  "type": "integer"
                },
                {
                  "name": "12/19/20",
                  "rawType": "int64",
                  "type": "integer"
                },
                {
                  "name": "12/20/20",
                  "rawType": "int64",
                  "type": "integer"
                },
                {
                  "name": "12/21/20",
                  "rawType": "int64",
                  "type": "integer"
                },
                {
                  "name": "12/22/20",
                  "rawType": "int64",
                  "type": "integer"
                },
                {
                  "name": "12/23/20",
                  "rawType": "int64",
                  "type": "integer"
                },
                {
                  "name": "12/24/20",
                  "rawType": "int64",
                  "type": "integer"
                },
                {
                  "name": "12/25/20",
                  "rawType": "int64",
                  "type": "integer"
                },
                {
                  "name": "12/26/20",
                  "rawType": "int64",
                  "type": "integer"
                },
                {
                  "name": "12/27/20",
                  "rawType": "int64",
                  "type": "integer"
                },
                {
                  "name": "12/28/20",
                  "rawType": "int64",
                  "type": "integer"
                },
                {
                  "name": "12/29/20",
                  "rawType": "int64",
                  "type": "integer"
                },
                {
                  "name": "12/30/20",
                  "rawType": "int64",
                  "type": "integer"
                },
                {
                  "name": "12/31/20",
                  "rawType": "int64",
                  "type": "integer"
                },
                {
                  "name": "1/1/21",
                  "rawType": "int64",
                  "type": "integer"
                },
                {
                  "name": "1/2/21",
                  "rawType": "int64",
                  "type": "integer"
                },
                {
                  "name": "1/3/21",
                  "rawType": "int64",
                  "type": "integer"
                },
                {
                  "name": "1/4/21",
                  "rawType": "int64",
                  "type": "integer"
                },
                {
                  "name": "1/5/21",
                  "rawType": "int64",
                  "type": "integer"
                },
                {
                  "name": "1/6/21",
                  "rawType": "int64",
                  "type": "integer"
                },
                {
                  "name": "1/7/21",
                  "rawType": "int64",
                  "type": "integer"
                },
                {
                  "name": "1/8/21",
                  "rawType": "int64",
                  "type": "integer"
                },
                {
                  "name": "1/9/21",
                  "rawType": "int64",
                  "type": "integer"
                },
                {
                  "name": "1/10/21",
                  "rawType": "int64",
                  "type": "integer"
                },
                {
                  "name": "1/11/21",
                  "rawType": "int64",
                  "type": "integer"
                },
                {
                  "name": "1/12/21",
                  "rawType": "int64",
                  "type": "integer"
                },
                {
                  "name": "1/13/21",
                  "rawType": "int64",
                  "type": "integer"
                },
                {
                  "name": "1/14/21",
                  "rawType": "int64",
                  "type": "integer"
                },
                {
                  "name": "1/15/21",
                  "rawType": "int64",
                  "type": "integer"
                },
                {
                  "name": "1/16/21",
                  "rawType": "int64",
                  "type": "integer"
                },
                {
                  "name": "1/17/21",
                  "rawType": "int64",
                  "type": "integer"
                },
                {
                  "name": "1/18/21",
                  "rawType": "int64",
                  "type": "integer"
                },
                {
                  "name": "1/19/21",
                  "rawType": "int64",
                  "type": "integer"
                },
                {
                  "name": "1/20/21",
                  "rawType": "int64",
                  "type": "integer"
                },
                {
                  "name": "1/21/21",
                  "rawType": "int64",
                  "type": "integer"
                },
                {
                  "name": "1/22/21",
                  "rawType": "int64",
                  "type": "integer"
                },
                {
                  "name": "1/23/21",
                  "rawType": "int64",
                  "type": "integer"
                },
                {
                  "name": "1/24/21",
                  "rawType": "int64",
                  "type": "integer"
                },
                {
                  "name": "1/25/21",
                  "rawType": "int64",
                  "type": "integer"
                },
                {
                  "name": "1/26/21",
                  "rawType": "int64",
                  "type": "integer"
                },
                {
                  "name": "1/27/21",
                  "rawType": "int64",
                  "type": "integer"
                },
                {
                  "name": "1/28/21",
                  "rawType": "int64",
                  "type": "integer"
                },
                {
                  "name": "1/29/21",
                  "rawType": "int64",
                  "type": "integer"
                },
                {
                  "name": "1/30/21",
                  "rawType": "int64",
                  "type": "integer"
                },
                {
                  "name": "1/31/21",
                  "rawType": "int64",
                  "type": "integer"
                },
                {
                  "name": "2/1/21",
                  "rawType": "int64",
                  "type": "integer"
                },
                {
                  "name": "2/2/21",
                  "rawType": "int64",
                  "type": "integer"
                },
                {
                  "name": "2/3/21",
                  "rawType": "int64",
                  "type": "integer"
                },
                {
                  "name": "2/4/21",
                  "rawType": "int64",
                  "type": "integer"
                },
                {
                  "name": "2/5/21",
                  "rawType": "int64",
                  "type": "integer"
                },
                {
                  "name": "2/6/21",
                  "rawType": "int64",
                  "type": "integer"
                },
                {
                  "name": "2/7/21",
                  "rawType": "int64",
                  "type": "integer"
                },
                {
                  "name": "2/8/21",
                  "rawType": "int64",
                  "type": "integer"
                },
                {
                  "name": "2/9/21",
                  "rawType": "int64",
                  "type": "integer"
                },
                {
                  "name": "2/10/21",
                  "rawType": "int64",
                  "type": "integer"
                },
                {
                  "name": "2/11/21",
                  "rawType": "int64",
                  "type": "integer"
                },
                {
                  "name": "2/12/21",
                  "rawType": "int64",
                  "type": "integer"
                },
                {
                  "name": "2/13/21",
                  "rawType": "int64",
                  "type": "integer"
                },
                {
                  "name": "2/14/21",
                  "rawType": "int64",
                  "type": "integer"
                },
                {
                  "name": "2/15/21",
                  "rawType": "int64",
                  "type": "integer"
                },
                {
                  "name": "2/16/21",
                  "rawType": "int64",
                  "type": "integer"
                },
                {
                  "name": "2/17/21",
                  "rawType": "int64",
                  "type": "integer"
                },
                {
                  "name": "2/18/21",
                  "rawType": "int64",
                  "type": "integer"
                },
                {
                  "name": "2/19/21",
                  "rawType": "int64",
                  "type": "integer"
                },
                {
                  "name": "2/20/21",
                  "rawType": "int64",
                  "type": "integer"
                },
                {
                  "name": "2/21/21",
                  "rawType": "int64",
                  "type": "integer"
                },
                {
                  "name": "2/22/21",
                  "rawType": "int64",
                  "type": "integer"
                },
                {
                  "name": "2/23/21",
                  "rawType": "int64",
                  "type": "integer"
                },
                {
                  "name": "2/24/21",
                  "rawType": "int64",
                  "type": "integer"
                },
                {
                  "name": "2/25/21",
                  "rawType": "int64",
                  "type": "integer"
                },
                {
                  "name": "2/26/21",
                  "rawType": "int64",
                  "type": "integer"
                },
                {
                  "name": "2/27/21",
                  "rawType": "int64",
                  "type": "integer"
                },
                {
                  "name": "2/28/21",
                  "rawType": "int64",
                  "type": "integer"
                },
                {
                  "name": "3/1/21",
                  "rawType": "int64",
                  "type": "integer"
                },
                {
                  "name": "3/2/21",
                  "rawType": "int64",
                  "type": "integer"
                },
                {
                  "name": "3/3/21",
                  "rawType": "int64",
                  "type": "integer"
                },
                {
                  "name": "3/4/21",
                  "rawType": "int64",
                  "type": "integer"
                },
                {
                  "name": "3/5/21",
                  "rawType": "int64",
                  "type": "integer"
                },
                {
                  "name": "3/6/21",
                  "rawType": "int64",
                  "type": "integer"
                },
                {
                  "name": "3/7/21",
                  "rawType": "int64",
                  "type": "integer"
                },
                {
                  "name": "3/8/21",
                  "rawType": "int64",
                  "type": "integer"
                },
                {
                  "name": "3/9/21",
                  "rawType": "int64",
                  "type": "integer"
                },
                {
                  "name": "3/10/21",
                  "rawType": "int64",
                  "type": "integer"
                },
                {
                  "name": "3/11/21",
                  "rawType": "int64",
                  "type": "integer"
                },
                {
                  "name": "3/12/21",
                  "rawType": "int64",
                  "type": "integer"
                },
                {
                  "name": "3/13/21",
                  "rawType": "int64",
                  "type": "integer"
                },
                {
                  "name": "3/14/21",
                  "rawType": "int64",
                  "type": "integer"
                },
                {
                  "name": "3/15/21",
                  "rawType": "int64",
                  "type": "integer"
                },
                {
                  "name": "3/16/21",
                  "rawType": "int64",
                  "type": "integer"
                },
                {
                  "name": "3/17/21",
                  "rawType": "int64",
                  "type": "integer"
                },
                {
                  "name": "3/18/21",
                  "rawType": "int64",
                  "type": "integer"
                },
                {
                  "name": "3/19/21",
                  "rawType": "int64",
                  "type": "integer"
                },
                {
                  "name": "3/20/21",
                  "rawType": "int64",
                  "type": "integer"
                },
                {
                  "name": "3/21/21",
                  "rawType": "int64",
                  "type": "integer"
                },
                {
                  "name": "3/22/21",
                  "rawType": "int64",
                  "type": "integer"
                },
                {
                  "name": "3/23/21",
                  "rawType": "int64",
                  "type": "integer"
                },
                {
                  "name": "3/24/21",
                  "rawType": "int64",
                  "type": "integer"
                },
                {
                  "name": "3/25/21",
                  "rawType": "int64",
                  "type": "integer"
                },
                {
                  "name": "3/26/21",
                  "rawType": "int64",
                  "type": "integer"
                },
                {
                  "name": "3/27/21",
                  "rawType": "int64",
                  "type": "integer"
                },
                {
                  "name": "3/28/21",
                  "rawType": "int64",
                  "type": "integer"
                },
                {
                  "name": "3/29/21",
                  "rawType": "int64",
                  "type": "integer"
                },
                {
                  "name": "3/30/21",
                  "rawType": "int64",
                  "type": "integer"
                },
                {
                  "name": "3/31/21",
                  "rawType": "int64",
                  "type": "integer"
                },
                {
                  "name": "4/1/21",
                  "rawType": "int64",
                  "type": "integer"
                },
                {
                  "name": "4/2/21",
                  "rawType": "int64",
                  "type": "integer"
                },
                {
                  "name": "4/3/21",
                  "rawType": "int64",
                  "type": "integer"
                },
                {
                  "name": "4/4/21",
                  "rawType": "int64",
                  "type": "integer"
                },
                {
                  "name": "4/5/21",
                  "rawType": "int64",
                  "type": "integer"
                },
                {
                  "name": "4/6/21",
                  "rawType": "int64",
                  "type": "integer"
                },
                {
                  "name": "4/7/21",
                  "rawType": "int64",
                  "type": "integer"
                },
                {
                  "name": "4/8/21",
                  "rawType": "int64",
                  "type": "integer"
                },
                {
                  "name": "4/9/21",
                  "rawType": "int64",
                  "type": "integer"
                },
                {
                  "name": "4/10/21",
                  "rawType": "int64",
                  "type": "integer"
                },
                {
                  "name": "4/11/21",
                  "rawType": "int64",
                  "type": "integer"
                },
                {
                  "name": "4/12/21",
                  "rawType": "int64",
                  "type": "integer"
                },
                {
                  "name": "4/13/21",
                  "rawType": "int64",
                  "type": "integer"
                },
                {
                  "name": "4/14/21",
                  "rawType": "int64",
                  "type": "integer"
                },
                {
                  "name": "4/15/21",
                  "rawType": "int64",
                  "type": "integer"
                },
                {
                  "name": "4/16/21",
                  "rawType": "int64",
                  "type": "integer"
                },
                {
                  "name": "4/17/21",
                  "rawType": "int64",
                  "type": "integer"
                },
                {
                  "name": "4/18/21",
                  "rawType": "int64",
                  "type": "integer"
                },
                {
                  "name": "4/19/21",
                  "rawType": "int64",
                  "type": "integer"
                },
                {
                  "name": "4/20/21",
                  "rawType": "int64",
                  "type": "integer"
                },
                {
                  "name": "4/21/21",
                  "rawType": "int64",
                  "type": "integer"
                },
                {
                  "name": "4/22/21",
                  "rawType": "int64",
                  "type": "integer"
                },
                {
                  "name": "4/23/21",
                  "rawType": "int64",
                  "type": "integer"
                },
                {
                  "name": "4/24/21",
                  "rawType": "int64",
                  "type": "integer"
                },
                {
                  "name": "4/25/21",
                  "rawType": "int64",
                  "type": "integer"
                },
                {
                  "name": "4/26/21",
                  "rawType": "int64",
                  "type": "integer"
                },
                {
                  "name": "4/27/21",
                  "rawType": "int64",
                  "type": "integer"
                },
                {
                  "name": "4/28/21",
                  "rawType": "int64",
                  "type": "integer"
                },
                {
                  "name": "4/29/21",
                  "rawType": "int64",
                  "type": "integer"
                },
                {
                  "name": "4/30/21",
                  "rawType": "int64",
                  "type": "integer"
                },
                {
                  "name": "5/1/21",
                  "rawType": "int64",
                  "type": "integer"
                },
                {
                  "name": "5/2/21",
                  "rawType": "int64",
                  "type": "integer"
                },
                {
                  "name": "5/3/21",
                  "rawType": "int64",
                  "type": "integer"
                },
                {
                  "name": "5/4/21",
                  "rawType": "int64",
                  "type": "integer"
                },
                {
                  "name": "5/5/21",
                  "rawType": "int64",
                  "type": "integer"
                },
                {
                  "name": "5/6/21",
                  "rawType": "int64",
                  "type": "integer"
                },
                {
                  "name": "5/7/21",
                  "rawType": "int64",
                  "type": "integer"
                },
                {
                  "name": "5/8/21",
                  "rawType": "int64",
                  "type": "integer"
                },
                {
                  "name": "5/9/21",
                  "rawType": "int64",
                  "type": "integer"
                },
                {
                  "name": "5/10/21",
                  "rawType": "int64",
                  "type": "integer"
                },
                {
                  "name": "5/11/21",
                  "rawType": "int64",
                  "type": "integer"
                },
                {
                  "name": "5/12/21",
                  "rawType": "int64",
                  "type": "integer"
                },
                {
                  "name": "5/13/21",
                  "rawType": "int64",
                  "type": "integer"
                },
                {
                  "name": "5/14/21",
                  "rawType": "int64",
                  "type": "integer"
                },
                {
                  "name": "5/15/21",
                  "rawType": "int64",
                  "type": "integer"
                },
                {
                  "name": "5/16/21",
                  "rawType": "int64",
                  "type": "integer"
                },
                {
                  "name": "5/17/21",
                  "rawType": "int64",
                  "type": "integer"
                },
                {
                  "name": "5/18/21",
                  "rawType": "int64",
                  "type": "integer"
                },
                {
                  "name": "5/19/21",
                  "rawType": "int64",
                  "type": "integer"
                },
                {
                  "name": "5/20/21",
                  "rawType": "int64",
                  "type": "integer"
                },
                {
                  "name": "5/21/21",
                  "rawType": "int64",
                  "type": "integer"
                },
                {
                  "name": "5/22/21",
                  "rawType": "int64",
                  "type": "integer"
                },
                {
                  "name": "5/23/21",
                  "rawType": "int64",
                  "type": "integer"
                },
                {
                  "name": "5/24/21",
                  "rawType": "int64",
                  "type": "integer"
                },
                {
                  "name": "5/25/21",
                  "rawType": "int64",
                  "type": "integer"
                },
                {
                  "name": "5/26/21",
                  "rawType": "int64",
                  "type": "integer"
                },
                {
                  "name": "5/27/21",
                  "rawType": "int64",
                  "type": "integer"
                },
                {
                  "name": "5/28/21",
                  "rawType": "int64",
                  "type": "integer"
                },
                {
                  "name": "5/29/21",
                  "rawType": "int64",
                  "type": "integer"
                },
                {
                  "name": "5/30/21",
                  "rawType": "int64",
                  "type": "integer"
                },
                {
                  "name": "5/31/21",
                  "rawType": "int64",
                  "type": "integer"
                },
                {
                  "name": "6/1/21",
                  "rawType": "int64",
                  "type": "integer"
                },
                {
                  "name": "6/2/21",
                  "rawType": "int64",
                  "type": "integer"
                },
                {
                  "name": "6/3/21",
                  "rawType": "int64",
                  "type": "integer"
                },
                {
                  "name": "6/4/21",
                  "rawType": "int64",
                  "type": "integer"
                },
                {
                  "name": "6/5/21",
                  "rawType": "int64",
                  "type": "integer"
                },
                {
                  "name": "6/6/21",
                  "rawType": "int64",
                  "type": "integer"
                },
                {
                  "name": "6/7/21",
                  "rawType": "int64",
                  "type": "integer"
                },
                {
                  "name": "6/8/21",
                  "rawType": "int64",
                  "type": "integer"
                },
                {
                  "name": "6/9/21",
                  "rawType": "int64",
                  "type": "integer"
                },
                {
                  "name": "6/10/21",
                  "rawType": "int64",
                  "type": "integer"
                },
                {
                  "name": "6/11/21",
                  "rawType": "int64",
                  "type": "integer"
                },
                {
                  "name": "6/12/21",
                  "rawType": "int64",
                  "type": "integer"
                },
                {
                  "name": "6/13/21",
                  "rawType": "int64",
                  "type": "integer"
                },
                {
                  "name": "6/14/21",
                  "rawType": "int64",
                  "type": "integer"
                },
                {
                  "name": "6/15/21",
                  "rawType": "int64",
                  "type": "integer"
                },
                {
                  "name": "6/16/21",
                  "rawType": "int64",
                  "type": "integer"
                },
                {
                  "name": "6/17/21",
                  "rawType": "int64",
                  "type": "integer"
                },
                {
                  "name": "6/18/21",
                  "rawType": "int64",
                  "type": "integer"
                },
                {
                  "name": "6/19/21",
                  "rawType": "int64",
                  "type": "integer"
                },
                {
                  "name": "6/20/21",
                  "rawType": "int64",
                  "type": "integer"
                },
                {
                  "name": "6/21/21",
                  "rawType": "int64",
                  "type": "integer"
                },
                {
                  "name": "6/22/21",
                  "rawType": "int64",
                  "type": "integer"
                },
                {
                  "name": "6/23/21",
                  "rawType": "int64",
                  "type": "integer"
                },
                {
                  "name": "6/24/21",
                  "rawType": "int64",
                  "type": "integer"
                },
                {
                  "name": "6/25/21",
                  "rawType": "int64",
                  "type": "integer"
                },
                {
                  "name": "6/26/21",
                  "rawType": "int64",
                  "type": "integer"
                },
                {
                  "name": "6/27/21",
                  "rawType": "int64",
                  "type": "integer"
                },
                {
                  "name": "6/28/21",
                  "rawType": "int64",
                  "type": "integer"
                },
                {
                  "name": "6/29/21",
                  "rawType": "int64",
                  "type": "integer"
                },
                {
                  "name": "6/30/21",
                  "rawType": "int64",
                  "type": "integer"
                },
                {
                  "name": "7/1/21",
                  "rawType": "int64",
                  "type": "integer"
                },
                {
                  "name": "7/2/21",
                  "rawType": "int64",
                  "type": "integer"
                },
                {
                  "name": "7/3/21",
                  "rawType": "int64",
                  "type": "integer"
                },
                {
                  "name": "7/4/21",
                  "rawType": "int64",
                  "type": "integer"
                },
                {
                  "name": "7/5/21",
                  "rawType": "int64",
                  "type": "integer"
                },
                {
                  "name": "7/6/21",
                  "rawType": "int64",
                  "type": "integer"
                },
                {
                  "name": "7/7/21",
                  "rawType": "int64",
                  "type": "integer"
                },
                {
                  "name": "7/8/21",
                  "rawType": "int64",
                  "type": "integer"
                },
                {
                  "name": "7/9/21",
                  "rawType": "int64",
                  "type": "integer"
                },
                {
                  "name": "7/10/21",
                  "rawType": "int64",
                  "type": "integer"
                },
                {
                  "name": "7/11/21",
                  "rawType": "int64",
                  "type": "integer"
                },
                {
                  "name": "7/12/21",
                  "rawType": "int64",
                  "type": "integer"
                },
                {
                  "name": "7/13/21",
                  "rawType": "int64",
                  "type": "integer"
                },
                {
                  "name": "7/14/21",
                  "rawType": "int64",
                  "type": "integer"
                },
                {
                  "name": "7/15/21",
                  "rawType": "int64",
                  "type": "integer"
                },
                {
                  "name": "7/16/21",
                  "rawType": "int64",
                  "type": "integer"
                },
                {
                  "name": "7/17/21",
                  "rawType": "int64",
                  "type": "integer"
                },
                {
                  "name": "7/18/21",
                  "rawType": "int64",
                  "type": "integer"
                },
                {
                  "name": "7/19/21",
                  "rawType": "int64",
                  "type": "integer"
                },
                {
                  "name": "7/20/21",
                  "rawType": "int64",
                  "type": "integer"
                },
                {
                  "name": "7/21/21",
                  "rawType": "int64",
                  "type": "integer"
                },
                {
                  "name": "7/22/21",
                  "rawType": "int64",
                  "type": "integer"
                },
                {
                  "name": "7/23/21",
                  "rawType": "int64",
                  "type": "integer"
                },
                {
                  "name": "7/24/21",
                  "rawType": "int64",
                  "type": "integer"
                },
                {
                  "name": "7/25/21",
                  "rawType": "int64",
                  "type": "integer"
                },
                {
                  "name": "7/26/21",
                  "rawType": "int64",
                  "type": "integer"
                },
                {
                  "name": "7/27/21",
                  "rawType": "int64",
                  "type": "integer"
                },
                {
                  "name": "7/28/21",
                  "rawType": "int64",
                  "type": "integer"
                },
                {
                  "name": "7/29/21",
                  "rawType": "int64",
                  "type": "integer"
                },
                {
                  "name": "7/30/21",
                  "rawType": "int64",
                  "type": "integer"
                },
                {
                  "name": "7/31/21",
                  "rawType": "int64",
                  "type": "integer"
                },
                {
                  "name": "8/1/21",
                  "rawType": "int64",
                  "type": "integer"
                },
                {
                  "name": "8/2/21",
                  "rawType": "int64",
                  "type": "integer"
                },
                {
                  "name": "8/3/21",
                  "rawType": "int64",
                  "type": "integer"
                },
                {
                  "name": "8/4/21",
                  "rawType": "int64",
                  "type": "integer"
                },
                {
                  "name": "8/5/21",
                  "rawType": "int64",
                  "type": "integer"
                },
                {
                  "name": "8/6/21",
                  "rawType": "int64",
                  "type": "integer"
                },
                {
                  "name": "8/7/21",
                  "rawType": "int64",
                  "type": "integer"
                },
                {
                  "name": "8/8/21",
                  "rawType": "int64",
                  "type": "integer"
                },
                {
                  "name": "8/9/21",
                  "rawType": "int64",
                  "type": "integer"
                },
                {
                  "name": "8/10/21",
                  "rawType": "int64",
                  "type": "integer"
                },
                {
                  "name": "8/11/21",
                  "rawType": "int64",
                  "type": "integer"
                },
                {
                  "name": "8/12/21",
                  "rawType": "int64",
                  "type": "integer"
                },
                {
                  "name": "8/13/21",
                  "rawType": "int64",
                  "type": "integer"
                },
                {
                  "name": "8/14/21",
                  "rawType": "int64",
                  "type": "integer"
                },
                {
                  "name": "8/15/21",
                  "rawType": "int64",
                  "type": "integer"
                },
                {
                  "name": "8/16/21",
                  "rawType": "int64",
                  "type": "integer"
                },
                {
                  "name": "8/17/21",
                  "rawType": "int64",
                  "type": "integer"
                },
                {
                  "name": "8/18/21",
                  "rawType": "int64",
                  "type": "integer"
                },
                {
                  "name": "8/19/21",
                  "rawType": "int64",
                  "type": "integer"
                },
                {
                  "name": "8/20/21",
                  "rawType": "int64",
                  "type": "integer"
                },
                {
                  "name": "8/21/21",
                  "rawType": "int64",
                  "type": "integer"
                },
                {
                  "name": "8/22/21",
                  "rawType": "int64",
                  "type": "integer"
                },
                {
                  "name": "8/23/21",
                  "rawType": "int64",
                  "type": "integer"
                },
                {
                  "name": "8/24/21",
                  "rawType": "int64",
                  "type": "integer"
                },
                {
                  "name": "8/25/21",
                  "rawType": "int64",
                  "type": "integer"
                },
                {
                  "name": "8/26/21",
                  "rawType": "int64",
                  "type": "integer"
                },
                {
                  "name": "8/27/21",
                  "rawType": "int64",
                  "type": "integer"
                },
                {
                  "name": "8/28/21",
                  "rawType": "int64",
                  "type": "integer"
                },
                {
                  "name": "8/29/21",
                  "rawType": "int64",
                  "type": "integer"
                },
                {
                  "name": "8/30/21",
                  "rawType": "int64",
                  "type": "integer"
                },
                {
                  "name": "8/31/21",
                  "rawType": "int64",
                  "type": "integer"
                },
                {
                  "name": "9/1/21",
                  "rawType": "int64",
                  "type": "integer"
                },
                {
                  "name": "9/2/21",
                  "rawType": "int64",
                  "type": "integer"
                },
                {
                  "name": "9/3/21",
                  "rawType": "int64",
                  "type": "integer"
                },
                {
                  "name": "9/4/21",
                  "rawType": "int64",
                  "type": "integer"
                },
                {
                  "name": "9/5/21",
                  "rawType": "int64",
                  "type": "integer"
                },
                {
                  "name": "9/6/21",
                  "rawType": "int64",
                  "type": "integer"
                },
                {
                  "name": "9/7/21",
                  "rawType": "int64",
                  "type": "integer"
                },
                {
                  "name": "9/8/21",
                  "rawType": "int64",
                  "type": "integer"
                },
                {
                  "name": "9/9/21",
                  "rawType": "int64",
                  "type": "integer"
                },
                {
                  "name": "9/10/21",
                  "rawType": "int64",
                  "type": "integer"
                },
                {
                  "name": "9/11/21",
                  "rawType": "int64",
                  "type": "integer"
                },
                {
                  "name": "9/12/21",
                  "rawType": "int64",
                  "type": "integer"
                },
                {
                  "name": "9/13/21",
                  "rawType": "int64",
                  "type": "integer"
                },
                {
                  "name": "9/14/21",
                  "rawType": "int64",
                  "type": "integer"
                },
                {
                  "name": "9/15/21",
                  "rawType": "int64",
                  "type": "integer"
                },
                {
                  "name": "9/16/21",
                  "rawType": "int64",
                  "type": "integer"
                },
                {
                  "name": "9/17/21",
                  "rawType": "int64",
                  "type": "integer"
                },
                {
                  "name": "9/18/21",
                  "rawType": "int64",
                  "type": "integer"
                },
                {
                  "name": "9/19/21",
                  "rawType": "int64",
                  "type": "integer"
                },
                {
                  "name": "9/20/21",
                  "rawType": "int64",
                  "type": "integer"
                },
                {
                  "name": "9/21/21",
                  "rawType": "int64",
                  "type": "integer"
                },
                {
                  "name": "9/22/21",
                  "rawType": "int64",
                  "type": "integer"
                },
                {
                  "name": "9/23/21",
                  "rawType": "int64",
                  "type": "integer"
                },
                {
                  "name": "9/24/21",
                  "rawType": "int64",
                  "type": "integer"
                },
                {
                  "name": "9/25/21",
                  "rawType": "int64",
                  "type": "integer"
                },
                {
                  "name": "9/26/21",
                  "rawType": "int64",
                  "type": "integer"
                },
                {
                  "name": "9/27/21",
                  "rawType": "int64",
                  "type": "integer"
                },
                {
                  "name": "9/28/21",
                  "rawType": "int64",
                  "type": "integer"
                },
                {
                  "name": "9/29/21",
                  "rawType": "int64",
                  "type": "integer"
                },
                {
                  "name": "9/30/21",
                  "rawType": "int64",
                  "type": "integer"
                },
                {
                  "name": "10/1/21",
                  "rawType": "int64",
                  "type": "integer"
                },
                {
                  "name": "10/2/21",
                  "rawType": "int64",
                  "type": "integer"
                },
                {
                  "name": "10/3/21",
                  "rawType": "int64",
                  "type": "integer"
                },
                {
                  "name": "10/4/21",
                  "rawType": "int64",
                  "type": "integer"
                },
                {
                  "name": "10/5/21",
                  "rawType": "int64",
                  "type": "integer"
                },
                {
                  "name": "10/6/21",
                  "rawType": "int64",
                  "type": "integer"
                },
                {
                  "name": "10/7/21",
                  "rawType": "int64",
                  "type": "integer"
                },
                {
                  "name": "10/8/21",
                  "rawType": "int64",
                  "type": "integer"
                },
                {
                  "name": "10/9/21",
                  "rawType": "int64",
                  "type": "integer"
                },
                {
                  "name": "10/10/21",
                  "rawType": "int64",
                  "type": "integer"
                },
                {
                  "name": "10/11/21",
                  "rawType": "int64",
                  "type": "integer"
                },
                {
                  "name": "10/12/21",
                  "rawType": "int64",
                  "type": "integer"
                },
                {
                  "name": "10/13/21",
                  "rawType": "int64",
                  "type": "integer"
                },
                {
                  "name": "10/14/21",
                  "rawType": "int64",
                  "type": "integer"
                },
                {
                  "name": "10/15/21",
                  "rawType": "int64",
                  "type": "integer"
                },
                {
                  "name": "10/16/21",
                  "rawType": "int64",
                  "type": "integer"
                },
                {
                  "name": "10/17/21",
                  "rawType": "int64",
                  "type": "integer"
                },
                {
                  "name": "10/18/21",
                  "rawType": "int64",
                  "type": "integer"
                },
                {
                  "name": "10/19/21",
                  "rawType": "int64",
                  "type": "integer"
                },
                {
                  "name": "10/20/21",
                  "rawType": "int64",
                  "type": "integer"
                },
                {
                  "name": "10/21/21",
                  "rawType": "int64",
                  "type": "integer"
                },
                {
                  "name": "10/22/21",
                  "rawType": "int64",
                  "type": "integer"
                },
                {
                  "name": "10/23/21",
                  "rawType": "int64",
                  "type": "integer"
                },
                {
                  "name": "10/24/21",
                  "rawType": "int64",
                  "type": "integer"
                },
                {
                  "name": "10/25/21",
                  "rawType": "int64",
                  "type": "integer"
                },
                {
                  "name": "10/26/21",
                  "rawType": "int64",
                  "type": "integer"
                },
                {
                  "name": "10/27/21",
                  "rawType": "int64",
                  "type": "integer"
                },
                {
                  "name": "10/28/21",
                  "rawType": "int64",
                  "type": "integer"
                },
                {
                  "name": "10/29/21",
                  "rawType": "int64",
                  "type": "integer"
                },
                {
                  "name": "10/30/21",
                  "rawType": "int64",
                  "type": "integer"
                },
                {
                  "name": "10/31/21",
                  "rawType": "int64",
                  "type": "integer"
                },
                {
                  "name": "11/1/21",
                  "rawType": "int64",
                  "type": "integer"
                },
                {
                  "name": "11/2/21",
                  "rawType": "int64",
                  "type": "integer"
                },
                {
                  "name": "11/3/21",
                  "rawType": "int64",
                  "type": "integer"
                },
                {
                  "name": "11/4/21",
                  "rawType": "int64",
                  "type": "integer"
                },
                {
                  "name": "11/5/21",
                  "rawType": "int64",
                  "type": "integer"
                },
                {
                  "name": "11/6/21",
                  "rawType": "int64",
                  "type": "integer"
                },
                {
                  "name": "11/7/21",
                  "rawType": "int64",
                  "type": "integer"
                },
                {
                  "name": "11/8/21",
                  "rawType": "int64",
                  "type": "integer"
                },
                {
                  "name": "11/9/21",
                  "rawType": "int64",
                  "type": "integer"
                },
                {
                  "name": "11/10/21",
                  "rawType": "int64",
                  "type": "integer"
                },
                {
                  "name": "11/11/21",
                  "rawType": "int64",
                  "type": "integer"
                },
                {
                  "name": "11/12/21",
                  "rawType": "int64",
                  "type": "integer"
                },
                {
                  "name": "11/13/21",
                  "rawType": "int64",
                  "type": "integer"
                },
                {
                  "name": "11/14/21",
                  "rawType": "int64",
                  "type": "integer"
                },
                {
                  "name": "11/15/21",
                  "rawType": "int64",
                  "type": "integer"
                },
                {
                  "name": "11/16/21",
                  "rawType": "int64",
                  "type": "integer"
                },
                {
                  "name": "11/17/21",
                  "rawType": "int64",
                  "type": "integer"
                },
                {
                  "name": "11/18/21",
                  "rawType": "int64",
                  "type": "integer"
                },
                {
                  "name": "11/19/21",
                  "rawType": "int64",
                  "type": "integer"
                },
                {
                  "name": "11/20/21",
                  "rawType": "int64",
                  "type": "integer"
                },
                {
                  "name": "11/21/21",
                  "rawType": "int64",
                  "type": "integer"
                },
                {
                  "name": "11/22/21",
                  "rawType": "int64",
                  "type": "integer"
                },
                {
                  "name": "11/23/21",
                  "rawType": "int64",
                  "type": "integer"
                },
                {
                  "name": "11/24/21",
                  "rawType": "int64",
                  "type": "integer"
                },
                {
                  "name": "11/25/21",
                  "rawType": "int64",
                  "type": "integer"
                },
                {
                  "name": "11/26/21",
                  "rawType": "int64",
                  "type": "integer"
                },
                {
                  "name": "11/27/21",
                  "rawType": "int64",
                  "type": "integer"
                },
                {
                  "name": "11/28/21",
                  "rawType": "int64",
                  "type": "integer"
                },
                {
                  "name": "11/29/21",
                  "rawType": "int64",
                  "type": "integer"
                },
                {
                  "name": "11/30/21",
                  "rawType": "int64",
                  "type": "integer"
                },
                {
                  "name": "12/1/21",
                  "rawType": "int64",
                  "type": "integer"
                },
                {
                  "name": "12/2/21",
                  "rawType": "int64",
                  "type": "integer"
                },
                {
                  "name": "12/3/21",
                  "rawType": "int64",
                  "type": "integer"
                },
                {
                  "name": "12/4/21",
                  "rawType": "int64",
                  "type": "integer"
                },
                {
                  "name": "12/5/21",
                  "rawType": "int64",
                  "type": "integer"
                },
                {
                  "name": "12/6/21",
                  "rawType": "int64",
                  "type": "integer"
                },
                {
                  "name": "12/7/21",
                  "rawType": "int64",
                  "type": "integer"
                },
                {
                  "name": "12/8/21",
                  "rawType": "int64",
                  "type": "integer"
                },
                {
                  "name": "12/9/21",
                  "rawType": "int64",
                  "type": "integer"
                },
                {
                  "name": "12/10/21",
                  "rawType": "int64",
                  "type": "integer"
                },
                {
                  "name": "12/11/21",
                  "rawType": "int64",
                  "type": "integer"
                },
                {
                  "name": "12/12/21",
                  "rawType": "int64",
                  "type": "integer"
                },
                {
                  "name": "12/13/21",
                  "rawType": "int64",
                  "type": "integer"
                },
                {
                  "name": "12/14/21",
                  "rawType": "int64",
                  "type": "integer"
                },
                {
                  "name": "12/15/21",
                  "rawType": "int64",
                  "type": "integer"
                },
                {
                  "name": "12/16/21",
                  "rawType": "int64",
                  "type": "integer"
                },
                {
                  "name": "12/17/21",
                  "rawType": "int64",
                  "type": "integer"
                },
                {
                  "name": "12/18/21",
                  "rawType": "int64",
                  "type": "integer"
                },
                {
                  "name": "12/19/21",
                  "rawType": "int64",
                  "type": "integer"
                },
                {
                  "name": "12/20/21",
                  "rawType": "int64",
                  "type": "integer"
                },
                {
                  "name": "12/21/21",
                  "rawType": "int64",
                  "type": "integer"
                },
                {
                  "name": "12/22/21",
                  "rawType": "int64",
                  "type": "integer"
                },
                {
                  "name": "12/23/21",
                  "rawType": "int64",
                  "type": "integer"
                },
                {
                  "name": "12/24/21",
                  "rawType": "int64",
                  "type": "integer"
                },
                {
                  "name": "12/25/21",
                  "rawType": "int64",
                  "type": "integer"
                },
                {
                  "name": "12/26/21",
                  "rawType": "int64",
                  "type": "integer"
                },
                {
                  "name": "12/27/21",
                  "rawType": "int64",
                  "type": "integer"
                },
                {
                  "name": "12/28/21",
                  "rawType": "int64",
                  "type": "integer"
                },
                {
                  "name": "12/29/21",
                  "rawType": "int64",
                  "type": "integer"
                },
                {
                  "name": "12/30/21",
                  "rawType": "int64",
                  "type": "integer"
                },
                {
                  "name": "12/31/21",
                  "rawType": "int64",
                  "type": "integer"
                },
                {
                  "name": "1/1/22",
                  "rawType": "int64",
                  "type": "integer"
                },
                {
                  "name": "1/2/22",
                  "rawType": "int64",
                  "type": "integer"
                },
                {
                  "name": "1/3/22",
                  "rawType": "int64",
                  "type": "integer"
                },
                {
                  "name": "1/4/22",
                  "rawType": "int64",
                  "type": "integer"
                },
                {
                  "name": "1/5/22",
                  "rawType": "int64",
                  "type": "integer"
                },
                {
                  "name": "1/6/22",
                  "rawType": "int64",
                  "type": "integer"
                },
                {
                  "name": "1/7/22",
                  "rawType": "int64",
                  "type": "integer"
                },
                {
                  "name": "1/8/22",
                  "rawType": "int64",
                  "type": "integer"
                },
                {
                  "name": "1/9/22",
                  "rawType": "int64",
                  "type": "integer"
                },
                {
                  "name": "1/10/22",
                  "rawType": "int64",
                  "type": "integer"
                },
                {
                  "name": "1/11/22",
                  "rawType": "int64",
                  "type": "integer"
                },
                {
                  "name": "1/12/22",
                  "rawType": "int64",
                  "type": "integer"
                },
                {
                  "name": "1/13/22",
                  "rawType": "int64",
                  "type": "integer"
                },
                {
                  "name": "1/14/22",
                  "rawType": "int64",
                  "type": "integer"
                },
                {
                  "name": "1/15/22",
                  "rawType": "int64",
                  "type": "integer"
                },
                {
                  "name": "1/16/22",
                  "rawType": "int64",
                  "type": "integer"
                },
                {
                  "name": "1/17/22",
                  "rawType": "int64",
                  "type": "integer"
                },
                {
                  "name": "1/18/22",
                  "rawType": "int64",
                  "type": "integer"
                },
                {
                  "name": "1/19/22",
                  "rawType": "int64",
                  "type": "integer"
                },
                {
                  "name": "1/20/22",
                  "rawType": "int64",
                  "type": "integer"
                },
                {
                  "name": "1/21/22",
                  "rawType": "int64",
                  "type": "integer"
                },
                {
                  "name": "1/22/22",
                  "rawType": "int64",
                  "type": "integer"
                },
                {
                  "name": "1/23/22",
                  "rawType": "int64",
                  "type": "integer"
                },
                {
                  "name": "1/24/22",
                  "rawType": "int64",
                  "type": "integer"
                },
                {
                  "name": "1/25/22",
                  "rawType": "int64",
                  "type": "integer"
                },
                {
                  "name": "1/26/22",
                  "rawType": "int64",
                  "type": "integer"
                },
                {
                  "name": "1/27/22",
                  "rawType": "int64",
                  "type": "integer"
                },
                {
                  "name": "1/28/22",
                  "rawType": "int64",
                  "type": "integer"
                },
                {
                  "name": "1/29/22",
                  "rawType": "int64",
                  "type": "integer"
                },
                {
                  "name": "1/30/22",
                  "rawType": "int64",
                  "type": "integer"
                },
                {
                  "name": "1/31/22",
                  "rawType": "int64",
                  "type": "integer"
                },
                {
                  "name": "2/1/22",
                  "rawType": "int64",
                  "type": "integer"
                },
                {
                  "name": "2/2/22",
                  "rawType": "int64",
                  "type": "integer"
                },
                {
                  "name": "2/3/22",
                  "rawType": "int64",
                  "type": "integer"
                },
                {
                  "name": "2/4/22",
                  "rawType": "int64",
                  "type": "integer"
                },
                {
                  "name": "2/5/22",
                  "rawType": "int64",
                  "type": "integer"
                },
                {
                  "name": "2/6/22",
                  "rawType": "int64",
                  "type": "integer"
                },
                {
                  "name": "2/7/22",
                  "rawType": "int64",
                  "type": "integer"
                },
                {
                  "name": "2/8/22",
                  "rawType": "int64",
                  "type": "integer"
                },
                {
                  "name": "2/9/22",
                  "rawType": "int64",
                  "type": "integer"
                },
                {
                  "name": "2/10/22",
                  "rawType": "int64",
                  "type": "integer"
                },
                {
                  "name": "2/11/22",
                  "rawType": "int64",
                  "type": "integer"
                },
                {
                  "name": "2/12/22",
                  "rawType": "int64",
                  "type": "integer"
                },
                {
                  "name": "2/13/22",
                  "rawType": "int64",
                  "type": "integer"
                },
                {
                  "name": "2/14/22",
                  "rawType": "int64",
                  "type": "integer"
                },
                {
                  "name": "2/15/22",
                  "rawType": "int64",
                  "type": "integer"
                },
                {
                  "name": "2/16/22",
                  "rawType": "int64",
                  "type": "integer"
                },
                {
                  "name": "2/17/22",
                  "rawType": "int64",
                  "type": "integer"
                },
                {
                  "name": "2/18/22",
                  "rawType": "int64",
                  "type": "integer"
                },
                {
                  "name": "2/19/22",
                  "rawType": "int64",
                  "type": "integer"
                },
                {
                  "name": "2/20/22",
                  "rawType": "int64",
                  "type": "integer"
                },
                {
                  "name": "2/21/22",
                  "rawType": "int64",
                  "type": "integer"
                },
                {
                  "name": "2/22/22",
                  "rawType": "int64",
                  "type": "integer"
                },
                {
                  "name": "2/23/22",
                  "rawType": "int64",
                  "type": "integer"
                },
                {
                  "name": "2/24/22",
                  "rawType": "int64",
                  "type": "integer"
                },
                {
                  "name": "2/25/22",
                  "rawType": "int64",
                  "type": "integer"
                },
                {
                  "name": "2/26/22",
                  "rawType": "int64",
                  "type": "integer"
                },
                {
                  "name": "2/27/22",
                  "rawType": "int64",
                  "type": "integer"
                },
                {
                  "name": "2/28/22",
                  "rawType": "int64",
                  "type": "integer"
                },
                {
                  "name": "3/1/22",
                  "rawType": "int64",
                  "type": "integer"
                },
                {
                  "name": "3/2/22",
                  "rawType": "int64",
                  "type": "integer"
                },
                {
                  "name": "3/3/22",
                  "rawType": "int64",
                  "type": "integer"
                },
                {
                  "name": "3/4/22",
                  "rawType": "int64",
                  "type": "integer"
                },
                {
                  "name": "3/5/22",
                  "rawType": "int64",
                  "type": "integer"
                },
                {
                  "name": "3/6/22",
                  "rawType": "int64",
                  "type": "integer"
                },
                {
                  "name": "3/7/22",
                  "rawType": "int64",
                  "type": "integer"
                },
                {
                  "name": "3/8/22",
                  "rawType": "int64",
                  "type": "integer"
                },
                {
                  "name": "3/9/22",
                  "rawType": "int64",
                  "type": "integer"
                },
                {
                  "name": "3/10/22",
                  "rawType": "int64",
                  "type": "integer"
                },
                {
                  "name": "3/11/22",
                  "rawType": "int64",
                  "type": "integer"
                },
                {
                  "name": "3/12/22",
                  "rawType": "int64",
                  "type": "integer"
                },
                {
                  "name": "3/13/22",
                  "rawType": "int64",
                  "type": "integer"
                },
                {
                  "name": "3/14/22",
                  "rawType": "int64",
                  "type": "integer"
                },
                {
                  "name": "3/15/22",
                  "rawType": "int64",
                  "type": "integer"
                },
                {
                  "name": "3/16/22",
                  "rawType": "int64",
                  "type": "integer"
                },
                {
                  "name": "3/17/22",
                  "rawType": "int64",
                  "type": "integer"
                },
                {
                  "name": "3/18/22",
                  "rawType": "int64",
                  "type": "integer"
                },
                {
                  "name": "3/19/22",
                  "rawType": "int64",
                  "type": "integer"
                },
                {
                  "name": "3/20/22",
                  "rawType": "int64",
                  "type": "integer"
                },
                {
                  "name": "3/21/22",
                  "rawType": "int64",
                  "type": "integer"
                },
                {
                  "name": "3/22/22",
                  "rawType": "int64",
                  "type": "integer"
                },
                {
                  "name": "3/23/22",
                  "rawType": "int64",
                  "type": "integer"
                },
                {
                  "name": "3/24/22",
                  "rawType": "int64",
                  "type": "integer"
                },
                {
                  "name": "3/25/22",
                  "rawType": "int64",
                  "type": "integer"
                },
                {
                  "name": "3/26/22",
                  "rawType": "int64",
                  "type": "integer"
                },
                {
                  "name": "3/27/22",
                  "rawType": "int64",
                  "type": "integer"
                },
                {
                  "name": "3/28/22",
                  "rawType": "int64",
                  "type": "integer"
                },
                {
                  "name": "3/29/22",
                  "rawType": "int64",
                  "type": "integer"
                },
                {
                  "name": "3/30/22",
                  "rawType": "int64",
                  "type": "integer"
                },
                {
                  "name": "3/31/22",
                  "rawType": "int64",
                  "type": "integer"
                },
                {
                  "name": "4/1/22",
                  "rawType": "int64",
                  "type": "integer"
                },
                {
                  "name": "4/2/22",
                  "rawType": "int64",
                  "type": "integer"
                },
                {
                  "name": "4/3/22",
                  "rawType": "int64",
                  "type": "integer"
                },
                {
                  "name": "4/4/22",
                  "rawType": "int64",
                  "type": "integer"
                },
                {
                  "name": "4/5/22",
                  "rawType": "int64",
                  "type": "integer"
                },
                {
                  "name": "4/6/22",
                  "rawType": "int64",
                  "type": "integer"
                },
                {
                  "name": "4/7/22",
                  "rawType": "int64",
                  "type": "integer"
                },
                {
                  "name": "4/8/22",
                  "rawType": "int64",
                  "type": "integer"
                },
                {
                  "name": "4/9/22",
                  "rawType": "int64",
                  "type": "integer"
                },
                {
                  "name": "4/10/22",
                  "rawType": "int64",
                  "type": "integer"
                },
                {
                  "name": "4/11/22",
                  "rawType": "int64",
                  "type": "integer"
                },
                {
                  "name": "4/12/22",
                  "rawType": "int64",
                  "type": "integer"
                },
                {
                  "name": "4/13/22",
                  "rawType": "int64",
                  "type": "integer"
                },
                {
                  "name": "4/14/22",
                  "rawType": "int64",
                  "type": "integer"
                },
                {
                  "name": "4/15/22",
                  "rawType": "int64",
                  "type": "integer"
                },
                {
                  "name": "4/16/22",
                  "rawType": "int64",
                  "type": "integer"
                },
                {
                  "name": "4/17/22",
                  "rawType": "int64",
                  "type": "integer"
                },
                {
                  "name": "4/18/22",
                  "rawType": "int64",
                  "type": "integer"
                },
                {
                  "name": "4/19/22",
                  "rawType": "int64",
                  "type": "integer"
                },
                {
                  "name": "4/20/22",
                  "rawType": "int64",
                  "type": "integer"
                },
                {
                  "name": "4/21/22",
                  "rawType": "int64",
                  "type": "integer"
                },
                {
                  "name": "4/22/22",
                  "rawType": "int64",
                  "type": "integer"
                },
                {
                  "name": "4/23/22",
                  "rawType": "int64",
                  "type": "integer"
                },
                {
                  "name": "4/24/22",
                  "rawType": "int64",
                  "type": "integer"
                },
                {
                  "name": "4/25/22",
                  "rawType": "int64",
                  "type": "integer"
                },
                {
                  "name": "4/26/22",
                  "rawType": "int64",
                  "type": "integer"
                },
                {
                  "name": "4/27/22",
                  "rawType": "int64",
                  "type": "integer"
                },
                {
                  "name": "4/28/22",
                  "rawType": "int64",
                  "type": "integer"
                },
                {
                  "name": "4/29/22",
                  "rawType": "int64",
                  "type": "integer"
                },
                {
                  "name": "4/30/22",
                  "rawType": "int64",
                  "type": "integer"
                },
                {
                  "name": "5/1/22",
                  "rawType": "int64",
                  "type": "integer"
                },
                {
                  "name": "5/2/22",
                  "rawType": "int64",
                  "type": "integer"
                },
                {
                  "name": "5/3/22",
                  "rawType": "int64",
                  "type": "integer"
                },
                {
                  "name": "5/4/22",
                  "rawType": "int64",
                  "type": "integer"
                },
                {
                  "name": "5/5/22",
                  "rawType": "int64",
                  "type": "integer"
                },
                {
                  "name": "5/6/22",
                  "rawType": "int64",
                  "type": "integer"
                },
                {
                  "name": "5/7/22",
                  "rawType": "int64",
                  "type": "integer"
                },
                {
                  "name": "5/8/22",
                  "rawType": "int64",
                  "type": "integer"
                },
                {
                  "name": "5/9/22",
                  "rawType": "int64",
                  "type": "integer"
                },
                {
                  "name": "5/10/22",
                  "rawType": "int64",
                  "type": "integer"
                },
                {
                  "name": "5/11/22",
                  "rawType": "int64",
                  "type": "integer"
                },
                {
                  "name": "5/12/22",
                  "rawType": "int64",
                  "type": "integer"
                },
                {
                  "name": "5/13/22",
                  "rawType": "int64",
                  "type": "integer"
                },
                {
                  "name": "5/14/22",
                  "rawType": "int64",
                  "type": "integer"
                },
                {
                  "name": "5/15/22",
                  "rawType": "int64",
                  "type": "integer"
                },
                {
                  "name": "5/16/22",
                  "rawType": "int64",
                  "type": "integer"
                },
                {
                  "name": "5/17/22",
                  "rawType": "int64",
                  "type": "integer"
                },
                {
                  "name": "5/18/22",
                  "rawType": "int64",
                  "type": "integer"
                },
                {
                  "name": "5/19/22",
                  "rawType": "int64",
                  "type": "integer"
                },
                {
                  "name": "5/20/22",
                  "rawType": "int64",
                  "type": "integer"
                },
                {
                  "name": "5/21/22",
                  "rawType": "int64",
                  "type": "integer"
                },
                {
                  "name": "5/22/22",
                  "rawType": "int64",
                  "type": "integer"
                },
                {
                  "name": "5/23/22",
                  "rawType": "int64",
                  "type": "integer"
                },
                {
                  "name": "5/24/22",
                  "rawType": "int64",
                  "type": "integer"
                },
                {
                  "name": "5/25/22",
                  "rawType": "int64",
                  "type": "integer"
                },
                {
                  "name": "5/26/22",
                  "rawType": "int64",
                  "type": "integer"
                },
                {
                  "name": "5/27/22",
                  "rawType": "int64",
                  "type": "integer"
                },
                {
                  "name": "5/28/22",
                  "rawType": "int64",
                  "type": "integer"
                },
                {
                  "name": "5/29/22",
                  "rawType": "int64",
                  "type": "integer"
                },
                {
                  "name": "5/30/22",
                  "rawType": "int64",
                  "type": "integer"
                },
                {
                  "name": "5/31/22",
                  "rawType": "int64",
                  "type": "integer"
                },
                {
                  "name": "6/1/22",
                  "rawType": "int64",
                  "type": "integer"
                },
                {
                  "name": "6/2/22",
                  "rawType": "int64",
                  "type": "integer"
                },
                {
                  "name": "6/3/22",
                  "rawType": "int64",
                  "type": "integer"
                },
                {
                  "name": "6/4/22",
                  "rawType": "int64",
                  "type": "integer"
                },
                {
                  "name": "6/5/22",
                  "rawType": "int64",
                  "type": "integer"
                },
                {
                  "name": "6/6/22",
                  "rawType": "int64",
                  "type": "integer"
                },
                {
                  "name": "6/7/22",
                  "rawType": "int64",
                  "type": "integer"
                },
                {
                  "name": "6/8/22",
                  "rawType": "int64",
                  "type": "integer"
                },
                {
                  "name": "6/9/22",
                  "rawType": "int64",
                  "type": "integer"
                },
                {
                  "name": "6/10/22",
                  "rawType": "int64",
                  "type": "integer"
                },
                {
                  "name": "6/11/22",
                  "rawType": "int64",
                  "type": "integer"
                },
                {
                  "name": "6/12/22",
                  "rawType": "int64",
                  "type": "integer"
                },
                {
                  "name": "6/13/22",
                  "rawType": "int64",
                  "type": "integer"
                },
                {
                  "name": "6/14/22",
                  "rawType": "int64",
                  "type": "integer"
                },
                {
                  "name": "6/15/22",
                  "rawType": "int64",
                  "type": "integer"
                },
                {
                  "name": "6/16/22",
                  "rawType": "int64",
                  "type": "integer"
                },
                {
                  "name": "6/17/22",
                  "rawType": "int64",
                  "type": "integer"
                },
                {
                  "name": "6/18/22",
                  "rawType": "int64",
                  "type": "integer"
                },
                {
                  "name": "6/19/22",
                  "rawType": "int64",
                  "type": "integer"
                },
                {
                  "name": "6/20/22",
                  "rawType": "int64",
                  "type": "integer"
                },
                {
                  "name": "6/21/22",
                  "rawType": "int64",
                  "type": "integer"
                },
                {
                  "name": "6/22/22",
                  "rawType": "int64",
                  "type": "integer"
                },
                {
                  "name": "6/23/22",
                  "rawType": "int64",
                  "type": "integer"
                },
                {
                  "name": "6/24/22",
                  "rawType": "int64",
                  "type": "integer"
                },
                {
                  "name": "6/25/22",
                  "rawType": "int64",
                  "type": "integer"
                },
                {
                  "name": "6/26/22",
                  "rawType": "int64",
                  "type": "integer"
                },
                {
                  "name": "6/27/22",
                  "rawType": "int64",
                  "type": "integer"
                },
                {
                  "name": "6/28/22",
                  "rawType": "int64",
                  "type": "integer"
                },
                {
                  "name": "6/29/22",
                  "rawType": "int64",
                  "type": "integer"
                },
                {
                  "name": "6/30/22",
                  "rawType": "int64",
                  "type": "integer"
                },
                {
                  "name": "7/1/22",
                  "rawType": "int64",
                  "type": "integer"
                },
                {
                  "name": "7/2/22",
                  "rawType": "int64",
                  "type": "integer"
                },
                {
                  "name": "7/3/22",
                  "rawType": "int64",
                  "type": "integer"
                },
                {
                  "name": "7/4/22",
                  "rawType": "int64",
                  "type": "integer"
                },
                {
                  "name": "7/5/22",
                  "rawType": "int64",
                  "type": "integer"
                },
                {
                  "name": "7/6/22",
                  "rawType": "int64",
                  "type": "integer"
                },
                {
                  "name": "7/7/22",
                  "rawType": "int64",
                  "type": "integer"
                },
                {
                  "name": "7/8/22",
                  "rawType": "int64",
                  "type": "integer"
                },
                {
                  "name": "7/9/22",
                  "rawType": "int64",
                  "type": "integer"
                },
                {
                  "name": "7/10/22",
                  "rawType": "int64",
                  "type": "integer"
                },
                {
                  "name": "7/11/22",
                  "rawType": "int64",
                  "type": "integer"
                },
                {
                  "name": "7/12/22",
                  "rawType": "int64",
                  "type": "integer"
                },
                {
                  "name": "7/13/22",
                  "rawType": "int64",
                  "type": "integer"
                },
                {
                  "name": "7/14/22",
                  "rawType": "int64",
                  "type": "integer"
                },
                {
                  "name": "7/15/22",
                  "rawType": "int64",
                  "type": "integer"
                },
                {
                  "name": "7/16/22",
                  "rawType": "int64",
                  "type": "integer"
                },
                {
                  "name": "7/17/22",
                  "rawType": "int64",
                  "type": "integer"
                },
                {
                  "name": "7/18/22",
                  "rawType": "int64",
                  "type": "integer"
                },
                {
                  "name": "7/19/22",
                  "rawType": "int64",
                  "type": "integer"
                },
                {
                  "name": "7/20/22",
                  "rawType": "int64",
                  "type": "integer"
                },
                {
                  "name": "7/21/22",
                  "rawType": "int64",
                  "type": "integer"
                },
                {
                  "name": "7/22/22",
                  "rawType": "int64",
                  "type": "integer"
                },
                {
                  "name": "7/23/22",
                  "rawType": "int64",
                  "type": "integer"
                },
                {
                  "name": "7/24/22",
                  "rawType": "int64",
                  "type": "integer"
                },
                {
                  "name": "7/25/22",
                  "rawType": "int64",
                  "type": "integer"
                },
                {
                  "name": "7/26/22",
                  "rawType": "int64",
                  "type": "integer"
                },
                {
                  "name": "7/27/22",
                  "rawType": "int64",
                  "type": "integer"
                },
                {
                  "name": "7/28/22",
                  "rawType": "int64",
                  "type": "integer"
                },
                {
                  "name": "7/29/22",
                  "rawType": "int64",
                  "type": "integer"
                },
                {
                  "name": "7/30/22",
                  "rawType": "int64",
                  "type": "integer"
                },
                {
                  "name": "7/31/22",
                  "rawType": "int64",
                  "type": "integer"
                },
                {
                  "name": "8/1/22",
                  "rawType": "int64",
                  "type": "integer"
                },
                {
                  "name": "8/2/22",
                  "rawType": "int64",
                  "type": "integer"
                },
                {
                  "name": "8/3/22",
                  "rawType": "int64",
                  "type": "integer"
                },
                {
                  "name": "8/4/22",
                  "rawType": "int64",
                  "type": "integer"
                },
                {
                  "name": "8/5/22",
                  "rawType": "int64",
                  "type": "integer"
                },
                {
                  "name": "8/6/22",
                  "rawType": "int64",
                  "type": "integer"
                },
                {
                  "name": "8/7/22",
                  "rawType": "int64",
                  "type": "integer"
                },
                {
                  "name": "8/8/22",
                  "rawType": "int64",
                  "type": "integer"
                },
                {
                  "name": "8/9/22",
                  "rawType": "int64",
                  "type": "integer"
                },
                {
                  "name": "8/10/22",
                  "rawType": "int64",
                  "type": "integer"
                },
                {
                  "name": "8/11/22",
                  "rawType": "int64",
                  "type": "integer"
                },
                {
                  "name": "8/12/22",
                  "rawType": "int64",
                  "type": "integer"
                },
                {
                  "name": "8/13/22",
                  "rawType": "int64",
                  "type": "integer"
                },
                {
                  "name": "8/14/22",
                  "rawType": "int64",
                  "type": "integer"
                },
                {
                  "name": "8/15/22",
                  "rawType": "int64",
                  "type": "integer"
                },
                {
                  "name": "8/16/22",
                  "rawType": "int64",
                  "type": "integer"
                },
                {
                  "name": "8/17/22",
                  "rawType": "int64",
                  "type": "integer"
                },
                {
                  "name": "8/18/22",
                  "rawType": "int64",
                  "type": "integer"
                },
                {
                  "name": "8/19/22",
                  "rawType": "int64",
                  "type": "integer"
                },
                {
                  "name": "8/20/22",
                  "rawType": "int64",
                  "type": "integer"
                },
                {
                  "name": "8/21/22",
                  "rawType": "int64",
                  "type": "integer"
                },
                {
                  "name": "8/22/22",
                  "rawType": "int64",
                  "type": "integer"
                },
                {
                  "name": "8/23/22",
                  "rawType": "int64",
                  "type": "integer"
                },
                {
                  "name": "8/24/22",
                  "rawType": "int64",
                  "type": "integer"
                },
                {
                  "name": "8/25/22",
                  "rawType": "int64",
                  "type": "integer"
                },
                {
                  "name": "8/26/22",
                  "rawType": "int64",
                  "type": "integer"
                },
                {
                  "name": "8/27/22",
                  "rawType": "int64",
                  "type": "integer"
                },
                {
                  "name": "8/28/22",
                  "rawType": "int64",
                  "type": "integer"
                },
                {
                  "name": "8/29/22",
                  "rawType": "int64",
                  "type": "integer"
                },
                {
                  "name": "8/30/22",
                  "rawType": "int64",
                  "type": "integer"
                },
                {
                  "name": "8/31/22",
                  "rawType": "int64",
                  "type": "integer"
                },
                {
                  "name": "9/1/22",
                  "rawType": "int64",
                  "type": "integer"
                },
                {
                  "name": "9/2/22",
                  "rawType": "int64",
                  "type": "integer"
                },
                {
                  "name": "9/3/22",
                  "rawType": "int64",
                  "type": "integer"
                },
                {
                  "name": "9/4/22",
                  "rawType": "int64",
                  "type": "integer"
                },
                {
                  "name": "9/5/22",
                  "rawType": "int64",
                  "type": "integer"
                },
                {
                  "name": "9/6/22",
                  "rawType": "int64",
                  "type": "integer"
                },
                {
                  "name": "9/7/22",
                  "rawType": "int64",
                  "type": "integer"
                },
                {
                  "name": "9/8/22",
                  "rawType": "int64",
                  "type": "integer"
                },
                {
                  "name": "9/9/22",
                  "rawType": "int64",
                  "type": "integer"
                },
                {
                  "name": "9/10/22",
                  "rawType": "int64",
                  "type": "integer"
                },
                {
                  "name": "9/11/22",
                  "rawType": "int64",
                  "type": "integer"
                },
                {
                  "name": "9/12/22",
                  "rawType": "int64",
                  "type": "integer"
                },
                {
                  "name": "9/13/22",
                  "rawType": "int64",
                  "type": "integer"
                },
                {
                  "name": "9/14/22",
                  "rawType": "int64",
                  "type": "integer"
                },
                {
                  "name": "9/15/22",
                  "rawType": "int64",
                  "type": "integer"
                },
                {
                  "name": "9/16/22",
                  "rawType": "int64",
                  "type": "integer"
                },
                {
                  "name": "9/17/22",
                  "rawType": "int64",
                  "type": "integer"
                },
                {
                  "name": "9/18/22",
                  "rawType": "int64",
                  "type": "integer"
                },
                {
                  "name": "9/19/22",
                  "rawType": "int64",
                  "type": "integer"
                },
                {
                  "name": "9/20/22",
                  "rawType": "int64",
                  "type": "integer"
                },
                {
                  "name": "9/21/22",
                  "rawType": "int64",
                  "type": "integer"
                },
                {
                  "name": "9/22/22",
                  "rawType": "int64",
                  "type": "integer"
                },
                {
                  "name": "9/23/22",
                  "rawType": "int64",
                  "type": "integer"
                },
                {
                  "name": "9/24/22",
                  "rawType": "int64",
                  "type": "integer"
                },
                {
                  "name": "9/25/22",
                  "rawType": "int64",
                  "type": "integer"
                },
                {
                  "name": "9/26/22",
                  "rawType": "int64",
                  "type": "integer"
                },
                {
                  "name": "9/27/22",
                  "rawType": "int64",
                  "type": "integer"
                },
                {
                  "name": "9/28/22",
                  "rawType": "int64",
                  "type": "integer"
                },
                {
                  "name": "9/29/22",
                  "rawType": "int64",
                  "type": "integer"
                },
                {
                  "name": "9/30/22",
                  "rawType": "int64",
                  "type": "integer"
                },
                {
                  "name": "10/1/22",
                  "rawType": "int64",
                  "type": "integer"
                },
                {
                  "name": "10/2/22",
                  "rawType": "int64",
                  "type": "integer"
                },
                {
                  "name": "10/3/22",
                  "rawType": "int64",
                  "type": "integer"
                },
                {
                  "name": "10/4/22",
                  "rawType": "int64",
                  "type": "integer"
                },
                {
                  "name": "10/5/22",
                  "rawType": "int64",
                  "type": "integer"
                },
                {
                  "name": "10/6/22",
                  "rawType": "int64",
                  "type": "integer"
                },
                {
                  "name": "10/7/22",
                  "rawType": "int64",
                  "type": "integer"
                },
                {
                  "name": "10/8/22",
                  "rawType": "int64",
                  "type": "integer"
                },
                {
                  "name": "10/9/22",
                  "rawType": "int64",
                  "type": "integer"
                },
                {
                  "name": "10/10/22",
                  "rawType": "int64",
                  "type": "integer"
                },
                {
                  "name": "10/11/22",
                  "rawType": "int64",
                  "type": "integer"
                },
                {
                  "name": "10/12/22",
                  "rawType": "int64",
                  "type": "integer"
                },
                {
                  "name": "10/13/22",
                  "rawType": "int64",
                  "type": "integer"
                },
                {
                  "name": "10/14/22",
                  "rawType": "int64",
                  "type": "integer"
                },
                {
                  "name": "10/15/22",
                  "rawType": "int64",
                  "type": "integer"
                },
                {
                  "name": "10/16/22",
                  "rawType": "int64",
                  "type": "integer"
                },
                {
                  "name": "10/17/22",
                  "rawType": "int64",
                  "type": "integer"
                },
                {
                  "name": "10/18/22",
                  "rawType": "int64",
                  "type": "integer"
                },
                {
                  "name": "10/19/22",
                  "rawType": "int64",
                  "type": "integer"
                },
                {
                  "name": "10/20/22",
                  "rawType": "int64",
                  "type": "integer"
                },
                {
                  "name": "10/21/22",
                  "rawType": "int64",
                  "type": "integer"
                },
                {
                  "name": "10/22/22",
                  "rawType": "int64",
                  "type": "integer"
                },
                {
                  "name": "10/23/22",
                  "rawType": "int64",
                  "type": "integer"
                },
                {
                  "name": "10/24/22",
                  "rawType": "int64",
                  "type": "integer"
                },
                {
                  "name": "10/25/22",
                  "rawType": "int64",
                  "type": "integer"
                },
                {
                  "name": "10/26/22",
                  "rawType": "int64",
                  "type": "integer"
                },
                {
                  "name": "10/27/22",
                  "rawType": "int64",
                  "type": "integer"
                },
                {
                  "name": "10/28/22",
                  "rawType": "int64",
                  "type": "integer"
                },
                {
                  "name": "10/29/22",
                  "rawType": "int64",
                  "type": "integer"
                },
                {
                  "name": "10/30/22",
                  "rawType": "int64",
                  "type": "integer"
                },
                {
                  "name": "10/31/22",
                  "rawType": "int64",
                  "type": "integer"
                },
                {
                  "name": "11/1/22",
                  "rawType": "int64",
                  "type": "integer"
                },
                {
                  "name": "11/2/22",
                  "rawType": "int64",
                  "type": "integer"
                },
                {
                  "name": "11/3/22",
                  "rawType": "int64",
                  "type": "integer"
                },
                {
                  "name": "11/4/22",
                  "rawType": "int64",
                  "type": "integer"
                },
                {
                  "name": "11/5/22",
                  "rawType": "int64",
                  "type": "integer"
                },
                {
                  "name": "11/6/22",
                  "rawType": "int64",
                  "type": "integer"
                },
                {
                  "name": "11/7/22",
                  "rawType": "int64",
                  "type": "integer"
                },
                {
                  "name": "11/8/22",
                  "rawType": "int64",
                  "type": "integer"
                },
                {
                  "name": "11/9/22",
                  "rawType": "int64",
                  "type": "integer"
                },
                {
                  "name": "11/10/22",
                  "rawType": "int64",
                  "type": "integer"
                },
                {
                  "name": "11/11/22",
                  "rawType": "int64",
                  "type": "integer"
                },
                {
                  "name": "11/12/22",
                  "rawType": "int64",
                  "type": "integer"
                },
                {
                  "name": "11/13/22",
                  "rawType": "int64",
                  "type": "integer"
                },
                {
                  "name": "11/14/22",
                  "rawType": "int64",
                  "type": "integer"
                },
                {
                  "name": "11/15/22",
                  "rawType": "int64",
                  "type": "integer"
                },
                {
                  "name": "11/16/22",
                  "rawType": "int64",
                  "type": "integer"
                },
                {
                  "name": "11/17/22",
                  "rawType": "int64",
                  "type": "integer"
                },
                {
                  "name": "11/18/22",
                  "rawType": "int64",
                  "type": "integer"
                },
                {
                  "name": "11/19/22",
                  "rawType": "int64",
                  "type": "integer"
                },
                {
                  "name": "11/20/22",
                  "rawType": "int64",
                  "type": "integer"
                },
                {
                  "name": "11/21/22",
                  "rawType": "int64",
                  "type": "integer"
                },
                {
                  "name": "11/22/22",
                  "rawType": "int64",
                  "type": "integer"
                },
                {
                  "name": "11/23/22",
                  "rawType": "int64",
                  "type": "integer"
                },
                {
                  "name": "11/24/22",
                  "rawType": "int64",
                  "type": "integer"
                },
                {
                  "name": "11/25/22",
                  "rawType": "int64",
                  "type": "integer"
                },
                {
                  "name": "11/26/22",
                  "rawType": "int64",
                  "type": "integer"
                },
                {
                  "name": "11/27/22",
                  "rawType": "int64",
                  "type": "integer"
                },
                {
                  "name": "11/28/22",
                  "rawType": "int64",
                  "type": "integer"
                },
                {
                  "name": "11/29/22",
                  "rawType": "int64",
                  "type": "integer"
                },
                {
                  "name": "11/30/22",
                  "rawType": "int64",
                  "type": "integer"
                },
                {
                  "name": "12/1/22",
                  "rawType": "int64",
                  "type": "integer"
                },
                {
                  "name": "12/2/22",
                  "rawType": "int64",
                  "type": "integer"
                },
                {
                  "name": "12/3/22",
                  "rawType": "int64",
                  "type": "integer"
                },
                {
                  "name": "12/4/22",
                  "rawType": "int64",
                  "type": "integer"
                },
                {
                  "name": "12/5/22",
                  "rawType": "int64",
                  "type": "integer"
                },
                {
                  "name": "12/6/22",
                  "rawType": "int64",
                  "type": "integer"
                },
                {
                  "name": "12/7/22",
                  "rawType": "int64",
                  "type": "integer"
                },
                {
                  "name": "12/8/22",
                  "rawType": "int64",
                  "type": "integer"
                },
                {
                  "name": "12/9/22",
                  "rawType": "int64",
                  "type": "integer"
                },
                {
                  "name": "12/10/22",
                  "rawType": "int64",
                  "type": "integer"
                },
                {
                  "name": "12/11/22",
                  "rawType": "int64",
                  "type": "integer"
                },
                {
                  "name": "12/12/22",
                  "rawType": "int64",
                  "type": "integer"
                },
                {
                  "name": "12/13/22",
                  "rawType": "int64",
                  "type": "integer"
                },
                {
                  "name": "12/14/22",
                  "rawType": "int64",
                  "type": "integer"
                },
                {
                  "name": "12/15/22",
                  "rawType": "int64",
                  "type": "integer"
                },
                {
                  "name": "12/16/22",
                  "rawType": "int64",
                  "type": "integer"
                },
                {
                  "name": "12/17/22",
                  "rawType": "int64",
                  "type": "integer"
                },
                {
                  "name": "12/18/22",
                  "rawType": "int64",
                  "type": "integer"
                },
                {
                  "name": "12/19/22",
                  "rawType": "int64",
                  "type": "integer"
                },
                {
                  "name": "12/20/22",
                  "rawType": "int64",
                  "type": "integer"
                },
                {
                  "name": "12/21/22",
                  "rawType": "int64",
                  "type": "integer"
                },
                {
                  "name": "12/22/22",
                  "rawType": "int64",
                  "type": "integer"
                },
                {
                  "name": "12/23/22",
                  "rawType": "int64",
                  "type": "integer"
                },
                {
                  "name": "12/24/22",
                  "rawType": "int64",
                  "type": "integer"
                },
                {
                  "name": "12/25/22",
                  "rawType": "int64",
                  "type": "integer"
                },
                {
                  "name": "12/26/22",
                  "rawType": "int64",
                  "type": "integer"
                },
                {
                  "name": "12/27/22",
                  "rawType": "int64",
                  "type": "integer"
                },
                {
                  "name": "12/28/22",
                  "rawType": "int64",
                  "type": "integer"
                },
                {
                  "name": "12/29/22",
                  "rawType": "int64",
                  "type": "integer"
                },
                {
                  "name": "12/30/22",
                  "rawType": "int64",
                  "type": "integer"
                },
                {
                  "name": "12/31/22",
                  "rawType": "int64",
                  "type": "integer"
                },
                {
                  "name": "1/1/23",
                  "rawType": "int64",
                  "type": "integer"
                },
                {
                  "name": "1/2/23",
                  "rawType": "int64",
                  "type": "integer"
                }
              ],
              "ref": "bfd95e56-8418-4f36-aac4-685a531cfeb7",
              "rows": [
                [
                  "0",
                  null,
                  "Afghanistan",
                  "33.93911",
                  "67.709953",
                  "0",
                  "0",
                  "0",
                  "0",
                  "0",
                  "0",
                  "0",
                  "0",
                  "0",
                  "0",
                  "0",
                  "0",
                  "0",
                  "0",
                  "0",
                  "0",
                  "0",
                  "0",
                  "0",
                  "0",
                  "0",
                  "0",
                  "0",
                  "0",
                  "0",
                  "0",
                  "0",
                  "0",
                  "0",
                  "0",
                  "0",
                  "0",
                  "0",
                  "0",
                  "0",
                  "0",
                  "0",
                  "0",
                  "0",
                  "0",
                  "0",
                  "0",
                  "0",
                  "0",
                  "0",
                  "0",
                  "0",
                  "0",
                  "0",
                  "0",
                  "0",
                  "0",
                  "0",
                  "0",
                  "0",
                  "0",
                  "0",
                  "0",
                  "0",
                  "0",
                  "0",
                  "1",
                  "1",
                  "1",
                  "2",
                  "2",
                  "2",
                  "4",
                  "4",
                  "4",
                  "4",
                  "4",
                  "5",
                  "5",
                  "7",
                  "7",
                  "11",
                  "14",
                  "15",
                  "15",
                  "15",
                  "18",
                  "19",
                  "22",
                  "25",
                  "29",
                  "30",
                  "30",
                  "30",
                  "33",
                  "36",
                  "36",
                  "40",
                  "40",
                  "43",
                  "49",
                  "50",
                  "60",
                  "60",
                  "60",
                  "64",
                  "72",
                  "72",
                  "72",
                  "72",
                  "95",
                  "104",
                  "105",
                  "105",
                  "119",
                  "120",
                  "127",
                  "127",
                  "136",
                  "153",
                  "168",
                  "169",
                  "173",
                  "177",
                  "187",
                  "193",
                  "205",
                  "215",
                  "222",
                  "223",
                  "224",
                  "230",
                  "239",
                  "250",
                  "252",
                  "254",
                  "269",
                  "274",
                  "298",
                  "303",
                  "313",
                  "331",
                  "361",
                  "373",
                  "380",
                  "409",
                  "430",
                  "450",
                  "455",
                  "475",
                  "480",
                  "488",
                  "508",
                  "550",
                  "552",
                  "552",
                  "585",
                  "602",
                  "622",
                  "643",
                  "679",
                  "684",
                  "707",
                  "733",
                  "737",
                  "739",
                  "778",
                  "811",
                  "823",
                  "830",
                  "868",
                  "891",
                  "924",
                  "940",
                  "941",
                  "975",
                  "979",
                  "1014",
                  "1016",
                  "1049",
                  "1098",
                  "1117",
                  "1151",
                  "1151",
                  "1185",
                  "1187",
                  "1188",
                  "1194",
                  "1215",
                  "1229",
                  "1250",
                  "1263",
                  "1273",
                  "1274",
                  "1275",
                  "1275",
                  "1275",
                  "1287",
                  "1287",
                  "1287",
                  "1292",
                  "1298",
                  "1302",
                  "1302",
                  "1311",
                  "1316",
                  "1316",
                  "1348",
                  "1358",
                  "1367",
                  "1367",
                  "1374",
                  "1379",
                  "1379",
                  "1379",
                  "1379",
                  "1387",
                  "1389",
                  "1389",
                  "1389",
                  "1391",
                  "1401",
                  "1405",
                  "1405",
                  "1406",
                  "1406",
                  "1406",
                  "1406",
                  "1410",
                  "1413",
                  "1413",
                  "1413",
                  "1413",
                  "1416",
                  "1419",
                  "1422",
                  "1424",
                  "1424",
                  "1424",
                  "1424",
                  "1424",
                  "1429",
                  "1430",
                  "1440",
                  "1440",
                  "1441",
                  "1441",
                  "1445",
                  "1448",
                  "1449",
                  "1450",
                  "1455",
                  "1455",
                  "1457",
                  "1457",
                  "1460",
                  "1462",
                  "1462",
                  "1462",
                  "1462",
                  "1466",
                  "1466",
                  "1470",
                  "1471",
                  "1473",
                  "1474",
                  "1476",
                  "1477",
                  "1481",
                  "1483",
                  "1484",
                  "1485",
                  "1485",
                  "1489",
                  "1492",
                  "1496",
                  "1501",
                  "1503",
                  "1503",
                  "1503",
                  "1505",
                  "1507",
                  "1511",
                  "1514",
                  "1518",
                  "1523",
                  "1529",
                  "1532",
                  "1533",
                  "1536",
                  "1536",
                  "1541",
                  "1544",
                  "1548",
                  "1554",
                  "1554",
                  "1556",
                  "1562",
                  "1574",
                  "1577",
                  "1581",
                  "1591",
                  "1595",
                  "1605",
                  "1617",
                  "1626",
                  "1638",
                  "1645",
                  "1650",
                  "1661",
                  "1675",
                  "1687",
                  "1695",
                  "1712",
                  "1725",
                  "1737",
                  "1740",
                  "1752",
                  "1763",
                  "1774",
                  "1795",
                  "1822",
                  "1841",
                  "1847",
                  "1865",
                  "1875",
                  "1902",
                  "1908",
                  "1921",
                  "1939",
                  "1949",
                  "1960",
                  "1971",
                  "1975",
                  "2001",
                  "2017",
                  "2032",
                  "2037",
                  "2054",
                  "2074",
                  "2089",
                  "2105",
                  "2126",
                  "2135",
                  "2148",
                  "2158",
                  "2170",
                  "2182",
                  "2189",
                  "2189",
                  "2201",
                  "2211",
                  "2221",
                  "2230",
                  "2237",
                  "2244",
                  "2253",
                  "2257",
                  "2264",
                  "2277",
                  "2288",
                  "2301",
                  "2308",
                  "2314",
                  "2324",
                  "2336",
                  "2339",
                  "2343",
                  "2346",
                  "2354",
                  "2363",
                  "2370",
                  "2373",
                  "2378",
                  "2385",
                  "2389",
                  "2389",
                  "2397",
                  "2399",
                  "2400",
                  "2400",
                  "2404",
                  "2405",
                  "2406",
                  "2407",
                  "2407",
                  "2408",
                  "2410",
                  "2413",
                  "2414",
                  "2418",
                  "2419",
                  "2424",
                  "2427",
                  "2427",
                  "2427",
                  "2428",
                  "2428",
                  "2430",
                  "2430",
                  "2430",
                  "2432",
                  "2433",
                  "2435",
                  "2436",
                  "2438",
                  "2442",
                  "2443",
                  "2443",
                  "2444",
                  "2446",
                  "2446",
                  "2446",
                  "2449",
                  "2449",
                  "2449",
                  "2451",
                  "2451",
                  "2451",
                  "2451",
                  "2454",
                  "2454",
                  "2457",
                  "2459",
                  "2460",
                  "2460",
                  "2462",
                  "2462",
                  "2462",
                  "2463",
                  "2464",
                  "2466",
                  "2466",
                  "2467",
                  "2467",
                  "2469",
                  "2470",
                  "2472",
                  "2476",
                  "2484",
                  "2489",
                  "2495",
                  "2496",
                  "2497",
                  "2508",
                  "2512",
                  "2512",
                  "2516",
                  "2521",
                  "2521",
                  "2521",
                  "2529",
                  "2529",
                  "2532",
                  "2533",
                  "2535",
                  "2539",
                  "2539",
                  "2546",
                  "2549",
                  "2557",
                  "2561",
                  "2565",
                  "2572",
                  "2582",
                  "2592",
                  "2598",
                  "2611",
                  "2618",
                  "2625",
                  "2631",
                  "2637",
                  "2642",
                  "2648",
                  "2654",
                  "2664",
                  "2673",
                  "2683",
                  "2686",
                  "2698",
                  "2710",
                  "2713",
                  "2721",
                  "2730",
                  "2733",
                  "2742",
                  "2745",
                  "2751",
                  "2762",
                  "2772",
                  "2782",
                  "2792",
                  "2802",
                  "2812",
                  "2836",
                  "2855",
                  "2869",
                  "2881",
                  "2899",
                  "2919",
                  "2944",
                  "2973",
                  "3007",
                  "3034",
                  "3068",
                  "3104",
                  "3145",
                  "3187",
                  "3251",
                  "3305",
                  "3356",
                  "3412",
                  "3449",
                  "3527",
                  "3612",
                  "3683",
                  "3683",
                  "3842",
                  "3934",
                  "4030",
                  "4122",
                  "4215",
                  "4293",
                  "4366",
                  "4452",
                  "4519",
                  "4594",
                  "4650",
                  "4730",
                  "4794",
                  "4871",
                  "4962",
                  "5048",
                  "5107",
                  "5199",
                  "5283",
                  "5360",
                  "5415",
                  "5477",
                  "5561",
                  "5638",
                  "5724",
                  "5791",
                  "5849",
                  "5923",
                  "5983",
                  "6072",
                  "6098",
                  "6147",
                  "6213",
                  "6266",
                  "6293",
                  "6325",
                  "6357",
                  "6393",
                  "6425",
                  "6477",
                  "6515",
                  "6577",
                  "6615",
                  "6677",
                  "6708",
                  "6737",
                  "6774",
                  "6804",
                  "6836",
                  "6864",
                  "6879",
                  "6897",
                  "6908",
                  "6936",
                  "6961",
                  "6978",
                  "6988",
                  "7000",
                  "7010",
                  "7021",
                  "7025",
                  "7031",
                  "7043",
                  "7047",
                  "7054",
                  "7065",
                  "7070",
                  "7076",
                  "7083",
                  "7090",
                  "7093",
                  "7101",
                  "7103",
                  "7109",
                  "7116",
                  "7118",
                  "7123",
                  "7127",
                  "7127",
                  "7128",
                  "7132",
                  "7141",
                  "7144",
                  "7151",
                  "7157",
                  "7164",
                  "7167",
                  "7167",
                  "7169",
                  "7171",
                  "7174",
                  "7183",
                  "7186",
                  "7186",
                  "7186",
                  "7199",
                  "7199",
                  "7199",
                  "7199",
                  "7199",
                  "7199",
                  "7199",
                  "7200",
                  "7201",
                  "7204",
                  "7204",
                  "7206",
                  "7206",
                  "7206",
                  "7212",
                  "7214",
                  "7220",
                  "7221",
                  "7221",
                  "7221",
                  "7225",
                  "7228",
                  "7230",
                  "7234",
                  "7238",
                  "7238",
                  "7238",
                  "7243",
                  "7246",
                  "7247",
                  "7247",
                  "7249",
                  "7252",
                  "7253",
                  "7255",
                  "7260",
                  "7262",
                  "7266",
                  "7268",
                  "7269",
                  "7272",
                  "7280",
                  "7281",
                  "7281",
                  "7284",
                  "7284",
                  "7284",
                  "7284",
                  "7284",
                  "7288",
                  "7290",
                  "7291",
                  "7292",
                  "7292",
                  "7292",
                  "7293",
                  "7294",
                  "7295",
                  "7297",
                  "7297",
                  "7299",
                  "7301",
                  "7303",
                  "7303",
                  "7305",
                  "7306",
                  "7307",
                  "7307",
                  "7308",
                  "7308",
                  "7308",
                  "7308",
                  "7309",
                  "7310",
                  "7311",
                  "7312",
                  "7312",
                  "7316",
                  "7317",
                  "7319",
                  "7321",
                  "7324",
                  "7325",
                  "7328",
                  "7328",
                  "7329",
                  "7331",
                  "7332",
                  "7332",
                  "7333",
                  "7335",
                  "7335",
                  "7335",
                  "7341",
                  "7346",
                  "7348",
                  "7349",
                  "7354",
                  "7354",
                  "7355",
                  "7356",
                  "7356",
                  "7356",
                  "7356",
                  "7361",
                  "7364",
                  "7365",
                  "7367",
                  "7367",
                  "7368",
                  "7369",
                  "7373",
                  "7373",
                  "7374",
                  "7376",
                  "7376",
                  "7376",
                  "7378",
                  "7379",
                  "7381",
                  "7383",
                  "7386",
                  "7386",
                  "7390",
                  "7390",
                  "7393",
                  "7393",
                  "7397",
                  "7401",
                  "7403",
                  "7403",
                  "7405",
                  "7408",
                  "7414",
                  "7417",
                  "7418",
                  "7420",
                  "7420",
                  "7425",
                  "7432",
                  "7442",
                  "7454",
                  "7465",
                  "7477",
                  "7478",
                  "7488",
                  "7494",
                  "7501",
                  "7504",
                  "7513",
                  "7524",
                  "7526",
                  "7534",
                  "7539",
                  "7549",
                  "7569",
                  "7574",
                  "7578",
                  "7579",
                  "7585",
                  "7593",
                  "7598",
                  "7609",
                  "7617",
                  "7619",
                  "7619",
                  "7622",
                  "7623",
                  "7626",
                  "7630",
                  "7636",
                  "7639",
                  "7640",
                  "7641",
                  "7643",
                  "7645",
                  "7646",
                  "7651",
                  "7651",
                  "7651",
                  "7652",
                  "7654",
                  "7654",
                  "7656",
                  "7657",
                  "7657",
                  "7657",
                  "7657",
                  "7662",
                  "7663",
                  "7665",
                  "7667",
                  "7670",
                  "7670",
                  "7671",
                  "7671",
                  "7671",
                  "7671",
                  "7671",
                  "7671",
                  "7671",
                  "7671",
                  "7671",
                  "7675",
                  "7676",
                  "7676",
                  "7676",
                  "7676",
                  "7676",
                  "7678",
                  "7679",
                  "7680",
                  "7680",
                  "7680",
                  "7680",
                  "7681",
                  "7682",
                  "7683",
                  "7683",
                  "7683",
                  "7683",
                  "7683",
                  "7683",
                  "7683",
                  "7683",
                  "7683",
                  "7683",
                  "7684",
                  "7684",
                  "7684",
                  "7684",
                  "7685",
                  "7685",
                  "7686",
                  "7686",
                  "7686",
                  "7687",
                  "7690",
                  "7691",
                  "7691",
                  "7691",
                  "7695",
                  "7695",
                  "7697",
                  "7698",
                  "7698",
                  "7698",
                  "7699",
                  "7699",
                  "7699",
                  "7701",
                  "7701",
                  "7701",
                  "7705",
                  "7707",
                  "7708",
                  "7708",
                  "7708",
                  "7708",
                  "7709",
                  "7709",
                  "7709",
                  "7709",
                  "7709",
                  "7709",
                  "7709",
                  "7710",
                  "7710",
                  "7710",
                  "7713",
                  "7713",
                  "7713",
                  "7713",
                  "7714",
                  "7715",
                  "7715",
                  "7715",
                  "7717",
                  "7717",
                  "7717",
                  "7720",
                  "7722",
                  "7722",
                  "7723",
                  "7723",
                  "7723",
                  "7724",
                  "7725",
                  "7725",
                  "7725",
                  "7727",
                  "7728",
                  "7728",
                  "7728",
                  "7728",
                  "7728",
                  "7728",
                  "7728",
                  "7729",
                  "7730",
                  "7731",
                  "7733",
                  "7736",
                  "7737",
                  "7738",
                  "7738",
                  "7738",
                  "7738",
                  "7738",
                  "7742",
                  "7743",
                  "7743",
                  "7743",
                  "7745",
                  "7748",
                  "7751",
                  "7751",
                  "7752",
                  "7752",
                  "7752",
                  "7752",
                  "7752",
                  "7753",
                  "7753",
                  "7753",
                  "7755",
                  "7755",
                  "7758",
                  "7758",
                  "7759",
                  "7759",
                  "7759",
                  "7759",
                  "7759",
                  "7759",
                  "7762",
                  "7767",
                  "7768",
                  "7769",
                  "7771",
                  "7771",
                  "7771",
                  "7777",
                  "7777",
                  "7777",
                  "7777",
                  "7778",
                  "7778",
                  "7780",
                  "7782",
                  "7783",
                  "7783",
                  "7785",
                  "7786",
                  "7786",
                  "7787",
                  "7787",
                  "7789",
                  "7791",
                  "7792",
                  "7792",
                  "7794",
                  "7794",
                  "7795",
                  "7796",
                  "7796",
                  "7796",
                  "7796",
                  "7796",
                  "7796",
                  "7796",
                  "7798",
                  "7798",
                  "7799",
                  "7799",
                  "7800",
                  "7800",
                  "7801",
                  "7803",
                  "7803",
                  "7804",
                  "7804",
                  "7804",
                  "7804",
                  "7806",
                  "7807",
                  "7807",
                  "7807",
                  "7809",
                  "7809",
                  "7811",
                  "7811",
                  "7811",
                  "7812",
                  "7812",
                  "7814",
                  "7818",
                  "7818",
                  "7818",
                  "7818",
                  "7820",
                  "7820",
                  "7820",
                  "7820",
                  "7821",
                  "7821",
                  "7822",
                  "7823",
                  "7823",
                  "7825",
                  "7825",
                  "7826",
                  "7826",
                  "7828",
                  "7829",
                  "7829",
                  "7829",
                  "7829",
                  "7829",
                  "7829",
                  "7829",
                  "7829",
                  "7830",
                  "7830",
                  "7830",
                  "7831",
                  "7831",
                  "7832",
                  "7833",
                  "7833",
                  "7833",
                  "7833",
                  "7833",
                  "7833",
                  "7833",
                  "7833",
                  "7833",
                  "7834",
                  "7834",
                  "7834",
                  "7834",
                  "7835",
                  "7835",
                  "7837",
                  "7839",
                  "7839",
                  "7839",
                  "7839",
                  "7840",
                  "7843",
                  "7843",
                  "7843",
                  "7843",
                  "7844",
                  "7845",
                  "7845",
                  "7845",
                  "7845",
                  "7845",
                  "7845",
                  "7845",
                  "7846",
                  "7846",
                  "7846",
                  "7846",
                  "7847",
                  "7847",
                  "7849",
                  "7849",
                  "7849"
                ],
                [
                  "1",
                  null,
                  "Albania",
                  "41.1533",
                  "20.1683",
                  "0",
                  "0",
                  "0",
                  "0",
                  "0",
                  "0",
                  "0",
                  "0",
                  "0",
                  "0",
                  "0",
                  "0",
                  "0",
                  "0",
                  "0",
                  "0",
                  "0",
                  "0",
                  "0",
                  "0",
                  "0",
                  "0",
                  "0",
                  "0",
                  "0",
                  "0",
                  "0",
                  "0",
                  "0",
                  "0",
                  "0",
                  "0",
                  "0",
                  "0",
                  "0",
                  "0",
                  "0",
                  "0",
                  "0",
                  "0",
                  "0",
                  "0",
                  "0",
                  "0",
                  "0",
                  "0",
                  "0",
                  "0",
                  "0",
                  "1",
                  "1",
                  "1",
                  "1",
                  "1",
                  "1",
                  "1",
                  "2",
                  "2",
                  "2",
                  "2",
                  "2",
                  "4",
                  "5",
                  "5",
                  "6",
                  "8",
                  "10",
                  "10",
                  "11",
                  "15",
                  "15",
                  "16",
                  "17",
                  "20",
                  "20",
                  "21",
                  "22",
                  "22",
                  "23",
                  "23",
                  "23",
                  "23",
                  "23",
                  "24",
                  "25",
                  "26",
                  "26",
                  "26",
                  "26",
                  "26",
                  "26",
                  "27",
                  "27",
                  "27",
                  "27",
                  "28",
                  "28",
                  "30",
                  "30",
                  "31",
                  "31",
                  "31",
                  "31",
                  "31",
                  "31",
                  "31",
                  "31",
                  "31",
                  "31",
                  "31",
                  "31",
                  "31",
                  "31",
                  "31",
                  "31",
                  "31",
                  "31",
                  "31",
                  "31",
                  "31",
                  "31",
                  "31",
                  "31",
                  "32",
                  "32",
                  "33",
                  "33",
                  "33",
                  "33",
                  "33",
                  "33",
                  "33",
                  "33",
                  "33",
                  "33",
                  "33",
                  "34",
                  "34",
                  "34",
                  "34",
                  "34",
                  "35",
                  "36",
                  "36",
                  "36",
                  "36",
                  "37",
                  "38",
                  "39",
                  "42",
                  "43",
                  "44",
                  "44",
                  "45",
                  "47",
                  "49",
                  "51",
                  "53",
                  "55",
                  "58",
                  "62",
                  "65",
                  "69",
                  "72",
                  "74",
                  "76",
                  "79",
                  "81",
                  "83",
                  "83",
                  "85",
                  "89",
                  "93",
                  "95",
                  "97",
                  "101",
                  "104",
                  "107",
                  "111",
                  "112",
                  "113",
                  "117",
                  "120",
                  "123",
                  "128",
                  "134",
                  "138",
                  "144",
                  "148",
                  "150",
                  "154",
                  "157",
                  "161",
                  "166",
                  "172",
                  "176",
                  "182",
                  "188",
                  "189",
                  "193",
                  "199",
                  "200",
                  "205",
                  "208",
                  "213",
                  "219",
                  "225",
                  "228",
                  "230",
                  "232",
                  "234",
                  "238",
                  "240",
                  "245",
                  "250",
                  "254",
                  "259",
                  "263",
                  "266",
                  "271",
                  "275",
                  "280",
                  "284",
                  "290",
                  "296",
                  "301",
                  "306",
                  "312",
                  "316",
                  "319",
                  "321",
                  "322",
                  "324",
                  "327",
                  "330",
                  "334",
                  "338",
                  "340",
                  "343",
                  "347",
                  "353",
                  "358",
                  "362",
                  "364",
                  "367",
                  "370",
                  "370",
                  "373",
                  "375",
                  "377",
                  "380",
                  "384",
                  "387",
                  "388",
                  "389",
                  "392",
                  "396",
                  "400",
                  "403",
                  "407",
                  "411",
                  "413",
                  "416",
                  "420",
                  "424",
                  "429",
                  "434",
                  "439",
                  "443",
                  "448",
                  "451",
                  "454",
                  "458",
                  "462",
                  "465",
                  "469",
                  "473",
                  "477",
                  "480",
                  "487",
                  "493",
                  "499",
                  "502",
                  "509",
                  "518",
                  "527",
                  "532",
                  "536",
                  "543",
                  "549",
                  "557",
                  "559",
                  "571",
                  "579",
                  "590",
                  "598",
                  "605",
                  "612",
                  "623",
                  "631",
                  "637",
                  "646",
                  "657",
                  "672",
                  "685",
                  "699",
                  "716",
                  "735",
                  "743",
                  "753",
                  "771",
                  "787",
                  "798",
                  "810",
                  "822",
                  "839",
                  "852",
                  "870",
                  "889",
                  "905",
                  "922",
                  "936",
                  "951",
                  "965",
                  "977",
                  "989",
                  "1003",
                  "1016",
                  "1028",
                  "1040",
                  "1055",
                  "1066",
                  "1074",
                  "1088",
                  "1098",
                  "1111",
                  "1117",
                  "1125",
                  "1134",
                  "1143",
                  "1153",
                  "1164",
                  "1170",
                  "1174",
                  "1181",
                  "1181",
                  "1190",
                  "1193",
                  "1199",
                  "1210",
                  "1217",
                  "1223",
                  "1230",
                  "1233",
                  "1241",
                  "1247",
                  "1252",
                  "1256",
                  "1261",
                  "1265",
                  "1270",
                  "1277",
                  "1281",
                  "1287",
                  "1291",
                  "1296",
                  "1303",
                  "1310",
                  "1315",
                  "1324",
                  "1332",
                  "1339",
                  "1350",
                  "1358",
                  "1369",
                  "1380",
                  "1393",
                  "1398",
                  "1404",
                  "1418",
                  "1433",
                  "1446",
                  "1460",
                  "1472",
                  "1488",
                  "1503",
                  "1517",
                  "1531",
                  "1543",
                  "1555",
                  "1567",
                  "1582",
                  "1600",
                  "1617",
                  "1636",
                  "1653",
                  "1666",
                  "1681",
                  "1696",
                  "1715",
                  "1736",
                  "1756",
                  "1775",
                  "1796",
                  "1816",
                  "1835",
                  "1856",
                  "1876",
                  "1897",
                  "1918",
                  "1939",
                  "1956",
                  "1969",
                  "1986",
                  "2002",
                  "2018",
                  "2030",
                  "2045",
                  "2060",
                  "2077",
                  "2092",
                  "2106",
                  "2122",
                  "2133",
                  "2137",
                  "2145",
                  "2156",
                  "2171",
                  "2184",
                  "2192",
                  "2204",
                  "2210",
                  "2216",
                  "2227",
                  "2235",
                  "2241",
                  "2247",
                  "2256",
                  "2265",
                  "2274",
                  "2283",
                  "2291",
                  "2297",
                  "2304",
                  "2310",
                  "2317",
                  "2321",
                  "2326",
                  "2331",
                  "2335",
                  "2337",
                  "2340",
                  "2342",
                  "2347",
                  "2353",
                  "2358",
                  "2364",
                  "2367",
                  "2372",
                  "2378",
                  "2379",
                  "2383",
                  "2386",
                  "2389",
                  "2394",
                  "2396",
                  "2397",
                  "2399",
                  "2402",
                  "2403",
                  "2406",
                  "2408",
                  "2411",
                  "2412",
                  "2416",
                  "2420",
                  "2423",
                  "2426",
                  "2427",
                  "2429",
                  "2432",
                  "2435",
                  "2436",
                  "2438",
                  "2440",
                  "2441",
                  "2442",
                  "2444",
                  "2445",
                  "2447",
                  "2447",
                  "2447",
                  "2448",
                  "2449",
                  "2450",
                  "2451",
                  "2451",
                  "2451",
                  "2451",
                  "2451",
                  "2451",
                  "2451",
                  "2452",
                  "2452",
                  "2452",
                  "2452",
                  "2453",
                  "2453",
                  "2453",
                  "2453",
                  "2454",
                  "2454",
                  "2454",
                  "2454",
                  "2454",
                  "2454",
                  "2454",
                  "2455",
                  "2455",
                  "2455",
                  "2455",
                  "2456",
                  "2456",
                  "2456",
                  "2456",
                  "2456",
                  "2456",
                  "2456",
                  "2456",
                  "2456",
                  "2456",
                  "2456",
                  "2456",
                  "2456",
                  "2456",
                  "2456",
                  "2456",
                  "2456",
                  "2456",
                  "2456",
                  "2456",
                  "2456",
                  "2456",
                  "2456",
                  "2456",
                  "2456",
                  "2456",
                  "2456",
                  "2456",
                  "2456",
                  "2456",
                  "2456",
                  "2456",
                  "2457",
                  "2457",
                  "2457",
                  "2457",
                  "2457",
                  "2457",
                  "2457",
                  "2457",
                  "2457",
                  "2458",
                  "2459",
                  "2459",
                  "2460",
                  "2460",
                  "2460",
                  "2460",
                  "2461",
                  "2463",
                  "2464",
                  "2466",
                  "2468",
                  "2471",
                  "2473",
                  "2475",
                  "2477",
                  "2478",
                  "2478",
                  "2480",
                  "2483",
                  "2486",
                  "2487",
                  "2490",
                  "2492",
                  "2495",
                  "2498",
                  "2501",
                  "2505",
                  "2508",
                  "2512",
                  "2515",
                  "2519",
                  "2523",
                  "2528",
                  "2531",
                  "2535",
                  "2539",
                  "2543",
                  "2548",
                  "2553",
                  "2557",
                  "2563",
                  "2569",
                  "2574",
                  "2580",
                  "2587",
                  "2594",
                  "2601",
                  "2609",
                  "2619",
                  "2629",
                  "2640",
                  "2653",
                  "2668",
                  "2685",
                  "2698",
                  "2705",
                  "2710",
                  "2713",
                  "2713",
                  "2725",
                  "2734",
                  "2746",
                  "2753",
                  "2759",
                  "2768",
                  "2777",
                  "2783",
                  "2788",
                  "2797",
                  "2807",
                  "2810",
                  "2820",
                  "2829",
                  "2841",
                  "2849",
                  "2855",
                  "2863",
                  "2870",
                  "2874",
                  "2880",
                  "2888",
                  "2893",
                  "2902",
                  "2909",
                  "2916",
                  "2924",
                  "2931",
                  "2937",
                  "2940",
                  "2944",
                  "2948",
                  "2948",
                  "2955",
                  "2966",
                  "2970",
                  "2975",
                  "2978",
                  "2983",
                  "2986",
                  "2990",
                  "2997",
                  "3004",
                  "3014",
                  "3022",
                  "3029",
                  "3035",
                  "3035",
                  "3049",
                  "3053",
                  "3063",
                  "3068",
                  "3077",
                  "3085",
                  "3089",
                  "3092",
                  "3096",
                  "3101",
                  "3104",
                  "3108",
                  "3109",
                  "3110",
                  "3115",
                  "3122",
                  "3126",
                  "3128",
                  "3130",
                  "3132",
                  "3134",
                  "3140",
                  "3144",
                  "3152",
                  "3156",
                  "3158",
                  "3161",
                  "3166",
                  "3172",
                  "3178",
                  "3180",
                  "3181",
                  "3187",
                  "3189",
                  "3194",
                  "3194",
                  "3207",
                  "3212",
                  "3212",
                  "3217",
                  "3217",
                  "3220",
                  "3220",
                  "3224",
                  "3224",
                  "3228",
                  "3233",
                  "3233",
                  "3240",
                  "3241",
                  "3247",
                  "3253",
                  "3255",
                  "3262",
                  "3265",
                  "3269",
                  "3271",
                  "3277",
                  "3283",
                  "3286",
                  "3292",
                  "3297",
                  "3305",
                  "3305",
                  "3312",
                  "3317",
                  "3323",
                  "3329",
                  "3329",
                  "3334",
                  "3346",
                  "3346",
                  "3362",
                  "3362",
                  "3371",
                  "3371",
                  "3380",
                  "3387",
                  "3393",
                  "3399",
                  "3402",
                  "3402",
                  "3407",
                  "3410",
                  "3414",
                  "3420",
                  "3423",
                  "3430",
                  "3432",
                  "3433",
                  "3438",
                  "3445",
                  "3451",
                  "3453",
                  "3457",
                  "3458",
                  "3458",
                  "3464",
                  "3469",
                  "3472",
                  "3474",
                  "3474",
                  "3478",
                  "3478",
                  "3482",
                  "3483",
                  "3483",
                  "3483",
                  "3484",
                  "3485",
                  "3485",
                  "3485",
                  "3485",
                  "3486",
                  "3487",
                  "3487",
                  "3487",
                  "3487",
                  "3487",
                  "3487",
                  "3489",
                  "3489",
                  "3489",
                  "3490",
                  "3491",
                  "3491",
                  "3491",
                  "3492",
                  "3492",
                  "3492",
                  "3492",
                  "3492",
                  "3492",
                  "3492",
                  "3492",
                  "3492",
                  "3492",
                  "3492",
                  "3492",
                  "3493",
                  "3493",
                  "3494",
                  "3494",
                  "3495",
                  "3495",
                  "3496",
                  "3496",
                  "3496",
                  "3496",
                  "3496",
                  "3496",
                  "3496",
                  "3496",
                  "3496",
                  "3496",
                  "3496",
                  "3496",
                  "3496",
                  "3496",
                  "3496",
                  "3496",
                  "3496",
                  "3496",
                  "3496",
                  "3496",
                  "3496",
                  "3496",
                  "3497",
                  "3497",
                  "3497",
                  "3497",
                  "3497",
                  "3497",
                  "3497",
                  "3497",
                  "3497",
                  "3497",
                  "3497",
                  "3497",
                  "3497",
                  "3497",
                  "3497",
                  "3497",
                  "3497",
                  "3497",
                  "3497",
                  "3497",
                  "3497",
                  "3497",
                  "3497",
                  "3497",
                  "3497",
                  "3497",
                  "3497",
                  "3497",
                  "3497",
                  "3497",
                  "3497",
                  "3497",
                  "3497",
                  "3497",
                  "3497",
                  "3497",
                  "3497",
                  "3497",
                  "3497",
                  "3497",
                  "3497",
                  "3497",
                  "3497",
                  "3497",
                  "3497",
                  "3497",
                  "3497",
                  "3497",
                  "3497",
                  "3497",
                  "3497",
                  "3498",
                  "3499",
                  "3500",
                  "3501",
                  "3501",
                  "3502",
                  "3502",
                  "3502",
                  "3506",
                  "3508",
                  "3510",
                  "3512",
                  "3514",
                  "3514",
                  "3516",
                  "3517",
                  "3517",
                  "3517",
                  "3517",
                  "3517",
                  "3518",
                  "3520",
                  "3521",
                  "3521",
                  "3523",
                  "3525",
                  "3527",
                  "3529",
                  "3532",
                  "3535",
                  "3538",
                  "3541",
                  "3543",
                  "3545",
                  "3548",
                  "3550",
                  "3551",
                  "3554",
                  "3557",
                  "3560",
                  "3563",
                  "3566",
                  "3566",
                  "3567",
                  "3568",
                  "3569",
                  "3570",
                  "3571",
                  "3571",
                  "3573",
                  "3574",
                  "3574",
                  "3575",
                  "3576",
                  "3576",
                  "3576",
                  "3577",
                  "3578",
                  "3579",
                  "3580",
                  "3581",
                  "3581",
                  "3581",
                  "3582",
                  "3582",
                  "3583",
                  "3583",
                  "3583",
                  "3583",
                  "3583",
                  "3583",
                  "3584",
                  "3584",
                  "3584",
                  "3584",
                  "3584",
                  "3585",
                  "3586",
                  "3586",
                  "3586",
                  "3586",
                  "3586",
                  "3586",
                  "3588",
                  "3589",
                  "3589",
                  "3589",
                  "3589",
                  "3589",
                  "3589",
                  "3589",
                  "3589",
                  "3589",
                  "3589",
                  "3589",
                  "3589",
                  "3589",
                  "3589",
                  "3589",
                  "3589",
                  "3589",
                  "3589",
                  "3589",
                  "3589",
                  "3589",
                  "3590",
                  "3591",
                  "3591",
                  "3591",
                  "3591",
                  "3591",
                  "3592",
                  "3592",
                  "3592",
                  "3592",
                  "3592",
                  "3592",
                  "3592",
                  "3592",
                  "3592",
                  "3593",
                  "3593",
                  "3593",
                  "3593",
                  "3593",
                  "3593",
                  "3593",
                  "3593",
                  "3593",
                  "3593",
                  "3593",
                  "3593",
                  "3593",
                  "3593",
                  "3593",
                  "3593",
                  "3593",
                  "3593",
                  "3593",
                  "3594",
                  "3594",
                  "3594",
                  "3594",
                  "3594",
                  "3594",
                  "3594",
                  "3594",
                  "3594",
                  "3594",
                  "3594",
                  "3594",
                  "3594",
                  "3594",
                  "3594",
                  "3594",
                  "3594",
                  "3594",
                  "3594",
                  "3594",
                  "3594",
                  "3594",
                  "3594",
                  "3594",
                  "3594",
                  "3594",
                  "3594",
                  "3594",
                  "3594",
                  "3594",
                  "3594",
                  "3594",
                  "3594",
                  "3594",
                  "3594",
                  "3594",
                  "3594",
                  "3594",
                  "3594",
                  "3595",
                  "3595",
                  "3595",
                  "3595",
                  "3595",
                  "3595",
                  "3595",
                  "3595",
                  "3595",
                  "3595",
                  "3595"
                ],
                [
                  "2",
                  null,
                  "Algeria",
                  "28.0339",
                  "1.6596",
                  "0",
                  "0",
                  "0",
                  "0",
                  "0",
                  "0",
                  "0",
                  "0",
                  "0",
                  "0",
                  "0",
                  "0",
                  "0",
                  "0",
                  "0",
                  "0",
                  "0",
                  "0",
                  "0",
                  "0",
                  "0",
                  "0",
                  "0",
                  "0",
                  "0",
                  "0",
                  "0",
                  "0",
                  "0",
                  "0",
                  "0",
                  "0",
                  "0",
                  "0",
                  "0",
                  "0",
                  "0",
                  "0",
                  "0",
                  "0",
                  "0",
                  "0",
                  "0",
                  "0",
                  "0",
                  "0",
                  "0",
                  "0",
                  "0",
                  "0",
                  "1",
                  "2",
                  "3",
                  "4",
                  "4",
                  "4",
                  "7",
                  "9",
                  "11",
                  "15",
                  "17",
                  "17",
                  "19",
                  "21",
                  "25",
                  "26",
                  "29",
                  "31",
                  "35",
                  "44",
                  "58",
                  "86",
                  "105",
                  "130",
                  "152",
                  "173",
                  "193",
                  "205",
                  "235",
                  "256",
                  "275",
                  "293",
                  "313",
                  "326",
                  "336",
                  "348",
                  "364",
                  "367",
                  "375",
                  "384",
                  "392",
                  "402",
                  "407",
                  "415",
                  "419",
                  "425",
                  "432",
                  "437",
                  "444",
                  "450",
                  "453",
                  "459",
                  "463",
                  "465",
                  "470",
                  "476",
                  "483",
                  "488",
                  "494",
                  "502",
                  "507",
                  "515",
                  "522",
                  "529",
                  "536",
                  "542",
                  "548",
                  "555",
                  "561",
                  "568",
                  "575",
                  "582",
                  "592",
                  "600",
                  "609",
                  "617",
                  "623",
                  "630",
                  "638",
                  "646",
                  "653",
                  "661",
                  "667",
                  "673",
                  "681",
                  "690",
                  "698",
                  "707",
                  "715",
                  "724",
                  "732",
                  "741",
                  "751",
                  "760",
                  "767",
                  "777",
                  "788",
                  "799",
                  "811",
                  "825",
                  "837",
                  "845",
                  "852",
                  "861",
                  "869",
                  "878",
                  "885",
                  "892",
                  "897",
                  "905",
                  "912",
                  "920",
                  "928",
                  "937",
                  "946",
                  "952",
                  "959",
                  "968",
                  "978",
                  "988",
                  "996",
                  "1004",
                  "1011",
                  "1018",
                  "1028",
                  "1040",
                  "1052",
                  "1057",
                  "1068",
                  "1078",
                  "1087",
                  "1100",
                  "1111",
                  "1124",
                  "1136",
                  "1146",
                  "1155",
                  "1163",
                  "1174",
                  "1186",
                  "1200",
                  "1210",
                  "1223",
                  "1231",
                  "1239",
                  "1248",
                  "1261",
                  "1273",
                  "1282",
                  "1293",
                  "1302",
                  "1312",
                  "1322",
                  "1333",
                  "1341",
                  "1351",
                  "1360",
                  "1370",
                  "1379",
                  "1391",
                  "1402",
                  "1411",
                  "1418",
                  "1424",
                  "1435",
                  "1446",
                  "1456",
                  "1465",
                  "1475",
                  "1483",
                  "1491",
                  "1501",
                  "1510",
                  "1518",
                  "1523",
                  "1529",
                  "1539",
                  "1549",
                  "1556",
                  "1562",
                  "1571",
                  "1581",
                  "1591",
                  "1599",
                  "1605",
                  "1612",
                  "1620",
                  "1632",
                  "1645",
                  "1654",
                  "1659",
                  "1665",
                  "1672",
                  "1679",
                  "1689",
                  "1698",
                  "1703",
                  "1707",
                  "1711",
                  "1714",
                  "1719",
                  "1726",
                  "1736",
                  "1741",
                  "1749",
                  "1756",
                  "1760",
                  "1768",
                  "1768",
                  "1771",
                  "1783",
                  "1789",
                  "1795",
                  "1801",
                  "1809",
                  "1818",
                  "1827",
                  "1827",
                  "1841",
                  "1846",
                  "1856",
                  "1865",
                  "1873",
                  "1880",
                  "1888",
                  "1897",
                  "1907",
                  "1914",
                  "1922",
                  "1931",
                  "1941",
                  "1949",
                  "1956",
                  "1964",
                  "1973",
                  "1980",
                  "1980",
                  "1999",
                  "2011",
                  "2024",
                  "2036",
                  "2048",
                  "2062",
                  "2077",
                  "2093",
                  "2111",
                  "2124",
                  "2139",
                  "2154",
                  "2168",
                  "2186",
                  "2206",
                  "2224",
                  "2236",
                  "2255",
                  "2272",
                  "2294",
                  "2309",
                  "2329",
                  "2352",
                  "2372",
                  "2393",
                  "2410",
                  "2431",
                  "2447",
                  "2464",
                  "2480",
                  "2492",
                  "2501",
                  "2516",
                  "2527",
                  "2539",
                  "2554",
                  "2564",
                  "2575",
                  "2584",
                  "2596",
                  "2609",
                  "2623",
                  "2631",
                  "2640",
                  "2647",
                  "2659",
                  "2666",
                  "2675",
                  "2687",
                  "2696",
                  "2705",
                  "2716",
                  "2722",
                  "2728",
                  "2737",
                  "2745",
                  "2751",
                  "2756",
                  "2762",
                  "2769",
                  "2772",
                  "2777",
                  "2782",
                  "2786",
                  "2792",
                  "2798",
                  "2803",
                  "2807",
                  "2812",
                  "2816",
                  "2819",
                  "2822",
                  "2827",
                  "2831",
                  "2836",
                  "2840",
                  "2843",
                  "2849",
                  "2853",
                  "2856",
                  "2861",
                  "2863",
                  "2866",
                  "2871",
                  "2877",
                  "2881",
                  "2884",
                  "2888",
                  "2891",
                  "2894",
                  "2898",
                  "2900",
                  "2904",
                  "2909",
                  "2909",
                  "2914",
                  "2918",
                  "2924",
                  "2926",
                  "2930",
                  "2932",
                  "2935",
                  "2939",
                  "2943",
                  "2945",
                  "2947",
                  "2950",
                  "2954",
                  "2958",
                  "2961",
                  "2964",
                  "2967",
                  "2970",
                  "2973",
                  "2977",
                  "2979",
                  "2983",
                  "2987",
                  "2991",
                  "2996",
                  "3002",
                  "3007",
                  "3010",
                  "3013",
                  "3018",
                  "3022",
                  "3026",
                  "3028",
                  "3031",
                  "3034",
                  "3036",
                  "3040",
                  "3045",
                  "3048",
                  "3051",
                  "3053",
                  "3055",
                  "3057",
                  "3061",
                  "3066",
                  "3069",
                  "3071",
                  "3074",
                  "3077",
                  "3080",
                  "3084",
                  "3089",
                  "3093",
                  "3096",
                  "3099",
                  "3102",
                  "3105",
                  "3108",
                  "3112",
                  "3116",
                  "3119",
                  "3123",
                  "3126",
                  "3130",
                  "3134",
                  "3137",
                  "3141",
                  "3144",
                  "3148",
                  "3152",
                  "3155",
                  "3160",
                  "3165",
                  "3172",
                  "3181",
                  "3190",
                  "3198",
                  "3207",
                  "3217",
                  "3225",
                  "3234",
                  "3244",
                  "3253",
                  "3261",
                  "3270",
                  "3280",
                  "3289",
                  "3299",
                  "3307",
                  "3315",
                  "3321",
                  "3328",
                  "3335",
                  "3343",
                  "3350",
                  "3355",
                  "3360",
                  "3366",
                  "3374",
                  "3381",
                  "3388",
                  "3395",
                  "3401",
                  "3405",
                  "3411",
                  "3418",
                  "3426",
                  "3433",
                  "3440",
                  "3448",
                  "3455",
                  "3460",
                  "3465",
                  "3472",
                  "3480",
                  "3490",
                  "3497",
                  "3504",
                  "3510",
                  "3518",
                  "3527",
                  "3537",
                  "3544",
                  "3552",
                  "3560",
                  "3565",
                  "3571",
                  "3579",
                  "3588",
                  "3598",
                  "3605",
                  "3615",
                  "3624",
                  "3631",
                  "3641",
                  "3650",
                  "3660",
                  "3669",
                  "3678",
                  "3685",
                  "3693",
                  "3699",
                  "3708",
                  "3716",
                  "3726",
                  "3735",
                  "3745",
                  "3755",
                  "3765",
                  "3775",
                  "3786",
                  "3798",
                  "3811",
                  "3824",
                  "3836",
                  "3851",
                  "3867",
                  "3882",
                  "3895",
                  "3910",
                  "3922",
                  "3938",
                  "3956",
                  "3979",
                  "3994",
                  "4008",
                  "4026",
                  "4042",
                  "4063",
                  "4087",
                  "4112",
                  "4161",
                  "4189",
                  "4219",
                  "4254",
                  "4291",
                  "4329",
                  "4370",
                  "4404",
                  "4441",
                  "4487",
                  "4520",
                  "4550",
                  "4578",
                  "4618",
                  "4654",
                  "4695",
                  "4730",
                  "4766",
                  "4794",
                  "4830",
                  "4867",
                  "4898",
                  "4929",
                  "4957",
                  "4984",
                  "5004",
                  "5034",
                  "5063",
                  "5096",
                  "5121",
                  "5148",
                  "5179",
                  "5209",
                  "5240",
                  "5269",
                  "5302",
                  "5339",
                  "5373",
                  "5399",
                  "5420",
                  "5445",
                  "5471",
                  "5489",
                  "5519",
                  "5539",
                  "5558",
                  "5578",
                  "5596",
                  "5614",
                  "5630",
                  "5651",
                  "5670",
                  "5681",
                  "5694",
                  "5709",
                  "5725",
                  "5739",
                  "5748",
                  "5758",
                  "5767",
                  "5777",
                  "5786",
                  "5797",
                  "5805",
                  "5812",
                  "5815",
                  "5819",
                  "5822",
                  "5826",
                  "5831",
                  "5838",
                  "5843",
                  "5846",
                  "5850",
                  "5853",
                  "5855",
                  "5859",
                  "5862",
                  "5864",
                  "5867",
                  "5870",
                  "5872",
                  "5873",
                  "5875",
                  "5878",
                  "5881",
                  "5883",
                  "5886",
                  "5890",
                  "5894",
                  "5899",
                  "5904",
                  "5907",
                  "5913",
                  "5918",
                  "5920",
                  "5924",
                  "5927",
                  "5931",
                  "5936",
                  "5939",
                  "5941",
                  "5945",
                  "5950",
                  "5954",
                  "5960",
                  "5966",
                  "5971",
                  "5977",
                  "5984",
                  "5991",
                  "5997",
                  "6005",
                  "6009",
                  "6015",
                  "6017",
                  "6021",
                  "6026",
                  "6030",
                  "6035",
                  "6041",
                  "6046",
                  "6052",
                  "6058",
                  "6064",
                  "6071",
                  "6076",
                  "6083",
                  "6089",
                  "6096",
                  "6103",
                  "6111",
                  "6114",
                  "6122",
                  "6126",
                  "6132",
                  "6137",
                  "6145",
                  "6151",
                  "6155",
                  "6165",
                  "6171",
                  "6175",
                  "6180",
                  "6184",
                  "6190",
                  "6198",
                  "6205",
                  "6213",
                  "6222",
                  "6229",
                  "6238",
                  "6246",
                  "6254",
                  "6263",
                  "6271",
                  "6276",
                  "6284",
                  "6291",
                  "6298",
                  "6303",
                  "6310",
                  "6318",
                  "6325",
                  "6330",
                  "6339",
                  "6349",
                  "6363",
                  "6372",
                  "6383",
                  "6393",
                  "6404",
                  "6412",
                  "6423",
                  "6435",
                  "6443",
                  "6453",
                  "6468",
                  "6481",
                  "6495",
                  "6508",
                  "6516",
                  "6526",
                  "6539",
                  "6545",
                  "6555",
                  "6566",
                  "6579",
                  "6593",
                  "6604",
                  "6618",
                  "6631",
                  "6640",
                  "6646",
                  "6654",
                  "6667",
                  "6678",
                  "6690",
                  "6703",
                  "6715",
                  "6729",
                  "6744",
                  "6753",
                  "6762",
                  "6772",
                  "6780",
                  "6787",
                  "6797",
                  "6805",
                  "6812",
                  "6816",
                  "6820",
                  "6823",
                  "6828",
                  "6831",
                  "6835",
                  "6840",
                  "6843",
                  "6848",
                  "6852",
                  "6853",
                  "6855",
                  "6857",
                  "6858",
                  "6860",
                  "6861",
                  "6861",
                  "6862",
                  "6864",
                  "6866",
                  "6868",
                  "6869",
                  "6870",
                  "6871",
                  "6871",
                  "6871",
                  "6872",
                  "6873",
                  "6873",
                  "6873",
                  "6873",
                  "6873",
                  "6873",
                  "6873",
                  "6874",
                  "6874",
                  "6874",
                  "6874",
                  "6874",
                  "6874",
                  "6874",
                  "6874",
                  "6874",
                  "6874",
                  "6874",
                  "6874",
                  "6874",
                  "6874",
                  "6874",
                  "6874",
                  "6874",
                  "6874",
                  "6874",
                  "6874",
                  "6874",
                  "6874",
                  "6874",
                  "6874",
                  "6874",
                  "6874",
                  "6875",
                  "6875",
                  "6875",
                  "6875",
                  "6875",
                  "6875",
                  "6875",
                  "6875",
                  "6875",
                  "6875",
                  "6875",
                  "6875",
                  "6875",
                  "6875",
                  "6875",
                  "6875",
                  "6875",
                  "6875",
                  "6875",
                  "6875",
                  "6875",
                  "6875",
                  "6875",
                  "6875",
                  "6875",
                  "6875",
                  "6875",
                  "6875",
                  "6875",
                  "6875",
                  "6875",
                  "6875",
                  "6875",
                  "6875",
                  "6875",
                  "6875",
                  "6875",
                  "6875",
                  "6875",
                  "6875",
                  "6875",
                  "6875",
                  "6875",
                  "6875",
                  "6875",
                  "6875",
                  "6875",
                  "6875",
                  "6875",
                  "6875",
                  "6875",
                  "6875",
                  "6875",
                  "6875",
                  "6875",
                  "6875",
                  "6875",
                  "6875",
                  "6875",
                  "6875",
                  "6875",
                  "6875",
                  "6875",
                  "6875",
                  "6875",
                  "6875",
                  "6875",
                  "6875",
                  "6875",
                  "6875",
                  "6875",
                  "6875",
                  "6875",
                  "6875",
                  "6875",
                  "6875",
                  "6875",
                  "6875",
                  "6875",
                  "6875",
                  "6875",
                  "6875",
                  "6875",
                  "6875",
                  "6875",
                  "6875",
                  "6875",
                  "6875",
                  "6875",
                  "6875",
                  "6875",
                  "6876",
                  "6876",
                  "6876",
                  "6876",
                  "6876",
                  "6876",
                  "6876",
                  "6876",
                  "6876",
                  "6876",
                  "6876",
                  "6877",
                  "6878",
                  "6878",
                  "6878",
                  "6878",
                  "6878",
                  "6878",
                  "6878",
                  "6878",
                  "6878",
                  "6878",
                  "6878",
                  "6878",
                  "6878",
                  "6878",
                  "6878",
                  "6878",
                  "6878",
                  "6878",
                  "6878",
                  "6878",
                  "6878",
                  "6878",
                  "6878",
                  "6878",
                  "6878",
                  "6878",
                  "6878",
                  "6878",
                  "6878",
                  "6878",
                  "6879",
                  "6879",
                  "6879",
                  "6879",
                  "6879",
                  "6879",
                  "6879",
                  "6879",
                  "6879",
                  "6879",
                  "6879",
                  "6879",
                  "6879",
                  "6879",
                  "6879",
                  "6879",
                  "6879",
                  "6879",
                  "6879",
                  "6879",
                  "6879",
                  "6879",
                  "6879",
                  "6879",
                  "6879",
                  "6879",
                  "6879",
                  "6879",
                  "6879",
                  "6879",
                  "6879",
                  "6879",
                  "6881",
                  "6881",
                  "6881",
                  "6881",
                  "6881",
                  "6881",
                  "6881",
                  "6881",
                  "6881",
                  "6881",
                  "6881",
                  "6881",
                  "6881",
                  "6881",
                  "6881",
                  "6881",
                  "6881",
                  "6881",
                  "6881",
                  "6881",
                  "6881",
                  "6881",
                  "6881",
                  "6881",
                  "6881",
                  "6881",
                  "6881",
                  "6881",
                  "6881",
                  "6881",
                  "6881",
                  "6881",
                  "6881",
                  "6881",
                  "6881",
                  "6881",
                  "6881",
                  "6881",
                  "6881",
                  "6881",
                  "6881",
                  "6881",
                  "6881",
                  "6881",
                  "6881",
                  "6881",
                  "6881",
                  "6881",
                  "6881",
                  "6881",
                  "6881",
                  "6881",
                  "6881",
                  "6881",
                  "6881",
                  "6881",
                  "6881",
                  "6881",
                  "6881",
                  "6881",
                  "6881",
                  "6881",
                  "6881",
                  "6881",
                  "6881",
                  "6881",
                  "6881",
                  "6881",
                  "6881",
                  "6881",
                  "6881",
                  "6881",
                  "6881",
                  "6881",
                  "6881",
                  "6881",
                  "6881",
                  "6881",
                  "6881",
                  "6881",
                  "6881",
                  "6881",
                  "6881",
                  "6881",
                  "6881",
                  "6881",
                  "6881",
                  "6881",
                  "6881"
                ],
                [
                  "3",
                  null,
                  "Andorra",
                  "42.5063",
                  "1.5218",
                  "0",
                  "0",
                  "0",
                  "0",
                  "0",
                  "0",
                  "0",
                  "0",
                  "0",
                  "0",
                  "0",
                  "0",
                  "0",
                  "0",
                  "0",
                  "0",
                  "0",
                  "0",
                  "0",
                  "0",
                  "0",
                  "0",
                  "0",
                  "0",
                  "0",
                  "0",
                  "0",
                  "0",
                  "0",
                  "0",
                  "0",
                  "0",
                  "0",
                  "0",
                  "0",
                  "0",
                  "0",
                  "0",
                  "0",
                  "0",
                  "0",
                  "0",
                  "0",
                  "0",
                  "0",
                  "0",
                  "0",
                  "0",
                  "0",
                  "0",
                  "0",
                  "0",
                  "0",
                  "0",
                  "0",
                  "0",
                  "0",
                  "0",
                  "0",
                  "0",
                  "1",
                  "1",
                  "1",
                  "1",
                  "3",
                  "3",
                  "3",
                  "6",
                  "8",
                  "12",
                  "14",
                  "15",
                  "16",
                  "17",
                  "18",
                  "21",
                  "22",
                  "23",
                  "25",
                  "26",
                  "26",
                  "29",
                  "29",
                  "31",
                  "33",
                  "33",
                  "35",
                  "35",
                  "36",
                  "37",
                  "37",
                  "37",
                  "37",
                  "40",
                  "40",
                  "40",
                  "40",
                  "41",
                  "42",
                  "42",
                  "43",
                  "44",
                  "45",
                  "45",
                  "46",
                  "46",
                  "47",
                  "47",
                  "48",
                  "48",
                  "48",
                  "48",
                  "49",
                  "49",
                  "49",
                  "51",
                  "51",
                  "51",
                  "51",
                  "51",
                  "51",
                  "51",
                  "51",
                  "51",
                  "51",
                  "51",
                  "51",
                  "51",
                  "51",
                  "51",
                  "51",
                  "51",
                  "51",
                  "51",
                  "51",
                  "51",
                  "51",
                  "51",
                  "51",
                  "51",
                  "51",
                  "51",
                  "51",
                  "51",
                  "51",
                  "51",
                  "52",
                  "52",
                  "52",
                  "52",
                  "52",
                  "52",
                  "52",
                  "52",
                  "52",
                  "52",
                  "52",
                  "52",
                  "52",
                  "52",
                  "52",
                  "52",
                  "52",
                  "52",
                  "52",
                  "52",
                  "52",
                  "52",
                  "52",
                  "52",
                  "52",
                  "52",
                  "52",
                  "52",
                  "52",
                  "52",
                  "52",
                  "52",
                  "52",
                  "52",
                  "52",
                  "52",
                  "52",
                  "52",
                  "52",
                  "52",
                  "52",
                  "52",
                  "52",
                  "52",
                  "52",
                  "52",
                  "52",
                  "52",
                  "52",
                  "52",
                  "52",
                  "52",
                  "52",
                  "52",
                  "52",
                  "52",
                  "52",
                  "53",
                  "53",
                  "53",
                  "53",
                  "53",
                  "53",
                  "53",
                  "53",
                  "53",
                  "53",
                  "53",
                  "53",
                  "53",
                  "53",
                  "53",
                  "53",
                  "53",
                  "53",
                  "53",
                  "53",
                  "53",
                  "53",
                  "53",
                  "53",
                  "53",
                  "53",
                  "53",
                  "53",
                  "53",
                  "53",
                  "53",
                  "53",
                  "53",
                  "53",
                  "53",
                  "53",
                  "53",
                  "53",
                  "53",
                  "53",
                  "53",
                  "53",
                  "53",
                  "53",
                  "53",
                  "53",
                  "53",
                  "53",
                  "53",
                  "53",
                  "53",
                  "53",
                  "53",
                  "53",
                  "53",
                  "53",
                  "53",
                  "54",
                  "55",
                  "55",
                  "55",
                  "57",
                  "57",
                  "59",
                  "59",
                  "59",
                  "59",
                  "59",
                  "62",
                  "62",
                  "63",
                  "63",
                  "69",
                  "69",
                  "69",
                  "72",
                  "72",
                  "72",
                  "73",
                  "75",
                  "75",
                  "75",
                  "75",
                  "75",
                  "75",
                  "75",
                  "75",
                  "75",
                  "75",
                  "75",
                  "75",
                  "75",
                  "75",
                  "75",
                  "75",
                  "76",
                  "76",
                  "76",
                  "76",
                  "76",
                  "76",
                  "76",
                  "76",
                  "76",
                  "76",
                  "76",
                  "76",
                  "76",
                  "76",
                  "76",
                  "76",
                  "76",
                  "76",
                  "77",
                  "77",
                  "78",
                  "78",
                  "78",
                  "78",
                  "78",
                  "78",
                  "78",
                  "78",
                  "79",
                  "79",
                  "79",
                  "79",
                  "79",
                  "80",
                  "80",
                  "81",
                  "81",
                  "82",
                  "82",
                  "83",
                  "83",
                  "83",
                  "83",
                  "83",
                  "84",
                  "84",
                  "84",
                  "84",
                  "84",
                  "84",
                  "84",
                  "84",
                  "84",
                  "84",
                  "84",
                  "85",
                  "85",
                  "85",
                  "86",
                  "87",
                  "88",
                  "88",
                  "91",
                  "91",
                  "91",
                  "92",
                  "92",
                  "93",
                  "93",
                  "96",
                  "96",
                  "97",
                  "97",
                  "98",
                  "100",
                  "100",
                  "101",
                  "101",
                  "101",
                  "102",
                  "103",
                  "103",
                  "104",
                  "105",
                  "106",
                  "106",
                  "106",
                  "106",
                  "106",
                  "106",
                  "107",
                  "107",
                  "107",
                  "107",
                  "107",
                  "107",
                  "107",
                  "107",
                  "107",
                  "109",
                  "110",
                  "110",
                  "110",
                  "110",
                  "110",
                  "110",
                  "110",
                  "110",
                  "112",
                  "112",
                  "112",
                  "112",
                  "112",
                  "112",
                  "112",
                  "112",
                  "112",
                  "112",
                  "112",
                  "113",
                  "113",
                  "113",
                  "113",
                  "113",
                  "113",
                  "113",
                  "113",
                  "113",
                  "113",
                  "114",
                  "114",
                  "114",
                  "115",
                  "115",
                  "115",
                  "115",
                  "115",
                  "115",
                  "116",
                  "117",
                  "117",
                  "117",
                  "117",
                  "119",
                  "120",
                  "120",
                  "120",
                  "120",
                  "121",
                  "121",
                  "121",
                  "121",
                  "123",
                  "123",
                  "123",
                  "123",
                  "123",
                  "123",
                  "123",
                  "123",
                  "124",
                  "124",
                  "124",
                  "124",
                  "125",
                  "125",
                  "125",
                  "125",
                  "127",
                  "127",
                  "127",
                  "127",
                  "127",
                  "127",
                  "127",
                  "127",
                  "127",
                  "127",
                  "127",
                  "127",
                  "127",
                  "127",
                  "127",
                  "127",
                  "127",
                  "127",
                  "127",
                  "127",
                  "127",
                  "127",
                  "127",
                  "127",
                  "127",
                  "127",
                  "127",
                  "127",
                  "127",
                  "127",
                  "127",
                  "127",
                  "127",
                  "127",
                  "127",
                  "127",
                  "127",
                  "127",
                  "127",
                  "127",
                  "127",
                  "127",
                  "127",
                  "127",
                  "127",
                  "127",
                  "127",
                  "127",
                  "127",
                  "127",
                  "127",
                  "127",
                  "127",
                  "127",
                  "127",
                  "127",
                  "127",
                  "127",
                  "127",
                  "127",
                  "127",
                  "127",
                  "127",
                  "127",
                  "127",
                  "127",
                  "127",
                  "127",
                  "127",
                  "127",
                  "127",
                  "127",
                  "127",
                  "127",
                  "127",
                  "127",
                  "127",
                  "127",
                  "127",
                  "127",
                  "127",
                  "127",
                  "127",
                  "127",
                  "127",
                  "127",
                  "127",
                  "127",
                  "127",
                  "128",
                  "128",
                  "128",
                  "128",
                  "128",
                  "128",
                  "128",
                  "128",
                  "128",
                  "128",
                  "128",
                  "129",
                  "129",
                  "129",
                  "129",
                  "129",
                  "129",
                  "129",
                  "129",
                  "129",
                  "129",
                  "129",
                  "129",
                  "129",
                  "130",
                  "130",
                  "130",
                  "130",
                  "130",
                  "130",
                  "130",
                  "130",
                  "130",
                  "130",
                  "130",
                  "130",
                  "130",
                  "130",
                  "130",
                  "130",
                  "130",
                  "130",
                  "130",
                  "130",
                  "130",
                  "130",
                  "130",
                  "130",
                  "130",
                  "130",
                  "130",
                  "130",
                  "130",
                  "130",
                  "130",
                  "130",
                  "130",
                  "130",
                  "130",
                  "130",
                  "130",
                  "130",
                  "130",
                  "130",
                  "130",
                  "130",
                  "130",
                  "130",
                  "130",
                  "130",
                  "130",
                  "130",
                  "130",
                  "130",
                  "130",
                  "130",
                  "130",
                  "130",
                  "130",
                  "130",
                  "130",
                  "130",
                  "130",
                  "130",
                  "130",
                  "130",
                  "130",
                  "130",
                  "130",
                  "130",
                  "130",
                  "130",
                  "130",
                  "130",
                  "130",
                  "130",
                  "130",
                  "130",
                  "130",
                  "130",
                  "130",
                  "130",
                  "130",
                  "130",
                  "130",
                  "130",
                  "130",
                  "130",
                  "130",
                  "130",
                  "130",
                  "130",
                  "130",
                  "130",
                  "130",
                  "130",
                  "130",
                  "131",
                  "131",
                  "131",
                  "131",
                  "131",
                  "131",
                  "131",
                  "131",
                  "132",
                  "132",
                  "132",
                  "132",
                  "133",
                  "133",
                  "133",
                  "133",
                  "133",
                  "133",
                  "133",
                  "133",
                  "134",
                  "134",
                  "134",
                  "134",
                  "134",
                  "134",
                  "137",
                  "137",
                  "138",
                  "139",
                  "139",
                  "139",
                  "139",
                  "139",
                  "140",
                  "140",
                  "140",
                  "140",
                  "140",
                  "140",
                  "140",
                  "141",
                  "141",
                  "141",
                  "141",
                  "141",
                  "141",
                  "141",
                  "141",
                  "141",
                  "141",
                  "142",
                  "142",
                  "142",
                  "142",
                  "142",
                  "142",
                  "144",
                  "144",
                  "144",
                  "144",
                  "144",
                  "145",
                  "145",
                  "145",
                  "145",
                  "145",
                  "145",
                  "145",
                  "145",
                  "146",
                  "147",
                  "147",
                  "147",
                  "147",
                  "147",
                  "147",
                  "148",
                  "148",
                  "148",
                  "148",
                  "148",
                  "149",
                  "150",
                  "150",
                  "150",
                  "150",
                  "150",
                  "150",
                  "150",
                  "151",
                  "151",
                  "151",
                  "151",
                  "151",
                  "151",
                  "151",
                  "151",
                  "151",
                  "151",
                  "151",
                  "151",
                  "151",
                  "151",
                  "152",
                  "152",
                  "152",
                  "152",
                  "152",
                  "152",
                  "152",
                  "152",
                  "152",
                  "153",
                  "153",
                  "153",
                  "153",
                  "153",
                  "153",
                  "153",
                  "155",
                  "153",
                  "153",
                  "153",
                  "153",
                  "153",
                  "153",
                  "153",
                  "153",
                  "153",
                  "153",
                  "153",
                  "153",
                  "153",
                  "153",
                  "153",
                  "153",
                  "153",
                  "153",
                  "153",
                  "153",
                  "153",
                  "153",
                  "153",
                  "153",
                  "153",
                  "153",
                  "153",
                  "153",
                  "153",
                  "153",
                  "153",
                  "153",
                  "153",
                  "153",
                  "153",
                  "153",
                  "153",
                  "153",
                  "153",
                  "153",
                  "153",
                  "153",
                  "153",
                  "153",
                  "153",
                  "153",
                  "153",
                  "153",
                  "153",
                  "153",
                  "153",
                  "153",
                  "153",
                  "153",
                  "153",
                  "153",
                  "153",
                  "153",
                  "153",
                  "153",
                  "153",
                  "153",
                  "153",
                  "153",
                  "153",
                  "153",
                  "153",
                  "153",
                  "153",
                  "153",
                  "153",
                  "153",
                  "153",
                  "153",
                  "153",
                  "153",
                  "153",
                  "153",
                  "153",
                  "153",
                  "153",
                  "153",
                  "153",
                  "153",
                  "153",
                  "153",
                  "153",
                  "153",
                  "153",
                  "153",
                  "153",
                  "153",
                  "153",
                  "153",
                  "153",
                  "153",
                  "153",
                  "153",
                  "153",
                  "153",
                  "153",
                  "153",
                  "153",
                  "153",
                  "153",
                  "153",
                  "153",
                  "153",
                  "153",
                  "153",
                  "153",
                  "153",
                  "153",
                  "153",
                  "153",
                  "153",
                  "153",
                  "153",
                  "153",
                  "153",
                  "153",
                  "153",
                  "153",
                  "153",
                  "153",
                  "153",
                  "153",
                  "153",
                  "153",
                  "153",
                  "153",
                  "154",
                  "154",
                  "154",
                  "154",
                  "154",
                  "154",
                  "154",
                  "154",
                  "154",
                  "154",
                  "154",
                  "154",
                  "154",
                  "154",
                  "154",
                  "154",
                  "154",
                  "154",
                  "154",
                  "154",
                  "154",
                  "154",
                  "154",
                  "154",
                  "154",
                  "154",
                  "154",
                  "154",
                  "154",
                  "154",
                  "154",
                  "154",
                  "154",
                  "154",
                  "154",
                  "155",
                  "155",
                  "155",
                  "155",
                  "155",
                  "155",
                  "155",
                  "155",
                  "155",
                  "155",
                  "155",
                  "155",
                  "155",
                  "155",
                  "155",
                  "155",
                  "155",
                  "155",
                  "155",
                  "155",
                  "155",
                  "155",
                  "155",
                  "155",
                  "155",
                  "155",
                  "155",
                  "155",
                  "155",
                  "155",
                  "155",
                  "155",
                  "155",
                  "155",
                  "155",
                  "155",
                  "155",
                  "155",
                  "155",
                  "155",
                  "155",
                  "155",
                  "155",
                  "155",
                  "155",
                  "155",
                  "155",
                  "155",
                  "155",
                  "155",
                  "155",
                  "155",
                  "155",
                  "155",
                  "155",
                  "155",
                  "155",
                  "155",
                  "155",
                  "155",
                  "155",
                  "155",
                  "155",
                  "155",
                  "155",
                  "155",
                  "155",
                  "155",
                  "155",
                  "155",
                  "156",
                  "156",
                  "156",
                  "156",
                  "156",
                  "156",
                  "156",
                  "156",
                  "156",
                  "156",
                  "156",
                  "156",
                  "156",
                  "156",
                  "157",
                  "157",
                  "157",
                  "157",
                  "157",
                  "157",
                  "157",
                  "158",
                  "158",
                  "158",
                  "158",
                  "158",
                  "158",
                  "158",
                  "158",
                  "158",
                  "158",
                  "158",
                  "158",
                  "158",
                  "165",
                  "165",
                  "165",
                  "165",
                  "165",
                  "165",
                  "165",
                  "165",
                  "165",
                  "165",
                  "165",
                  "165",
                  "165",
                  "165"
                ],
                [
                  "4",
                  null,
                  "Angola",
                  "-11.2027",
                  "17.8739",
                  "0",
                  "0",
                  "0",
                  "0",
                  "0",
                  "0",
                  "0",
                  "0",
                  "0",
                  "0",
                  "0",
                  "0",
                  "0",
                  "0",
                  "0",
                  "0",
                  "0",
                  "0",
                  "0",
                  "0",
                  "0",
                  "0",
                  "0",
                  "0",
                  "0",
                  "0",
                  "0",
                  "0",
                  "0",
                  "0",
                  "0",
                  "0",
                  "0",
                  "0",
                  "0",
                  "0",
                  "0",
                  "0",
                  "0",
                  "0",
                  "0",
                  "0",
                  "0",
                  "0",
                  "0",
                  "0",
                  "0",
                  "0",
                  "0",
                  "0",
                  "0",
                  "0",
                  "0",
                  "0",
                  "0",
                  "0",
                  "0",
                  "0",
                  "0",
                  "0",
                  "0",
                  "0",
                  "0",
                  "0",
                  "0",
                  "0",
                  "0",
                  "2",
                  "2",
                  "2",
                  "2",
                  "2",
                  "2",
                  "2",
                  "2",
                  "2",
                  "2",
                  "2",
                  "2",
                  "2",
                  "2",
                  "2",
                  "2",
                  "2",
                  "2",
                  "2",
                  "2",
                  "2",
                  "2",
                  "2",
                  "2",
                  "2",
                  "2",
                  "2",
                  "2",
                  "2",
                  "2",
                  "2",
                  "2",
                  "2",
                  "2",
                  "2",
                  "2",
                  "2",
                  "2",
                  "2",
                  "2",
                  "2",
                  "2",
                  "2",
                  "2",
                  "2",
                  "2",
                  "2",
                  "2",
                  "2",
                  "2",
                  "3",
                  "3",
                  "3",
                  "3",
                  "3",
                  "4",
                  "4",
                  "4",
                  "4",
                  "4",
                  "4",
                  "4",
                  "4",
                  "4",
                  "4",
                  "4",
                  "4",
                  "4",
                  "4",
                  "4",
                  "4",
                  "4",
                  "4",
                  "4",
                  "5",
                  "5",
                  "6",
                  "6",
                  "6",
                  "6",
                  "7",
                  "8",
                  "8",
                  "9",
                  "9",
                  "10",
                  "10",
                  "10",
                  "10",
                  "10",
                  "10",
                  "11",
                  "11",
                  "13",
                  "15",
                  "17",
                  "18",
                  "19",
                  "19",
                  "19",
                  "21",
                  "21",
                  "22",
                  "23",
                  "23",
                  "26",
                  "26",
                  "26",
                  "27",
                  "28",
                  "29",
                  "29",
                  "29",
                  "29",
                  "30",
                  "33",
                  "33",
                  "35",
                  "39",
                  "40",
                  "41",
                  "47",
                  "48",
                  "51",
                  "52",
                  "54",
                  "55",
                  "58",
                  "59",
                  "62",
                  "64",
                  "67",
                  "70",
                  "75",
                  "78",
                  "80",
                  "80",
                  "80",
                  "86",
                  "86",
                  "88",
                  "88",
                  "90",
                  "92",
                  "93",
                  "94",
                  "94",
                  "96",
                  "100",
                  "102",
                  "103",
                  "105",
                  "106",
                  "107",
                  "107",
                  "108",
                  "109",
                  "112",
                  "113",
                  "115",
                  "117",
                  "117",
                  "120",
                  "124",
                  "126",
                  "130",
                  "131",
                  "132",
                  "134",
                  "136",
                  "139",
                  "143",
                  "144",
                  "147",
                  "147",
                  "152",
                  "154",
                  "155",
                  "159",
                  "162",
                  "167",
                  "171",
                  "174",
                  "176",
                  "179",
                  "183",
                  "185",
                  "189",
                  "193",
                  "195",
                  "199",
                  "211",
                  "211",
                  "208",
                  "212",
                  "218",
                  "218",
                  "219",
                  "222",
                  "227",
                  "228",
                  "234",
                  "241",
                  "247",
                  "248",
                  "251",
                  "255",
                  "260",
                  "265",
                  "267",
                  "268",
                  "270",
                  "271",
                  "275",
                  "275",
                  "279",
                  "284",
                  "286",
                  "289",
                  "291",
                  "296",
                  "299",
                  "300",
                  "303",
                  "307",
                  "308",
                  "308",
                  "312",
                  "315",
                  "317",
                  "322",
                  "322",
                  "324",
                  "328",
                  "332",
                  "333",
                  "334",
                  "336",
                  "337",
                  "337",
                  "338",
                  "340",
                  "341",
                  "342",
                  "345",
                  "346",
                  "348",
                  "350",
                  "351",
                  "352",
                  "353",
                  "354",
                  "354",
                  "354",
                  "355",
                  "358",
                  "362",
                  "365",
                  "366",
                  "371",
                  "372",
                  "372",
                  "379",
                  "382",
                  "384",
                  "386",
                  "387",
                  "390",
                  "393",
                  "393",
                  "393",
                  "396",
                  "399",
                  "399",
                  "403",
                  "403",
                  "405",
                  "405",
                  "405",
                  "407",
                  "408",
                  "408",
                  "410",
                  "413",
                  "413",
                  "415",
                  "416",
                  "416",
                  "420",
                  "422",
                  "424",
                  "425",
                  "428",
                  "431",
                  "436",
                  "439",
                  "442",
                  "444",
                  "448",
                  "452",
                  "457",
                  "459",
                  "461",
                  "462",
                  "462",
                  "464",
                  "464",
                  "464",
                  "466",
                  "466",
                  "468",
                  "470",
                  "473",
                  "474",
                  "475",
                  "475",
                  "475",
                  "478",
                  "487",
                  "487",
                  "490",
                  "491",
                  "492",
                  "493",
                  "494",
                  "496",
                  "498",
                  "498",
                  "498",
                  "499",
                  "499",
                  "500",
                  "501",
                  "502",
                  "504",
                  "506",
                  "508",
                  "508",
                  "510",
                  "510",
                  "511",
                  "511",
                  "512",
                  "514",
                  "515",
                  "516",
                  "516",
                  "517",
                  "519",
                  "520",
                  "521",
                  "521",
                  "522",
                  "522",
                  "522",
                  "524",
                  "526",
                  "527",
                  "530",
                  "530",
                  "532",
                  "532",
                  "532",
                  "533",
                  "533",
                  "534",
                  "536",
                  "537",
                  "538",
                  "538",
                  "540",
                  "542",
                  "543",
                  "547",
                  "547",
                  "549",
                  "549",
                  "550",
                  "553",
                  "554",
                  "554",
                  "557",
                  "557",
                  "560",
                  "561",
                  "561",
                  "563",
                  "565",
                  "570",
                  "572",
                  "574",
                  "577",
                  "579",
                  "583",
                  "587",
                  "591",
                  "594",
                  "596",
                  "600",
                  "602",
                  "603",
                  "609",
                  "618",
                  "622",
                  "628",
                  "630",
                  "633",
                  "636",
                  "639",
                  "645",
                  "649",
                  "651",
                  "655",
                  "659",
                  "677",
                  "685",
                  "696",
                  "704",
                  "709",
                  "715",
                  "725",
                  "731",
                  "735",
                  "742",
                  "745",
                  "749",
                  "757",
                  "764",
                  "766",
                  "772",
                  "780",
                  "784",
                  "788",
                  "794",
                  "797",
                  "800",
                  "803",
                  "811",
                  "815",
                  "819",
                  "825",
                  "831",
                  "836",
                  "842",
                  "847",
                  "851",
                  "853",
                  "856",
                  "859",
                  "868",
                  "875",
                  "878",
                  "881",
                  "883",
                  "887",
                  "889",
                  "891",
                  "894",
                  "900",
                  "903",
                  "906",
                  "910",
                  "913",
                  "915",
                  "920",
                  "925",
                  "925",
                  "928",
                  "929",
                  "935",
                  "939",
                  "941",
                  "946",
                  "951",
                  "952",
                  "954",
                  "957",
                  "969",
                  "970",
                  "973",
                  "977",
                  "981",
                  "982",
                  "984",
                  "991",
                  "994",
                  "1000",
                  "1003",
                  "1008",
                  "1011",
                  "1016",
                  "1018",
                  "1022",
                  "1026",
                  "1032",
                  "1042",
                  "1044",
                  "1049",
                  "1053",
                  "1057",
                  "1063",
                  "1070",
                  "1082",
                  "1086",
                  "1100",
                  "1103",
                  "1118",
                  "1125",
                  "1133",
                  "1138",
                  "1140",
                  "1153",
                  "1163",
                  "1166",
                  "1176",
                  "1182",
                  "1186",
                  "1192",
                  "1201",
                  "1210",
                  "1217",
                  "1227",
                  "1235",
                  "1248",
                  "1258",
                  "1270",
                  "1282",
                  "1299",
                  "1309",
                  "1313",
                  "1322",
                  "1327",
                  "1339",
                  "1345",
                  "1358",
                  "1360",
                  "1371",
                  "1378",
                  "1388",
                  "1388",
                  "1409",
                  "1414",
                  "1434",
                  "1460",
                  "1471",
                  "1487",
                  "1501",
                  "1513",
                  "1526",
                  "1537",
                  "1537",
                  "1567",
                  "1574",
                  "1577",
                  "1577",
                  "1587",
                  "1598",
                  "1603",
                  "1613",
                  "1618",
                  "1622",
                  "1629",
                  "1642",
                  "1650",
                  "1653",
                  "1660",
                  "1662",
                  "1664",
                  "1670",
                  "1678",
                  "1682",
                  "1685",
                  "1693",
                  "1695",
                  "1697",
                  "1701",
                  "1702",
                  "1703",
                  "1705",
                  "1707",
                  "1708",
                  "1710",
                  "1713",
                  "1713",
                  "1716",
                  "1718",
                  "1719",
                  "1719",
                  "1720",
                  "1721",
                  "1723",
                  "1723",
                  "1725",
                  "1726",
                  "1727",
                  "1727",
                  "1727",
                  "1729",
                  "1729",
                  "1729",
                  "1729",
                  "1730",
                  "1730",
                  "1730",
                  "1730",
                  "1731",
                  "1732",
                  "1733",
                  "1733",
                  "1733",
                  "1733",
                  "1733",
                  "1735",
                  "1735",
                  "1735",
                  "1735",
                  "1735",
                  "1735",
                  "1735",
                  "1735",
                  "1736",
                  "1737",
                  "1737",
                  "1737",
                  "1737",
                  "1737",
                  "1737",
                  "1737",
                  "1738",
                  "1738",
                  "1738",
                  "1738",
                  "1738",
                  "1741",
                  "1743",
                  "1746",
                  "1746",
                  "1749",
                  "1749",
                  "1756",
                  "1760",
                  "1764",
                  "1770",
                  "1772",
                  "1772",
                  "1775",
                  "1778",
                  "1789",
                  "1799",
                  "1809",
                  "1819",
                  "1826",
                  "1832",
                  "1840",
                  "1842",
                  "1847",
                  "1852",
                  "1857",
                  "1863",
                  "1866",
                  "1870",
                  "1877",
                  "1881",
                  "1884",
                  "1886",
                  "1888",
                  "1888",
                  "1891",
                  "1892",
                  "1893",
                  "1893",
                  "1894",
                  "1895",
                  "1895",
                  "1895",
                  "1895",
                  "1896",
                  "1896",
                  "1896",
                  "1896",
                  "1896",
                  "1896",
                  "1896",
                  "1897",
                  "1898",
                  "1898",
                  "1898",
                  "1898",
                  "1899",
                  "1899",
                  "1899",
                  "1899",
                  "1899",
                  "1899",
                  "1899",
                  "1899",
                  "1899",
                  "1899",
                  "1899",
                  "1899",
                  "1899",
                  "1900",
                  "1900",
                  "1900",
                  "1900",
                  "1900",
                  "1900",
                  "1900",
                  "1900",
                  "1900",
                  "1900",
                  "1900",
                  "1900",
                  "1900",
                  "1900",
                  "1900",
                  "1900",
                  "1900",
                  "1900",
                  "1900",
                  "1900",
                  "1900",
                  "1900",
                  "1900",
                  "1900",
                  "1900",
                  "1900",
                  "1900",
                  "1900",
                  "1900",
                  "1900",
                  "1900",
                  "1900",
                  "1900",
                  "1900",
                  "1900",
                  "1900",
                  "1900",
                  "1900",
                  "1900",
                  "1900",
                  "1900",
                  "1900",
                  "1900",
                  "1900",
                  "1900",
                  "1900",
                  "1900",
                  "1900",
                  "1900",
                  "1900",
                  "1900",
                  "1900",
                  "1900",
                  "1900",
                  "1900",
                  "1900",
                  "1900",
                  "1900",
                  "1900",
                  "1900",
                  "1900",
                  "1900",
                  "1900",
                  "1900",
                  "1900",
                  "1900",
                  "1900",
                  "1900",
                  "1900",
                  "1900",
                  "1900",
                  "1900",
                  "1900",
                  "1900",
                  "1900",
                  "1900",
                  "1900",
                  "1900",
                  "1900",
                  "1900",
                  "1900",
                  "1900",
                  "1900",
                  "1900",
                  "1900",
                  "1900",
                  "1900",
                  "1900",
                  "1900",
                  "1900",
                  "1900",
                  "1900",
                  "1900",
                  "1900",
                  "1900",
                  "1900",
                  "1900",
                  "1900",
                  "1900",
                  "1900",
                  "1900",
                  "1900",
                  "1900",
                  "1900",
                  "1900",
                  "1900",
                  "1900",
                  "1900",
                  "1900",
                  "1900",
                  "1900",
                  "1900",
                  "1900",
                  "1900",
                  "1900",
                  "1900",
                  "1900",
                  "1900",
                  "1900",
                  "1900",
                  "1900",
                  "1900",
                  "1900",
                  "1900",
                  "1900",
                  "1900",
                  "1900",
                  "1900",
                  "1900",
                  "1900",
                  "1900",
                  "1900",
                  "1900",
                  "1900",
                  "1900",
                  "1900",
                  "1900",
                  "1909",
                  "1909",
                  "1909",
                  "1912",
                  "1912",
                  "1912",
                  "1912",
                  "1912",
                  "1912",
                  "1912",
                  "1912",
                  "1912",
                  "1912",
                  "1912",
                  "1912",
                  "1912",
                  "1912",
                  "1912",
                  "1912",
                  "1912",
                  "1912",
                  "1917",
                  "1917",
                  "1917",
                  "1917",
                  "1917",
                  "1917",
                  "1917",
                  "1917",
                  "1917",
                  "1917",
                  "1917",
                  "1917",
                  "1917",
                  "1917",
                  "1917",
                  "1917",
                  "1917",
                  "1917",
                  "1917",
                  "1917",
                  "1917",
                  "1917",
                  "1917",
                  "1917",
                  "1917",
                  "1917",
                  "1917",
                  "1917",
                  "1917",
                  "1917",
                  "1917",
                  "1917",
                  "1917",
                  "1917",
                  "1917",
                  "1917",
                  "1917",
                  "1917",
                  "1917",
                  "1917",
                  "1917",
                  "1917",
                  "1917",
                  "1917",
                  "1917",
                  "1917",
                  "1917",
                  "1917",
                  "1917",
                  "1917",
                  "1917",
                  "1917",
                  "1917",
                  "1917",
                  "1917",
                  "1917",
                  "1917",
                  "1917",
                  "1917",
                  "1917",
                  "1917",
                  "1917",
                  "1917",
                  "1917",
                  "1917",
                  "1917",
                  "1917",
                  "1917",
                  "1917",
                  "1917",
                  "1917",
                  "1917",
                  "1917",
                  "1917",
                  "1917",
                  "1917",
                  "1917",
                  "1917",
                  "1917",
                  "1917",
                  "1917",
                  "1917",
                  "1917",
                  "1917",
                  "1917",
                  "1917",
                  "1917",
                  "1917",
                  "1917",
                  "1917",
                  "1917",
                  "1917",
                  "1917",
                  "1917",
                  "1917",
                  "1917",
                  "1917",
                  "1917",
                  "1917",
                  "1917",
                  "1917",
                  "1917",
                  "1917",
                  "1917",
                  "1917",
                  "1917",
                  "1917",
                  "1917",
                  "1917",
                  "1917",
                  "1923",
                  "1923",
                  "1923",
                  "1923",
                  "1923",
                  "1923",
                  "1923",
                  "1924",
                  "1924",
                  "1924",
                  "1924",
                  "1924",
                  "1925",
                  "1925",
                  "1925",
                  "1925",
                  "1925",
                  "1925",
                  "1925",
                  "1925",
                  "1925",
                  "1928",
                  "1928",
                  "1928",
                  "1928",
                  "1928",
                  "1928",
                  "1928",
                  "1928",
                  "1928",
                  "1928",
                  "1928",
                  "1928",
                  "1928",
                  "1930",
                  "1930",
                  "1930",
                  "1930",
                  "1930",
                  "1930",
                  "1930"
                ]
              ],
              "shape": {
                "columns": 1081,
                "rows": 5
              }
            },
            "text/html": [
              "<div>\n",
              "<style scoped>\n",
              "    .dataframe tbody tr th:only-of-type {\n",
              "        vertical-align: middle;\n",
              "    }\n",
              "\n",
              "    .dataframe tbody tr th {\n",
              "        vertical-align: top;\n",
              "    }\n",
              "\n",
              "    .dataframe thead th {\n",
              "        text-align: right;\n",
              "    }\n",
              "</style>\n",
              "<table border=\"1\" class=\"dataframe\">\n",
              "  <thead>\n",
              "    <tr style=\"text-align: right;\">\n",
              "      <th></th>\n",
              "      <th>Province/State</th>\n",
              "      <th>Country/Region</th>\n",
              "      <th>Lat</th>\n",
              "      <th>Long</th>\n",
              "      <th>1/22/20</th>\n",
              "      <th>1/23/20</th>\n",
              "      <th>1/24/20</th>\n",
              "      <th>1/25/20</th>\n",
              "      <th>1/26/20</th>\n",
              "      <th>1/27/20</th>\n",
              "      <th>...</th>\n",
              "      <th>12/24/22</th>\n",
              "      <th>12/25/22</th>\n",
              "      <th>12/26/22</th>\n",
              "      <th>12/27/22</th>\n",
              "      <th>12/28/22</th>\n",
              "      <th>12/29/22</th>\n",
              "      <th>12/30/22</th>\n",
              "      <th>12/31/22</th>\n",
              "      <th>1/1/23</th>\n",
              "      <th>1/2/23</th>\n",
              "    </tr>\n",
              "  </thead>\n",
              "  <tbody>\n",
              "    <tr>\n",
              "      <th>0</th>\n",
              "      <td>NaN</td>\n",
              "      <td>Afghanistan</td>\n",
              "      <td>33.93911</td>\n",
              "      <td>67.709953</td>\n",
              "      <td>0</td>\n",
              "      <td>0</td>\n",
              "      <td>0</td>\n",
              "      <td>0</td>\n",
              "      <td>0</td>\n",
              "      <td>0</td>\n",
              "      <td>...</td>\n",
              "      <td>7845</td>\n",
              "      <td>7846</td>\n",
              "      <td>7846</td>\n",
              "      <td>7846</td>\n",
              "      <td>7846</td>\n",
              "      <td>7847</td>\n",
              "      <td>7847</td>\n",
              "      <td>7849</td>\n",
              "      <td>7849</td>\n",
              "      <td>7849</td>\n",
              "    </tr>\n",
              "    <tr>\n",
              "      <th>1</th>\n",
              "      <td>NaN</td>\n",
              "      <td>Albania</td>\n",
              "      <td>41.15330</td>\n",
              "      <td>20.168300</td>\n",
              "      <td>0</td>\n",
              "      <td>0</td>\n",
              "      <td>0</td>\n",
              "      <td>0</td>\n",
              "      <td>0</td>\n",
              "      <td>0</td>\n",
              "      <td>...</td>\n",
              "      <td>3595</td>\n",
              "      <td>3595</td>\n",
              "      <td>3595</td>\n",
              "      <td>3595</td>\n",
              "      <td>3595</td>\n",
              "      <td>3595</td>\n",
              "      <td>3595</td>\n",
              "      <td>3595</td>\n",
              "      <td>3595</td>\n",
              "      <td>3595</td>\n",
              "    </tr>\n",
              "    <tr>\n",
              "      <th>2</th>\n",
              "      <td>NaN</td>\n",
              "      <td>Algeria</td>\n",
              "      <td>28.03390</td>\n",
              "      <td>1.659600</td>\n",
              "      <td>0</td>\n",
              "      <td>0</td>\n",
              "      <td>0</td>\n",
              "      <td>0</td>\n",
              "      <td>0</td>\n",
              "      <td>0</td>\n",
              "      <td>...</td>\n",
              "      <td>6881</td>\n",
              "      <td>6881</td>\n",
              "      <td>6881</td>\n",
              "      <td>6881</td>\n",
              "      <td>6881</td>\n",
              "      <td>6881</td>\n",
              "      <td>6881</td>\n",
              "      <td>6881</td>\n",
              "      <td>6881</td>\n",
              "      <td>6881</td>\n",
              "    </tr>\n",
              "    <tr>\n",
              "      <th>3</th>\n",
              "      <td>NaN</td>\n",
              "      <td>Andorra</td>\n",
              "      <td>42.50630</td>\n",
              "      <td>1.521800</td>\n",
              "      <td>0</td>\n",
              "      <td>0</td>\n",
              "      <td>0</td>\n",
              "      <td>0</td>\n",
              "      <td>0</td>\n",
              "      <td>0</td>\n",
              "      <td>...</td>\n",
              "      <td>165</td>\n",
              "      <td>165</td>\n",
              "      <td>165</td>\n",
              "      <td>165</td>\n",
              "      <td>165</td>\n",
              "      <td>165</td>\n",
              "      <td>165</td>\n",
              "      <td>165</td>\n",
              "      <td>165</td>\n",
              "      <td>165</td>\n",
              "    </tr>\n",
              "    <tr>\n",
              "      <th>4</th>\n",
              "      <td>NaN</td>\n",
              "      <td>Angola</td>\n",
              "      <td>-11.20270</td>\n",
              "      <td>17.873900</td>\n",
              "      <td>0</td>\n",
              "      <td>0</td>\n",
              "      <td>0</td>\n",
              "      <td>0</td>\n",
              "      <td>0</td>\n",
              "      <td>0</td>\n",
              "      <td>...</td>\n",
              "      <td>1928</td>\n",
              "      <td>1928</td>\n",
              "      <td>1928</td>\n",
              "      <td>1930</td>\n",
              "      <td>1930</td>\n",
              "      <td>1930</td>\n",
              "      <td>1930</td>\n",
              "      <td>1930</td>\n",
              "      <td>1930</td>\n",
              "      <td>1930</td>\n",
              "    </tr>\n",
              "  </tbody>\n",
              "</table>\n",
              "<p>5 rows × 1081 columns</p>\n",
              "</div>"
            ],
            "text/plain": [
              "  Province/State Country/Region       Lat       Long  1/22/20  1/23/20  \\\n",
              "0            NaN    Afghanistan  33.93911  67.709953        0        0   \n",
              "1            NaN        Albania  41.15330  20.168300        0        0   \n",
              "2            NaN        Algeria  28.03390   1.659600        0        0   \n",
              "3            NaN        Andorra  42.50630   1.521800        0        0   \n",
              "4            NaN         Angola -11.20270  17.873900        0        0   \n",
              "\n",
              "   1/24/20  1/25/20  1/26/20  1/27/20  ...  12/24/22  12/25/22  12/26/22  \\\n",
              "0        0        0        0        0  ...      7845      7846      7846   \n",
              "1        0        0        0        0  ...      3595      3595      3595   \n",
              "2        0        0        0        0  ...      6881      6881      6881   \n",
              "3        0        0        0        0  ...       165       165       165   \n",
              "4        0        0        0        0  ...      1928      1928      1928   \n",
              "\n",
              "   12/27/22  12/28/22  12/29/22  12/30/22  12/31/22  1/1/23  1/2/23  \n",
              "0      7846      7846      7847      7847      7849    7849    7849  \n",
              "1      3595      3595      3595      3595      3595    3595    3595  \n",
              "2      6881      6881      6881      6881      6881    6881    6881  \n",
              "3       165       165       165       165       165     165     165  \n",
              "4      1930      1930      1930      1930      1930    1930    1930  \n",
              "\n",
              "[5 rows x 1081 columns]"
            ]
          },
          "execution_count": 21,
          "metadata": {},
          "output_type": "execute_result"
        }
      ],
      "source": [
        "deaths.head(5)"
      ]
    },
    {
      "cell_type": "code",
      "execution_count": 22,
      "metadata": {},
      "outputs": [],
      "source": [
        "deaths = deaths.melt(id_vars=['Province/State','Country/Region','Lat','Long'],var_name='date',value_name='num_deaths')\n",
        "\n",
        "confirm = confirm.melt(id_vars=['Province/State','Country/Region','Lat','Long'],var_name='date',value_name='num_cases')"
      ]
    },
    {
      "cell_type": "code",
      "execution_count": 17,
      "metadata": {},
      "outputs": [
        {
          "data": {
            "application/vnd.microsoft.datawrangler.viewer.v0+json": {
              "columns": [
                {
                  "name": "index",
                  "rawType": "int64",
                  "type": "integer"
                },
                {
                  "name": "Province/State",
                  "rawType": "object",
                  "type": "unknown"
                },
                {
                  "name": "Country/Region",
                  "rawType": "object",
                  "type": "string"
                },
                {
                  "name": "Lat",
                  "rawType": "float64",
                  "type": "float"
                },
                {
                  "name": "Long",
                  "rawType": "float64",
                  "type": "float"
                },
                {
                  "name": "date",
                  "rawType": "object",
                  "type": "string"
                },
                {
                  "name": "num_cases",
                  "rawType": "int64",
                  "type": "integer"
                },
                {
                  "name": "num_deaths",
                  "rawType": "int64",
                  "type": "integer"
                }
              ],
              "ref": "d02b3c4e-8adb-4376-9fcf-9d800b220c3b",
              "rows": [
                [
                  "0",
                  null,
                  "Afghanistan",
                  "33.93911",
                  "67.709953",
                  "1/22/20",
                  "0",
                  "0"
                ],
                [
                  "1",
                  null,
                  "Albania",
                  "41.1533",
                  "20.1683",
                  "1/22/20",
                  "0",
                  "0"
                ],
                [
                  "2",
                  null,
                  "Algeria",
                  "28.0339",
                  "1.6596",
                  "1/22/20",
                  "0",
                  "0"
                ],
                [
                  "3",
                  null,
                  "Andorra",
                  "42.5063",
                  "1.5218",
                  "1/22/20",
                  "0",
                  "0"
                ],
                [
                  "4",
                  null,
                  "Angola",
                  "-11.2027",
                  "17.8739",
                  "1/22/20",
                  "0",
                  "0"
                ],
                [
                  "5",
                  null,
                  "Antarctica",
                  "-71.9499",
                  "23.347",
                  "1/22/20",
                  "0",
                  "0"
                ],
                [
                  "6",
                  null,
                  "Antigua and Barbuda",
                  "17.0608",
                  "-61.7964",
                  "1/22/20",
                  "0",
                  "0"
                ],
                [
                  "7",
                  null,
                  "Argentina",
                  "-38.4161",
                  "-63.6167",
                  "1/22/20",
                  "0",
                  "0"
                ],
                [
                  "8",
                  null,
                  "Armenia",
                  "40.0691",
                  "45.0382",
                  "1/22/20",
                  "0",
                  "0"
                ],
                [
                  "9",
                  "Australian Capital Territory",
                  "Australia",
                  "-35.4735",
                  "149.0124",
                  "1/22/20",
                  "0",
                  "0"
                ],
                [
                  "10",
                  "New South Wales",
                  "Australia",
                  "-33.8688",
                  "151.2093",
                  "1/22/20",
                  "0",
                  "0"
                ],
                [
                  "11",
                  "Northern Territory",
                  "Australia",
                  "-12.4634",
                  "130.8456",
                  "1/22/20",
                  "0",
                  "0"
                ],
                [
                  "12",
                  "Queensland",
                  "Australia",
                  "-27.4698",
                  "153.0251",
                  "1/22/20",
                  "0",
                  "0"
                ],
                [
                  "13",
                  "South Australia",
                  "Australia",
                  "-34.9285",
                  "138.6007",
                  "1/22/20",
                  "0",
                  "0"
                ],
                [
                  "14",
                  "Tasmania",
                  "Australia",
                  "-42.8821",
                  "147.3272",
                  "1/22/20",
                  "0",
                  "0"
                ],
                [
                  "15",
                  "Victoria",
                  "Australia",
                  "-37.8136",
                  "144.9631",
                  "1/22/20",
                  "0",
                  "0"
                ],
                [
                  "16",
                  "Western Australia",
                  "Australia",
                  "-31.9505",
                  "115.8605",
                  "1/22/20",
                  "0",
                  "0"
                ],
                [
                  "17",
                  null,
                  "Austria",
                  "47.5162",
                  "14.5501",
                  "1/22/20",
                  "0",
                  "0"
                ],
                [
                  "18",
                  null,
                  "Azerbaijan",
                  "40.1431",
                  "47.5769",
                  "1/22/20",
                  "0",
                  "0"
                ],
                [
                  "19",
                  null,
                  "Bahamas",
                  "25.025885",
                  "-78.035889",
                  "1/22/20",
                  "0",
                  "0"
                ],
                [
                  "20",
                  null,
                  "Bahrain",
                  "26.0275",
                  "50.55",
                  "1/22/20",
                  "0",
                  "0"
                ],
                [
                  "21",
                  null,
                  "Bangladesh",
                  "23.685",
                  "90.3563",
                  "1/22/20",
                  "0",
                  "0"
                ],
                [
                  "22",
                  null,
                  "Barbados",
                  "13.1939",
                  "-59.5432",
                  "1/22/20",
                  "0",
                  "0"
                ],
                [
                  "23",
                  null,
                  "Belarus",
                  "53.7098",
                  "27.9534",
                  "1/22/20",
                  "0",
                  "0"
                ],
                [
                  "24",
                  null,
                  "Belgium",
                  "50.8333",
                  "4.469936",
                  "1/22/20",
                  "0",
                  "0"
                ],
                [
                  "25",
                  null,
                  "Belize",
                  "17.1899",
                  "-88.4976",
                  "1/22/20",
                  "0",
                  "0"
                ],
                [
                  "26",
                  null,
                  "Benin",
                  "9.3077",
                  "2.3158",
                  "1/22/20",
                  "0",
                  "0"
                ],
                [
                  "27",
                  null,
                  "Bhutan",
                  "27.5142",
                  "90.4336",
                  "1/22/20",
                  "0",
                  "0"
                ],
                [
                  "28",
                  null,
                  "Bolivia",
                  "-16.2902",
                  "-63.5887",
                  "1/22/20",
                  "0",
                  "0"
                ],
                [
                  "29",
                  null,
                  "Bosnia and Herzegovina",
                  "43.9159",
                  "17.6791",
                  "1/22/20",
                  "0",
                  "0"
                ],
                [
                  "30",
                  null,
                  "Botswana",
                  "-22.3285",
                  "24.6849",
                  "1/22/20",
                  "0",
                  "0"
                ],
                [
                  "31",
                  null,
                  "Brazil",
                  "-14.235",
                  "-51.9253",
                  "1/22/20",
                  "0",
                  "0"
                ],
                [
                  "32",
                  null,
                  "Brunei",
                  "4.5353",
                  "114.7277",
                  "1/22/20",
                  "0",
                  "0"
                ],
                [
                  "33",
                  null,
                  "Bulgaria",
                  "42.7339",
                  "25.4858",
                  "1/22/20",
                  "0",
                  "0"
                ],
                [
                  "34",
                  null,
                  "Burkina Faso",
                  "12.2383",
                  "-1.5616",
                  "1/22/20",
                  "0",
                  "0"
                ],
                [
                  "35",
                  null,
                  "Burma",
                  "21.9162",
                  "95.956",
                  "1/22/20",
                  "0",
                  "0"
                ],
                [
                  "36",
                  null,
                  "Burundi",
                  "-3.3731",
                  "29.9189",
                  "1/22/20",
                  "0",
                  "0"
                ],
                [
                  "37",
                  null,
                  "Cabo Verde",
                  "16.5388",
                  "-23.0418",
                  "1/22/20",
                  "0",
                  "0"
                ],
                [
                  "38",
                  null,
                  "Cambodia",
                  "11.55",
                  "104.9167",
                  "1/22/20",
                  "0",
                  "0"
                ],
                [
                  "39",
                  null,
                  "Cameroon",
                  "3.848",
                  "11.5021",
                  "1/22/20",
                  "0",
                  "0"
                ],
                [
                  "40",
                  "Alberta",
                  "Canada",
                  "53.9333",
                  "-116.5765",
                  "1/22/20",
                  "0",
                  "0"
                ],
                [
                  "41",
                  "British Columbia",
                  "Canada",
                  "53.7267",
                  "-127.6476",
                  "1/22/20",
                  "0",
                  "0"
                ],
                [
                  "42",
                  "Diamond Princess",
                  "Canada",
                  "0.0",
                  "0.0",
                  "1/22/20",
                  "0",
                  "0"
                ],
                [
                  "43",
                  "Grand Princess",
                  "Canada",
                  "0.0",
                  "0.0",
                  "1/22/20",
                  "0",
                  "0"
                ],
                [
                  "44",
                  "Manitoba",
                  "Canada",
                  "53.7609",
                  "-98.8139",
                  "1/22/20",
                  "0",
                  "0"
                ],
                [
                  "45",
                  "New Brunswick",
                  "Canada",
                  "46.5653",
                  "-66.4619",
                  "1/22/20",
                  "0",
                  "0"
                ],
                [
                  "46",
                  "Newfoundland and Labrador",
                  "Canada",
                  "53.1355",
                  "-57.6604",
                  "1/22/20",
                  "0",
                  "0"
                ],
                [
                  "47",
                  "Northwest Territories",
                  "Canada",
                  "64.8255",
                  "-124.8457",
                  "1/22/20",
                  "0",
                  "0"
                ],
                [
                  "48",
                  "Nova Scotia",
                  "Canada",
                  "44.682",
                  "-63.7443",
                  "1/22/20",
                  "0",
                  "0"
                ],
                [
                  "49",
                  "Nunavut",
                  "Canada",
                  "70.2998",
                  "-83.1076",
                  "1/22/20",
                  "0",
                  "0"
                ]
              ],
              "shape": {
                "columns": 7,
                "rows": 311253
              }
            },
            "text/html": [
              "<div>\n",
              "<style scoped>\n",
              "    .dataframe tbody tr th:only-of-type {\n",
              "        vertical-align: middle;\n",
              "    }\n",
              "\n",
              "    .dataframe tbody tr th {\n",
              "        vertical-align: top;\n",
              "    }\n",
              "\n",
              "    .dataframe thead th {\n",
              "        text-align: right;\n",
              "    }\n",
              "</style>\n",
              "<table border=\"1\" class=\"dataframe\">\n",
              "  <thead>\n",
              "    <tr style=\"text-align: right;\">\n",
              "      <th></th>\n",
              "      <th>Province/State</th>\n",
              "      <th>Country/Region</th>\n",
              "      <th>Lat</th>\n",
              "      <th>Long</th>\n",
              "      <th>date</th>\n",
              "      <th>num_cases</th>\n",
              "      <th>num_deaths</th>\n",
              "    </tr>\n",
              "  </thead>\n",
              "  <tbody>\n",
              "    <tr>\n",
              "      <th>0</th>\n",
              "      <td>NaN</td>\n",
              "      <td>Afghanistan</td>\n",
              "      <td>33.939110</td>\n",
              "      <td>67.709953</td>\n",
              "      <td>1/22/20</td>\n",
              "      <td>0</td>\n",
              "      <td>0</td>\n",
              "    </tr>\n",
              "    <tr>\n",
              "      <th>1</th>\n",
              "      <td>NaN</td>\n",
              "      <td>Albania</td>\n",
              "      <td>41.153300</td>\n",
              "      <td>20.168300</td>\n",
              "      <td>1/22/20</td>\n",
              "      <td>0</td>\n",
              "      <td>0</td>\n",
              "    </tr>\n",
              "    <tr>\n",
              "      <th>2</th>\n",
              "      <td>NaN</td>\n",
              "      <td>Algeria</td>\n",
              "      <td>28.033900</td>\n",
              "      <td>1.659600</td>\n",
              "      <td>1/22/20</td>\n",
              "      <td>0</td>\n",
              "      <td>0</td>\n",
              "    </tr>\n",
              "    <tr>\n",
              "      <th>3</th>\n",
              "      <td>NaN</td>\n",
              "      <td>Andorra</td>\n",
              "      <td>42.506300</td>\n",
              "      <td>1.521800</td>\n",
              "      <td>1/22/20</td>\n",
              "      <td>0</td>\n",
              "      <td>0</td>\n",
              "    </tr>\n",
              "    <tr>\n",
              "      <th>4</th>\n",
              "      <td>NaN</td>\n",
              "      <td>Angola</td>\n",
              "      <td>-11.202700</td>\n",
              "      <td>17.873900</td>\n",
              "      <td>1/22/20</td>\n",
              "      <td>0</td>\n",
              "      <td>0</td>\n",
              "    </tr>\n",
              "    <tr>\n",
              "      <th>...</th>\n",
              "      <td>...</td>\n",
              "      <td>...</td>\n",
              "      <td>...</td>\n",
              "      <td>...</td>\n",
              "      <td>...</td>\n",
              "      <td>...</td>\n",
              "      <td>...</td>\n",
              "    </tr>\n",
              "    <tr>\n",
              "      <th>311248</th>\n",
              "      <td>NaN</td>\n",
              "      <td>West Bank and Gaza</td>\n",
              "      <td>31.952200</td>\n",
              "      <td>35.233200</td>\n",
              "      <td>1/2/23</td>\n",
              "      <td>703228</td>\n",
              "      <td>5708</td>\n",
              "    </tr>\n",
              "    <tr>\n",
              "      <th>311249</th>\n",
              "      <td>NaN</td>\n",
              "      <td>Winter Olympics 2022</td>\n",
              "      <td>39.904200</td>\n",
              "      <td>116.407400</td>\n",
              "      <td>1/2/23</td>\n",
              "      <td>535</td>\n",
              "      <td>0</td>\n",
              "    </tr>\n",
              "    <tr>\n",
              "      <th>311250</th>\n",
              "      <td>NaN</td>\n",
              "      <td>Yemen</td>\n",
              "      <td>15.552727</td>\n",
              "      <td>48.516388</td>\n",
              "      <td>1/2/23</td>\n",
              "      <td>11945</td>\n",
              "      <td>2159</td>\n",
              "    </tr>\n",
              "    <tr>\n",
              "      <th>311251</th>\n",
              "      <td>NaN</td>\n",
              "      <td>Zambia</td>\n",
              "      <td>-13.133897</td>\n",
              "      <td>27.849332</td>\n",
              "      <td>1/2/23</td>\n",
              "      <td>334661</td>\n",
              "      <td>4024</td>\n",
              "    </tr>\n",
              "    <tr>\n",
              "      <th>311252</th>\n",
              "      <td>NaN</td>\n",
              "      <td>Zimbabwe</td>\n",
              "      <td>-19.015438</td>\n",
              "      <td>29.154857</td>\n",
              "      <td>1/2/23</td>\n",
              "      <td>259981</td>\n",
              "      <td>5637</td>\n",
              "    </tr>\n",
              "  </tbody>\n",
              "</table>\n",
              "<p>311253 rows × 7 columns</p>\n",
              "</div>"
            ],
            "text/plain": [
              "       Province/State        Country/Region        Lat        Long     date  \\\n",
              "0                 NaN           Afghanistan  33.939110   67.709953  1/22/20   \n",
              "1                 NaN               Albania  41.153300   20.168300  1/22/20   \n",
              "2                 NaN               Algeria  28.033900    1.659600  1/22/20   \n",
              "3                 NaN               Andorra  42.506300    1.521800  1/22/20   \n",
              "4                 NaN                Angola -11.202700   17.873900  1/22/20   \n",
              "...               ...                   ...        ...         ...      ...   \n",
              "311248            NaN    West Bank and Gaza  31.952200   35.233200   1/2/23   \n",
              "311249            NaN  Winter Olympics 2022  39.904200  116.407400   1/2/23   \n",
              "311250            NaN                 Yemen  15.552727   48.516388   1/2/23   \n",
              "311251            NaN                Zambia -13.133897   27.849332   1/2/23   \n",
              "311252            NaN              Zimbabwe -19.015438   29.154857   1/2/23   \n",
              "\n",
              "        num_cases  num_deaths  \n",
              "0               0           0  \n",
              "1               0           0  \n",
              "2               0           0  \n",
              "3               0           0  \n",
              "4               0           0  \n",
              "...           ...         ...  \n",
              "311248     703228        5708  \n",
              "311249        535           0  \n",
              "311250      11945        2159  \n",
              "311251     334661        4024  \n",
              "311252     259981        5637  \n",
              "\n",
              "[311253 rows x 7 columns]"
            ]
          },
          "execution_count": 17,
          "metadata": {},
          "output_type": "execute_result"
        }
      ],
      "source": [
        "final_df = confirm.merge(deaths,on=['Province/State','Country/Region','Lat','Long','date'])\n",
        "final_df"
      ]
    },
    {
      "cell_type": "code",
      "execution_count": 13,
      "metadata": {},
      "outputs": [
        {
          "data": {
            "application/vnd.microsoft.datawrangler.viewer.v0+json": {
              "columns": [
                {
                  "name": "index",
                  "rawType": "int64",
                  "type": "integer"
                },
                {
                  "name": "date",
                  "rawType": "object",
                  "type": "string"
                },
                {
                  "name": "num_cases",
                  "rawType": "int64",
                  "type": "integer"
                },
                {
                  "name": "num_deaths",
                  "rawType": "int64",
                  "type": "integer"
                }
              ],
              "ref": "01a55068-d5f5-4f4e-a9dd-65b413643d6c",
              "rows": [
                [
                  "0",
                  "1/22/20",
                  "0",
                  "0"
                ],
                [
                  "1",
                  "1/22/20",
                  "0",
                  "0"
                ],
                [
                  "2",
                  "1/22/20",
                  "0",
                  "0"
                ],
                [
                  "3",
                  "1/22/20",
                  "0",
                  "0"
                ],
                [
                  "4",
                  "1/22/20",
                  "0",
                  "0"
                ],
                [
                  "5",
                  "1/22/20",
                  "0",
                  "0"
                ],
                [
                  "6",
                  "1/22/20",
                  "0",
                  "0"
                ],
                [
                  "7",
                  "1/22/20",
                  "0",
                  "0"
                ],
                [
                  "8",
                  "1/22/20",
                  "0",
                  "0"
                ],
                [
                  "9",
                  "1/22/20",
                  "0",
                  "0"
                ],
                [
                  "10",
                  "1/22/20",
                  "0",
                  "0"
                ],
                [
                  "11",
                  "1/22/20",
                  "0",
                  "0"
                ],
                [
                  "12",
                  "1/22/20",
                  "0",
                  "0"
                ],
                [
                  "13",
                  "1/22/20",
                  "0",
                  "0"
                ],
                [
                  "14",
                  "1/22/20",
                  "0",
                  "0"
                ],
                [
                  "15",
                  "1/22/20",
                  "0",
                  "0"
                ],
                [
                  "16",
                  "1/22/20",
                  "0",
                  "0"
                ],
                [
                  "17",
                  "1/22/20",
                  "0",
                  "0"
                ],
                [
                  "18",
                  "1/22/20",
                  "0",
                  "0"
                ],
                [
                  "19",
                  "1/22/20",
                  "0",
                  "0"
                ],
                [
                  "20",
                  "1/22/20",
                  "0",
                  "0"
                ],
                [
                  "21",
                  "1/22/20",
                  "0",
                  "0"
                ],
                [
                  "22",
                  "1/22/20",
                  "0",
                  "0"
                ],
                [
                  "23",
                  "1/22/20",
                  "0",
                  "0"
                ],
                [
                  "24",
                  "1/22/20",
                  "0",
                  "0"
                ],
                [
                  "25",
                  "1/22/20",
                  "0",
                  "0"
                ],
                [
                  "26",
                  "1/22/20",
                  "0",
                  "0"
                ],
                [
                  "27",
                  "1/22/20",
                  "0",
                  "0"
                ],
                [
                  "28",
                  "1/22/20",
                  "0",
                  "0"
                ],
                [
                  "29",
                  "1/22/20",
                  "0",
                  "0"
                ],
                [
                  "30",
                  "1/22/20",
                  "0",
                  "0"
                ],
                [
                  "31",
                  "1/22/20",
                  "0",
                  "0"
                ],
                [
                  "32",
                  "1/22/20",
                  "0",
                  "0"
                ],
                [
                  "33",
                  "1/22/20",
                  "0",
                  "0"
                ],
                [
                  "34",
                  "1/22/20",
                  "0",
                  "0"
                ],
                [
                  "35",
                  "1/22/20",
                  "0",
                  "0"
                ],
                [
                  "36",
                  "1/22/20",
                  "0",
                  "0"
                ],
                [
                  "37",
                  "1/22/20",
                  "0",
                  "0"
                ],
                [
                  "38",
                  "1/22/20",
                  "0",
                  "0"
                ],
                [
                  "39",
                  "1/22/20",
                  "0",
                  "0"
                ],
                [
                  "40",
                  "1/22/20",
                  "0",
                  "0"
                ],
                [
                  "41",
                  "1/22/20",
                  "0",
                  "0"
                ],
                [
                  "42",
                  "1/22/20",
                  "0",
                  "0"
                ],
                [
                  "43",
                  "1/22/20",
                  "0",
                  "0"
                ],
                [
                  "44",
                  "1/22/20",
                  "0",
                  "0"
                ],
                [
                  "45",
                  "1/22/20",
                  "0",
                  "0"
                ],
                [
                  "46",
                  "1/22/20",
                  "0",
                  "0"
                ],
                [
                  "47",
                  "1/22/20",
                  "0",
                  "0"
                ],
                [
                  "48",
                  "1/22/20",
                  "0",
                  "0"
                ],
                [
                  "49",
                  "1/22/20",
                  "0",
                  "0"
                ]
              ],
              "shape": {
                "columns": 3,
                "rows": 311253
              }
            },
            "text/html": [
              "<div>\n",
              "<style scoped>\n",
              "    .dataframe tbody tr th:only-of-type {\n",
              "        vertical-align: middle;\n",
              "    }\n",
              "\n",
              "    .dataframe tbody tr th {\n",
              "        vertical-align: top;\n",
              "    }\n",
              "\n",
              "    .dataframe thead th {\n",
              "        text-align: right;\n",
              "    }\n",
              "</style>\n",
              "<table border=\"1\" class=\"dataframe\">\n",
              "  <thead>\n",
              "    <tr style=\"text-align: right;\">\n",
              "      <th></th>\n",
              "      <th>date</th>\n",
              "      <th>num_cases</th>\n",
              "      <th>num_deaths</th>\n",
              "    </tr>\n",
              "  </thead>\n",
              "  <tbody>\n",
              "    <tr>\n",
              "      <th>0</th>\n",
              "      <td>1/22/20</td>\n",
              "      <td>0</td>\n",
              "      <td>0</td>\n",
              "    </tr>\n",
              "    <tr>\n",
              "      <th>1</th>\n",
              "      <td>1/22/20</td>\n",
              "      <td>0</td>\n",
              "      <td>0</td>\n",
              "    </tr>\n",
              "    <tr>\n",
              "      <th>2</th>\n",
              "      <td>1/22/20</td>\n",
              "      <td>0</td>\n",
              "      <td>0</td>\n",
              "    </tr>\n",
              "    <tr>\n",
              "      <th>3</th>\n",
              "      <td>1/22/20</td>\n",
              "      <td>0</td>\n",
              "      <td>0</td>\n",
              "    </tr>\n",
              "    <tr>\n",
              "      <th>4</th>\n",
              "      <td>1/22/20</td>\n",
              "      <td>0</td>\n",
              "      <td>0</td>\n",
              "    </tr>\n",
              "    <tr>\n",
              "      <th>...</th>\n",
              "      <td>...</td>\n",
              "      <td>...</td>\n",
              "      <td>...</td>\n",
              "    </tr>\n",
              "    <tr>\n",
              "      <th>311248</th>\n",
              "      <td>1/2/23</td>\n",
              "      <td>703228</td>\n",
              "      <td>5708</td>\n",
              "    </tr>\n",
              "    <tr>\n",
              "      <th>311249</th>\n",
              "      <td>1/2/23</td>\n",
              "      <td>535</td>\n",
              "      <td>0</td>\n",
              "    </tr>\n",
              "    <tr>\n",
              "      <th>311250</th>\n",
              "      <td>1/2/23</td>\n",
              "      <td>11945</td>\n",
              "      <td>2159</td>\n",
              "    </tr>\n",
              "    <tr>\n",
              "      <th>311251</th>\n",
              "      <td>1/2/23</td>\n",
              "      <td>334661</td>\n",
              "      <td>4024</td>\n",
              "    </tr>\n",
              "    <tr>\n",
              "      <th>311252</th>\n",
              "      <td>1/2/23</td>\n",
              "      <td>259981</td>\n",
              "      <td>5637</td>\n",
              "    </tr>\n",
              "  </tbody>\n",
              "</table>\n",
              "<p>311253 rows × 3 columns</p>\n",
              "</div>"
            ],
            "text/plain": [
              "           date  num_cases  num_deaths\n",
              "0       1/22/20          0           0\n",
              "1       1/22/20          0           0\n",
              "2       1/22/20          0           0\n",
              "3       1/22/20          0           0\n",
              "4       1/22/20          0           0\n",
              "...         ...        ...         ...\n",
              "311248   1/2/23     703228        5708\n",
              "311249   1/2/23        535           0\n",
              "311250   1/2/23      11945        2159\n",
              "311251   1/2/23     334661        4024\n",
              "311252   1/2/23     259981        5637\n",
              "\n",
              "[311253 rows x 3 columns]"
            ]
          },
          "execution_count": 13,
          "metadata": {},
          "output_type": "execute_result"
        }
      ],
      "source": [
        "#final_df.set_index(['Country/Region','Province/State'],inplace=True)\n",
        "final_df = final_df[['date','num_cases','num_deaths']]\n",
        "final_df"
      ]
    },
    {
      "cell_type": "markdown",
      "metadata": {
        "id": "YT7H3papNuNv"
      },
      "source": [
        "##### `Q-3:` Show Country with Heighest death percent out of confirmed Cases."
      ]
    },
    {
      "cell_type": "code",
      "execution_count": 15,
      "metadata": {
        "id": "6mifl5RtNlTt"
      },
      "outputs": [
        {
          "data": {
            "application/vnd.microsoft.datawrangler.viewer.v0+json": {
              "columns": [
                {
                  "name": "Country/Region",
                  "rawType": "object",
                  "type": "string"
                },
                {
                  "name": "Province/State",
                  "rawType": "object",
                  "type": "unknown"
                },
                {
                  "name": "Lat",
                  "rawType": "float64",
                  "type": "float"
                },
                {
                  "name": "Long",
                  "rawType": "float64",
                  "type": "float"
                },
                {
                  "name": "date",
                  "rawType": "object",
                  "type": "string"
                },
                {
                  "name": "num_cases",
                  "rawType": "int64",
                  "type": "integer"
                },
                {
                  "name": "num_deaths",
                  "rawType": "int64",
                  "type": "integer"
                },
                {
                  "name": "death_percentage",
                  "rawType": "float64",
                  "type": "float"
                }
              ],
              "ref": "adb14c0a-3218-4a49-abfe-3401bb3b0c40",
              "rows": [
                [
                  "Korea, North",
                  "0",
                  "43446.0723",
                  "137328.37769999998",
                  "1/22/201/23/201/24/201/25/201/26/201/27/201/28/201/29/201/30/201/31/202/1/202/2/202/3/202/4/202/5/202/6/202/7/202/8/202/9/202/10/202/11/202/12/202/13/202/14/202/15/202/16/202/17/202/18/202/19/202/20/202/21/202/22/202/23/202/24/202/25/202/26/202/27/202/28/202/29/203/1/203/2/203/3/203/4/203/5/203/6/203/7/203/8/203/9/203/10/203/11/203/12/203/13/203/14/203/15/203/16/203/17/203/18/203/19/203/20/203/21/203/22/203/23/203/24/203/25/203/26/203/27/203/28/203/29/203/30/203/31/204/1/204/2/204/3/204/4/204/5/204/6/204/7/204/8/204/9/204/10/204/11/204/12/204/13/204/14/204/15/204/16/204/17/204/18/204/19/204/20/204/21/204/22/204/23/204/24/204/25/204/26/204/27/204/28/204/29/204/30/205/1/205/2/205/3/205/4/205/5/205/6/205/7/205/8/205/9/205/10/205/11/205/12/205/13/205/14/205/15/205/16/205/17/205/18/205/19/205/20/205/21/205/22/205/23/205/24/205/25/205/26/205/27/205/28/205/29/205/30/205/31/206/1/206/2/206/3/206/4/206/5/206/6/206/7/206/8/206/9/206/10/206/11/206/12/206/13/206/14/206/15/206/16/206/17/206/18/206/19/206/20/206/21/206/22/206/23/206/24/206/25/206/26/206/27/206/28/206/29/206/30/207/1/207/2/207/3/207/4/207/5/207/6/207/7/207/8/207/9/207/10/207/11/207/12/207/13/207/14/207/15/207/16/207/17/207/18/207/19/207/20/207/21/207/22/207/23/207/24/207/25/207/26/207/27/207/28/207/29/207/30/207/31/208/1/208/2/208/3/208/4/208/5/208/6/208/7/208/8/208/9/208/10/208/11/208/12/208/13/208/14/208/15/208/16/208/17/208/18/208/19/208/20/208/21/208/22/208/23/208/24/208/25/208/26/208/27/208/28/208/29/208/30/208/31/209/1/209/2/209/3/209/4/209/5/209/6/209/7/209/8/209/9/209/10/209/11/209/12/209/13/209/14/209/15/209/16/209/17/209/18/209/19/209/20/209/21/209/22/209/23/209/24/209/25/209/26/209/27/209/28/209/29/209/30/2010/1/2010/2/2010/3/2010/4/2010/5/2010/6/2010/7/2010/8/2010/9/2010/10/2010/11/2010/12/2010/13/2010/14/2010/15/2010/16/2010/17/2010/18/2010/19/2010/20/2010/21/2010/22/2010/23/2010/24/2010/25/2010/26/2010/27/2010/28/2010/29/2010/30/2010/31/2011/1/2011/2/2011/3/2011/4/2011/5/2011/6/2011/7/2011/8/2011/9/2011/10/2011/11/2011/12/2011/13/2011/14/2011/15/2011/16/2011/17/2011/18/2011/19/2011/20/2011/21/2011/22/2011/23/2011/24/2011/25/2011/26/2011/27/2011/28/2011/29/2011/30/2012/1/2012/2/2012/3/2012/4/2012/5/2012/6/2012/7/2012/8/2012/9/2012/10/2012/11/2012/12/2012/13/2012/14/2012/15/2012/16/2012/17/2012/18/2012/19/2012/20/2012/21/2012/22/2012/23/2012/24/2012/25/2012/26/2012/27/2012/28/2012/29/2012/30/2012/31/201/1/211/2/211/3/211/4/211/5/211/6/211/7/211/8/211/9/211/10/211/11/211/12/211/13/211/14/211/15/211/16/211/17/211/18/211/19/211/20/211/21/211/22/211/23/211/24/211/25/211/26/211/27/211/28/211/29/211/30/211/31/212/1/212/2/212/3/212/4/212/5/212/6/212/7/212/8/212/9/212/10/212/11/212/12/212/13/212/14/212/15/212/16/212/17/212/18/212/19/212/20/212/21/212/22/212/23/212/24/212/25/212/26/212/27/212/28/213/1/213/2/213/3/213/4/213/5/213/6/213/7/213/8/213/9/213/10/213/11/213/12/213/13/213/14/213/15/213/16/213/17/213/18/213/19/213/20/213/21/213/22/213/23/213/24/213/25/213/26/213/27/213/28/213/29/213/30/213/31/214/1/214/2/214/3/214/4/214/5/214/6/214/7/214/8/214/9/214/10/214/11/214/12/214/13/214/14/214/15/214/16/214/17/214/18/214/19/214/20/214/21/214/22/214/23/214/24/214/25/214/26/214/27/214/28/214/29/214/30/215/1/215/2/215/3/215/4/215/5/215/6/215/7/215/8/215/9/215/10/215/11/215/12/215/13/215/14/215/15/215/16/215/17/215/18/215/19/215/20/215/21/215/22/215/23/215/24/215/25/215/26/215/27/215/28/215/29/215/30/215/31/216/1/216/2/216/3/216/4/216/5/216/6/216/7/216/8/216/9/216/10/216/11/216/12/216/13/216/14/216/15/216/16/216/17/216/18/216/19/216/20/216/21/216/22/216/23/216/24/216/25/216/26/216/27/216/28/216/29/216/30/217/1/217/2/217/3/217/4/217/5/217/6/217/7/217/8/217/9/217/10/217/11/217/12/217/13/217/14/217/15/217/16/217/17/217/18/217/19/217/20/217/21/217/22/217/23/217/24/217/25/217/26/217/27/217/28/217/29/217/30/217/31/218/1/218/2/218/3/218/4/218/5/218/6/218/7/218/8/218/9/218/10/218/11/218/12/218/13/218/14/218/15/218/16/218/17/218/18/218/19/218/20/218/21/218/22/218/23/218/24/218/25/218/26/218/27/218/28/218/29/218/30/218/31/219/1/219/2/219/3/219/4/219/5/219/6/219/7/219/8/219/9/219/10/219/11/219/12/219/13/219/14/219/15/219/16/219/17/219/18/219/19/219/20/219/21/219/22/219/23/219/24/219/25/219/26/219/27/219/28/219/29/219/30/2110/1/2110/2/2110/3/2110/4/2110/5/2110/6/2110/7/2110/8/2110/9/2110/10/2110/11/2110/12/2110/13/2110/14/2110/15/2110/16/2110/17/2110/18/2110/19/2110/20/2110/21/2110/22/2110/23/2110/24/2110/25/2110/26/2110/27/2110/28/2110/29/2110/30/2110/31/2111/1/2111/2/2111/3/2111/4/2111/5/2111/6/2111/7/2111/8/2111/9/2111/10/2111/11/2111/12/2111/13/2111/14/2111/15/2111/16/2111/17/2111/18/2111/19/2111/20/2111/21/2111/22/2111/23/2111/24/2111/25/2111/26/2111/27/2111/28/2111/29/2111/30/2112/1/2112/2/2112/3/2112/4/2112/5/2112/6/2112/7/2112/8/2112/9/2112/10/2112/11/2112/12/2112/13/2112/14/2112/15/2112/16/2112/17/2112/18/2112/19/2112/20/2112/21/2112/22/2112/23/2112/24/2112/25/2112/26/2112/27/2112/28/2112/29/2112/30/2112/31/211/1/221/2/221/3/221/4/221/5/221/6/221/7/221/8/221/9/221/10/221/11/221/12/221/13/221/14/221/15/221/16/221/17/221/18/221/19/221/20/221/21/221/22/221/23/221/24/221/25/221/26/221/27/221/28/221/29/221/30/221/31/222/1/222/2/222/3/222/4/222/5/222/6/222/7/222/8/222/9/222/10/222/11/222/12/222/13/222/14/222/15/222/16/222/17/222/18/222/19/222/20/222/21/222/22/222/23/222/24/222/25/222/26/222/27/222/28/223/1/223/2/223/3/223/4/223/5/223/6/223/7/223/8/223/9/223/10/223/11/223/12/223/13/223/14/223/15/223/16/223/17/223/18/223/19/223/20/223/21/223/22/223/23/223/24/223/25/223/26/223/27/223/28/223/29/223/30/223/31/224/1/224/2/224/3/224/4/224/5/224/6/224/7/224/8/224/9/224/10/224/11/224/12/224/13/224/14/224/15/224/16/224/17/224/18/224/19/224/20/224/21/224/22/224/23/224/24/224/25/224/26/224/27/224/28/224/29/224/30/225/1/225/2/225/3/225/4/225/5/225/6/225/7/225/8/225/9/225/10/225/11/225/12/225/13/225/14/225/15/225/16/225/17/225/18/225/19/225/20/225/21/225/22/225/23/225/24/225/25/225/26/225/27/225/28/225/29/225/30/225/31/226/1/226/2/226/3/226/4/226/5/226/6/226/7/226/8/226/9/226/10/226/11/226/12/226/13/226/14/226/15/226/16/226/17/226/18/226/19/226/20/226/21/226/22/226/23/226/24/226/25/226/26/226/27/226/28/226/29/226/30/227/1/227/2/227/3/227/4/227/5/227/6/227/7/227/8/227/9/227/10/227/11/227/12/227/13/227/14/227/15/227/16/227/17/227/18/227/19/227/20/227/21/227/22/227/23/227/24/227/25/227/26/227/27/227/28/227/29/227/30/227/31/228/1/228/2/228/3/228/4/228/5/228/6/228/7/228/8/228/9/228/10/228/11/228/12/228/13/228/14/228/15/228/16/228/17/228/18/228/19/228/20/228/21/228/22/228/23/228/24/228/25/228/26/228/27/228/28/228/29/228/30/228/31/229/1/229/2/229/3/229/4/229/5/229/6/229/7/229/8/229/9/229/10/229/11/229/12/229/13/229/14/229/15/229/16/229/17/229/18/229/19/229/20/229/21/229/22/229/23/229/24/229/25/229/26/229/27/229/28/229/29/229/30/2210/1/2210/2/2210/3/2210/4/2210/5/2210/6/2210/7/2210/8/2210/9/2210/10/2210/11/2210/12/2210/13/2210/14/2210/15/2210/16/2210/17/2210/18/2210/19/2210/20/2210/21/2210/22/2210/23/2210/24/2210/25/2210/26/2210/27/2210/28/2210/29/2210/30/2210/31/2211/1/2211/2/2211/3/2211/4/2211/5/2211/6/2211/7/2211/8/2211/9/2211/10/2211/11/2211/12/2211/13/2211/14/2211/15/2211/16/2211/17/2211/18/2211/19/2211/20/2211/21/2211/22/2211/23/2211/24/2211/25/2211/26/2211/27/2211/28/2211/29/2211/30/2212/1/2212/2/2212/3/2212/4/2212/5/2212/6/2212/7/2212/8/2212/9/2212/10/2212/11/2212/12/2212/13/2212/14/2212/15/2212/16/2212/17/2212/18/2212/19/2212/20/2212/21/2212/22/2212/23/2212/24/2212/25/2212/26/2212/27/2212/28/2212/29/2212/30/2212/31/221/1/231/2/23",
                  "234",
                  "1404",
                  "600.0"
                ],
                [
                  "MS Zaandam",
                  "0",
                  "0.0",
                  "0.0",
                  "1/22/201/23/201/24/201/25/201/26/201/27/201/28/201/29/201/30/201/31/202/1/202/2/202/3/202/4/202/5/202/6/202/7/202/8/202/9/202/10/202/11/202/12/202/13/202/14/202/15/202/16/202/17/202/18/202/19/202/20/202/21/202/22/202/23/202/24/202/25/202/26/202/27/202/28/202/29/203/1/203/2/203/3/203/4/203/5/203/6/203/7/203/8/203/9/203/10/203/11/203/12/203/13/203/14/203/15/203/16/203/17/203/18/203/19/203/20/203/21/203/22/203/23/203/24/203/25/203/26/203/27/203/28/203/29/203/30/203/31/204/1/204/2/204/3/204/4/204/5/204/6/204/7/204/8/204/9/204/10/204/11/204/12/204/13/204/14/204/15/204/16/204/17/204/18/204/19/204/20/204/21/204/22/204/23/204/24/204/25/204/26/204/27/204/28/204/29/204/30/205/1/205/2/205/3/205/4/205/5/205/6/205/7/205/8/205/9/205/10/205/11/205/12/205/13/205/14/205/15/205/16/205/17/205/18/205/19/205/20/205/21/205/22/205/23/205/24/205/25/205/26/205/27/205/28/205/29/205/30/205/31/206/1/206/2/206/3/206/4/206/5/206/6/206/7/206/8/206/9/206/10/206/11/206/12/206/13/206/14/206/15/206/16/206/17/206/18/206/19/206/20/206/21/206/22/206/23/206/24/206/25/206/26/206/27/206/28/206/29/206/30/207/1/207/2/207/3/207/4/207/5/207/6/207/7/207/8/207/9/207/10/207/11/207/12/207/13/207/14/207/15/207/16/207/17/207/18/207/19/207/20/207/21/207/22/207/23/207/24/207/25/207/26/207/27/207/28/207/29/207/30/207/31/208/1/208/2/208/3/208/4/208/5/208/6/208/7/208/8/208/9/208/10/208/11/208/12/208/13/208/14/208/15/208/16/208/17/208/18/208/19/208/20/208/21/208/22/208/23/208/24/208/25/208/26/208/27/208/28/208/29/208/30/208/31/209/1/209/2/209/3/209/4/209/5/209/6/209/7/209/8/209/9/209/10/209/11/209/12/209/13/209/14/209/15/209/16/209/17/209/18/209/19/209/20/209/21/209/22/209/23/209/24/209/25/209/26/209/27/209/28/209/29/209/30/2010/1/2010/2/2010/3/2010/4/2010/5/2010/6/2010/7/2010/8/2010/9/2010/10/2010/11/2010/12/2010/13/2010/14/2010/15/2010/16/2010/17/2010/18/2010/19/2010/20/2010/21/2010/22/2010/23/2010/24/2010/25/2010/26/2010/27/2010/28/2010/29/2010/30/2010/31/2011/1/2011/2/2011/3/2011/4/2011/5/2011/6/2011/7/2011/8/2011/9/2011/10/2011/11/2011/12/2011/13/2011/14/2011/15/2011/16/2011/17/2011/18/2011/19/2011/20/2011/21/2011/22/2011/23/2011/24/2011/25/2011/26/2011/27/2011/28/2011/29/2011/30/2012/1/2012/2/2012/3/2012/4/2012/5/2012/6/2012/7/2012/8/2012/9/2012/10/2012/11/2012/12/2012/13/2012/14/2012/15/2012/16/2012/17/2012/18/2012/19/2012/20/2012/21/2012/22/2012/23/2012/24/2012/25/2012/26/2012/27/2012/28/2012/29/2012/30/2012/31/201/1/211/2/211/3/211/4/211/5/211/6/211/7/211/8/211/9/211/10/211/11/211/12/211/13/211/14/211/15/211/16/211/17/211/18/211/19/211/20/211/21/211/22/211/23/211/24/211/25/211/26/211/27/211/28/211/29/211/30/211/31/212/1/212/2/212/3/212/4/212/5/212/6/212/7/212/8/212/9/212/10/212/11/212/12/212/13/212/14/212/15/212/16/212/17/212/18/212/19/212/20/212/21/212/22/212/23/212/24/212/25/212/26/212/27/212/28/213/1/213/2/213/3/213/4/213/5/213/6/213/7/213/8/213/9/213/10/213/11/213/12/213/13/213/14/213/15/213/16/213/17/213/18/213/19/213/20/213/21/213/22/213/23/213/24/213/25/213/26/213/27/213/28/213/29/213/30/213/31/214/1/214/2/214/3/214/4/214/5/214/6/214/7/214/8/214/9/214/10/214/11/214/12/214/13/214/14/214/15/214/16/214/17/214/18/214/19/214/20/214/21/214/22/214/23/214/24/214/25/214/26/214/27/214/28/214/29/214/30/215/1/215/2/215/3/215/4/215/5/215/6/215/7/215/8/215/9/215/10/215/11/215/12/215/13/215/14/215/15/215/16/215/17/215/18/215/19/215/20/215/21/215/22/215/23/215/24/215/25/215/26/215/27/215/28/215/29/215/30/215/31/216/1/216/2/216/3/216/4/216/5/216/6/216/7/216/8/216/9/216/10/216/11/216/12/216/13/216/14/216/15/216/16/216/17/216/18/216/19/216/20/216/21/216/22/216/23/216/24/216/25/216/26/216/27/216/28/216/29/216/30/217/1/217/2/217/3/217/4/217/5/217/6/217/7/217/8/217/9/217/10/217/11/217/12/217/13/217/14/217/15/217/16/217/17/217/18/217/19/217/20/217/21/217/22/217/23/217/24/217/25/217/26/217/27/217/28/217/29/217/30/217/31/218/1/218/2/218/3/218/4/218/5/218/6/218/7/218/8/218/9/218/10/218/11/218/12/218/13/218/14/218/15/218/16/218/17/218/18/218/19/218/20/218/21/218/22/218/23/218/24/218/25/218/26/218/27/218/28/218/29/218/30/218/31/219/1/219/2/219/3/219/4/219/5/219/6/219/7/219/8/219/9/219/10/219/11/219/12/219/13/219/14/219/15/219/16/219/17/219/18/219/19/219/20/219/21/219/22/219/23/219/24/219/25/219/26/219/27/219/28/219/29/219/30/2110/1/2110/2/2110/3/2110/4/2110/5/2110/6/2110/7/2110/8/2110/9/2110/10/2110/11/2110/12/2110/13/2110/14/2110/15/2110/16/2110/17/2110/18/2110/19/2110/20/2110/21/2110/22/2110/23/2110/24/2110/25/2110/26/2110/27/2110/28/2110/29/2110/30/2110/31/2111/1/2111/2/2111/3/2111/4/2111/5/2111/6/2111/7/2111/8/2111/9/2111/10/2111/11/2111/12/2111/13/2111/14/2111/15/2111/16/2111/17/2111/18/2111/19/2111/20/2111/21/2111/22/2111/23/2111/24/2111/25/2111/26/2111/27/2111/28/2111/29/2111/30/2112/1/2112/2/2112/3/2112/4/2112/5/2112/6/2112/7/2112/8/2112/9/2112/10/2112/11/2112/12/2112/13/2112/14/2112/15/2112/16/2112/17/2112/18/2112/19/2112/20/2112/21/2112/22/2112/23/2112/24/2112/25/2112/26/2112/27/2112/28/2112/29/2112/30/2112/31/211/1/221/2/221/3/221/4/221/5/221/6/221/7/221/8/221/9/221/10/221/11/221/12/221/13/221/14/221/15/221/16/221/17/221/18/221/19/221/20/221/21/221/22/221/23/221/24/221/25/221/26/221/27/221/28/221/29/221/30/221/31/222/1/222/2/222/3/222/4/222/5/222/6/222/7/222/8/222/9/222/10/222/11/222/12/222/13/222/14/222/15/222/16/222/17/222/18/222/19/222/20/222/21/222/22/222/23/222/24/222/25/222/26/222/27/222/28/223/1/223/2/223/3/223/4/223/5/223/6/223/7/223/8/223/9/223/10/223/11/223/12/223/13/223/14/223/15/223/16/223/17/223/18/223/19/223/20/223/21/223/22/223/23/223/24/223/25/223/26/223/27/223/28/223/29/223/30/223/31/224/1/224/2/224/3/224/4/224/5/224/6/224/7/224/8/224/9/224/10/224/11/224/12/224/13/224/14/224/15/224/16/224/17/224/18/224/19/224/20/224/21/224/22/224/23/224/24/224/25/224/26/224/27/224/28/224/29/224/30/225/1/225/2/225/3/225/4/225/5/225/6/225/7/225/8/225/9/225/10/225/11/225/12/225/13/225/14/225/15/225/16/225/17/225/18/225/19/225/20/225/21/225/22/225/23/225/24/225/25/225/26/225/27/225/28/225/29/225/30/225/31/226/1/226/2/226/3/226/4/226/5/226/6/226/7/226/8/226/9/226/10/226/11/226/12/226/13/226/14/226/15/226/16/226/17/226/18/226/19/226/20/226/21/226/22/226/23/226/24/226/25/226/26/226/27/226/28/226/29/226/30/227/1/227/2/227/3/227/4/227/5/227/6/227/7/227/8/227/9/227/10/227/11/227/12/227/13/227/14/227/15/227/16/227/17/227/18/227/19/227/20/227/21/227/22/227/23/227/24/227/25/227/26/227/27/227/28/227/29/227/30/227/31/228/1/228/2/228/3/228/4/228/5/228/6/228/7/228/8/228/9/228/10/228/11/228/12/228/13/228/14/228/15/228/16/228/17/228/18/228/19/228/20/228/21/228/22/228/23/228/24/228/25/228/26/228/27/228/28/228/29/228/30/228/31/229/1/229/2/229/3/229/4/229/5/229/6/229/7/229/8/229/9/229/10/229/11/229/12/229/13/229/14/229/15/229/16/229/17/229/18/229/19/229/20/229/21/229/22/229/23/229/24/229/25/229/26/229/27/229/28/229/29/229/30/2210/1/2210/2/2210/3/2210/4/2210/5/2210/6/2210/7/2210/8/2210/9/2210/10/2210/11/2210/12/2210/13/2210/14/2210/15/2210/16/2210/17/2210/18/2210/19/2210/20/2210/21/2210/22/2210/23/2210/24/2210/25/2210/26/2210/27/2210/28/2210/29/2210/30/2210/31/2211/1/2211/2/2211/3/2211/4/2211/5/2211/6/2211/7/2211/8/2211/9/2211/10/2211/11/2211/12/2211/13/2211/14/2211/15/2211/16/2211/17/2211/18/2211/19/2211/20/2211/21/2211/22/2211/23/2211/24/2211/25/2211/26/2211/27/2211/28/2211/29/2211/30/2212/1/2212/2/2212/3/2212/4/2212/5/2212/6/2212/7/2212/8/2212/9/2212/10/2212/11/2212/12/2212/13/2212/14/2212/15/2212/16/2212/17/2212/18/2212/19/2212/20/2212/21/2212/22/2212/23/2212/24/2212/25/2212/26/2212/27/2212/28/2212/29/2212/30/2212/31/221/1/231/2/23",
                  "9071",
                  "2014",
                  "22.20262374600375"
                ],
                [
                  "Yemen",
                  "0",
                  "16750.286979",
                  "52252.149875999996",
                  "1/22/201/23/201/24/201/25/201/26/201/27/201/28/201/29/201/30/201/31/202/1/202/2/202/3/202/4/202/5/202/6/202/7/202/8/202/9/202/10/202/11/202/12/202/13/202/14/202/15/202/16/202/17/202/18/202/19/202/20/202/21/202/22/202/23/202/24/202/25/202/26/202/27/202/28/202/29/203/1/203/2/203/3/203/4/203/5/203/6/203/7/203/8/203/9/203/10/203/11/203/12/203/13/203/14/203/15/203/16/203/17/203/18/203/19/203/20/203/21/203/22/203/23/203/24/203/25/203/26/203/27/203/28/203/29/203/30/203/31/204/1/204/2/204/3/204/4/204/5/204/6/204/7/204/8/204/9/204/10/204/11/204/12/204/13/204/14/204/15/204/16/204/17/204/18/204/19/204/20/204/21/204/22/204/23/204/24/204/25/204/26/204/27/204/28/204/29/204/30/205/1/205/2/205/3/205/4/205/5/205/6/205/7/205/8/205/9/205/10/205/11/205/12/205/13/205/14/205/15/205/16/205/17/205/18/205/19/205/20/205/21/205/22/205/23/205/24/205/25/205/26/205/27/205/28/205/29/205/30/205/31/206/1/206/2/206/3/206/4/206/5/206/6/206/7/206/8/206/9/206/10/206/11/206/12/206/13/206/14/206/15/206/16/206/17/206/18/206/19/206/20/206/21/206/22/206/23/206/24/206/25/206/26/206/27/206/28/206/29/206/30/207/1/207/2/207/3/207/4/207/5/207/6/207/7/207/8/207/9/207/10/207/11/207/12/207/13/207/14/207/15/207/16/207/17/207/18/207/19/207/20/207/21/207/22/207/23/207/24/207/25/207/26/207/27/207/28/207/29/207/30/207/31/208/1/208/2/208/3/208/4/208/5/208/6/208/7/208/8/208/9/208/10/208/11/208/12/208/13/208/14/208/15/208/16/208/17/208/18/208/19/208/20/208/21/208/22/208/23/208/24/208/25/208/26/208/27/208/28/208/29/208/30/208/31/209/1/209/2/209/3/209/4/209/5/209/6/209/7/209/8/209/9/209/10/209/11/209/12/209/13/209/14/209/15/209/16/209/17/209/18/209/19/209/20/209/21/209/22/209/23/209/24/209/25/209/26/209/27/209/28/209/29/209/30/2010/1/2010/2/2010/3/2010/4/2010/5/2010/6/2010/7/2010/8/2010/9/2010/10/2010/11/2010/12/2010/13/2010/14/2010/15/2010/16/2010/17/2010/18/2010/19/2010/20/2010/21/2010/22/2010/23/2010/24/2010/25/2010/26/2010/27/2010/28/2010/29/2010/30/2010/31/2011/1/2011/2/2011/3/2011/4/2011/5/2011/6/2011/7/2011/8/2011/9/2011/10/2011/11/2011/12/2011/13/2011/14/2011/15/2011/16/2011/17/2011/18/2011/19/2011/20/2011/21/2011/22/2011/23/2011/24/2011/25/2011/26/2011/27/2011/28/2011/29/2011/30/2012/1/2012/2/2012/3/2012/4/2012/5/2012/6/2012/7/2012/8/2012/9/2012/10/2012/11/2012/12/2012/13/2012/14/2012/15/2012/16/2012/17/2012/18/2012/19/2012/20/2012/21/2012/22/2012/23/2012/24/2012/25/2012/26/2012/27/2012/28/2012/29/2012/30/2012/31/201/1/211/2/211/3/211/4/211/5/211/6/211/7/211/8/211/9/211/10/211/11/211/12/211/13/211/14/211/15/211/16/211/17/211/18/211/19/211/20/211/21/211/22/211/23/211/24/211/25/211/26/211/27/211/28/211/29/211/30/211/31/212/1/212/2/212/3/212/4/212/5/212/6/212/7/212/8/212/9/212/10/212/11/212/12/212/13/212/14/212/15/212/16/212/17/212/18/212/19/212/20/212/21/212/22/212/23/212/24/212/25/212/26/212/27/212/28/213/1/213/2/213/3/213/4/213/5/213/6/213/7/213/8/213/9/213/10/213/11/213/12/213/13/213/14/213/15/213/16/213/17/213/18/213/19/213/20/213/21/213/22/213/23/213/24/213/25/213/26/213/27/213/28/213/29/213/30/213/31/214/1/214/2/214/3/214/4/214/5/214/6/214/7/214/8/214/9/214/10/214/11/214/12/214/13/214/14/214/15/214/16/214/17/214/18/214/19/214/20/214/21/214/22/214/23/214/24/214/25/214/26/214/27/214/28/214/29/214/30/215/1/215/2/215/3/215/4/215/5/215/6/215/7/215/8/215/9/215/10/215/11/215/12/215/13/215/14/215/15/215/16/215/17/215/18/215/19/215/20/215/21/215/22/215/23/215/24/215/25/215/26/215/27/215/28/215/29/215/30/215/31/216/1/216/2/216/3/216/4/216/5/216/6/216/7/216/8/216/9/216/10/216/11/216/12/216/13/216/14/216/15/216/16/216/17/216/18/216/19/216/20/216/21/216/22/216/23/216/24/216/25/216/26/216/27/216/28/216/29/216/30/217/1/217/2/217/3/217/4/217/5/217/6/217/7/217/8/217/9/217/10/217/11/217/12/217/13/217/14/217/15/217/16/217/17/217/18/217/19/217/20/217/21/217/22/217/23/217/24/217/25/217/26/217/27/217/28/217/29/217/30/217/31/218/1/218/2/218/3/218/4/218/5/218/6/218/7/218/8/218/9/218/10/218/11/218/12/218/13/218/14/218/15/218/16/218/17/218/18/218/19/218/20/218/21/218/22/218/23/218/24/218/25/218/26/218/27/218/28/218/29/218/30/218/31/219/1/219/2/219/3/219/4/219/5/219/6/219/7/219/8/219/9/219/10/219/11/219/12/219/13/219/14/219/15/219/16/219/17/219/18/219/19/219/20/219/21/219/22/219/23/219/24/219/25/219/26/219/27/219/28/219/29/219/30/2110/1/2110/2/2110/3/2110/4/2110/5/2110/6/2110/7/2110/8/2110/9/2110/10/2110/11/2110/12/2110/13/2110/14/2110/15/2110/16/2110/17/2110/18/2110/19/2110/20/2110/21/2110/22/2110/23/2110/24/2110/25/2110/26/2110/27/2110/28/2110/29/2110/30/2110/31/2111/1/2111/2/2111/3/2111/4/2111/5/2111/6/2111/7/2111/8/2111/9/2111/10/2111/11/2111/12/2111/13/2111/14/2111/15/2111/16/2111/17/2111/18/2111/19/2111/20/2111/21/2111/22/2111/23/2111/24/2111/25/2111/26/2111/27/2111/28/2111/29/2111/30/2112/1/2112/2/2112/3/2112/4/2112/5/2112/6/2112/7/2112/8/2112/9/2112/10/2112/11/2112/12/2112/13/2112/14/2112/15/2112/16/2112/17/2112/18/2112/19/2112/20/2112/21/2112/22/2112/23/2112/24/2112/25/2112/26/2112/27/2112/28/2112/29/2112/30/2112/31/211/1/221/2/221/3/221/4/221/5/221/6/221/7/221/8/221/9/221/10/221/11/221/12/221/13/221/14/221/15/221/16/221/17/221/18/221/19/221/20/221/21/221/22/221/23/221/24/221/25/221/26/221/27/221/28/221/29/221/30/221/31/222/1/222/2/222/3/222/4/222/5/222/6/222/7/222/8/222/9/222/10/222/11/222/12/222/13/222/14/222/15/222/16/222/17/222/18/222/19/222/20/222/21/222/22/222/23/222/24/222/25/222/26/222/27/222/28/223/1/223/2/223/3/223/4/223/5/223/6/223/7/223/8/223/9/223/10/223/11/223/12/223/13/223/14/223/15/223/16/223/17/223/18/223/19/223/20/223/21/223/22/223/23/223/24/223/25/223/26/223/27/223/28/223/29/223/30/223/31/224/1/224/2/224/3/224/4/224/5/224/6/224/7/224/8/224/9/224/10/224/11/224/12/224/13/224/14/224/15/224/16/224/17/224/18/224/19/224/20/224/21/224/22/224/23/224/24/224/25/224/26/224/27/224/28/224/29/224/30/225/1/225/2/225/3/225/4/225/5/225/6/225/7/225/8/225/9/225/10/225/11/225/12/225/13/225/14/225/15/225/16/225/17/225/18/225/19/225/20/225/21/225/22/225/23/225/24/225/25/225/26/225/27/225/28/225/29/225/30/225/31/226/1/226/2/226/3/226/4/226/5/226/6/226/7/226/8/226/9/226/10/226/11/226/12/226/13/226/14/226/15/226/16/226/17/226/18/226/19/226/20/226/21/226/22/226/23/226/24/226/25/226/26/226/27/226/28/226/29/226/30/227/1/227/2/227/3/227/4/227/5/227/6/227/7/227/8/227/9/227/10/227/11/227/12/227/13/227/14/227/15/227/16/227/17/227/18/227/19/227/20/227/21/227/22/227/23/227/24/227/25/227/26/227/27/227/28/227/29/227/30/227/31/228/1/228/2/228/3/228/4/228/5/228/6/228/7/228/8/228/9/228/10/228/11/228/12/228/13/228/14/228/15/228/16/228/17/228/18/228/19/228/20/228/21/228/22/228/23/228/24/228/25/228/26/228/27/228/28/228/29/228/30/228/31/229/1/229/2/229/3/229/4/229/5/229/6/229/7/229/8/229/9/229/10/229/11/229/12/229/13/229/14/229/15/229/16/229/17/229/18/229/19/229/20/229/21/229/22/229/23/229/24/229/25/229/26/229/27/229/28/229/29/229/30/2210/1/2210/2/2210/3/2210/4/2210/5/2210/6/2210/7/2210/8/2210/9/2210/10/2210/11/2210/12/2210/13/2210/14/2210/15/2210/16/2210/17/2210/18/2210/19/2210/20/2210/21/2210/22/2210/23/2210/24/2210/25/2210/26/2210/27/2210/28/2210/29/2210/30/2210/31/2211/1/2211/2/2211/3/2211/4/2211/5/2211/6/2211/7/2211/8/2211/9/2211/10/2211/11/2211/12/2211/13/2211/14/2211/15/2211/16/2211/17/2211/18/2211/19/2211/20/2211/21/2211/22/2211/23/2211/24/2211/25/2211/26/2211/27/2211/28/2211/29/2211/30/2212/1/2212/2/2212/3/2212/4/2212/5/2212/6/2212/7/2212/8/2212/9/2212/10/2212/11/2212/12/2212/13/2212/14/2212/15/2212/16/2212/17/2212/18/2212/19/2212/20/2212/21/2212/22/2212/23/2212/24/2212/25/2212/26/2212/27/2212/28/2212/29/2212/30/2212/31/221/1/231/2/23",
                  "7091065",
                  "1372952",
                  "19.36171788017738"
                ],
                [
                  "Sudan",
                  "0",
                  "13853.2356",
                  "32544.3552",
                  "1/22/201/23/201/24/201/25/201/26/201/27/201/28/201/29/201/30/201/31/202/1/202/2/202/3/202/4/202/5/202/6/202/7/202/8/202/9/202/10/202/11/202/12/202/13/202/14/202/15/202/16/202/17/202/18/202/19/202/20/202/21/202/22/202/23/202/24/202/25/202/26/202/27/202/28/202/29/203/1/203/2/203/3/203/4/203/5/203/6/203/7/203/8/203/9/203/10/203/11/203/12/203/13/203/14/203/15/203/16/203/17/203/18/203/19/203/20/203/21/203/22/203/23/203/24/203/25/203/26/203/27/203/28/203/29/203/30/203/31/204/1/204/2/204/3/204/4/204/5/204/6/204/7/204/8/204/9/204/10/204/11/204/12/204/13/204/14/204/15/204/16/204/17/204/18/204/19/204/20/204/21/204/22/204/23/204/24/204/25/204/26/204/27/204/28/204/29/204/30/205/1/205/2/205/3/205/4/205/5/205/6/205/7/205/8/205/9/205/10/205/11/205/12/205/13/205/14/205/15/205/16/205/17/205/18/205/19/205/20/205/21/205/22/205/23/205/24/205/25/205/26/205/27/205/28/205/29/205/30/205/31/206/1/206/2/206/3/206/4/206/5/206/6/206/7/206/8/206/9/206/10/206/11/206/12/206/13/206/14/206/15/206/16/206/17/206/18/206/19/206/20/206/21/206/22/206/23/206/24/206/25/206/26/206/27/206/28/206/29/206/30/207/1/207/2/207/3/207/4/207/5/207/6/207/7/207/8/207/9/207/10/207/11/207/12/207/13/207/14/207/15/207/16/207/17/207/18/207/19/207/20/207/21/207/22/207/23/207/24/207/25/207/26/207/27/207/28/207/29/207/30/207/31/208/1/208/2/208/3/208/4/208/5/208/6/208/7/208/8/208/9/208/10/208/11/208/12/208/13/208/14/208/15/208/16/208/17/208/18/208/19/208/20/208/21/208/22/208/23/208/24/208/25/208/26/208/27/208/28/208/29/208/30/208/31/209/1/209/2/209/3/209/4/209/5/209/6/209/7/209/8/209/9/209/10/209/11/209/12/209/13/209/14/209/15/209/16/209/17/209/18/209/19/209/20/209/21/209/22/209/23/209/24/209/25/209/26/209/27/209/28/209/29/209/30/2010/1/2010/2/2010/3/2010/4/2010/5/2010/6/2010/7/2010/8/2010/9/2010/10/2010/11/2010/12/2010/13/2010/14/2010/15/2010/16/2010/17/2010/18/2010/19/2010/20/2010/21/2010/22/2010/23/2010/24/2010/25/2010/26/2010/27/2010/28/2010/29/2010/30/2010/31/2011/1/2011/2/2011/3/2011/4/2011/5/2011/6/2011/7/2011/8/2011/9/2011/10/2011/11/2011/12/2011/13/2011/14/2011/15/2011/16/2011/17/2011/18/2011/19/2011/20/2011/21/2011/22/2011/23/2011/24/2011/25/2011/26/2011/27/2011/28/2011/29/2011/30/2012/1/2012/2/2012/3/2012/4/2012/5/2012/6/2012/7/2012/8/2012/9/2012/10/2012/11/2012/12/2012/13/2012/14/2012/15/2012/16/2012/17/2012/18/2012/19/2012/20/2012/21/2012/22/2012/23/2012/24/2012/25/2012/26/2012/27/2012/28/2012/29/2012/30/2012/31/201/1/211/2/211/3/211/4/211/5/211/6/211/7/211/8/211/9/211/10/211/11/211/12/211/13/211/14/211/15/211/16/211/17/211/18/211/19/211/20/211/21/211/22/211/23/211/24/211/25/211/26/211/27/211/28/211/29/211/30/211/31/212/1/212/2/212/3/212/4/212/5/212/6/212/7/212/8/212/9/212/10/212/11/212/12/212/13/212/14/212/15/212/16/212/17/212/18/212/19/212/20/212/21/212/22/212/23/212/24/212/25/212/26/212/27/212/28/213/1/213/2/213/3/213/4/213/5/213/6/213/7/213/8/213/9/213/10/213/11/213/12/213/13/213/14/213/15/213/16/213/17/213/18/213/19/213/20/213/21/213/22/213/23/213/24/213/25/213/26/213/27/213/28/213/29/213/30/213/31/214/1/214/2/214/3/214/4/214/5/214/6/214/7/214/8/214/9/214/10/214/11/214/12/214/13/214/14/214/15/214/16/214/17/214/18/214/19/214/20/214/21/214/22/214/23/214/24/214/25/214/26/214/27/214/28/214/29/214/30/215/1/215/2/215/3/215/4/215/5/215/6/215/7/215/8/215/9/215/10/215/11/215/12/215/13/215/14/215/15/215/16/215/17/215/18/215/19/215/20/215/21/215/22/215/23/215/24/215/25/215/26/215/27/215/28/215/29/215/30/215/31/216/1/216/2/216/3/216/4/216/5/216/6/216/7/216/8/216/9/216/10/216/11/216/12/216/13/216/14/216/15/216/16/216/17/216/18/216/19/216/20/216/21/216/22/216/23/216/24/216/25/216/26/216/27/216/28/216/29/216/30/217/1/217/2/217/3/217/4/217/5/217/6/217/7/217/8/217/9/217/10/217/11/217/12/217/13/217/14/217/15/217/16/217/17/217/18/217/19/217/20/217/21/217/22/217/23/217/24/217/25/217/26/217/27/217/28/217/29/217/30/217/31/218/1/218/2/218/3/218/4/218/5/218/6/218/7/218/8/218/9/218/10/218/11/218/12/218/13/218/14/218/15/218/16/218/17/218/18/218/19/218/20/218/21/218/22/218/23/218/24/218/25/218/26/218/27/218/28/218/29/218/30/218/31/219/1/219/2/219/3/219/4/219/5/219/6/219/7/219/8/219/9/219/10/219/11/219/12/219/13/219/14/219/15/219/16/219/17/219/18/219/19/219/20/219/21/219/22/219/23/219/24/219/25/219/26/219/27/219/28/219/29/219/30/2110/1/2110/2/2110/3/2110/4/2110/5/2110/6/2110/7/2110/8/2110/9/2110/10/2110/11/2110/12/2110/13/2110/14/2110/15/2110/16/2110/17/2110/18/2110/19/2110/20/2110/21/2110/22/2110/23/2110/24/2110/25/2110/26/2110/27/2110/28/2110/29/2110/30/2110/31/2111/1/2111/2/2111/3/2111/4/2111/5/2111/6/2111/7/2111/8/2111/9/2111/10/2111/11/2111/12/2111/13/2111/14/2111/15/2111/16/2111/17/2111/18/2111/19/2111/20/2111/21/2111/22/2111/23/2111/24/2111/25/2111/26/2111/27/2111/28/2111/29/2111/30/2112/1/2112/2/2112/3/2112/4/2112/5/2112/6/2112/7/2112/8/2112/9/2112/10/2112/11/2112/12/2112/13/2112/14/2112/15/2112/16/2112/17/2112/18/2112/19/2112/20/2112/21/2112/22/2112/23/2112/24/2112/25/2112/26/2112/27/2112/28/2112/29/2112/30/2112/31/211/1/221/2/221/3/221/4/221/5/221/6/221/7/221/8/221/9/221/10/221/11/221/12/221/13/221/14/221/15/221/16/221/17/221/18/221/19/221/20/221/21/221/22/221/23/221/24/221/25/221/26/221/27/221/28/221/29/221/30/221/31/222/1/222/2/222/3/222/4/222/5/222/6/222/7/222/8/222/9/222/10/222/11/222/12/222/13/222/14/222/15/222/16/222/17/222/18/222/19/222/20/222/21/222/22/222/23/222/24/222/25/222/26/222/27/222/28/223/1/223/2/223/3/223/4/223/5/223/6/223/7/223/8/223/9/223/10/223/11/223/12/223/13/223/14/223/15/223/16/223/17/223/18/223/19/223/20/223/21/223/22/223/23/223/24/223/25/223/26/223/27/223/28/223/29/223/30/223/31/224/1/224/2/224/3/224/4/224/5/224/6/224/7/224/8/224/9/224/10/224/11/224/12/224/13/224/14/224/15/224/16/224/17/224/18/224/19/224/20/224/21/224/22/224/23/224/24/224/25/224/26/224/27/224/28/224/29/224/30/225/1/225/2/225/3/225/4/225/5/225/6/225/7/225/8/225/9/225/10/225/11/225/12/225/13/225/14/225/15/225/16/225/17/225/18/225/19/225/20/225/21/225/22/225/23/225/24/225/25/225/26/225/27/225/28/225/29/225/30/225/31/226/1/226/2/226/3/226/4/226/5/226/6/226/7/226/8/226/9/226/10/226/11/226/12/226/13/226/14/226/15/226/16/226/17/226/18/226/19/226/20/226/21/226/22/226/23/226/24/226/25/226/26/226/27/226/28/226/29/226/30/227/1/227/2/227/3/227/4/227/5/227/6/227/7/227/8/227/9/227/10/227/11/227/12/227/13/227/14/227/15/227/16/227/17/227/18/227/19/227/20/227/21/227/22/227/23/227/24/227/25/227/26/227/27/227/28/227/29/227/30/227/31/228/1/228/2/228/3/228/4/228/5/228/6/228/7/228/8/228/9/228/10/228/11/228/12/228/13/228/14/228/15/228/16/228/17/228/18/228/19/228/20/228/21/228/22/228/23/228/24/228/25/228/26/228/27/228/28/228/29/228/30/228/31/229/1/229/2/229/3/229/4/229/5/229/6/229/7/229/8/229/9/229/10/229/11/229/12/229/13/229/14/229/15/229/16/229/17/229/18/229/19/229/20/229/21/229/22/229/23/229/24/229/25/229/26/229/27/229/28/229/29/229/30/2210/1/2210/2/2210/3/2210/4/2210/5/2210/6/2210/7/2210/8/2210/9/2210/10/2210/11/2210/12/2210/13/2210/14/2210/15/2210/16/2210/17/2210/18/2210/19/2210/20/2210/21/2210/22/2210/23/2210/24/2210/25/2210/26/2210/27/2210/28/2210/29/2210/30/2210/31/2211/1/2211/2/2211/3/2211/4/2211/5/2211/6/2211/7/2211/8/2211/9/2211/10/2211/11/2211/12/2211/13/2211/14/2211/15/2211/16/2211/17/2211/18/2211/19/2211/20/2211/21/2211/22/2211/23/2211/24/2211/25/2211/26/2211/27/2211/28/2211/29/2211/30/2212/1/2212/2/2212/3/2212/4/2212/5/2212/6/2212/7/2212/8/2212/9/2212/10/2212/11/2212/12/2212/13/2212/14/2212/15/2212/16/2212/17/2212/18/2212/19/2212/20/2212/21/2212/22/2212/23/2212/24/2212/25/2212/26/2212/27/2212/28/2212/29/2212/30/2212/31/221/1/231/2/23",
                  "38729339",
                  "2850576",
                  "7.360249551380156"
                ],
                [
                  "Peru",
                  "0",
                  "-9897.63",
                  "-80791.37039999999",
                  "1/22/201/23/201/24/201/25/201/26/201/27/201/28/201/29/201/30/201/31/202/1/202/2/202/3/202/4/202/5/202/6/202/7/202/8/202/9/202/10/202/11/202/12/202/13/202/14/202/15/202/16/202/17/202/18/202/19/202/20/202/21/202/22/202/23/202/24/202/25/202/26/202/27/202/28/202/29/203/1/203/2/203/3/203/4/203/5/203/6/203/7/203/8/203/9/203/10/203/11/203/12/203/13/203/14/203/15/203/16/203/17/203/18/203/19/203/20/203/21/203/22/203/23/203/24/203/25/203/26/203/27/203/28/203/29/203/30/203/31/204/1/204/2/204/3/204/4/204/5/204/6/204/7/204/8/204/9/204/10/204/11/204/12/204/13/204/14/204/15/204/16/204/17/204/18/204/19/204/20/204/21/204/22/204/23/204/24/204/25/204/26/204/27/204/28/204/29/204/30/205/1/205/2/205/3/205/4/205/5/205/6/205/7/205/8/205/9/205/10/205/11/205/12/205/13/205/14/205/15/205/16/205/17/205/18/205/19/205/20/205/21/205/22/205/23/205/24/205/25/205/26/205/27/205/28/205/29/205/30/205/31/206/1/206/2/206/3/206/4/206/5/206/6/206/7/206/8/206/9/206/10/206/11/206/12/206/13/206/14/206/15/206/16/206/17/206/18/206/19/206/20/206/21/206/22/206/23/206/24/206/25/206/26/206/27/206/28/206/29/206/30/207/1/207/2/207/3/207/4/207/5/207/6/207/7/207/8/207/9/207/10/207/11/207/12/207/13/207/14/207/15/207/16/207/17/207/18/207/19/207/20/207/21/207/22/207/23/207/24/207/25/207/26/207/27/207/28/207/29/207/30/207/31/208/1/208/2/208/3/208/4/208/5/208/6/208/7/208/8/208/9/208/10/208/11/208/12/208/13/208/14/208/15/208/16/208/17/208/18/208/19/208/20/208/21/208/22/208/23/208/24/208/25/208/26/208/27/208/28/208/29/208/30/208/31/209/1/209/2/209/3/209/4/209/5/209/6/209/7/209/8/209/9/209/10/209/11/209/12/209/13/209/14/209/15/209/16/209/17/209/18/209/19/209/20/209/21/209/22/209/23/209/24/209/25/209/26/209/27/209/28/209/29/209/30/2010/1/2010/2/2010/3/2010/4/2010/5/2010/6/2010/7/2010/8/2010/9/2010/10/2010/11/2010/12/2010/13/2010/14/2010/15/2010/16/2010/17/2010/18/2010/19/2010/20/2010/21/2010/22/2010/23/2010/24/2010/25/2010/26/2010/27/2010/28/2010/29/2010/30/2010/31/2011/1/2011/2/2011/3/2011/4/2011/5/2011/6/2011/7/2011/8/2011/9/2011/10/2011/11/2011/12/2011/13/2011/14/2011/15/2011/16/2011/17/2011/18/2011/19/2011/20/2011/21/2011/22/2011/23/2011/24/2011/25/2011/26/2011/27/2011/28/2011/29/2011/30/2012/1/2012/2/2012/3/2012/4/2012/5/2012/6/2012/7/2012/8/2012/9/2012/10/2012/11/2012/12/2012/13/2012/14/2012/15/2012/16/2012/17/2012/18/2012/19/2012/20/2012/21/2012/22/2012/23/2012/24/2012/25/2012/26/2012/27/2012/28/2012/29/2012/30/2012/31/201/1/211/2/211/3/211/4/211/5/211/6/211/7/211/8/211/9/211/10/211/11/211/12/211/13/211/14/211/15/211/16/211/17/211/18/211/19/211/20/211/21/211/22/211/23/211/24/211/25/211/26/211/27/211/28/211/29/211/30/211/31/212/1/212/2/212/3/212/4/212/5/212/6/212/7/212/8/212/9/212/10/212/11/212/12/212/13/212/14/212/15/212/16/212/17/212/18/212/19/212/20/212/21/212/22/212/23/212/24/212/25/212/26/212/27/212/28/213/1/213/2/213/3/213/4/213/5/213/6/213/7/213/8/213/9/213/10/213/11/213/12/213/13/213/14/213/15/213/16/213/17/213/18/213/19/213/20/213/21/213/22/213/23/213/24/213/25/213/26/213/27/213/28/213/29/213/30/213/31/214/1/214/2/214/3/214/4/214/5/214/6/214/7/214/8/214/9/214/10/214/11/214/12/214/13/214/14/214/15/214/16/214/17/214/18/214/19/214/20/214/21/214/22/214/23/214/24/214/25/214/26/214/27/214/28/214/29/214/30/215/1/215/2/215/3/215/4/215/5/215/6/215/7/215/8/215/9/215/10/215/11/215/12/215/13/215/14/215/15/215/16/215/17/215/18/215/19/215/20/215/21/215/22/215/23/215/24/215/25/215/26/215/27/215/28/215/29/215/30/215/31/216/1/216/2/216/3/216/4/216/5/216/6/216/7/216/8/216/9/216/10/216/11/216/12/216/13/216/14/216/15/216/16/216/17/216/18/216/19/216/20/216/21/216/22/216/23/216/24/216/25/216/26/216/27/216/28/216/29/216/30/217/1/217/2/217/3/217/4/217/5/217/6/217/7/217/8/217/9/217/10/217/11/217/12/217/13/217/14/217/15/217/16/217/17/217/18/217/19/217/20/217/21/217/22/217/23/217/24/217/25/217/26/217/27/217/28/217/29/217/30/217/31/218/1/218/2/218/3/218/4/218/5/218/6/218/7/218/8/218/9/218/10/218/11/218/12/218/13/218/14/218/15/218/16/218/17/218/18/218/19/218/20/218/21/218/22/218/23/218/24/218/25/218/26/218/27/218/28/218/29/218/30/218/31/219/1/219/2/219/3/219/4/219/5/219/6/219/7/219/8/219/9/219/10/219/11/219/12/219/13/219/14/219/15/219/16/219/17/219/18/219/19/219/20/219/21/219/22/219/23/219/24/219/25/219/26/219/27/219/28/219/29/219/30/2110/1/2110/2/2110/3/2110/4/2110/5/2110/6/2110/7/2110/8/2110/9/2110/10/2110/11/2110/12/2110/13/2110/14/2110/15/2110/16/2110/17/2110/18/2110/19/2110/20/2110/21/2110/22/2110/23/2110/24/2110/25/2110/26/2110/27/2110/28/2110/29/2110/30/2110/31/2111/1/2111/2/2111/3/2111/4/2111/5/2111/6/2111/7/2111/8/2111/9/2111/10/2111/11/2111/12/2111/13/2111/14/2111/15/2111/16/2111/17/2111/18/2111/19/2111/20/2111/21/2111/22/2111/23/2111/24/2111/25/2111/26/2111/27/2111/28/2111/29/2111/30/2112/1/2112/2/2112/3/2112/4/2112/5/2112/6/2112/7/2112/8/2112/9/2112/10/2112/11/2112/12/2112/13/2112/14/2112/15/2112/16/2112/17/2112/18/2112/19/2112/20/2112/21/2112/22/2112/23/2112/24/2112/25/2112/26/2112/27/2112/28/2112/29/2112/30/2112/31/211/1/221/2/221/3/221/4/221/5/221/6/221/7/221/8/221/9/221/10/221/11/221/12/221/13/221/14/221/15/221/16/221/17/221/18/221/19/221/20/221/21/221/22/221/23/221/24/221/25/221/26/221/27/221/28/221/29/221/30/221/31/222/1/222/2/222/3/222/4/222/5/222/6/222/7/222/8/222/9/222/10/222/11/222/12/222/13/222/14/222/15/222/16/222/17/222/18/222/19/222/20/222/21/222/22/222/23/222/24/222/25/222/26/222/27/222/28/223/1/223/2/223/3/223/4/223/5/223/6/223/7/223/8/223/9/223/10/223/11/223/12/223/13/223/14/223/15/223/16/223/17/223/18/223/19/223/20/223/21/223/22/223/23/223/24/223/25/223/26/223/27/223/28/223/29/223/30/223/31/224/1/224/2/224/3/224/4/224/5/224/6/224/7/224/8/224/9/224/10/224/11/224/12/224/13/224/14/224/15/224/16/224/17/224/18/224/19/224/20/224/21/224/22/224/23/224/24/224/25/224/26/224/27/224/28/224/29/224/30/225/1/225/2/225/3/225/4/225/5/225/6/225/7/225/8/225/9/225/10/225/11/225/12/225/13/225/14/225/15/225/16/225/17/225/18/225/19/225/20/225/21/225/22/225/23/225/24/225/25/225/26/225/27/225/28/225/29/225/30/225/31/226/1/226/2/226/3/226/4/226/5/226/6/226/7/226/8/226/9/226/10/226/11/226/12/226/13/226/14/226/15/226/16/226/17/226/18/226/19/226/20/226/21/226/22/226/23/226/24/226/25/226/26/226/27/226/28/226/29/226/30/227/1/227/2/227/3/227/4/227/5/227/6/227/7/227/8/227/9/227/10/227/11/227/12/227/13/227/14/227/15/227/16/227/17/227/18/227/19/227/20/227/21/227/22/227/23/227/24/227/25/227/26/227/27/227/28/227/29/227/30/227/31/228/1/228/2/228/3/228/4/228/5/228/6/228/7/228/8/228/9/228/10/228/11/228/12/228/13/228/14/228/15/228/16/228/17/228/18/228/19/228/20/228/21/228/22/228/23/228/24/228/25/228/26/228/27/228/28/228/29/228/30/228/31/229/1/229/2/229/3/229/4/229/5/229/6/229/7/229/8/229/9/229/10/229/11/229/12/229/13/229/14/229/15/229/16/229/17/229/18/229/19/229/20/229/21/229/22/229/23/229/24/229/25/229/26/229/27/229/28/229/29/229/30/2210/1/2210/2/2210/3/2210/4/2210/5/2210/6/2210/7/2210/8/2210/9/2210/10/2210/11/2210/12/2210/13/2210/14/2210/15/2210/16/2210/17/2210/18/2210/19/2210/20/2210/21/2210/22/2210/23/2210/24/2210/25/2210/26/2210/27/2210/28/2210/29/2210/30/2210/31/2211/1/2211/2/2211/3/2211/4/2211/5/2211/6/2211/7/2211/8/2211/9/2211/10/2211/11/2211/12/2211/13/2211/14/2211/15/2211/16/2211/17/2211/18/2211/19/2211/20/2211/21/2211/22/2211/23/2211/24/2211/25/2211/26/2211/27/2211/28/2211/29/2211/30/2212/1/2212/2/2212/3/2212/4/2212/5/2212/6/2212/7/2212/8/2212/9/2212/10/2212/11/2212/12/2212/13/2212/14/2212/15/2212/16/2212/17/2212/18/2212/19/2212/20/2212/21/2212/22/2212/23/2212/24/2212/25/2212/26/2212/27/2212/28/2212/29/2212/30/2212/31/221/1/231/2/23",
                  "2203724423",
                  "156296296",
                  "7.092370278640779"
                ],
                [
                  "Mexico",
                  "0",
                  "25454.356499999998",
                  "-110449.3656",
                  "1/22/201/23/201/24/201/25/201/26/201/27/201/28/201/29/201/30/201/31/202/1/202/2/202/3/202/4/202/5/202/6/202/7/202/8/202/9/202/10/202/11/202/12/202/13/202/14/202/15/202/16/202/17/202/18/202/19/202/20/202/21/202/22/202/23/202/24/202/25/202/26/202/27/202/28/202/29/203/1/203/2/203/3/203/4/203/5/203/6/203/7/203/8/203/9/203/10/203/11/203/12/203/13/203/14/203/15/203/16/203/17/203/18/203/19/203/20/203/21/203/22/203/23/203/24/203/25/203/26/203/27/203/28/203/29/203/30/203/31/204/1/204/2/204/3/204/4/204/5/204/6/204/7/204/8/204/9/204/10/204/11/204/12/204/13/204/14/204/15/204/16/204/17/204/18/204/19/204/20/204/21/204/22/204/23/204/24/204/25/204/26/204/27/204/28/204/29/204/30/205/1/205/2/205/3/205/4/205/5/205/6/205/7/205/8/205/9/205/10/205/11/205/12/205/13/205/14/205/15/205/16/205/17/205/18/205/19/205/20/205/21/205/22/205/23/205/24/205/25/205/26/205/27/205/28/205/29/205/30/205/31/206/1/206/2/206/3/206/4/206/5/206/6/206/7/206/8/206/9/206/10/206/11/206/12/206/13/206/14/206/15/206/16/206/17/206/18/206/19/206/20/206/21/206/22/206/23/206/24/206/25/206/26/206/27/206/28/206/29/206/30/207/1/207/2/207/3/207/4/207/5/207/6/207/7/207/8/207/9/207/10/207/11/207/12/207/13/207/14/207/15/207/16/207/17/207/18/207/19/207/20/207/21/207/22/207/23/207/24/207/25/207/26/207/27/207/28/207/29/207/30/207/31/208/1/208/2/208/3/208/4/208/5/208/6/208/7/208/8/208/9/208/10/208/11/208/12/208/13/208/14/208/15/208/16/208/17/208/18/208/19/208/20/208/21/208/22/208/23/208/24/208/25/208/26/208/27/208/28/208/29/208/30/208/31/209/1/209/2/209/3/209/4/209/5/209/6/209/7/209/8/209/9/209/10/209/11/209/12/209/13/209/14/209/15/209/16/209/17/209/18/209/19/209/20/209/21/209/22/209/23/209/24/209/25/209/26/209/27/209/28/209/29/209/30/2010/1/2010/2/2010/3/2010/4/2010/5/2010/6/2010/7/2010/8/2010/9/2010/10/2010/11/2010/12/2010/13/2010/14/2010/15/2010/16/2010/17/2010/18/2010/19/2010/20/2010/21/2010/22/2010/23/2010/24/2010/25/2010/26/2010/27/2010/28/2010/29/2010/30/2010/31/2011/1/2011/2/2011/3/2011/4/2011/5/2011/6/2011/7/2011/8/2011/9/2011/10/2011/11/2011/12/2011/13/2011/14/2011/15/2011/16/2011/17/2011/18/2011/19/2011/20/2011/21/2011/22/2011/23/2011/24/2011/25/2011/26/2011/27/2011/28/2011/29/2011/30/2012/1/2012/2/2012/3/2012/4/2012/5/2012/6/2012/7/2012/8/2012/9/2012/10/2012/11/2012/12/2012/13/2012/14/2012/15/2012/16/2012/17/2012/18/2012/19/2012/20/2012/21/2012/22/2012/23/2012/24/2012/25/2012/26/2012/27/2012/28/2012/29/2012/30/2012/31/201/1/211/2/211/3/211/4/211/5/211/6/211/7/211/8/211/9/211/10/211/11/211/12/211/13/211/14/211/15/211/16/211/17/211/18/211/19/211/20/211/21/211/22/211/23/211/24/211/25/211/26/211/27/211/28/211/29/211/30/211/31/212/1/212/2/212/3/212/4/212/5/212/6/212/7/212/8/212/9/212/10/212/11/212/12/212/13/212/14/212/15/212/16/212/17/212/18/212/19/212/20/212/21/212/22/212/23/212/24/212/25/212/26/212/27/212/28/213/1/213/2/213/3/213/4/213/5/213/6/213/7/213/8/213/9/213/10/213/11/213/12/213/13/213/14/213/15/213/16/213/17/213/18/213/19/213/20/213/21/213/22/213/23/213/24/213/25/213/26/213/27/213/28/213/29/213/30/213/31/214/1/214/2/214/3/214/4/214/5/214/6/214/7/214/8/214/9/214/10/214/11/214/12/214/13/214/14/214/15/214/16/214/17/214/18/214/19/214/20/214/21/214/22/214/23/214/24/214/25/214/26/214/27/214/28/214/29/214/30/215/1/215/2/215/3/215/4/215/5/215/6/215/7/215/8/215/9/215/10/215/11/215/12/215/13/215/14/215/15/215/16/215/17/215/18/215/19/215/20/215/21/215/22/215/23/215/24/215/25/215/26/215/27/215/28/215/29/215/30/215/31/216/1/216/2/216/3/216/4/216/5/216/6/216/7/216/8/216/9/216/10/216/11/216/12/216/13/216/14/216/15/216/16/216/17/216/18/216/19/216/20/216/21/216/22/216/23/216/24/216/25/216/26/216/27/216/28/216/29/216/30/217/1/217/2/217/3/217/4/217/5/217/6/217/7/217/8/217/9/217/10/217/11/217/12/217/13/217/14/217/15/217/16/217/17/217/18/217/19/217/20/217/21/217/22/217/23/217/24/217/25/217/26/217/27/217/28/217/29/217/30/217/31/218/1/218/2/218/3/218/4/218/5/218/6/218/7/218/8/218/9/218/10/218/11/218/12/218/13/218/14/218/15/218/16/218/17/218/18/218/19/218/20/218/21/218/22/218/23/218/24/218/25/218/26/218/27/218/28/218/29/218/30/218/31/219/1/219/2/219/3/219/4/219/5/219/6/219/7/219/8/219/9/219/10/219/11/219/12/219/13/219/14/219/15/219/16/219/17/219/18/219/19/219/20/219/21/219/22/219/23/219/24/219/25/219/26/219/27/219/28/219/29/219/30/2110/1/2110/2/2110/3/2110/4/2110/5/2110/6/2110/7/2110/8/2110/9/2110/10/2110/11/2110/12/2110/13/2110/14/2110/15/2110/16/2110/17/2110/18/2110/19/2110/20/2110/21/2110/22/2110/23/2110/24/2110/25/2110/26/2110/27/2110/28/2110/29/2110/30/2110/31/2111/1/2111/2/2111/3/2111/4/2111/5/2111/6/2111/7/2111/8/2111/9/2111/10/2111/11/2111/12/2111/13/2111/14/2111/15/2111/16/2111/17/2111/18/2111/19/2111/20/2111/21/2111/22/2111/23/2111/24/2111/25/2111/26/2111/27/2111/28/2111/29/2111/30/2112/1/2112/2/2112/3/2112/4/2112/5/2112/6/2112/7/2112/8/2112/9/2112/10/2112/11/2112/12/2112/13/2112/14/2112/15/2112/16/2112/17/2112/18/2112/19/2112/20/2112/21/2112/22/2112/23/2112/24/2112/25/2112/26/2112/27/2112/28/2112/29/2112/30/2112/31/211/1/221/2/221/3/221/4/221/5/221/6/221/7/221/8/221/9/221/10/221/11/221/12/221/13/221/14/221/15/221/16/221/17/221/18/221/19/221/20/221/21/221/22/221/23/221/24/221/25/221/26/221/27/221/28/221/29/221/30/221/31/222/1/222/2/222/3/222/4/222/5/222/6/222/7/222/8/222/9/222/10/222/11/222/12/222/13/222/14/222/15/222/16/222/17/222/18/222/19/222/20/222/21/222/22/222/23/222/24/222/25/222/26/222/27/222/28/223/1/223/2/223/3/223/4/223/5/223/6/223/7/223/8/223/9/223/10/223/11/223/12/223/13/223/14/223/15/223/16/223/17/223/18/223/19/223/20/223/21/223/22/223/23/223/24/223/25/223/26/223/27/223/28/223/29/223/30/223/31/224/1/224/2/224/3/224/4/224/5/224/6/224/7/224/8/224/9/224/10/224/11/224/12/224/13/224/14/224/15/224/16/224/17/224/18/224/19/224/20/224/21/224/22/224/23/224/24/224/25/224/26/224/27/224/28/224/29/224/30/225/1/225/2/225/3/225/4/225/5/225/6/225/7/225/8/225/9/225/10/225/11/225/12/225/13/225/14/225/15/225/16/225/17/225/18/225/19/225/20/225/21/225/22/225/23/225/24/225/25/225/26/225/27/225/28/225/29/225/30/225/31/226/1/226/2/226/3/226/4/226/5/226/6/226/7/226/8/226/9/226/10/226/11/226/12/226/13/226/14/226/15/226/16/226/17/226/18/226/19/226/20/226/21/226/22/226/23/226/24/226/25/226/26/226/27/226/28/226/29/226/30/227/1/227/2/227/3/227/4/227/5/227/6/227/7/227/8/227/9/227/10/227/11/227/12/227/13/227/14/227/15/227/16/227/17/227/18/227/19/227/20/227/21/227/22/227/23/227/24/227/25/227/26/227/27/227/28/227/29/227/30/227/31/228/1/228/2/228/3/228/4/228/5/228/6/228/7/228/8/228/9/228/10/228/11/228/12/228/13/228/14/228/15/228/16/228/17/228/18/228/19/228/20/228/21/228/22/228/23/228/24/228/25/228/26/228/27/228/28/228/29/228/30/228/31/229/1/229/2/229/3/229/4/229/5/229/6/229/7/229/8/229/9/229/10/229/11/229/12/229/13/229/14/229/15/229/16/229/17/229/18/229/19/229/20/229/21/229/22/229/23/229/24/229/25/229/26/229/27/229/28/229/29/229/30/2210/1/2210/2/2210/3/2210/4/2210/5/2210/6/2210/7/2210/8/2210/9/2210/10/2210/11/2210/12/2210/13/2210/14/2210/15/2210/16/2210/17/2210/18/2210/19/2210/20/2210/21/2210/22/2210/23/2210/24/2210/25/2210/26/2210/27/2210/28/2210/29/2210/30/2210/31/2211/1/2211/2/2211/3/2211/4/2211/5/2211/6/2211/7/2211/8/2211/9/2211/10/2211/11/2211/12/2211/13/2211/14/2211/15/2211/16/2211/17/2211/18/2211/19/2211/20/2211/21/2211/22/2211/23/2211/24/2211/25/2211/26/2211/27/2211/28/2211/29/2211/30/2212/1/2212/2/2212/3/2212/4/2212/5/2212/6/2212/7/2212/8/2212/9/2212/10/2212/11/2212/12/2212/13/2212/14/2212/15/2212/16/2212/17/2212/18/2212/19/2212/20/2212/21/2212/22/2212/23/2212/24/2212/25/2212/26/2212/27/2212/28/2212/29/2212/30/2212/31/221/1/231/2/23",
                  "3457143524",
                  "219154369",
                  "6.339174740030261"
                ],
                [
                  "Syria",
                  "0",
                  "37481.834775",
                  "41999.569755",
                  "1/22/201/23/201/24/201/25/201/26/201/27/201/28/201/29/201/30/201/31/202/1/202/2/202/3/202/4/202/5/202/6/202/7/202/8/202/9/202/10/202/11/202/12/202/13/202/14/202/15/202/16/202/17/202/18/202/19/202/20/202/21/202/22/202/23/202/24/202/25/202/26/202/27/202/28/202/29/203/1/203/2/203/3/203/4/203/5/203/6/203/7/203/8/203/9/203/10/203/11/203/12/203/13/203/14/203/15/203/16/203/17/203/18/203/19/203/20/203/21/203/22/203/23/203/24/203/25/203/26/203/27/203/28/203/29/203/30/203/31/204/1/204/2/204/3/204/4/204/5/204/6/204/7/204/8/204/9/204/10/204/11/204/12/204/13/204/14/204/15/204/16/204/17/204/18/204/19/204/20/204/21/204/22/204/23/204/24/204/25/204/26/204/27/204/28/204/29/204/30/205/1/205/2/205/3/205/4/205/5/205/6/205/7/205/8/205/9/205/10/205/11/205/12/205/13/205/14/205/15/205/16/205/17/205/18/205/19/205/20/205/21/205/22/205/23/205/24/205/25/205/26/205/27/205/28/205/29/205/30/205/31/206/1/206/2/206/3/206/4/206/5/206/6/206/7/206/8/206/9/206/10/206/11/206/12/206/13/206/14/206/15/206/16/206/17/206/18/206/19/206/20/206/21/206/22/206/23/206/24/206/25/206/26/206/27/206/28/206/29/206/30/207/1/207/2/207/3/207/4/207/5/207/6/207/7/207/8/207/9/207/10/207/11/207/12/207/13/207/14/207/15/207/16/207/17/207/18/207/19/207/20/207/21/207/22/207/23/207/24/207/25/207/26/207/27/207/28/207/29/207/30/207/31/208/1/208/2/208/3/208/4/208/5/208/6/208/7/208/8/208/9/208/10/208/11/208/12/208/13/208/14/208/15/208/16/208/17/208/18/208/19/208/20/208/21/208/22/208/23/208/24/208/25/208/26/208/27/208/28/208/29/208/30/208/31/209/1/209/2/209/3/209/4/209/5/209/6/209/7/209/8/209/9/209/10/209/11/209/12/209/13/209/14/209/15/209/16/209/17/209/18/209/19/209/20/209/21/209/22/209/23/209/24/209/25/209/26/209/27/209/28/209/29/209/30/2010/1/2010/2/2010/3/2010/4/2010/5/2010/6/2010/7/2010/8/2010/9/2010/10/2010/11/2010/12/2010/13/2010/14/2010/15/2010/16/2010/17/2010/18/2010/19/2010/20/2010/21/2010/22/2010/23/2010/24/2010/25/2010/26/2010/27/2010/28/2010/29/2010/30/2010/31/2011/1/2011/2/2011/3/2011/4/2011/5/2011/6/2011/7/2011/8/2011/9/2011/10/2011/11/2011/12/2011/13/2011/14/2011/15/2011/16/2011/17/2011/18/2011/19/2011/20/2011/21/2011/22/2011/23/2011/24/2011/25/2011/26/2011/27/2011/28/2011/29/2011/30/2012/1/2012/2/2012/3/2012/4/2012/5/2012/6/2012/7/2012/8/2012/9/2012/10/2012/11/2012/12/2012/13/2012/14/2012/15/2012/16/2012/17/2012/18/2012/19/2012/20/2012/21/2012/22/2012/23/2012/24/2012/25/2012/26/2012/27/2012/28/2012/29/2012/30/2012/31/201/1/211/2/211/3/211/4/211/5/211/6/211/7/211/8/211/9/211/10/211/11/211/12/211/13/211/14/211/15/211/16/211/17/211/18/211/19/211/20/211/21/211/22/211/23/211/24/211/25/211/26/211/27/211/28/211/29/211/30/211/31/212/1/212/2/212/3/212/4/212/5/212/6/212/7/212/8/212/9/212/10/212/11/212/12/212/13/212/14/212/15/212/16/212/17/212/18/212/19/212/20/212/21/212/22/212/23/212/24/212/25/212/26/212/27/212/28/213/1/213/2/213/3/213/4/213/5/213/6/213/7/213/8/213/9/213/10/213/11/213/12/213/13/213/14/213/15/213/16/213/17/213/18/213/19/213/20/213/21/213/22/213/23/213/24/213/25/213/26/213/27/213/28/213/29/213/30/213/31/214/1/214/2/214/3/214/4/214/5/214/6/214/7/214/8/214/9/214/10/214/11/214/12/214/13/214/14/214/15/214/16/214/17/214/18/214/19/214/20/214/21/214/22/214/23/214/24/214/25/214/26/214/27/214/28/214/29/214/30/215/1/215/2/215/3/215/4/215/5/215/6/215/7/215/8/215/9/215/10/215/11/215/12/215/13/215/14/215/15/215/16/215/17/215/18/215/19/215/20/215/21/215/22/215/23/215/24/215/25/215/26/215/27/215/28/215/29/215/30/215/31/216/1/216/2/216/3/216/4/216/5/216/6/216/7/216/8/216/9/216/10/216/11/216/12/216/13/216/14/216/15/216/16/216/17/216/18/216/19/216/20/216/21/216/22/216/23/216/24/216/25/216/26/216/27/216/28/216/29/216/30/217/1/217/2/217/3/217/4/217/5/217/6/217/7/217/8/217/9/217/10/217/11/217/12/217/13/217/14/217/15/217/16/217/17/217/18/217/19/217/20/217/21/217/22/217/23/217/24/217/25/217/26/217/27/217/28/217/29/217/30/217/31/218/1/218/2/218/3/218/4/218/5/218/6/218/7/218/8/218/9/218/10/218/11/218/12/218/13/218/14/218/15/218/16/218/17/218/18/218/19/218/20/218/21/218/22/218/23/218/24/218/25/218/26/218/27/218/28/218/29/218/30/218/31/219/1/219/2/219/3/219/4/219/5/219/6/219/7/219/8/219/9/219/10/219/11/219/12/219/13/219/14/219/15/219/16/219/17/219/18/219/19/219/20/219/21/219/22/219/23/219/24/219/25/219/26/219/27/219/28/219/29/219/30/2110/1/2110/2/2110/3/2110/4/2110/5/2110/6/2110/7/2110/8/2110/9/2110/10/2110/11/2110/12/2110/13/2110/14/2110/15/2110/16/2110/17/2110/18/2110/19/2110/20/2110/21/2110/22/2110/23/2110/24/2110/25/2110/26/2110/27/2110/28/2110/29/2110/30/2110/31/2111/1/2111/2/2111/3/2111/4/2111/5/2111/6/2111/7/2111/8/2111/9/2111/10/2111/11/2111/12/2111/13/2111/14/2111/15/2111/16/2111/17/2111/18/2111/19/2111/20/2111/21/2111/22/2111/23/2111/24/2111/25/2111/26/2111/27/2111/28/2111/29/2111/30/2112/1/2112/2/2112/3/2112/4/2112/5/2112/6/2112/7/2112/8/2112/9/2112/10/2112/11/2112/12/2112/13/2112/14/2112/15/2112/16/2112/17/2112/18/2112/19/2112/20/2112/21/2112/22/2112/23/2112/24/2112/25/2112/26/2112/27/2112/28/2112/29/2112/30/2112/31/211/1/221/2/221/3/221/4/221/5/221/6/221/7/221/8/221/9/221/10/221/11/221/12/221/13/221/14/221/15/221/16/221/17/221/18/221/19/221/20/221/21/221/22/221/23/221/24/221/25/221/26/221/27/221/28/221/29/221/30/221/31/222/1/222/2/222/3/222/4/222/5/222/6/222/7/222/8/222/9/222/10/222/11/222/12/222/13/222/14/222/15/222/16/222/17/222/18/222/19/222/20/222/21/222/22/222/23/222/24/222/25/222/26/222/27/222/28/223/1/223/2/223/3/223/4/223/5/223/6/223/7/223/8/223/9/223/10/223/11/223/12/223/13/223/14/223/15/223/16/223/17/223/18/223/19/223/20/223/21/223/22/223/23/223/24/223/25/223/26/223/27/223/28/223/29/223/30/223/31/224/1/224/2/224/3/224/4/224/5/224/6/224/7/224/8/224/9/224/10/224/11/224/12/224/13/224/14/224/15/224/16/224/17/224/18/224/19/224/20/224/21/224/22/224/23/224/24/224/25/224/26/224/27/224/28/224/29/224/30/225/1/225/2/225/3/225/4/225/5/225/6/225/7/225/8/225/9/225/10/225/11/225/12/225/13/225/14/225/15/225/16/225/17/225/18/225/19/225/20/225/21/225/22/225/23/225/24/225/25/225/26/225/27/225/28/225/29/225/30/225/31/226/1/226/2/226/3/226/4/226/5/226/6/226/7/226/8/226/9/226/10/226/11/226/12/226/13/226/14/226/15/226/16/226/17/226/18/226/19/226/20/226/21/226/22/226/23/226/24/226/25/226/26/226/27/226/28/226/29/226/30/227/1/227/2/227/3/227/4/227/5/227/6/227/7/227/8/227/9/227/10/227/11/227/12/227/13/227/14/227/15/227/16/227/17/227/18/227/19/227/20/227/21/227/22/227/23/227/24/227/25/227/26/227/27/227/28/227/29/227/30/227/31/228/1/228/2/228/3/228/4/228/5/228/6/228/7/228/8/228/9/228/10/228/11/228/12/228/13/228/14/228/15/228/16/228/17/228/18/228/19/228/20/228/21/228/22/228/23/228/24/228/25/228/26/228/27/228/28/228/29/228/30/228/31/229/1/229/2/229/3/229/4/229/5/229/6/229/7/229/8/229/9/229/10/229/11/229/12/229/13/229/14/229/15/229/16/229/17/229/18/229/19/229/20/229/21/229/22/229/23/229/24/229/25/229/26/229/27/229/28/229/29/229/30/2210/1/2210/2/2210/3/2210/4/2210/5/2210/6/2210/7/2210/8/2210/9/2210/10/2210/11/2210/12/2210/13/2210/14/2210/15/2210/16/2210/17/2210/18/2210/19/2210/20/2210/21/2210/22/2210/23/2210/24/2210/25/2210/26/2210/27/2210/28/2210/29/2210/30/2210/31/2211/1/2211/2/2211/3/2211/4/2211/5/2211/6/2211/7/2211/8/2211/9/2211/10/2211/11/2211/12/2211/13/2211/14/2211/15/2211/16/2211/17/2211/18/2211/19/2211/20/2211/21/2211/22/2211/23/2211/24/2211/25/2211/26/2211/27/2211/28/2211/29/2211/30/2212/1/2212/2/2212/3/2212/4/2212/5/2212/6/2212/7/2212/8/2212/9/2212/10/2212/11/2212/12/2212/13/2212/14/2212/15/2212/16/2212/17/2212/18/2212/19/2212/20/2212/21/2212/22/2212/23/2212/24/2212/25/2212/26/2212/27/2212/28/2212/29/2212/30/2212/31/221/1/231/2/23",
                  "31417485",
                  "1853887",
                  "5.900812875378153"
                ],
                [
                  "Egypt",
                  "0",
                  "28885.735581",
                  "33174.290346",
                  "1/22/201/23/201/24/201/25/201/26/201/27/201/28/201/29/201/30/201/31/202/1/202/2/202/3/202/4/202/5/202/6/202/7/202/8/202/9/202/10/202/11/202/12/202/13/202/14/202/15/202/16/202/17/202/18/202/19/202/20/202/21/202/22/202/23/202/24/202/25/202/26/202/27/202/28/202/29/203/1/203/2/203/3/203/4/203/5/203/6/203/7/203/8/203/9/203/10/203/11/203/12/203/13/203/14/203/15/203/16/203/17/203/18/203/19/203/20/203/21/203/22/203/23/203/24/203/25/203/26/203/27/203/28/203/29/203/30/203/31/204/1/204/2/204/3/204/4/204/5/204/6/204/7/204/8/204/9/204/10/204/11/204/12/204/13/204/14/204/15/204/16/204/17/204/18/204/19/204/20/204/21/204/22/204/23/204/24/204/25/204/26/204/27/204/28/204/29/204/30/205/1/205/2/205/3/205/4/205/5/205/6/205/7/205/8/205/9/205/10/205/11/205/12/205/13/205/14/205/15/205/16/205/17/205/18/205/19/205/20/205/21/205/22/205/23/205/24/205/25/205/26/205/27/205/28/205/29/205/30/205/31/206/1/206/2/206/3/206/4/206/5/206/6/206/7/206/8/206/9/206/10/206/11/206/12/206/13/206/14/206/15/206/16/206/17/206/18/206/19/206/20/206/21/206/22/206/23/206/24/206/25/206/26/206/27/206/28/206/29/206/30/207/1/207/2/207/3/207/4/207/5/207/6/207/7/207/8/207/9/207/10/207/11/207/12/207/13/207/14/207/15/207/16/207/17/207/18/207/19/207/20/207/21/207/22/207/23/207/24/207/25/207/26/207/27/207/28/207/29/207/30/207/31/208/1/208/2/208/3/208/4/208/5/208/6/208/7/208/8/208/9/208/10/208/11/208/12/208/13/208/14/208/15/208/16/208/17/208/18/208/19/208/20/208/21/208/22/208/23/208/24/208/25/208/26/208/27/208/28/208/29/208/30/208/31/209/1/209/2/209/3/209/4/209/5/209/6/209/7/209/8/209/9/209/10/209/11/209/12/209/13/209/14/209/15/209/16/209/17/209/18/209/19/209/20/209/21/209/22/209/23/209/24/209/25/209/26/209/27/209/28/209/29/209/30/2010/1/2010/2/2010/3/2010/4/2010/5/2010/6/2010/7/2010/8/2010/9/2010/10/2010/11/2010/12/2010/13/2010/14/2010/15/2010/16/2010/17/2010/18/2010/19/2010/20/2010/21/2010/22/2010/23/2010/24/2010/25/2010/26/2010/27/2010/28/2010/29/2010/30/2010/31/2011/1/2011/2/2011/3/2011/4/2011/5/2011/6/2011/7/2011/8/2011/9/2011/10/2011/11/2011/12/2011/13/2011/14/2011/15/2011/16/2011/17/2011/18/2011/19/2011/20/2011/21/2011/22/2011/23/2011/24/2011/25/2011/26/2011/27/2011/28/2011/29/2011/30/2012/1/2012/2/2012/3/2012/4/2012/5/2012/6/2012/7/2012/8/2012/9/2012/10/2012/11/2012/12/2012/13/2012/14/2012/15/2012/16/2012/17/2012/18/2012/19/2012/20/2012/21/2012/22/2012/23/2012/24/2012/25/2012/26/2012/27/2012/28/2012/29/2012/30/2012/31/201/1/211/2/211/3/211/4/211/5/211/6/211/7/211/8/211/9/211/10/211/11/211/12/211/13/211/14/211/15/211/16/211/17/211/18/211/19/211/20/211/21/211/22/211/23/211/24/211/25/211/26/211/27/211/28/211/29/211/30/211/31/212/1/212/2/212/3/212/4/212/5/212/6/212/7/212/8/212/9/212/10/212/11/212/12/212/13/212/14/212/15/212/16/212/17/212/18/212/19/212/20/212/21/212/22/212/23/212/24/212/25/212/26/212/27/212/28/213/1/213/2/213/3/213/4/213/5/213/6/213/7/213/8/213/9/213/10/213/11/213/12/213/13/213/14/213/15/213/16/213/17/213/18/213/19/213/20/213/21/213/22/213/23/213/24/213/25/213/26/213/27/213/28/213/29/213/30/213/31/214/1/214/2/214/3/214/4/214/5/214/6/214/7/214/8/214/9/214/10/214/11/214/12/214/13/214/14/214/15/214/16/214/17/214/18/214/19/214/20/214/21/214/22/214/23/214/24/214/25/214/26/214/27/214/28/214/29/214/30/215/1/215/2/215/3/215/4/215/5/215/6/215/7/215/8/215/9/215/10/215/11/215/12/215/13/215/14/215/15/215/16/215/17/215/18/215/19/215/20/215/21/215/22/215/23/215/24/215/25/215/26/215/27/215/28/215/29/215/30/215/31/216/1/216/2/216/3/216/4/216/5/216/6/216/7/216/8/216/9/216/10/216/11/216/12/216/13/216/14/216/15/216/16/216/17/216/18/216/19/216/20/216/21/216/22/216/23/216/24/216/25/216/26/216/27/216/28/216/29/216/30/217/1/217/2/217/3/217/4/217/5/217/6/217/7/217/8/217/9/217/10/217/11/217/12/217/13/217/14/217/15/217/16/217/17/217/18/217/19/217/20/217/21/217/22/217/23/217/24/217/25/217/26/217/27/217/28/217/29/217/30/217/31/218/1/218/2/218/3/218/4/218/5/218/6/218/7/218/8/218/9/218/10/218/11/218/12/218/13/218/14/218/15/218/16/218/17/218/18/218/19/218/20/218/21/218/22/218/23/218/24/218/25/218/26/218/27/218/28/218/29/218/30/218/31/219/1/219/2/219/3/219/4/219/5/219/6/219/7/219/8/219/9/219/10/219/11/219/12/219/13/219/14/219/15/219/16/219/17/219/18/219/19/219/20/219/21/219/22/219/23/219/24/219/25/219/26/219/27/219/28/219/29/219/30/2110/1/2110/2/2110/3/2110/4/2110/5/2110/6/2110/7/2110/8/2110/9/2110/10/2110/11/2110/12/2110/13/2110/14/2110/15/2110/16/2110/17/2110/18/2110/19/2110/20/2110/21/2110/22/2110/23/2110/24/2110/25/2110/26/2110/27/2110/28/2110/29/2110/30/2110/31/2111/1/2111/2/2111/3/2111/4/2111/5/2111/6/2111/7/2111/8/2111/9/2111/10/2111/11/2111/12/2111/13/2111/14/2111/15/2111/16/2111/17/2111/18/2111/19/2111/20/2111/21/2111/22/2111/23/2111/24/2111/25/2111/26/2111/27/2111/28/2111/29/2111/30/2112/1/2112/2/2112/3/2112/4/2112/5/2112/6/2112/7/2112/8/2112/9/2112/10/2112/11/2112/12/2112/13/2112/14/2112/15/2112/16/2112/17/2112/18/2112/19/2112/20/2112/21/2112/22/2112/23/2112/24/2112/25/2112/26/2112/27/2112/28/2112/29/2112/30/2112/31/211/1/221/2/221/3/221/4/221/5/221/6/221/7/221/8/221/9/221/10/221/11/221/12/221/13/221/14/221/15/221/16/221/17/221/18/221/19/221/20/221/21/221/22/221/23/221/24/221/25/221/26/221/27/221/28/221/29/221/30/221/31/222/1/222/2/222/3/222/4/222/5/222/6/222/7/222/8/222/9/222/10/222/11/222/12/222/13/222/14/222/15/222/16/222/17/222/18/222/19/222/20/222/21/222/22/222/23/222/24/222/25/222/26/222/27/222/28/223/1/223/2/223/3/223/4/223/5/223/6/223/7/223/8/223/9/223/10/223/11/223/12/223/13/223/14/223/15/223/16/223/17/223/18/223/19/223/20/223/21/223/22/223/23/223/24/223/25/223/26/223/27/223/28/223/29/223/30/223/31/224/1/224/2/224/3/224/4/224/5/224/6/224/7/224/8/224/9/224/10/224/11/224/12/224/13/224/14/224/15/224/16/224/17/224/18/224/19/224/20/224/21/224/22/224/23/224/24/224/25/224/26/224/27/224/28/224/29/224/30/225/1/225/2/225/3/225/4/225/5/225/6/225/7/225/8/225/9/225/10/225/11/225/12/225/13/225/14/225/15/225/16/225/17/225/18/225/19/225/20/225/21/225/22/225/23/225/24/225/25/225/26/225/27/225/28/225/29/225/30/225/31/226/1/226/2/226/3/226/4/226/5/226/6/226/7/226/8/226/9/226/10/226/11/226/12/226/13/226/14/226/15/226/16/226/17/226/18/226/19/226/20/226/21/226/22/226/23/226/24/226/25/226/26/226/27/226/28/226/29/226/30/227/1/227/2/227/3/227/4/227/5/227/6/227/7/227/8/227/9/227/10/227/11/227/12/227/13/227/14/227/15/227/16/227/17/227/18/227/19/227/20/227/21/227/22/227/23/227/24/227/25/227/26/227/27/227/28/227/29/227/30/227/31/228/1/228/2/228/3/228/4/228/5/228/6/228/7/228/8/228/9/228/10/228/11/228/12/228/13/228/14/228/15/228/16/228/17/228/18/228/19/228/20/228/21/228/22/228/23/228/24/228/25/228/26/228/27/228/28/228/29/228/30/228/31/229/1/229/2/229/3/229/4/229/5/229/6/229/7/229/8/229/9/229/10/229/11/229/12/229/13/229/14/229/15/229/16/229/17/229/18/229/19/229/20/229/21/229/22/229/23/229/24/229/25/229/26/229/27/229/28/229/29/229/30/2210/1/2210/2/2210/3/2210/4/2210/5/2210/6/2210/7/2210/8/2210/9/2210/10/2210/11/2210/12/2210/13/2210/14/2210/15/2210/16/2210/17/2210/18/2210/19/2210/20/2210/21/2210/22/2210/23/2210/24/2210/25/2210/26/2210/27/2210/28/2210/29/2210/30/2210/31/2211/1/2211/2/2211/3/2211/4/2211/5/2211/6/2211/7/2211/8/2211/9/2211/10/2211/11/2211/12/2211/13/2211/14/2211/15/2211/16/2211/17/2211/18/2211/19/2211/20/2211/21/2211/22/2211/23/2211/24/2211/25/2211/26/2211/27/2211/28/2211/29/2211/30/2212/1/2212/2/2212/3/2212/4/2212/5/2212/6/2212/7/2212/8/2212/9/2212/10/2212/11/2212/12/2212/13/2212/14/2212/15/2212/16/2212/17/2212/18/2212/19/2212/20/2212/21/2212/22/2212/23/2212/24/2212/25/2212/26/2212/27/2212/28/2212/29/2212/30/2212/31/221/1/231/2/23",
                  "300566751",
                  "15611724",
                  "5.194095470659694"
                ],
                [
                  "Somalia",
                  "0",
                  "5548.864473",
                  "49756.986432",
                  "1/22/201/23/201/24/201/25/201/26/201/27/201/28/201/29/201/30/201/31/202/1/202/2/202/3/202/4/202/5/202/6/202/7/202/8/202/9/202/10/202/11/202/12/202/13/202/14/202/15/202/16/202/17/202/18/202/19/202/20/202/21/202/22/202/23/202/24/202/25/202/26/202/27/202/28/202/29/203/1/203/2/203/3/203/4/203/5/203/6/203/7/203/8/203/9/203/10/203/11/203/12/203/13/203/14/203/15/203/16/203/17/203/18/203/19/203/20/203/21/203/22/203/23/203/24/203/25/203/26/203/27/203/28/203/29/203/30/203/31/204/1/204/2/204/3/204/4/204/5/204/6/204/7/204/8/204/9/204/10/204/11/204/12/204/13/204/14/204/15/204/16/204/17/204/18/204/19/204/20/204/21/204/22/204/23/204/24/204/25/204/26/204/27/204/28/204/29/204/30/205/1/205/2/205/3/205/4/205/5/205/6/205/7/205/8/205/9/205/10/205/11/205/12/205/13/205/14/205/15/205/16/205/17/205/18/205/19/205/20/205/21/205/22/205/23/205/24/205/25/205/26/205/27/205/28/205/29/205/30/205/31/206/1/206/2/206/3/206/4/206/5/206/6/206/7/206/8/206/9/206/10/206/11/206/12/206/13/206/14/206/15/206/16/206/17/206/18/206/19/206/20/206/21/206/22/206/23/206/24/206/25/206/26/206/27/206/28/206/29/206/30/207/1/207/2/207/3/207/4/207/5/207/6/207/7/207/8/207/9/207/10/207/11/207/12/207/13/207/14/207/15/207/16/207/17/207/18/207/19/207/20/207/21/207/22/207/23/207/24/207/25/207/26/207/27/207/28/207/29/207/30/207/31/208/1/208/2/208/3/208/4/208/5/208/6/208/7/208/8/208/9/208/10/208/11/208/12/208/13/208/14/208/15/208/16/208/17/208/18/208/19/208/20/208/21/208/22/208/23/208/24/208/25/208/26/208/27/208/28/208/29/208/30/208/31/209/1/209/2/209/3/209/4/209/5/209/6/209/7/209/8/209/9/209/10/209/11/209/12/209/13/209/14/209/15/209/16/209/17/209/18/209/19/209/20/209/21/209/22/209/23/209/24/209/25/209/26/209/27/209/28/209/29/209/30/2010/1/2010/2/2010/3/2010/4/2010/5/2010/6/2010/7/2010/8/2010/9/2010/10/2010/11/2010/12/2010/13/2010/14/2010/15/2010/16/2010/17/2010/18/2010/19/2010/20/2010/21/2010/22/2010/23/2010/24/2010/25/2010/26/2010/27/2010/28/2010/29/2010/30/2010/31/2011/1/2011/2/2011/3/2011/4/2011/5/2011/6/2011/7/2011/8/2011/9/2011/10/2011/11/2011/12/2011/13/2011/14/2011/15/2011/16/2011/17/2011/18/2011/19/2011/20/2011/21/2011/22/2011/23/2011/24/2011/25/2011/26/2011/27/2011/28/2011/29/2011/30/2012/1/2012/2/2012/3/2012/4/2012/5/2012/6/2012/7/2012/8/2012/9/2012/10/2012/11/2012/12/2012/13/2012/14/2012/15/2012/16/2012/17/2012/18/2012/19/2012/20/2012/21/2012/22/2012/23/2012/24/2012/25/2012/26/2012/27/2012/28/2012/29/2012/30/2012/31/201/1/211/2/211/3/211/4/211/5/211/6/211/7/211/8/211/9/211/10/211/11/211/12/211/13/211/14/211/15/211/16/211/17/211/18/211/19/211/20/211/21/211/22/211/23/211/24/211/25/211/26/211/27/211/28/211/29/211/30/211/31/212/1/212/2/212/3/212/4/212/5/212/6/212/7/212/8/212/9/212/10/212/11/212/12/212/13/212/14/212/15/212/16/212/17/212/18/212/19/212/20/212/21/212/22/212/23/212/24/212/25/212/26/212/27/212/28/213/1/213/2/213/3/213/4/213/5/213/6/213/7/213/8/213/9/213/10/213/11/213/12/213/13/213/14/213/15/213/16/213/17/213/18/213/19/213/20/213/21/213/22/213/23/213/24/213/25/213/26/213/27/213/28/213/29/213/30/213/31/214/1/214/2/214/3/214/4/214/5/214/6/214/7/214/8/214/9/214/10/214/11/214/12/214/13/214/14/214/15/214/16/214/17/214/18/214/19/214/20/214/21/214/22/214/23/214/24/214/25/214/26/214/27/214/28/214/29/214/30/215/1/215/2/215/3/215/4/215/5/215/6/215/7/215/8/215/9/215/10/215/11/215/12/215/13/215/14/215/15/215/16/215/17/215/18/215/19/215/20/215/21/215/22/215/23/215/24/215/25/215/26/215/27/215/28/215/29/215/30/215/31/216/1/216/2/216/3/216/4/216/5/216/6/216/7/216/8/216/9/216/10/216/11/216/12/216/13/216/14/216/15/216/16/216/17/216/18/216/19/216/20/216/21/216/22/216/23/216/24/216/25/216/26/216/27/216/28/216/29/216/30/217/1/217/2/217/3/217/4/217/5/217/6/217/7/217/8/217/9/217/10/217/11/217/12/217/13/217/14/217/15/217/16/217/17/217/18/217/19/217/20/217/21/217/22/217/23/217/24/217/25/217/26/217/27/217/28/217/29/217/30/217/31/218/1/218/2/218/3/218/4/218/5/218/6/218/7/218/8/218/9/218/10/218/11/218/12/218/13/218/14/218/15/218/16/218/17/218/18/218/19/218/20/218/21/218/22/218/23/218/24/218/25/218/26/218/27/218/28/218/29/218/30/218/31/219/1/219/2/219/3/219/4/219/5/219/6/219/7/219/8/219/9/219/10/219/11/219/12/219/13/219/14/219/15/219/16/219/17/219/18/219/19/219/20/219/21/219/22/219/23/219/24/219/25/219/26/219/27/219/28/219/29/219/30/2110/1/2110/2/2110/3/2110/4/2110/5/2110/6/2110/7/2110/8/2110/9/2110/10/2110/11/2110/12/2110/13/2110/14/2110/15/2110/16/2110/17/2110/18/2110/19/2110/20/2110/21/2110/22/2110/23/2110/24/2110/25/2110/26/2110/27/2110/28/2110/29/2110/30/2110/31/2111/1/2111/2/2111/3/2111/4/2111/5/2111/6/2111/7/2111/8/2111/9/2111/10/2111/11/2111/12/2111/13/2111/14/2111/15/2111/16/2111/17/2111/18/2111/19/2111/20/2111/21/2111/22/2111/23/2111/24/2111/25/2111/26/2111/27/2111/28/2111/29/2111/30/2112/1/2112/2/2112/3/2112/4/2112/5/2112/6/2112/7/2112/8/2112/9/2112/10/2112/11/2112/12/2112/13/2112/14/2112/15/2112/16/2112/17/2112/18/2112/19/2112/20/2112/21/2112/22/2112/23/2112/24/2112/25/2112/26/2112/27/2112/28/2112/29/2112/30/2112/31/211/1/221/2/221/3/221/4/221/5/221/6/221/7/221/8/221/9/221/10/221/11/221/12/221/13/221/14/221/15/221/16/221/17/221/18/221/19/221/20/221/21/221/22/221/23/221/24/221/25/221/26/221/27/221/28/221/29/221/30/221/31/222/1/222/2/222/3/222/4/222/5/222/6/222/7/222/8/222/9/222/10/222/11/222/12/222/13/222/14/222/15/222/16/222/17/222/18/222/19/222/20/222/21/222/22/222/23/222/24/222/25/222/26/222/27/222/28/223/1/223/2/223/3/223/4/223/5/223/6/223/7/223/8/223/9/223/10/223/11/223/12/223/13/223/14/223/15/223/16/223/17/223/18/223/19/223/20/223/21/223/22/223/23/223/24/223/25/223/26/223/27/223/28/223/29/223/30/223/31/224/1/224/2/224/3/224/4/224/5/224/6/224/7/224/8/224/9/224/10/224/11/224/12/224/13/224/14/224/15/224/16/224/17/224/18/224/19/224/20/224/21/224/22/224/23/224/24/224/25/224/26/224/27/224/28/224/29/224/30/225/1/225/2/225/3/225/4/225/5/225/6/225/7/225/8/225/9/225/10/225/11/225/12/225/13/225/14/225/15/225/16/225/17/225/18/225/19/225/20/225/21/225/22/225/23/225/24/225/25/225/26/225/27/225/28/225/29/225/30/225/31/226/1/226/2/226/3/226/4/226/5/226/6/226/7/226/8/226/9/226/10/226/11/226/12/226/13/226/14/226/15/226/16/226/17/226/18/226/19/226/20/226/21/226/22/226/23/226/24/226/25/226/26/226/27/226/28/226/29/226/30/227/1/227/2/227/3/227/4/227/5/227/6/227/7/227/8/227/9/227/10/227/11/227/12/227/13/227/14/227/15/227/16/227/17/227/18/227/19/227/20/227/21/227/22/227/23/227/24/227/25/227/26/227/27/227/28/227/29/227/30/227/31/228/1/228/2/228/3/228/4/228/5/228/6/228/7/228/8/228/9/228/10/228/11/228/12/228/13/228/14/228/15/228/16/228/17/228/18/228/19/228/20/228/21/228/22/228/23/228/24/228/25/228/26/228/27/228/28/228/29/228/30/228/31/229/1/229/2/229/3/229/4/229/5/229/6/229/7/229/8/229/9/229/10/229/11/229/12/229/13/229/14/229/15/229/16/229/17/229/18/229/19/229/20/229/21/229/22/229/23/229/24/229/25/229/26/229/27/229/28/229/29/229/30/2210/1/2210/2/2210/3/2210/4/2210/5/2210/6/2210/7/2210/8/2210/9/2210/10/2210/11/2210/12/2210/13/2210/14/2210/15/2210/16/2210/17/2210/18/2210/19/2210/20/2210/21/2210/22/2210/23/2210/24/2210/25/2210/26/2210/27/2210/28/2210/29/2210/30/2210/31/2211/1/2211/2/2211/3/2211/4/2211/5/2211/6/2211/7/2211/8/2211/9/2211/10/2211/11/2211/12/2211/13/2211/14/2211/15/2211/16/2211/17/2211/18/2211/19/2211/20/2211/21/2211/22/2211/23/2211/24/2211/25/2211/26/2211/27/2211/28/2211/29/2211/30/2212/1/2212/2/2212/3/2212/4/2212/5/2212/6/2212/7/2212/8/2212/9/2212/10/2212/11/2212/12/2212/13/2212/14/2212/15/2212/16/2212/17/2212/18/2212/19/2212/20/2212/21/2212/22/2212/23/2212/24/2212/25/2212/26/2212/27/2212/28/2212/29/2212/30/2212/31/221/1/231/2/23",
                  "16061009",
                  "807892",
                  "5.030144743708194"
                ],
                [
                  "Ecuador",
                  "0",
                  "-1972.2024",
                  "-84203.5218",
                  "1/22/201/23/201/24/201/25/201/26/201/27/201/28/201/29/201/30/201/31/202/1/202/2/202/3/202/4/202/5/202/6/202/7/202/8/202/9/202/10/202/11/202/12/202/13/202/14/202/15/202/16/202/17/202/18/202/19/202/20/202/21/202/22/202/23/202/24/202/25/202/26/202/27/202/28/202/29/203/1/203/2/203/3/203/4/203/5/203/6/203/7/203/8/203/9/203/10/203/11/203/12/203/13/203/14/203/15/203/16/203/17/203/18/203/19/203/20/203/21/203/22/203/23/203/24/203/25/203/26/203/27/203/28/203/29/203/30/203/31/204/1/204/2/204/3/204/4/204/5/204/6/204/7/204/8/204/9/204/10/204/11/204/12/204/13/204/14/204/15/204/16/204/17/204/18/204/19/204/20/204/21/204/22/204/23/204/24/204/25/204/26/204/27/204/28/204/29/204/30/205/1/205/2/205/3/205/4/205/5/205/6/205/7/205/8/205/9/205/10/205/11/205/12/205/13/205/14/205/15/205/16/205/17/205/18/205/19/205/20/205/21/205/22/205/23/205/24/205/25/205/26/205/27/205/28/205/29/205/30/205/31/206/1/206/2/206/3/206/4/206/5/206/6/206/7/206/8/206/9/206/10/206/11/206/12/206/13/206/14/206/15/206/16/206/17/206/18/206/19/206/20/206/21/206/22/206/23/206/24/206/25/206/26/206/27/206/28/206/29/206/30/207/1/207/2/207/3/207/4/207/5/207/6/207/7/207/8/207/9/207/10/207/11/207/12/207/13/207/14/207/15/207/16/207/17/207/18/207/19/207/20/207/21/207/22/207/23/207/24/207/25/207/26/207/27/207/28/207/29/207/30/207/31/208/1/208/2/208/3/208/4/208/5/208/6/208/7/208/8/208/9/208/10/208/11/208/12/208/13/208/14/208/15/208/16/208/17/208/18/208/19/208/20/208/21/208/22/208/23/208/24/208/25/208/26/208/27/208/28/208/29/208/30/208/31/209/1/209/2/209/3/209/4/209/5/209/6/209/7/209/8/209/9/209/10/209/11/209/12/209/13/209/14/209/15/209/16/209/17/209/18/209/19/209/20/209/21/209/22/209/23/209/24/209/25/209/26/209/27/209/28/209/29/209/30/2010/1/2010/2/2010/3/2010/4/2010/5/2010/6/2010/7/2010/8/2010/9/2010/10/2010/11/2010/12/2010/13/2010/14/2010/15/2010/16/2010/17/2010/18/2010/19/2010/20/2010/21/2010/22/2010/23/2010/24/2010/25/2010/26/2010/27/2010/28/2010/29/2010/30/2010/31/2011/1/2011/2/2011/3/2011/4/2011/5/2011/6/2011/7/2011/8/2011/9/2011/10/2011/11/2011/12/2011/13/2011/14/2011/15/2011/16/2011/17/2011/18/2011/19/2011/20/2011/21/2011/22/2011/23/2011/24/2011/25/2011/26/2011/27/2011/28/2011/29/2011/30/2012/1/2012/2/2012/3/2012/4/2012/5/2012/6/2012/7/2012/8/2012/9/2012/10/2012/11/2012/12/2012/13/2012/14/2012/15/2012/16/2012/17/2012/18/2012/19/2012/20/2012/21/2012/22/2012/23/2012/24/2012/25/2012/26/2012/27/2012/28/2012/29/2012/30/2012/31/201/1/211/2/211/3/211/4/211/5/211/6/211/7/211/8/211/9/211/10/211/11/211/12/211/13/211/14/211/15/211/16/211/17/211/18/211/19/211/20/211/21/211/22/211/23/211/24/211/25/211/26/211/27/211/28/211/29/211/30/211/31/212/1/212/2/212/3/212/4/212/5/212/6/212/7/212/8/212/9/212/10/212/11/212/12/212/13/212/14/212/15/212/16/212/17/212/18/212/19/212/20/212/21/212/22/212/23/212/24/212/25/212/26/212/27/212/28/213/1/213/2/213/3/213/4/213/5/213/6/213/7/213/8/213/9/213/10/213/11/213/12/213/13/213/14/213/15/213/16/213/17/213/18/213/19/213/20/213/21/213/22/213/23/213/24/213/25/213/26/213/27/213/28/213/29/213/30/213/31/214/1/214/2/214/3/214/4/214/5/214/6/214/7/214/8/214/9/214/10/214/11/214/12/214/13/214/14/214/15/214/16/214/17/214/18/214/19/214/20/214/21/214/22/214/23/214/24/214/25/214/26/214/27/214/28/214/29/214/30/215/1/215/2/215/3/215/4/215/5/215/6/215/7/215/8/215/9/215/10/215/11/215/12/215/13/215/14/215/15/215/16/215/17/215/18/215/19/215/20/215/21/215/22/215/23/215/24/215/25/215/26/215/27/215/28/215/29/215/30/215/31/216/1/216/2/216/3/216/4/216/5/216/6/216/7/216/8/216/9/216/10/216/11/216/12/216/13/216/14/216/15/216/16/216/17/216/18/216/19/216/20/216/21/216/22/216/23/216/24/216/25/216/26/216/27/216/28/216/29/216/30/217/1/217/2/217/3/217/4/217/5/217/6/217/7/217/8/217/9/217/10/217/11/217/12/217/13/217/14/217/15/217/16/217/17/217/18/217/19/217/20/217/21/217/22/217/23/217/24/217/25/217/26/217/27/217/28/217/29/217/30/217/31/218/1/218/2/218/3/218/4/218/5/218/6/218/7/218/8/218/9/218/10/218/11/218/12/218/13/218/14/218/15/218/16/218/17/218/18/218/19/218/20/218/21/218/22/218/23/218/24/218/25/218/26/218/27/218/28/218/29/218/30/218/31/219/1/219/2/219/3/219/4/219/5/219/6/219/7/219/8/219/9/219/10/219/11/219/12/219/13/219/14/219/15/219/16/219/17/219/18/219/19/219/20/219/21/219/22/219/23/219/24/219/25/219/26/219/27/219/28/219/29/219/30/2110/1/2110/2/2110/3/2110/4/2110/5/2110/6/2110/7/2110/8/2110/9/2110/10/2110/11/2110/12/2110/13/2110/14/2110/15/2110/16/2110/17/2110/18/2110/19/2110/20/2110/21/2110/22/2110/23/2110/24/2110/25/2110/26/2110/27/2110/28/2110/29/2110/30/2110/31/2111/1/2111/2/2111/3/2111/4/2111/5/2111/6/2111/7/2111/8/2111/9/2111/10/2111/11/2111/12/2111/13/2111/14/2111/15/2111/16/2111/17/2111/18/2111/19/2111/20/2111/21/2111/22/2111/23/2111/24/2111/25/2111/26/2111/27/2111/28/2111/29/2111/30/2112/1/2112/2/2112/3/2112/4/2112/5/2112/6/2112/7/2112/8/2112/9/2112/10/2112/11/2112/12/2112/13/2112/14/2112/15/2112/16/2112/17/2112/18/2112/19/2112/20/2112/21/2112/22/2112/23/2112/24/2112/25/2112/26/2112/27/2112/28/2112/29/2112/30/2112/31/211/1/221/2/221/3/221/4/221/5/221/6/221/7/221/8/221/9/221/10/221/11/221/12/221/13/221/14/221/15/221/16/221/17/221/18/221/19/221/20/221/21/221/22/221/23/221/24/221/25/221/26/221/27/221/28/221/29/221/30/221/31/222/1/222/2/222/3/222/4/222/5/222/6/222/7/222/8/222/9/222/10/222/11/222/12/222/13/222/14/222/15/222/16/222/17/222/18/222/19/222/20/222/21/222/22/222/23/222/24/222/25/222/26/222/27/222/28/223/1/223/2/223/3/223/4/223/5/223/6/223/7/223/8/223/9/223/10/223/11/223/12/223/13/223/14/223/15/223/16/223/17/223/18/223/19/223/20/223/21/223/22/223/23/223/24/223/25/223/26/223/27/223/28/223/29/223/30/223/31/224/1/224/2/224/3/224/4/224/5/224/6/224/7/224/8/224/9/224/10/224/11/224/12/224/13/224/14/224/15/224/16/224/17/224/18/224/19/224/20/224/21/224/22/224/23/224/24/224/25/224/26/224/27/224/28/224/29/224/30/225/1/225/2/225/3/225/4/225/5/225/6/225/7/225/8/225/9/225/10/225/11/225/12/225/13/225/14/225/15/225/16/225/17/225/18/225/19/225/20/225/21/225/22/225/23/225/24/225/25/225/26/225/27/225/28/225/29/225/30/225/31/226/1/226/2/226/3/226/4/226/5/226/6/226/7/226/8/226/9/226/10/226/11/226/12/226/13/226/14/226/15/226/16/226/17/226/18/226/19/226/20/226/21/226/22/226/23/226/24/226/25/226/26/226/27/226/28/226/29/226/30/227/1/227/2/227/3/227/4/227/5/227/6/227/7/227/8/227/9/227/10/227/11/227/12/227/13/227/14/227/15/227/16/227/17/227/18/227/19/227/20/227/21/227/22/227/23/227/24/227/25/227/26/227/27/227/28/227/29/227/30/227/31/228/1/228/2/228/3/228/4/228/5/228/6/228/7/228/8/228/9/228/10/228/11/228/12/228/13/228/14/228/15/228/16/228/17/228/18/228/19/228/20/228/21/228/22/228/23/228/24/228/25/228/26/228/27/228/28/228/29/228/30/228/31/229/1/229/2/229/3/229/4/229/5/229/6/229/7/229/8/229/9/229/10/229/11/229/12/229/13/229/14/229/15/229/16/229/17/229/18/229/19/229/20/229/21/229/22/229/23/229/24/229/25/229/26/229/27/229/28/229/29/229/30/2210/1/2210/2/2210/3/2210/4/2210/5/2210/6/2210/7/2210/8/2210/9/2210/10/2210/11/2210/12/2210/13/2210/14/2210/15/2210/16/2210/17/2210/18/2210/19/2210/20/2210/21/2210/22/2210/23/2210/24/2210/25/2210/26/2210/27/2210/28/2210/29/2210/30/2210/31/2211/1/2211/2/2211/3/2211/4/2211/5/2211/6/2211/7/2211/8/2211/9/2211/10/2211/11/2211/12/2211/13/2211/14/2211/15/2211/16/2211/17/2211/18/2211/19/2211/20/2211/21/2211/22/2211/23/2211/24/2211/25/2211/26/2211/27/2211/28/2211/29/2211/30/2212/1/2212/2/2212/3/2212/4/2212/5/2212/6/2212/7/2212/8/2212/9/2212/10/2212/11/2212/12/2212/13/2212/14/2212/15/2212/16/2212/17/2212/18/2212/19/2212/20/2212/21/2212/22/2212/23/2212/24/2212/25/2212/26/2212/27/2212/28/2212/29/2212/30/2212/31/221/1/231/2/23",
                  "514796144",
                  "24067867",
                  "4.675222858701133"
                ],
                [
                  "Afghanistan",
                  "0",
                  "36552.42147",
                  "72923.619381",
                  "1/22/201/23/201/24/201/25/201/26/201/27/201/28/201/29/201/30/201/31/202/1/202/2/202/3/202/4/202/5/202/6/202/7/202/8/202/9/202/10/202/11/202/12/202/13/202/14/202/15/202/16/202/17/202/18/202/19/202/20/202/21/202/22/202/23/202/24/202/25/202/26/202/27/202/28/202/29/203/1/203/2/203/3/203/4/203/5/203/6/203/7/203/8/203/9/203/10/203/11/203/12/203/13/203/14/203/15/203/16/203/17/203/18/203/19/203/20/203/21/203/22/203/23/203/24/203/25/203/26/203/27/203/28/203/29/203/30/203/31/204/1/204/2/204/3/204/4/204/5/204/6/204/7/204/8/204/9/204/10/204/11/204/12/204/13/204/14/204/15/204/16/204/17/204/18/204/19/204/20/204/21/204/22/204/23/204/24/204/25/204/26/204/27/204/28/204/29/204/30/205/1/205/2/205/3/205/4/205/5/205/6/205/7/205/8/205/9/205/10/205/11/205/12/205/13/205/14/205/15/205/16/205/17/205/18/205/19/205/20/205/21/205/22/205/23/205/24/205/25/205/26/205/27/205/28/205/29/205/30/205/31/206/1/206/2/206/3/206/4/206/5/206/6/206/7/206/8/206/9/206/10/206/11/206/12/206/13/206/14/206/15/206/16/206/17/206/18/206/19/206/20/206/21/206/22/206/23/206/24/206/25/206/26/206/27/206/28/206/29/206/30/207/1/207/2/207/3/207/4/207/5/207/6/207/7/207/8/207/9/207/10/207/11/207/12/207/13/207/14/207/15/207/16/207/17/207/18/207/19/207/20/207/21/207/22/207/23/207/24/207/25/207/26/207/27/207/28/207/29/207/30/207/31/208/1/208/2/208/3/208/4/208/5/208/6/208/7/208/8/208/9/208/10/208/11/208/12/208/13/208/14/208/15/208/16/208/17/208/18/208/19/208/20/208/21/208/22/208/23/208/24/208/25/208/26/208/27/208/28/208/29/208/30/208/31/209/1/209/2/209/3/209/4/209/5/209/6/209/7/209/8/209/9/209/10/209/11/209/12/209/13/209/14/209/15/209/16/209/17/209/18/209/19/209/20/209/21/209/22/209/23/209/24/209/25/209/26/209/27/209/28/209/29/209/30/2010/1/2010/2/2010/3/2010/4/2010/5/2010/6/2010/7/2010/8/2010/9/2010/10/2010/11/2010/12/2010/13/2010/14/2010/15/2010/16/2010/17/2010/18/2010/19/2010/20/2010/21/2010/22/2010/23/2010/24/2010/25/2010/26/2010/27/2010/28/2010/29/2010/30/2010/31/2011/1/2011/2/2011/3/2011/4/2011/5/2011/6/2011/7/2011/8/2011/9/2011/10/2011/11/2011/12/2011/13/2011/14/2011/15/2011/16/2011/17/2011/18/2011/19/2011/20/2011/21/2011/22/2011/23/2011/24/2011/25/2011/26/2011/27/2011/28/2011/29/2011/30/2012/1/2012/2/2012/3/2012/4/2012/5/2012/6/2012/7/2012/8/2012/9/2012/10/2012/11/2012/12/2012/13/2012/14/2012/15/2012/16/2012/17/2012/18/2012/19/2012/20/2012/21/2012/22/2012/23/2012/24/2012/25/2012/26/2012/27/2012/28/2012/29/2012/30/2012/31/201/1/211/2/211/3/211/4/211/5/211/6/211/7/211/8/211/9/211/10/211/11/211/12/211/13/211/14/211/15/211/16/211/17/211/18/211/19/211/20/211/21/211/22/211/23/211/24/211/25/211/26/211/27/211/28/211/29/211/30/211/31/212/1/212/2/212/3/212/4/212/5/212/6/212/7/212/8/212/9/212/10/212/11/212/12/212/13/212/14/212/15/212/16/212/17/212/18/212/19/212/20/212/21/212/22/212/23/212/24/212/25/212/26/212/27/212/28/213/1/213/2/213/3/213/4/213/5/213/6/213/7/213/8/213/9/213/10/213/11/213/12/213/13/213/14/213/15/213/16/213/17/213/18/213/19/213/20/213/21/213/22/213/23/213/24/213/25/213/26/213/27/213/28/213/29/213/30/213/31/214/1/214/2/214/3/214/4/214/5/214/6/214/7/214/8/214/9/214/10/214/11/214/12/214/13/214/14/214/15/214/16/214/17/214/18/214/19/214/20/214/21/214/22/214/23/214/24/214/25/214/26/214/27/214/28/214/29/214/30/215/1/215/2/215/3/215/4/215/5/215/6/215/7/215/8/215/9/215/10/215/11/215/12/215/13/215/14/215/15/215/16/215/17/215/18/215/19/215/20/215/21/215/22/215/23/215/24/215/25/215/26/215/27/215/28/215/29/215/30/215/31/216/1/216/2/216/3/216/4/216/5/216/6/216/7/216/8/216/9/216/10/216/11/216/12/216/13/216/14/216/15/216/16/216/17/216/18/216/19/216/20/216/21/216/22/216/23/216/24/216/25/216/26/216/27/216/28/216/29/216/30/217/1/217/2/217/3/217/4/217/5/217/6/217/7/217/8/217/9/217/10/217/11/217/12/217/13/217/14/217/15/217/16/217/17/217/18/217/19/217/20/217/21/217/22/217/23/217/24/217/25/217/26/217/27/217/28/217/29/217/30/217/31/218/1/218/2/218/3/218/4/218/5/218/6/218/7/218/8/218/9/218/10/218/11/218/12/218/13/218/14/218/15/218/16/218/17/218/18/218/19/218/20/218/21/218/22/218/23/218/24/218/25/218/26/218/27/218/28/218/29/218/30/218/31/219/1/219/2/219/3/219/4/219/5/219/6/219/7/219/8/219/9/219/10/219/11/219/12/219/13/219/14/219/15/219/16/219/17/219/18/219/19/219/20/219/21/219/22/219/23/219/24/219/25/219/26/219/27/219/28/219/29/219/30/2110/1/2110/2/2110/3/2110/4/2110/5/2110/6/2110/7/2110/8/2110/9/2110/10/2110/11/2110/12/2110/13/2110/14/2110/15/2110/16/2110/17/2110/18/2110/19/2110/20/2110/21/2110/22/2110/23/2110/24/2110/25/2110/26/2110/27/2110/28/2110/29/2110/30/2110/31/2111/1/2111/2/2111/3/2111/4/2111/5/2111/6/2111/7/2111/8/2111/9/2111/10/2111/11/2111/12/2111/13/2111/14/2111/15/2111/16/2111/17/2111/18/2111/19/2111/20/2111/21/2111/22/2111/23/2111/24/2111/25/2111/26/2111/27/2111/28/2111/29/2111/30/2112/1/2112/2/2112/3/2112/4/2112/5/2112/6/2112/7/2112/8/2112/9/2112/10/2112/11/2112/12/2112/13/2112/14/2112/15/2112/16/2112/17/2112/18/2112/19/2112/20/2112/21/2112/22/2112/23/2112/24/2112/25/2112/26/2112/27/2112/28/2112/29/2112/30/2112/31/211/1/221/2/221/3/221/4/221/5/221/6/221/7/221/8/221/9/221/10/221/11/221/12/221/13/221/14/221/15/221/16/221/17/221/18/221/19/221/20/221/21/221/22/221/23/221/24/221/25/221/26/221/27/221/28/221/29/221/30/221/31/222/1/222/2/222/3/222/4/222/5/222/6/222/7/222/8/222/9/222/10/222/11/222/12/222/13/222/14/222/15/222/16/222/17/222/18/222/19/222/20/222/21/222/22/222/23/222/24/222/25/222/26/222/27/222/28/223/1/223/2/223/3/223/4/223/5/223/6/223/7/223/8/223/9/223/10/223/11/223/12/223/13/223/14/223/15/223/16/223/17/223/18/223/19/223/20/223/21/223/22/223/23/223/24/223/25/223/26/223/27/223/28/223/29/223/30/223/31/224/1/224/2/224/3/224/4/224/5/224/6/224/7/224/8/224/9/224/10/224/11/224/12/224/13/224/14/224/15/224/16/224/17/224/18/224/19/224/20/224/21/224/22/224/23/224/24/224/25/224/26/224/27/224/28/224/29/224/30/225/1/225/2/225/3/225/4/225/5/225/6/225/7/225/8/225/9/225/10/225/11/225/12/225/13/225/14/225/15/225/16/225/17/225/18/225/19/225/20/225/21/225/22/225/23/225/24/225/25/225/26/225/27/225/28/225/29/225/30/225/31/226/1/226/2/226/3/226/4/226/5/226/6/226/7/226/8/226/9/226/10/226/11/226/12/226/13/226/14/226/15/226/16/226/17/226/18/226/19/226/20/226/21/226/22/226/23/226/24/226/25/226/26/226/27/226/28/226/29/226/30/227/1/227/2/227/3/227/4/227/5/227/6/227/7/227/8/227/9/227/10/227/11/227/12/227/13/227/14/227/15/227/16/227/17/227/18/227/19/227/20/227/21/227/22/227/23/227/24/227/25/227/26/227/27/227/28/227/29/227/30/227/31/228/1/228/2/228/3/228/4/228/5/228/6/228/7/228/8/228/9/228/10/228/11/228/12/228/13/228/14/228/15/228/16/228/17/228/18/228/19/228/20/228/21/228/22/228/23/228/24/228/25/228/26/228/27/228/28/228/29/228/30/228/31/229/1/229/2/229/3/229/4/229/5/229/6/229/7/229/8/229/9/229/10/229/11/229/12/229/13/229/14/229/15/229/16/229/17/229/18/229/19/229/20/229/21/229/22/229/23/229/24/229/25/229/26/229/27/229/28/229/29/229/30/2210/1/2210/2/2210/3/2210/4/2210/5/2210/6/2210/7/2210/8/2210/9/2210/10/2210/11/2210/12/2210/13/2210/14/2210/15/2210/16/2210/17/2210/18/2210/19/2210/20/2210/21/2210/22/2210/23/2210/24/2210/25/2210/26/2210/27/2210/28/2210/29/2210/30/2210/31/2211/1/2211/2/2211/3/2211/4/2211/5/2211/6/2211/7/2211/8/2211/9/2211/10/2211/11/2211/12/2211/13/2211/14/2211/15/2211/16/2211/17/2211/18/2211/19/2211/20/2211/21/2211/22/2211/23/2211/24/2211/25/2211/26/2211/27/2211/28/2211/29/2211/30/2212/1/2212/2/2212/3/2212/4/2212/5/2212/6/2212/7/2212/8/2212/9/2212/10/2212/11/2212/12/2212/13/2212/14/2212/15/2212/16/2212/17/2212/18/2212/19/2212/20/2212/21/2212/22/2212/23/2212/24/2212/25/2212/26/2212/27/2212/28/2212/29/2212/30/2212/31/221/1/231/2/23",
                  "116218938",
                  "4901323",
                  "4.21731869551243"
                ],
                [
                  "Bosnia and Herzegovina",
                  "0",
                  "47297.4243",
                  "19040.3907",
                  "1/22/201/23/201/24/201/25/201/26/201/27/201/28/201/29/201/30/201/31/202/1/202/2/202/3/202/4/202/5/202/6/202/7/202/8/202/9/202/10/202/11/202/12/202/13/202/14/202/15/202/16/202/17/202/18/202/19/202/20/202/21/202/22/202/23/202/24/202/25/202/26/202/27/202/28/202/29/203/1/203/2/203/3/203/4/203/5/203/6/203/7/203/8/203/9/203/10/203/11/203/12/203/13/203/14/203/15/203/16/203/17/203/18/203/19/203/20/203/21/203/22/203/23/203/24/203/25/203/26/203/27/203/28/203/29/203/30/203/31/204/1/204/2/204/3/204/4/204/5/204/6/204/7/204/8/204/9/204/10/204/11/204/12/204/13/204/14/204/15/204/16/204/17/204/18/204/19/204/20/204/21/204/22/204/23/204/24/204/25/204/26/204/27/204/28/204/29/204/30/205/1/205/2/205/3/205/4/205/5/205/6/205/7/205/8/205/9/205/10/205/11/205/12/205/13/205/14/205/15/205/16/205/17/205/18/205/19/205/20/205/21/205/22/205/23/205/24/205/25/205/26/205/27/205/28/205/29/205/30/205/31/206/1/206/2/206/3/206/4/206/5/206/6/206/7/206/8/206/9/206/10/206/11/206/12/206/13/206/14/206/15/206/16/206/17/206/18/206/19/206/20/206/21/206/22/206/23/206/24/206/25/206/26/206/27/206/28/206/29/206/30/207/1/207/2/207/3/207/4/207/5/207/6/207/7/207/8/207/9/207/10/207/11/207/12/207/13/207/14/207/15/207/16/207/17/207/18/207/19/207/20/207/21/207/22/207/23/207/24/207/25/207/26/207/27/207/28/207/29/207/30/207/31/208/1/208/2/208/3/208/4/208/5/208/6/208/7/208/8/208/9/208/10/208/11/208/12/208/13/208/14/208/15/208/16/208/17/208/18/208/19/208/20/208/21/208/22/208/23/208/24/208/25/208/26/208/27/208/28/208/29/208/30/208/31/209/1/209/2/209/3/209/4/209/5/209/6/209/7/209/8/209/9/209/10/209/11/209/12/209/13/209/14/209/15/209/16/209/17/209/18/209/19/209/20/209/21/209/22/209/23/209/24/209/25/209/26/209/27/209/28/209/29/209/30/2010/1/2010/2/2010/3/2010/4/2010/5/2010/6/2010/7/2010/8/2010/9/2010/10/2010/11/2010/12/2010/13/2010/14/2010/15/2010/16/2010/17/2010/18/2010/19/2010/20/2010/21/2010/22/2010/23/2010/24/2010/25/2010/26/2010/27/2010/28/2010/29/2010/30/2010/31/2011/1/2011/2/2011/3/2011/4/2011/5/2011/6/2011/7/2011/8/2011/9/2011/10/2011/11/2011/12/2011/13/2011/14/2011/15/2011/16/2011/17/2011/18/2011/19/2011/20/2011/21/2011/22/2011/23/2011/24/2011/25/2011/26/2011/27/2011/28/2011/29/2011/30/2012/1/2012/2/2012/3/2012/4/2012/5/2012/6/2012/7/2012/8/2012/9/2012/10/2012/11/2012/12/2012/13/2012/14/2012/15/2012/16/2012/17/2012/18/2012/19/2012/20/2012/21/2012/22/2012/23/2012/24/2012/25/2012/26/2012/27/2012/28/2012/29/2012/30/2012/31/201/1/211/2/211/3/211/4/211/5/211/6/211/7/211/8/211/9/211/10/211/11/211/12/211/13/211/14/211/15/211/16/211/17/211/18/211/19/211/20/211/21/211/22/211/23/211/24/211/25/211/26/211/27/211/28/211/29/211/30/211/31/212/1/212/2/212/3/212/4/212/5/212/6/212/7/212/8/212/9/212/10/212/11/212/12/212/13/212/14/212/15/212/16/212/17/212/18/212/19/212/20/212/21/212/22/212/23/212/24/212/25/212/26/212/27/212/28/213/1/213/2/213/3/213/4/213/5/213/6/213/7/213/8/213/9/213/10/213/11/213/12/213/13/213/14/213/15/213/16/213/17/213/18/213/19/213/20/213/21/213/22/213/23/213/24/213/25/213/26/213/27/213/28/213/29/213/30/213/31/214/1/214/2/214/3/214/4/214/5/214/6/214/7/214/8/214/9/214/10/214/11/214/12/214/13/214/14/214/15/214/16/214/17/214/18/214/19/214/20/214/21/214/22/214/23/214/24/214/25/214/26/214/27/214/28/214/29/214/30/215/1/215/2/215/3/215/4/215/5/215/6/215/7/215/8/215/9/215/10/215/11/215/12/215/13/215/14/215/15/215/16/215/17/215/18/215/19/215/20/215/21/215/22/215/23/215/24/215/25/215/26/215/27/215/28/215/29/215/30/215/31/216/1/216/2/216/3/216/4/216/5/216/6/216/7/216/8/216/9/216/10/216/11/216/12/216/13/216/14/216/15/216/16/216/17/216/18/216/19/216/20/216/21/216/22/216/23/216/24/216/25/216/26/216/27/216/28/216/29/216/30/217/1/217/2/217/3/217/4/217/5/217/6/217/7/217/8/217/9/217/10/217/11/217/12/217/13/217/14/217/15/217/16/217/17/217/18/217/19/217/20/217/21/217/22/217/23/217/24/217/25/217/26/217/27/217/28/217/29/217/30/217/31/218/1/218/2/218/3/218/4/218/5/218/6/218/7/218/8/218/9/218/10/218/11/218/12/218/13/218/14/218/15/218/16/218/17/218/18/218/19/218/20/218/21/218/22/218/23/218/24/218/25/218/26/218/27/218/28/218/29/218/30/218/31/219/1/219/2/219/3/219/4/219/5/219/6/219/7/219/8/219/9/219/10/219/11/219/12/219/13/219/14/219/15/219/16/219/17/219/18/219/19/219/20/219/21/219/22/219/23/219/24/219/25/219/26/219/27/219/28/219/29/219/30/2110/1/2110/2/2110/3/2110/4/2110/5/2110/6/2110/7/2110/8/2110/9/2110/10/2110/11/2110/12/2110/13/2110/14/2110/15/2110/16/2110/17/2110/18/2110/19/2110/20/2110/21/2110/22/2110/23/2110/24/2110/25/2110/26/2110/27/2110/28/2110/29/2110/30/2110/31/2111/1/2111/2/2111/3/2111/4/2111/5/2111/6/2111/7/2111/8/2111/9/2111/10/2111/11/2111/12/2111/13/2111/14/2111/15/2111/16/2111/17/2111/18/2111/19/2111/20/2111/21/2111/22/2111/23/2111/24/2111/25/2111/26/2111/27/2111/28/2111/29/2111/30/2112/1/2112/2/2112/3/2112/4/2112/5/2112/6/2112/7/2112/8/2112/9/2112/10/2112/11/2112/12/2112/13/2112/14/2112/15/2112/16/2112/17/2112/18/2112/19/2112/20/2112/21/2112/22/2112/23/2112/24/2112/25/2112/26/2112/27/2112/28/2112/29/2112/30/2112/31/211/1/221/2/221/3/221/4/221/5/221/6/221/7/221/8/221/9/221/10/221/11/221/12/221/13/221/14/221/15/221/16/221/17/221/18/221/19/221/20/221/21/221/22/221/23/221/24/221/25/221/26/221/27/221/28/221/29/221/30/221/31/222/1/222/2/222/3/222/4/222/5/222/6/222/7/222/8/222/9/222/10/222/11/222/12/222/13/222/14/222/15/222/16/222/17/222/18/222/19/222/20/222/21/222/22/222/23/222/24/222/25/222/26/222/27/222/28/223/1/223/2/223/3/223/4/223/5/223/6/223/7/223/8/223/9/223/10/223/11/223/12/223/13/223/14/223/15/223/16/223/17/223/18/223/19/223/20/223/21/223/22/223/23/223/24/223/25/223/26/223/27/223/28/223/29/223/30/223/31/224/1/224/2/224/3/224/4/224/5/224/6/224/7/224/8/224/9/224/10/224/11/224/12/224/13/224/14/224/15/224/16/224/17/224/18/224/19/224/20/224/21/224/22/224/23/224/24/224/25/224/26/224/27/224/28/224/29/224/30/225/1/225/2/225/3/225/4/225/5/225/6/225/7/225/8/225/9/225/10/225/11/225/12/225/13/225/14/225/15/225/16/225/17/225/18/225/19/225/20/225/21/225/22/225/23/225/24/225/25/225/26/225/27/225/28/225/29/225/30/225/31/226/1/226/2/226/3/226/4/226/5/226/6/226/7/226/8/226/9/226/10/226/11/226/12/226/13/226/14/226/15/226/16/226/17/226/18/226/19/226/20/226/21/226/22/226/23/226/24/226/25/226/26/226/27/226/28/226/29/226/30/227/1/227/2/227/3/227/4/227/5/227/6/227/7/227/8/227/9/227/10/227/11/227/12/227/13/227/14/227/15/227/16/227/17/227/18/227/19/227/20/227/21/227/22/227/23/227/24/227/25/227/26/227/27/227/28/227/29/227/30/227/31/228/1/228/2/228/3/228/4/228/5/228/6/228/7/228/8/228/9/228/10/228/11/228/12/228/13/228/14/228/15/228/16/228/17/228/18/228/19/228/20/228/21/228/22/228/23/228/24/228/25/228/26/228/27/228/28/228/29/228/30/228/31/229/1/229/2/229/3/229/4/229/5/229/6/229/7/229/8/229/9/229/10/229/11/229/12/229/13/229/14/229/15/229/16/229/17/229/18/229/19/229/20/229/21/229/22/229/23/229/24/229/25/229/26/229/27/229/28/229/29/229/30/2210/1/2210/2/2210/3/2210/4/2210/5/2210/6/2210/7/2210/8/2210/9/2210/10/2210/11/2210/12/2210/13/2210/14/2210/15/2210/16/2210/17/2210/18/2210/19/2210/20/2210/21/2210/22/2210/23/2210/24/2210/25/2210/26/2210/27/2210/28/2210/29/2210/30/2210/31/2211/1/2211/2/2211/3/2211/4/2211/5/2211/6/2211/7/2211/8/2211/9/2211/10/2211/11/2211/12/2211/13/2211/14/2211/15/2211/16/2211/17/2211/18/2211/19/2211/20/2211/21/2211/22/2211/23/2211/24/2211/25/2211/26/2211/27/2211/28/2211/29/2211/30/2212/1/2212/2/2212/3/2212/4/2212/5/2212/6/2212/7/2212/8/2212/9/2212/10/2212/11/2212/12/2212/13/2212/14/2212/15/2212/16/2212/17/2212/18/2212/19/2212/20/2212/21/2212/22/2212/23/2212/24/2212/25/2212/26/2212/27/2212/28/2212/29/2212/30/2212/31/221/1/231/2/23",
                  "221081031",
                  "9273554",
                  "4.194640290057269"
                ],
                [
                  "Liberia",
                  "0",
                  "6923.015235",
                  "-10155.570423",
                  "1/22/201/23/201/24/201/25/201/26/201/27/201/28/201/29/201/30/201/31/202/1/202/2/202/3/202/4/202/5/202/6/202/7/202/8/202/9/202/10/202/11/202/12/202/13/202/14/202/15/202/16/202/17/202/18/202/19/202/20/202/21/202/22/202/23/202/24/202/25/202/26/202/27/202/28/202/29/203/1/203/2/203/3/203/4/203/5/203/6/203/7/203/8/203/9/203/10/203/11/203/12/203/13/203/14/203/15/203/16/203/17/203/18/203/19/203/20/203/21/203/22/203/23/203/24/203/25/203/26/203/27/203/28/203/29/203/30/203/31/204/1/204/2/204/3/204/4/204/5/204/6/204/7/204/8/204/9/204/10/204/11/204/12/204/13/204/14/204/15/204/16/204/17/204/18/204/19/204/20/204/21/204/22/204/23/204/24/204/25/204/26/204/27/204/28/204/29/204/30/205/1/205/2/205/3/205/4/205/5/205/6/205/7/205/8/205/9/205/10/205/11/205/12/205/13/205/14/205/15/205/16/205/17/205/18/205/19/205/20/205/21/205/22/205/23/205/24/205/25/205/26/205/27/205/28/205/29/205/30/205/31/206/1/206/2/206/3/206/4/206/5/206/6/206/7/206/8/206/9/206/10/206/11/206/12/206/13/206/14/206/15/206/16/206/17/206/18/206/19/206/20/206/21/206/22/206/23/206/24/206/25/206/26/206/27/206/28/206/29/206/30/207/1/207/2/207/3/207/4/207/5/207/6/207/7/207/8/207/9/207/10/207/11/207/12/207/13/207/14/207/15/207/16/207/17/207/18/207/19/207/20/207/21/207/22/207/23/207/24/207/25/207/26/207/27/207/28/207/29/207/30/207/31/208/1/208/2/208/3/208/4/208/5/208/6/208/7/208/8/208/9/208/10/208/11/208/12/208/13/208/14/208/15/208/16/208/17/208/18/208/19/208/20/208/21/208/22/208/23/208/24/208/25/208/26/208/27/208/28/208/29/208/30/208/31/209/1/209/2/209/3/209/4/209/5/209/6/209/7/209/8/209/9/209/10/209/11/209/12/209/13/209/14/209/15/209/16/209/17/209/18/209/19/209/20/209/21/209/22/209/23/209/24/209/25/209/26/209/27/209/28/209/29/209/30/2010/1/2010/2/2010/3/2010/4/2010/5/2010/6/2010/7/2010/8/2010/9/2010/10/2010/11/2010/12/2010/13/2010/14/2010/15/2010/16/2010/17/2010/18/2010/19/2010/20/2010/21/2010/22/2010/23/2010/24/2010/25/2010/26/2010/27/2010/28/2010/29/2010/30/2010/31/2011/1/2011/2/2011/3/2011/4/2011/5/2011/6/2011/7/2011/8/2011/9/2011/10/2011/11/2011/12/2011/13/2011/14/2011/15/2011/16/2011/17/2011/18/2011/19/2011/20/2011/21/2011/22/2011/23/2011/24/2011/25/2011/26/2011/27/2011/28/2011/29/2011/30/2012/1/2012/2/2012/3/2012/4/2012/5/2012/6/2012/7/2012/8/2012/9/2012/10/2012/11/2012/12/2012/13/2012/14/2012/15/2012/16/2012/17/2012/18/2012/19/2012/20/2012/21/2012/22/2012/23/2012/24/2012/25/2012/26/2012/27/2012/28/2012/29/2012/30/2012/31/201/1/211/2/211/3/211/4/211/5/211/6/211/7/211/8/211/9/211/10/211/11/211/12/211/13/211/14/211/15/211/16/211/17/211/18/211/19/211/20/211/21/211/22/211/23/211/24/211/25/211/26/211/27/211/28/211/29/211/30/211/31/212/1/212/2/212/3/212/4/212/5/212/6/212/7/212/8/212/9/212/10/212/11/212/12/212/13/212/14/212/15/212/16/212/17/212/18/212/19/212/20/212/21/212/22/212/23/212/24/212/25/212/26/212/27/212/28/213/1/213/2/213/3/213/4/213/5/213/6/213/7/213/8/213/9/213/10/213/11/213/12/213/13/213/14/213/15/213/16/213/17/213/18/213/19/213/20/213/21/213/22/213/23/213/24/213/25/213/26/213/27/213/28/213/29/213/30/213/31/214/1/214/2/214/3/214/4/214/5/214/6/214/7/214/8/214/9/214/10/214/11/214/12/214/13/214/14/214/15/214/16/214/17/214/18/214/19/214/20/214/21/214/22/214/23/214/24/214/25/214/26/214/27/214/28/214/29/214/30/215/1/215/2/215/3/215/4/215/5/215/6/215/7/215/8/215/9/215/10/215/11/215/12/215/13/215/14/215/15/215/16/215/17/215/18/215/19/215/20/215/21/215/22/215/23/215/24/215/25/215/26/215/27/215/28/215/29/215/30/215/31/216/1/216/2/216/3/216/4/216/5/216/6/216/7/216/8/216/9/216/10/216/11/216/12/216/13/216/14/216/15/216/16/216/17/216/18/216/19/216/20/216/21/216/22/216/23/216/24/216/25/216/26/216/27/216/28/216/29/216/30/217/1/217/2/217/3/217/4/217/5/217/6/217/7/217/8/217/9/217/10/217/11/217/12/217/13/217/14/217/15/217/16/217/17/217/18/217/19/217/20/217/21/217/22/217/23/217/24/217/25/217/26/217/27/217/28/217/29/217/30/217/31/218/1/218/2/218/3/218/4/218/5/218/6/218/7/218/8/218/9/218/10/218/11/218/12/218/13/218/14/218/15/218/16/218/17/218/18/218/19/218/20/218/21/218/22/218/23/218/24/218/25/218/26/218/27/218/28/218/29/218/30/218/31/219/1/219/2/219/3/219/4/219/5/219/6/219/7/219/8/219/9/219/10/219/11/219/12/219/13/219/14/219/15/219/16/219/17/219/18/219/19/219/20/219/21/219/22/219/23/219/24/219/25/219/26/219/27/219/28/219/29/219/30/2110/1/2110/2/2110/3/2110/4/2110/5/2110/6/2110/7/2110/8/2110/9/2110/10/2110/11/2110/12/2110/13/2110/14/2110/15/2110/16/2110/17/2110/18/2110/19/2110/20/2110/21/2110/22/2110/23/2110/24/2110/25/2110/26/2110/27/2110/28/2110/29/2110/30/2110/31/2111/1/2111/2/2111/3/2111/4/2111/5/2111/6/2111/7/2111/8/2111/9/2111/10/2111/11/2111/12/2111/13/2111/14/2111/15/2111/16/2111/17/2111/18/2111/19/2111/20/2111/21/2111/22/2111/23/2111/24/2111/25/2111/26/2111/27/2111/28/2111/29/2111/30/2112/1/2112/2/2112/3/2112/4/2112/5/2112/6/2112/7/2112/8/2112/9/2112/10/2112/11/2112/12/2112/13/2112/14/2112/15/2112/16/2112/17/2112/18/2112/19/2112/20/2112/21/2112/22/2112/23/2112/24/2112/25/2112/26/2112/27/2112/28/2112/29/2112/30/2112/31/211/1/221/2/221/3/221/4/221/5/221/6/221/7/221/8/221/9/221/10/221/11/221/12/221/13/221/14/221/15/221/16/221/17/221/18/221/19/221/20/221/21/221/22/221/23/221/24/221/25/221/26/221/27/221/28/221/29/221/30/221/31/222/1/222/2/222/3/222/4/222/5/222/6/222/7/222/8/222/9/222/10/222/11/222/12/222/13/222/14/222/15/222/16/222/17/222/18/222/19/222/20/222/21/222/22/222/23/222/24/222/25/222/26/222/27/222/28/223/1/223/2/223/3/223/4/223/5/223/6/223/7/223/8/223/9/223/10/223/11/223/12/223/13/223/14/223/15/223/16/223/17/223/18/223/19/223/20/223/21/223/22/223/23/223/24/223/25/223/26/223/27/223/28/223/29/223/30/223/31/224/1/224/2/224/3/224/4/224/5/224/6/224/7/224/8/224/9/224/10/224/11/224/12/224/13/224/14/224/15/224/16/224/17/224/18/224/19/224/20/224/21/224/22/224/23/224/24/224/25/224/26/224/27/224/28/224/29/224/30/225/1/225/2/225/3/225/4/225/5/225/6/225/7/225/8/225/9/225/10/225/11/225/12/225/13/225/14/225/15/225/16/225/17/225/18/225/19/225/20/225/21/225/22/225/23/225/24/225/25/225/26/225/27/225/28/225/29/225/30/225/31/226/1/226/2/226/3/226/4/226/5/226/6/226/7/226/8/226/9/226/10/226/11/226/12/226/13/226/14/226/15/226/16/226/17/226/18/226/19/226/20/226/21/226/22/226/23/226/24/226/25/226/26/226/27/226/28/226/29/226/30/227/1/227/2/227/3/227/4/227/5/227/6/227/7/227/8/227/9/227/10/227/11/227/12/227/13/227/14/227/15/227/16/227/17/227/18/227/19/227/20/227/21/227/22/227/23/227/24/227/25/227/26/227/27/227/28/227/29/227/30/227/31/228/1/228/2/228/3/228/4/228/5/228/6/228/7/228/8/228/9/228/10/228/11/228/12/228/13/228/14/228/15/228/16/228/17/228/18/228/19/228/20/228/21/228/22/228/23/228/24/228/25/228/26/228/27/228/28/228/29/228/30/228/31/229/1/229/2/229/3/229/4/229/5/229/6/229/7/229/8/229/9/229/10/229/11/229/12/229/13/229/14/229/15/229/16/229/17/229/18/229/19/229/20/229/21/229/22/229/23/229/24/229/25/229/26/229/27/229/28/229/29/229/30/2210/1/2210/2/2210/3/2210/4/2210/5/2210/6/2210/7/2210/8/2210/9/2210/10/2210/11/2210/12/2210/13/2210/14/2210/15/2210/16/2210/17/2210/18/2210/19/2210/20/2210/21/2210/22/2210/23/2210/24/2210/25/2210/26/2210/27/2210/28/2210/29/2210/30/2210/31/2211/1/2211/2/2211/3/2211/4/2211/5/2211/6/2211/7/2211/8/2211/9/2211/10/2211/11/2211/12/2211/13/2211/14/2211/15/2211/16/2211/17/2211/18/2211/19/2211/20/2211/21/2211/22/2211/23/2211/24/2211/25/2211/26/2211/27/2211/28/2211/29/2211/30/2212/1/2212/2/2212/3/2212/4/2212/5/2212/6/2212/7/2212/8/2212/9/2212/10/2212/11/2212/12/2212/13/2212/14/2212/15/2212/16/2212/17/2212/18/2212/19/2212/20/2212/21/2212/22/2212/23/2212/24/2212/25/2212/26/2212/27/2212/28/2212/29/2212/30/2212/31/221/1/231/2/23",
                  "4492880",
                  "185138",
                  "4.120697637150336"
                ],
                [
                  "Niger",
                  "0",
                  "18963.588753",
                  "8703.954282",
                  "1/22/201/23/201/24/201/25/201/26/201/27/201/28/201/29/201/30/201/31/202/1/202/2/202/3/202/4/202/5/202/6/202/7/202/8/202/9/202/10/202/11/202/12/202/13/202/14/202/15/202/16/202/17/202/18/202/19/202/20/202/21/202/22/202/23/202/24/202/25/202/26/202/27/202/28/202/29/203/1/203/2/203/3/203/4/203/5/203/6/203/7/203/8/203/9/203/10/203/11/203/12/203/13/203/14/203/15/203/16/203/17/203/18/203/19/203/20/203/21/203/22/203/23/203/24/203/25/203/26/203/27/203/28/203/29/203/30/203/31/204/1/204/2/204/3/204/4/204/5/204/6/204/7/204/8/204/9/204/10/204/11/204/12/204/13/204/14/204/15/204/16/204/17/204/18/204/19/204/20/204/21/204/22/204/23/204/24/204/25/204/26/204/27/204/28/204/29/204/30/205/1/205/2/205/3/205/4/205/5/205/6/205/7/205/8/205/9/205/10/205/11/205/12/205/13/205/14/205/15/205/16/205/17/205/18/205/19/205/20/205/21/205/22/205/23/205/24/205/25/205/26/205/27/205/28/205/29/205/30/205/31/206/1/206/2/206/3/206/4/206/5/206/6/206/7/206/8/206/9/206/10/206/11/206/12/206/13/206/14/206/15/206/16/206/17/206/18/206/19/206/20/206/21/206/22/206/23/206/24/206/25/206/26/206/27/206/28/206/29/206/30/207/1/207/2/207/3/207/4/207/5/207/6/207/7/207/8/207/9/207/10/207/11/207/12/207/13/207/14/207/15/207/16/207/17/207/18/207/19/207/20/207/21/207/22/207/23/207/24/207/25/207/26/207/27/207/28/207/29/207/30/207/31/208/1/208/2/208/3/208/4/208/5/208/6/208/7/208/8/208/9/208/10/208/11/208/12/208/13/208/14/208/15/208/16/208/17/208/18/208/19/208/20/208/21/208/22/208/23/208/24/208/25/208/26/208/27/208/28/208/29/208/30/208/31/209/1/209/2/209/3/209/4/209/5/209/6/209/7/209/8/209/9/209/10/209/11/209/12/209/13/209/14/209/15/209/16/209/17/209/18/209/19/209/20/209/21/209/22/209/23/209/24/209/25/209/26/209/27/209/28/209/29/209/30/2010/1/2010/2/2010/3/2010/4/2010/5/2010/6/2010/7/2010/8/2010/9/2010/10/2010/11/2010/12/2010/13/2010/14/2010/15/2010/16/2010/17/2010/18/2010/19/2010/20/2010/21/2010/22/2010/23/2010/24/2010/25/2010/26/2010/27/2010/28/2010/29/2010/30/2010/31/2011/1/2011/2/2011/3/2011/4/2011/5/2011/6/2011/7/2011/8/2011/9/2011/10/2011/11/2011/12/2011/13/2011/14/2011/15/2011/16/2011/17/2011/18/2011/19/2011/20/2011/21/2011/22/2011/23/2011/24/2011/25/2011/26/2011/27/2011/28/2011/29/2011/30/2012/1/2012/2/2012/3/2012/4/2012/5/2012/6/2012/7/2012/8/2012/9/2012/10/2012/11/2012/12/2012/13/2012/14/2012/15/2012/16/2012/17/2012/18/2012/19/2012/20/2012/21/2012/22/2012/23/2012/24/2012/25/2012/26/2012/27/2012/28/2012/29/2012/30/2012/31/201/1/211/2/211/3/211/4/211/5/211/6/211/7/211/8/211/9/211/10/211/11/211/12/211/13/211/14/211/15/211/16/211/17/211/18/211/19/211/20/211/21/211/22/211/23/211/24/211/25/211/26/211/27/211/28/211/29/211/30/211/31/212/1/212/2/212/3/212/4/212/5/212/6/212/7/212/8/212/9/212/10/212/11/212/12/212/13/212/14/212/15/212/16/212/17/212/18/212/19/212/20/212/21/212/22/212/23/212/24/212/25/212/26/212/27/212/28/213/1/213/2/213/3/213/4/213/5/213/6/213/7/213/8/213/9/213/10/213/11/213/12/213/13/213/14/213/15/213/16/213/17/213/18/213/19/213/20/213/21/213/22/213/23/213/24/213/25/213/26/213/27/213/28/213/29/213/30/213/31/214/1/214/2/214/3/214/4/214/5/214/6/214/7/214/8/214/9/214/10/214/11/214/12/214/13/214/14/214/15/214/16/214/17/214/18/214/19/214/20/214/21/214/22/214/23/214/24/214/25/214/26/214/27/214/28/214/29/214/30/215/1/215/2/215/3/215/4/215/5/215/6/215/7/215/8/215/9/215/10/215/11/215/12/215/13/215/14/215/15/215/16/215/17/215/18/215/19/215/20/215/21/215/22/215/23/215/24/215/25/215/26/215/27/215/28/215/29/215/30/215/31/216/1/216/2/216/3/216/4/216/5/216/6/216/7/216/8/216/9/216/10/216/11/216/12/216/13/216/14/216/15/216/16/216/17/216/18/216/19/216/20/216/21/216/22/216/23/216/24/216/25/216/26/216/27/216/28/216/29/216/30/217/1/217/2/217/3/217/4/217/5/217/6/217/7/217/8/217/9/217/10/217/11/217/12/217/13/217/14/217/15/217/16/217/17/217/18/217/19/217/20/217/21/217/22/217/23/217/24/217/25/217/26/217/27/217/28/217/29/217/30/217/31/218/1/218/2/218/3/218/4/218/5/218/6/218/7/218/8/218/9/218/10/218/11/218/12/218/13/218/14/218/15/218/16/218/17/218/18/218/19/218/20/218/21/218/22/218/23/218/24/218/25/218/26/218/27/218/28/218/29/218/30/218/31/219/1/219/2/219/3/219/4/219/5/219/6/219/7/219/8/219/9/219/10/219/11/219/12/219/13/219/14/219/15/219/16/219/17/219/18/219/19/219/20/219/21/219/22/219/23/219/24/219/25/219/26/219/27/219/28/219/29/219/30/2110/1/2110/2/2110/3/2110/4/2110/5/2110/6/2110/7/2110/8/2110/9/2110/10/2110/11/2110/12/2110/13/2110/14/2110/15/2110/16/2110/17/2110/18/2110/19/2110/20/2110/21/2110/22/2110/23/2110/24/2110/25/2110/26/2110/27/2110/28/2110/29/2110/30/2110/31/2111/1/2111/2/2111/3/2111/4/2111/5/2111/6/2111/7/2111/8/2111/9/2111/10/2111/11/2111/12/2111/13/2111/14/2111/15/2111/16/2111/17/2111/18/2111/19/2111/20/2111/21/2111/22/2111/23/2111/24/2111/25/2111/26/2111/27/2111/28/2111/29/2111/30/2112/1/2112/2/2112/3/2112/4/2112/5/2112/6/2112/7/2112/8/2112/9/2112/10/2112/11/2112/12/2112/13/2112/14/2112/15/2112/16/2112/17/2112/18/2112/19/2112/20/2112/21/2112/22/2112/23/2112/24/2112/25/2112/26/2112/27/2112/28/2112/29/2112/30/2112/31/211/1/221/2/221/3/221/4/221/5/221/6/221/7/221/8/221/9/221/10/221/11/221/12/221/13/221/14/221/15/221/16/221/17/221/18/221/19/221/20/221/21/221/22/221/23/221/24/221/25/221/26/221/27/221/28/221/29/221/30/221/31/222/1/222/2/222/3/222/4/222/5/222/6/222/7/222/8/222/9/222/10/222/11/222/12/222/13/222/14/222/15/222/16/222/17/222/18/222/19/222/20/222/21/222/22/222/23/222/24/222/25/222/26/222/27/222/28/223/1/223/2/223/3/223/4/223/5/223/6/223/7/223/8/223/9/223/10/223/11/223/12/223/13/223/14/223/15/223/16/223/17/223/18/223/19/223/20/223/21/223/22/223/23/223/24/223/25/223/26/223/27/223/28/223/29/223/30/223/31/224/1/224/2/224/3/224/4/224/5/224/6/224/7/224/8/224/9/224/10/224/11/224/12/224/13/224/14/224/15/224/16/224/17/224/18/224/19/224/20/224/21/224/22/224/23/224/24/224/25/224/26/224/27/224/28/224/29/224/30/225/1/225/2/225/3/225/4/225/5/225/6/225/7/225/8/225/9/225/10/225/11/225/12/225/13/225/14/225/15/225/16/225/17/225/18/225/19/225/20/225/21/225/22/225/23/225/24/225/25/225/26/225/27/225/28/225/29/225/30/225/31/226/1/226/2/226/3/226/4/226/5/226/6/226/7/226/8/226/9/226/10/226/11/226/12/226/13/226/14/226/15/226/16/226/17/226/18/226/19/226/20/226/21/226/22/226/23/226/24/226/25/226/26/226/27/226/28/226/29/226/30/227/1/227/2/227/3/227/4/227/5/227/6/227/7/227/8/227/9/227/10/227/11/227/12/227/13/227/14/227/15/227/16/227/17/227/18/227/19/227/20/227/21/227/22/227/23/227/24/227/25/227/26/227/27/227/28/227/29/227/30/227/31/228/1/228/2/228/3/228/4/228/5/228/6/228/7/228/8/228/9/228/10/228/11/228/12/228/13/228/14/228/15/228/16/228/17/228/18/228/19/228/20/228/21/228/22/228/23/228/24/228/25/228/26/228/27/228/28/228/29/228/30/228/31/229/1/229/2/229/3/229/4/229/5/229/6/229/7/229/8/229/9/229/10/229/11/229/12/229/13/229/14/229/15/229/16/229/17/229/18/229/19/229/20/229/21/229/22/229/23/229/24/229/25/229/26/229/27/229/28/229/29/229/30/2210/1/2210/2/2210/3/2210/4/2210/5/2210/6/2210/7/2210/8/2210/9/2210/10/2210/11/2210/12/2210/13/2210/14/2210/15/2210/16/2210/17/2210/18/2210/19/2210/20/2210/21/2210/22/2210/23/2210/24/2210/25/2210/26/2210/27/2210/28/2210/29/2210/30/2210/31/2211/1/2211/2/2211/3/2211/4/2211/5/2211/6/2211/7/2211/8/2211/9/2211/10/2211/11/2211/12/2211/13/2211/14/2211/15/2211/16/2211/17/2211/18/2211/19/2211/20/2211/21/2211/22/2211/23/2211/24/2211/25/2211/26/2211/27/2211/28/2211/29/2211/30/2212/1/2212/2/2212/3/2212/4/2212/5/2212/6/2212/7/2212/8/2212/9/2212/10/2212/11/2212/12/2212/13/2212/14/2212/15/2212/16/2212/17/2212/18/2212/19/2212/20/2212/21/2212/22/2212/23/2212/24/2212/25/2212/26/2212/27/2212/28/2212/29/2212/30/2212/31/221/1/231/2/23",
                  "5686809",
                  "202449",
                  "3.5599753745905653"
                ],
                [
                  "Bulgaria",
                  "0",
                  "46024.410299999996",
                  "27448.2066",
                  "1/22/201/23/201/24/201/25/201/26/201/27/201/28/201/29/201/30/201/31/202/1/202/2/202/3/202/4/202/5/202/6/202/7/202/8/202/9/202/10/202/11/202/12/202/13/202/14/202/15/202/16/202/17/202/18/202/19/202/20/202/21/202/22/202/23/202/24/202/25/202/26/202/27/202/28/202/29/203/1/203/2/203/3/203/4/203/5/203/6/203/7/203/8/203/9/203/10/203/11/203/12/203/13/203/14/203/15/203/16/203/17/203/18/203/19/203/20/203/21/203/22/203/23/203/24/203/25/203/26/203/27/203/28/203/29/203/30/203/31/204/1/204/2/204/3/204/4/204/5/204/6/204/7/204/8/204/9/204/10/204/11/204/12/204/13/204/14/204/15/204/16/204/17/204/18/204/19/204/20/204/21/204/22/204/23/204/24/204/25/204/26/204/27/204/28/204/29/204/30/205/1/205/2/205/3/205/4/205/5/205/6/205/7/205/8/205/9/205/10/205/11/205/12/205/13/205/14/205/15/205/16/205/17/205/18/205/19/205/20/205/21/205/22/205/23/205/24/205/25/205/26/205/27/205/28/205/29/205/30/205/31/206/1/206/2/206/3/206/4/206/5/206/6/206/7/206/8/206/9/206/10/206/11/206/12/206/13/206/14/206/15/206/16/206/17/206/18/206/19/206/20/206/21/206/22/206/23/206/24/206/25/206/26/206/27/206/28/206/29/206/30/207/1/207/2/207/3/207/4/207/5/207/6/207/7/207/8/207/9/207/10/207/11/207/12/207/13/207/14/207/15/207/16/207/17/207/18/207/19/207/20/207/21/207/22/207/23/207/24/207/25/207/26/207/27/207/28/207/29/207/30/207/31/208/1/208/2/208/3/208/4/208/5/208/6/208/7/208/8/208/9/208/10/208/11/208/12/208/13/208/14/208/15/208/16/208/17/208/18/208/19/208/20/208/21/208/22/208/23/208/24/208/25/208/26/208/27/208/28/208/29/208/30/208/31/209/1/209/2/209/3/209/4/209/5/209/6/209/7/209/8/209/9/209/10/209/11/209/12/209/13/209/14/209/15/209/16/209/17/209/18/209/19/209/20/209/21/209/22/209/23/209/24/209/25/209/26/209/27/209/28/209/29/209/30/2010/1/2010/2/2010/3/2010/4/2010/5/2010/6/2010/7/2010/8/2010/9/2010/10/2010/11/2010/12/2010/13/2010/14/2010/15/2010/16/2010/17/2010/18/2010/19/2010/20/2010/21/2010/22/2010/23/2010/24/2010/25/2010/26/2010/27/2010/28/2010/29/2010/30/2010/31/2011/1/2011/2/2011/3/2011/4/2011/5/2011/6/2011/7/2011/8/2011/9/2011/10/2011/11/2011/12/2011/13/2011/14/2011/15/2011/16/2011/17/2011/18/2011/19/2011/20/2011/21/2011/22/2011/23/2011/24/2011/25/2011/26/2011/27/2011/28/2011/29/2011/30/2012/1/2012/2/2012/3/2012/4/2012/5/2012/6/2012/7/2012/8/2012/9/2012/10/2012/11/2012/12/2012/13/2012/14/2012/15/2012/16/2012/17/2012/18/2012/19/2012/20/2012/21/2012/22/2012/23/2012/24/2012/25/2012/26/2012/27/2012/28/2012/29/2012/30/2012/31/201/1/211/2/211/3/211/4/211/5/211/6/211/7/211/8/211/9/211/10/211/11/211/12/211/13/211/14/211/15/211/16/211/17/211/18/211/19/211/20/211/21/211/22/211/23/211/24/211/25/211/26/211/27/211/28/211/29/211/30/211/31/212/1/212/2/212/3/212/4/212/5/212/6/212/7/212/8/212/9/212/10/212/11/212/12/212/13/212/14/212/15/212/16/212/17/212/18/212/19/212/20/212/21/212/22/212/23/212/24/212/25/212/26/212/27/212/28/213/1/213/2/213/3/213/4/213/5/213/6/213/7/213/8/213/9/213/10/213/11/213/12/213/13/213/14/213/15/213/16/213/17/213/18/213/19/213/20/213/21/213/22/213/23/213/24/213/25/213/26/213/27/213/28/213/29/213/30/213/31/214/1/214/2/214/3/214/4/214/5/214/6/214/7/214/8/214/9/214/10/214/11/214/12/214/13/214/14/214/15/214/16/214/17/214/18/214/19/214/20/214/21/214/22/214/23/214/24/214/25/214/26/214/27/214/28/214/29/214/30/215/1/215/2/215/3/215/4/215/5/215/6/215/7/215/8/215/9/215/10/215/11/215/12/215/13/215/14/215/15/215/16/215/17/215/18/215/19/215/20/215/21/215/22/215/23/215/24/215/25/215/26/215/27/215/28/215/29/215/30/215/31/216/1/216/2/216/3/216/4/216/5/216/6/216/7/216/8/216/9/216/10/216/11/216/12/216/13/216/14/216/15/216/16/216/17/216/18/216/19/216/20/216/21/216/22/216/23/216/24/216/25/216/26/216/27/216/28/216/29/216/30/217/1/217/2/217/3/217/4/217/5/217/6/217/7/217/8/217/9/217/10/217/11/217/12/217/13/217/14/217/15/217/16/217/17/217/18/217/19/217/20/217/21/217/22/217/23/217/24/217/25/217/26/217/27/217/28/217/29/217/30/217/31/218/1/218/2/218/3/218/4/218/5/218/6/218/7/218/8/218/9/218/10/218/11/218/12/218/13/218/14/218/15/218/16/218/17/218/18/218/19/218/20/218/21/218/22/218/23/218/24/218/25/218/26/218/27/218/28/218/29/218/30/218/31/219/1/219/2/219/3/219/4/219/5/219/6/219/7/219/8/219/9/219/10/219/11/219/12/219/13/219/14/219/15/219/16/219/17/219/18/219/19/219/20/219/21/219/22/219/23/219/24/219/25/219/26/219/27/219/28/219/29/219/30/2110/1/2110/2/2110/3/2110/4/2110/5/2110/6/2110/7/2110/8/2110/9/2110/10/2110/11/2110/12/2110/13/2110/14/2110/15/2110/16/2110/17/2110/18/2110/19/2110/20/2110/21/2110/22/2110/23/2110/24/2110/25/2110/26/2110/27/2110/28/2110/29/2110/30/2110/31/2111/1/2111/2/2111/3/2111/4/2111/5/2111/6/2111/7/2111/8/2111/9/2111/10/2111/11/2111/12/2111/13/2111/14/2111/15/2111/16/2111/17/2111/18/2111/19/2111/20/2111/21/2111/22/2111/23/2111/24/2111/25/2111/26/2111/27/2111/28/2111/29/2111/30/2112/1/2112/2/2112/3/2112/4/2112/5/2112/6/2112/7/2112/8/2112/9/2112/10/2112/11/2112/12/2112/13/2112/14/2112/15/2112/16/2112/17/2112/18/2112/19/2112/20/2112/21/2112/22/2112/23/2112/24/2112/25/2112/26/2112/27/2112/28/2112/29/2112/30/2112/31/211/1/221/2/221/3/221/4/221/5/221/6/221/7/221/8/221/9/221/10/221/11/221/12/221/13/221/14/221/15/221/16/221/17/221/18/221/19/221/20/221/21/221/22/221/23/221/24/221/25/221/26/221/27/221/28/221/29/221/30/221/31/222/1/222/2/222/3/222/4/222/5/222/6/222/7/222/8/222/9/222/10/222/11/222/12/222/13/222/14/222/15/222/16/222/17/222/18/222/19/222/20/222/21/222/22/222/23/222/24/222/25/222/26/222/27/222/28/223/1/223/2/223/3/223/4/223/5/223/6/223/7/223/8/223/9/223/10/223/11/223/12/223/13/223/14/223/15/223/16/223/17/223/18/223/19/223/20/223/21/223/22/223/23/223/24/223/25/223/26/223/27/223/28/223/29/223/30/223/31/224/1/224/2/224/3/224/4/224/5/224/6/224/7/224/8/224/9/224/10/224/11/224/12/224/13/224/14/224/15/224/16/224/17/224/18/224/19/224/20/224/21/224/22/224/23/224/24/224/25/224/26/224/27/224/28/224/29/224/30/225/1/225/2/225/3/225/4/225/5/225/6/225/7/225/8/225/9/225/10/225/11/225/12/225/13/225/14/225/15/225/16/225/17/225/18/225/19/225/20/225/21/225/22/225/23/225/24/225/25/225/26/225/27/225/28/225/29/225/30/225/31/226/1/226/2/226/3/226/4/226/5/226/6/226/7/226/8/226/9/226/10/226/11/226/12/226/13/226/14/226/15/226/16/226/17/226/18/226/19/226/20/226/21/226/22/226/23/226/24/226/25/226/26/226/27/226/28/226/29/226/30/227/1/227/2/227/3/227/4/227/5/227/6/227/7/227/8/227/9/227/10/227/11/227/12/227/13/227/14/227/15/227/16/227/17/227/18/227/19/227/20/227/21/227/22/227/23/227/24/227/25/227/26/227/27/227/28/227/29/227/30/227/31/228/1/228/2/228/3/228/4/228/5/228/6/228/7/228/8/228/9/228/10/228/11/228/12/228/13/228/14/228/15/228/16/228/17/228/18/228/19/228/20/228/21/228/22/228/23/228/24/228/25/228/26/228/27/228/28/228/29/228/30/228/31/229/1/229/2/229/3/229/4/229/5/229/6/229/7/229/8/229/9/229/10/229/11/229/12/229/13/229/14/229/15/229/16/229/17/229/18/229/19/229/20/229/21/229/22/229/23/229/24/229/25/229/26/229/27/229/28/229/29/229/30/2210/1/2210/2/2210/3/2210/4/2210/5/2210/6/2210/7/2210/8/2210/9/2210/10/2210/11/2210/12/2210/13/2210/14/2210/15/2210/16/2210/17/2210/18/2210/19/2210/20/2210/21/2210/22/2210/23/2210/24/2210/25/2210/26/2210/27/2210/28/2210/29/2210/30/2210/31/2211/1/2211/2/2211/3/2211/4/2211/5/2211/6/2211/7/2211/8/2211/9/2211/10/2211/11/2211/12/2211/13/2211/14/2211/15/2211/16/2211/17/2211/18/2211/19/2211/20/2211/21/2211/22/2211/23/2211/24/2211/25/2211/26/2211/27/2211/28/2211/29/2211/30/2212/1/2212/2/2212/3/2212/4/2212/5/2212/6/2212/7/2212/8/2212/9/2212/10/2212/11/2212/12/2212/13/2212/14/2212/15/2212/16/2212/17/2212/18/2212/19/2212/20/2212/21/2212/22/2212/23/2212/24/2212/25/2212/26/2212/27/2212/28/2212/29/2212/30/2212/31/221/1/231/2/23",
                  "598112378",
                  "20372264",
                  "3.4060930268859946"
                ],
                [
                  "Burma",
                  "0",
                  "23603.7474",
                  "103344.61200000001",
                  "1/22/201/23/201/24/201/25/201/26/201/27/201/28/201/29/201/30/201/31/202/1/202/2/202/3/202/4/202/5/202/6/202/7/202/8/202/9/202/10/202/11/202/12/202/13/202/14/202/15/202/16/202/17/202/18/202/19/202/20/202/21/202/22/202/23/202/24/202/25/202/26/202/27/202/28/202/29/203/1/203/2/203/3/203/4/203/5/203/6/203/7/203/8/203/9/203/10/203/11/203/12/203/13/203/14/203/15/203/16/203/17/203/18/203/19/203/20/203/21/203/22/203/23/203/24/203/25/203/26/203/27/203/28/203/29/203/30/203/31/204/1/204/2/204/3/204/4/204/5/204/6/204/7/204/8/204/9/204/10/204/11/204/12/204/13/204/14/204/15/204/16/204/17/204/18/204/19/204/20/204/21/204/22/204/23/204/24/204/25/204/26/204/27/204/28/204/29/204/30/205/1/205/2/205/3/205/4/205/5/205/6/205/7/205/8/205/9/205/10/205/11/205/12/205/13/205/14/205/15/205/16/205/17/205/18/205/19/205/20/205/21/205/22/205/23/205/24/205/25/205/26/205/27/205/28/205/29/205/30/205/31/206/1/206/2/206/3/206/4/206/5/206/6/206/7/206/8/206/9/206/10/206/11/206/12/206/13/206/14/206/15/206/16/206/17/206/18/206/19/206/20/206/21/206/22/206/23/206/24/206/25/206/26/206/27/206/28/206/29/206/30/207/1/207/2/207/3/207/4/207/5/207/6/207/7/207/8/207/9/207/10/207/11/207/12/207/13/207/14/207/15/207/16/207/17/207/18/207/19/207/20/207/21/207/22/207/23/207/24/207/25/207/26/207/27/207/28/207/29/207/30/207/31/208/1/208/2/208/3/208/4/208/5/208/6/208/7/208/8/208/9/208/10/208/11/208/12/208/13/208/14/208/15/208/16/208/17/208/18/208/19/208/20/208/21/208/22/208/23/208/24/208/25/208/26/208/27/208/28/208/29/208/30/208/31/209/1/209/2/209/3/209/4/209/5/209/6/209/7/209/8/209/9/209/10/209/11/209/12/209/13/209/14/209/15/209/16/209/17/209/18/209/19/209/20/209/21/209/22/209/23/209/24/209/25/209/26/209/27/209/28/209/29/209/30/2010/1/2010/2/2010/3/2010/4/2010/5/2010/6/2010/7/2010/8/2010/9/2010/10/2010/11/2010/12/2010/13/2010/14/2010/15/2010/16/2010/17/2010/18/2010/19/2010/20/2010/21/2010/22/2010/23/2010/24/2010/25/2010/26/2010/27/2010/28/2010/29/2010/30/2010/31/2011/1/2011/2/2011/3/2011/4/2011/5/2011/6/2011/7/2011/8/2011/9/2011/10/2011/11/2011/12/2011/13/2011/14/2011/15/2011/16/2011/17/2011/18/2011/19/2011/20/2011/21/2011/22/2011/23/2011/24/2011/25/2011/26/2011/27/2011/28/2011/29/2011/30/2012/1/2012/2/2012/3/2012/4/2012/5/2012/6/2012/7/2012/8/2012/9/2012/10/2012/11/2012/12/2012/13/2012/14/2012/15/2012/16/2012/17/2012/18/2012/19/2012/20/2012/21/2012/22/2012/23/2012/24/2012/25/2012/26/2012/27/2012/28/2012/29/2012/30/2012/31/201/1/211/2/211/3/211/4/211/5/211/6/211/7/211/8/211/9/211/10/211/11/211/12/211/13/211/14/211/15/211/16/211/17/211/18/211/19/211/20/211/21/211/22/211/23/211/24/211/25/211/26/211/27/211/28/211/29/211/30/211/31/212/1/212/2/212/3/212/4/212/5/212/6/212/7/212/8/212/9/212/10/212/11/212/12/212/13/212/14/212/15/212/16/212/17/212/18/212/19/212/20/212/21/212/22/212/23/212/24/212/25/212/26/212/27/212/28/213/1/213/2/213/3/213/4/213/5/213/6/213/7/213/8/213/9/213/10/213/11/213/12/213/13/213/14/213/15/213/16/213/17/213/18/213/19/213/20/213/21/213/22/213/23/213/24/213/25/213/26/213/27/213/28/213/29/213/30/213/31/214/1/214/2/214/3/214/4/214/5/214/6/214/7/214/8/214/9/214/10/214/11/214/12/214/13/214/14/214/15/214/16/214/17/214/18/214/19/214/20/214/21/214/22/214/23/214/24/214/25/214/26/214/27/214/28/214/29/214/30/215/1/215/2/215/3/215/4/215/5/215/6/215/7/215/8/215/9/215/10/215/11/215/12/215/13/215/14/215/15/215/16/215/17/215/18/215/19/215/20/215/21/215/22/215/23/215/24/215/25/215/26/215/27/215/28/215/29/215/30/215/31/216/1/216/2/216/3/216/4/216/5/216/6/216/7/216/8/216/9/216/10/216/11/216/12/216/13/216/14/216/15/216/16/216/17/216/18/216/19/216/20/216/21/216/22/216/23/216/24/216/25/216/26/216/27/216/28/216/29/216/30/217/1/217/2/217/3/217/4/217/5/217/6/217/7/217/8/217/9/217/10/217/11/217/12/217/13/217/14/217/15/217/16/217/17/217/18/217/19/217/20/217/21/217/22/217/23/217/24/217/25/217/26/217/27/217/28/217/29/217/30/217/31/218/1/218/2/218/3/218/4/218/5/218/6/218/7/218/8/218/9/218/10/218/11/218/12/218/13/218/14/218/15/218/16/218/17/218/18/218/19/218/20/218/21/218/22/218/23/218/24/218/25/218/26/218/27/218/28/218/29/218/30/218/31/219/1/219/2/219/3/219/4/219/5/219/6/219/7/219/8/219/9/219/10/219/11/219/12/219/13/219/14/219/15/219/16/219/17/219/18/219/19/219/20/219/21/219/22/219/23/219/24/219/25/219/26/219/27/219/28/219/29/219/30/2110/1/2110/2/2110/3/2110/4/2110/5/2110/6/2110/7/2110/8/2110/9/2110/10/2110/11/2110/12/2110/13/2110/14/2110/15/2110/16/2110/17/2110/18/2110/19/2110/20/2110/21/2110/22/2110/23/2110/24/2110/25/2110/26/2110/27/2110/28/2110/29/2110/30/2110/31/2111/1/2111/2/2111/3/2111/4/2111/5/2111/6/2111/7/2111/8/2111/9/2111/10/2111/11/2111/12/2111/13/2111/14/2111/15/2111/16/2111/17/2111/18/2111/19/2111/20/2111/21/2111/22/2111/23/2111/24/2111/25/2111/26/2111/27/2111/28/2111/29/2111/30/2112/1/2112/2/2112/3/2112/4/2112/5/2112/6/2112/7/2112/8/2112/9/2112/10/2112/11/2112/12/2112/13/2112/14/2112/15/2112/16/2112/17/2112/18/2112/19/2112/20/2112/21/2112/22/2112/23/2112/24/2112/25/2112/26/2112/27/2112/28/2112/29/2112/30/2112/31/211/1/221/2/221/3/221/4/221/5/221/6/221/7/221/8/221/9/221/10/221/11/221/12/221/13/221/14/221/15/221/16/221/17/221/18/221/19/221/20/221/21/221/22/221/23/221/24/221/25/221/26/221/27/221/28/221/29/221/30/221/31/222/1/222/2/222/3/222/4/222/5/222/6/222/7/222/8/222/9/222/10/222/11/222/12/222/13/222/14/222/15/222/16/222/17/222/18/222/19/222/20/222/21/222/22/222/23/222/24/222/25/222/26/222/27/222/28/223/1/223/2/223/3/223/4/223/5/223/6/223/7/223/8/223/9/223/10/223/11/223/12/223/13/223/14/223/15/223/16/223/17/223/18/223/19/223/20/223/21/223/22/223/23/223/24/223/25/223/26/223/27/223/28/223/29/223/30/223/31/224/1/224/2/224/3/224/4/224/5/224/6/224/7/224/8/224/9/224/10/224/11/224/12/224/13/224/14/224/15/224/16/224/17/224/18/224/19/224/20/224/21/224/22/224/23/224/24/224/25/224/26/224/27/224/28/224/29/224/30/225/1/225/2/225/3/225/4/225/5/225/6/225/7/225/8/225/9/225/10/225/11/225/12/225/13/225/14/225/15/225/16/225/17/225/18/225/19/225/20/225/21/225/22/225/23/225/24/225/25/225/26/225/27/225/28/225/29/225/30/225/31/226/1/226/2/226/3/226/4/226/5/226/6/226/7/226/8/226/9/226/10/226/11/226/12/226/13/226/14/226/15/226/16/226/17/226/18/226/19/226/20/226/21/226/22/226/23/226/24/226/25/226/26/226/27/226/28/226/29/226/30/227/1/227/2/227/3/227/4/227/5/227/6/227/7/227/8/227/9/227/10/227/11/227/12/227/13/227/14/227/15/227/16/227/17/227/18/227/19/227/20/227/21/227/22/227/23/227/24/227/25/227/26/227/27/227/28/227/29/227/30/227/31/228/1/228/2/228/3/228/4/228/5/228/6/228/7/228/8/228/9/228/10/228/11/228/12/228/13/228/14/228/15/228/16/228/17/228/18/228/19/228/20/228/21/228/22/228/23/228/24/228/25/228/26/228/27/228/28/228/29/228/30/228/31/229/1/229/2/229/3/229/4/229/5/229/6/229/7/229/8/229/9/229/10/229/11/229/12/229/13/229/14/229/15/229/16/229/17/229/18/229/19/229/20/229/21/229/22/229/23/229/24/229/25/229/26/229/27/229/28/229/29/229/30/2210/1/2210/2/2210/3/2210/4/2210/5/2210/6/2210/7/2210/8/2210/9/2210/10/2210/11/2210/12/2210/13/2210/14/2210/15/2210/16/2210/17/2210/18/2210/19/2210/20/2210/21/2210/22/2210/23/2210/24/2210/25/2210/26/2210/27/2210/28/2210/29/2210/30/2210/31/2211/1/2211/2/2211/3/2211/4/2211/5/2211/6/2211/7/2211/8/2211/9/2211/10/2211/11/2211/12/2211/13/2211/14/2211/15/2211/16/2211/17/2211/18/2211/19/2211/20/2211/21/2211/22/2211/23/2211/24/2211/25/2211/26/2211/27/2211/28/2211/29/2211/30/2212/1/2212/2/2212/3/2212/4/2212/5/2212/6/2212/7/2212/8/2212/9/2212/10/2212/11/2212/12/2212/13/2212/14/2212/15/2212/16/2212/17/2212/18/2212/19/2212/20/2212/21/2212/22/2212/23/2212/24/2212/25/2212/26/2212/27/2212/28/2212/29/2212/30/2212/31/221/1/231/2/23",
                  "332835099",
                  "10653531",
                  "3.2008436105472162"
                ],
                [
                  "Malawi",
                  "0",
                  "-14274.8811",
                  "36942.7155",
                  "1/22/201/23/201/24/201/25/201/26/201/27/201/28/201/29/201/30/201/31/202/1/202/2/202/3/202/4/202/5/202/6/202/7/202/8/202/9/202/10/202/11/202/12/202/13/202/14/202/15/202/16/202/17/202/18/202/19/202/20/202/21/202/22/202/23/202/24/202/25/202/26/202/27/202/28/202/29/203/1/203/2/203/3/203/4/203/5/203/6/203/7/203/8/203/9/203/10/203/11/203/12/203/13/203/14/203/15/203/16/203/17/203/18/203/19/203/20/203/21/203/22/203/23/203/24/203/25/203/26/203/27/203/28/203/29/203/30/203/31/204/1/204/2/204/3/204/4/204/5/204/6/204/7/204/8/204/9/204/10/204/11/204/12/204/13/204/14/204/15/204/16/204/17/204/18/204/19/204/20/204/21/204/22/204/23/204/24/204/25/204/26/204/27/204/28/204/29/204/30/205/1/205/2/205/3/205/4/205/5/205/6/205/7/205/8/205/9/205/10/205/11/205/12/205/13/205/14/205/15/205/16/205/17/205/18/205/19/205/20/205/21/205/22/205/23/205/24/205/25/205/26/205/27/205/28/205/29/205/30/205/31/206/1/206/2/206/3/206/4/206/5/206/6/206/7/206/8/206/9/206/10/206/11/206/12/206/13/206/14/206/15/206/16/206/17/206/18/206/19/206/20/206/21/206/22/206/23/206/24/206/25/206/26/206/27/206/28/206/29/206/30/207/1/207/2/207/3/207/4/207/5/207/6/207/7/207/8/207/9/207/10/207/11/207/12/207/13/207/14/207/15/207/16/207/17/207/18/207/19/207/20/207/21/207/22/207/23/207/24/207/25/207/26/207/27/207/28/207/29/207/30/207/31/208/1/208/2/208/3/208/4/208/5/208/6/208/7/208/8/208/9/208/10/208/11/208/12/208/13/208/14/208/15/208/16/208/17/208/18/208/19/208/20/208/21/208/22/208/23/208/24/208/25/208/26/208/27/208/28/208/29/208/30/208/31/209/1/209/2/209/3/209/4/209/5/209/6/209/7/209/8/209/9/209/10/209/11/209/12/209/13/209/14/209/15/209/16/209/17/209/18/209/19/209/20/209/21/209/22/209/23/209/24/209/25/209/26/209/27/209/28/209/29/209/30/2010/1/2010/2/2010/3/2010/4/2010/5/2010/6/2010/7/2010/8/2010/9/2010/10/2010/11/2010/12/2010/13/2010/14/2010/15/2010/16/2010/17/2010/18/2010/19/2010/20/2010/21/2010/22/2010/23/2010/24/2010/25/2010/26/2010/27/2010/28/2010/29/2010/30/2010/31/2011/1/2011/2/2011/3/2011/4/2011/5/2011/6/2011/7/2011/8/2011/9/2011/10/2011/11/2011/12/2011/13/2011/14/2011/15/2011/16/2011/17/2011/18/2011/19/2011/20/2011/21/2011/22/2011/23/2011/24/2011/25/2011/26/2011/27/2011/28/2011/29/2011/30/2012/1/2012/2/2012/3/2012/4/2012/5/2012/6/2012/7/2012/8/2012/9/2012/10/2012/11/2012/12/2012/13/2012/14/2012/15/2012/16/2012/17/2012/18/2012/19/2012/20/2012/21/2012/22/2012/23/2012/24/2012/25/2012/26/2012/27/2012/28/2012/29/2012/30/2012/31/201/1/211/2/211/3/211/4/211/5/211/6/211/7/211/8/211/9/211/10/211/11/211/12/211/13/211/14/211/15/211/16/211/17/211/18/211/19/211/20/211/21/211/22/211/23/211/24/211/25/211/26/211/27/211/28/211/29/211/30/211/31/212/1/212/2/212/3/212/4/212/5/212/6/212/7/212/8/212/9/212/10/212/11/212/12/212/13/212/14/212/15/212/16/212/17/212/18/212/19/212/20/212/21/212/22/212/23/212/24/212/25/212/26/212/27/212/28/213/1/213/2/213/3/213/4/213/5/213/6/213/7/213/8/213/9/213/10/213/11/213/12/213/13/213/14/213/15/213/16/213/17/213/18/213/19/213/20/213/21/213/22/213/23/213/24/213/25/213/26/213/27/213/28/213/29/213/30/213/31/214/1/214/2/214/3/214/4/214/5/214/6/214/7/214/8/214/9/214/10/214/11/214/12/214/13/214/14/214/15/214/16/214/17/214/18/214/19/214/20/214/21/214/22/214/23/214/24/214/25/214/26/214/27/214/28/214/29/214/30/215/1/215/2/215/3/215/4/215/5/215/6/215/7/215/8/215/9/215/10/215/11/215/12/215/13/215/14/215/15/215/16/215/17/215/18/215/19/215/20/215/21/215/22/215/23/215/24/215/25/215/26/215/27/215/28/215/29/215/30/215/31/216/1/216/2/216/3/216/4/216/5/216/6/216/7/216/8/216/9/216/10/216/11/216/12/216/13/216/14/216/15/216/16/216/17/216/18/216/19/216/20/216/21/216/22/216/23/216/24/216/25/216/26/216/27/216/28/216/29/216/30/217/1/217/2/217/3/217/4/217/5/217/6/217/7/217/8/217/9/217/10/217/11/217/12/217/13/217/14/217/15/217/16/217/17/217/18/217/19/217/20/217/21/217/22/217/23/217/24/217/25/217/26/217/27/217/28/217/29/217/30/217/31/218/1/218/2/218/3/218/4/218/5/218/6/218/7/218/8/218/9/218/10/218/11/218/12/218/13/218/14/218/15/218/16/218/17/218/18/218/19/218/20/218/21/218/22/218/23/218/24/218/25/218/26/218/27/218/28/218/29/218/30/218/31/219/1/219/2/219/3/219/4/219/5/219/6/219/7/219/8/219/9/219/10/219/11/219/12/219/13/219/14/219/15/219/16/219/17/219/18/219/19/219/20/219/21/219/22/219/23/219/24/219/25/219/26/219/27/219/28/219/29/219/30/2110/1/2110/2/2110/3/2110/4/2110/5/2110/6/2110/7/2110/8/2110/9/2110/10/2110/11/2110/12/2110/13/2110/14/2110/15/2110/16/2110/17/2110/18/2110/19/2110/20/2110/21/2110/22/2110/23/2110/24/2110/25/2110/26/2110/27/2110/28/2110/29/2110/30/2110/31/2111/1/2111/2/2111/3/2111/4/2111/5/2111/6/2111/7/2111/8/2111/9/2111/10/2111/11/2111/12/2111/13/2111/14/2111/15/2111/16/2111/17/2111/18/2111/19/2111/20/2111/21/2111/22/2111/23/2111/24/2111/25/2111/26/2111/27/2111/28/2111/29/2111/30/2112/1/2112/2/2112/3/2112/4/2112/5/2112/6/2112/7/2112/8/2112/9/2112/10/2112/11/2112/12/2112/13/2112/14/2112/15/2112/16/2112/17/2112/18/2112/19/2112/20/2112/21/2112/22/2112/23/2112/24/2112/25/2112/26/2112/27/2112/28/2112/29/2112/30/2112/31/211/1/221/2/221/3/221/4/221/5/221/6/221/7/221/8/221/9/221/10/221/11/221/12/221/13/221/14/221/15/221/16/221/17/221/18/221/19/221/20/221/21/221/22/221/23/221/24/221/25/221/26/221/27/221/28/221/29/221/30/221/31/222/1/222/2/222/3/222/4/222/5/222/6/222/7/222/8/222/9/222/10/222/11/222/12/222/13/222/14/222/15/222/16/222/17/222/18/222/19/222/20/222/21/222/22/222/23/222/24/222/25/222/26/222/27/222/28/223/1/223/2/223/3/223/4/223/5/223/6/223/7/223/8/223/9/223/10/223/11/223/12/223/13/223/14/223/15/223/16/223/17/223/18/223/19/223/20/223/21/223/22/223/23/223/24/223/25/223/26/223/27/223/28/223/29/223/30/223/31/224/1/224/2/224/3/224/4/224/5/224/6/224/7/224/8/224/9/224/10/224/11/224/12/224/13/224/14/224/15/224/16/224/17/224/18/224/19/224/20/224/21/224/22/224/23/224/24/224/25/224/26/224/27/224/28/224/29/224/30/225/1/225/2/225/3/225/4/225/5/225/6/225/7/225/8/225/9/225/10/225/11/225/12/225/13/225/14/225/15/225/16/225/17/225/18/225/19/225/20/225/21/225/22/225/23/225/24/225/25/225/26/225/27/225/28/225/29/225/30/225/31/226/1/226/2/226/3/226/4/226/5/226/6/226/7/226/8/226/9/226/10/226/11/226/12/226/13/226/14/226/15/226/16/226/17/226/18/226/19/226/20/226/21/226/22/226/23/226/24/226/25/226/26/226/27/226/28/226/29/226/30/227/1/227/2/227/3/227/4/227/5/227/6/227/7/227/8/227/9/227/10/227/11/227/12/227/13/227/14/227/15/227/16/227/17/227/18/227/19/227/20/227/21/227/22/227/23/227/24/227/25/227/26/227/27/227/28/227/29/227/30/227/31/228/1/228/2/228/3/228/4/228/5/228/6/228/7/228/8/228/9/228/10/228/11/228/12/228/13/228/14/228/15/228/16/228/17/228/18/228/19/228/20/228/21/228/22/228/23/228/24/228/25/228/26/228/27/228/28/228/29/228/30/228/31/229/1/229/2/229/3/229/4/229/5/229/6/229/7/229/8/229/9/229/10/229/11/229/12/229/13/229/14/229/15/229/16/229/17/229/18/229/19/229/20/229/21/229/22/229/23/229/24/229/25/229/26/229/27/229/28/229/29/229/30/2210/1/2210/2/2210/3/2210/4/2210/5/2210/6/2210/7/2210/8/2210/9/2210/10/2210/11/2210/12/2210/13/2210/14/2210/15/2210/16/2210/17/2210/18/2210/19/2210/20/2210/21/2210/22/2210/23/2210/24/2210/25/2210/26/2210/27/2210/28/2210/29/2210/30/2210/31/2211/1/2211/2/2211/3/2211/4/2211/5/2211/6/2211/7/2211/8/2211/9/2211/10/2211/11/2211/12/2211/13/2211/14/2211/15/2211/16/2211/17/2211/18/2211/19/2211/20/2211/21/2211/22/2211/23/2211/24/2211/25/2211/26/2211/27/2211/28/2211/29/2211/30/2212/1/2212/2/2212/3/2212/4/2212/5/2212/6/2212/7/2212/8/2212/9/2212/10/2212/11/2212/12/2212/13/2212/14/2212/15/2212/16/2212/17/2212/18/2212/19/2212/20/2212/21/2212/22/2212/23/2212/24/2212/25/2212/26/2212/27/2212/28/2212/29/2212/30/2212/31/221/1/231/2/23",
                  "48824545",
                  "1555966",
                  "3.186852022891355"
                ],
                [
                  "Chad",
                  "0",
                  "16644.1734",
                  "20174.5794",
                  "1/22/201/23/201/24/201/25/201/26/201/27/201/28/201/29/201/30/201/31/202/1/202/2/202/3/202/4/202/5/202/6/202/7/202/8/202/9/202/10/202/11/202/12/202/13/202/14/202/15/202/16/202/17/202/18/202/19/202/20/202/21/202/22/202/23/202/24/202/25/202/26/202/27/202/28/202/29/203/1/203/2/203/3/203/4/203/5/203/6/203/7/203/8/203/9/203/10/203/11/203/12/203/13/203/14/203/15/203/16/203/17/203/18/203/19/203/20/203/21/203/22/203/23/203/24/203/25/203/26/203/27/203/28/203/29/203/30/203/31/204/1/204/2/204/3/204/4/204/5/204/6/204/7/204/8/204/9/204/10/204/11/204/12/204/13/204/14/204/15/204/16/204/17/204/18/204/19/204/20/204/21/204/22/204/23/204/24/204/25/204/26/204/27/204/28/204/29/204/30/205/1/205/2/205/3/205/4/205/5/205/6/205/7/205/8/205/9/205/10/205/11/205/12/205/13/205/14/205/15/205/16/205/17/205/18/205/19/205/20/205/21/205/22/205/23/205/24/205/25/205/26/205/27/205/28/205/29/205/30/205/31/206/1/206/2/206/3/206/4/206/5/206/6/206/7/206/8/206/9/206/10/206/11/206/12/206/13/206/14/206/15/206/16/206/17/206/18/206/19/206/20/206/21/206/22/206/23/206/24/206/25/206/26/206/27/206/28/206/29/206/30/207/1/207/2/207/3/207/4/207/5/207/6/207/7/207/8/207/9/207/10/207/11/207/12/207/13/207/14/207/15/207/16/207/17/207/18/207/19/207/20/207/21/207/22/207/23/207/24/207/25/207/26/207/27/207/28/207/29/207/30/207/31/208/1/208/2/208/3/208/4/208/5/208/6/208/7/208/8/208/9/208/10/208/11/208/12/208/13/208/14/208/15/208/16/208/17/208/18/208/19/208/20/208/21/208/22/208/23/208/24/208/25/208/26/208/27/208/28/208/29/208/30/208/31/209/1/209/2/209/3/209/4/209/5/209/6/209/7/209/8/209/9/209/10/209/11/209/12/209/13/209/14/209/15/209/16/209/17/209/18/209/19/209/20/209/21/209/22/209/23/209/24/209/25/209/26/209/27/209/28/209/29/209/30/2010/1/2010/2/2010/3/2010/4/2010/5/2010/6/2010/7/2010/8/2010/9/2010/10/2010/11/2010/12/2010/13/2010/14/2010/15/2010/16/2010/17/2010/18/2010/19/2010/20/2010/21/2010/22/2010/23/2010/24/2010/25/2010/26/2010/27/2010/28/2010/29/2010/30/2010/31/2011/1/2011/2/2011/3/2011/4/2011/5/2011/6/2011/7/2011/8/2011/9/2011/10/2011/11/2011/12/2011/13/2011/14/2011/15/2011/16/2011/17/2011/18/2011/19/2011/20/2011/21/2011/22/2011/23/2011/24/2011/25/2011/26/2011/27/2011/28/2011/29/2011/30/2012/1/2012/2/2012/3/2012/4/2012/5/2012/6/2012/7/2012/8/2012/9/2012/10/2012/11/2012/12/2012/13/2012/14/2012/15/2012/16/2012/17/2012/18/2012/19/2012/20/2012/21/2012/22/2012/23/2012/24/2012/25/2012/26/2012/27/2012/28/2012/29/2012/30/2012/31/201/1/211/2/211/3/211/4/211/5/211/6/211/7/211/8/211/9/211/10/211/11/211/12/211/13/211/14/211/15/211/16/211/17/211/18/211/19/211/20/211/21/211/22/211/23/211/24/211/25/211/26/211/27/211/28/211/29/211/30/211/31/212/1/212/2/212/3/212/4/212/5/212/6/212/7/212/8/212/9/212/10/212/11/212/12/212/13/212/14/212/15/212/16/212/17/212/18/212/19/212/20/212/21/212/22/212/23/212/24/212/25/212/26/212/27/212/28/213/1/213/2/213/3/213/4/213/5/213/6/213/7/213/8/213/9/213/10/213/11/213/12/213/13/213/14/213/15/213/16/213/17/213/18/213/19/213/20/213/21/213/22/213/23/213/24/213/25/213/26/213/27/213/28/213/29/213/30/213/31/214/1/214/2/214/3/214/4/214/5/214/6/214/7/214/8/214/9/214/10/214/11/214/12/214/13/214/14/214/15/214/16/214/17/214/18/214/19/214/20/214/21/214/22/214/23/214/24/214/25/214/26/214/27/214/28/214/29/214/30/215/1/215/2/215/3/215/4/215/5/215/6/215/7/215/8/215/9/215/10/215/11/215/12/215/13/215/14/215/15/215/16/215/17/215/18/215/19/215/20/215/21/215/22/215/23/215/24/215/25/215/26/215/27/215/28/215/29/215/30/215/31/216/1/216/2/216/3/216/4/216/5/216/6/216/7/216/8/216/9/216/10/216/11/216/12/216/13/216/14/216/15/216/16/216/17/216/18/216/19/216/20/216/21/216/22/216/23/216/24/216/25/216/26/216/27/216/28/216/29/216/30/217/1/217/2/217/3/217/4/217/5/217/6/217/7/217/8/217/9/217/10/217/11/217/12/217/13/217/14/217/15/217/16/217/17/217/18/217/19/217/20/217/21/217/22/217/23/217/24/217/25/217/26/217/27/217/28/217/29/217/30/217/31/218/1/218/2/218/3/218/4/218/5/218/6/218/7/218/8/218/9/218/10/218/11/218/12/218/13/218/14/218/15/218/16/218/17/218/18/218/19/218/20/218/21/218/22/218/23/218/24/218/25/218/26/218/27/218/28/218/29/218/30/218/31/219/1/219/2/219/3/219/4/219/5/219/6/219/7/219/8/219/9/219/10/219/11/219/12/219/13/219/14/219/15/219/16/219/17/219/18/219/19/219/20/219/21/219/22/219/23/219/24/219/25/219/26/219/27/219/28/219/29/219/30/2110/1/2110/2/2110/3/2110/4/2110/5/2110/6/2110/7/2110/8/2110/9/2110/10/2110/11/2110/12/2110/13/2110/14/2110/15/2110/16/2110/17/2110/18/2110/19/2110/20/2110/21/2110/22/2110/23/2110/24/2110/25/2110/26/2110/27/2110/28/2110/29/2110/30/2110/31/2111/1/2111/2/2111/3/2111/4/2111/5/2111/6/2111/7/2111/8/2111/9/2111/10/2111/11/2111/12/2111/13/2111/14/2111/15/2111/16/2111/17/2111/18/2111/19/2111/20/2111/21/2111/22/2111/23/2111/24/2111/25/2111/26/2111/27/2111/28/2111/29/2111/30/2112/1/2112/2/2112/3/2112/4/2112/5/2112/6/2112/7/2112/8/2112/9/2112/10/2112/11/2112/12/2112/13/2112/14/2112/15/2112/16/2112/17/2112/18/2112/19/2112/20/2112/21/2112/22/2112/23/2112/24/2112/25/2112/26/2112/27/2112/28/2112/29/2112/30/2112/31/211/1/221/2/221/3/221/4/221/5/221/6/221/7/221/8/221/9/221/10/221/11/221/12/221/13/221/14/221/15/221/16/221/17/221/18/221/19/221/20/221/21/221/22/221/23/221/24/221/25/221/26/221/27/221/28/221/29/221/30/221/31/222/1/222/2/222/3/222/4/222/5/222/6/222/7/222/8/222/9/222/10/222/11/222/12/222/13/222/14/222/15/222/16/222/17/222/18/222/19/222/20/222/21/222/22/222/23/222/24/222/25/222/26/222/27/222/28/223/1/223/2/223/3/223/4/223/5/223/6/223/7/223/8/223/9/223/10/223/11/223/12/223/13/223/14/223/15/223/16/223/17/223/18/223/19/223/20/223/21/223/22/223/23/223/24/223/25/223/26/223/27/223/28/223/29/223/30/223/31/224/1/224/2/224/3/224/4/224/5/224/6/224/7/224/8/224/9/224/10/224/11/224/12/224/13/224/14/224/15/224/16/224/17/224/18/224/19/224/20/224/21/224/22/224/23/224/24/224/25/224/26/224/27/224/28/224/29/224/30/225/1/225/2/225/3/225/4/225/5/225/6/225/7/225/8/225/9/225/10/225/11/225/12/225/13/225/14/225/15/225/16/225/17/225/18/225/19/225/20/225/21/225/22/225/23/225/24/225/25/225/26/225/27/225/28/225/29/225/30/225/31/226/1/226/2/226/3/226/4/226/5/226/6/226/7/226/8/226/9/226/10/226/11/226/12/226/13/226/14/226/15/226/16/226/17/226/18/226/19/226/20/226/21/226/22/226/23/226/24/226/25/226/26/226/27/226/28/226/29/226/30/227/1/227/2/227/3/227/4/227/5/227/6/227/7/227/8/227/9/227/10/227/11/227/12/227/13/227/14/227/15/227/16/227/17/227/18/227/19/227/20/227/21/227/22/227/23/227/24/227/25/227/26/227/27/227/28/227/29/227/30/227/31/228/1/228/2/228/3/228/4/228/5/228/6/228/7/228/8/228/9/228/10/228/11/228/12/228/13/228/14/228/15/228/16/228/17/228/18/228/19/228/20/228/21/228/22/228/23/228/24/228/25/228/26/228/27/228/28/228/29/228/30/228/31/229/1/229/2/229/3/229/4/229/5/229/6/229/7/229/8/229/9/229/10/229/11/229/12/229/13/229/14/229/15/229/16/229/17/229/18/229/19/229/20/229/21/229/22/229/23/229/24/229/25/229/26/229/27/229/28/229/29/229/30/2210/1/2210/2/2210/3/2210/4/2210/5/2210/6/2210/7/2210/8/2210/9/2210/10/2210/11/2210/12/2210/13/2210/14/2210/15/2210/16/2210/17/2210/18/2210/19/2210/20/2210/21/2210/22/2210/23/2210/24/2210/25/2210/26/2210/27/2210/28/2210/29/2210/30/2210/31/2211/1/2211/2/2211/3/2211/4/2211/5/2211/6/2211/7/2211/8/2211/9/2211/10/2211/11/2211/12/2211/13/2211/14/2211/15/2211/16/2211/17/2211/18/2211/19/2211/20/2211/21/2211/22/2211/23/2211/24/2211/25/2211/26/2211/27/2211/28/2211/29/2211/30/2212/1/2212/2/2212/3/2212/4/2212/5/2212/6/2212/7/2212/8/2212/9/2212/10/2212/11/2212/12/2212/13/2212/14/2212/15/2212/16/2212/17/2212/18/2212/19/2212/20/2212/21/2212/22/2212/23/2212/24/2212/25/2212/26/2212/27/2212/28/2212/29/2212/30/2212/31/221/1/231/2/23",
                  "4699806",
                  "149759",
                  "3.186493229720546"
                ],
                [
                  "Gambia",
                  "0",
                  "14478.3264",
                  "-16488.9777",
                  "1/22/201/23/201/24/201/25/201/26/201/27/201/28/201/29/201/30/201/31/202/1/202/2/202/3/202/4/202/5/202/6/202/7/202/8/202/9/202/10/202/11/202/12/202/13/202/14/202/15/202/16/202/17/202/18/202/19/202/20/202/21/202/22/202/23/202/24/202/25/202/26/202/27/202/28/202/29/203/1/203/2/203/3/203/4/203/5/203/6/203/7/203/8/203/9/203/10/203/11/203/12/203/13/203/14/203/15/203/16/203/17/203/18/203/19/203/20/203/21/203/22/203/23/203/24/203/25/203/26/203/27/203/28/203/29/203/30/203/31/204/1/204/2/204/3/204/4/204/5/204/6/204/7/204/8/204/9/204/10/204/11/204/12/204/13/204/14/204/15/204/16/204/17/204/18/204/19/204/20/204/21/204/22/204/23/204/24/204/25/204/26/204/27/204/28/204/29/204/30/205/1/205/2/205/3/205/4/205/5/205/6/205/7/205/8/205/9/205/10/205/11/205/12/205/13/205/14/205/15/205/16/205/17/205/18/205/19/205/20/205/21/205/22/205/23/205/24/205/25/205/26/205/27/205/28/205/29/205/30/205/31/206/1/206/2/206/3/206/4/206/5/206/6/206/7/206/8/206/9/206/10/206/11/206/12/206/13/206/14/206/15/206/16/206/17/206/18/206/19/206/20/206/21/206/22/206/23/206/24/206/25/206/26/206/27/206/28/206/29/206/30/207/1/207/2/207/3/207/4/207/5/207/6/207/7/207/8/207/9/207/10/207/11/207/12/207/13/207/14/207/15/207/16/207/17/207/18/207/19/207/20/207/21/207/22/207/23/207/24/207/25/207/26/207/27/207/28/207/29/207/30/207/31/208/1/208/2/208/3/208/4/208/5/208/6/208/7/208/8/208/9/208/10/208/11/208/12/208/13/208/14/208/15/208/16/208/17/208/18/208/19/208/20/208/21/208/22/208/23/208/24/208/25/208/26/208/27/208/28/208/29/208/30/208/31/209/1/209/2/209/3/209/4/209/5/209/6/209/7/209/8/209/9/209/10/209/11/209/12/209/13/209/14/209/15/209/16/209/17/209/18/209/19/209/20/209/21/209/22/209/23/209/24/209/25/209/26/209/27/209/28/209/29/209/30/2010/1/2010/2/2010/3/2010/4/2010/5/2010/6/2010/7/2010/8/2010/9/2010/10/2010/11/2010/12/2010/13/2010/14/2010/15/2010/16/2010/17/2010/18/2010/19/2010/20/2010/21/2010/22/2010/23/2010/24/2010/25/2010/26/2010/27/2010/28/2010/29/2010/30/2010/31/2011/1/2011/2/2011/3/2011/4/2011/5/2011/6/2011/7/2011/8/2011/9/2011/10/2011/11/2011/12/2011/13/2011/14/2011/15/2011/16/2011/17/2011/18/2011/19/2011/20/2011/21/2011/22/2011/23/2011/24/2011/25/2011/26/2011/27/2011/28/2011/29/2011/30/2012/1/2012/2/2012/3/2012/4/2012/5/2012/6/2012/7/2012/8/2012/9/2012/10/2012/11/2012/12/2012/13/2012/14/2012/15/2012/16/2012/17/2012/18/2012/19/2012/20/2012/21/2012/22/2012/23/2012/24/2012/25/2012/26/2012/27/2012/28/2012/29/2012/30/2012/31/201/1/211/2/211/3/211/4/211/5/211/6/211/7/211/8/211/9/211/10/211/11/211/12/211/13/211/14/211/15/211/16/211/17/211/18/211/19/211/20/211/21/211/22/211/23/211/24/211/25/211/26/211/27/211/28/211/29/211/30/211/31/212/1/212/2/212/3/212/4/212/5/212/6/212/7/212/8/212/9/212/10/212/11/212/12/212/13/212/14/212/15/212/16/212/17/212/18/212/19/212/20/212/21/212/22/212/23/212/24/212/25/212/26/212/27/212/28/213/1/213/2/213/3/213/4/213/5/213/6/213/7/213/8/213/9/213/10/213/11/213/12/213/13/213/14/213/15/213/16/213/17/213/18/213/19/213/20/213/21/213/22/213/23/213/24/213/25/213/26/213/27/213/28/213/29/213/30/213/31/214/1/214/2/214/3/214/4/214/5/214/6/214/7/214/8/214/9/214/10/214/11/214/12/214/13/214/14/214/15/214/16/214/17/214/18/214/19/214/20/214/21/214/22/214/23/214/24/214/25/214/26/214/27/214/28/214/29/214/30/215/1/215/2/215/3/215/4/215/5/215/6/215/7/215/8/215/9/215/10/215/11/215/12/215/13/215/14/215/15/215/16/215/17/215/18/215/19/215/20/215/21/215/22/215/23/215/24/215/25/215/26/215/27/215/28/215/29/215/30/215/31/216/1/216/2/216/3/216/4/216/5/216/6/216/7/216/8/216/9/216/10/216/11/216/12/216/13/216/14/216/15/216/16/216/17/216/18/216/19/216/20/216/21/216/22/216/23/216/24/216/25/216/26/216/27/216/28/216/29/216/30/217/1/217/2/217/3/217/4/217/5/217/6/217/7/217/8/217/9/217/10/217/11/217/12/217/13/217/14/217/15/217/16/217/17/217/18/217/19/217/20/217/21/217/22/217/23/217/24/217/25/217/26/217/27/217/28/217/29/217/30/217/31/218/1/218/2/218/3/218/4/218/5/218/6/218/7/218/8/218/9/218/10/218/11/218/12/218/13/218/14/218/15/218/16/218/17/218/18/218/19/218/20/218/21/218/22/218/23/218/24/218/25/218/26/218/27/218/28/218/29/218/30/218/31/219/1/219/2/219/3/219/4/219/5/219/6/219/7/219/8/219/9/219/10/219/11/219/12/219/13/219/14/219/15/219/16/219/17/219/18/219/19/219/20/219/21/219/22/219/23/219/24/219/25/219/26/219/27/219/28/219/29/219/30/2110/1/2110/2/2110/3/2110/4/2110/5/2110/6/2110/7/2110/8/2110/9/2110/10/2110/11/2110/12/2110/13/2110/14/2110/15/2110/16/2110/17/2110/18/2110/19/2110/20/2110/21/2110/22/2110/23/2110/24/2110/25/2110/26/2110/27/2110/28/2110/29/2110/30/2110/31/2111/1/2111/2/2111/3/2111/4/2111/5/2111/6/2111/7/2111/8/2111/9/2111/10/2111/11/2111/12/2111/13/2111/14/2111/15/2111/16/2111/17/2111/18/2111/19/2111/20/2111/21/2111/22/2111/23/2111/24/2111/25/2111/26/2111/27/2111/28/2111/29/2111/30/2112/1/2112/2/2112/3/2112/4/2112/5/2112/6/2112/7/2112/8/2112/9/2112/10/2112/11/2112/12/2112/13/2112/14/2112/15/2112/16/2112/17/2112/18/2112/19/2112/20/2112/21/2112/22/2112/23/2112/24/2112/25/2112/26/2112/27/2112/28/2112/29/2112/30/2112/31/211/1/221/2/221/3/221/4/221/5/221/6/221/7/221/8/221/9/221/10/221/11/221/12/221/13/221/14/221/15/221/16/221/17/221/18/221/19/221/20/221/21/221/22/221/23/221/24/221/25/221/26/221/27/221/28/221/29/221/30/221/31/222/1/222/2/222/3/222/4/222/5/222/6/222/7/222/8/222/9/222/10/222/11/222/12/222/13/222/14/222/15/222/16/222/17/222/18/222/19/222/20/222/21/222/22/222/23/222/24/222/25/222/26/222/27/222/28/223/1/223/2/223/3/223/4/223/5/223/6/223/7/223/8/223/9/223/10/223/11/223/12/223/13/223/14/223/15/223/16/223/17/223/18/223/19/223/20/223/21/223/22/223/23/223/24/223/25/223/26/223/27/223/28/223/29/223/30/223/31/224/1/224/2/224/3/224/4/224/5/224/6/224/7/224/8/224/9/224/10/224/11/224/12/224/13/224/14/224/15/224/16/224/17/224/18/224/19/224/20/224/21/224/22/224/23/224/24/224/25/224/26/224/27/224/28/224/29/224/30/225/1/225/2/225/3/225/4/225/5/225/6/225/7/225/8/225/9/225/10/225/11/225/12/225/13/225/14/225/15/225/16/225/17/225/18/225/19/225/20/225/21/225/22/225/23/225/24/225/25/225/26/225/27/225/28/225/29/225/30/225/31/226/1/226/2/226/3/226/4/226/5/226/6/226/7/226/8/226/9/226/10/226/11/226/12/226/13/226/14/226/15/226/16/226/17/226/18/226/19/226/20/226/21/226/22/226/23/226/24/226/25/226/26/226/27/226/28/226/29/226/30/227/1/227/2/227/3/227/4/227/5/227/6/227/7/227/8/227/9/227/10/227/11/227/12/227/13/227/14/227/15/227/16/227/17/227/18/227/19/227/20/227/21/227/22/227/23/227/24/227/25/227/26/227/27/227/28/227/29/227/30/227/31/228/1/228/2/228/3/228/4/228/5/228/6/228/7/228/8/228/9/228/10/228/11/228/12/228/13/228/14/228/15/228/16/228/17/228/18/228/19/228/20/228/21/228/22/228/23/228/24/228/25/228/26/228/27/228/28/228/29/228/30/228/31/229/1/229/2/229/3/229/4/229/5/229/6/229/7/229/8/229/9/229/10/229/11/229/12/229/13/229/14/229/15/229/16/229/17/229/18/229/19/229/20/229/21/229/22/229/23/229/24/229/25/229/26/229/27/229/28/229/29/229/30/2210/1/2210/2/2210/3/2210/4/2210/5/2210/6/2210/7/2210/8/2210/9/2210/10/2210/11/2210/12/2210/13/2210/14/2210/15/2210/16/2210/17/2210/18/2210/19/2210/20/2210/21/2210/22/2210/23/2210/24/2210/25/2210/26/2210/27/2210/28/2210/29/2210/30/2210/31/2211/1/2211/2/2211/3/2211/4/2211/5/2211/6/2211/7/2211/8/2211/9/2211/10/2211/11/2211/12/2211/13/2211/14/2211/15/2211/16/2211/17/2211/18/2211/19/2211/20/2211/21/2211/22/2211/23/2211/24/2211/25/2211/26/2211/27/2211/28/2211/29/2211/30/2212/1/2212/2/2212/3/2212/4/2212/5/2212/6/2212/7/2212/8/2212/9/2212/10/2212/11/2212/12/2212/13/2212/14/2212/15/2212/16/2212/17/2212/18/2212/19/2212/20/2212/21/2212/22/2212/23/2212/24/2212/25/2212/26/2212/27/2212/28/2212/29/2212/30/2212/31/221/1/231/2/23",
                  "7594892",
                  "234756",
                  "3.090972195522991"
                ],
                [
                  "North Macedonia",
                  "0",
                  "44812.4622",
                  "23419.6881",
                  "1/22/201/23/201/24/201/25/201/26/201/27/201/28/201/29/201/30/201/31/202/1/202/2/202/3/202/4/202/5/202/6/202/7/202/8/202/9/202/10/202/11/202/12/202/13/202/14/202/15/202/16/202/17/202/18/202/19/202/20/202/21/202/22/202/23/202/24/202/25/202/26/202/27/202/28/202/29/203/1/203/2/203/3/203/4/203/5/203/6/203/7/203/8/203/9/203/10/203/11/203/12/203/13/203/14/203/15/203/16/203/17/203/18/203/19/203/20/203/21/203/22/203/23/203/24/203/25/203/26/203/27/203/28/203/29/203/30/203/31/204/1/204/2/204/3/204/4/204/5/204/6/204/7/204/8/204/9/204/10/204/11/204/12/204/13/204/14/204/15/204/16/204/17/204/18/204/19/204/20/204/21/204/22/204/23/204/24/204/25/204/26/204/27/204/28/204/29/204/30/205/1/205/2/205/3/205/4/205/5/205/6/205/7/205/8/205/9/205/10/205/11/205/12/205/13/205/14/205/15/205/16/205/17/205/18/205/19/205/20/205/21/205/22/205/23/205/24/205/25/205/26/205/27/205/28/205/29/205/30/205/31/206/1/206/2/206/3/206/4/206/5/206/6/206/7/206/8/206/9/206/10/206/11/206/12/206/13/206/14/206/15/206/16/206/17/206/18/206/19/206/20/206/21/206/22/206/23/206/24/206/25/206/26/206/27/206/28/206/29/206/30/207/1/207/2/207/3/207/4/207/5/207/6/207/7/207/8/207/9/207/10/207/11/207/12/207/13/207/14/207/15/207/16/207/17/207/18/207/19/207/20/207/21/207/22/207/23/207/24/207/25/207/26/207/27/207/28/207/29/207/30/207/31/208/1/208/2/208/3/208/4/208/5/208/6/208/7/208/8/208/9/208/10/208/11/208/12/208/13/208/14/208/15/208/16/208/17/208/18/208/19/208/20/208/21/208/22/208/23/208/24/208/25/208/26/208/27/208/28/208/29/208/30/208/31/209/1/209/2/209/3/209/4/209/5/209/6/209/7/209/8/209/9/209/10/209/11/209/12/209/13/209/14/209/15/209/16/209/17/209/18/209/19/209/20/209/21/209/22/209/23/209/24/209/25/209/26/209/27/209/28/209/29/209/30/2010/1/2010/2/2010/3/2010/4/2010/5/2010/6/2010/7/2010/8/2010/9/2010/10/2010/11/2010/12/2010/13/2010/14/2010/15/2010/16/2010/17/2010/18/2010/19/2010/20/2010/21/2010/22/2010/23/2010/24/2010/25/2010/26/2010/27/2010/28/2010/29/2010/30/2010/31/2011/1/2011/2/2011/3/2011/4/2011/5/2011/6/2011/7/2011/8/2011/9/2011/10/2011/11/2011/12/2011/13/2011/14/2011/15/2011/16/2011/17/2011/18/2011/19/2011/20/2011/21/2011/22/2011/23/2011/24/2011/25/2011/26/2011/27/2011/28/2011/29/2011/30/2012/1/2012/2/2012/3/2012/4/2012/5/2012/6/2012/7/2012/8/2012/9/2012/10/2012/11/2012/12/2012/13/2012/14/2012/15/2012/16/2012/17/2012/18/2012/19/2012/20/2012/21/2012/22/2012/23/2012/24/2012/25/2012/26/2012/27/2012/28/2012/29/2012/30/2012/31/201/1/211/2/211/3/211/4/211/5/211/6/211/7/211/8/211/9/211/10/211/11/211/12/211/13/211/14/211/15/211/16/211/17/211/18/211/19/211/20/211/21/211/22/211/23/211/24/211/25/211/26/211/27/211/28/211/29/211/30/211/31/212/1/212/2/212/3/212/4/212/5/212/6/212/7/212/8/212/9/212/10/212/11/212/12/212/13/212/14/212/15/212/16/212/17/212/18/212/19/212/20/212/21/212/22/212/23/212/24/212/25/212/26/212/27/212/28/213/1/213/2/213/3/213/4/213/5/213/6/213/7/213/8/213/9/213/10/213/11/213/12/213/13/213/14/213/15/213/16/213/17/213/18/213/19/213/20/213/21/213/22/213/23/213/24/213/25/213/26/213/27/213/28/213/29/213/30/213/31/214/1/214/2/214/3/214/4/214/5/214/6/214/7/214/8/214/9/214/10/214/11/214/12/214/13/214/14/214/15/214/16/214/17/214/18/214/19/214/20/214/21/214/22/214/23/214/24/214/25/214/26/214/27/214/28/214/29/214/30/215/1/215/2/215/3/215/4/215/5/215/6/215/7/215/8/215/9/215/10/215/11/215/12/215/13/215/14/215/15/215/16/215/17/215/18/215/19/215/20/215/21/215/22/215/23/215/24/215/25/215/26/215/27/215/28/215/29/215/30/215/31/216/1/216/2/216/3/216/4/216/5/216/6/216/7/216/8/216/9/216/10/216/11/216/12/216/13/216/14/216/15/216/16/216/17/216/18/216/19/216/20/216/21/216/22/216/23/216/24/216/25/216/26/216/27/216/28/216/29/216/30/217/1/217/2/217/3/217/4/217/5/217/6/217/7/217/8/217/9/217/10/217/11/217/12/217/13/217/14/217/15/217/16/217/17/217/18/217/19/217/20/217/21/217/22/217/23/217/24/217/25/217/26/217/27/217/28/217/29/217/30/217/31/218/1/218/2/218/3/218/4/218/5/218/6/218/7/218/8/218/9/218/10/218/11/218/12/218/13/218/14/218/15/218/16/218/17/218/18/218/19/218/20/218/21/218/22/218/23/218/24/218/25/218/26/218/27/218/28/218/29/218/30/218/31/219/1/219/2/219/3/219/4/219/5/219/6/219/7/219/8/219/9/219/10/219/11/219/12/219/13/219/14/219/15/219/16/219/17/219/18/219/19/219/20/219/21/219/22/219/23/219/24/219/25/219/26/219/27/219/28/219/29/219/30/2110/1/2110/2/2110/3/2110/4/2110/5/2110/6/2110/7/2110/8/2110/9/2110/10/2110/11/2110/12/2110/13/2110/14/2110/15/2110/16/2110/17/2110/18/2110/19/2110/20/2110/21/2110/22/2110/23/2110/24/2110/25/2110/26/2110/27/2110/28/2110/29/2110/30/2110/31/2111/1/2111/2/2111/3/2111/4/2111/5/2111/6/2111/7/2111/8/2111/9/2111/10/2111/11/2111/12/2111/13/2111/14/2111/15/2111/16/2111/17/2111/18/2111/19/2111/20/2111/21/2111/22/2111/23/2111/24/2111/25/2111/26/2111/27/2111/28/2111/29/2111/30/2112/1/2112/2/2112/3/2112/4/2112/5/2112/6/2112/7/2112/8/2112/9/2112/10/2112/11/2112/12/2112/13/2112/14/2112/15/2112/16/2112/17/2112/18/2112/19/2112/20/2112/21/2112/22/2112/23/2112/24/2112/25/2112/26/2112/27/2112/28/2112/29/2112/30/2112/31/211/1/221/2/221/3/221/4/221/5/221/6/221/7/221/8/221/9/221/10/221/11/221/12/221/13/221/14/221/15/221/16/221/17/221/18/221/19/221/20/221/21/221/22/221/23/221/24/221/25/221/26/221/27/221/28/221/29/221/30/221/31/222/1/222/2/222/3/222/4/222/5/222/6/222/7/222/8/222/9/222/10/222/11/222/12/222/13/222/14/222/15/222/16/222/17/222/18/222/19/222/20/222/21/222/22/222/23/222/24/222/25/222/26/222/27/222/28/223/1/223/2/223/3/223/4/223/5/223/6/223/7/223/8/223/9/223/10/223/11/223/12/223/13/223/14/223/15/223/16/223/17/223/18/223/19/223/20/223/21/223/22/223/23/223/24/223/25/223/26/223/27/223/28/223/29/223/30/223/31/224/1/224/2/224/3/224/4/224/5/224/6/224/7/224/8/224/9/224/10/224/11/224/12/224/13/224/14/224/15/224/16/224/17/224/18/224/19/224/20/224/21/224/22/224/23/224/24/224/25/224/26/224/27/224/28/224/29/224/30/225/1/225/2/225/3/225/4/225/5/225/6/225/7/225/8/225/9/225/10/225/11/225/12/225/13/225/14/225/15/225/16/225/17/225/18/225/19/225/20/225/21/225/22/225/23/225/24/225/25/225/26/225/27/225/28/225/29/225/30/225/31/226/1/226/2/226/3/226/4/226/5/226/6/226/7/226/8/226/9/226/10/226/11/226/12/226/13/226/14/226/15/226/16/226/17/226/18/226/19/226/20/226/21/226/22/226/23/226/24/226/25/226/26/226/27/226/28/226/29/226/30/227/1/227/2/227/3/227/4/227/5/227/6/227/7/227/8/227/9/227/10/227/11/227/12/227/13/227/14/227/15/227/16/227/17/227/18/227/19/227/20/227/21/227/22/227/23/227/24/227/25/227/26/227/27/227/28/227/29/227/30/227/31/228/1/228/2/228/3/228/4/228/5/228/6/228/7/228/8/228/9/228/10/228/11/228/12/228/13/228/14/228/15/228/16/228/17/228/18/228/19/228/20/228/21/228/22/228/23/228/24/228/25/228/26/228/27/228/28/228/29/228/30/228/31/229/1/229/2/229/3/229/4/229/5/229/6/229/7/229/8/229/9/229/10/229/11/229/12/229/13/229/14/229/15/229/16/229/17/229/18/229/19/229/20/229/21/229/22/229/23/229/24/229/25/229/26/229/27/229/28/229/29/229/30/2210/1/2210/2/2210/3/2210/4/2210/5/2210/6/2210/7/2210/8/2210/9/2210/10/2210/11/2210/12/2210/13/2210/14/2210/15/2210/16/2210/17/2210/18/2210/19/2210/20/2210/21/2210/22/2210/23/2210/24/2210/25/2210/26/2210/27/2210/28/2210/29/2210/30/2210/31/2211/1/2211/2/2211/3/2211/4/2211/5/2211/6/2211/7/2211/8/2211/9/2211/10/2211/11/2211/12/2211/13/2211/14/2211/15/2211/16/2211/17/2211/18/2211/19/2211/20/2211/21/2211/22/2211/23/2211/24/2211/25/2211/26/2211/27/2211/28/2211/29/2211/30/2212/1/2212/2/2212/3/2212/4/2212/5/2212/6/2212/7/2212/8/2212/9/2212/10/2212/11/2212/12/2212/13/2212/14/2212/15/2212/16/2212/17/2212/18/2212/19/2212/20/2212/21/2212/22/2212/23/2212/24/2212/25/2212/26/2212/27/2212/28/2212/29/2212/30/2212/31/221/1/231/2/23",
                  "179531163",
                  "5527202",
                  "3.0786866790363296"
                ],
                [
                  "Tunisia",
                  "0",
                  "36496.209609",
                  "10271.886423",
                  "1/22/201/23/201/24/201/25/201/26/201/27/201/28/201/29/201/30/201/31/202/1/202/2/202/3/202/4/202/5/202/6/202/7/202/8/202/9/202/10/202/11/202/12/202/13/202/14/202/15/202/16/202/17/202/18/202/19/202/20/202/21/202/22/202/23/202/24/202/25/202/26/202/27/202/28/202/29/203/1/203/2/203/3/203/4/203/5/203/6/203/7/203/8/203/9/203/10/203/11/203/12/203/13/203/14/203/15/203/16/203/17/203/18/203/19/203/20/203/21/203/22/203/23/203/24/203/25/203/26/203/27/203/28/203/29/203/30/203/31/204/1/204/2/204/3/204/4/204/5/204/6/204/7/204/8/204/9/204/10/204/11/204/12/204/13/204/14/204/15/204/16/204/17/204/18/204/19/204/20/204/21/204/22/204/23/204/24/204/25/204/26/204/27/204/28/204/29/204/30/205/1/205/2/205/3/205/4/205/5/205/6/205/7/205/8/205/9/205/10/205/11/205/12/205/13/205/14/205/15/205/16/205/17/205/18/205/19/205/20/205/21/205/22/205/23/205/24/205/25/205/26/205/27/205/28/205/29/205/30/205/31/206/1/206/2/206/3/206/4/206/5/206/6/206/7/206/8/206/9/206/10/206/11/206/12/206/13/206/14/206/15/206/16/206/17/206/18/206/19/206/20/206/21/206/22/206/23/206/24/206/25/206/26/206/27/206/28/206/29/206/30/207/1/207/2/207/3/207/4/207/5/207/6/207/7/207/8/207/9/207/10/207/11/207/12/207/13/207/14/207/15/207/16/207/17/207/18/207/19/207/20/207/21/207/22/207/23/207/24/207/25/207/26/207/27/207/28/207/29/207/30/207/31/208/1/208/2/208/3/208/4/208/5/208/6/208/7/208/8/208/9/208/10/208/11/208/12/208/13/208/14/208/15/208/16/208/17/208/18/208/19/208/20/208/21/208/22/208/23/208/24/208/25/208/26/208/27/208/28/208/29/208/30/208/31/209/1/209/2/209/3/209/4/209/5/209/6/209/7/209/8/209/9/209/10/209/11/209/12/209/13/209/14/209/15/209/16/209/17/209/18/209/19/209/20/209/21/209/22/209/23/209/24/209/25/209/26/209/27/209/28/209/29/209/30/2010/1/2010/2/2010/3/2010/4/2010/5/2010/6/2010/7/2010/8/2010/9/2010/10/2010/11/2010/12/2010/13/2010/14/2010/15/2010/16/2010/17/2010/18/2010/19/2010/20/2010/21/2010/22/2010/23/2010/24/2010/25/2010/26/2010/27/2010/28/2010/29/2010/30/2010/31/2011/1/2011/2/2011/3/2011/4/2011/5/2011/6/2011/7/2011/8/2011/9/2011/10/2011/11/2011/12/2011/13/2011/14/2011/15/2011/16/2011/17/2011/18/2011/19/2011/20/2011/21/2011/22/2011/23/2011/24/2011/25/2011/26/2011/27/2011/28/2011/29/2011/30/2012/1/2012/2/2012/3/2012/4/2012/5/2012/6/2012/7/2012/8/2012/9/2012/10/2012/11/2012/12/2012/13/2012/14/2012/15/2012/16/2012/17/2012/18/2012/19/2012/20/2012/21/2012/22/2012/23/2012/24/2012/25/2012/26/2012/27/2012/28/2012/29/2012/30/2012/31/201/1/211/2/211/3/211/4/211/5/211/6/211/7/211/8/211/9/211/10/211/11/211/12/211/13/211/14/211/15/211/16/211/17/211/18/211/19/211/20/211/21/211/22/211/23/211/24/211/25/211/26/211/27/211/28/211/29/211/30/211/31/212/1/212/2/212/3/212/4/212/5/212/6/212/7/212/8/212/9/212/10/212/11/212/12/212/13/212/14/212/15/212/16/212/17/212/18/212/19/212/20/212/21/212/22/212/23/212/24/212/25/212/26/212/27/212/28/213/1/213/2/213/3/213/4/213/5/213/6/213/7/213/8/213/9/213/10/213/11/213/12/213/13/213/14/213/15/213/16/213/17/213/18/213/19/213/20/213/21/213/22/213/23/213/24/213/25/213/26/213/27/213/28/213/29/213/30/213/31/214/1/214/2/214/3/214/4/214/5/214/6/214/7/214/8/214/9/214/10/214/11/214/12/214/13/214/14/214/15/214/16/214/17/214/18/214/19/214/20/214/21/214/22/214/23/214/24/214/25/214/26/214/27/214/28/214/29/214/30/215/1/215/2/215/3/215/4/215/5/215/6/215/7/215/8/215/9/215/10/215/11/215/12/215/13/215/14/215/15/215/16/215/17/215/18/215/19/215/20/215/21/215/22/215/23/215/24/215/25/215/26/215/27/215/28/215/29/215/30/215/31/216/1/216/2/216/3/216/4/216/5/216/6/216/7/216/8/216/9/216/10/216/11/216/12/216/13/216/14/216/15/216/16/216/17/216/18/216/19/216/20/216/21/216/22/216/23/216/24/216/25/216/26/216/27/216/28/216/29/216/30/217/1/217/2/217/3/217/4/217/5/217/6/217/7/217/8/217/9/217/10/217/11/217/12/217/13/217/14/217/15/217/16/217/17/217/18/217/19/217/20/217/21/217/22/217/23/217/24/217/25/217/26/217/27/217/28/217/29/217/30/217/31/218/1/218/2/218/3/218/4/218/5/218/6/218/7/218/8/218/9/218/10/218/11/218/12/218/13/218/14/218/15/218/16/218/17/218/18/218/19/218/20/218/21/218/22/218/23/218/24/218/25/218/26/218/27/218/28/218/29/218/30/218/31/219/1/219/2/219/3/219/4/219/5/219/6/219/7/219/8/219/9/219/10/219/11/219/12/219/13/219/14/219/15/219/16/219/17/219/18/219/19/219/20/219/21/219/22/219/23/219/24/219/25/219/26/219/27/219/28/219/29/219/30/2110/1/2110/2/2110/3/2110/4/2110/5/2110/6/2110/7/2110/8/2110/9/2110/10/2110/11/2110/12/2110/13/2110/14/2110/15/2110/16/2110/17/2110/18/2110/19/2110/20/2110/21/2110/22/2110/23/2110/24/2110/25/2110/26/2110/27/2110/28/2110/29/2110/30/2110/31/2111/1/2111/2/2111/3/2111/4/2111/5/2111/6/2111/7/2111/8/2111/9/2111/10/2111/11/2111/12/2111/13/2111/14/2111/15/2111/16/2111/17/2111/18/2111/19/2111/20/2111/21/2111/22/2111/23/2111/24/2111/25/2111/26/2111/27/2111/28/2111/29/2111/30/2112/1/2112/2/2112/3/2112/4/2112/5/2112/6/2112/7/2112/8/2112/9/2112/10/2112/11/2112/12/2112/13/2112/14/2112/15/2112/16/2112/17/2112/18/2112/19/2112/20/2112/21/2112/22/2112/23/2112/24/2112/25/2112/26/2112/27/2112/28/2112/29/2112/30/2112/31/211/1/221/2/221/3/221/4/221/5/221/6/221/7/221/8/221/9/221/10/221/11/221/12/221/13/221/14/221/15/221/16/221/17/221/18/221/19/221/20/221/21/221/22/221/23/221/24/221/25/221/26/221/27/221/28/221/29/221/30/221/31/222/1/222/2/222/3/222/4/222/5/222/6/222/7/222/8/222/9/222/10/222/11/222/12/222/13/222/14/222/15/222/16/222/17/222/18/222/19/222/20/222/21/222/22/222/23/222/24/222/25/222/26/222/27/222/28/223/1/223/2/223/3/223/4/223/5/223/6/223/7/223/8/223/9/223/10/223/11/223/12/223/13/223/14/223/15/223/16/223/17/223/18/223/19/223/20/223/21/223/22/223/23/223/24/223/25/223/26/223/27/223/28/223/29/223/30/223/31/224/1/224/2/224/3/224/4/224/5/224/6/224/7/224/8/224/9/224/10/224/11/224/12/224/13/224/14/224/15/224/16/224/17/224/18/224/19/224/20/224/21/224/22/224/23/224/24/224/25/224/26/224/27/224/28/224/29/224/30/225/1/225/2/225/3/225/4/225/5/225/6/225/7/225/8/225/9/225/10/225/11/225/12/225/13/225/14/225/15/225/16/225/17/225/18/225/19/225/20/225/21/225/22/225/23/225/24/225/25/225/26/225/27/225/28/225/29/225/30/225/31/226/1/226/2/226/3/226/4/226/5/226/6/226/7/226/8/226/9/226/10/226/11/226/12/226/13/226/14/226/15/226/16/226/17/226/18/226/19/226/20/226/21/226/22/226/23/226/24/226/25/226/26/226/27/226/28/226/29/226/30/227/1/227/2/227/3/227/4/227/5/227/6/227/7/227/8/227/9/227/10/227/11/227/12/227/13/227/14/227/15/227/16/227/17/227/18/227/19/227/20/227/21/227/22/227/23/227/24/227/25/227/26/227/27/227/28/227/29/227/30/227/31/228/1/228/2/228/3/228/4/228/5/228/6/228/7/228/8/228/9/228/10/228/11/228/12/228/13/228/14/228/15/228/16/228/17/228/18/228/19/228/20/228/21/228/22/228/23/228/24/228/25/228/26/228/27/228/28/228/29/228/30/228/31/229/1/229/2/229/3/229/4/229/5/229/6/229/7/229/8/229/9/229/10/229/11/229/12/229/13/229/14/229/15/229/16/229/17/229/18/229/19/229/20/229/21/229/22/229/23/229/24/229/25/229/26/229/27/229/28/229/29/229/30/2210/1/2210/2/2210/3/2210/4/2210/5/2210/6/2210/7/2210/8/2210/9/2210/10/2210/11/2210/12/2210/13/2210/14/2210/15/2210/16/2210/17/2210/18/2210/19/2210/20/2210/21/2210/22/2210/23/2210/24/2210/25/2210/26/2210/27/2210/28/2210/29/2210/30/2210/31/2211/1/2211/2/2211/3/2211/4/2211/5/2211/6/2211/7/2211/8/2211/9/2211/10/2211/11/2211/12/2211/13/2211/14/2211/15/2211/16/2211/17/2211/18/2211/19/2211/20/2211/21/2211/22/2211/23/2211/24/2211/25/2211/26/2211/27/2211/28/2211/29/2211/30/2212/1/2212/2/2212/3/2212/4/2212/5/2212/6/2212/7/2212/8/2212/9/2212/10/2212/11/2212/12/2212/13/2212/14/2212/15/2212/16/2212/17/2212/18/2212/19/2212/20/2212/21/2212/22/2212/23/2212/24/2212/25/2212/26/2212/27/2212/28/2212/29/2212/30/2212/31/221/1/231/2/23",
                  "568510538",
                  "16663971",
                  "2.931163080744864"
                ],
                [
                  "Paraguay",
                  "0",
                  "-25247.5725",
                  "-62943.9726",
                  "1/22/201/23/201/24/201/25/201/26/201/27/201/28/201/29/201/30/201/31/202/1/202/2/202/3/202/4/202/5/202/6/202/7/202/8/202/9/202/10/202/11/202/12/202/13/202/14/202/15/202/16/202/17/202/18/202/19/202/20/202/21/202/22/202/23/202/24/202/25/202/26/202/27/202/28/202/29/203/1/203/2/203/3/203/4/203/5/203/6/203/7/203/8/203/9/203/10/203/11/203/12/203/13/203/14/203/15/203/16/203/17/203/18/203/19/203/20/203/21/203/22/203/23/203/24/203/25/203/26/203/27/203/28/203/29/203/30/203/31/204/1/204/2/204/3/204/4/204/5/204/6/204/7/204/8/204/9/204/10/204/11/204/12/204/13/204/14/204/15/204/16/204/17/204/18/204/19/204/20/204/21/204/22/204/23/204/24/204/25/204/26/204/27/204/28/204/29/204/30/205/1/205/2/205/3/205/4/205/5/205/6/205/7/205/8/205/9/205/10/205/11/205/12/205/13/205/14/205/15/205/16/205/17/205/18/205/19/205/20/205/21/205/22/205/23/205/24/205/25/205/26/205/27/205/28/205/29/205/30/205/31/206/1/206/2/206/3/206/4/206/5/206/6/206/7/206/8/206/9/206/10/206/11/206/12/206/13/206/14/206/15/206/16/206/17/206/18/206/19/206/20/206/21/206/22/206/23/206/24/206/25/206/26/206/27/206/28/206/29/206/30/207/1/207/2/207/3/207/4/207/5/207/6/207/7/207/8/207/9/207/10/207/11/207/12/207/13/207/14/207/15/207/16/207/17/207/18/207/19/207/20/207/21/207/22/207/23/207/24/207/25/207/26/207/27/207/28/207/29/207/30/207/31/208/1/208/2/208/3/208/4/208/5/208/6/208/7/208/8/208/9/208/10/208/11/208/12/208/13/208/14/208/15/208/16/208/17/208/18/208/19/208/20/208/21/208/22/208/23/208/24/208/25/208/26/208/27/208/28/208/29/208/30/208/31/209/1/209/2/209/3/209/4/209/5/209/6/209/7/209/8/209/9/209/10/209/11/209/12/209/13/209/14/209/15/209/16/209/17/209/18/209/19/209/20/209/21/209/22/209/23/209/24/209/25/209/26/209/27/209/28/209/29/209/30/2010/1/2010/2/2010/3/2010/4/2010/5/2010/6/2010/7/2010/8/2010/9/2010/10/2010/11/2010/12/2010/13/2010/14/2010/15/2010/16/2010/17/2010/18/2010/19/2010/20/2010/21/2010/22/2010/23/2010/24/2010/25/2010/26/2010/27/2010/28/2010/29/2010/30/2010/31/2011/1/2011/2/2011/3/2011/4/2011/5/2011/6/2011/7/2011/8/2011/9/2011/10/2011/11/2011/12/2011/13/2011/14/2011/15/2011/16/2011/17/2011/18/2011/19/2011/20/2011/21/2011/22/2011/23/2011/24/2011/25/2011/26/2011/27/2011/28/2011/29/2011/30/2012/1/2012/2/2012/3/2012/4/2012/5/2012/6/2012/7/2012/8/2012/9/2012/10/2012/11/2012/12/2012/13/2012/14/2012/15/2012/16/2012/17/2012/18/2012/19/2012/20/2012/21/2012/22/2012/23/2012/24/2012/25/2012/26/2012/27/2012/28/2012/29/2012/30/2012/31/201/1/211/2/211/3/211/4/211/5/211/6/211/7/211/8/211/9/211/10/211/11/211/12/211/13/211/14/211/15/211/16/211/17/211/18/211/19/211/20/211/21/211/22/211/23/211/24/211/25/211/26/211/27/211/28/211/29/211/30/211/31/212/1/212/2/212/3/212/4/212/5/212/6/212/7/212/8/212/9/212/10/212/11/212/12/212/13/212/14/212/15/212/16/212/17/212/18/212/19/212/20/212/21/212/22/212/23/212/24/212/25/212/26/212/27/212/28/213/1/213/2/213/3/213/4/213/5/213/6/213/7/213/8/213/9/213/10/213/11/213/12/213/13/213/14/213/15/213/16/213/17/213/18/213/19/213/20/213/21/213/22/213/23/213/24/213/25/213/26/213/27/213/28/213/29/213/30/213/31/214/1/214/2/214/3/214/4/214/5/214/6/214/7/214/8/214/9/214/10/214/11/214/12/214/13/214/14/214/15/214/16/214/17/214/18/214/19/214/20/214/21/214/22/214/23/214/24/214/25/214/26/214/27/214/28/214/29/214/30/215/1/215/2/215/3/215/4/215/5/215/6/215/7/215/8/215/9/215/10/215/11/215/12/215/13/215/14/215/15/215/16/215/17/215/18/215/19/215/20/215/21/215/22/215/23/215/24/215/25/215/26/215/27/215/28/215/29/215/30/215/31/216/1/216/2/216/3/216/4/216/5/216/6/216/7/216/8/216/9/216/10/216/11/216/12/216/13/216/14/216/15/216/16/216/17/216/18/216/19/216/20/216/21/216/22/216/23/216/24/216/25/216/26/216/27/216/28/216/29/216/30/217/1/217/2/217/3/217/4/217/5/217/6/217/7/217/8/217/9/217/10/217/11/217/12/217/13/217/14/217/15/217/16/217/17/217/18/217/19/217/20/217/21/217/22/217/23/217/24/217/25/217/26/217/27/217/28/217/29/217/30/217/31/218/1/218/2/218/3/218/4/218/5/218/6/218/7/218/8/218/9/218/10/218/11/218/12/218/13/218/14/218/15/218/16/218/17/218/18/218/19/218/20/218/21/218/22/218/23/218/24/218/25/218/26/218/27/218/28/218/29/218/30/218/31/219/1/219/2/219/3/219/4/219/5/219/6/219/7/219/8/219/9/219/10/219/11/219/12/219/13/219/14/219/15/219/16/219/17/219/18/219/19/219/20/219/21/219/22/219/23/219/24/219/25/219/26/219/27/219/28/219/29/219/30/2110/1/2110/2/2110/3/2110/4/2110/5/2110/6/2110/7/2110/8/2110/9/2110/10/2110/11/2110/12/2110/13/2110/14/2110/15/2110/16/2110/17/2110/18/2110/19/2110/20/2110/21/2110/22/2110/23/2110/24/2110/25/2110/26/2110/27/2110/28/2110/29/2110/30/2110/31/2111/1/2111/2/2111/3/2111/4/2111/5/2111/6/2111/7/2111/8/2111/9/2111/10/2111/11/2111/12/2111/13/2111/14/2111/15/2111/16/2111/17/2111/18/2111/19/2111/20/2111/21/2111/22/2111/23/2111/24/2111/25/2111/26/2111/27/2111/28/2111/29/2111/30/2112/1/2112/2/2112/3/2112/4/2112/5/2112/6/2112/7/2112/8/2112/9/2112/10/2112/11/2112/12/2112/13/2112/14/2112/15/2112/16/2112/17/2112/18/2112/19/2112/20/2112/21/2112/22/2112/23/2112/24/2112/25/2112/26/2112/27/2112/28/2112/29/2112/30/2112/31/211/1/221/2/221/3/221/4/221/5/221/6/221/7/221/8/221/9/221/10/221/11/221/12/221/13/221/14/221/15/221/16/221/17/221/18/221/19/221/20/221/21/221/22/221/23/221/24/221/25/221/26/221/27/221/28/221/29/221/30/221/31/222/1/222/2/222/3/222/4/222/5/222/6/222/7/222/8/222/9/222/10/222/11/222/12/222/13/222/14/222/15/222/16/222/17/222/18/222/19/222/20/222/21/222/22/222/23/222/24/222/25/222/26/222/27/222/28/223/1/223/2/223/3/223/4/223/5/223/6/223/7/223/8/223/9/223/10/223/11/223/12/223/13/223/14/223/15/223/16/223/17/223/18/223/19/223/20/223/21/223/22/223/23/223/24/223/25/223/26/223/27/223/28/223/29/223/30/223/31/224/1/224/2/224/3/224/4/224/5/224/6/224/7/224/8/224/9/224/10/224/11/224/12/224/13/224/14/224/15/224/16/224/17/224/18/224/19/224/20/224/21/224/22/224/23/224/24/224/25/224/26/224/27/224/28/224/29/224/30/225/1/225/2/225/3/225/4/225/5/225/6/225/7/225/8/225/9/225/10/225/11/225/12/225/13/225/14/225/15/225/16/225/17/225/18/225/19/225/20/225/21/225/22/225/23/225/24/225/25/225/26/225/27/225/28/225/29/225/30/225/31/226/1/226/2/226/3/226/4/226/5/226/6/226/7/226/8/226/9/226/10/226/11/226/12/226/13/226/14/226/15/226/16/226/17/226/18/226/19/226/20/226/21/226/22/226/23/226/24/226/25/226/26/226/27/226/28/226/29/226/30/227/1/227/2/227/3/227/4/227/5/227/6/227/7/227/8/227/9/227/10/227/11/227/12/227/13/227/14/227/15/227/16/227/17/227/18/227/19/227/20/227/21/227/22/227/23/227/24/227/25/227/26/227/27/227/28/227/29/227/30/227/31/228/1/228/2/228/3/228/4/228/5/228/6/228/7/228/8/228/9/228/10/228/11/228/12/228/13/228/14/228/15/228/16/228/17/228/18/228/19/228/20/228/21/228/22/228/23/228/24/228/25/228/26/228/27/228/28/228/29/228/30/228/31/229/1/229/2/229/3/229/4/229/5/229/6/229/7/229/8/229/9/229/10/229/11/229/12/229/13/229/14/229/15/229/16/229/17/229/18/229/19/229/20/229/21/229/22/229/23/229/24/229/25/229/26/229/27/229/28/229/29/229/30/2210/1/2210/2/2210/3/2210/4/2210/5/2210/6/2210/7/2210/8/2210/9/2210/10/2210/11/2210/12/2210/13/2210/14/2210/15/2210/16/2210/17/2210/18/2210/19/2210/20/2210/21/2210/22/2210/23/2210/24/2210/25/2210/26/2210/27/2210/28/2210/29/2210/30/2210/31/2211/1/2211/2/2211/3/2211/4/2211/5/2211/6/2211/7/2211/8/2211/9/2211/10/2211/11/2211/12/2211/13/2211/14/2211/15/2211/16/2211/17/2211/18/2211/19/2211/20/2211/21/2211/22/2211/23/2211/24/2211/25/2211/26/2211/27/2211/28/2211/29/2211/30/2212/1/2212/2/2212/3/2212/4/2212/5/2212/6/2212/7/2212/8/2212/9/2212/10/2212/11/2212/12/2212/13/2212/14/2212/15/2212/16/2212/17/2212/18/2212/19/2212/20/2212/21/2212/22/2212/23/2212/24/2212/25/2212/26/2212/27/2212/28/2212/29/2212/30/2212/31/221/1/231/2/23",
                  "381417649",
                  "11012770",
                  "2.887325751410103"
                ],
                [
                  "Bolivia",
                  "0",
                  "-17544.5454",
                  "-68485.02990000001",
                  "1/22/201/23/201/24/201/25/201/26/201/27/201/28/201/29/201/30/201/31/202/1/202/2/202/3/202/4/202/5/202/6/202/7/202/8/202/9/202/10/202/11/202/12/202/13/202/14/202/15/202/16/202/17/202/18/202/19/202/20/202/21/202/22/202/23/202/24/202/25/202/26/202/27/202/28/202/29/203/1/203/2/203/3/203/4/203/5/203/6/203/7/203/8/203/9/203/10/203/11/203/12/203/13/203/14/203/15/203/16/203/17/203/18/203/19/203/20/203/21/203/22/203/23/203/24/203/25/203/26/203/27/203/28/203/29/203/30/203/31/204/1/204/2/204/3/204/4/204/5/204/6/204/7/204/8/204/9/204/10/204/11/204/12/204/13/204/14/204/15/204/16/204/17/204/18/204/19/204/20/204/21/204/22/204/23/204/24/204/25/204/26/204/27/204/28/204/29/204/30/205/1/205/2/205/3/205/4/205/5/205/6/205/7/205/8/205/9/205/10/205/11/205/12/205/13/205/14/205/15/205/16/205/17/205/18/205/19/205/20/205/21/205/22/205/23/205/24/205/25/205/26/205/27/205/28/205/29/205/30/205/31/206/1/206/2/206/3/206/4/206/5/206/6/206/7/206/8/206/9/206/10/206/11/206/12/206/13/206/14/206/15/206/16/206/17/206/18/206/19/206/20/206/21/206/22/206/23/206/24/206/25/206/26/206/27/206/28/206/29/206/30/207/1/207/2/207/3/207/4/207/5/207/6/207/7/207/8/207/9/207/10/207/11/207/12/207/13/207/14/207/15/207/16/207/17/207/18/207/19/207/20/207/21/207/22/207/23/207/24/207/25/207/26/207/27/207/28/207/29/207/30/207/31/208/1/208/2/208/3/208/4/208/5/208/6/208/7/208/8/208/9/208/10/208/11/208/12/208/13/208/14/208/15/208/16/208/17/208/18/208/19/208/20/208/21/208/22/208/23/208/24/208/25/208/26/208/27/208/28/208/29/208/30/208/31/209/1/209/2/209/3/209/4/209/5/209/6/209/7/209/8/209/9/209/10/209/11/209/12/209/13/209/14/209/15/209/16/209/17/209/18/209/19/209/20/209/21/209/22/209/23/209/24/209/25/209/26/209/27/209/28/209/29/209/30/2010/1/2010/2/2010/3/2010/4/2010/5/2010/6/2010/7/2010/8/2010/9/2010/10/2010/11/2010/12/2010/13/2010/14/2010/15/2010/16/2010/17/2010/18/2010/19/2010/20/2010/21/2010/22/2010/23/2010/24/2010/25/2010/26/2010/27/2010/28/2010/29/2010/30/2010/31/2011/1/2011/2/2011/3/2011/4/2011/5/2011/6/2011/7/2011/8/2011/9/2011/10/2011/11/2011/12/2011/13/2011/14/2011/15/2011/16/2011/17/2011/18/2011/19/2011/20/2011/21/2011/22/2011/23/2011/24/2011/25/2011/26/2011/27/2011/28/2011/29/2011/30/2012/1/2012/2/2012/3/2012/4/2012/5/2012/6/2012/7/2012/8/2012/9/2012/10/2012/11/2012/12/2012/13/2012/14/2012/15/2012/16/2012/17/2012/18/2012/19/2012/20/2012/21/2012/22/2012/23/2012/24/2012/25/2012/26/2012/27/2012/28/2012/29/2012/30/2012/31/201/1/211/2/211/3/211/4/211/5/211/6/211/7/211/8/211/9/211/10/211/11/211/12/211/13/211/14/211/15/211/16/211/17/211/18/211/19/211/20/211/21/211/22/211/23/211/24/211/25/211/26/211/27/211/28/211/29/211/30/211/31/212/1/212/2/212/3/212/4/212/5/212/6/212/7/212/8/212/9/212/10/212/11/212/12/212/13/212/14/212/15/212/16/212/17/212/18/212/19/212/20/212/21/212/22/212/23/212/24/212/25/212/26/212/27/212/28/213/1/213/2/213/3/213/4/213/5/213/6/213/7/213/8/213/9/213/10/213/11/213/12/213/13/213/14/213/15/213/16/213/17/213/18/213/19/213/20/213/21/213/22/213/23/213/24/213/25/213/26/213/27/213/28/213/29/213/30/213/31/214/1/214/2/214/3/214/4/214/5/214/6/214/7/214/8/214/9/214/10/214/11/214/12/214/13/214/14/214/15/214/16/214/17/214/18/214/19/214/20/214/21/214/22/214/23/214/24/214/25/214/26/214/27/214/28/214/29/214/30/215/1/215/2/215/3/215/4/215/5/215/6/215/7/215/8/215/9/215/10/215/11/215/12/215/13/215/14/215/15/215/16/215/17/215/18/215/19/215/20/215/21/215/22/215/23/215/24/215/25/215/26/215/27/215/28/215/29/215/30/215/31/216/1/216/2/216/3/216/4/216/5/216/6/216/7/216/8/216/9/216/10/216/11/216/12/216/13/216/14/216/15/216/16/216/17/216/18/216/19/216/20/216/21/216/22/216/23/216/24/216/25/216/26/216/27/216/28/216/29/216/30/217/1/217/2/217/3/217/4/217/5/217/6/217/7/217/8/217/9/217/10/217/11/217/12/217/13/217/14/217/15/217/16/217/17/217/18/217/19/217/20/217/21/217/22/217/23/217/24/217/25/217/26/217/27/217/28/217/29/217/30/217/31/218/1/218/2/218/3/218/4/218/5/218/6/218/7/218/8/218/9/218/10/218/11/218/12/218/13/218/14/218/15/218/16/218/17/218/18/218/19/218/20/218/21/218/22/218/23/218/24/218/25/218/26/218/27/218/28/218/29/218/30/218/31/219/1/219/2/219/3/219/4/219/5/219/6/219/7/219/8/219/9/219/10/219/11/219/12/219/13/219/14/219/15/219/16/219/17/219/18/219/19/219/20/219/21/219/22/219/23/219/24/219/25/219/26/219/27/219/28/219/29/219/30/2110/1/2110/2/2110/3/2110/4/2110/5/2110/6/2110/7/2110/8/2110/9/2110/10/2110/11/2110/12/2110/13/2110/14/2110/15/2110/16/2110/17/2110/18/2110/19/2110/20/2110/21/2110/22/2110/23/2110/24/2110/25/2110/26/2110/27/2110/28/2110/29/2110/30/2110/31/2111/1/2111/2/2111/3/2111/4/2111/5/2111/6/2111/7/2111/8/2111/9/2111/10/2111/11/2111/12/2111/13/2111/14/2111/15/2111/16/2111/17/2111/18/2111/19/2111/20/2111/21/2111/22/2111/23/2111/24/2111/25/2111/26/2111/27/2111/28/2111/29/2111/30/2112/1/2112/2/2112/3/2112/4/2112/5/2112/6/2112/7/2112/8/2112/9/2112/10/2112/11/2112/12/2112/13/2112/14/2112/15/2112/16/2112/17/2112/18/2112/19/2112/20/2112/21/2112/22/2112/23/2112/24/2112/25/2112/26/2112/27/2112/28/2112/29/2112/30/2112/31/211/1/221/2/221/3/221/4/221/5/221/6/221/7/221/8/221/9/221/10/221/11/221/12/221/13/221/14/221/15/221/16/221/17/221/18/221/19/221/20/221/21/221/22/221/23/221/24/221/25/221/26/221/27/221/28/221/29/221/30/221/31/222/1/222/2/222/3/222/4/222/5/222/6/222/7/222/8/222/9/222/10/222/11/222/12/222/13/222/14/222/15/222/16/222/17/222/18/222/19/222/20/222/21/222/22/222/23/222/24/222/25/222/26/222/27/222/28/223/1/223/2/223/3/223/4/223/5/223/6/223/7/223/8/223/9/223/10/223/11/223/12/223/13/223/14/223/15/223/16/223/17/223/18/223/19/223/20/223/21/223/22/223/23/223/24/223/25/223/26/223/27/223/28/223/29/223/30/223/31/224/1/224/2/224/3/224/4/224/5/224/6/224/7/224/8/224/9/224/10/224/11/224/12/224/13/224/14/224/15/224/16/224/17/224/18/224/19/224/20/224/21/224/22/224/23/224/24/224/25/224/26/224/27/224/28/224/29/224/30/225/1/225/2/225/3/225/4/225/5/225/6/225/7/225/8/225/9/225/10/225/11/225/12/225/13/225/14/225/15/225/16/225/17/225/18/225/19/225/20/225/21/225/22/225/23/225/24/225/25/225/26/225/27/225/28/225/29/225/30/225/31/226/1/226/2/226/3/226/4/226/5/226/6/226/7/226/8/226/9/226/10/226/11/226/12/226/13/226/14/226/15/226/16/226/17/226/18/226/19/226/20/226/21/226/22/226/23/226/24/226/25/226/26/226/27/226/28/226/29/226/30/227/1/227/2/227/3/227/4/227/5/227/6/227/7/227/8/227/9/227/10/227/11/227/12/227/13/227/14/227/15/227/16/227/17/227/18/227/19/227/20/227/21/227/22/227/23/227/24/227/25/227/26/227/27/227/28/227/29/227/30/227/31/228/1/228/2/228/3/228/4/228/5/228/6/228/7/228/8/228/9/228/10/228/11/228/12/228/13/228/14/228/15/228/16/228/17/228/18/228/19/228/20/228/21/228/22/228/23/228/24/228/25/228/26/228/27/228/28/228/29/228/30/228/31/229/1/229/2/229/3/229/4/229/5/229/6/229/7/229/8/229/9/229/10/229/11/229/12/229/13/229/14/229/15/229/16/229/17/229/18/229/19/229/20/229/21/229/22/229/23/229/24/229/25/229/26/229/27/229/28/229/29/229/30/2210/1/2210/2/2210/3/2210/4/2210/5/2210/6/2210/7/2210/8/2210/9/2210/10/2210/11/2210/12/2210/13/2210/14/2210/15/2210/16/2210/17/2210/18/2210/19/2210/20/2210/21/2210/22/2210/23/2210/24/2210/25/2210/26/2210/27/2210/28/2210/29/2210/30/2210/31/2211/1/2211/2/2211/3/2211/4/2211/5/2211/6/2211/7/2211/8/2211/9/2211/10/2211/11/2211/12/2211/13/2211/14/2211/15/2211/16/2211/17/2211/18/2211/19/2211/20/2211/21/2211/22/2211/23/2211/24/2211/25/2211/26/2211/27/2211/28/2211/29/2211/30/2212/1/2212/2/2212/3/2212/4/2212/5/2212/6/2212/7/2212/8/2212/9/2212/10/2212/11/2212/12/2212/13/2212/14/2212/15/2212/16/2212/17/2212/18/2212/19/2212/20/2212/21/2212/22/2212/23/2212/24/2212/25/2212/26/2212/27/2212/28/2212/29/2212/30/2212/31/221/1/231/2/23",
                  "527418279",
                  "14919814",
                  "2.828839005786525"
                ],
                [
                  "Mali",
                  "0",
                  "18923.635284",
                  "-4303.870782",
                  "1/22/201/23/201/24/201/25/201/26/201/27/201/28/201/29/201/30/201/31/202/1/202/2/202/3/202/4/202/5/202/6/202/7/202/8/202/9/202/10/202/11/202/12/202/13/202/14/202/15/202/16/202/17/202/18/202/19/202/20/202/21/202/22/202/23/202/24/202/25/202/26/202/27/202/28/202/29/203/1/203/2/203/3/203/4/203/5/203/6/203/7/203/8/203/9/203/10/203/11/203/12/203/13/203/14/203/15/203/16/203/17/203/18/203/19/203/20/203/21/203/22/203/23/203/24/203/25/203/26/203/27/203/28/203/29/203/30/203/31/204/1/204/2/204/3/204/4/204/5/204/6/204/7/204/8/204/9/204/10/204/11/204/12/204/13/204/14/204/15/204/16/204/17/204/18/204/19/204/20/204/21/204/22/204/23/204/24/204/25/204/26/204/27/204/28/204/29/204/30/205/1/205/2/205/3/205/4/205/5/205/6/205/7/205/8/205/9/205/10/205/11/205/12/205/13/205/14/205/15/205/16/205/17/205/18/205/19/205/20/205/21/205/22/205/23/205/24/205/25/205/26/205/27/205/28/205/29/205/30/205/31/206/1/206/2/206/3/206/4/206/5/206/6/206/7/206/8/206/9/206/10/206/11/206/12/206/13/206/14/206/15/206/16/206/17/206/18/206/19/206/20/206/21/206/22/206/23/206/24/206/25/206/26/206/27/206/28/206/29/206/30/207/1/207/2/207/3/207/4/207/5/207/6/207/7/207/8/207/9/207/10/207/11/207/12/207/13/207/14/207/15/207/16/207/17/207/18/207/19/207/20/207/21/207/22/207/23/207/24/207/25/207/26/207/27/207/28/207/29/207/30/207/31/208/1/208/2/208/3/208/4/208/5/208/6/208/7/208/8/208/9/208/10/208/11/208/12/208/13/208/14/208/15/208/16/208/17/208/18/208/19/208/20/208/21/208/22/208/23/208/24/208/25/208/26/208/27/208/28/208/29/208/30/208/31/209/1/209/2/209/3/209/4/209/5/209/6/209/7/209/8/209/9/209/10/209/11/209/12/209/13/209/14/209/15/209/16/209/17/209/18/209/19/209/20/209/21/209/22/209/23/209/24/209/25/209/26/209/27/209/28/209/29/209/30/2010/1/2010/2/2010/3/2010/4/2010/5/2010/6/2010/7/2010/8/2010/9/2010/10/2010/11/2010/12/2010/13/2010/14/2010/15/2010/16/2010/17/2010/18/2010/19/2010/20/2010/21/2010/22/2010/23/2010/24/2010/25/2010/26/2010/27/2010/28/2010/29/2010/30/2010/31/2011/1/2011/2/2011/3/2011/4/2011/5/2011/6/2011/7/2011/8/2011/9/2011/10/2011/11/2011/12/2011/13/2011/14/2011/15/2011/16/2011/17/2011/18/2011/19/2011/20/2011/21/2011/22/2011/23/2011/24/2011/25/2011/26/2011/27/2011/28/2011/29/2011/30/2012/1/2012/2/2012/3/2012/4/2012/5/2012/6/2012/7/2012/8/2012/9/2012/10/2012/11/2012/12/2012/13/2012/14/2012/15/2012/16/2012/17/2012/18/2012/19/2012/20/2012/21/2012/22/2012/23/2012/24/2012/25/2012/26/2012/27/2012/28/2012/29/2012/30/2012/31/201/1/211/2/211/3/211/4/211/5/211/6/211/7/211/8/211/9/211/10/211/11/211/12/211/13/211/14/211/15/211/16/211/17/211/18/211/19/211/20/211/21/211/22/211/23/211/24/211/25/211/26/211/27/211/28/211/29/211/30/211/31/212/1/212/2/212/3/212/4/212/5/212/6/212/7/212/8/212/9/212/10/212/11/212/12/212/13/212/14/212/15/212/16/212/17/212/18/212/19/212/20/212/21/212/22/212/23/212/24/212/25/212/26/212/27/212/28/213/1/213/2/213/3/213/4/213/5/213/6/213/7/213/8/213/9/213/10/213/11/213/12/213/13/213/14/213/15/213/16/213/17/213/18/213/19/213/20/213/21/213/22/213/23/213/24/213/25/213/26/213/27/213/28/213/29/213/30/213/31/214/1/214/2/214/3/214/4/214/5/214/6/214/7/214/8/214/9/214/10/214/11/214/12/214/13/214/14/214/15/214/16/214/17/214/18/214/19/214/20/214/21/214/22/214/23/214/24/214/25/214/26/214/27/214/28/214/29/214/30/215/1/215/2/215/3/215/4/215/5/215/6/215/7/215/8/215/9/215/10/215/11/215/12/215/13/215/14/215/15/215/16/215/17/215/18/215/19/215/20/215/21/215/22/215/23/215/24/215/25/215/26/215/27/215/28/215/29/215/30/215/31/216/1/216/2/216/3/216/4/216/5/216/6/216/7/216/8/216/9/216/10/216/11/216/12/216/13/216/14/216/15/216/16/216/17/216/18/216/19/216/20/216/21/216/22/216/23/216/24/216/25/216/26/216/27/216/28/216/29/216/30/217/1/217/2/217/3/217/4/217/5/217/6/217/7/217/8/217/9/217/10/217/11/217/12/217/13/217/14/217/15/217/16/217/17/217/18/217/19/217/20/217/21/217/22/217/23/217/24/217/25/217/26/217/27/217/28/217/29/217/30/217/31/218/1/218/2/218/3/218/4/218/5/218/6/218/7/218/8/218/9/218/10/218/11/218/12/218/13/218/14/218/15/218/16/218/17/218/18/218/19/218/20/218/21/218/22/218/23/218/24/218/25/218/26/218/27/218/28/218/29/218/30/218/31/219/1/219/2/219/3/219/4/219/5/219/6/219/7/219/8/219/9/219/10/219/11/219/12/219/13/219/14/219/15/219/16/219/17/219/18/219/19/219/20/219/21/219/22/219/23/219/24/219/25/219/26/219/27/219/28/219/29/219/30/2110/1/2110/2/2110/3/2110/4/2110/5/2110/6/2110/7/2110/8/2110/9/2110/10/2110/11/2110/12/2110/13/2110/14/2110/15/2110/16/2110/17/2110/18/2110/19/2110/20/2110/21/2110/22/2110/23/2110/24/2110/25/2110/26/2110/27/2110/28/2110/29/2110/30/2110/31/2111/1/2111/2/2111/3/2111/4/2111/5/2111/6/2111/7/2111/8/2111/9/2111/10/2111/11/2111/12/2111/13/2111/14/2111/15/2111/16/2111/17/2111/18/2111/19/2111/20/2111/21/2111/22/2111/23/2111/24/2111/25/2111/26/2111/27/2111/28/2111/29/2111/30/2112/1/2112/2/2112/3/2112/4/2112/5/2112/6/2112/7/2112/8/2112/9/2112/10/2112/11/2112/12/2112/13/2112/14/2112/15/2112/16/2112/17/2112/18/2112/19/2112/20/2112/21/2112/22/2112/23/2112/24/2112/25/2112/26/2112/27/2112/28/2112/29/2112/30/2112/31/211/1/221/2/221/3/221/4/221/5/221/6/221/7/221/8/221/9/221/10/221/11/221/12/221/13/221/14/221/15/221/16/221/17/221/18/221/19/221/20/221/21/221/22/221/23/221/24/221/25/221/26/221/27/221/28/221/29/221/30/221/31/222/1/222/2/222/3/222/4/222/5/222/6/222/7/222/8/222/9/222/10/222/11/222/12/222/13/222/14/222/15/222/16/222/17/222/18/222/19/222/20/222/21/222/22/222/23/222/24/222/25/222/26/222/27/222/28/223/1/223/2/223/3/223/4/223/5/223/6/223/7/223/8/223/9/223/10/223/11/223/12/223/13/223/14/223/15/223/16/223/17/223/18/223/19/223/20/223/21/223/22/223/23/223/24/223/25/223/26/223/27/223/28/223/29/223/30/223/31/224/1/224/2/224/3/224/4/224/5/224/6/224/7/224/8/224/9/224/10/224/11/224/12/224/13/224/14/224/15/224/16/224/17/224/18/224/19/224/20/224/21/224/22/224/23/224/24/224/25/224/26/224/27/224/28/224/29/224/30/225/1/225/2/225/3/225/4/225/5/225/6/225/7/225/8/225/9/225/10/225/11/225/12/225/13/225/14/225/15/225/16/225/17/225/18/225/19/225/20/225/21/225/22/225/23/225/24/225/25/225/26/225/27/225/28/225/29/225/30/225/31/226/1/226/2/226/3/226/4/226/5/226/6/226/7/226/8/226/9/226/10/226/11/226/12/226/13/226/14/226/15/226/16/226/17/226/18/226/19/226/20/226/21/226/22/226/23/226/24/226/25/226/26/226/27/226/28/226/29/226/30/227/1/227/2/227/3/227/4/227/5/227/6/227/7/227/8/227/9/227/10/227/11/227/12/227/13/227/14/227/15/227/16/227/17/227/18/227/19/227/20/227/21/227/22/227/23/227/24/227/25/227/26/227/27/227/28/227/29/227/30/227/31/228/1/228/2/228/3/228/4/228/5/228/6/228/7/228/8/228/9/228/10/228/11/228/12/228/13/228/14/228/15/228/16/228/17/228/18/228/19/228/20/228/21/228/22/228/23/228/24/228/25/228/26/228/27/228/28/228/29/228/30/228/31/229/1/229/2/229/3/229/4/229/5/229/6/229/7/229/8/229/9/229/10/229/11/229/12/229/13/229/14/229/15/229/16/229/17/229/18/229/19/229/20/229/21/229/22/229/23/229/24/229/25/229/26/229/27/229/28/229/29/229/30/2210/1/2210/2/2210/3/2210/4/2210/5/2210/6/2210/7/2210/8/2210/9/2210/10/2210/11/2210/12/2210/13/2210/14/2210/15/2210/16/2210/17/2210/18/2210/19/2210/20/2210/21/2210/22/2210/23/2210/24/2210/25/2210/26/2210/27/2210/28/2210/29/2210/30/2210/31/2211/1/2211/2/2211/3/2211/4/2211/5/2211/6/2211/7/2211/8/2211/9/2211/10/2211/11/2211/12/2211/13/2211/14/2211/15/2211/16/2211/17/2211/18/2211/19/2211/20/2211/21/2211/22/2211/23/2211/24/2211/25/2211/26/2211/27/2211/28/2211/29/2211/30/2212/1/2212/2/2212/3/2212/4/2212/5/2212/6/2212/7/2212/8/2212/9/2212/10/2212/11/2212/12/2212/13/2212/14/2212/15/2212/16/2212/17/2212/18/2212/19/2212/20/2212/21/2212/22/2212/23/2212/24/2212/25/2212/26/2212/27/2212/28/2212/29/2212/30/2212/31/221/1/231/2/23",
                  "17096842",
                  "478243",
                  "2.797259283322616"
                ],
                [
                  "Indonesia",
                  "0",
                  "-850.0761",
                  "122693.2401",
                  "1/22/201/23/201/24/201/25/201/26/201/27/201/28/201/29/201/30/201/31/202/1/202/2/202/3/202/4/202/5/202/6/202/7/202/8/202/9/202/10/202/11/202/12/202/13/202/14/202/15/202/16/202/17/202/18/202/19/202/20/202/21/202/22/202/23/202/24/202/25/202/26/202/27/202/28/202/29/203/1/203/2/203/3/203/4/203/5/203/6/203/7/203/8/203/9/203/10/203/11/203/12/203/13/203/14/203/15/203/16/203/17/203/18/203/19/203/20/203/21/203/22/203/23/203/24/203/25/203/26/203/27/203/28/203/29/203/30/203/31/204/1/204/2/204/3/204/4/204/5/204/6/204/7/204/8/204/9/204/10/204/11/204/12/204/13/204/14/204/15/204/16/204/17/204/18/204/19/204/20/204/21/204/22/204/23/204/24/204/25/204/26/204/27/204/28/204/29/204/30/205/1/205/2/205/3/205/4/205/5/205/6/205/7/205/8/205/9/205/10/205/11/205/12/205/13/205/14/205/15/205/16/205/17/205/18/205/19/205/20/205/21/205/22/205/23/205/24/205/25/205/26/205/27/205/28/205/29/205/30/205/31/206/1/206/2/206/3/206/4/206/5/206/6/206/7/206/8/206/9/206/10/206/11/206/12/206/13/206/14/206/15/206/16/206/17/206/18/206/19/206/20/206/21/206/22/206/23/206/24/206/25/206/26/206/27/206/28/206/29/206/30/207/1/207/2/207/3/207/4/207/5/207/6/207/7/207/8/207/9/207/10/207/11/207/12/207/13/207/14/207/15/207/16/207/17/207/18/207/19/207/20/207/21/207/22/207/23/207/24/207/25/207/26/207/27/207/28/207/29/207/30/207/31/208/1/208/2/208/3/208/4/208/5/208/6/208/7/208/8/208/9/208/10/208/11/208/12/208/13/208/14/208/15/208/16/208/17/208/18/208/19/208/20/208/21/208/22/208/23/208/24/208/25/208/26/208/27/208/28/208/29/208/30/208/31/209/1/209/2/209/3/209/4/209/5/209/6/209/7/209/8/209/9/209/10/209/11/209/12/209/13/209/14/209/15/209/16/209/17/209/18/209/19/209/20/209/21/209/22/209/23/209/24/209/25/209/26/209/27/209/28/209/29/209/30/2010/1/2010/2/2010/3/2010/4/2010/5/2010/6/2010/7/2010/8/2010/9/2010/10/2010/11/2010/12/2010/13/2010/14/2010/15/2010/16/2010/17/2010/18/2010/19/2010/20/2010/21/2010/22/2010/23/2010/24/2010/25/2010/26/2010/27/2010/28/2010/29/2010/30/2010/31/2011/1/2011/2/2011/3/2011/4/2011/5/2011/6/2011/7/2011/8/2011/9/2011/10/2011/11/2011/12/2011/13/2011/14/2011/15/2011/16/2011/17/2011/18/2011/19/2011/20/2011/21/2011/22/2011/23/2011/24/2011/25/2011/26/2011/27/2011/28/2011/29/2011/30/2012/1/2012/2/2012/3/2012/4/2012/5/2012/6/2012/7/2012/8/2012/9/2012/10/2012/11/2012/12/2012/13/2012/14/2012/15/2012/16/2012/17/2012/18/2012/19/2012/20/2012/21/2012/22/2012/23/2012/24/2012/25/2012/26/2012/27/2012/28/2012/29/2012/30/2012/31/201/1/211/2/211/3/211/4/211/5/211/6/211/7/211/8/211/9/211/10/211/11/211/12/211/13/211/14/211/15/211/16/211/17/211/18/211/19/211/20/211/21/211/22/211/23/211/24/211/25/211/26/211/27/211/28/211/29/211/30/211/31/212/1/212/2/212/3/212/4/212/5/212/6/212/7/212/8/212/9/212/10/212/11/212/12/212/13/212/14/212/15/212/16/212/17/212/18/212/19/212/20/212/21/212/22/212/23/212/24/212/25/212/26/212/27/212/28/213/1/213/2/213/3/213/4/213/5/213/6/213/7/213/8/213/9/213/10/213/11/213/12/213/13/213/14/213/15/213/16/213/17/213/18/213/19/213/20/213/21/213/22/213/23/213/24/213/25/213/26/213/27/213/28/213/29/213/30/213/31/214/1/214/2/214/3/214/4/214/5/214/6/214/7/214/8/214/9/214/10/214/11/214/12/214/13/214/14/214/15/214/16/214/17/214/18/214/19/214/20/214/21/214/22/214/23/214/24/214/25/214/26/214/27/214/28/214/29/214/30/215/1/215/2/215/3/215/4/215/5/215/6/215/7/215/8/215/9/215/10/215/11/215/12/215/13/215/14/215/15/215/16/215/17/215/18/215/19/215/20/215/21/215/22/215/23/215/24/215/25/215/26/215/27/215/28/215/29/215/30/215/31/216/1/216/2/216/3/216/4/216/5/216/6/216/7/216/8/216/9/216/10/216/11/216/12/216/13/216/14/216/15/216/16/216/17/216/18/216/19/216/20/216/21/216/22/216/23/216/24/216/25/216/26/216/27/216/28/216/29/216/30/217/1/217/2/217/3/217/4/217/5/217/6/217/7/217/8/217/9/217/10/217/11/217/12/217/13/217/14/217/15/217/16/217/17/217/18/217/19/217/20/217/21/217/22/217/23/217/24/217/25/217/26/217/27/217/28/217/29/217/30/217/31/218/1/218/2/218/3/218/4/218/5/218/6/218/7/218/8/218/9/218/10/218/11/218/12/218/13/218/14/218/15/218/16/218/17/218/18/218/19/218/20/218/21/218/22/218/23/218/24/218/25/218/26/218/27/218/28/218/29/218/30/218/31/219/1/219/2/219/3/219/4/219/5/219/6/219/7/219/8/219/9/219/10/219/11/219/12/219/13/219/14/219/15/219/16/219/17/219/18/219/19/219/20/219/21/219/22/219/23/219/24/219/25/219/26/219/27/219/28/219/29/219/30/2110/1/2110/2/2110/3/2110/4/2110/5/2110/6/2110/7/2110/8/2110/9/2110/10/2110/11/2110/12/2110/13/2110/14/2110/15/2110/16/2110/17/2110/18/2110/19/2110/20/2110/21/2110/22/2110/23/2110/24/2110/25/2110/26/2110/27/2110/28/2110/29/2110/30/2110/31/2111/1/2111/2/2111/3/2111/4/2111/5/2111/6/2111/7/2111/8/2111/9/2111/10/2111/11/2111/12/2111/13/2111/14/2111/15/2111/16/2111/17/2111/18/2111/19/2111/20/2111/21/2111/22/2111/23/2111/24/2111/25/2111/26/2111/27/2111/28/2111/29/2111/30/2112/1/2112/2/2112/3/2112/4/2112/5/2112/6/2112/7/2112/8/2112/9/2112/10/2112/11/2112/12/2112/13/2112/14/2112/15/2112/16/2112/17/2112/18/2112/19/2112/20/2112/21/2112/22/2112/23/2112/24/2112/25/2112/26/2112/27/2112/28/2112/29/2112/30/2112/31/211/1/221/2/221/3/221/4/221/5/221/6/221/7/221/8/221/9/221/10/221/11/221/12/221/13/221/14/221/15/221/16/221/17/221/18/221/19/221/20/221/21/221/22/221/23/221/24/221/25/221/26/221/27/221/28/221/29/221/30/221/31/222/1/222/2/222/3/222/4/222/5/222/6/222/7/222/8/222/9/222/10/222/11/222/12/222/13/222/14/222/15/222/16/222/17/222/18/222/19/222/20/222/21/222/22/222/23/222/24/222/25/222/26/222/27/222/28/223/1/223/2/223/3/223/4/223/5/223/6/223/7/223/8/223/9/223/10/223/11/223/12/223/13/223/14/223/15/223/16/223/17/223/18/223/19/223/20/223/21/223/22/223/23/223/24/223/25/223/26/223/27/223/28/223/29/223/30/223/31/224/1/224/2/224/3/224/4/224/5/224/6/224/7/224/8/224/9/224/10/224/11/224/12/224/13/224/14/224/15/224/16/224/17/224/18/224/19/224/20/224/21/224/22/224/23/224/24/224/25/224/26/224/27/224/28/224/29/224/30/225/1/225/2/225/3/225/4/225/5/225/6/225/7/225/8/225/9/225/10/225/11/225/12/225/13/225/14/225/15/225/16/225/17/225/18/225/19/225/20/225/21/225/22/225/23/225/24/225/25/225/26/225/27/225/28/225/29/225/30/225/31/226/1/226/2/226/3/226/4/226/5/226/6/226/7/226/8/226/9/226/10/226/11/226/12/226/13/226/14/226/15/226/16/226/17/226/18/226/19/226/20/226/21/226/22/226/23/226/24/226/25/226/26/226/27/226/28/226/29/226/30/227/1/227/2/227/3/227/4/227/5/227/6/227/7/227/8/227/9/227/10/227/11/227/12/227/13/227/14/227/15/227/16/227/17/227/18/227/19/227/20/227/21/227/22/227/23/227/24/227/25/227/26/227/27/227/28/227/29/227/30/227/31/228/1/228/2/228/3/228/4/228/5/228/6/228/7/228/8/228/9/228/10/228/11/228/12/228/13/228/14/228/15/228/16/228/17/228/18/228/19/228/20/228/21/228/22/228/23/228/24/228/25/228/26/228/27/228/28/228/29/228/30/228/31/229/1/229/2/229/3/229/4/229/5/229/6/229/7/229/8/229/9/229/10/229/11/229/12/229/13/229/14/229/15/229/16/229/17/229/18/229/19/229/20/229/21/229/22/229/23/229/24/229/25/229/26/229/27/229/28/229/29/229/30/2210/1/2210/2/2210/3/2210/4/2210/5/2210/6/2210/7/2210/8/2210/9/2210/10/2210/11/2210/12/2210/13/2210/14/2210/15/2210/16/2210/17/2210/18/2210/19/2210/20/2210/21/2210/22/2210/23/2210/24/2210/25/2210/26/2210/27/2210/28/2210/29/2210/30/2210/31/2211/1/2211/2/2211/3/2211/4/2211/5/2211/6/2211/7/2211/8/2211/9/2211/10/2211/11/2211/12/2211/13/2211/14/2211/15/2211/16/2211/17/2211/18/2211/19/2211/20/2211/21/2211/22/2211/23/2211/24/2211/25/2211/26/2211/27/2211/28/2211/29/2211/30/2212/1/2212/2/2212/3/2212/4/2212/5/2212/6/2212/7/2212/8/2212/9/2212/10/2212/11/2212/12/2212/13/2212/14/2212/15/2212/16/2212/17/2212/18/2212/19/2212/20/2212/21/2212/22/2212/23/2212/24/2212/25/2212/26/2212/27/2212/28/2212/29/2212/30/2212/31/221/1/231/2/23",
                  "3248177789",
                  "89721447",
                  "2.762208623673339"
                ],
                [
                  "South Africa",
                  "0",
                  "-32912.5815",
                  "24703.6875",
                  "1/22/201/23/201/24/201/25/201/26/201/27/201/28/201/29/201/30/201/31/202/1/202/2/202/3/202/4/202/5/202/6/202/7/202/8/202/9/202/10/202/11/202/12/202/13/202/14/202/15/202/16/202/17/202/18/202/19/202/20/202/21/202/22/202/23/202/24/202/25/202/26/202/27/202/28/202/29/203/1/203/2/203/3/203/4/203/5/203/6/203/7/203/8/203/9/203/10/203/11/203/12/203/13/203/14/203/15/203/16/203/17/203/18/203/19/203/20/203/21/203/22/203/23/203/24/203/25/203/26/203/27/203/28/203/29/203/30/203/31/204/1/204/2/204/3/204/4/204/5/204/6/204/7/204/8/204/9/204/10/204/11/204/12/204/13/204/14/204/15/204/16/204/17/204/18/204/19/204/20/204/21/204/22/204/23/204/24/204/25/204/26/204/27/204/28/204/29/204/30/205/1/205/2/205/3/205/4/205/5/205/6/205/7/205/8/205/9/205/10/205/11/205/12/205/13/205/14/205/15/205/16/205/17/205/18/205/19/205/20/205/21/205/22/205/23/205/24/205/25/205/26/205/27/205/28/205/29/205/30/205/31/206/1/206/2/206/3/206/4/206/5/206/6/206/7/206/8/206/9/206/10/206/11/206/12/206/13/206/14/206/15/206/16/206/17/206/18/206/19/206/20/206/21/206/22/206/23/206/24/206/25/206/26/206/27/206/28/206/29/206/30/207/1/207/2/207/3/207/4/207/5/207/6/207/7/207/8/207/9/207/10/207/11/207/12/207/13/207/14/207/15/207/16/207/17/207/18/207/19/207/20/207/21/207/22/207/23/207/24/207/25/207/26/207/27/207/28/207/29/207/30/207/31/208/1/208/2/208/3/208/4/208/5/208/6/208/7/208/8/208/9/208/10/208/11/208/12/208/13/208/14/208/15/208/16/208/17/208/18/208/19/208/20/208/21/208/22/208/23/208/24/208/25/208/26/208/27/208/28/208/29/208/30/208/31/209/1/209/2/209/3/209/4/209/5/209/6/209/7/209/8/209/9/209/10/209/11/209/12/209/13/209/14/209/15/209/16/209/17/209/18/209/19/209/20/209/21/209/22/209/23/209/24/209/25/209/26/209/27/209/28/209/29/209/30/2010/1/2010/2/2010/3/2010/4/2010/5/2010/6/2010/7/2010/8/2010/9/2010/10/2010/11/2010/12/2010/13/2010/14/2010/15/2010/16/2010/17/2010/18/2010/19/2010/20/2010/21/2010/22/2010/23/2010/24/2010/25/2010/26/2010/27/2010/28/2010/29/2010/30/2010/31/2011/1/2011/2/2011/3/2011/4/2011/5/2011/6/2011/7/2011/8/2011/9/2011/10/2011/11/2011/12/2011/13/2011/14/2011/15/2011/16/2011/17/2011/18/2011/19/2011/20/2011/21/2011/22/2011/23/2011/24/2011/25/2011/26/2011/27/2011/28/2011/29/2011/30/2012/1/2012/2/2012/3/2012/4/2012/5/2012/6/2012/7/2012/8/2012/9/2012/10/2012/11/2012/12/2012/13/2012/14/2012/15/2012/16/2012/17/2012/18/2012/19/2012/20/2012/21/2012/22/2012/23/2012/24/2012/25/2012/26/2012/27/2012/28/2012/29/2012/30/2012/31/201/1/211/2/211/3/211/4/211/5/211/6/211/7/211/8/211/9/211/10/211/11/211/12/211/13/211/14/211/15/211/16/211/17/211/18/211/19/211/20/211/21/211/22/211/23/211/24/211/25/211/26/211/27/211/28/211/29/211/30/211/31/212/1/212/2/212/3/212/4/212/5/212/6/212/7/212/8/212/9/212/10/212/11/212/12/212/13/212/14/212/15/212/16/212/17/212/18/212/19/212/20/212/21/212/22/212/23/212/24/212/25/212/26/212/27/212/28/213/1/213/2/213/3/213/4/213/5/213/6/213/7/213/8/213/9/213/10/213/11/213/12/213/13/213/14/213/15/213/16/213/17/213/18/213/19/213/20/213/21/213/22/213/23/213/24/213/25/213/26/213/27/213/28/213/29/213/30/213/31/214/1/214/2/214/3/214/4/214/5/214/6/214/7/214/8/214/9/214/10/214/11/214/12/214/13/214/14/214/15/214/16/214/17/214/18/214/19/214/20/214/21/214/22/214/23/214/24/214/25/214/26/214/27/214/28/214/29/214/30/215/1/215/2/215/3/215/4/215/5/215/6/215/7/215/8/215/9/215/10/215/11/215/12/215/13/215/14/215/15/215/16/215/17/215/18/215/19/215/20/215/21/215/22/215/23/215/24/215/25/215/26/215/27/215/28/215/29/215/30/215/31/216/1/216/2/216/3/216/4/216/5/216/6/216/7/216/8/216/9/216/10/216/11/216/12/216/13/216/14/216/15/216/16/216/17/216/18/216/19/216/20/216/21/216/22/216/23/216/24/216/25/216/26/216/27/216/28/216/29/216/30/217/1/217/2/217/3/217/4/217/5/217/6/217/7/217/8/217/9/217/10/217/11/217/12/217/13/217/14/217/15/217/16/217/17/217/18/217/19/217/20/217/21/217/22/217/23/217/24/217/25/217/26/217/27/217/28/217/29/217/30/217/31/218/1/218/2/218/3/218/4/218/5/218/6/218/7/218/8/218/9/218/10/218/11/218/12/218/13/218/14/218/15/218/16/218/17/218/18/218/19/218/20/218/21/218/22/218/23/218/24/218/25/218/26/218/27/218/28/218/29/218/30/218/31/219/1/219/2/219/3/219/4/219/5/219/6/219/7/219/8/219/9/219/10/219/11/219/12/219/13/219/14/219/15/219/16/219/17/219/18/219/19/219/20/219/21/219/22/219/23/219/24/219/25/219/26/219/27/219/28/219/29/219/30/2110/1/2110/2/2110/3/2110/4/2110/5/2110/6/2110/7/2110/8/2110/9/2110/10/2110/11/2110/12/2110/13/2110/14/2110/15/2110/16/2110/17/2110/18/2110/19/2110/20/2110/21/2110/22/2110/23/2110/24/2110/25/2110/26/2110/27/2110/28/2110/29/2110/30/2110/31/2111/1/2111/2/2111/3/2111/4/2111/5/2111/6/2111/7/2111/8/2111/9/2111/10/2111/11/2111/12/2111/13/2111/14/2111/15/2111/16/2111/17/2111/18/2111/19/2111/20/2111/21/2111/22/2111/23/2111/24/2111/25/2111/26/2111/27/2111/28/2111/29/2111/30/2112/1/2112/2/2112/3/2112/4/2112/5/2112/6/2112/7/2112/8/2112/9/2112/10/2112/11/2112/12/2112/13/2112/14/2112/15/2112/16/2112/17/2112/18/2112/19/2112/20/2112/21/2112/22/2112/23/2112/24/2112/25/2112/26/2112/27/2112/28/2112/29/2112/30/2112/31/211/1/221/2/221/3/221/4/221/5/221/6/221/7/221/8/221/9/221/10/221/11/221/12/221/13/221/14/221/15/221/16/221/17/221/18/221/19/221/20/221/21/221/22/221/23/221/24/221/25/221/26/221/27/221/28/221/29/221/30/221/31/222/1/222/2/222/3/222/4/222/5/222/6/222/7/222/8/222/9/222/10/222/11/222/12/222/13/222/14/222/15/222/16/222/17/222/18/222/19/222/20/222/21/222/22/222/23/222/24/222/25/222/26/222/27/222/28/223/1/223/2/223/3/223/4/223/5/223/6/223/7/223/8/223/9/223/10/223/11/223/12/223/13/223/14/223/15/223/16/223/17/223/18/223/19/223/20/223/21/223/22/223/23/223/24/223/25/223/26/223/27/223/28/223/29/223/30/223/31/224/1/224/2/224/3/224/4/224/5/224/6/224/7/224/8/224/9/224/10/224/11/224/12/224/13/224/14/224/15/224/16/224/17/224/18/224/19/224/20/224/21/224/22/224/23/224/24/224/25/224/26/224/27/224/28/224/29/224/30/225/1/225/2/225/3/225/4/225/5/225/6/225/7/225/8/225/9/225/10/225/11/225/12/225/13/225/14/225/15/225/16/225/17/225/18/225/19/225/20/225/21/225/22/225/23/225/24/225/25/225/26/225/27/225/28/225/29/225/30/225/31/226/1/226/2/226/3/226/4/226/5/226/6/226/7/226/8/226/9/226/10/226/11/226/12/226/13/226/14/226/15/226/16/226/17/226/18/226/19/226/20/226/21/226/22/226/23/226/24/226/25/226/26/226/27/226/28/226/29/226/30/227/1/227/2/227/3/227/4/227/5/227/6/227/7/227/8/227/9/227/10/227/11/227/12/227/13/227/14/227/15/227/16/227/17/227/18/227/19/227/20/227/21/227/22/227/23/227/24/227/25/227/26/227/27/227/28/227/29/227/30/227/31/228/1/228/2/228/3/228/4/228/5/228/6/228/7/228/8/228/9/228/10/228/11/228/12/228/13/228/14/228/15/228/16/228/17/228/18/228/19/228/20/228/21/228/22/228/23/228/24/228/25/228/26/228/27/228/28/228/29/228/30/228/31/229/1/229/2/229/3/229/4/229/5/229/6/229/7/229/8/229/9/229/10/229/11/229/12/229/13/229/14/229/15/229/16/229/17/229/18/229/19/229/20/229/21/229/22/229/23/229/24/229/25/229/26/229/27/229/28/229/29/229/30/2210/1/2210/2/2210/3/2210/4/2210/5/2210/6/2210/7/2210/8/2210/9/2210/10/2210/11/2210/12/2210/13/2210/14/2210/15/2210/16/2210/17/2210/18/2210/19/2210/20/2210/21/2210/22/2210/23/2210/24/2210/25/2210/26/2210/27/2210/28/2210/29/2210/30/2210/31/2211/1/2211/2/2211/3/2211/4/2211/5/2211/6/2211/7/2211/8/2211/9/2211/10/2211/11/2211/12/2211/13/2211/14/2211/15/2211/16/2211/17/2211/18/2211/19/2211/20/2211/21/2211/22/2211/23/2211/24/2211/25/2211/26/2211/27/2211/28/2211/29/2211/30/2212/1/2212/2/2212/3/2212/4/2212/5/2212/6/2212/7/2212/8/2212/9/2212/10/2212/11/2212/12/2212/13/2212/14/2212/15/2212/16/2212/17/2212/18/2212/19/2212/20/2212/21/2212/22/2212/23/2212/24/2212/25/2212/26/2212/27/2212/28/2212/29/2212/30/2212/31/221/1/231/2/23",
                  "2345328867",
                  "64260268",
                  "2.7399256839488686"
                ],
                [
                  "Hungary",
                  "0",
                  "50794.012500000004",
                  "21005.054099999998",
                  "1/22/201/23/201/24/201/25/201/26/201/27/201/28/201/29/201/30/201/31/202/1/202/2/202/3/202/4/202/5/202/6/202/7/202/8/202/9/202/10/202/11/202/12/202/13/202/14/202/15/202/16/202/17/202/18/202/19/202/20/202/21/202/22/202/23/202/24/202/25/202/26/202/27/202/28/202/29/203/1/203/2/203/3/203/4/203/5/203/6/203/7/203/8/203/9/203/10/203/11/203/12/203/13/203/14/203/15/203/16/203/17/203/18/203/19/203/20/203/21/203/22/203/23/203/24/203/25/203/26/203/27/203/28/203/29/203/30/203/31/204/1/204/2/204/3/204/4/204/5/204/6/204/7/204/8/204/9/204/10/204/11/204/12/204/13/204/14/204/15/204/16/204/17/204/18/204/19/204/20/204/21/204/22/204/23/204/24/204/25/204/26/204/27/204/28/204/29/204/30/205/1/205/2/205/3/205/4/205/5/205/6/205/7/205/8/205/9/205/10/205/11/205/12/205/13/205/14/205/15/205/16/205/17/205/18/205/19/205/20/205/21/205/22/205/23/205/24/205/25/205/26/205/27/205/28/205/29/205/30/205/31/206/1/206/2/206/3/206/4/206/5/206/6/206/7/206/8/206/9/206/10/206/11/206/12/206/13/206/14/206/15/206/16/206/17/206/18/206/19/206/20/206/21/206/22/206/23/206/24/206/25/206/26/206/27/206/28/206/29/206/30/207/1/207/2/207/3/207/4/207/5/207/6/207/7/207/8/207/9/207/10/207/11/207/12/207/13/207/14/207/15/207/16/207/17/207/18/207/19/207/20/207/21/207/22/207/23/207/24/207/25/207/26/207/27/207/28/207/29/207/30/207/31/208/1/208/2/208/3/208/4/208/5/208/6/208/7/208/8/208/9/208/10/208/11/208/12/208/13/208/14/208/15/208/16/208/17/208/18/208/19/208/20/208/21/208/22/208/23/208/24/208/25/208/26/208/27/208/28/208/29/208/30/208/31/209/1/209/2/209/3/209/4/209/5/209/6/209/7/209/8/209/9/209/10/209/11/209/12/209/13/209/14/209/15/209/16/209/17/209/18/209/19/209/20/209/21/209/22/209/23/209/24/209/25/209/26/209/27/209/28/209/29/209/30/2010/1/2010/2/2010/3/2010/4/2010/5/2010/6/2010/7/2010/8/2010/9/2010/10/2010/11/2010/12/2010/13/2010/14/2010/15/2010/16/2010/17/2010/18/2010/19/2010/20/2010/21/2010/22/2010/23/2010/24/2010/25/2010/26/2010/27/2010/28/2010/29/2010/30/2010/31/2011/1/2011/2/2011/3/2011/4/2011/5/2011/6/2011/7/2011/8/2011/9/2011/10/2011/11/2011/12/2011/13/2011/14/2011/15/2011/16/2011/17/2011/18/2011/19/2011/20/2011/21/2011/22/2011/23/2011/24/2011/25/2011/26/2011/27/2011/28/2011/29/2011/30/2012/1/2012/2/2012/3/2012/4/2012/5/2012/6/2012/7/2012/8/2012/9/2012/10/2012/11/2012/12/2012/13/2012/14/2012/15/2012/16/2012/17/2012/18/2012/19/2012/20/2012/21/2012/22/2012/23/2012/24/2012/25/2012/26/2012/27/2012/28/2012/29/2012/30/2012/31/201/1/211/2/211/3/211/4/211/5/211/6/211/7/211/8/211/9/211/10/211/11/211/12/211/13/211/14/211/15/211/16/211/17/211/18/211/19/211/20/211/21/211/22/211/23/211/24/211/25/211/26/211/27/211/28/211/29/211/30/211/31/212/1/212/2/212/3/212/4/212/5/212/6/212/7/212/8/212/9/212/10/212/11/212/12/212/13/212/14/212/15/212/16/212/17/212/18/212/19/212/20/212/21/212/22/212/23/212/24/212/25/212/26/212/27/212/28/213/1/213/2/213/3/213/4/213/5/213/6/213/7/213/8/213/9/213/10/213/11/213/12/213/13/213/14/213/15/213/16/213/17/213/18/213/19/213/20/213/21/213/22/213/23/213/24/213/25/213/26/213/27/213/28/213/29/213/30/213/31/214/1/214/2/214/3/214/4/214/5/214/6/214/7/214/8/214/9/214/10/214/11/214/12/214/13/214/14/214/15/214/16/214/17/214/18/214/19/214/20/214/21/214/22/214/23/214/24/214/25/214/26/214/27/214/28/214/29/214/30/215/1/215/2/215/3/215/4/215/5/215/6/215/7/215/8/215/9/215/10/215/11/215/12/215/13/215/14/215/15/215/16/215/17/215/18/215/19/215/20/215/21/215/22/215/23/215/24/215/25/215/26/215/27/215/28/215/29/215/30/215/31/216/1/216/2/216/3/216/4/216/5/216/6/216/7/216/8/216/9/216/10/216/11/216/12/216/13/216/14/216/15/216/16/216/17/216/18/216/19/216/20/216/21/216/22/216/23/216/24/216/25/216/26/216/27/216/28/216/29/216/30/217/1/217/2/217/3/217/4/217/5/217/6/217/7/217/8/217/9/217/10/217/11/217/12/217/13/217/14/217/15/217/16/217/17/217/18/217/19/217/20/217/21/217/22/217/23/217/24/217/25/217/26/217/27/217/28/217/29/217/30/217/31/218/1/218/2/218/3/218/4/218/5/218/6/218/7/218/8/218/9/218/10/218/11/218/12/218/13/218/14/218/15/218/16/218/17/218/18/218/19/218/20/218/21/218/22/218/23/218/24/218/25/218/26/218/27/218/28/218/29/218/30/218/31/219/1/219/2/219/3/219/4/219/5/219/6/219/7/219/8/219/9/219/10/219/11/219/12/219/13/219/14/219/15/219/16/219/17/219/18/219/19/219/20/219/21/219/22/219/23/219/24/219/25/219/26/219/27/219/28/219/29/219/30/2110/1/2110/2/2110/3/2110/4/2110/5/2110/6/2110/7/2110/8/2110/9/2110/10/2110/11/2110/12/2110/13/2110/14/2110/15/2110/16/2110/17/2110/18/2110/19/2110/20/2110/21/2110/22/2110/23/2110/24/2110/25/2110/26/2110/27/2110/28/2110/29/2110/30/2110/31/2111/1/2111/2/2111/3/2111/4/2111/5/2111/6/2111/7/2111/8/2111/9/2111/10/2111/11/2111/12/2111/13/2111/14/2111/15/2111/16/2111/17/2111/18/2111/19/2111/20/2111/21/2111/22/2111/23/2111/24/2111/25/2111/26/2111/27/2111/28/2111/29/2111/30/2112/1/2112/2/2112/3/2112/4/2112/5/2112/6/2112/7/2112/8/2112/9/2112/10/2112/11/2112/12/2112/13/2112/14/2112/15/2112/16/2112/17/2112/18/2112/19/2112/20/2112/21/2112/22/2112/23/2112/24/2112/25/2112/26/2112/27/2112/28/2112/29/2112/30/2112/31/211/1/221/2/221/3/221/4/221/5/221/6/221/7/221/8/221/9/221/10/221/11/221/12/221/13/221/14/221/15/221/16/221/17/221/18/221/19/221/20/221/21/221/22/221/23/221/24/221/25/221/26/221/27/221/28/221/29/221/30/221/31/222/1/222/2/222/3/222/4/222/5/222/6/222/7/222/8/222/9/222/10/222/11/222/12/222/13/222/14/222/15/222/16/222/17/222/18/222/19/222/20/222/21/222/22/222/23/222/24/222/25/222/26/222/27/222/28/223/1/223/2/223/3/223/4/223/5/223/6/223/7/223/8/223/9/223/10/223/11/223/12/223/13/223/14/223/15/223/16/223/17/223/18/223/19/223/20/223/21/223/22/223/23/223/24/223/25/223/26/223/27/223/28/223/29/223/30/223/31/224/1/224/2/224/3/224/4/224/5/224/6/224/7/224/8/224/9/224/10/224/11/224/12/224/13/224/14/224/15/224/16/224/17/224/18/224/19/224/20/224/21/224/22/224/23/224/24/224/25/224/26/224/27/224/28/224/29/224/30/225/1/225/2/225/3/225/4/225/5/225/6/225/7/225/8/225/9/225/10/225/11/225/12/225/13/225/14/225/15/225/16/225/17/225/18/225/19/225/20/225/21/225/22/225/23/225/24/225/25/225/26/225/27/225/28/225/29/225/30/225/31/226/1/226/2/226/3/226/4/226/5/226/6/226/7/226/8/226/9/226/10/226/11/226/12/226/13/226/14/226/15/226/16/226/17/226/18/226/19/226/20/226/21/226/22/226/23/226/24/226/25/226/26/226/27/226/28/226/29/226/30/227/1/227/2/227/3/227/4/227/5/227/6/227/7/227/8/227/9/227/10/227/11/227/12/227/13/227/14/227/15/227/16/227/17/227/18/227/19/227/20/227/21/227/22/227/23/227/24/227/25/227/26/227/27/227/28/227/29/227/30/227/31/228/1/228/2/228/3/228/4/228/5/228/6/228/7/228/8/228/9/228/10/228/11/228/12/228/13/228/14/228/15/228/16/228/17/228/18/228/19/228/20/228/21/228/22/228/23/228/24/228/25/228/26/228/27/228/28/228/29/228/30/228/31/229/1/229/2/229/3/229/4/229/5/229/6/229/7/229/8/229/9/229/10/229/11/229/12/229/13/229/14/229/15/229/16/229/17/229/18/229/19/229/20/229/21/229/22/229/23/229/24/229/25/229/26/229/27/229/28/229/29/229/30/2210/1/2210/2/2210/3/2210/4/2210/5/2210/6/2210/7/2210/8/2210/9/2210/10/2210/11/2210/12/2210/13/2210/14/2210/15/2210/16/2210/17/2210/18/2210/19/2210/20/2210/21/2210/22/2210/23/2210/24/2210/25/2210/26/2210/27/2210/28/2210/29/2210/30/2210/31/2211/1/2211/2/2211/3/2211/4/2211/5/2211/6/2211/7/2211/8/2211/9/2211/10/2211/11/2211/12/2211/13/2211/14/2211/15/2211/16/2211/17/2211/18/2211/19/2211/20/2211/21/2211/22/2211/23/2211/24/2211/25/2211/26/2211/27/2211/28/2211/29/2211/30/2212/1/2212/2/2212/3/2212/4/2212/5/2212/6/2212/7/2212/8/2212/9/2212/10/2212/11/2212/12/2212/13/2212/14/2212/15/2212/16/2212/17/2212/18/2212/19/2212/20/2212/21/2212/22/2212/23/2212/24/2212/25/2212/26/2212/27/2212/28/2212/29/2212/30/2212/31/221/1/231/2/23",
                  "998205845",
                  "26981524",
                  "2.703002004561494"
                ],
                [
                  "Algeria",
                  "0",
                  "30192.510299999998",
                  "1787.3892",
                  "1/22/201/23/201/24/201/25/201/26/201/27/201/28/201/29/201/30/201/31/202/1/202/2/202/3/202/4/202/5/202/6/202/7/202/8/202/9/202/10/202/11/202/12/202/13/202/14/202/15/202/16/202/17/202/18/202/19/202/20/202/21/202/22/202/23/202/24/202/25/202/26/202/27/202/28/202/29/203/1/203/2/203/3/203/4/203/5/203/6/203/7/203/8/203/9/203/10/203/11/203/12/203/13/203/14/203/15/203/16/203/17/203/18/203/19/203/20/203/21/203/22/203/23/203/24/203/25/203/26/203/27/203/28/203/29/203/30/203/31/204/1/204/2/204/3/204/4/204/5/204/6/204/7/204/8/204/9/204/10/204/11/204/12/204/13/204/14/204/15/204/16/204/17/204/18/204/19/204/20/204/21/204/22/204/23/204/24/204/25/204/26/204/27/204/28/204/29/204/30/205/1/205/2/205/3/205/4/205/5/205/6/205/7/205/8/205/9/205/10/205/11/205/12/205/13/205/14/205/15/205/16/205/17/205/18/205/19/205/20/205/21/205/22/205/23/205/24/205/25/205/26/205/27/205/28/205/29/205/30/205/31/206/1/206/2/206/3/206/4/206/5/206/6/206/7/206/8/206/9/206/10/206/11/206/12/206/13/206/14/206/15/206/16/206/17/206/18/206/19/206/20/206/21/206/22/206/23/206/24/206/25/206/26/206/27/206/28/206/29/206/30/207/1/207/2/207/3/207/4/207/5/207/6/207/7/207/8/207/9/207/10/207/11/207/12/207/13/207/14/207/15/207/16/207/17/207/18/207/19/207/20/207/21/207/22/207/23/207/24/207/25/207/26/207/27/207/28/207/29/207/30/207/31/208/1/208/2/208/3/208/4/208/5/208/6/208/7/208/8/208/9/208/10/208/11/208/12/208/13/208/14/208/15/208/16/208/17/208/18/208/19/208/20/208/21/208/22/208/23/208/24/208/25/208/26/208/27/208/28/208/29/208/30/208/31/209/1/209/2/209/3/209/4/209/5/209/6/209/7/209/8/209/9/209/10/209/11/209/12/209/13/209/14/209/15/209/16/209/17/209/18/209/19/209/20/209/21/209/22/209/23/209/24/209/25/209/26/209/27/209/28/209/29/209/30/2010/1/2010/2/2010/3/2010/4/2010/5/2010/6/2010/7/2010/8/2010/9/2010/10/2010/11/2010/12/2010/13/2010/14/2010/15/2010/16/2010/17/2010/18/2010/19/2010/20/2010/21/2010/22/2010/23/2010/24/2010/25/2010/26/2010/27/2010/28/2010/29/2010/30/2010/31/2011/1/2011/2/2011/3/2011/4/2011/5/2011/6/2011/7/2011/8/2011/9/2011/10/2011/11/2011/12/2011/13/2011/14/2011/15/2011/16/2011/17/2011/18/2011/19/2011/20/2011/21/2011/22/2011/23/2011/24/2011/25/2011/26/2011/27/2011/28/2011/29/2011/30/2012/1/2012/2/2012/3/2012/4/2012/5/2012/6/2012/7/2012/8/2012/9/2012/10/2012/11/2012/12/2012/13/2012/14/2012/15/2012/16/2012/17/2012/18/2012/19/2012/20/2012/21/2012/22/2012/23/2012/24/2012/25/2012/26/2012/27/2012/28/2012/29/2012/30/2012/31/201/1/211/2/211/3/211/4/211/5/211/6/211/7/211/8/211/9/211/10/211/11/211/12/211/13/211/14/211/15/211/16/211/17/211/18/211/19/211/20/211/21/211/22/211/23/211/24/211/25/211/26/211/27/211/28/211/29/211/30/211/31/212/1/212/2/212/3/212/4/212/5/212/6/212/7/212/8/212/9/212/10/212/11/212/12/212/13/212/14/212/15/212/16/212/17/212/18/212/19/212/20/212/21/212/22/212/23/212/24/212/25/212/26/212/27/212/28/213/1/213/2/213/3/213/4/213/5/213/6/213/7/213/8/213/9/213/10/213/11/213/12/213/13/213/14/213/15/213/16/213/17/213/18/213/19/213/20/213/21/213/22/213/23/213/24/213/25/213/26/213/27/213/28/213/29/213/30/213/31/214/1/214/2/214/3/214/4/214/5/214/6/214/7/214/8/214/9/214/10/214/11/214/12/214/13/214/14/214/15/214/16/214/17/214/18/214/19/214/20/214/21/214/22/214/23/214/24/214/25/214/26/214/27/214/28/214/29/214/30/215/1/215/2/215/3/215/4/215/5/215/6/215/7/215/8/215/9/215/10/215/11/215/12/215/13/215/14/215/15/215/16/215/17/215/18/215/19/215/20/215/21/215/22/215/23/215/24/215/25/215/26/215/27/215/28/215/29/215/30/215/31/216/1/216/2/216/3/216/4/216/5/216/6/216/7/216/8/216/9/216/10/216/11/216/12/216/13/216/14/216/15/216/16/216/17/216/18/216/19/216/20/216/21/216/22/216/23/216/24/216/25/216/26/216/27/216/28/216/29/216/30/217/1/217/2/217/3/217/4/217/5/217/6/217/7/217/8/217/9/217/10/217/11/217/12/217/13/217/14/217/15/217/16/217/17/217/18/217/19/217/20/217/21/217/22/217/23/217/24/217/25/217/26/217/27/217/28/217/29/217/30/217/31/218/1/218/2/218/3/218/4/218/5/218/6/218/7/218/8/218/9/218/10/218/11/218/12/218/13/218/14/218/15/218/16/218/17/218/18/218/19/218/20/218/21/218/22/218/23/218/24/218/25/218/26/218/27/218/28/218/29/218/30/218/31/219/1/219/2/219/3/219/4/219/5/219/6/219/7/219/8/219/9/219/10/219/11/219/12/219/13/219/14/219/15/219/16/219/17/219/18/219/19/219/20/219/21/219/22/219/23/219/24/219/25/219/26/219/27/219/28/219/29/219/30/2110/1/2110/2/2110/3/2110/4/2110/5/2110/6/2110/7/2110/8/2110/9/2110/10/2110/11/2110/12/2110/13/2110/14/2110/15/2110/16/2110/17/2110/18/2110/19/2110/20/2110/21/2110/22/2110/23/2110/24/2110/25/2110/26/2110/27/2110/28/2110/29/2110/30/2110/31/2111/1/2111/2/2111/3/2111/4/2111/5/2111/6/2111/7/2111/8/2111/9/2111/10/2111/11/2111/12/2111/13/2111/14/2111/15/2111/16/2111/17/2111/18/2111/19/2111/20/2111/21/2111/22/2111/23/2111/24/2111/25/2111/26/2111/27/2111/28/2111/29/2111/30/2112/1/2112/2/2112/3/2112/4/2112/5/2112/6/2112/7/2112/8/2112/9/2112/10/2112/11/2112/12/2112/13/2112/14/2112/15/2112/16/2112/17/2112/18/2112/19/2112/20/2112/21/2112/22/2112/23/2112/24/2112/25/2112/26/2112/27/2112/28/2112/29/2112/30/2112/31/211/1/221/2/221/3/221/4/221/5/221/6/221/7/221/8/221/9/221/10/221/11/221/12/221/13/221/14/221/15/221/16/221/17/221/18/221/19/221/20/221/21/221/22/221/23/221/24/221/25/221/26/221/27/221/28/221/29/221/30/221/31/222/1/222/2/222/3/222/4/222/5/222/6/222/7/222/8/222/9/222/10/222/11/222/12/222/13/222/14/222/15/222/16/222/17/222/18/222/19/222/20/222/21/222/22/222/23/222/24/222/25/222/26/222/27/222/28/223/1/223/2/223/3/223/4/223/5/223/6/223/7/223/8/223/9/223/10/223/11/223/12/223/13/223/14/223/15/223/16/223/17/223/18/223/19/223/20/223/21/223/22/223/23/223/24/223/25/223/26/223/27/223/28/223/29/223/30/223/31/224/1/224/2/224/3/224/4/224/5/224/6/224/7/224/8/224/9/224/10/224/11/224/12/224/13/224/14/224/15/224/16/224/17/224/18/224/19/224/20/224/21/224/22/224/23/224/24/224/25/224/26/224/27/224/28/224/29/224/30/225/1/225/2/225/3/225/4/225/5/225/6/225/7/225/8/225/9/225/10/225/11/225/12/225/13/225/14/225/15/225/16/225/17/225/18/225/19/225/20/225/21/225/22/225/23/225/24/225/25/225/26/225/27/225/28/225/29/225/30/225/31/226/1/226/2/226/3/226/4/226/5/226/6/226/7/226/8/226/9/226/10/226/11/226/12/226/13/226/14/226/15/226/16/226/17/226/18/226/19/226/20/226/21/226/22/226/23/226/24/226/25/226/26/226/27/226/28/226/29/226/30/227/1/227/2/227/3/227/4/227/5/227/6/227/7/227/8/227/9/227/10/227/11/227/12/227/13/227/14/227/15/227/16/227/17/227/18/227/19/227/20/227/21/227/22/227/23/227/24/227/25/227/26/227/27/227/28/227/29/227/30/227/31/228/1/228/2/228/3/228/4/228/5/228/6/228/7/228/8/228/9/228/10/228/11/228/12/228/13/228/14/228/15/228/16/228/17/228/18/228/19/228/20/228/21/228/22/228/23/228/24/228/25/228/26/228/27/228/28/228/29/228/30/228/31/229/1/229/2/229/3/229/4/229/5/229/6/229/7/229/8/229/9/229/10/229/11/229/12/229/13/229/14/229/15/229/16/229/17/229/18/229/19/229/20/229/21/229/22/229/23/229/24/229/25/229/26/229/27/229/28/229/29/229/30/2210/1/2210/2/2210/3/2210/4/2210/5/2210/6/2210/7/2210/8/2210/9/2210/10/2210/11/2210/12/2210/13/2210/14/2210/15/2210/16/2210/17/2210/18/2210/19/2210/20/2210/21/2210/22/2210/23/2210/24/2210/25/2210/26/2210/27/2210/28/2210/29/2210/30/2210/31/2211/1/2211/2/2211/3/2211/4/2211/5/2211/6/2211/7/2211/8/2211/9/2211/10/2211/11/2211/12/2211/13/2211/14/2211/15/2211/16/2211/17/2211/18/2211/19/2211/20/2211/21/2211/22/2211/23/2211/24/2211/25/2211/26/2211/27/2211/28/2211/29/2211/30/2212/1/2212/2/2212/3/2212/4/2212/5/2212/6/2212/7/2212/8/2212/9/2212/10/2212/11/2212/12/2212/13/2212/14/2212/15/2212/16/2212/17/2212/18/2212/19/2212/20/2212/21/2212/22/2212/23/2212/24/2212/25/2212/26/2212/27/2212/28/2212/29/2212/30/2212/31/221/1/231/2/23",
                  "164830894",
                  "4447129",
                  "2.6979948309932724"
                ],
                [
                  "El Salvador",
                  "0",
                  "14856.3534",
                  "-95741.53050000001",
                  "1/22/201/23/201/24/201/25/201/26/201/27/201/28/201/29/201/30/201/31/202/1/202/2/202/3/202/4/202/5/202/6/202/7/202/8/202/9/202/10/202/11/202/12/202/13/202/14/202/15/202/16/202/17/202/18/202/19/202/20/202/21/202/22/202/23/202/24/202/25/202/26/202/27/202/28/202/29/203/1/203/2/203/3/203/4/203/5/203/6/203/7/203/8/203/9/203/10/203/11/203/12/203/13/203/14/203/15/203/16/203/17/203/18/203/19/203/20/203/21/203/22/203/23/203/24/203/25/203/26/203/27/203/28/203/29/203/30/203/31/204/1/204/2/204/3/204/4/204/5/204/6/204/7/204/8/204/9/204/10/204/11/204/12/204/13/204/14/204/15/204/16/204/17/204/18/204/19/204/20/204/21/204/22/204/23/204/24/204/25/204/26/204/27/204/28/204/29/204/30/205/1/205/2/205/3/205/4/205/5/205/6/205/7/205/8/205/9/205/10/205/11/205/12/205/13/205/14/205/15/205/16/205/17/205/18/205/19/205/20/205/21/205/22/205/23/205/24/205/25/205/26/205/27/205/28/205/29/205/30/205/31/206/1/206/2/206/3/206/4/206/5/206/6/206/7/206/8/206/9/206/10/206/11/206/12/206/13/206/14/206/15/206/16/206/17/206/18/206/19/206/20/206/21/206/22/206/23/206/24/206/25/206/26/206/27/206/28/206/29/206/30/207/1/207/2/207/3/207/4/207/5/207/6/207/7/207/8/207/9/207/10/207/11/207/12/207/13/207/14/207/15/207/16/207/17/207/18/207/19/207/20/207/21/207/22/207/23/207/24/207/25/207/26/207/27/207/28/207/29/207/30/207/31/208/1/208/2/208/3/208/4/208/5/208/6/208/7/208/8/208/9/208/10/208/11/208/12/208/13/208/14/208/15/208/16/208/17/208/18/208/19/208/20/208/21/208/22/208/23/208/24/208/25/208/26/208/27/208/28/208/29/208/30/208/31/209/1/209/2/209/3/209/4/209/5/209/6/209/7/209/8/209/9/209/10/209/11/209/12/209/13/209/14/209/15/209/16/209/17/209/18/209/19/209/20/209/21/209/22/209/23/209/24/209/25/209/26/209/27/209/28/209/29/209/30/2010/1/2010/2/2010/3/2010/4/2010/5/2010/6/2010/7/2010/8/2010/9/2010/10/2010/11/2010/12/2010/13/2010/14/2010/15/2010/16/2010/17/2010/18/2010/19/2010/20/2010/21/2010/22/2010/23/2010/24/2010/25/2010/26/2010/27/2010/28/2010/29/2010/30/2010/31/2011/1/2011/2/2011/3/2011/4/2011/5/2011/6/2011/7/2011/8/2011/9/2011/10/2011/11/2011/12/2011/13/2011/14/2011/15/2011/16/2011/17/2011/18/2011/19/2011/20/2011/21/2011/22/2011/23/2011/24/2011/25/2011/26/2011/27/2011/28/2011/29/2011/30/2012/1/2012/2/2012/3/2012/4/2012/5/2012/6/2012/7/2012/8/2012/9/2012/10/2012/11/2012/12/2012/13/2012/14/2012/15/2012/16/2012/17/2012/18/2012/19/2012/20/2012/21/2012/22/2012/23/2012/24/2012/25/2012/26/2012/27/2012/28/2012/29/2012/30/2012/31/201/1/211/2/211/3/211/4/211/5/211/6/211/7/211/8/211/9/211/10/211/11/211/12/211/13/211/14/211/15/211/16/211/17/211/18/211/19/211/20/211/21/211/22/211/23/211/24/211/25/211/26/211/27/211/28/211/29/211/30/211/31/212/1/212/2/212/3/212/4/212/5/212/6/212/7/212/8/212/9/212/10/212/11/212/12/212/13/212/14/212/15/212/16/212/17/212/18/212/19/212/20/212/21/212/22/212/23/212/24/212/25/212/26/212/27/212/28/213/1/213/2/213/3/213/4/213/5/213/6/213/7/213/8/213/9/213/10/213/11/213/12/213/13/213/14/213/15/213/16/213/17/213/18/213/19/213/20/213/21/213/22/213/23/213/24/213/25/213/26/213/27/213/28/213/29/213/30/213/31/214/1/214/2/214/3/214/4/214/5/214/6/214/7/214/8/214/9/214/10/214/11/214/12/214/13/214/14/214/15/214/16/214/17/214/18/214/19/214/20/214/21/214/22/214/23/214/24/214/25/214/26/214/27/214/28/214/29/214/30/215/1/215/2/215/3/215/4/215/5/215/6/215/7/215/8/215/9/215/10/215/11/215/12/215/13/215/14/215/15/215/16/215/17/215/18/215/19/215/20/215/21/215/22/215/23/215/24/215/25/215/26/215/27/215/28/215/29/215/30/215/31/216/1/216/2/216/3/216/4/216/5/216/6/216/7/216/8/216/9/216/10/216/11/216/12/216/13/216/14/216/15/216/16/216/17/216/18/216/19/216/20/216/21/216/22/216/23/216/24/216/25/216/26/216/27/216/28/216/29/216/30/217/1/217/2/217/3/217/4/217/5/217/6/217/7/217/8/217/9/217/10/217/11/217/12/217/13/217/14/217/15/217/16/217/17/217/18/217/19/217/20/217/21/217/22/217/23/217/24/217/25/217/26/217/27/217/28/217/29/217/30/217/31/218/1/218/2/218/3/218/4/218/5/218/6/218/7/218/8/218/9/218/10/218/11/218/12/218/13/218/14/218/15/218/16/218/17/218/18/218/19/218/20/218/21/218/22/218/23/218/24/218/25/218/26/218/27/218/28/218/29/218/30/218/31/219/1/219/2/219/3/219/4/219/5/219/6/219/7/219/8/219/9/219/10/219/11/219/12/219/13/219/14/219/15/219/16/219/17/219/18/219/19/219/20/219/21/219/22/219/23/219/24/219/25/219/26/219/27/219/28/219/29/219/30/2110/1/2110/2/2110/3/2110/4/2110/5/2110/6/2110/7/2110/8/2110/9/2110/10/2110/11/2110/12/2110/13/2110/14/2110/15/2110/16/2110/17/2110/18/2110/19/2110/20/2110/21/2110/22/2110/23/2110/24/2110/25/2110/26/2110/27/2110/28/2110/29/2110/30/2110/31/2111/1/2111/2/2111/3/2111/4/2111/5/2111/6/2111/7/2111/8/2111/9/2111/10/2111/11/2111/12/2111/13/2111/14/2111/15/2111/16/2111/17/2111/18/2111/19/2111/20/2111/21/2111/22/2111/23/2111/24/2111/25/2111/26/2111/27/2111/28/2111/29/2111/30/2112/1/2112/2/2112/3/2112/4/2112/5/2112/6/2112/7/2112/8/2112/9/2112/10/2112/11/2112/12/2112/13/2112/14/2112/15/2112/16/2112/17/2112/18/2112/19/2112/20/2112/21/2112/22/2112/23/2112/24/2112/25/2112/26/2112/27/2112/28/2112/29/2112/30/2112/31/211/1/221/2/221/3/221/4/221/5/221/6/221/7/221/8/221/9/221/10/221/11/221/12/221/13/221/14/221/15/221/16/221/17/221/18/221/19/221/20/221/21/221/22/221/23/221/24/221/25/221/26/221/27/221/28/221/29/221/30/221/31/222/1/222/2/222/3/222/4/222/5/222/6/222/7/222/8/222/9/222/10/222/11/222/12/222/13/222/14/222/15/222/16/222/17/222/18/222/19/222/20/222/21/222/22/222/23/222/24/222/25/222/26/222/27/222/28/223/1/223/2/223/3/223/4/223/5/223/6/223/7/223/8/223/9/223/10/223/11/223/12/223/13/223/14/223/15/223/16/223/17/223/18/223/19/223/20/223/21/223/22/223/23/223/24/223/25/223/26/223/27/223/28/223/29/223/30/223/31/224/1/224/2/224/3/224/4/224/5/224/6/224/7/224/8/224/9/224/10/224/11/224/12/224/13/224/14/224/15/224/16/224/17/224/18/224/19/224/20/224/21/224/22/224/23/224/24/224/25/224/26/224/27/224/28/224/29/224/30/225/1/225/2/225/3/225/4/225/5/225/6/225/7/225/8/225/9/225/10/225/11/225/12/225/13/225/14/225/15/225/16/225/17/225/18/225/19/225/20/225/21/225/22/225/23/225/24/225/25/225/26/225/27/225/28/225/29/225/30/225/31/226/1/226/2/226/3/226/4/226/5/226/6/226/7/226/8/226/9/226/10/226/11/226/12/226/13/226/14/226/15/226/16/226/17/226/18/226/19/226/20/226/21/226/22/226/23/226/24/226/25/226/26/226/27/226/28/226/29/226/30/227/1/227/2/227/3/227/4/227/5/227/6/227/7/227/8/227/9/227/10/227/11/227/12/227/13/227/14/227/15/227/16/227/17/227/18/227/19/227/20/227/21/227/22/227/23/227/24/227/25/227/26/227/27/227/28/227/29/227/30/227/31/228/1/228/2/228/3/228/4/228/5/228/6/228/7/228/8/228/9/228/10/228/11/228/12/228/13/228/14/228/15/228/16/228/17/228/18/228/19/228/20/228/21/228/22/228/23/228/24/228/25/228/26/228/27/228/28/228/29/228/30/228/31/229/1/229/2/229/3/229/4/229/5/229/6/229/7/229/8/229/9/229/10/229/11/229/12/229/13/229/14/229/15/229/16/229/17/229/18/229/19/229/20/229/21/229/22/229/23/229/24/229/25/229/26/229/27/229/28/229/29/229/30/2210/1/2210/2/2210/3/2210/4/2210/5/2210/6/2210/7/2210/8/2210/9/2210/10/2210/11/2210/12/2210/13/2210/14/2210/15/2210/16/2210/17/2210/18/2210/19/2210/20/2210/21/2210/22/2210/23/2210/24/2210/25/2210/26/2210/27/2210/28/2210/29/2210/30/2210/31/2211/1/2211/2/2211/3/2211/4/2211/5/2211/6/2211/7/2211/8/2211/9/2211/10/2211/11/2211/12/2211/13/2211/14/2211/15/2211/16/2211/17/2211/18/2211/19/2211/20/2211/21/2211/22/2211/23/2211/24/2211/25/2211/26/2211/27/2211/28/2211/29/2211/30/2212/1/2212/2/2212/3/2212/4/2212/5/2212/6/2212/7/2212/8/2212/9/2212/10/2212/11/2212/12/2212/13/2212/14/2212/15/2212/16/2212/17/2212/18/2212/19/2212/20/2212/21/2212/22/2212/23/2212/24/2212/25/2212/26/2212/27/2212/28/2212/29/2212/30/2212/31/221/1/231/2/23",
                  "100249248",
                  "2618235",
                  "2.611725326857315"
                ],
                [
                  "Haiti",
                  "0",
                  "20431.9824",
                  "-77851.16040000001",
                  "1/22/201/23/201/24/201/25/201/26/201/27/201/28/201/29/201/30/201/31/202/1/202/2/202/3/202/4/202/5/202/6/202/7/202/8/202/9/202/10/202/11/202/12/202/13/202/14/202/15/202/16/202/17/202/18/202/19/202/20/202/21/202/22/202/23/202/24/202/25/202/26/202/27/202/28/202/29/203/1/203/2/203/3/203/4/203/5/203/6/203/7/203/8/203/9/203/10/203/11/203/12/203/13/203/14/203/15/203/16/203/17/203/18/203/19/203/20/203/21/203/22/203/23/203/24/203/25/203/26/203/27/203/28/203/29/203/30/203/31/204/1/204/2/204/3/204/4/204/5/204/6/204/7/204/8/204/9/204/10/204/11/204/12/204/13/204/14/204/15/204/16/204/17/204/18/204/19/204/20/204/21/204/22/204/23/204/24/204/25/204/26/204/27/204/28/204/29/204/30/205/1/205/2/205/3/205/4/205/5/205/6/205/7/205/8/205/9/205/10/205/11/205/12/205/13/205/14/205/15/205/16/205/17/205/18/205/19/205/20/205/21/205/22/205/23/205/24/205/25/205/26/205/27/205/28/205/29/205/30/205/31/206/1/206/2/206/3/206/4/206/5/206/6/206/7/206/8/206/9/206/10/206/11/206/12/206/13/206/14/206/15/206/16/206/17/206/18/206/19/206/20/206/21/206/22/206/23/206/24/206/25/206/26/206/27/206/28/206/29/206/30/207/1/207/2/207/3/207/4/207/5/207/6/207/7/207/8/207/9/207/10/207/11/207/12/207/13/207/14/207/15/207/16/207/17/207/18/207/19/207/20/207/21/207/22/207/23/207/24/207/25/207/26/207/27/207/28/207/29/207/30/207/31/208/1/208/2/208/3/208/4/208/5/208/6/208/7/208/8/208/9/208/10/208/11/208/12/208/13/208/14/208/15/208/16/208/17/208/18/208/19/208/20/208/21/208/22/208/23/208/24/208/25/208/26/208/27/208/28/208/29/208/30/208/31/209/1/209/2/209/3/209/4/209/5/209/6/209/7/209/8/209/9/209/10/209/11/209/12/209/13/209/14/209/15/209/16/209/17/209/18/209/19/209/20/209/21/209/22/209/23/209/24/209/25/209/26/209/27/209/28/209/29/209/30/2010/1/2010/2/2010/3/2010/4/2010/5/2010/6/2010/7/2010/8/2010/9/2010/10/2010/11/2010/12/2010/13/2010/14/2010/15/2010/16/2010/17/2010/18/2010/19/2010/20/2010/21/2010/22/2010/23/2010/24/2010/25/2010/26/2010/27/2010/28/2010/29/2010/30/2010/31/2011/1/2011/2/2011/3/2011/4/2011/5/2011/6/2011/7/2011/8/2011/9/2011/10/2011/11/2011/12/2011/13/2011/14/2011/15/2011/16/2011/17/2011/18/2011/19/2011/20/2011/21/2011/22/2011/23/2011/24/2011/25/2011/26/2011/27/2011/28/2011/29/2011/30/2012/1/2012/2/2012/3/2012/4/2012/5/2012/6/2012/7/2012/8/2012/9/2012/10/2012/11/2012/12/2012/13/2012/14/2012/15/2012/16/2012/17/2012/18/2012/19/2012/20/2012/21/2012/22/2012/23/2012/24/2012/25/2012/26/2012/27/2012/28/2012/29/2012/30/2012/31/201/1/211/2/211/3/211/4/211/5/211/6/211/7/211/8/211/9/211/10/211/11/211/12/211/13/211/14/211/15/211/16/211/17/211/18/211/19/211/20/211/21/211/22/211/23/211/24/211/25/211/26/211/27/211/28/211/29/211/30/211/31/212/1/212/2/212/3/212/4/212/5/212/6/212/7/212/8/212/9/212/10/212/11/212/12/212/13/212/14/212/15/212/16/212/17/212/18/212/19/212/20/212/21/212/22/212/23/212/24/212/25/212/26/212/27/212/28/213/1/213/2/213/3/213/4/213/5/213/6/213/7/213/8/213/9/213/10/213/11/213/12/213/13/213/14/213/15/213/16/213/17/213/18/213/19/213/20/213/21/213/22/213/23/213/24/213/25/213/26/213/27/213/28/213/29/213/30/213/31/214/1/214/2/214/3/214/4/214/5/214/6/214/7/214/8/214/9/214/10/214/11/214/12/214/13/214/14/214/15/214/16/214/17/214/18/214/19/214/20/214/21/214/22/214/23/214/24/214/25/214/26/214/27/214/28/214/29/214/30/215/1/215/2/215/3/215/4/215/5/215/6/215/7/215/8/215/9/215/10/215/11/215/12/215/13/215/14/215/15/215/16/215/17/215/18/215/19/215/20/215/21/215/22/215/23/215/24/215/25/215/26/215/27/215/28/215/29/215/30/215/31/216/1/216/2/216/3/216/4/216/5/216/6/216/7/216/8/216/9/216/10/216/11/216/12/216/13/216/14/216/15/216/16/216/17/216/18/216/19/216/20/216/21/216/22/216/23/216/24/216/25/216/26/216/27/216/28/216/29/216/30/217/1/217/2/217/3/217/4/217/5/217/6/217/7/217/8/217/9/217/10/217/11/217/12/217/13/217/14/217/15/217/16/217/17/217/18/217/19/217/20/217/21/217/22/217/23/217/24/217/25/217/26/217/27/217/28/217/29/217/30/217/31/218/1/218/2/218/3/218/4/218/5/218/6/218/7/218/8/218/9/218/10/218/11/218/12/218/13/218/14/218/15/218/16/218/17/218/18/218/19/218/20/218/21/218/22/218/23/218/24/218/25/218/26/218/27/218/28/218/29/218/30/218/31/219/1/219/2/219/3/219/4/219/5/219/6/219/7/219/8/219/9/219/10/219/11/219/12/219/13/219/14/219/15/219/16/219/17/219/18/219/19/219/20/219/21/219/22/219/23/219/24/219/25/219/26/219/27/219/28/219/29/219/30/2110/1/2110/2/2110/3/2110/4/2110/5/2110/6/2110/7/2110/8/2110/9/2110/10/2110/11/2110/12/2110/13/2110/14/2110/15/2110/16/2110/17/2110/18/2110/19/2110/20/2110/21/2110/22/2110/23/2110/24/2110/25/2110/26/2110/27/2110/28/2110/29/2110/30/2110/31/2111/1/2111/2/2111/3/2111/4/2111/5/2111/6/2111/7/2111/8/2111/9/2111/10/2111/11/2111/12/2111/13/2111/14/2111/15/2111/16/2111/17/2111/18/2111/19/2111/20/2111/21/2111/22/2111/23/2111/24/2111/25/2111/26/2111/27/2111/28/2111/29/2111/30/2112/1/2112/2/2112/3/2112/4/2112/5/2112/6/2112/7/2112/8/2112/9/2112/10/2112/11/2112/12/2112/13/2112/14/2112/15/2112/16/2112/17/2112/18/2112/19/2112/20/2112/21/2112/22/2112/23/2112/24/2112/25/2112/26/2112/27/2112/28/2112/29/2112/30/2112/31/211/1/221/2/221/3/221/4/221/5/221/6/221/7/221/8/221/9/221/10/221/11/221/12/221/13/221/14/221/15/221/16/221/17/221/18/221/19/221/20/221/21/221/22/221/23/221/24/221/25/221/26/221/27/221/28/221/29/221/30/221/31/222/1/222/2/222/3/222/4/222/5/222/6/222/7/222/8/222/9/222/10/222/11/222/12/222/13/222/14/222/15/222/16/222/17/222/18/222/19/222/20/222/21/222/22/222/23/222/24/222/25/222/26/222/27/222/28/223/1/223/2/223/3/223/4/223/5/223/6/223/7/223/8/223/9/223/10/223/11/223/12/223/13/223/14/223/15/223/16/223/17/223/18/223/19/223/20/223/21/223/22/223/23/223/24/223/25/223/26/223/27/223/28/223/29/223/30/223/31/224/1/224/2/224/3/224/4/224/5/224/6/224/7/224/8/224/9/224/10/224/11/224/12/224/13/224/14/224/15/224/16/224/17/224/18/224/19/224/20/224/21/224/22/224/23/224/24/224/25/224/26/224/27/224/28/224/29/224/30/225/1/225/2/225/3/225/4/225/5/225/6/225/7/225/8/225/9/225/10/225/11/225/12/225/13/225/14/225/15/225/16/225/17/225/18/225/19/225/20/225/21/225/22/225/23/225/24/225/25/225/26/225/27/225/28/225/29/225/30/225/31/226/1/226/2/226/3/226/4/226/5/226/6/226/7/226/8/226/9/226/10/226/11/226/12/226/13/226/14/226/15/226/16/226/17/226/18/226/19/226/20/226/21/226/22/226/23/226/24/226/25/226/26/226/27/226/28/226/29/226/30/227/1/227/2/227/3/227/4/227/5/227/6/227/7/227/8/227/9/227/10/227/11/227/12/227/13/227/14/227/15/227/16/227/17/227/18/227/19/227/20/227/21/227/22/227/23/227/24/227/25/227/26/227/27/227/28/227/29/227/30/227/31/228/1/228/2/228/3/228/4/228/5/228/6/228/7/228/8/228/9/228/10/228/11/228/12/228/13/228/14/228/15/228/16/228/17/228/18/228/19/228/20/228/21/228/22/228/23/228/24/228/25/228/26/228/27/228/28/228/29/228/30/228/31/229/1/229/2/229/3/229/4/229/5/229/6/229/7/229/8/229/9/229/10/229/11/229/12/229/13/229/14/229/15/229/16/229/17/229/18/229/19/229/20/229/21/229/22/229/23/229/24/229/25/229/26/229/27/229/28/229/29/229/30/2210/1/2210/2/2210/3/2210/4/2210/5/2210/6/2210/7/2210/8/2210/9/2210/10/2210/11/2210/12/2210/13/2210/14/2210/15/2210/16/2210/17/2210/18/2210/19/2210/20/2210/21/2210/22/2210/23/2210/24/2210/25/2210/26/2210/27/2210/28/2210/29/2210/30/2210/31/2211/1/2211/2/2211/3/2211/4/2211/5/2211/6/2211/7/2211/8/2211/9/2211/10/2211/11/2211/12/2211/13/2211/14/2211/15/2211/16/2211/17/2211/18/2211/19/2211/20/2211/21/2211/22/2211/23/2211/24/2211/25/2211/26/2211/27/2211/28/2211/29/2211/30/2212/1/2212/2/2212/3/2212/4/2212/5/2212/6/2212/7/2212/8/2212/9/2212/10/2212/11/2212/12/2212/13/2212/14/2212/15/2212/16/2212/17/2212/18/2212/19/2212/20/2212/21/2212/22/2212/23/2212/24/2212/25/2212/26/2212/27/2212/28/2212/29/2212/30/2212/31/221/1/231/2/23",
                  "19923003",
                  "515118",
                  "2.5855439564005485"
                ],
                [
                  "Honduras",
                  "0",
                  "16370.4",
                  "-92882.5263",
                  "1/22/201/23/201/24/201/25/201/26/201/27/201/28/201/29/201/30/201/31/202/1/202/2/202/3/202/4/202/5/202/6/202/7/202/8/202/9/202/10/202/11/202/12/202/13/202/14/202/15/202/16/202/17/202/18/202/19/202/20/202/21/202/22/202/23/202/24/202/25/202/26/202/27/202/28/202/29/203/1/203/2/203/3/203/4/203/5/203/6/203/7/203/8/203/9/203/10/203/11/203/12/203/13/203/14/203/15/203/16/203/17/203/18/203/19/203/20/203/21/203/22/203/23/203/24/203/25/203/26/203/27/203/28/203/29/203/30/203/31/204/1/204/2/204/3/204/4/204/5/204/6/204/7/204/8/204/9/204/10/204/11/204/12/204/13/204/14/204/15/204/16/204/17/204/18/204/19/204/20/204/21/204/22/204/23/204/24/204/25/204/26/204/27/204/28/204/29/204/30/205/1/205/2/205/3/205/4/205/5/205/6/205/7/205/8/205/9/205/10/205/11/205/12/205/13/205/14/205/15/205/16/205/17/205/18/205/19/205/20/205/21/205/22/205/23/205/24/205/25/205/26/205/27/205/28/205/29/205/30/205/31/206/1/206/2/206/3/206/4/206/5/206/6/206/7/206/8/206/9/206/10/206/11/206/12/206/13/206/14/206/15/206/16/206/17/206/18/206/19/206/20/206/21/206/22/206/23/206/24/206/25/206/26/206/27/206/28/206/29/206/30/207/1/207/2/207/3/207/4/207/5/207/6/207/7/207/8/207/9/207/10/207/11/207/12/207/13/207/14/207/15/207/16/207/17/207/18/207/19/207/20/207/21/207/22/207/23/207/24/207/25/207/26/207/27/207/28/207/29/207/30/207/31/208/1/208/2/208/3/208/4/208/5/208/6/208/7/208/8/208/9/208/10/208/11/208/12/208/13/208/14/208/15/208/16/208/17/208/18/208/19/208/20/208/21/208/22/208/23/208/24/208/25/208/26/208/27/208/28/208/29/208/30/208/31/209/1/209/2/209/3/209/4/209/5/209/6/209/7/209/8/209/9/209/10/209/11/209/12/209/13/209/14/209/15/209/16/209/17/209/18/209/19/209/20/209/21/209/22/209/23/209/24/209/25/209/26/209/27/209/28/209/29/209/30/2010/1/2010/2/2010/3/2010/4/2010/5/2010/6/2010/7/2010/8/2010/9/2010/10/2010/11/2010/12/2010/13/2010/14/2010/15/2010/16/2010/17/2010/18/2010/19/2010/20/2010/21/2010/22/2010/23/2010/24/2010/25/2010/26/2010/27/2010/28/2010/29/2010/30/2010/31/2011/1/2011/2/2011/3/2011/4/2011/5/2011/6/2011/7/2011/8/2011/9/2011/10/2011/11/2011/12/2011/13/2011/14/2011/15/2011/16/2011/17/2011/18/2011/19/2011/20/2011/21/2011/22/2011/23/2011/24/2011/25/2011/26/2011/27/2011/28/2011/29/2011/30/2012/1/2012/2/2012/3/2012/4/2012/5/2012/6/2012/7/2012/8/2012/9/2012/10/2012/11/2012/12/2012/13/2012/14/2012/15/2012/16/2012/17/2012/18/2012/19/2012/20/2012/21/2012/22/2012/23/2012/24/2012/25/2012/26/2012/27/2012/28/2012/29/2012/30/2012/31/201/1/211/2/211/3/211/4/211/5/211/6/211/7/211/8/211/9/211/10/211/11/211/12/211/13/211/14/211/15/211/16/211/17/211/18/211/19/211/20/211/21/211/22/211/23/211/24/211/25/211/26/211/27/211/28/211/29/211/30/211/31/212/1/212/2/212/3/212/4/212/5/212/6/212/7/212/8/212/9/212/10/212/11/212/12/212/13/212/14/212/15/212/16/212/17/212/18/212/19/212/20/212/21/212/22/212/23/212/24/212/25/212/26/212/27/212/28/213/1/213/2/213/3/213/4/213/5/213/6/213/7/213/8/213/9/213/10/213/11/213/12/213/13/213/14/213/15/213/16/213/17/213/18/213/19/213/20/213/21/213/22/213/23/213/24/213/25/213/26/213/27/213/28/213/29/213/30/213/31/214/1/214/2/214/3/214/4/214/5/214/6/214/7/214/8/214/9/214/10/214/11/214/12/214/13/214/14/214/15/214/16/214/17/214/18/214/19/214/20/214/21/214/22/214/23/214/24/214/25/214/26/214/27/214/28/214/29/214/30/215/1/215/2/215/3/215/4/215/5/215/6/215/7/215/8/215/9/215/10/215/11/215/12/215/13/215/14/215/15/215/16/215/17/215/18/215/19/215/20/215/21/215/22/215/23/215/24/215/25/215/26/215/27/215/28/215/29/215/30/215/31/216/1/216/2/216/3/216/4/216/5/216/6/216/7/216/8/216/9/216/10/216/11/216/12/216/13/216/14/216/15/216/16/216/17/216/18/216/19/216/20/216/21/216/22/216/23/216/24/216/25/216/26/216/27/216/28/216/29/216/30/217/1/217/2/217/3/217/4/217/5/217/6/217/7/217/8/217/9/217/10/217/11/217/12/217/13/217/14/217/15/217/16/217/17/217/18/217/19/217/20/217/21/217/22/217/23/217/24/217/25/217/26/217/27/217/28/217/29/217/30/217/31/218/1/218/2/218/3/218/4/218/5/218/6/218/7/218/8/218/9/218/10/218/11/218/12/218/13/218/14/218/15/218/16/218/17/218/18/218/19/218/20/218/21/218/22/218/23/218/24/218/25/218/26/218/27/218/28/218/29/218/30/218/31/219/1/219/2/219/3/219/4/219/5/219/6/219/7/219/8/219/9/219/10/219/11/219/12/219/13/219/14/219/15/219/16/219/17/219/18/219/19/219/20/219/21/219/22/219/23/219/24/219/25/219/26/219/27/219/28/219/29/219/30/2110/1/2110/2/2110/3/2110/4/2110/5/2110/6/2110/7/2110/8/2110/9/2110/10/2110/11/2110/12/2110/13/2110/14/2110/15/2110/16/2110/17/2110/18/2110/19/2110/20/2110/21/2110/22/2110/23/2110/24/2110/25/2110/26/2110/27/2110/28/2110/29/2110/30/2110/31/2111/1/2111/2/2111/3/2111/4/2111/5/2111/6/2111/7/2111/8/2111/9/2111/10/2111/11/2111/12/2111/13/2111/14/2111/15/2111/16/2111/17/2111/18/2111/19/2111/20/2111/21/2111/22/2111/23/2111/24/2111/25/2111/26/2111/27/2111/28/2111/29/2111/30/2112/1/2112/2/2112/3/2112/4/2112/5/2112/6/2112/7/2112/8/2112/9/2112/10/2112/11/2112/12/2112/13/2112/14/2112/15/2112/16/2112/17/2112/18/2112/19/2112/20/2112/21/2112/22/2112/23/2112/24/2112/25/2112/26/2112/27/2112/28/2112/29/2112/30/2112/31/211/1/221/2/221/3/221/4/221/5/221/6/221/7/221/8/221/9/221/10/221/11/221/12/221/13/221/14/221/15/221/16/221/17/221/18/221/19/221/20/221/21/221/22/221/23/221/24/221/25/221/26/221/27/221/28/221/29/221/30/221/31/222/1/222/2/222/3/222/4/222/5/222/6/222/7/222/8/222/9/222/10/222/11/222/12/222/13/222/14/222/15/222/16/222/17/222/18/222/19/222/20/222/21/222/22/222/23/222/24/222/25/222/26/222/27/222/28/223/1/223/2/223/3/223/4/223/5/223/6/223/7/223/8/223/9/223/10/223/11/223/12/223/13/223/14/223/15/223/16/223/17/223/18/223/19/223/20/223/21/223/22/223/23/223/24/223/25/223/26/223/27/223/28/223/29/223/30/223/31/224/1/224/2/224/3/224/4/224/5/224/6/224/7/224/8/224/9/224/10/224/11/224/12/224/13/224/14/224/15/224/16/224/17/224/18/224/19/224/20/224/21/224/22/224/23/224/24/224/25/224/26/224/27/224/28/224/29/224/30/225/1/225/2/225/3/225/4/225/5/225/6/225/7/225/8/225/9/225/10/225/11/225/12/225/13/225/14/225/15/225/16/225/17/225/18/225/19/225/20/225/21/225/22/225/23/225/24/225/25/225/26/225/27/225/28/225/29/225/30/225/31/226/1/226/2/226/3/226/4/226/5/226/6/226/7/226/8/226/9/226/10/226/11/226/12/226/13/226/14/226/15/226/16/226/17/226/18/226/19/226/20/226/21/226/22/226/23/226/24/226/25/226/26/226/27/226/28/226/29/226/30/227/1/227/2/227/3/227/4/227/5/227/6/227/7/227/8/227/9/227/10/227/11/227/12/227/13/227/14/227/15/227/16/227/17/227/18/227/19/227/20/227/21/227/22/227/23/227/24/227/25/227/26/227/27/227/28/227/29/227/30/227/31/228/1/228/2/228/3/228/4/228/5/228/6/228/7/228/8/228/9/228/10/228/11/228/12/228/13/228/14/228/15/228/16/228/17/228/18/228/19/228/20/228/21/228/22/228/23/228/24/228/25/228/26/228/27/228/28/228/29/228/30/228/31/229/1/229/2/229/3/229/4/229/5/229/6/229/7/229/8/229/9/229/10/229/11/229/12/229/13/229/14/229/15/229/16/229/17/229/18/229/19/229/20/229/21/229/22/229/23/229/24/229/25/229/26/229/27/229/28/229/29/229/30/2210/1/2210/2/2210/3/2210/4/2210/5/2210/6/2210/7/2210/8/2210/9/2210/10/2210/11/2210/12/2210/13/2210/14/2210/15/2210/16/2210/17/2210/18/2210/19/2210/20/2210/21/2210/22/2210/23/2210/24/2210/25/2210/26/2210/27/2210/28/2210/29/2210/30/2210/31/2211/1/2211/2/2211/3/2211/4/2211/5/2211/6/2211/7/2211/8/2211/9/2211/10/2211/11/2211/12/2211/13/2211/14/2211/15/2211/16/2211/17/2211/18/2211/19/2211/20/2211/21/2211/22/2211/23/2211/24/2211/25/2211/26/2211/27/2211/28/2211/29/2211/30/2212/1/2212/2/2212/3/2212/4/2212/5/2212/6/2212/7/2212/8/2212/9/2212/10/2212/11/2212/12/2212/13/2212/14/2212/15/2212/16/2212/17/2212/18/2212/19/2212/20/2212/21/2212/22/2212/23/2212/24/2212/25/2212/26/2212/27/2212/28/2212/29/2212/30/2212/31/221/1/231/2/23",
                  "271613838",
                  "7004195",
                  "2.578732752195048"
                ],
                [
                  "Trinidad and Tobago",
                  "0",
                  "11515.0686",
                  "-65936.63249999999",
                  "1/22/201/23/201/24/201/25/201/26/201/27/201/28/201/29/201/30/201/31/202/1/202/2/202/3/202/4/202/5/202/6/202/7/202/8/202/9/202/10/202/11/202/12/202/13/202/14/202/15/202/16/202/17/202/18/202/19/202/20/202/21/202/22/202/23/202/24/202/25/202/26/202/27/202/28/202/29/203/1/203/2/203/3/203/4/203/5/203/6/203/7/203/8/203/9/203/10/203/11/203/12/203/13/203/14/203/15/203/16/203/17/203/18/203/19/203/20/203/21/203/22/203/23/203/24/203/25/203/26/203/27/203/28/203/29/203/30/203/31/204/1/204/2/204/3/204/4/204/5/204/6/204/7/204/8/204/9/204/10/204/11/204/12/204/13/204/14/204/15/204/16/204/17/204/18/204/19/204/20/204/21/204/22/204/23/204/24/204/25/204/26/204/27/204/28/204/29/204/30/205/1/205/2/205/3/205/4/205/5/205/6/205/7/205/8/205/9/205/10/205/11/205/12/205/13/205/14/205/15/205/16/205/17/205/18/205/19/205/20/205/21/205/22/205/23/205/24/205/25/205/26/205/27/205/28/205/29/205/30/205/31/206/1/206/2/206/3/206/4/206/5/206/6/206/7/206/8/206/9/206/10/206/11/206/12/206/13/206/14/206/15/206/16/206/17/206/18/206/19/206/20/206/21/206/22/206/23/206/24/206/25/206/26/206/27/206/28/206/29/206/30/207/1/207/2/207/3/207/4/207/5/207/6/207/7/207/8/207/9/207/10/207/11/207/12/207/13/207/14/207/15/207/16/207/17/207/18/207/19/207/20/207/21/207/22/207/23/207/24/207/25/207/26/207/27/207/28/207/29/207/30/207/31/208/1/208/2/208/3/208/4/208/5/208/6/208/7/208/8/208/9/208/10/208/11/208/12/208/13/208/14/208/15/208/16/208/17/208/18/208/19/208/20/208/21/208/22/208/23/208/24/208/25/208/26/208/27/208/28/208/29/208/30/208/31/209/1/209/2/209/3/209/4/209/5/209/6/209/7/209/8/209/9/209/10/209/11/209/12/209/13/209/14/209/15/209/16/209/17/209/18/209/19/209/20/209/21/209/22/209/23/209/24/209/25/209/26/209/27/209/28/209/29/209/30/2010/1/2010/2/2010/3/2010/4/2010/5/2010/6/2010/7/2010/8/2010/9/2010/10/2010/11/2010/12/2010/13/2010/14/2010/15/2010/16/2010/17/2010/18/2010/19/2010/20/2010/21/2010/22/2010/23/2010/24/2010/25/2010/26/2010/27/2010/28/2010/29/2010/30/2010/31/2011/1/2011/2/2011/3/2011/4/2011/5/2011/6/2011/7/2011/8/2011/9/2011/10/2011/11/2011/12/2011/13/2011/14/2011/15/2011/16/2011/17/2011/18/2011/19/2011/20/2011/21/2011/22/2011/23/2011/24/2011/25/2011/26/2011/27/2011/28/2011/29/2011/30/2012/1/2012/2/2012/3/2012/4/2012/5/2012/6/2012/7/2012/8/2012/9/2012/10/2012/11/2012/12/2012/13/2012/14/2012/15/2012/16/2012/17/2012/18/2012/19/2012/20/2012/21/2012/22/2012/23/2012/24/2012/25/2012/26/2012/27/2012/28/2012/29/2012/30/2012/31/201/1/211/2/211/3/211/4/211/5/211/6/211/7/211/8/211/9/211/10/211/11/211/12/211/13/211/14/211/15/211/16/211/17/211/18/211/19/211/20/211/21/211/22/211/23/211/24/211/25/211/26/211/27/211/28/211/29/211/30/211/31/212/1/212/2/212/3/212/4/212/5/212/6/212/7/212/8/212/9/212/10/212/11/212/12/212/13/212/14/212/15/212/16/212/17/212/18/212/19/212/20/212/21/212/22/212/23/212/24/212/25/212/26/212/27/212/28/213/1/213/2/213/3/213/4/213/5/213/6/213/7/213/8/213/9/213/10/213/11/213/12/213/13/213/14/213/15/213/16/213/17/213/18/213/19/213/20/213/21/213/22/213/23/213/24/213/25/213/26/213/27/213/28/213/29/213/30/213/31/214/1/214/2/214/3/214/4/214/5/214/6/214/7/214/8/214/9/214/10/214/11/214/12/214/13/214/14/214/15/214/16/214/17/214/18/214/19/214/20/214/21/214/22/214/23/214/24/214/25/214/26/214/27/214/28/214/29/214/30/215/1/215/2/215/3/215/4/215/5/215/6/215/7/215/8/215/9/215/10/215/11/215/12/215/13/215/14/215/15/215/16/215/17/215/18/215/19/215/20/215/21/215/22/215/23/215/24/215/25/215/26/215/27/215/28/215/29/215/30/215/31/216/1/216/2/216/3/216/4/216/5/216/6/216/7/216/8/216/9/216/10/216/11/216/12/216/13/216/14/216/15/216/16/216/17/216/18/216/19/216/20/216/21/216/22/216/23/216/24/216/25/216/26/216/27/216/28/216/29/216/30/217/1/217/2/217/3/217/4/217/5/217/6/217/7/217/8/217/9/217/10/217/11/217/12/217/13/217/14/217/15/217/16/217/17/217/18/217/19/217/20/217/21/217/22/217/23/217/24/217/25/217/26/217/27/217/28/217/29/217/30/217/31/218/1/218/2/218/3/218/4/218/5/218/6/218/7/218/8/218/9/218/10/218/11/218/12/218/13/218/14/218/15/218/16/218/17/218/18/218/19/218/20/218/21/218/22/218/23/218/24/218/25/218/26/218/27/218/28/218/29/218/30/218/31/219/1/219/2/219/3/219/4/219/5/219/6/219/7/219/8/219/9/219/10/219/11/219/12/219/13/219/14/219/15/219/16/219/17/219/18/219/19/219/20/219/21/219/22/219/23/219/24/219/25/219/26/219/27/219/28/219/29/219/30/2110/1/2110/2/2110/3/2110/4/2110/5/2110/6/2110/7/2110/8/2110/9/2110/10/2110/11/2110/12/2110/13/2110/14/2110/15/2110/16/2110/17/2110/18/2110/19/2110/20/2110/21/2110/22/2110/23/2110/24/2110/25/2110/26/2110/27/2110/28/2110/29/2110/30/2110/31/2111/1/2111/2/2111/3/2111/4/2111/5/2111/6/2111/7/2111/8/2111/9/2111/10/2111/11/2111/12/2111/13/2111/14/2111/15/2111/16/2111/17/2111/18/2111/19/2111/20/2111/21/2111/22/2111/23/2111/24/2111/25/2111/26/2111/27/2111/28/2111/29/2111/30/2112/1/2112/2/2112/3/2112/4/2112/5/2112/6/2112/7/2112/8/2112/9/2112/10/2112/11/2112/12/2112/13/2112/14/2112/15/2112/16/2112/17/2112/18/2112/19/2112/20/2112/21/2112/22/2112/23/2112/24/2112/25/2112/26/2112/27/2112/28/2112/29/2112/30/2112/31/211/1/221/2/221/3/221/4/221/5/221/6/221/7/221/8/221/9/221/10/221/11/221/12/221/13/221/14/221/15/221/16/221/17/221/18/221/19/221/20/221/21/221/22/221/23/221/24/221/25/221/26/221/27/221/28/221/29/221/30/221/31/222/1/222/2/222/3/222/4/222/5/222/6/222/7/222/8/222/9/222/10/222/11/222/12/222/13/222/14/222/15/222/16/222/17/222/18/222/19/222/20/222/21/222/22/222/23/222/24/222/25/222/26/222/27/222/28/223/1/223/2/223/3/223/4/223/5/223/6/223/7/223/8/223/9/223/10/223/11/223/12/223/13/223/14/223/15/223/16/223/17/223/18/223/19/223/20/223/21/223/22/223/23/223/24/223/25/223/26/223/27/223/28/223/29/223/30/223/31/224/1/224/2/224/3/224/4/224/5/224/6/224/7/224/8/224/9/224/10/224/11/224/12/224/13/224/14/224/15/224/16/224/17/224/18/224/19/224/20/224/21/224/22/224/23/224/24/224/25/224/26/224/27/224/28/224/29/224/30/225/1/225/2/225/3/225/4/225/5/225/6/225/7/225/8/225/9/225/10/225/11/225/12/225/13/225/14/225/15/225/16/225/17/225/18/225/19/225/20/225/21/225/22/225/23/225/24/225/25/225/26/225/27/225/28/225/29/225/30/225/31/226/1/226/2/226/3/226/4/226/5/226/6/226/7/226/8/226/9/226/10/226/11/226/12/226/13/226/14/226/15/226/16/226/17/226/18/226/19/226/20/226/21/226/22/226/23/226/24/226/25/226/26/226/27/226/28/226/29/226/30/227/1/227/2/227/3/227/4/227/5/227/6/227/7/227/8/227/9/227/10/227/11/227/12/227/13/227/14/227/15/227/16/227/17/227/18/227/19/227/20/227/21/227/22/227/23/227/24/227/25/227/26/227/27/227/28/227/29/227/30/227/31/228/1/228/2/228/3/228/4/228/5/228/6/228/7/228/8/228/9/228/10/228/11/228/12/228/13/228/14/228/15/228/16/228/17/228/18/228/19/228/20/228/21/228/22/228/23/228/24/228/25/228/26/228/27/228/28/228/29/228/30/228/31/229/1/229/2/229/3/229/4/229/5/229/6/229/7/229/8/229/9/229/10/229/11/229/12/229/13/229/14/229/15/229/16/229/17/229/18/229/19/229/20/229/21/229/22/229/23/229/24/229/25/229/26/229/27/229/28/229/29/229/30/2210/1/2210/2/2210/3/2210/4/2210/5/2210/6/2210/7/2210/8/2210/9/2210/10/2210/11/2210/12/2210/13/2210/14/2210/15/2210/16/2210/17/2210/18/2210/19/2210/20/2210/21/2210/22/2210/23/2210/24/2210/25/2210/26/2210/27/2210/28/2210/29/2210/30/2210/31/2211/1/2211/2/2211/3/2211/4/2211/5/2211/6/2211/7/2211/8/2211/9/2211/10/2211/11/2211/12/2211/13/2211/14/2211/15/2211/16/2211/17/2211/18/2211/19/2211/20/2211/21/2211/22/2211/23/2211/24/2211/25/2211/26/2211/27/2211/28/2211/29/2211/30/2212/1/2212/2/2212/3/2212/4/2212/5/2212/6/2212/7/2212/8/2212/9/2212/10/2212/11/2212/12/2212/13/2212/14/2212/15/2212/16/2212/17/2212/18/2212/19/2212/20/2212/21/2212/22/2212/23/2212/24/2212/25/2212/26/2212/27/2212/28/2212/29/2212/30/2212/31/221/1/231/2/23",
                  "71237148",
                  "1794917",
                  "2.5196362437193582"
                ],
                [
                  "Zimbabwe",
                  "0",
                  "-20479.626726",
                  "31399.780989",
                  "1/22/201/23/201/24/201/25/201/26/201/27/201/28/201/29/201/30/201/31/202/1/202/2/202/3/202/4/202/5/202/6/202/7/202/8/202/9/202/10/202/11/202/12/202/13/202/14/202/15/202/16/202/17/202/18/202/19/202/20/202/21/202/22/202/23/202/24/202/25/202/26/202/27/202/28/202/29/203/1/203/2/203/3/203/4/203/5/203/6/203/7/203/8/203/9/203/10/203/11/203/12/203/13/203/14/203/15/203/16/203/17/203/18/203/19/203/20/203/21/203/22/203/23/203/24/203/25/203/26/203/27/203/28/203/29/203/30/203/31/204/1/204/2/204/3/204/4/204/5/204/6/204/7/204/8/204/9/204/10/204/11/204/12/204/13/204/14/204/15/204/16/204/17/204/18/204/19/204/20/204/21/204/22/204/23/204/24/204/25/204/26/204/27/204/28/204/29/204/30/205/1/205/2/205/3/205/4/205/5/205/6/205/7/205/8/205/9/205/10/205/11/205/12/205/13/205/14/205/15/205/16/205/17/205/18/205/19/205/20/205/21/205/22/205/23/205/24/205/25/205/26/205/27/205/28/205/29/205/30/205/31/206/1/206/2/206/3/206/4/206/5/206/6/206/7/206/8/206/9/206/10/206/11/206/12/206/13/206/14/206/15/206/16/206/17/206/18/206/19/206/20/206/21/206/22/206/23/206/24/206/25/206/26/206/27/206/28/206/29/206/30/207/1/207/2/207/3/207/4/207/5/207/6/207/7/207/8/207/9/207/10/207/11/207/12/207/13/207/14/207/15/207/16/207/17/207/18/207/19/207/20/207/21/207/22/207/23/207/24/207/25/207/26/207/27/207/28/207/29/207/30/207/31/208/1/208/2/208/3/208/4/208/5/208/6/208/7/208/8/208/9/208/10/208/11/208/12/208/13/208/14/208/15/208/16/208/17/208/18/208/19/208/20/208/21/208/22/208/23/208/24/208/25/208/26/208/27/208/28/208/29/208/30/208/31/209/1/209/2/209/3/209/4/209/5/209/6/209/7/209/8/209/9/209/10/209/11/209/12/209/13/209/14/209/15/209/16/209/17/209/18/209/19/209/20/209/21/209/22/209/23/209/24/209/25/209/26/209/27/209/28/209/29/209/30/2010/1/2010/2/2010/3/2010/4/2010/5/2010/6/2010/7/2010/8/2010/9/2010/10/2010/11/2010/12/2010/13/2010/14/2010/15/2010/16/2010/17/2010/18/2010/19/2010/20/2010/21/2010/22/2010/23/2010/24/2010/25/2010/26/2010/27/2010/28/2010/29/2010/30/2010/31/2011/1/2011/2/2011/3/2011/4/2011/5/2011/6/2011/7/2011/8/2011/9/2011/10/2011/11/2011/12/2011/13/2011/14/2011/15/2011/16/2011/17/2011/18/2011/19/2011/20/2011/21/2011/22/2011/23/2011/24/2011/25/2011/26/2011/27/2011/28/2011/29/2011/30/2012/1/2012/2/2012/3/2012/4/2012/5/2012/6/2012/7/2012/8/2012/9/2012/10/2012/11/2012/12/2012/13/2012/14/2012/15/2012/16/2012/17/2012/18/2012/19/2012/20/2012/21/2012/22/2012/23/2012/24/2012/25/2012/26/2012/27/2012/28/2012/29/2012/30/2012/31/201/1/211/2/211/3/211/4/211/5/211/6/211/7/211/8/211/9/211/10/211/11/211/12/211/13/211/14/211/15/211/16/211/17/211/18/211/19/211/20/211/21/211/22/211/23/211/24/211/25/211/26/211/27/211/28/211/29/211/30/211/31/212/1/212/2/212/3/212/4/212/5/212/6/212/7/212/8/212/9/212/10/212/11/212/12/212/13/212/14/212/15/212/16/212/17/212/18/212/19/212/20/212/21/212/22/212/23/212/24/212/25/212/26/212/27/212/28/213/1/213/2/213/3/213/4/213/5/213/6/213/7/213/8/213/9/213/10/213/11/213/12/213/13/213/14/213/15/213/16/213/17/213/18/213/19/213/20/213/21/213/22/213/23/213/24/213/25/213/26/213/27/213/28/213/29/213/30/213/31/214/1/214/2/214/3/214/4/214/5/214/6/214/7/214/8/214/9/214/10/214/11/214/12/214/13/214/14/214/15/214/16/214/17/214/18/214/19/214/20/214/21/214/22/214/23/214/24/214/25/214/26/214/27/214/28/214/29/214/30/215/1/215/2/215/3/215/4/215/5/215/6/215/7/215/8/215/9/215/10/215/11/215/12/215/13/215/14/215/15/215/16/215/17/215/18/215/19/215/20/215/21/215/22/215/23/215/24/215/25/215/26/215/27/215/28/215/29/215/30/215/31/216/1/216/2/216/3/216/4/216/5/216/6/216/7/216/8/216/9/216/10/216/11/216/12/216/13/216/14/216/15/216/16/216/17/216/18/216/19/216/20/216/21/216/22/216/23/216/24/216/25/216/26/216/27/216/28/216/29/216/30/217/1/217/2/217/3/217/4/217/5/217/6/217/7/217/8/217/9/217/10/217/11/217/12/217/13/217/14/217/15/217/16/217/17/217/18/217/19/217/20/217/21/217/22/217/23/217/24/217/25/217/26/217/27/217/28/217/29/217/30/217/31/218/1/218/2/218/3/218/4/218/5/218/6/218/7/218/8/218/9/218/10/218/11/218/12/218/13/218/14/218/15/218/16/218/17/218/18/218/19/218/20/218/21/218/22/218/23/218/24/218/25/218/26/218/27/218/28/218/29/218/30/218/31/219/1/219/2/219/3/219/4/219/5/219/6/219/7/219/8/219/9/219/10/219/11/219/12/219/13/219/14/219/15/219/16/219/17/219/18/219/19/219/20/219/21/219/22/219/23/219/24/219/25/219/26/219/27/219/28/219/29/219/30/2110/1/2110/2/2110/3/2110/4/2110/5/2110/6/2110/7/2110/8/2110/9/2110/10/2110/11/2110/12/2110/13/2110/14/2110/15/2110/16/2110/17/2110/18/2110/19/2110/20/2110/21/2110/22/2110/23/2110/24/2110/25/2110/26/2110/27/2110/28/2110/29/2110/30/2110/31/2111/1/2111/2/2111/3/2111/4/2111/5/2111/6/2111/7/2111/8/2111/9/2111/10/2111/11/2111/12/2111/13/2111/14/2111/15/2111/16/2111/17/2111/18/2111/19/2111/20/2111/21/2111/22/2111/23/2111/24/2111/25/2111/26/2111/27/2111/28/2111/29/2111/30/2112/1/2112/2/2112/3/2112/4/2112/5/2112/6/2112/7/2112/8/2112/9/2112/10/2112/11/2112/12/2112/13/2112/14/2112/15/2112/16/2112/17/2112/18/2112/19/2112/20/2112/21/2112/22/2112/23/2112/24/2112/25/2112/26/2112/27/2112/28/2112/29/2112/30/2112/31/211/1/221/2/221/3/221/4/221/5/221/6/221/7/221/8/221/9/221/10/221/11/221/12/221/13/221/14/221/15/221/16/221/17/221/18/221/19/221/20/221/21/221/22/221/23/221/24/221/25/221/26/221/27/221/28/221/29/221/30/221/31/222/1/222/2/222/3/222/4/222/5/222/6/222/7/222/8/222/9/222/10/222/11/222/12/222/13/222/14/222/15/222/16/222/17/222/18/222/19/222/20/222/21/222/22/222/23/222/24/222/25/222/26/222/27/222/28/223/1/223/2/223/3/223/4/223/5/223/6/223/7/223/8/223/9/223/10/223/11/223/12/223/13/223/14/223/15/223/16/223/17/223/18/223/19/223/20/223/21/223/22/223/23/223/24/223/25/223/26/223/27/223/28/223/29/223/30/223/31/224/1/224/2/224/3/224/4/224/5/224/6/224/7/224/8/224/9/224/10/224/11/224/12/224/13/224/14/224/15/224/16/224/17/224/18/224/19/224/20/224/21/224/22/224/23/224/24/224/25/224/26/224/27/224/28/224/29/224/30/225/1/225/2/225/3/225/4/225/5/225/6/225/7/225/8/225/9/225/10/225/11/225/12/225/13/225/14/225/15/225/16/225/17/225/18/225/19/225/20/225/21/225/22/225/23/225/24/225/25/225/26/225/27/225/28/225/29/225/30/225/31/226/1/226/2/226/3/226/4/226/5/226/6/226/7/226/8/226/9/226/10/226/11/226/12/226/13/226/14/226/15/226/16/226/17/226/18/226/19/226/20/226/21/226/22/226/23/226/24/226/25/226/26/226/27/226/28/226/29/226/30/227/1/227/2/227/3/227/4/227/5/227/6/227/7/227/8/227/9/227/10/227/11/227/12/227/13/227/14/227/15/227/16/227/17/227/18/227/19/227/20/227/21/227/22/227/23/227/24/227/25/227/26/227/27/227/28/227/29/227/30/227/31/228/1/228/2/228/3/228/4/228/5/228/6/228/7/228/8/228/9/228/10/228/11/228/12/228/13/228/14/228/15/228/16/228/17/228/18/228/19/228/20/228/21/228/22/228/23/228/24/228/25/228/26/228/27/228/28/228/29/228/30/228/31/229/1/229/2/229/3/229/4/229/5/229/6/229/7/229/8/229/9/229/10/229/11/229/12/229/13/229/14/229/15/229/16/229/17/229/18/229/19/229/20/229/21/229/22/229/23/229/24/229/25/229/26/229/27/229/28/229/29/229/30/2210/1/2210/2/2210/3/2210/4/2210/5/2210/6/2210/7/2210/8/2210/9/2210/10/2210/11/2210/12/2210/13/2210/14/2210/15/2210/16/2210/17/2210/18/2210/19/2210/20/2210/21/2210/22/2210/23/2210/24/2210/25/2210/26/2210/27/2210/28/2210/29/2210/30/2210/31/2211/1/2211/2/2211/3/2211/4/2211/5/2211/6/2211/7/2211/8/2211/9/2211/10/2211/11/2211/12/2211/13/2211/14/2211/15/2211/16/2211/17/2211/18/2211/19/2211/20/2211/21/2211/22/2211/23/2211/24/2211/25/2211/26/2211/27/2211/28/2211/29/2211/30/2212/1/2212/2/2212/3/2212/4/2212/5/2212/6/2212/7/2212/8/2212/9/2212/10/2212/11/2212/12/2212/13/2212/14/2212/15/2212/16/2212/17/2212/18/2212/19/2212/20/2212/21/2212/22/2212/23/2212/24/2212/25/2212/26/2212/27/2212/28/2212/29/2212/30/2212/31/221/1/231/2/23",
                  "123084606",
                  "3087612",
                  "2.5085281582653804"
                ],
                [
                  "Romania",
                  "0",
                  "49480.8264",
                  "26889.243599999998",
                  "1/22/201/23/201/24/201/25/201/26/201/27/201/28/201/29/201/30/201/31/202/1/202/2/202/3/202/4/202/5/202/6/202/7/202/8/202/9/202/10/202/11/202/12/202/13/202/14/202/15/202/16/202/17/202/18/202/19/202/20/202/21/202/22/202/23/202/24/202/25/202/26/202/27/202/28/202/29/203/1/203/2/203/3/203/4/203/5/203/6/203/7/203/8/203/9/203/10/203/11/203/12/203/13/203/14/203/15/203/16/203/17/203/18/203/19/203/20/203/21/203/22/203/23/203/24/203/25/203/26/203/27/203/28/203/29/203/30/203/31/204/1/204/2/204/3/204/4/204/5/204/6/204/7/204/8/204/9/204/10/204/11/204/12/204/13/204/14/204/15/204/16/204/17/204/18/204/19/204/20/204/21/204/22/204/23/204/24/204/25/204/26/204/27/204/28/204/29/204/30/205/1/205/2/205/3/205/4/205/5/205/6/205/7/205/8/205/9/205/10/205/11/205/12/205/13/205/14/205/15/205/16/205/17/205/18/205/19/205/20/205/21/205/22/205/23/205/24/205/25/205/26/205/27/205/28/205/29/205/30/205/31/206/1/206/2/206/3/206/4/206/5/206/6/206/7/206/8/206/9/206/10/206/11/206/12/206/13/206/14/206/15/206/16/206/17/206/18/206/19/206/20/206/21/206/22/206/23/206/24/206/25/206/26/206/27/206/28/206/29/206/30/207/1/207/2/207/3/207/4/207/5/207/6/207/7/207/8/207/9/207/10/207/11/207/12/207/13/207/14/207/15/207/16/207/17/207/18/207/19/207/20/207/21/207/22/207/23/207/24/207/25/207/26/207/27/207/28/207/29/207/30/207/31/208/1/208/2/208/3/208/4/208/5/208/6/208/7/208/8/208/9/208/10/208/11/208/12/208/13/208/14/208/15/208/16/208/17/208/18/208/19/208/20/208/21/208/22/208/23/208/24/208/25/208/26/208/27/208/28/208/29/208/30/208/31/209/1/209/2/209/3/209/4/209/5/209/6/209/7/209/8/209/9/209/10/209/11/209/12/209/13/209/14/209/15/209/16/209/17/209/18/209/19/209/20/209/21/209/22/209/23/209/24/209/25/209/26/209/27/209/28/209/29/209/30/2010/1/2010/2/2010/3/2010/4/2010/5/2010/6/2010/7/2010/8/2010/9/2010/10/2010/11/2010/12/2010/13/2010/14/2010/15/2010/16/2010/17/2010/18/2010/19/2010/20/2010/21/2010/22/2010/23/2010/24/2010/25/2010/26/2010/27/2010/28/2010/29/2010/30/2010/31/2011/1/2011/2/2011/3/2011/4/2011/5/2011/6/2011/7/2011/8/2011/9/2011/10/2011/11/2011/12/2011/13/2011/14/2011/15/2011/16/2011/17/2011/18/2011/19/2011/20/2011/21/2011/22/2011/23/2011/24/2011/25/2011/26/2011/27/2011/28/2011/29/2011/30/2012/1/2012/2/2012/3/2012/4/2012/5/2012/6/2012/7/2012/8/2012/9/2012/10/2012/11/2012/12/2012/13/2012/14/2012/15/2012/16/2012/17/2012/18/2012/19/2012/20/2012/21/2012/22/2012/23/2012/24/2012/25/2012/26/2012/27/2012/28/2012/29/2012/30/2012/31/201/1/211/2/211/3/211/4/211/5/211/6/211/7/211/8/211/9/211/10/211/11/211/12/211/13/211/14/211/15/211/16/211/17/211/18/211/19/211/20/211/21/211/22/211/23/211/24/211/25/211/26/211/27/211/28/211/29/211/30/211/31/212/1/212/2/212/3/212/4/212/5/212/6/212/7/212/8/212/9/212/10/212/11/212/12/212/13/212/14/212/15/212/16/212/17/212/18/212/19/212/20/212/21/212/22/212/23/212/24/212/25/212/26/212/27/212/28/213/1/213/2/213/3/213/4/213/5/213/6/213/7/213/8/213/9/213/10/213/11/213/12/213/13/213/14/213/15/213/16/213/17/213/18/213/19/213/20/213/21/213/22/213/23/213/24/213/25/213/26/213/27/213/28/213/29/213/30/213/31/214/1/214/2/214/3/214/4/214/5/214/6/214/7/214/8/214/9/214/10/214/11/214/12/214/13/214/14/214/15/214/16/214/17/214/18/214/19/214/20/214/21/214/22/214/23/214/24/214/25/214/26/214/27/214/28/214/29/214/30/215/1/215/2/215/3/215/4/215/5/215/6/215/7/215/8/215/9/215/10/215/11/215/12/215/13/215/14/215/15/215/16/215/17/215/18/215/19/215/20/215/21/215/22/215/23/215/24/215/25/215/26/215/27/215/28/215/29/215/30/215/31/216/1/216/2/216/3/216/4/216/5/216/6/216/7/216/8/216/9/216/10/216/11/216/12/216/13/216/14/216/15/216/16/216/17/216/18/216/19/216/20/216/21/216/22/216/23/216/24/216/25/216/26/216/27/216/28/216/29/216/30/217/1/217/2/217/3/217/4/217/5/217/6/217/7/217/8/217/9/217/10/217/11/217/12/217/13/217/14/217/15/217/16/217/17/217/18/217/19/217/20/217/21/217/22/217/23/217/24/217/25/217/26/217/27/217/28/217/29/217/30/217/31/218/1/218/2/218/3/218/4/218/5/218/6/218/7/218/8/218/9/218/10/218/11/218/12/218/13/218/14/218/15/218/16/218/17/218/18/218/19/218/20/218/21/218/22/218/23/218/24/218/25/218/26/218/27/218/28/218/29/218/30/218/31/219/1/219/2/219/3/219/4/219/5/219/6/219/7/219/8/219/9/219/10/219/11/219/12/219/13/219/14/219/15/219/16/219/17/219/18/219/19/219/20/219/21/219/22/219/23/219/24/219/25/219/26/219/27/219/28/219/29/219/30/2110/1/2110/2/2110/3/2110/4/2110/5/2110/6/2110/7/2110/8/2110/9/2110/10/2110/11/2110/12/2110/13/2110/14/2110/15/2110/16/2110/17/2110/18/2110/19/2110/20/2110/21/2110/22/2110/23/2110/24/2110/25/2110/26/2110/27/2110/28/2110/29/2110/30/2110/31/2111/1/2111/2/2111/3/2111/4/2111/5/2111/6/2111/7/2111/8/2111/9/2111/10/2111/11/2111/12/2111/13/2111/14/2111/15/2111/16/2111/17/2111/18/2111/19/2111/20/2111/21/2111/22/2111/23/2111/24/2111/25/2111/26/2111/27/2111/28/2111/29/2111/30/2112/1/2112/2/2112/3/2112/4/2112/5/2112/6/2112/7/2112/8/2112/9/2112/10/2112/11/2112/12/2112/13/2112/14/2112/15/2112/16/2112/17/2112/18/2112/19/2112/20/2112/21/2112/22/2112/23/2112/24/2112/25/2112/26/2112/27/2112/28/2112/29/2112/30/2112/31/211/1/221/2/221/3/221/4/221/5/221/6/221/7/221/8/221/9/221/10/221/11/221/12/221/13/221/14/221/15/221/16/221/17/221/18/221/19/221/20/221/21/221/22/221/23/221/24/221/25/221/26/221/27/221/28/221/29/221/30/221/31/222/1/222/2/222/3/222/4/222/5/222/6/222/7/222/8/222/9/222/10/222/11/222/12/222/13/222/14/222/15/222/16/222/17/222/18/222/19/222/20/222/21/222/22/222/23/222/24/222/25/222/26/222/27/222/28/223/1/223/2/223/3/223/4/223/5/223/6/223/7/223/8/223/9/223/10/223/11/223/12/223/13/223/14/223/15/223/16/223/17/223/18/223/19/223/20/223/21/223/22/223/23/223/24/223/25/223/26/223/27/223/28/223/29/223/30/223/31/224/1/224/2/224/3/224/4/224/5/224/6/224/7/224/8/224/9/224/10/224/11/224/12/224/13/224/14/224/15/224/16/224/17/224/18/224/19/224/20/224/21/224/22/224/23/224/24/224/25/224/26/224/27/224/28/224/29/224/30/225/1/225/2/225/3/225/4/225/5/225/6/225/7/225/8/225/9/225/10/225/11/225/12/225/13/225/14/225/15/225/16/225/17/225/18/225/19/225/20/225/21/225/22/225/23/225/24/225/25/225/26/225/27/225/28/225/29/225/30/225/31/226/1/226/2/226/3/226/4/226/5/226/6/226/7/226/8/226/9/226/10/226/11/226/12/226/13/226/14/226/15/226/16/226/17/226/18/226/19/226/20/226/21/226/22/226/23/226/24/226/25/226/26/226/27/226/28/226/29/226/30/227/1/227/2/227/3/227/4/227/5/227/6/227/7/227/8/227/9/227/10/227/11/227/12/227/13/227/14/227/15/227/16/227/17/227/18/227/19/227/20/227/21/227/22/227/23/227/24/227/25/227/26/227/27/227/28/227/29/227/30/227/31/228/1/228/2/228/3/228/4/228/5/228/6/228/7/228/8/228/9/228/10/228/11/228/12/228/13/228/14/228/15/228/16/228/17/228/18/228/19/228/20/228/21/228/22/228/23/228/24/228/25/228/26/228/27/228/28/228/29/228/30/228/31/229/1/229/2/229/3/229/4/229/5/229/6/229/7/229/8/229/9/229/10/229/11/229/12/229/13/229/14/229/15/229/16/229/17/229/18/229/19/229/20/229/21/229/22/229/23/229/24/229/25/229/26/229/27/229/28/229/29/229/30/2210/1/2210/2/2210/3/2210/4/2210/5/2210/6/2210/7/2210/8/2210/9/2210/10/2210/11/2210/12/2210/13/2210/14/2210/15/2210/16/2210/17/2210/18/2210/19/2210/20/2210/21/2210/22/2210/23/2210/24/2210/25/2210/26/2210/27/2210/28/2210/29/2210/30/2210/31/2211/1/2211/2/2211/3/2211/4/2211/5/2211/6/2211/7/2211/8/2211/9/2211/10/2211/11/2211/12/2211/13/2211/14/2211/15/2211/16/2211/17/2211/18/2211/19/2211/20/2211/21/2211/22/2211/23/2211/24/2211/25/2211/26/2211/27/2211/28/2211/29/2211/30/2212/1/2212/2/2212/3/2212/4/2212/5/2212/6/2212/7/2212/8/2212/9/2212/10/2212/11/2212/12/2212/13/2212/14/2212/15/2212/16/2212/17/2212/18/2212/19/2212/20/2212/21/2212/22/2212/23/2212/24/2212/25/2212/26/2212/27/2212/28/2212/29/2212/30/2212/31/221/1/231/2/23",
                  "1541289835",
                  "37476005",
                  "2.431470327577941"
                ],
                [
                  "Comoros",
                  "0",
                  "-12542.2035",
                  "46669.964100000005",
                  "1/22/201/23/201/24/201/25/201/26/201/27/201/28/201/29/201/30/201/31/202/1/202/2/202/3/202/4/202/5/202/6/202/7/202/8/202/9/202/10/202/11/202/12/202/13/202/14/202/15/202/16/202/17/202/18/202/19/202/20/202/21/202/22/202/23/202/24/202/25/202/26/202/27/202/28/202/29/203/1/203/2/203/3/203/4/203/5/203/6/203/7/203/8/203/9/203/10/203/11/203/12/203/13/203/14/203/15/203/16/203/17/203/18/203/19/203/20/203/21/203/22/203/23/203/24/203/25/203/26/203/27/203/28/203/29/203/30/203/31/204/1/204/2/204/3/204/4/204/5/204/6/204/7/204/8/204/9/204/10/204/11/204/12/204/13/204/14/204/15/204/16/204/17/204/18/204/19/204/20/204/21/204/22/204/23/204/24/204/25/204/26/204/27/204/28/204/29/204/30/205/1/205/2/205/3/205/4/205/5/205/6/205/7/205/8/205/9/205/10/205/11/205/12/205/13/205/14/205/15/205/16/205/17/205/18/205/19/205/20/205/21/205/22/205/23/205/24/205/25/205/26/205/27/205/28/205/29/205/30/205/31/206/1/206/2/206/3/206/4/206/5/206/6/206/7/206/8/206/9/206/10/206/11/206/12/206/13/206/14/206/15/206/16/206/17/206/18/206/19/206/20/206/21/206/22/206/23/206/24/206/25/206/26/206/27/206/28/206/29/206/30/207/1/207/2/207/3/207/4/207/5/207/6/207/7/207/8/207/9/207/10/207/11/207/12/207/13/207/14/207/15/207/16/207/17/207/18/207/19/207/20/207/21/207/22/207/23/207/24/207/25/207/26/207/27/207/28/207/29/207/30/207/31/208/1/208/2/208/3/208/4/208/5/208/6/208/7/208/8/208/9/208/10/208/11/208/12/208/13/208/14/208/15/208/16/208/17/208/18/208/19/208/20/208/21/208/22/208/23/208/24/208/25/208/26/208/27/208/28/208/29/208/30/208/31/209/1/209/2/209/3/209/4/209/5/209/6/209/7/209/8/209/9/209/10/209/11/209/12/209/13/209/14/209/15/209/16/209/17/209/18/209/19/209/20/209/21/209/22/209/23/209/24/209/25/209/26/209/27/209/28/209/29/209/30/2010/1/2010/2/2010/3/2010/4/2010/5/2010/6/2010/7/2010/8/2010/9/2010/10/2010/11/2010/12/2010/13/2010/14/2010/15/2010/16/2010/17/2010/18/2010/19/2010/20/2010/21/2010/22/2010/23/2010/24/2010/25/2010/26/2010/27/2010/28/2010/29/2010/30/2010/31/2011/1/2011/2/2011/3/2011/4/2011/5/2011/6/2011/7/2011/8/2011/9/2011/10/2011/11/2011/12/2011/13/2011/14/2011/15/2011/16/2011/17/2011/18/2011/19/2011/20/2011/21/2011/22/2011/23/2011/24/2011/25/2011/26/2011/27/2011/28/2011/29/2011/30/2012/1/2012/2/2012/3/2012/4/2012/5/2012/6/2012/7/2012/8/2012/9/2012/10/2012/11/2012/12/2012/13/2012/14/2012/15/2012/16/2012/17/2012/18/2012/19/2012/20/2012/21/2012/22/2012/23/2012/24/2012/25/2012/26/2012/27/2012/28/2012/29/2012/30/2012/31/201/1/211/2/211/3/211/4/211/5/211/6/211/7/211/8/211/9/211/10/211/11/211/12/211/13/211/14/211/15/211/16/211/17/211/18/211/19/211/20/211/21/211/22/211/23/211/24/211/25/211/26/211/27/211/28/211/29/211/30/211/31/212/1/212/2/212/3/212/4/212/5/212/6/212/7/212/8/212/9/212/10/212/11/212/12/212/13/212/14/212/15/212/16/212/17/212/18/212/19/212/20/212/21/212/22/212/23/212/24/212/25/212/26/212/27/212/28/213/1/213/2/213/3/213/4/213/5/213/6/213/7/213/8/213/9/213/10/213/11/213/12/213/13/213/14/213/15/213/16/213/17/213/18/213/19/213/20/213/21/213/22/213/23/213/24/213/25/213/26/213/27/213/28/213/29/213/30/213/31/214/1/214/2/214/3/214/4/214/5/214/6/214/7/214/8/214/9/214/10/214/11/214/12/214/13/214/14/214/15/214/16/214/17/214/18/214/19/214/20/214/21/214/22/214/23/214/24/214/25/214/26/214/27/214/28/214/29/214/30/215/1/215/2/215/3/215/4/215/5/215/6/215/7/215/8/215/9/215/10/215/11/215/12/215/13/215/14/215/15/215/16/215/17/215/18/215/19/215/20/215/21/215/22/215/23/215/24/215/25/215/26/215/27/215/28/215/29/215/30/215/31/216/1/216/2/216/3/216/4/216/5/216/6/216/7/216/8/216/9/216/10/216/11/216/12/216/13/216/14/216/15/216/16/216/17/216/18/216/19/216/20/216/21/216/22/216/23/216/24/216/25/216/26/216/27/216/28/216/29/216/30/217/1/217/2/217/3/217/4/217/5/217/6/217/7/217/8/217/9/217/10/217/11/217/12/217/13/217/14/217/15/217/16/217/17/217/18/217/19/217/20/217/21/217/22/217/23/217/24/217/25/217/26/217/27/217/28/217/29/217/30/217/31/218/1/218/2/218/3/218/4/218/5/218/6/218/7/218/8/218/9/218/10/218/11/218/12/218/13/218/14/218/15/218/16/218/17/218/18/218/19/218/20/218/21/218/22/218/23/218/24/218/25/218/26/218/27/218/28/218/29/218/30/218/31/219/1/219/2/219/3/219/4/219/5/219/6/219/7/219/8/219/9/219/10/219/11/219/12/219/13/219/14/219/15/219/16/219/17/219/18/219/19/219/20/219/21/219/22/219/23/219/24/219/25/219/26/219/27/219/28/219/29/219/30/2110/1/2110/2/2110/3/2110/4/2110/5/2110/6/2110/7/2110/8/2110/9/2110/10/2110/11/2110/12/2110/13/2110/14/2110/15/2110/16/2110/17/2110/18/2110/19/2110/20/2110/21/2110/22/2110/23/2110/24/2110/25/2110/26/2110/27/2110/28/2110/29/2110/30/2110/31/2111/1/2111/2/2111/3/2111/4/2111/5/2111/6/2111/7/2111/8/2111/9/2111/10/2111/11/2111/12/2111/13/2111/14/2111/15/2111/16/2111/17/2111/18/2111/19/2111/20/2111/21/2111/22/2111/23/2111/24/2111/25/2111/26/2111/27/2111/28/2111/29/2111/30/2112/1/2112/2/2112/3/2112/4/2112/5/2112/6/2112/7/2112/8/2112/9/2112/10/2112/11/2112/12/2112/13/2112/14/2112/15/2112/16/2112/17/2112/18/2112/19/2112/20/2112/21/2112/22/2112/23/2112/24/2112/25/2112/26/2112/27/2112/28/2112/29/2112/30/2112/31/211/1/221/2/221/3/221/4/221/5/221/6/221/7/221/8/221/9/221/10/221/11/221/12/221/13/221/14/221/15/221/16/221/17/221/18/221/19/221/20/221/21/221/22/221/23/221/24/221/25/221/26/221/27/221/28/221/29/221/30/221/31/222/1/222/2/222/3/222/4/222/5/222/6/222/7/222/8/222/9/222/10/222/11/222/12/222/13/222/14/222/15/222/16/222/17/222/18/222/19/222/20/222/21/222/22/222/23/222/24/222/25/222/26/222/27/222/28/223/1/223/2/223/3/223/4/223/5/223/6/223/7/223/8/223/9/223/10/223/11/223/12/223/13/223/14/223/15/223/16/223/17/223/18/223/19/223/20/223/21/223/22/223/23/223/24/223/25/223/26/223/27/223/28/223/29/223/30/223/31/224/1/224/2/224/3/224/4/224/5/224/6/224/7/224/8/224/9/224/10/224/11/224/12/224/13/224/14/224/15/224/16/224/17/224/18/224/19/224/20/224/21/224/22/224/23/224/24/224/25/224/26/224/27/224/28/224/29/224/30/225/1/225/2/225/3/225/4/225/5/225/6/225/7/225/8/225/9/225/10/225/11/225/12/225/13/225/14/225/15/225/16/225/17/225/18/225/19/225/20/225/21/225/22/225/23/225/24/225/25/225/26/225/27/225/28/225/29/225/30/225/31/226/1/226/2/226/3/226/4/226/5/226/6/226/7/226/8/226/9/226/10/226/11/226/12/226/13/226/14/226/15/226/16/226/17/226/18/226/19/226/20/226/21/226/22/226/23/226/24/226/25/226/26/226/27/226/28/226/29/226/30/227/1/227/2/227/3/227/4/227/5/227/6/227/7/227/8/227/9/227/10/227/11/227/12/227/13/227/14/227/15/227/16/227/17/227/18/227/19/227/20/227/21/227/22/227/23/227/24/227/25/227/26/227/27/227/28/227/29/227/30/227/31/228/1/228/2/228/3/228/4/228/5/228/6/228/7/228/8/228/9/228/10/228/11/228/12/228/13/228/14/228/15/228/16/228/17/228/18/228/19/228/20/228/21/228/22/228/23/228/24/228/25/228/26/228/27/228/28/228/29/228/30/228/31/229/1/229/2/229/3/229/4/229/5/229/6/229/7/229/8/229/9/229/10/229/11/229/12/229/13/229/14/229/15/229/16/229/17/229/18/229/19/229/20/229/21/229/22/229/23/229/24/229/25/229/26/229/27/229/28/229/29/229/30/2210/1/2210/2/2210/3/2210/4/2210/5/2210/6/2210/7/2210/8/2210/9/2210/10/2210/11/2210/12/2210/13/2210/14/2210/15/2210/16/2210/17/2210/18/2210/19/2210/20/2210/21/2210/22/2210/23/2210/24/2210/25/2210/26/2210/27/2210/28/2210/29/2210/30/2210/31/2211/1/2211/2/2211/3/2211/4/2211/5/2211/6/2211/7/2211/8/2211/9/2211/10/2211/11/2211/12/2211/13/2211/14/2211/15/2211/16/2211/17/2211/18/2211/19/2211/20/2211/21/2211/22/2211/23/2211/24/2211/25/2211/26/2211/27/2211/28/2211/29/2211/30/2212/1/2212/2/2212/3/2212/4/2212/5/2212/6/2212/7/2212/8/2212/9/2212/10/2212/11/2212/12/2212/13/2212/14/2212/15/2212/16/2212/17/2212/18/2212/19/2212/20/2212/21/2212/22/2212/23/2212/24/2212/25/2212/26/2212/27/2212/28/2212/29/2212/30/2212/31/221/1/231/2/23",
                  "4535660",
                  "110255",
                  "2.430847991251549"
                ],
                [
                  "Colombia",
                  "0",
                  "4922.8593",
                  "-80018.19210000001",
                  "1/22/201/23/201/24/201/25/201/26/201/27/201/28/201/29/201/30/201/31/202/1/202/2/202/3/202/4/202/5/202/6/202/7/202/8/202/9/202/10/202/11/202/12/202/13/202/14/202/15/202/16/202/17/202/18/202/19/202/20/202/21/202/22/202/23/202/24/202/25/202/26/202/27/202/28/202/29/203/1/203/2/203/3/203/4/203/5/203/6/203/7/203/8/203/9/203/10/203/11/203/12/203/13/203/14/203/15/203/16/203/17/203/18/203/19/203/20/203/21/203/22/203/23/203/24/203/25/203/26/203/27/203/28/203/29/203/30/203/31/204/1/204/2/204/3/204/4/204/5/204/6/204/7/204/8/204/9/204/10/204/11/204/12/204/13/204/14/204/15/204/16/204/17/204/18/204/19/204/20/204/21/204/22/204/23/204/24/204/25/204/26/204/27/204/28/204/29/204/30/205/1/205/2/205/3/205/4/205/5/205/6/205/7/205/8/205/9/205/10/205/11/205/12/205/13/205/14/205/15/205/16/205/17/205/18/205/19/205/20/205/21/205/22/205/23/205/24/205/25/205/26/205/27/205/28/205/29/205/30/205/31/206/1/206/2/206/3/206/4/206/5/206/6/206/7/206/8/206/9/206/10/206/11/206/12/206/13/206/14/206/15/206/16/206/17/206/18/206/19/206/20/206/21/206/22/206/23/206/24/206/25/206/26/206/27/206/28/206/29/206/30/207/1/207/2/207/3/207/4/207/5/207/6/207/7/207/8/207/9/207/10/207/11/207/12/207/13/207/14/207/15/207/16/207/17/207/18/207/19/207/20/207/21/207/22/207/23/207/24/207/25/207/26/207/27/207/28/207/29/207/30/207/31/208/1/208/2/208/3/208/4/208/5/208/6/208/7/208/8/208/9/208/10/208/11/208/12/208/13/208/14/208/15/208/16/208/17/208/18/208/19/208/20/208/21/208/22/208/23/208/24/208/25/208/26/208/27/208/28/208/29/208/30/208/31/209/1/209/2/209/3/209/4/209/5/209/6/209/7/209/8/209/9/209/10/209/11/209/12/209/13/209/14/209/15/209/16/209/17/209/18/209/19/209/20/209/21/209/22/209/23/209/24/209/25/209/26/209/27/209/28/209/29/209/30/2010/1/2010/2/2010/3/2010/4/2010/5/2010/6/2010/7/2010/8/2010/9/2010/10/2010/11/2010/12/2010/13/2010/14/2010/15/2010/16/2010/17/2010/18/2010/19/2010/20/2010/21/2010/22/2010/23/2010/24/2010/25/2010/26/2010/27/2010/28/2010/29/2010/30/2010/31/2011/1/2011/2/2011/3/2011/4/2011/5/2011/6/2011/7/2011/8/2011/9/2011/10/2011/11/2011/12/2011/13/2011/14/2011/15/2011/16/2011/17/2011/18/2011/19/2011/20/2011/21/2011/22/2011/23/2011/24/2011/25/2011/26/2011/27/2011/28/2011/29/2011/30/2012/1/2012/2/2012/3/2012/4/2012/5/2012/6/2012/7/2012/8/2012/9/2012/10/2012/11/2012/12/2012/13/2012/14/2012/15/2012/16/2012/17/2012/18/2012/19/2012/20/2012/21/2012/22/2012/23/2012/24/2012/25/2012/26/2012/27/2012/28/2012/29/2012/30/2012/31/201/1/211/2/211/3/211/4/211/5/211/6/211/7/211/8/211/9/211/10/211/11/211/12/211/13/211/14/211/15/211/16/211/17/211/18/211/19/211/20/211/21/211/22/211/23/211/24/211/25/211/26/211/27/211/28/211/29/211/30/211/31/212/1/212/2/212/3/212/4/212/5/212/6/212/7/212/8/212/9/212/10/212/11/212/12/212/13/212/14/212/15/212/16/212/17/212/18/212/19/212/20/212/21/212/22/212/23/212/24/212/25/212/26/212/27/212/28/213/1/213/2/213/3/213/4/213/5/213/6/213/7/213/8/213/9/213/10/213/11/213/12/213/13/213/14/213/15/213/16/213/17/213/18/213/19/213/20/213/21/213/22/213/23/213/24/213/25/213/26/213/27/213/28/213/29/213/30/213/31/214/1/214/2/214/3/214/4/214/5/214/6/214/7/214/8/214/9/214/10/214/11/214/12/214/13/214/14/214/15/214/16/214/17/214/18/214/19/214/20/214/21/214/22/214/23/214/24/214/25/214/26/214/27/214/28/214/29/214/30/215/1/215/2/215/3/215/4/215/5/215/6/215/7/215/8/215/9/215/10/215/11/215/12/215/13/215/14/215/15/215/16/215/17/215/18/215/19/215/20/215/21/215/22/215/23/215/24/215/25/215/26/215/27/215/28/215/29/215/30/215/31/216/1/216/2/216/3/216/4/216/5/216/6/216/7/216/8/216/9/216/10/216/11/216/12/216/13/216/14/216/15/216/16/216/17/216/18/216/19/216/20/216/21/216/22/216/23/216/24/216/25/216/26/216/27/216/28/216/29/216/30/217/1/217/2/217/3/217/4/217/5/217/6/217/7/217/8/217/9/217/10/217/11/217/12/217/13/217/14/217/15/217/16/217/17/217/18/217/19/217/20/217/21/217/22/217/23/217/24/217/25/217/26/217/27/217/28/217/29/217/30/217/31/218/1/218/2/218/3/218/4/218/5/218/6/218/7/218/8/218/9/218/10/218/11/218/12/218/13/218/14/218/15/218/16/218/17/218/18/218/19/218/20/218/21/218/22/218/23/218/24/218/25/218/26/218/27/218/28/218/29/218/30/218/31/219/1/219/2/219/3/219/4/219/5/219/6/219/7/219/8/219/9/219/10/219/11/219/12/219/13/219/14/219/15/219/16/219/17/219/18/219/19/219/20/219/21/219/22/219/23/219/24/219/25/219/26/219/27/219/28/219/29/219/30/2110/1/2110/2/2110/3/2110/4/2110/5/2110/6/2110/7/2110/8/2110/9/2110/10/2110/11/2110/12/2110/13/2110/14/2110/15/2110/16/2110/17/2110/18/2110/19/2110/20/2110/21/2110/22/2110/23/2110/24/2110/25/2110/26/2110/27/2110/28/2110/29/2110/30/2110/31/2111/1/2111/2/2111/3/2111/4/2111/5/2111/6/2111/7/2111/8/2111/9/2111/10/2111/11/2111/12/2111/13/2111/14/2111/15/2111/16/2111/17/2111/18/2111/19/2111/20/2111/21/2111/22/2111/23/2111/24/2111/25/2111/26/2111/27/2111/28/2111/29/2111/30/2112/1/2112/2/2112/3/2112/4/2112/5/2112/6/2112/7/2112/8/2112/9/2112/10/2112/11/2112/12/2112/13/2112/14/2112/15/2112/16/2112/17/2112/18/2112/19/2112/20/2112/21/2112/22/2112/23/2112/24/2112/25/2112/26/2112/27/2112/28/2112/29/2112/30/2112/31/211/1/221/2/221/3/221/4/221/5/221/6/221/7/221/8/221/9/221/10/221/11/221/12/221/13/221/14/221/15/221/16/221/17/221/18/221/19/221/20/221/21/221/22/221/23/221/24/221/25/221/26/221/27/221/28/221/29/221/30/221/31/222/1/222/2/222/3/222/4/222/5/222/6/222/7/222/8/222/9/222/10/222/11/222/12/222/13/222/14/222/15/222/16/222/17/222/18/222/19/222/20/222/21/222/22/222/23/222/24/222/25/222/26/222/27/222/28/223/1/223/2/223/3/223/4/223/5/223/6/223/7/223/8/223/9/223/10/223/11/223/12/223/13/223/14/223/15/223/16/223/17/223/18/223/19/223/20/223/21/223/22/223/23/223/24/223/25/223/26/223/27/223/28/223/29/223/30/223/31/224/1/224/2/224/3/224/4/224/5/224/6/224/7/224/8/224/9/224/10/224/11/224/12/224/13/224/14/224/15/224/16/224/17/224/18/224/19/224/20/224/21/224/22/224/23/224/24/224/25/224/26/224/27/224/28/224/29/224/30/225/1/225/2/225/3/225/4/225/5/225/6/225/7/225/8/225/9/225/10/225/11/225/12/225/13/225/14/225/15/225/16/225/17/225/18/225/19/225/20/225/21/225/22/225/23/225/24/225/25/225/26/225/27/225/28/225/29/225/30/225/31/226/1/226/2/226/3/226/4/226/5/226/6/226/7/226/8/226/9/226/10/226/11/226/12/226/13/226/14/226/15/226/16/226/17/226/18/226/19/226/20/226/21/226/22/226/23/226/24/226/25/226/26/226/27/226/28/226/29/226/30/227/1/227/2/227/3/227/4/227/5/227/6/227/7/227/8/227/9/227/10/227/11/227/12/227/13/227/14/227/15/227/16/227/17/227/18/227/19/227/20/227/21/227/22/227/23/227/24/227/25/227/26/227/27/227/28/227/29/227/30/227/31/228/1/228/2/228/3/228/4/228/5/228/6/228/7/228/8/228/9/228/10/228/11/228/12/228/13/228/14/228/15/228/16/228/17/228/18/228/19/228/20/228/21/228/22/228/23/228/24/228/25/228/26/228/27/228/28/228/29/228/30/228/31/229/1/229/2/229/3/229/4/229/5/229/6/229/7/229/8/229/9/229/10/229/11/229/12/229/13/229/14/229/15/229/16/229/17/229/18/229/19/229/20/229/21/229/22/229/23/229/24/229/25/229/26/229/27/229/28/229/29/229/30/2210/1/2210/2/2210/3/2210/4/2210/5/2210/6/2210/7/2210/8/2210/9/2210/10/2210/11/2210/12/2210/13/2210/14/2210/15/2210/16/2210/17/2210/18/2210/19/2210/20/2210/21/2210/22/2210/23/2210/24/2210/25/2210/26/2210/27/2210/28/2210/29/2210/30/2210/31/2211/1/2211/2/2211/3/2211/4/2211/5/2211/6/2211/7/2211/8/2211/9/2211/10/2211/11/2211/12/2211/13/2211/14/2211/15/2211/16/2211/17/2211/18/2211/19/2211/20/2211/21/2211/22/2211/23/2211/24/2211/25/2211/26/2211/27/2211/28/2211/29/2211/30/2212/1/2212/2/2212/3/2212/4/2212/5/2212/6/2212/7/2212/8/2212/9/2212/10/2212/11/2212/12/2212/13/2212/14/2212/15/2212/16/2212/17/2212/18/2212/19/2212/20/2212/21/2212/22/2212/23/2212/24/2212/25/2212/26/2212/27/2212/28/2212/29/2212/30/2212/31/221/1/231/2/23",
                  "3795596507",
                  "91287752",
                  "2.4050963223209645"
                ],
                [
                  "Namibia",
                  "0",
                  "-24725.335199999998",
                  "19914.1608",
                  "1/22/201/23/201/24/201/25/201/26/201/27/201/28/201/29/201/30/201/31/202/1/202/2/202/3/202/4/202/5/202/6/202/7/202/8/202/9/202/10/202/11/202/12/202/13/202/14/202/15/202/16/202/17/202/18/202/19/202/20/202/21/202/22/202/23/202/24/202/25/202/26/202/27/202/28/202/29/203/1/203/2/203/3/203/4/203/5/203/6/203/7/203/8/203/9/203/10/203/11/203/12/203/13/203/14/203/15/203/16/203/17/203/18/203/19/203/20/203/21/203/22/203/23/203/24/203/25/203/26/203/27/203/28/203/29/203/30/203/31/204/1/204/2/204/3/204/4/204/5/204/6/204/7/204/8/204/9/204/10/204/11/204/12/204/13/204/14/204/15/204/16/204/17/204/18/204/19/204/20/204/21/204/22/204/23/204/24/204/25/204/26/204/27/204/28/204/29/204/30/205/1/205/2/205/3/205/4/205/5/205/6/205/7/205/8/205/9/205/10/205/11/205/12/205/13/205/14/205/15/205/16/205/17/205/18/205/19/205/20/205/21/205/22/205/23/205/24/205/25/205/26/205/27/205/28/205/29/205/30/205/31/206/1/206/2/206/3/206/4/206/5/206/6/206/7/206/8/206/9/206/10/206/11/206/12/206/13/206/14/206/15/206/16/206/17/206/18/206/19/206/20/206/21/206/22/206/23/206/24/206/25/206/26/206/27/206/28/206/29/206/30/207/1/207/2/207/3/207/4/207/5/207/6/207/7/207/8/207/9/207/10/207/11/207/12/207/13/207/14/207/15/207/16/207/17/207/18/207/19/207/20/207/21/207/22/207/23/207/24/207/25/207/26/207/27/207/28/207/29/207/30/207/31/208/1/208/2/208/3/208/4/208/5/208/6/208/7/208/8/208/9/208/10/208/11/208/12/208/13/208/14/208/15/208/16/208/17/208/18/208/19/208/20/208/21/208/22/208/23/208/24/208/25/208/26/208/27/208/28/208/29/208/30/208/31/209/1/209/2/209/3/209/4/209/5/209/6/209/7/209/8/209/9/209/10/209/11/209/12/209/13/209/14/209/15/209/16/209/17/209/18/209/19/209/20/209/21/209/22/209/23/209/24/209/25/209/26/209/27/209/28/209/29/209/30/2010/1/2010/2/2010/3/2010/4/2010/5/2010/6/2010/7/2010/8/2010/9/2010/10/2010/11/2010/12/2010/13/2010/14/2010/15/2010/16/2010/17/2010/18/2010/19/2010/20/2010/21/2010/22/2010/23/2010/24/2010/25/2010/26/2010/27/2010/28/2010/29/2010/30/2010/31/2011/1/2011/2/2011/3/2011/4/2011/5/2011/6/2011/7/2011/8/2011/9/2011/10/2011/11/2011/12/2011/13/2011/14/2011/15/2011/16/2011/17/2011/18/2011/19/2011/20/2011/21/2011/22/2011/23/2011/24/2011/25/2011/26/2011/27/2011/28/2011/29/2011/30/2012/1/2012/2/2012/3/2012/4/2012/5/2012/6/2012/7/2012/8/2012/9/2012/10/2012/11/2012/12/2012/13/2012/14/2012/15/2012/16/2012/17/2012/18/2012/19/2012/20/2012/21/2012/22/2012/23/2012/24/2012/25/2012/26/2012/27/2012/28/2012/29/2012/30/2012/31/201/1/211/2/211/3/211/4/211/5/211/6/211/7/211/8/211/9/211/10/211/11/211/12/211/13/211/14/211/15/211/16/211/17/211/18/211/19/211/20/211/21/211/22/211/23/211/24/211/25/211/26/211/27/211/28/211/29/211/30/211/31/212/1/212/2/212/3/212/4/212/5/212/6/212/7/212/8/212/9/212/10/212/11/212/12/212/13/212/14/212/15/212/16/212/17/212/18/212/19/212/20/212/21/212/22/212/23/212/24/212/25/212/26/212/27/212/28/213/1/213/2/213/3/213/4/213/5/213/6/213/7/213/8/213/9/213/10/213/11/213/12/213/13/213/14/213/15/213/16/213/17/213/18/213/19/213/20/213/21/213/22/213/23/213/24/213/25/213/26/213/27/213/28/213/29/213/30/213/31/214/1/214/2/214/3/214/4/214/5/214/6/214/7/214/8/214/9/214/10/214/11/214/12/214/13/214/14/214/15/214/16/214/17/214/18/214/19/214/20/214/21/214/22/214/23/214/24/214/25/214/26/214/27/214/28/214/29/214/30/215/1/215/2/215/3/215/4/215/5/215/6/215/7/215/8/215/9/215/10/215/11/215/12/215/13/215/14/215/15/215/16/215/17/215/18/215/19/215/20/215/21/215/22/215/23/215/24/215/25/215/26/215/27/215/28/215/29/215/30/215/31/216/1/216/2/216/3/216/4/216/5/216/6/216/7/216/8/216/9/216/10/216/11/216/12/216/13/216/14/216/15/216/16/216/17/216/18/216/19/216/20/216/21/216/22/216/23/216/24/216/25/216/26/216/27/216/28/216/29/216/30/217/1/217/2/217/3/217/4/217/5/217/6/217/7/217/8/217/9/217/10/217/11/217/12/217/13/217/14/217/15/217/16/217/17/217/18/217/19/217/20/217/21/217/22/217/23/217/24/217/25/217/26/217/27/217/28/217/29/217/30/217/31/218/1/218/2/218/3/218/4/218/5/218/6/218/7/218/8/218/9/218/10/218/11/218/12/218/13/218/14/218/15/218/16/218/17/218/18/218/19/218/20/218/21/218/22/218/23/218/24/218/25/218/26/218/27/218/28/218/29/218/30/218/31/219/1/219/2/219/3/219/4/219/5/219/6/219/7/219/8/219/9/219/10/219/11/219/12/219/13/219/14/219/15/219/16/219/17/219/18/219/19/219/20/219/21/219/22/219/23/219/24/219/25/219/26/219/27/219/28/219/29/219/30/2110/1/2110/2/2110/3/2110/4/2110/5/2110/6/2110/7/2110/8/2110/9/2110/10/2110/11/2110/12/2110/13/2110/14/2110/15/2110/16/2110/17/2110/18/2110/19/2110/20/2110/21/2110/22/2110/23/2110/24/2110/25/2110/26/2110/27/2110/28/2110/29/2110/30/2110/31/2111/1/2111/2/2111/3/2111/4/2111/5/2111/6/2111/7/2111/8/2111/9/2111/10/2111/11/2111/12/2111/13/2111/14/2111/15/2111/16/2111/17/2111/18/2111/19/2111/20/2111/21/2111/22/2111/23/2111/24/2111/25/2111/26/2111/27/2111/28/2111/29/2111/30/2112/1/2112/2/2112/3/2112/4/2112/5/2112/6/2112/7/2112/8/2112/9/2112/10/2112/11/2112/12/2112/13/2112/14/2112/15/2112/16/2112/17/2112/18/2112/19/2112/20/2112/21/2112/22/2112/23/2112/24/2112/25/2112/26/2112/27/2112/28/2112/29/2112/30/2112/31/211/1/221/2/221/3/221/4/221/5/221/6/221/7/221/8/221/9/221/10/221/11/221/12/221/13/221/14/221/15/221/16/221/17/221/18/221/19/221/20/221/21/221/22/221/23/221/24/221/25/221/26/221/27/221/28/221/29/221/30/221/31/222/1/222/2/222/3/222/4/222/5/222/6/222/7/222/8/222/9/222/10/222/11/222/12/222/13/222/14/222/15/222/16/222/17/222/18/222/19/222/20/222/21/222/22/222/23/222/24/222/25/222/26/222/27/222/28/223/1/223/2/223/3/223/4/223/5/223/6/223/7/223/8/223/9/223/10/223/11/223/12/223/13/223/14/223/15/223/16/223/17/223/18/223/19/223/20/223/21/223/22/223/23/223/24/223/25/223/26/223/27/223/28/223/29/223/30/223/31/224/1/224/2/224/3/224/4/224/5/224/6/224/7/224/8/224/9/224/10/224/11/224/12/224/13/224/14/224/15/224/16/224/17/224/18/224/19/224/20/224/21/224/22/224/23/224/24/224/25/224/26/224/27/224/28/224/29/224/30/225/1/225/2/225/3/225/4/225/5/225/6/225/7/225/8/225/9/225/10/225/11/225/12/225/13/225/14/225/15/225/16/225/17/225/18/225/19/225/20/225/21/225/22/225/23/225/24/225/25/225/26/225/27/225/28/225/29/225/30/225/31/226/1/226/2/226/3/226/4/226/5/226/6/226/7/226/8/226/9/226/10/226/11/226/12/226/13/226/14/226/15/226/16/226/17/226/18/226/19/226/20/226/21/226/22/226/23/226/24/226/25/226/26/226/27/226/28/226/29/226/30/227/1/227/2/227/3/227/4/227/5/227/6/227/7/227/8/227/9/227/10/227/11/227/12/227/13/227/14/227/15/227/16/227/17/227/18/227/19/227/20/227/21/227/22/227/23/227/24/227/25/227/26/227/27/227/28/227/29/227/30/227/31/228/1/228/2/228/3/228/4/228/5/228/6/228/7/228/8/228/9/228/10/228/11/228/12/228/13/228/14/228/15/228/16/228/17/228/18/228/19/228/20/228/21/228/22/228/23/228/24/228/25/228/26/228/27/228/28/228/29/228/30/228/31/229/1/229/2/229/3/229/4/229/5/229/6/229/7/229/8/229/9/229/10/229/11/229/12/229/13/229/14/229/15/229/16/229/17/229/18/229/19/229/20/229/21/229/22/229/23/229/24/229/25/229/26/229/27/229/28/229/29/229/30/2210/1/2210/2/2210/3/2210/4/2210/5/2210/6/2210/7/2210/8/2210/9/2210/10/2210/11/2210/12/2210/13/2210/14/2210/15/2210/16/2210/17/2210/18/2210/19/2210/20/2210/21/2210/22/2210/23/2210/24/2210/25/2210/26/2210/27/2210/28/2210/29/2210/30/2210/31/2211/1/2211/2/2211/3/2211/4/2211/5/2211/6/2211/7/2211/8/2211/9/2211/10/2211/11/2211/12/2211/13/2211/14/2211/15/2211/16/2211/17/2211/18/2211/19/2211/20/2211/21/2211/22/2211/23/2211/24/2211/25/2211/26/2211/27/2211/28/2211/29/2211/30/2212/1/2212/2/2212/3/2212/4/2212/5/2212/6/2212/7/2212/8/2212/9/2212/10/2212/11/2212/12/2212/13/2212/14/2212/15/2212/16/2212/17/2212/18/2212/19/2212/20/2212/21/2212/22/2212/23/2212/24/2212/25/2212/26/2212/27/2212/28/2212/29/2212/30/2212/31/221/1/231/2/23",
                  "93508673",
                  "2208862",
                  "2.362200135168211"
                ],
                [
                  "Brazil",
                  "0",
                  "-15331.095",
                  "-55923.5481",
                  "1/22/201/23/201/24/201/25/201/26/201/27/201/28/201/29/201/30/201/31/202/1/202/2/202/3/202/4/202/5/202/6/202/7/202/8/202/9/202/10/202/11/202/12/202/13/202/14/202/15/202/16/202/17/202/18/202/19/202/20/202/21/202/22/202/23/202/24/202/25/202/26/202/27/202/28/202/29/203/1/203/2/203/3/203/4/203/5/203/6/203/7/203/8/203/9/203/10/203/11/203/12/203/13/203/14/203/15/203/16/203/17/203/18/203/19/203/20/203/21/203/22/203/23/203/24/203/25/203/26/203/27/203/28/203/29/203/30/203/31/204/1/204/2/204/3/204/4/204/5/204/6/204/7/204/8/204/9/204/10/204/11/204/12/204/13/204/14/204/15/204/16/204/17/204/18/204/19/204/20/204/21/204/22/204/23/204/24/204/25/204/26/204/27/204/28/204/29/204/30/205/1/205/2/205/3/205/4/205/5/205/6/205/7/205/8/205/9/205/10/205/11/205/12/205/13/205/14/205/15/205/16/205/17/205/18/205/19/205/20/205/21/205/22/205/23/205/24/205/25/205/26/205/27/205/28/205/29/205/30/205/31/206/1/206/2/206/3/206/4/206/5/206/6/206/7/206/8/206/9/206/10/206/11/206/12/206/13/206/14/206/15/206/16/206/17/206/18/206/19/206/20/206/21/206/22/206/23/206/24/206/25/206/26/206/27/206/28/206/29/206/30/207/1/207/2/207/3/207/4/207/5/207/6/207/7/207/8/207/9/207/10/207/11/207/12/207/13/207/14/207/15/207/16/207/17/207/18/207/19/207/20/207/21/207/22/207/23/207/24/207/25/207/26/207/27/207/28/207/29/207/30/207/31/208/1/208/2/208/3/208/4/208/5/208/6/208/7/208/8/208/9/208/10/208/11/208/12/208/13/208/14/208/15/208/16/208/17/208/18/208/19/208/20/208/21/208/22/208/23/208/24/208/25/208/26/208/27/208/28/208/29/208/30/208/31/209/1/209/2/209/3/209/4/209/5/209/6/209/7/209/8/209/9/209/10/209/11/209/12/209/13/209/14/209/15/209/16/209/17/209/18/209/19/209/20/209/21/209/22/209/23/209/24/209/25/209/26/209/27/209/28/209/29/209/30/2010/1/2010/2/2010/3/2010/4/2010/5/2010/6/2010/7/2010/8/2010/9/2010/10/2010/11/2010/12/2010/13/2010/14/2010/15/2010/16/2010/17/2010/18/2010/19/2010/20/2010/21/2010/22/2010/23/2010/24/2010/25/2010/26/2010/27/2010/28/2010/29/2010/30/2010/31/2011/1/2011/2/2011/3/2011/4/2011/5/2011/6/2011/7/2011/8/2011/9/2011/10/2011/11/2011/12/2011/13/2011/14/2011/15/2011/16/2011/17/2011/18/2011/19/2011/20/2011/21/2011/22/2011/23/2011/24/2011/25/2011/26/2011/27/2011/28/2011/29/2011/30/2012/1/2012/2/2012/3/2012/4/2012/5/2012/6/2012/7/2012/8/2012/9/2012/10/2012/11/2012/12/2012/13/2012/14/2012/15/2012/16/2012/17/2012/18/2012/19/2012/20/2012/21/2012/22/2012/23/2012/24/2012/25/2012/26/2012/27/2012/28/2012/29/2012/30/2012/31/201/1/211/2/211/3/211/4/211/5/211/6/211/7/211/8/211/9/211/10/211/11/211/12/211/13/211/14/211/15/211/16/211/17/211/18/211/19/211/20/211/21/211/22/211/23/211/24/211/25/211/26/211/27/211/28/211/29/211/30/211/31/212/1/212/2/212/3/212/4/212/5/212/6/212/7/212/8/212/9/212/10/212/11/212/12/212/13/212/14/212/15/212/16/212/17/212/18/212/19/212/20/212/21/212/22/212/23/212/24/212/25/212/26/212/27/212/28/213/1/213/2/213/3/213/4/213/5/213/6/213/7/213/8/213/9/213/10/213/11/213/12/213/13/213/14/213/15/213/16/213/17/213/18/213/19/213/20/213/21/213/22/213/23/213/24/213/25/213/26/213/27/213/28/213/29/213/30/213/31/214/1/214/2/214/3/214/4/214/5/214/6/214/7/214/8/214/9/214/10/214/11/214/12/214/13/214/14/214/15/214/16/214/17/214/18/214/19/214/20/214/21/214/22/214/23/214/24/214/25/214/26/214/27/214/28/214/29/214/30/215/1/215/2/215/3/215/4/215/5/215/6/215/7/215/8/215/9/215/10/215/11/215/12/215/13/215/14/215/15/215/16/215/17/215/18/215/19/215/20/215/21/215/22/215/23/215/24/215/25/215/26/215/27/215/28/215/29/215/30/215/31/216/1/216/2/216/3/216/4/216/5/216/6/216/7/216/8/216/9/216/10/216/11/216/12/216/13/216/14/216/15/216/16/216/17/216/18/216/19/216/20/216/21/216/22/216/23/216/24/216/25/216/26/216/27/216/28/216/29/216/30/217/1/217/2/217/3/217/4/217/5/217/6/217/7/217/8/217/9/217/10/217/11/217/12/217/13/217/14/217/15/217/16/217/17/217/18/217/19/217/20/217/21/217/22/217/23/217/24/217/25/217/26/217/27/217/28/217/29/217/30/217/31/218/1/218/2/218/3/218/4/218/5/218/6/218/7/218/8/218/9/218/10/218/11/218/12/218/13/218/14/218/15/218/16/218/17/218/18/218/19/218/20/218/21/218/22/218/23/218/24/218/25/218/26/218/27/218/28/218/29/218/30/218/31/219/1/219/2/219/3/219/4/219/5/219/6/219/7/219/8/219/9/219/10/219/11/219/12/219/13/219/14/219/15/219/16/219/17/219/18/219/19/219/20/219/21/219/22/219/23/219/24/219/25/219/26/219/27/219/28/219/29/219/30/2110/1/2110/2/2110/3/2110/4/2110/5/2110/6/2110/7/2110/8/2110/9/2110/10/2110/11/2110/12/2110/13/2110/14/2110/15/2110/16/2110/17/2110/18/2110/19/2110/20/2110/21/2110/22/2110/23/2110/24/2110/25/2110/26/2110/27/2110/28/2110/29/2110/30/2110/31/2111/1/2111/2/2111/3/2111/4/2111/5/2111/6/2111/7/2111/8/2111/9/2111/10/2111/11/2111/12/2111/13/2111/14/2111/15/2111/16/2111/17/2111/18/2111/19/2111/20/2111/21/2111/22/2111/23/2111/24/2111/25/2111/26/2111/27/2111/28/2111/29/2111/30/2112/1/2112/2/2112/3/2112/4/2112/5/2112/6/2112/7/2112/8/2112/9/2112/10/2112/11/2112/12/2112/13/2112/14/2112/15/2112/16/2112/17/2112/18/2112/19/2112/20/2112/21/2112/22/2112/23/2112/24/2112/25/2112/26/2112/27/2112/28/2112/29/2112/30/2112/31/211/1/221/2/221/3/221/4/221/5/221/6/221/7/221/8/221/9/221/10/221/11/221/12/221/13/221/14/221/15/221/16/221/17/221/18/221/19/221/20/221/21/221/22/221/23/221/24/221/25/221/26/221/27/221/28/221/29/221/30/221/31/222/1/222/2/222/3/222/4/222/5/222/6/222/7/222/8/222/9/222/10/222/11/222/12/222/13/222/14/222/15/222/16/222/17/222/18/222/19/222/20/222/21/222/22/222/23/222/24/222/25/222/26/222/27/222/28/223/1/223/2/223/3/223/4/223/5/223/6/223/7/223/8/223/9/223/10/223/11/223/12/223/13/223/14/223/15/223/16/223/17/223/18/223/19/223/20/223/21/223/22/223/23/223/24/223/25/223/26/223/27/223/28/223/29/223/30/223/31/224/1/224/2/224/3/224/4/224/5/224/6/224/7/224/8/224/9/224/10/224/11/224/12/224/13/224/14/224/15/224/16/224/17/224/18/224/19/224/20/224/21/224/22/224/23/224/24/224/25/224/26/224/27/224/28/224/29/224/30/225/1/225/2/225/3/225/4/225/5/225/6/225/7/225/8/225/9/225/10/225/11/225/12/225/13/225/14/225/15/225/16/225/17/225/18/225/19/225/20/225/21/225/22/225/23/225/24/225/25/225/26/225/27/225/28/225/29/225/30/225/31/226/1/226/2/226/3/226/4/226/5/226/6/226/7/226/8/226/9/226/10/226/11/226/12/226/13/226/14/226/15/226/16/226/17/226/18/226/19/226/20/226/21/226/22/226/23/226/24/226/25/226/26/226/27/226/28/226/29/226/30/227/1/227/2/227/3/227/4/227/5/227/6/227/7/227/8/227/9/227/10/227/11/227/12/227/13/227/14/227/15/227/16/227/17/227/18/227/19/227/20/227/21/227/22/227/23/227/24/227/25/227/26/227/27/227/28/227/29/227/30/227/31/228/1/228/2/228/3/228/4/228/5/228/6/228/7/228/8/228/9/228/10/228/11/228/12/228/13/228/14/228/15/228/16/228/17/228/18/228/19/228/20/228/21/228/22/228/23/228/24/228/25/228/26/228/27/228/28/228/29/228/30/228/31/229/1/229/2/229/3/229/4/229/5/229/6/229/7/229/8/229/9/229/10/229/11/229/12/229/13/229/14/229/15/229/16/229/17/229/18/229/19/229/20/229/21/229/22/229/23/229/24/229/25/229/26/229/27/229/28/229/29/229/30/2210/1/2210/2/2210/3/2210/4/2210/5/2210/6/2210/7/2210/8/2210/9/2210/10/2210/11/2210/12/2210/13/2210/14/2210/15/2210/16/2210/17/2210/18/2210/19/2210/20/2210/21/2210/22/2210/23/2210/24/2210/25/2210/26/2210/27/2210/28/2210/29/2210/30/2210/31/2211/1/2211/2/2211/3/2211/4/2211/5/2211/6/2211/7/2211/8/2211/9/2211/10/2211/11/2211/12/2211/13/2211/14/2211/15/2211/16/2211/17/2211/18/2211/19/2211/20/2211/21/2211/22/2211/23/2211/24/2211/25/2211/26/2211/27/2211/28/2211/29/2211/30/2212/1/2212/2/2212/3/2212/4/2212/5/2212/6/2212/7/2212/8/2212/9/2212/10/2212/11/2212/12/2212/13/2212/14/2212/15/2212/16/2212/17/2212/18/2212/19/2212/20/2212/21/2212/22/2212/23/2212/24/2212/25/2212/26/2212/27/2212/28/2212/29/2212/30/2212/31/221/1/231/2/23",
                  "18751900279",
                  "442169901",
                  "2.358000492863009"
                ],
                [
                  "Senegal",
                  "0",
                  "15613.6998",
                  "-15565.2348",
                  "1/22/201/23/201/24/201/25/201/26/201/27/201/28/201/29/201/30/201/31/202/1/202/2/202/3/202/4/202/5/202/6/202/7/202/8/202/9/202/10/202/11/202/12/202/13/202/14/202/15/202/16/202/17/202/18/202/19/202/20/202/21/202/22/202/23/202/24/202/25/202/26/202/27/202/28/202/29/203/1/203/2/203/3/203/4/203/5/203/6/203/7/203/8/203/9/203/10/203/11/203/12/203/13/203/14/203/15/203/16/203/17/203/18/203/19/203/20/203/21/203/22/203/23/203/24/203/25/203/26/203/27/203/28/203/29/203/30/203/31/204/1/204/2/204/3/204/4/204/5/204/6/204/7/204/8/204/9/204/10/204/11/204/12/204/13/204/14/204/15/204/16/204/17/204/18/204/19/204/20/204/21/204/22/204/23/204/24/204/25/204/26/204/27/204/28/204/29/204/30/205/1/205/2/205/3/205/4/205/5/205/6/205/7/205/8/205/9/205/10/205/11/205/12/205/13/205/14/205/15/205/16/205/17/205/18/205/19/205/20/205/21/205/22/205/23/205/24/205/25/205/26/205/27/205/28/205/29/205/30/205/31/206/1/206/2/206/3/206/4/206/5/206/6/206/7/206/8/206/9/206/10/206/11/206/12/206/13/206/14/206/15/206/16/206/17/206/18/206/19/206/20/206/21/206/22/206/23/206/24/206/25/206/26/206/27/206/28/206/29/206/30/207/1/207/2/207/3/207/4/207/5/207/6/207/7/207/8/207/9/207/10/207/11/207/12/207/13/207/14/207/15/207/16/207/17/207/18/207/19/207/20/207/21/207/22/207/23/207/24/207/25/207/26/207/27/207/28/207/29/207/30/207/31/208/1/208/2/208/3/208/4/208/5/208/6/208/7/208/8/208/9/208/10/208/11/208/12/208/13/208/14/208/15/208/16/208/17/208/18/208/19/208/20/208/21/208/22/208/23/208/24/208/25/208/26/208/27/208/28/208/29/208/30/208/31/209/1/209/2/209/3/209/4/209/5/209/6/209/7/209/8/209/9/209/10/209/11/209/12/209/13/209/14/209/15/209/16/209/17/209/18/209/19/209/20/209/21/209/22/209/23/209/24/209/25/209/26/209/27/209/28/209/29/209/30/2010/1/2010/2/2010/3/2010/4/2010/5/2010/6/2010/7/2010/8/2010/9/2010/10/2010/11/2010/12/2010/13/2010/14/2010/15/2010/16/2010/17/2010/18/2010/19/2010/20/2010/21/2010/22/2010/23/2010/24/2010/25/2010/26/2010/27/2010/28/2010/29/2010/30/2010/31/2011/1/2011/2/2011/3/2011/4/2011/5/2011/6/2011/7/2011/8/2011/9/2011/10/2011/11/2011/12/2011/13/2011/14/2011/15/2011/16/2011/17/2011/18/2011/19/2011/20/2011/21/2011/22/2011/23/2011/24/2011/25/2011/26/2011/27/2011/28/2011/29/2011/30/2012/1/2012/2/2012/3/2012/4/2012/5/2012/6/2012/7/2012/8/2012/9/2012/10/2012/11/2012/12/2012/13/2012/14/2012/15/2012/16/2012/17/2012/18/2012/19/2012/20/2012/21/2012/22/2012/23/2012/24/2012/25/2012/26/2012/27/2012/28/2012/29/2012/30/2012/31/201/1/211/2/211/3/211/4/211/5/211/6/211/7/211/8/211/9/211/10/211/11/211/12/211/13/211/14/211/15/211/16/211/17/211/18/211/19/211/20/211/21/211/22/211/23/211/24/211/25/211/26/211/27/211/28/211/29/211/30/211/31/212/1/212/2/212/3/212/4/212/5/212/6/212/7/212/8/212/9/212/10/212/11/212/12/212/13/212/14/212/15/212/16/212/17/212/18/212/19/212/20/212/21/212/22/212/23/212/24/212/25/212/26/212/27/212/28/213/1/213/2/213/3/213/4/213/5/213/6/213/7/213/8/213/9/213/10/213/11/213/12/213/13/213/14/213/15/213/16/213/17/213/18/213/19/213/20/213/21/213/22/213/23/213/24/213/25/213/26/213/27/213/28/213/29/213/30/213/31/214/1/214/2/214/3/214/4/214/5/214/6/214/7/214/8/214/9/214/10/214/11/214/12/214/13/214/14/214/15/214/16/214/17/214/18/214/19/214/20/214/21/214/22/214/23/214/24/214/25/214/26/214/27/214/28/214/29/214/30/215/1/215/2/215/3/215/4/215/5/215/6/215/7/215/8/215/9/215/10/215/11/215/12/215/13/215/14/215/15/215/16/215/17/215/18/215/19/215/20/215/21/215/22/215/23/215/24/215/25/215/26/215/27/215/28/215/29/215/30/215/31/216/1/216/2/216/3/216/4/216/5/216/6/216/7/216/8/216/9/216/10/216/11/216/12/216/13/216/14/216/15/216/16/216/17/216/18/216/19/216/20/216/21/216/22/216/23/216/24/216/25/216/26/216/27/216/28/216/29/216/30/217/1/217/2/217/3/217/4/217/5/217/6/217/7/217/8/217/9/217/10/217/11/217/12/217/13/217/14/217/15/217/16/217/17/217/18/217/19/217/20/217/21/217/22/217/23/217/24/217/25/217/26/217/27/217/28/217/29/217/30/217/31/218/1/218/2/218/3/218/4/218/5/218/6/218/7/218/8/218/9/218/10/218/11/218/12/218/13/218/14/218/15/218/16/218/17/218/18/218/19/218/20/218/21/218/22/218/23/218/24/218/25/218/26/218/27/218/28/218/29/218/30/218/31/219/1/219/2/219/3/219/4/219/5/219/6/219/7/219/8/219/9/219/10/219/11/219/12/219/13/219/14/219/15/219/16/219/17/219/18/219/19/219/20/219/21/219/22/219/23/219/24/219/25/219/26/219/27/219/28/219/29/219/30/2110/1/2110/2/2110/3/2110/4/2110/5/2110/6/2110/7/2110/8/2110/9/2110/10/2110/11/2110/12/2110/13/2110/14/2110/15/2110/16/2110/17/2110/18/2110/19/2110/20/2110/21/2110/22/2110/23/2110/24/2110/25/2110/26/2110/27/2110/28/2110/29/2110/30/2110/31/2111/1/2111/2/2111/3/2111/4/2111/5/2111/6/2111/7/2111/8/2111/9/2111/10/2111/11/2111/12/2111/13/2111/14/2111/15/2111/16/2111/17/2111/18/2111/19/2111/20/2111/21/2111/22/2111/23/2111/24/2111/25/2111/26/2111/27/2111/28/2111/29/2111/30/2112/1/2112/2/2112/3/2112/4/2112/5/2112/6/2112/7/2112/8/2112/9/2112/10/2112/11/2112/12/2112/13/2112/14/2112/15/2112/16/2112/17/2112/18/2112/19/2112/20/2112/21/2112/22/2112/23/2112/24/2112/25/2112/26/2112/27/2112/28/2112/29/2112/30/2112/31/211/1/221/2/221/3/221/4/221/5/221/6/221/7/221/8/221/9/221/10/221/11/221/12/221/13/221/14/221/15/221/16/221/17/221/18/221/19/221/20/221/21/221/22/221/23/221/24/221/25/221/26/221/27/221/28/221/29/221/30/221/31/222/1/222/2/222/3/222/4/222/5/222/6/222/7/222/8/222/9/222/10/222/11/222/12/222/13/222/14/222/15/222/16/222/17/222/18/222/19/222/20/222/21/222/22/222/23/222/24/222/25/222/26/222/27/222/28/223/1/223/2/223/3/223/4/223/5/223/6/223/7/223/8/223/9/223/10/223/11/223/12/223/13/223/14/223/15/223/16/223/17/223/18/223/19/223/20/223/21/223/22/223/23/223/24/223/25/223/26/223/27/223/28/223/29/223/30/223/31/224/1/224/2/224/3/224/4/224/5/224/6/224/7/224/8/224/9/224/10/224/11/224/12/224/13/224/14/224/15/224/16/224/17/224/18/224/19/224/20/224/21/224/22/224/23/224/24/224/25/224/26/224/27/224/28/224/29/224/30/225/1/225/2/225/3/225/4/225/5/225/6/225/7/225/8/225/9/225/10/225/11/225/12/225/13/225/14/225/15/225/16/225/17/225/18/225/19/225/20/225/21/225/22/225/23/225/24/225/25/225/26/225/27/225/28/225/29/225/30/225/31/226/1/226/2/226/3/226/4/226/5/226/6/226/7/226/8/226/9/226/10/226/11/226/12/226/13/226/14/226/15/226/16/226/17/226/18/226/19/226/20/226/21/226/22/226/23/226/24/226/25/226/26/226/27/226/28/226/29/226/30/227/1/227/2/227/3/227/4/227/5/227/6/227/7/227/8/227/9/227/10/227/11/227/12/227/13/227/14/227/15/227/16/227/17/227/18/227/19/227/20/227/21/227/22/227/23/227/24/227/25/227/26/227/27/227/28/227/29/227/30/227/31/228/1/228/2/228/3/228/4/228/5/228/6/228/7/228/8/228/9/228/10/228/11/228/12/228/13/228/14/228/15/228/16/228/17/228/18/228/19/228/20/228/21/228/22/228/23/228/24/228/25/228/26/228/27/228/28/228/29/228/30/228/31/229/1/229/2/229/3/229/4/229/5/229/6/229/7/229/8/229/9/229/10/229/11/229/12/229/13/229/14/229/15/229/16/229/17/229/18/229/19/229/20/229/21/229/22/229/23/229/24/229/25/229/26/229/27/229/28/229/29/229/30/2210/1/2210/2/2210/3/2210/4/2210/5/2210/6/2210/7/2210/8/2210/9/2210/10/2210/11/2210/12/2210/13/2210/14/2210/15/2210/16/2210/17/2210/18/2210/19/2210/20/2210/21/2210/22/2210/23/2210/24/2210/25/2210/26/2210/27/2210/28/2210/29/2210/30/2210/31/2211/1/2211/2/2211/3/2211/4/2211/5/2211/6/2211/7/2211/8/2211/9/2211/10/2211/11/2211/12/2211/13/2211/14/2211/15/2211/16/2211/17/2211/18/2211/19/2211/20/2211/21/2211/22/2211/23/2211/24/2211/25/2211/26/2211/27/2211/28/2211/29/2211/30/2212/1/2212/2/2212/3/2212/4/2212/5/2212/6/2212/7/2212/8/2212/9/2212/10/2212/11/2212/12/2212/13/2212/14/2212/15/2212/16/2212/17/2212/18/2212/19/2212/20/2212/21/2212/22/2212/23/2212/24/2212/25/2212/26/2212/27/2212/28/2212/29/2212/30/2212/31/221/1/231/2/23",
                  "53799292",
                  "1259974",
                  "2.3419899280458933"
                ],
                [
                  "Tanzania",
                  "0",
                  "-6859.443156",
                  "37575.261293999996",
                  "1/22/201/23/201/24/201/25/201/26/201/27/201/28/201/29/201/30/201/31/202/1/202/2/202/3/202/4/202/5/202/6/202/7/202/8/202/9/202/10/202/11/202/12/202/13/202/14/202/15/202/16/202/17/202/18/202/19/202/20/202/21/202/22/202/23/202/24/202/25/202/26/202/27/202/28/202/29/203/1/203/2/203/3/203/4/203/5/203/6/203/7/203/8/203/9/203/10/203/11/203/12/203/13/203/14/203/15/203/16/203/17/203/18/203/19/203/20/203/21/203/22/203/23/203/24/203/25/203/26/203/27/203/28/203/29/203/30/203/31/204/1/204/2/204/3/204/4/204/5/204/6/204/7/204/8/204/9/204/10/204/11/204/12/204/13/204/14/204/15/204/16/204/17/204/18/204/19/204/20/204/21/204/22/204/23/204/24/204/25/204/26/204/27/204/28/204/29/204/30/205/1/205/2/205/3/205/4/205/5/205/6/205/7/205/8/205/9/205/10/205/11/205/12/205/13/205/14/205/15/205/16/205/17/205/18/205/19/205/20/205/21/205/22/205/23/205/24/205/25/205/26/205/27/205/28/205/29/205/30/205/31/206/1/206/2/206/3/206/4/206/5/206/6/206/7/206/8/206/9/206/10/206/11/206/12/206/13/206/14/206/15/206/16/206/17/206/18/206/19/206/20/206/21/206/22/206/23/206/24/206/25/206/26/206/27/206/28/206/29/206/30/207/1/207/2/207/3/207/4/207/5/207/6/207/7/207/8/207/9/207/10/207/11/207/12/207/13/207/14/207/15/207/16/207/17/207/18/207/19/207/20/207/21/207/22/207/23/207/24/207/25/207/26/207/27/207/28/207/29/207/30/207/31/208/1/208/2/208/3/208/4/208/5/208/6/208/7/208/8/208/9/208/10/208/11/208/12/208/13/208/14/208/15/208/16/208/17/208/18/208/19/208/20/208/21/208/22/208/23/208/24/208/25/208/26/208/27/208/28/208/29/208/30/208/31/209/1/209/2/209/3/209/4/209/5/209/6/209/7/209/8/209/9/209/10/209/11/209/12/209/13/209/14/209/15/209/16/209/17/209/18/209/19/209/20/209/21/209/22/209/23/209/24/209/25/209/26/209/27/209/28/209/29/209/30/2010/1/2010/2/2010/3/2010/4/2010/5/2010/6/2010/7/2010/8/2010/9/2010/10/2010/11/2010/12/2010/13/2010/14/2010/15/2010/16/2010/17/2010/18/2010/19/2010/20/2010/21/2010/22/2010/23/2010/24/2010/25/2010/26/2010/27/2010/28/2010/29/2010/30/2010/31/2011/1/2011/2/2011/3/2011/4/2011/5/2011/6/2011/7/2011/8/2011/9/2011/10/2011/11/2011/12/2011/13/2011/14/2011/15/2011/16/2011/17/2011/18/2011/19/2011/20/2011/21/2011/22/2011/23/2011/24/2011/25/2011/26/2011/27/2011/28/2011/29/2011/30/2012/1/2012/2/2012/3/2012/4/2012/5/2012/6/2012/7/2012/8/2012/9/2012/10/2012/11/2012/12/2012/13/2012/14/2012/15/2012/16/2012/17/2012/18/2012/19/2012/20/2012/21/2012/22/2012/23/2012/24/2012/25/2012/26/2012/27/2012/28/2012/29/2012/30/2012/31/201/1/211/2/211/3/211/4/211/5/211/6/211/7/211/8/211/9/211/10/211/11/211/12/211/13/211/14/211/15/211/16/211/17/211/18/211/19/211/20/211/21/211/22/211/23/211/24/211/25/211/26/211/27/211/28/211/29/211/30/211/31/212/1/212/2/212/3/212/4/212/5/212/6/212/7/212/8/212/9/212/10/212/11/212/12/212/13/212/14/212/15/212/16/212/17/212/18/212/19/212/20/212/21/212/22/212/23/212/24/212/25/212/26/212/27/212/28/213/1/213/2/213/3/213/4/213/5/213/6/213/7/213/8/213/9/213/10/213/11/213/12/213/13/213/14/213/15/213/16/213/17/213/18/213/19/213/20/213/21/213/22/213/23/213/24/213/25/213/26/213/27/213/28/213/29/213/30/213/31/214/1/214/2/214/3/214/4/214/5/214/6/214/7/214/8/214/9/214/10/214/11/214/12/214/13/214/14/214/15/214/16/214/17/214/18/214/19/214/20/214/21/214/22/214/23/214/24/214/25/214/26/214/27/214/28/214/29/214/30/215/1/215/2/215/3/215/4/215/5/215/6/215/7/215/8/215/9/215/10/215/11/215/12/215/13/215/14/215/15/215/16/215/17/215/18/215/19/215/20/215/21/215/22/215/23/215/24/215/25/215/26/215/27/215/28/215/29/215/30/215/31/216/1/216/2/216/3/216/4/216/5/216/6/216/7/216/8/216/9/216/10/216/11/216/12/216/13/216/14/216/15/216/16/216/17/216/18/216/19/216/20/216/21/216/22/216/23/216/24/216/25/216/26/216/27/216/28/216/29/216/30/217/1/217/2/217/3/217/4/217/5/217/6/217/7/217/8/217/9/217/10/217/11/217/12/217/13/217/14/217/15/217/16/217/17/217/18/217/19/217/20/217/21/217/22/217/23/217/24/217/25/217/26/217/27/217/28/217/29/217/30/217/31/218/1/218/2/218/3/218/4/218/5/218/6/218/7/218/8/218/9/218/10/218/11/218/12/218/13/218/14/218/15/218/16/218/17/218/18/218/19/218/20/218/21/218/22/218/23/218/24/218/25/218/26/218/27/218/28/218/29/218/30/218/31/219/1/219/2/219/3/219/4/219/5/219/6/219/7/219/8/219/9/219/10/219/11/219/12/219/13/219/14/219/15/219/16/219/17/219/18/219/19/219/20/219/21/219/22/219/23/219/24/219/25/219/26/219/27/219/28/219/29/219/30/2110/1/2110/2/2110/3/2110/4/2110/5/2110/6/2110/7/2110/8/2110/9/2110/10/2110/11/2110/12/2110/13/2110/14/2110/15/2110/16/2110/17/2110/18/2110/19/2110/20/2110/21/2110/22/2110/23/2110/24/2110/25/2110/26/2110/27/2110/28/2110/29/2110/30/2110/31/2111/1/2111/2/2111/3/2111/4/2111/5/2111/6/2111/7/2111/8/2111/9/2111/10/2111/11/2111/12/2111/13/2111/14/2111/15/2111/16/2111/17/2111/18/2111/19/2111/20/2111/21/2111/22/2111/23/2111/24/2111/25/2111/26/2111/27/2111/28/2111/29/2111/30/2112/1/2112/2/2112/3/2112/4/2112/5/2112/6/2112/7/2112/8/2112/9/2112/10/2112/11/2112/12/2112/13/2112/14/2112/15/2112/16/2112/17/2112/18/2112/19/2112/20/2112/21/2112/22/2112/23/2112/24/2112/25/2112/26/2112/27/2112/28/2112/29/2112/30/2112/31/211/1/221/2/221/3/221/4/221/5/221/6/221/7/221/8/221/9/221/10/221/11/221/12/221/13/221/14/221/15/221/16/221/17/221/18/221/19/221/20/221/21/221/22/221/23/221/24/221/25/221/26/221/27/221/28/221/29/221/30/221/31/222/1/222/2/222/3/222/4/222/5/222/6/222/7/222/8/222/9/222/10/222/11/222/12/222/13/222/14/222/15/222/16/222/17/222/18/222/19/222/20/222/21/222/22/222/23/222/24/222/25/222/26/222/27/222/28/223/1/223/2/223/3/223/4/223/5/223/6/223/7/223/8/223/9/223/10/223/11/223/12/223/13/223/14/223/15/223/16/223/17/223/18/223/19/223/20/223/21/223/22/223/23/223/24/223/25/223/26/223/27/223/28/223/29/223/30/223/31/224/1/224/2/224/3/224/4/224/5/224/6/224/7/224/8/224/9/224/10/224/11/224/12/224/13/224/14/224/15/224/16/224/17/224/18/224/19/224/20/224/21/224/22/224/23/224/24/224/25/224/26/224/27/224/28/224/29/224/30/225/1/225/2/225/3/225/4/225/5/225/6/225/7/225/8/225/9/225/10/225/11/225/12/225/13/225/14/225/15/225/16/225/17/225/18/225/19/225/20/225/21/225/22/225/23/225/24/225/25/225/26/225/27/225/28/225/29/225/30/225/31/226/1/226/2/226/3/226/4/226/5/226/6/226/7/226/8/226/9/226/10/226/11/226/12/226/13/226/14/226/15/226/16/226/17/226/18/226/19/226/20/226/21/226/22/226/23/226/24/226/25/226/26/226/27/226/28/226/29/226/30/227/1/227/2/227/3/227/4/227/5/227/6/227/7/227/8/227/9/227/10/227/11/227/12/227/13/227/14/227/15/227/16/227/17/227/18/227/19/227/20/227/21/227/22/227/23/227/24/227/25/227/26/227/27/227/28/227/29/227/30/227/31/228/1/228/2/228/3/228/4/228/5/228/6/228/7/228/8/228/9/228/10/228/11/228/12/228/13/228/14/228/15/228/16/228/17/228/18/228/19/228/20/228/21/228/22/228/23/228/24/228/25/228/26/228/27/228/28/228/29/228/30/228/31/229/1/229/2/229/3/229/4/229/5/229/6/229/7/229/8/229/9/229/10/229/11/229/12/229/13/229/14/229/15/229/16/229/17/229/18/229/19/229/20/229/21/229/22/229/23/229/24/229/25/229/26/229/27/229/28/229/29/229/30/2210/1/2210/2/2210/3/2210/4/2210/5/2210/6/2210/7/2210/8/2210/9/2210/10/2210/11/2210/12/2210/13/2210/14/2210/15/2210/16/2210/17/2210/18/2210/19/2210/20/2210/21/2210/22/2210/23/2210/24/2210/25/2210/26/2210/27/2210/28/2210/29/2210/30/2210/31/2211/1/2211/2/2211/3/2211/4/2211/5/2211/6/2211/7/2211/8/2211/9/2211/10/2211/11/2211/12/2211/13/2211/14/2211/15/2211/16/2211/17/2211/18/2211/19/2211/20/2211/21/2211/22/2211/23/2211/24/2211/25/2211/26/2211/27/2211/28/2211/29/2211/30/2212/1/2212/2/2212/3/2212/4/2212/5/2212/6/2212/7/2212/8/2212/9/2212/10/2212/11/2212/12/2212/13/2212/14/2212/15/2212/16/2212/17/2212/18/2212/19/2212/20/2212/21/2212/22/2212/23/2212/24/2212/25/2212/26/2212/27/2212/28/2212/29/2212/30/2212/31/221/1/231/2/23",
                  "16358806",
                  "381662",
                  "2.3330675845168654"
                ],
                [
                  "Sri Lanka",
                  "0",
                  "8479.279158",
                  "86991.225369",
                  "1/22/201/23/201/24/201/25/201/26/201/27/201/28/201/29/201/30/201/31/202/1/202/2/202/3/202/4/202/5/202/6/202/7/202/8/202/9/202/10/202/11/202/12/202/13/202/14/202/15/202/16/202/17/202/18/202/19/202/20/202/21/202/22/202/23/202/24/202/25/202/26/202/27/202/28/202/29/203/1/203/2/203/3/203/4/203/5/203/6/203/7/203/8/203/9/203/10/203/11/203/12/203/13/203/14/203/15/203/16/203/17/203/18/203/19/203/20/203/21/203/22/203/23/203/24/203/25/203/26/203/27/203/28/203/29/203/30/203/31/204/1/204/2/204/3/204/4/204/5/204/6/204/7/204/8/204/9/204/10/204/11/204/12/204/13/204/14/204/15/204/16/204/17/204/18/204/19/204/20/204/21/204/22/204/23/204/24/204/25/204/26/204/27/204/28/204/29/204/30/205/1/205/2/205/3/205/4/205/5/205/6/205/7/205/8/205/9/205/10/205/11/205/12/205/13/205/14/205/15/205/16/205/17/205/18/205/19/205/20/205/21/205/22/205/23/205/24/205/25/205/26/205/27/205/28/205/29/205/30/205/31/206/1/206/2/206/3/206/4/206/5/206/6/206/7/206/8/206/9/206/10/206/11/206/12/206/13/206/14/206/15/206/16/206/17/206/18/206/19/206/20/206/21/206/22/206/23/206/24/206/25/206/26/206/27/206/28/206/29/206/30/207/1/207/2/207/3/207/4/207/5/207/6/207/7/207/8/207/9/207/10/207/11/207/12/207/13/207/14/207/15/207/16/207/17/207/18/207/19/207/20/207/21/207/22/207/23/207/24/207/25/207/26/207/27/207/28/207/29/207/30/207/31/208/1/208/2/208/3/208/4/208/5/208/6/208/7/208/8/208/9/208/10/208/11/208/12/208/13/208/14/208/15/208/16/208/17/208/18/208/19/208/20/208/21/208/22/208/23/208/24/208/25/208/26/208/27/208/28/208/29/208/30/208/31/209/1/209/2/209/3/209/4/209/5/209/6/209/7/209/8/209/9/209/10/209/11/209/12/209/13/209/14/209/15/209/16/209/17/209/18/209/19/209/20/209/21/209/22/209/23/209/24/209/25/209/26/209/27/209/28/209/29/209/30/2010/1/2010/2/2010/3/2010/4/2010/5/2010/6/2010/7/2010/8/2010/9/2010/10/2010/11/2010/12/2010/13/2010/14/2010/15/2010/16/2010/17/2010/18/2010/19/2010/20/2010/21/2010/22/2010/23/2010/24/2010/25/2010/26/2010/27/2010/28/2010/29/2010/30/2010/31/2011/1/2011/2/2011/3/2011/4/2011/5/2011/6/2011/7/2011/8/2011/9/2011/10/2011/11/2011/12/2011/13/2011/14/2011/15/2011/16/2011/17/2011/18/2011/19/2011/20/2011/21/2011/22/2011/23/2011/24/2011/25/2011/26/2011/27/2011/28/2011/29/2011/30/2012/1/2012/2/2012/3/2012/4/2012/5/2012/6/2012/7/2012/8/2012/9/2012/10/2012/11/2012/12/2012/13/2012/14/2012/15/2012/16/2012/17/2012/18/2012/19/2012/20/2012/21/2012/22/2012/23/2012/24/2012/25/2012/26/2012/27/2012/28/2012/29/2012/30/2012/31/201/1/211/2/211/3/211/4/211/5/211/6/211/7/211/8/211/9/211/10/211/11/211/12/211/13/211/14/211/15/211/16/211/17/211/18/211/19/211/20/211/21/211/22/211/23/211/24/211/25/211/26/211/27/211/28/211/29/211/30/211/31/212/1/212/2/212/3/212/4/212/5/212/6/212/7/212/8/212/9/212/10/212/11/212/12/212/13/212/14/212/15/212/16/212/17/212/18/212/19/212/20/212/21/212/22/212/23/212/24/212/25/212/26/212/27/212/28/213/1/213/2/213/3/213/4/213/5/213/6/213/7/213/8/213/9/213/10/213/11/213/12/213/13/213/14/213/15/213/16/213/17/213/18/213/19/213/20/213/21/213/22/213/23/213/24/213/25/213/26/213/27/213/28/213/29/213/30/213/31/214/1/214/2/214/3/214/4/214/5/214/6/214/7/214/8/214/9/214/10/214/11/214/12/214/13/214/14/214/15/214/16/214/17/214/18/214/19/214/20/214/21/214/22/214/23/214/24/214/25/214/26/214/27/214/28/214/29/214/30/215/1/215/2/215/3/215/4/215/5/215/6/215/7/215/8/215/9/215/10/215/11/215/12/215/13/215/14/215/15/215/16/215/17/215/18/215/19/215/20/215/21/215/22/215/23/215/24/215/25/215/26/215/27/215/28/215/29/215/30/215/31/216/1/216/2/216/3/216/4/216/5/216/6/216/7/216/8/216/9/216/10/216/11/216/12/216/13/216/14/216/15/216/16/216/17/216/18/216/19/216/20/216/21/216/22/216/23/216/24/216/25/216/26/216/27/216/28/216/29/216/30/217/1/217/2/217/3/217/4/217/5/217/6/217/7/217/8/217/9/217/10/217/11/217/12/217/13/217/14/217/15/217/16/217/17/217/18/217/19/217/20/217/21/217/22/217/23/217/24/217/25/217/26/217/27/217/28/217/29/217/30/217/31/218/1/218/2/218/3/218/4/218/5/218/6/218/7/218/8/218/9/218/10/218/11/218/12/218/13/218/14/218/15/218/16/218/17/218/18/218/19/218/20/218/21/218/22/218/23/218/24/218/25/218/26/218/27/218/28/218/29/218/30/218/31/219/1/219/2/219/3/219/4/219/5/219/6/219/7/219/8/219/9/219/10/219/11/219/12/219/13/219/14/219/15/219/16/219/17/219/18/219/19/219/20/219/21/219/22/219/23/219/24/219/25/219/26/219/27/219/28/219/29/219/30/2110/1/2110/2/2110/3/2110/4/2110/5/2110/6/2110/7/2110/8/2110/9/2110/10/2110/11/2110/12/2110/13/2110/14/2110/15/2110/16/2110/17/2110/18/2110/19/2110/20/2110/21/2110/22/2110/23/2110/24/2110/25/2110/26/2110/27/2110/28/2110/29/2110/30/2110/31/2111/1/2111/2/2111/3/2111/4/2111/5/2111/6/2111/7/2111/8/2111/9/2111/10/2111/11/2111/12/2111/13/2111/14/2111/15/2111/16/2111/17/2111/18/2111/19/2111/20/2111/21/2111/22/2111/23/2111/24/2111/25/2111/26/2111/27/2111/28/2111/29/2111/30/2112/1/2112/2/2112/3/2112/4/2112/5/2112/6/2112/7/2112/8/2112/9/2112/10/2112/11/2112/12/2112/13/2112/14/2112/15/2112/16/2112/17/2112/18/2112/19/2112/20/2112/21/2112/22/2112/23/2112/24/2112/25/2112/26/2112/27/2112/28/2112/29/2112/30/2112/31/211/1/221/2/221/3/221/4/221/5/221/6/221/7/221/8/221/9/221/10/221/11/221/12/221/13/221/14/221/15/221/16/221/17/221/18/221/19/221/20/221/21/221/22/221/23/221/24/221/25/221/26/221/27/221/28/221/29/221/30/221/31/222/1/222/2/222/3/222/4/222/5/222/6/222/7/222/8/222/9/222/10/222/11/222/12/222/13/222/14/222/15/222/16/222/17/222/18/222/19/222/20/222/21/222/22/222/23/222/24/222/25/222/26/222/27/222/28/223/1/223/2/223/3/223/4/223/5/223/6/223/7/223/8/223/9/223/10/223/11/223/12/223/13/223/14/223/15/223/16/223/17/223/18/223/19/223/20/223/21/223/22/223/23/223/24/223/25/223/26/223/27/223/28/223/29/223/30/223/31/224/1/224/2/224/3/224/4/224/5/224/6/224/7/224/8/224/9/224/10/224/11/224/12/224/13/224/14/224/15/224/16/224/17/224/18/224/19/224/20/224/21/224/22/224/23/224/24/224/25/224/26/224/27/224/28/224/29/224/30/225/1/225/2/225/3/225/4/225/5/225/6/225/7/225/8/225/9/225/10/225/11/225/12/225/13/225/14/225/15/225/16/225/17/225/18/225/19/225/20/225/21/225/22/225/23/225/24/225/25/225/26/225/27/225/28/225/29/225/30/225/31/226/1/226/2/226/3/226/4/226/5/226/6/226/7/226/8/226/9/226/10/226/11/226/12/226/13/226/14/226/15/226/16/226/17/226/18/226/19/226/20/226/21/226/22/226/23/226/24/226/25/226/26/226/27/226/28/226/29/226/30/227/1/227/2/227/3/227/4/227/5/227/6/227/7/227/8/227/9/227/10/227/11/227/12/227/13/227/14/227/15/227/16/227/17/227/18/227/19/227/20/227/21/227/22/227/23/227/24/227/25/227/26/227/27/227/28/227/29/227/30/227/31/228/1/228/2/228/3/228/4/228/5/228/6/228/7/228/8/228/9/228/10/228/11/228/12/228/13/228/14/228/15/228/16/228/17/228/18/228/19/228/20/228/21/228/22/228/23/228/24/228/25/228/26/228/27/228/28/228/29/228/30/228/31/229/1/229/2/229/3/229/4/229/5/229/6/229/7/229/8/229/9/229/10/229/11/229/12/229/13/229/14/229/15/229/16/229/17/229/18/229/19/229/20/229/21/229/22/229/23/229/24/229/25/229/26/229/27/229/28/229/29/229/30/2210/1/2210/2/2210/3/2210/4/2210/5/2210/6/2210/7/2210/8/2210/9/2210/10/2210/11/2210/12/2210/13/2210/14/2210/15/2210/16/2210/17/2210/18/2210/19/2210/20/2210/21/2210/22/2210/23/2210/24/2210/25/2210/26/2210/27/2210/28/2210/29/2210/30/2210/31/2211/1/2211/2/2211/3/2211/4/2211/5/2211/6/2211/7/2211/8/2211/9/2211/10/2211/11/2211/12/2211/13/2211/14/2211/15/2211/16/2211/17/2211/18/2211/19/2211/20/2211/21/2211/22/2211/23/2211/24/2211/25/2211/26/2211/27/2211/28/2211/29/2211/30/2212/1/2212/2/2212/3/2212/4/2212/5/2212/6/2212/7/2212/8/2212/9/2212/10/2212/11/2212/12/2212/13/2212/14/2212/15/2212/16/2212/17/2212/18/2212/19/2212/20/2212/21/2212/22/2212/23/2212/24/2212/25/2212/26/2212/27/2212/28/2212/29/2212/30/2212/31/221/1/231/2/23",
                  "350005987",
                  "8152225",
                  "2.329167300786772"
                ],
                [
                  "Bahamas",
                  "0",
                  "26952.878145",
                  "-84044.652453",
                  "1/22/201/23/201/24/201/25/201/26/201/27/201/28/201/29/201/30/201/31/202/1/202/2/202/3/202/4/202/5/202/6/202/7/202/8/202/9/202/10/202/11/202/12/202/13/202/14/202/15/202/16/202/17/202/18/202/19/202/20/202/21/202/22/202/23/202/24/202/25/202/26/202/27/202/28/202/29/203/1/203/2/203/3/203/4/203/5/203/6/203/7/203/8/203/9/203/10/203/11/203/12/203/13/203/14/203/15/203/16/203/17/203/18/203/19/203/20/203/21/203/22/203/23/203/24/203/25/203/26/203/27/203/28/203/29/203/30/203/31/204/1/204/2/204/3/204/4/204/5/204/6/204/7/204/8/204/9/204/10/204/11/204/12/204/13/204/14/204/15/204/16/204/17/204/18/204/19/204/20/204/21/204/22/204/23/204/24/204/25/204/26/204/27/204/28/204/29/204/30/205/1/205/2/205/3/205/4/205/5/205/6/205/7/205/8/205/9/205/10/205/11/205/12/205/13/205/14/205/15/205/16/205/17/205/18/205/19/205/20/205/21/205/22/205/23/205/24/205/25/205/26/205/27/205/28/205/29/205/30/205/31/206/1/206/2/206/3/206/4/206/5/206/6/206/7/206/8/206/9/206/10/206/11/206/12/206/13/206/14/206/15/206/16/206/17/206/18/206/19/206/20/206/21/206/22/206/23/206/24/206/25/206/26/206/27/206/28/206/29/206/30/207/1/207/2/207/3/207/4/207/5/207/6/207/7/207/8/207/9/207/10/207/11/207/12/207/13/207/14/207/15/207/16/207/17/207/18/207/19/207/20/207/21/207/22/207/23/207/24/207/25/207/26/207/27/207/28/207/29/207/30/207/31/208/1/208/2/208/3/208/4/208/5/208/6/208/7/208/8/208/9/208/10/208/11/208/12/208/13/208/14/208/15/208/16/208/17/208/18/208/19/208/20/208/21/208/22/208/23/208/24/208/25/208/26/208/27/208/28/208/29/208/30/208/31/209/1/209/2/209/3/209/4/209/5/209/6/209/7/209/8/209/9/209/10/209/11/209/12/209/13/209/14/209/15/209/16/209/17/209/18/209/19/209/20/209/21/209/22/209/23/209/24/209/25/209/26/209/27/209/28/209/29/209/30/2010/1/2010/2/2010/3/2010/4/2010/5/2010/6/2010/7/2010/8/2010/9/2010/10/2010/11/2010/12/2010/13/2010/14/2010/15/2010/16/2010/17/2010/18/2010/19/2010/20/2010/21/2010/22/2010/23/2010/24/2010/25/2010/26/2010/27/2010/28/2010/29/2010/30/2010/31/2011/1/2011/2/2011/3/2011/4/2011/5/2011/6/2011/7/2011/8/2011/9/2011/10/2011/11/2011/12/2011/13/2011/14/2011/15/2011/16/2011/17/2011/18/2011/19/2011/20/2011/21/2011/22/2011/23/2011/24/2011/25/2011/26/2011/27/2011/28/2011/29/2011/30/2012/1/2012/2/2012/3/2012/4/2012/5/2012/6/2012/7/2012/8/2012/9/2012/10/2012/11/2012/12/2012/13/2012/14/2012/15/2012/16/2012/17/2012/18/2012/19/2012/20/2012/21/2012/22/2012/23/2012/24/2012/25/2012/26/2012/27/2012/28/2012/29/2012/30/2012/31/201/1/211/2/211/3/211/4/211/5/211/6/211/7/211/8/211/9/211/10/211/11/211/12/211/13/211/14/211/15/211/16/211/17/211/18/211/19/211/20/211/21/211/22/211/23/211/24/211/25/211/26/211/27/211/28/211/29/211/30/211/31/212/1/212/2/212/3/212/4/212/5/212/6/212/7/212/8/212/9/212/10/212/11/212/12/212/13/212/14/212/15/212/16/212/17/212/18/212/19/212/20/212/21/212/22/212/23/212/24/212/25/212/26/212/27/212/28/213/1/213/2/213/3/213/4/213/5/213/6/213/7/213/8/213/9/213/10/213/11/213/12/213/13/213/14/213/15/213/16/213/17/213/18/213/19/213/20/213/21/213/22/213/23/213/24/213/25/213/26/213/27/213/28/213/29/213/30/213/31/214/1/214/2/214/3/214/4/214/5/214/6/214/7/214/8/214/9/214/10/214/11/214/12/214/13/214/14/214/15/214/16/214/17/214/18/214/19/214/20/214/21/214/22/214/23/214/24/214/25/214/26/214/27/214/28/214/29/214/30/215/1/215/2/215/3/215/4/215/5/215/6/215/7/215/8/215/9/215/10/215/11/215/12/215/13/215/14/215/15/215/16/215/17/215/18/215/19/215/20/215/21/215/22/215/23/215/24/215/25/215/26/215/27/215/28/215/29/215/30/215/31/216/1/216/2/216/3/216/4/216/5/216/6/216/7/216/8/216/9/216/10/216/11/216/12/216/13/216/14/216/15/216/16/216/17/216/18/216/19/216/20/216/21/216/22/216/23/216/24/216/25/216/26/216/27/216/28/216/29/216/30/217/1/217/2/217/3/217/4/217/5/217/6/217/7/217/8/217/9/217/10/217/11/217/12/217/13/217/14/217/15/217/16/217/17/217/18/217/19/217/20/217/21/217/22/217/23/217/24/217/25/217/26/217/27/217/28/217/29/217/30/217/31/218/1/218/2/218/3/218/4/218/5/218/6/218/7/218/8/218/9/218/10/218/11/218/12/218/13/218/14/218/15/218/16/218/17/218/18/218/19/218/20/218/21/218/22/218/23/218/24/218/25/218/26/218/27/218/28/218/29/218/30/218/31/219/1/219/2/219/3/219/4/219/5/219/6/219/7/219/8/219/9/219/10/219/11/219/12/219/13/219/14/219/15/219/16/219/17/219/18/219/19/219/20/219/21/219/22/219/23/219/24/219/25/219/26/219/27/219/28/219/29/219/30/2110/1/2110/2/2110/3/2110/4/2110/5/2110/6/2110/7/2110/8/2110/9/2110/10/2110/11/2110/12/2110/13/2110/14/2110/15/2110/16/2110/17/2110/18/2110/19/2110/20/2110/21/2110/22/2110/23/2110/24/2110/25/2110/26/2110/27/2110/28/2110/29/2110/30/2110/31/2111/1/2111/2/2111/3/2111/4/2111/5/2111/6/2111/7/2111/8/2111/9/2111/10/2111/11/2111/12/2111/13/2111/14/2111/15/2111/16/2111/17/2111/18/2111/19/2111/20/2111/21/2111/22/2111/23/2111/24/2111/25/2111/26/2111/27/2111/28/2111/29/2111/30/2112/1/2112/2/2112/3/2112/4/2112/5/2112/6/2112/7/2112/8/2112/9/2112/10/2112/11/2112/12/2112/13/2112/14/2112/15/2112/16/2112/17/2112/18/2112/19/2112/20/2112/21/2112/22/2112/23/2112/24/2112/25/2112/26/2112/27/2112/28/2112/29/2112/30/2112/31/211/1/221/2/221/3/221/4/221/5/221/6/221/7/221/8/221/9/221/10/221/11/221/12/221/13/221/14/221/15/221/16/221/17/221/18/221/19/221/20/221/21/221/22/221/23/221/24/221/25/221/26/221/27/221/28/221/29/221/30/221/31/222/1/222/2/222/3/222/4/222/5/222/6/222/7/222/8/222/9/222/10/222/11/222/12/222/13/222/14/222/15/222/16/222/17/222/18/222/19/222/20/222/21/222/22/222/23/222/24/222/25/222/26/222/27/222/28/223/1/223/2/223/3/223/4/223/5/223/6/223/7/223/8/223/9/223/10/223/11/223/12/223/13/223/14/223/15/223/16/223/17/223/18/223/19/223/20/223/21/223/22/223/23/223/24/223/25/223/26/223/27/223/28/223/29/223/30/223/31/224/1/224/2/224/3/224/4/224/5/224/6/224/7/224/8/224/9/224/10/224/11/224/12/224/13/224/14/224/15/224/16/224/17/224/18/224/19/224/20/224/21/224/22/224/23/224/24/224/25/224/26/224/27/224/28/224/29/224/30/225/1/225/2/225/3/225/4/225/5/225/6/225/7/225/8/225/9/225/10/225/11/225/12/225/13/225/14/225/15/225/16/225/17/225/18/225/19/225/20/225/21/225/22/225/23/225/24/225/25/225/26/225/27/225/28/225/29/225/30/225/31/226/1/226/2/226/3/226/4/226/5/226/6/226/7/226/8/226/9/226/10/226/11/226/12/226/13/226/14/226/15/226/16/226/17/226/18/226/19/226/20/226/21/226/22/226/23/226/24/226/25/226/26/226/27/226/28/226/29/226/30/227/1/227/2/227/3/227/4/227/5/227/6/227/7/227/8/227/9/227/10/227/11/227/12/227/13/227/14/227/15/227/16/227/17/227/18/227/19/227/20/227/21/227/22/227/23/227/24/227/25/227/26/227/27/227/28/227/29/227/30/227/31/228/1/228/2/228/3/228/4/228/5/228/6/228/7/228/8/228/9/228/10/228/11/228/12/228/13/228/14/228/15/228/16/228/17/228/18/228/19/228/20/228/21/228/22/228/23/228/24/228/25/228/26/228/27/228/28/228/29/228/30/228/31/229/1/229/2/229/3/229/4/229/5/229/6/229/7/229/8/229/9/229/10/229/11/229/12/229/13/229/14/229/15/229/16/229/17/229/18/229/19/229/20/229/21/229/22/229/23/229/24/229/25/229/26/229/27/229/28/229/29/229/30/2210/1/2210/2/2210/3/2210/4/2210/5/2210/6/2210/7/2210/8/2210/9/2210/10/2210/11/2210/12/2210/13/2210/14/2210/15/2210/16/2210/17/2210/18/2210/19/2210/20/2210/21/2210/22/2210/23/2210/24/2210/25/2210/26/2210/27/2210/28/2210/29/2210/30/2210/31/2211/1/2211/2/2211/3/2211/4/2211/5/2211/6/2211/7/2211/8/2211/9/2211/10/2211/11/2211/12/2211/13/2211/14/2211/15/2211/16/2211/17/2211/18/2211/19/2211/20/2211/21/2211/22/2211/23/2211/24/2211/25/2211/26/2211/27/2211/28/2211/29/2211/30/2212/1/2212/2/2212/3/2212/4/2212/5/2212/6/2212/7/2212/8/2212/9/2212/10/2212/11/2212/12/2212/13/2212/14/2212/15/2212/16/2212/17/2212/18/2212/19/2212/20/2212/21/2212/22/2212/23/2212/24/2212/25/2212/26/2212/27/2212/28/2212/29/2212/30/2212/31/221/1/231/2/23",
                  "19027739",
                  "441375",
                  "2.3196397638205988"
                ],
                [
                  "Lesotho",
                  "0",
                  "-31889.97",
                  "30407.587199999998",
                  "1/22/201/23/201/24/201/25/201/26/201/27/201/28/201/29/201/30/201/31/202/1/202/2/202/3/202/4/202/5/202/6/202/7/202/8/202/9/202/10/202/11/202/12/202/13/202/14/202/15/202/16/202/17/202/18/202/19/202/20/202/21/202/22/202/23/202/24/202/25/202/26/202/27/202/28/202/29/203/1/203/2/203/3/203/4/203/5/203/6/203/7/203/8/203/9/203/10/203/11/203/12/203/13/203/14/203/15/203/16/203/17/203/18/203/19/203/20/203/21/203/22/203/23/203/24/203/25/203/26/203/27/203/28/203/29/203/30/203/31/204/1/204/2/204/3/204/4/204/5/204/6/204/7/204/8/204/9/204/10/204/11/204/12/204/13/204/14/204/15/204/16/204/17/204/18/204/19/204/20/204/21/204/22/204/23/204/24/204/25/204/26/204/27/204/28/204/29/204/30/205/1/205/2/205/3/205/4/205/5/205/6/205/7/205/8/205/9/205/10/205/11/205/12/205/13/205/14/205/15/205/16/205/17/205/18/205/19/205/20/205/21/205/22/205/23/205/24/205/25/205/26/205/27/205/28/205/29/205/30/205/31/206/1/206/2/206/3/206/4/206/5/206/6/206/7/206/8/206/9/206/10/206/11/206/12/206/13/206/14/206/15/206/16/206/17/206/18/206/19/206/20/206/21/206/22/206/23/206/24/206/25/206/26/206/27/206/28/206/29/206/30/207/1/207/2/207/3/207/4/207/5/207/6/207/7/207/8/207/9/207/10/207/11/207/12/207/13/207/14/207/15/207/16/207/17/207/18/207/19/207/20/207/21/207/22/207/23/207/24/207/25/207/26/207/27/207/28/207/29/207/30/207/31/208/1/208/2/208/3/208/4/208/5/208/6/208/7/208/8/208/9/208/10/208/11/208/12/208/13/208/14/208/15/208/16/208/17/208/18/208/19/208/20/208/21/208/22/208/23/208/24/208/25/208/26/208/27/208/28/208/29/208/30/208/31/209/1/209/2/209/3/209/4/209/5/209/6/209/7/209/8/209/9/209/10/209/11/209/12/209/13/209/14/209/15/209/16/209/17/209/18/209/19/209/20/209/21/209/22/209/23/209/24/209/25/209/26/209/27/209/28/209/29/209/30/2010/1/2010/2/2010/3/2010/4/2010/5/2010/6/2010/7/2010/8/2010/9/2010/10/2010/11/2010/12/2010/13/2010/14/2010/15/2010/16/2010/17/2010/18/2010/19/2010/20/2010/21/2010/22/2010/23/2010/24/2010/25/2010/26/2010/27/2010/28/2010/29/2010/30/2010/31/2011/1/2011/2/2011/3/2011/4/2011/5/2011/6/2011/7/2011/8/2011/9/2011/10/2011/11/2011/12/2011/13/2011/14/2011/15/2011/16/2011/17/2011/18/2011/19/2011/20/2011/21/2011/22/2011/23/2011/24/2011/25/2011/26/2011/27/2011/28/2011/29/2011/30/2012/1/2012/2/2012/3/2012/4/2012/5/2012/6/2012/7/2012/8/2012/9/2012/10/2012/11/2012/12/2012/13/2012/14/2012/15/2012/16/2012/17/2012/18/2012/19/2012/20/2012/21/2012/22/2012/23/2012/24/2012/25/2012/26/2012/27/2012/28/2012/29/2012/30/2012/31/201/1/211/2/211/3/211/4/211/5/211/6/211/7/211/8/211/9/211/10/211/11/211/12/211/13/211/14/211/15/211/16/211/17/211/18/211/19/211/20/211/21/211/22/211/23/211/24/211/25/211/26/211/27/211/28/211/29/211/30/211/31/212/1/212/2/212/3/212/4/212/5/212/6/212/7/212/8/212/9/212/10/212/11/212/12/212/13/212/14/212/15/212/16/212/17/212/18/212/19/212/20/212/21/212/22/212/23/212/24/212/25/212/26/212/27/212/28/213/1/213/2/213/3/213/4/213/5/213/6/213/7/213/8/213/9/213/10/213/11/213/12/213/13/213/14/213/15/213/16/213/17/213/18/213/19/213/20/213/21/213/22/213/23/213/24/213/25/213/26/213/27/213/28/213/29/213/30/213/31/214/1/214/2/214/3/214/4/214/5/214/6/214/7/214/8/214/9/214/10/214/11/214/12/214/13/214/14/214/15/214/16/214/17/214/18/214/19/214/20/214/21/214/22/214/23/214/24/214/25/214/26/214/27/214/28/214/29/214/30/215/1/215/2/215/3/215/4/215/5/215/6/215/7/215/8/215/9/215/10/215/11/215/12/215/13/215/14/215/15/215/16/215/17/215/18/215/19/215/20/215/21/215/22/215/23/215/24/215/25/215/26/215/27/215/28/215/29/215/30/215/31/216/1/216/2/216/3/216/4/216/5/216/6/216/7/216/8/216/9/216/10/216/11/216/12/216/13/216/14/216/15/216/16/216/17/216/18/216/19/216/20/216/21/216/22/216/23/216/24/216/25/216/26/216/27/216/28/216/29/216/30/217/1/217/2/217/3/217/4/217/5/217/6/217/7/217/8/217/9/217/10/217/11/217/12/217/13/217/14/217/15/217/16/217/17/217/18/217/19/217/20/217/21/217/22/217/23/217/24/217/25/217/26/217/27/217/28/217/29/217/30/217/31/218/1/218/2/218/3/218/4/218/5/218/6/218/7/218/8/218/9/218/10/218/11/218/12/218/13/218/14/218/15/218/16/218/17/218/18/218/19/218/20/218/21/218/22/218/23/218/24/218/25/218/26/218/27/218/28/218/29/218/30/218/31/219/1/219/2/219/3/219/4/219/5/219/6/219/7/219/8/219/9/219/10/219/11/219/12/219/13/219/14/219/15/219/16/219/17/219/18/219/19/219/20/219/21/219/22/219/23/219/24/219/25/219/26/219/27/219/28/219/29/219/30/2110/1/2110/2/2110/3/2110/4/2110/5/2110/6/2110/7/2110/8/2110/9/2110/10/2110/11/2110/12/2110/13/2110/14/2110/15/2110/16/2110/17/2110/18/2110/19/2110/20/2110/21/2110/22/2110/23/2110/24/2110/25/2110/26/2110/27/2110/28/2110/29/2110/30/2110/31/2111/1/2111/2/2111/3/2111/4/2111/5/2111/6/2111/7/2111/8/2111/9/2111/10/2111/11/2111/12/2111/13/2111/14/2111/15/2111/16/2111/17/2111/18/2111/19/2111/20/2111/21/2111/22/2111/23/2111/24/2111/25/2111/26/2111/27/2111/28/2111/29/2111/30/2112/1/2112/2/2112/3/2112/4/2112/5/2112/6/2112/7/2112/8/2112/9/2112/10/2112/11/2112/12/2112/13/2112/14/2112/15/2112/16/2112/17/2112/18/2112/19/2112/20/2112/21/2112/22/2112/23/2112/24/2112/25/2112/26/2112/27/2112/28/2112/29/2112/30/2112/31/211/1/221/2/221/3/221/4/221/5/221/6/221/7/221/8/221/9/221/10/221/11/221/12/221/13/221/14/221/15/221/16/221/17/221/18/221/19/221/20/221/21/221/22/221/23/221/24/221/25/221/26/221/27/221/28/221/29/221/30/221/31/222/1/222/2/222/3/222/4/222/5/222/6/222/7/222/8/222/9/222/10/222/11/222/12/222/13/222/14/222/15/222/16/222/17/222/18/222/19/222/20/222/21/222/22/222/23/222/24/222/25/222/26/222/27/222/28/223/1/223/2/223/3/223/4/223/5/223/6/223/7/223/8/223/9/223/10/223/11/223/12/223/13/223/14/223/15/223/16/223/17/223/18/223/19/223/20/223/21/223/22/223/23/223/24/223/25/223/26/223/27/223/28/223/29/223/30/223/31/224/1/224/2/224/3/224/4/224/5/224/6/224/7/224/8/224/9/224/10/224/11/224/12/224/13/224/14/224/15/224/16/224/17/224/18/224/19/224/20/224/21/224/22/224/23/224/24/224/25/224/26/224/27/224/28/224/29/224/30/225/1/225/2/225/3/225/4/225/5/225/6/225/7/225/8/225/9/225/10/225/11/225/12/225/13/225/14/225/15/225/16/225/17/225/18/225/19/225/20/225/21/225/22/225/23/225/24/225/25/225/26/225/27/225/28/225/29/225/30/225/31/226/1/226/2/226/3/226/4/226/5/226/6/226/7/226/8/226/9/226/10/226/11/226/12/226/13/226/14/226/15/226/16/226/17/226/18/226/19/226/20/226/21/226/22/226/23/226/24/226/25/226/26/226/27/226/28/226/29/226/30/227/1/227/2/227/3/227/4/227/5/227/6/227/7/227/8/227/9/227/10/227/11/227/12/227/13/227/14/227/15/227/16/227/17/227/18/227/19/227/20/227/21/227/22/227/23/227/24/227/25/227/26/227/27/227/28/227/29/227/30/227/31/228/1/228/2/228/3/228/4/228/5/228/6/228/7/228/8/228/9/228/10/228/11/228/12/228/13/228/14/228/15/228/16/228/17/228/18/228/19/228/20/228/21/228/22/228/23/228/24/228/25/228/26/228/27/228/28/228/29/228/30/228/31/229/1/229/2/229/3/229/4/229/5/229/6/229/7/229/8/229/9/229/10/229/11/229/12/229/13/229/14/229/15/229/16/229/17/229/18/229/19/229/20/229/21/229/22/229/23/229/24/229/25/229/26/229/27/229/28/229/29/229/30/2210/1/2210/2/2210/3/2210/4/2210/5/2210/6/2210/7/2210/8/2210/9/2210/10/2210/11/2210/12/2210/13/2210/14/2210/15/2210/16/2210/17/2210/18/2210/19/2210/20/2210/21/2210/22/2210/23/2210/24/2210/25/2210/26/2210/27/2210/28/2210/29/2210/30/2210/31/2211/1/2211/2/2211/3/2211/4/2211/5/2211/6/2211/7/2211/8/2211/9/2211/10/2211/11/2211/12/2211/13/2211/14/2211/15/2211/16/2211/17/2211/18/2211/19/2211/20/2211/21/2211/22/2211/23/2211/24/2211/25/2211/26/2211/27/2211/28/2211/29/2211/30/2212/1/2212/2/2212/3/2212/4/2212/5/2212/6/2212/7/2212/8/2212/9/2212/10/2212/11/2212/12/2212/13/2212/14/2212/15/2212/16/2212/17/2212/18/2212/19/2212/20/2212/21/2212/22/2212/23/2212/24/2212/25/2212/26/2212/27/2212/28/2212/29/2212/30/2212/31/221/1/231/2/23",
                  "17698534",
                  "407198",
                  "2.300744231132364"
                ],
                [
                  "Ukraine",
                  "0",
                  "52104.6138",
                  "33565.351200000005",
                  "1/22/201/23/201/24/201/25/201/26/201/27/201/28/201/29/201/30/201/31/202/1/202/2/202/3/202/4/202/5/202/6/202/7/202/8/202/9/202/10/202/11/202/12/202/13/202/14/202/15/202/16/202/17/202/18/202/19/202/20/202/21/202/22/202/23/202/24/202/25/202/26/202/27/202/28/202/29/203/1/203/2/203/3/203/4/203/5/203/6/203/7/203/8/203/9/203/10/203/11/203/12/203/13/203/14/203/15/203/16/203/17/203/18/203/19/203/20/203/21/203/22/203/23/203/24/203/25/203/26/203/27/203/28/203/29/203/30/203/31/204/1/204/2/204/3/204/4/204/5/204/6/204/7/204/8/204/9/204/10/204/11/204/12/204/13/204/14/204/15/204/16/204/17/204/18/204/19/204/20/204/21/204/22/204/23/204/24/204/25/204/26/204/27/204/28/204/29/204/30/205/1/205/2/205/3/205/4/205/5/205/6/205/7/205/8/205/9/205/10/205/11/205/12/205/13/205/14/205/15/205/16/205/17/205/18/205/19/205/20/205/21/205/22/205/23/205/24/205/25/205/26/205/27/205/28/205/29/205/30/205/31/206/1/206/2/206/3/206/4/206/5/206/6/206/7/206/8/206/9/206/10/206/11/206/12/206/13/206/14/206/15/206/16/206/17/206/18/206/19/206/20/206/21/206/22/206/23/206/24/206/25/206/26/206/27/206/28/206/29/206/30/207/1/207/2/207/3/207/4/207/5/207/6/207/7/207/8/207/9/207/10/207/11/207/12/207/13/207/14/207/15/207/16/207/17/207/18/207/19/207/20/207/21/207/22/207/23/207/24/207/25/207/26/207/27/207/28/207/29/207/30/207/31/208/1/208/2/208/3/208/4/208/5/208/6/208/7/208/8/208/9/208/10/208/11/208/12/208/13/208/14/208/15/208/16/208/17/208/18/208/19/208/20/208/21/208/22/208/23/208/24/208/25/208/26/208/27/208/28/208/29/208/30/208/31/209/1/209/2/209/3/209/4/209/5/209/6/209/7/209/8/209/9/209/10/209/11/209/12/209/13/209/14/209/15/209/16/209/17/209/18/209/19/209/20/209/21/209/22/209/23/209/24/209/25/209/26/209/27/209/28/209/29/209/30/2010/1/2010/2/2010/3/2010/4/2010/5/2010/6/2010/7/2010/8/2010/9/2010/10/2010/11/2010/12/2010/13/2010/14/2010/15/2010/16/2010/17/2010/18/2010/19/2010/20/2010/21/2010/22/2010/23/2010/24/2010/25/2010/26/2010/27/2010/28/2010/29/2010/30/2010/31/2011/1/2011/2/2011/3/2011/4/2011/5/2011/6/2011/7/2011/8/2011/9/2011/10/2011/11/2011/12/2011/13/2011/14/2011/15/2011/16/2011/17/2011/18/2011/19/2011/20/2011/21/2011/22/2011/23/2011/24/2011/25/2011/26/2011/27/2011/28/2011/29/2011/30/2012/1/2012/2/2012/3/2012/4/2012/5/2012/6/2012/7/2012/8/2012/9/2012/10/2012/11/2012/12/2012/13/2012/14/2012/15/2012/16/2012/17/2012/18/2012/19/2012/20/2012/21/2012/22/2012/23/2012/24/2012/25/2012/26/2012/27/2012/28/2012/29/2012/30/2012/31/201/1/211/2/211/3/211/4/211/5/211/6/211/7/211/8/211/9/211/10/211/11/211/12/211/13/211/14/211/15/211/16/211/17/211/18/211/19/211/20/211/21/211/22/211/23/211/24/211/25/211/26/211/27/211/28/211/29/211/30/211/31/212/1/212/2/212/3/212/4/212/5/212/6/212/7/212/8/212/9/212/10/212/11/212/12/212/13/212/14/212/15/212/16/212/17/212/18/212/19/212/20/212/21/212/22/212/23/212/24/212/25/212/26/212/27/212/28/213/1/213/2/213/3/213/4/213/5/213/6/213/7/213/8/213/9/213/10/213/11/213/12/213/13/213/14/213/15/213/16/213/17/213/18/213/19/213/20/213/21/213/22/213/23/213/24/213/25/213/26/213/27/213/28/213/29/213/30/213/31/214/1/214/2/214/3/214/4/214/5/214/6/214/7/214/8/214/9/214/10/214/11/214/12/214/13/214/14/214/15/214/16/214/17/214/18/214/19/214/20/214/21/214/22/214/23/214/24/214/25/214/26/214/27/214/28/214/29/214/30/215/1/215/2/215/3/215/4/215/5/215/6/215/7/215/8/215/9/215/10/215/11/215/12/215/13/215/14/215/15/215/16/215/17/215/18/215/19/215/20/215/21/215/22/215/23/215/24/215/25/215/26/215/27/215/28/215/29/215/30/215/31/216/1/216/2/216/3/216/4/216/5/216/6/216/7/216/8/216/9/216/10/216/11/216/12/216/13/216/14/216/15/216/16/216/17/216/18/216/19/216/20/216/21/216/22/216/23/216/24/216/25/216/26/216/27/216/28/216/29/216/30/217/1/217/2/217/3/217/4/217/5/217/6/217/7/217/8/217/9/217/10/217/11/217/12/217/13/217/14/217/15/217/16/217/17/217/18/217/19/217/20/217/21/217/22/217/23/217/24/217/25/217/26/217/27/217/28/217/29/217/30/217/31/218/1/218/2/218/3/218/4/218/5/218/6/218/7/218/8/218/9/218/10/218/11/218/12/218/13/218/14/218/15/218/16/218/17/218/18/218/19/218/20/218/21/218/22/218/23/218/24/218/25/218/26/218/27/218/28/218/29/218/30/218/31/219/1/219/2/219/3/219/4/219/5/219/6/219/7/219/8/219/9/219/10/219/11/219/12/219/13/219/14/219/15/219/16/219/17/219/18/219/19/219/20/219/21/219/22/219/23/219/24/219/25/219/26/219/27/219/28/219/29/219/30/2110/1/2110/2/2110/3/2110/4/2110/5/2110/6/2110/7/2110/8/2110/9/2110/10/2110/11/2110/12/2110/13/2110/14/2110/15/2110/16/2110/17/2110/18/2110/19/2110/20/2110/21/2110/22/2110/23/2110/24/2110/25/2110/26/2110/27/2110/28/2110/29/2110/30/2110/31/2111/1/2111/2/2111/3/2111/4/2111/5/2111/6/2111/7/2111/8/2111/9/2111/10/2111/11/2111/12/2111/13/2111/14/2111/15/2111/16/2111/17/2111/18/2111/19/2111/20/2111/21/2111/22/2111/23/2111/24/2111/25/2111/26/2111/27/2111/28/2111/29/2111/30/2112/1/2112/2/2112/3/2112/4/2112/5/2112/6/2112/7/2112/8/2112/9/2112/10/2112/11/2112/12/2112/13/2112/14/2112/15/2112/16/2112/17/2112/18/2112/19/2112/20/2112/21/2112/22/2112/23/2112/24/2112/25/2112/26/2112/27/2112/28/2112/29/2112/30/2112/31/211/1/221/2/221/3/221/4/221/5/221/6/221/7/221/8/221/9/221/10/221/11/221/12/221/13/221/14/221/15/221/16/221/17/221/18/221/19/221/20/221/21/221/22/221/23/221/24/221/25/221/26/221/27/221/28/221/29/221/30/221/31/222/1/222/2/222/3/222/4/222/5/222/6/222/7/222/8/222/9/222/10/222/11/222/12/222/13/222/14/222/15/222/16/222/17/222/18/222/19/222/20/222/21/222/22/222/23/222/24/222/25/222/26/222/27/222/28/223/1/223/2/223/3/223/4/223/5/223/6/223/7/223/8/223/9/223/10/223/11/223/12/223/13/223/14/223/15/223/16/223/17/223/18/223/19/223/20/223/21/223/22/223/23/223/24/223/25/223/26/223/27/223/28/223/29/223/30/223/31/224/1/224/2/224/3/224/4/224/5/224/6/224/7/224/8/224/9/224/10/224/11/224/12/224/13/224/14/224/15/224/16/224/17/224/18/224/19/224/20/224/21/224/22/224/23/224/24/224/25/224/26/224/27/224/28/224/29/224/30/225/1/225/2/225/3/225/4/225/5/225/6/225/7/225/8/225/9/225/10/225/11/225/12/225/13/225/14/225/15/225/16/225/17/225/18/225/19/225/20/225/21/225/22/225/23/225/24/225/25/225/26/225/27/225/28/225/29/225/30/225/31/226/1/226/2/226/3/226/4/226/5/226/6/226/7/226/8/226/9/226/10/226/11/226/12/226/13/226/14/226/15/226/16/226/17/226/18/226/19/226/20/226/21/226/22/226/23/226/24/226/25/226/26/226/27/226/28/226/29/226/30/227/1/227/2/227/3/227/4/227/5/227/6/227/7/227/8/227/9/227/10/227/11/227/12/227/13/227/14/227/15/227/16/227/17/227/18/227/19/227/20/227/21/227/22/227/23/227/24/227/25/227/26/227/27/227/28/227/29/227/30/227/31/228/1/228/2/228/3/228/4/228/5/228/6/228/7/228/8/228/9/228/10/228/11/228/12/228/13/228/14/228/15/228/16/228/17/228/18/228/19/228/20/228/21/228/22/228/23/228/24/228/25/228/26/228/27/228/28/228/29/228/30/228/31/229/1/229/2/229/3/229/4/229/5/229/6/229/7/229/8/229/9/229/10/229/11/229/12/229/13/229/14/229/15/229/16/229/17/229/18/229/19/229/20/229/21/229/22/229/23/229/24/229/25/229/26/229/27/229/28/229/29/229/30/2210/1/2210/2/2210/3/2210/4/2210/5/2210/6/2210/7/2210/8/2210/9/2210/10/2210/11/2210/12/2210/13/2210/14/2210/15/2210/16/2210/17/2210/18/2210/19/2210/20/2210/21/2210/22/2210/23/2210/24/2210/25/2210/26/2210/27/2210/28/2210/29/2210/30/2210/31/2211/1/2211/2/2211/3/2211/4/2211/5/2211/6/2211/7/2211/8/2211/9/2211/10/2211/11/2211/12/2211/13/2211/14/2211/15/2211/16/2211/17/2211/18/2211/19/2211/20/2211/21/2211/22/2211/23/2211/24/2211/25/2211/26/2211/27/2211/28/2211/29/2211/30/2212/1/2212/2/2212/3/2212/4/2212/5/2212/6/2212/7/2212/8/2212/9/2212/10/2212/11/2212/12/2212/13/2212/14/2212/15/2212/16/2212/17/2212/18/2212/19/2212/20/2212/21/2212/22/2212/23/2212/24/2212/25/2212/26/2212/27/2212/28/2212/29/2212/30/2212/31/221/1/231/2/23",
                  "2815471779",
                  "62865792",
                  "2.232868838142952"
                ],
                [
                  "Moldova",
                  "0",
                  "51062.2932",
                  "30554.3823",
                  "1/22/201/23/201/24/201/25/201/26/201/27/201/28/201/29/201/30/201/31/202/1/202/2/202/3/202/4/202/5/202/6/202/7/202/8/202/9/202/10/202/11/202/12/202/13/202/14/202/15/202/16/202/17/202/18/202/19/202/20/202/21/202/22/202/23/202/24/202/25/202/26/202/27/202/28/202/29/203/1/203/2/203/3/203/4/203/5/203/6/203/7/203/8/203/9/203/10/203/11/203/12/203/13/203/14/203/15/203/16/203/17/203/18/203/19/203/20/203/21/203/22/203/23/203/24/203/25/203/26/203/27/203/28/203/29/203/30/203/31/204/1/204/2/204/3/204/4/204/5/204/6/204/7/204/8/204/9/204/10/204/11/204/12/204/13/204/14/204/15/204/16/204/17/204/18/204/19/204/20/204/21/204/22/204/23/204/24/204/25/204/26/204/27/204/28/204/29/204/30/205/1/205/2/205/3/205/4/205/5/205/6/205/7/205/8/205/9/205/10/205/11/205/12/205/13/205/14/205/15/205/16/205/17/205/18/205/19/205/20/205/21/205/22/205/23/205/24/205/25/205/26/205/27/205/28/205/29/205/30/205/31/206/1/206/2/206/3/206/4/206/5/206/6/206/7/206/8/206/9/206/10/206/11/206/12/206/13/206/14/206/15/206/16/206/17/206/18/206/19/206/20/206/21/206/22/206/23/206/24/206/25/206/26/206/27/206/28/206/29/206/30/207/1/207/2/207/3/207/4/207/5/207/6/207/7/207/8/207/9/207/10/207/11/207/12/207/13/207/14/207/15/207/16/207/17/207/18/207/19/207/20/207/21/207/22/207/23/207/24/207/25/207/26/207/27/207/28/207/29/207/30/207/31/208/1/208/2/208/3/208/4/208/5/208/6/208/7/208/8/208/9/208/10/208/11/208/12/208/13/208/14/208/15/208/16/208/17/208/18/208/19/208/20/208/21/208/22/208/23/208/24/208/25/208/26/208/27/208/28/208/29/208/30/208/31/209/1/209/2/209/3/209/4/209/5/209/6/209/7/209/8/209/9/209/10/209/11/209/12/209/13/209/14/209/15/209/16/209/17/209/18/209/19/209/20/209/21/209/22/209/23/209/24/209/25/209/26/209/27/209/28/209/29/209/30/2010/1/2010/2/2010/3/2010/4/2010/5/2010/6/2010/7/2010/8/2010/9/2010/10/2010/11/2010/12/2010/13/2010/14/2010/15/2010/16/2010/17/2010/18/2010/19/2010/20/2010/21/2010/22/2010/23/2010/24/2010/25/2010/26/2010/27/2010/28/2010/29/2010/30/2010/31/2011/1/2011/2/2011/3/2011/4/2011/5/2011/6/2011/7/2011/8/2011/9/2011/10/2011/11/2011/12/2011/13/2011/14/2011/15/2011/16/2011/17/2011/18/2011/19/2011/20/2011/21/2011/22/2011/23/2011/24/2011/25/2011/26/2011/27/2011/28/2011/29/2011/30/2012/1/2012/2/2012/3/2012/4/2012/5/2012/6/2012/7/2012/8/2012/9/2012/10/2012/11/2012/12/2012/13/2012/14/2012/15/2012/16/2012/17/2012/18/2012/19/2012/20/2012/21/2012/22/2012/23/2012/24/2012/25/2012/26/2012/27/2012/28/2012/29/2012/30/2012/31/201/1/211/2/211/3/211/4/211/5/211/6/211/7/211/8/211/9/211/10/211/11/211/12/211/13/211/14/211/15/211/16/211/17/211/18/211/19/211/20/211/21/211/22/211/23/211/24/211/25/211/26/211/27/211/28/211/29/211/30/211/31/212/1/212/2/212/3/212/4/212/5/212/6/212/7/212/8/212/9/212/10/212/11/212/12/212/13/212/14/212/15/212/16/212/17/212/18/212/19/212/20/212/21/212/22/212/23/212/24/212/25/212/26/212/27/212/28/213/1/213/2/213/3/213/4/213/5/213/6/213/7/213/8/213/9/213/10/213/11/213/12/213/13/213/14/213/15/213/16/213/17/213/18/213/19/213/20/213/21/213/22/213/23/213/24/213/25/213/26/213/27/213/28/213/29/213/30/213/31/214/1/214/2/214/3/214/4/214/5/214/6/214/7/214/8/214/9/214/10/214/11/214/12/214/13/214/14/214/15/214/16/214/17/214/18/214/19/214/20/214/21/214/22/214/23/214/24/214/25/214/26/214/27/214/28/214/29/214/30/215/1/215/2/215/3/215/4/215/5/215/6/215/7/215/8/215/9/215/10/215/11/215/12/215/13/215/14/215/15/215/16/215/17/215/18/215/19/215/20/215/21/215/22/215/23/215/24/215/25/215/26/215/27/215/28/215/29/215/30/215/31/216/1/216/2/216/3/216/4/216/5/216/6/216/7/216/8/216/9/216/10/216/11/216/12/216/13/216/14/216/15/216/16/216/17/216/18/216/19/216/20/216/21/216/22/216/23/216/24/216/25/216/26/216/27/216/28/216/29/216/30/217/1/217/2/217/3/217/4/217/5/217/6/217/7/217/8/217/9/217/10/217/11/217/12/217/13/217/14/217/15/217/16/217/17/217/18/217/19/217/20/217/21/217/22/217/23/217/24/217/25/217/26/217/27/217/28/217/29/217/30/217/31/218/1/218/2/218/3/218/4/218/5/218/6/218/7/218/8/218/9/218/10/218/11/218/12/218/13/218/14/218/15/218/16/218/17/218/18/218/19/218/20/218/21/218/22/218/23/218/24/218/25/218/26/218/27/218/28/218/29/218/30/218/31/219/1/219/2/219/3/219/4/219/5/219/6/219/7/219/8/219/9/219/10/219/11/219/12/219/13/219/14/219/15/219/16/219/17/219/18/219/19/219/20/219/21/219/22/219/23/219/24/219/25/219/26/219/27/219/28/219/29/219/30/2110/1/2110/2/2110/3/2110/4/2110/5/2110/6/2110/7/2110/8/2110/9/2110/10/2110/11/2110/12/2110/13/2110/14/2110/15/2110/16/2110/17/2110/18/2110/19/2110/20/2110/21/2110/22/2110/23/2110/24/2110/25/2110/26/2110/27/2110/28/2110/29/2110/30/2110/31/2111/1/2111/2/2111/3/2111/4/2111/5/2111/6/2111/7/2111/8/2111/9/2111/10/2111/11/2111/12/2111/13/2111/14/2111/15/2111/16/2111/17/2111/18/2111/19/2111/20/2111/21/2111/22/2111/23/2111/24/2111/25/2111/26/2111/27/2111/28/2111/29/2111/30/2112/1/2112/2/2112/3/2112/4/2112/5/2112/6/2112/7/2112/8/2112/9/2112/10/2112/11/2112/12/2112/13/2112/14/2112/15/2112/16/2112/17/2112/18/2112/19/2112/20/2112/21/2112/22/2112/23/2112/24/2112/25/2112/26/2112/27/2112/28/2112/29/2112/30/2112/31/211/1/221/2/221/3/221/4/221/5/221/6/221/7/221/8/221/9/221/10/221/11/221/12/221/13/221/14/221/15/221/16/221/17/221/18/221/19/221/20/221/21/221/22/221/23/221/24/221/25/221/26/221/27/221/28/221/29/221/30/221/31/222/1/222/2/222/3/222/4/222/5/222/6/222/7/222/8/222/9/222/10/222/11/222/12/222/13/222/14/222/15/222/16/222/17/222/18/222/19/222/20/222/21/222/22/222/23/222/24/222/25/222/26/222/27/222/28/223/1/223/2/223/3/223/4/223/5/223/6/223/7/223/8/223/9/223/10/223/11/223/12/223/13/223/14/223/15/223/16/223/17/223/18/223/19/223/20/223/21/223/22/223/23/223/24/223/25/223/26/223/27/223/28/223/29/223/30/223/31/224/1/224/2/224/3/224/4/224/5/224/6/224/7/224/8/224/9/224/10/224/11/224/12/224/13/224/14/224/15/224/16/224/17/224/18/224/19/224/20/224/21/224/22/224/23/224/24/224/25/224/26/224/27/224/28/224/29/224/30/225/1/225/2/225/3/225/4/225/5/225/6/225/7/225/8/225/9/225/10/225/11/225/12/225/13/225/14/225/15/225/16/225/17/225/18/225/19/225/20/225/21/225/22/225/23/225/24/225/25/225/26/225/27/225/28/225/29/225/30/225/31/226/1/226/2/226/3/226/4/226/5/226/6/226/7/226/8/226/9/226/10/226/11/226/12/226/13/226/14/226/15/226/16/226/17/226/18/226/19/226/20/226/21/226/22/226/23/226/24/226/25/226/26/226/27/226/28/226/29/226/30/227/1/227/2/227/3/227/4/227/5/227/6/227/7/227/8/227/9/227/10/227/11/227/12/227/13/227/14/227/15/227/16/227/17/227/18/227/19/227/20/227/21/227/22/227/23/227/24/227/25/227/26/227/27/227/28/227/29/227/30/227/31/228/1/228/2/228/3/228/4/228/5/228/6/228/7/228/8/228/9/228/10/228/11/228/12/228/13/228/14/228/15/228/16/228/17/228/18/228/19/228/20/228/21/228/22/228/23/228/24/228/25/228/26/228/27/228/28/228/29/228/30/228/31/229/1/229/2/229/3/229/4/229/5/229/6/229/7/229/8/229/9/229/10/229/11/229/12/229/13/229/14/229/15/229/16/229/17/229/18/229/19/229/20/229/21/229/22/229/23/229/24/229/25/229/26/229/27/229/28/229/29/229/30/2210/1/2210/2/2210/3/2210/4/2210/5/2210/6/2210/7/2210/8/2210/9/2210/10/2210/11/2210/12/2210/13/2210/14/2210/15/2210/16/2210/17/2210/18/2210/19/2210/20/2210/21/2210/22/2210/23/2210/24/2210/25/2210/26/2210/27/2210/28/2210/29/2210/30/2210/31/2211/1/2211/2/2211/3/2211/4/2211/5/2211/6/2211/7/2211/8/2211/9/2211/10/2211/11/2211/12/2211/13/2211/14/2211/15/2211/16/2211/17/2211/18/2211/19/2211/20/2211/21/2211/22/2211/23/2211/24/2211/25/2211/26/2211/27/2211/28/2211/29/2211/30/2212/1/2212/2/2212/3/2212/4/2212/5/2212/6/2212/7/2212/8/2212/9/2212/10/2212/11/2212/12/2212/13/2212/14/2212/15/2212/16/2212/17/2212/18/2212/19/2212/20/2212/21/2212/22/2212/23/2212/24/2212/25/2212/26/2212/27/2212/28/2212/29/2212/30/2212/31/221/1/231/2/23",
                  "303048917",
                  "6754328",
                  "2.2287913340406362"
                ],
                [
                  "Guatemala",
                  "0",
                  "16998.8295",
                  "-97178.5716",
                  "1/22/201/23/201/24/201/25/201/26/201/27/201/28/201/29/201/30/201/31/202/1/202/2/202/3/202/4/202/5/202/6/202/7/202/8/202/9/202/10/202/11/202/12/202/13/202/14/202/15/202/16/202/17/202/18/202/19/202/20/202/21/202/22/202/23/202/24/202/25/202/26/202/27/202/28/202/29/203/1/203/2/203/3/203/4/203/5/203/6/203/7/203/8/203/9/203/10/203/11/203/12/203/13/203/14/203/15/203/16/203/17/203/18/203/19/203/20/203/21/203/22/203/23/203/24/203/25/203/26/203/27/203/28/203/29/203/30/203/31/204/1/204/2/204/3/204/4/204/5/204/6/204/7/204/8/204/9/204/10/204/11/204/12/204/13/204/14/204/15/204/16/204/17/204/18/204/19/204/20/204/21/204/22/204/23/204/24/204/25/204/26/204/27/204/28/204/29/204/30/205/1/205/2/205/3/205/4/205/5/205/6/205/7/205/8/205/9/205/10/205/11/205/12/205/13/205/14/205/15/205/16/205/17/205/18/205/19/205/20/205/21/205/22/205/23/205/24/205/25/205/26/205/27/205/28/205/29/205/30/205/31/206/1/206/2/206/3/206/4/206/5/206/6/206/7/206/8/206/9/206/10/206/11/206/12/206/13/206/14/206/15/206/16/206/17/206/18/206/19/206/20/206/21/206/22/206/23/206/24/206/25/206/26/206/27/206/28/206/29/206/30/207/1/207/2/207/3/207/4/207/5/207/6/207/7/207/8/207/9/207/10/207/11/207/12/207/13/207/14/207/15/207/16/207/17/207/18/207/19/207/20/207/21/207/22/207/23/207/24/207/25/207/26/207/27/207/28/207/29/207/30/207/31/208/1/208/2/208/3/208/4/208/5/208/6/208/7/208/8/208/9/208/10/208/11/208/12/208/13/208/14/208/15/208/16/208/17/208/18/208/19/208/20/208/21/208/22/208/23/208/24/208/25/208/26/208/27/208/28/208/29/208/30/208/31/209/1/209/2/209/3/209/4/209/5/209/6/209/7/209/8/209/9/209/10/209/11/209/12/209/13/209/14/209/15/209/16/209/17/209/18/209/19/209/20/209/21/209/22/209/23/209/24/209/25/209/26/209/27/209/28/209/29/209/30/2010/1/2010/2/2010/3/2010/4/2010/5/2010/6/2010/7/2010/8/2010/9/2010/10/2010/11/2010/12/2010/13/2010/14/2010/15/2010/16/2010/17/2010/18/2010/19/2010/20/2010/21/2010/22/2010/23/2010/24/2010/25/2010/26/2010/27/2010/28/2010/29/2010/30/2010/31/2011/1/2011/2/2011/3/2011/4/2011/5/2011/6/2011/7/2011/8/2011/9/2011/10/2011/11/2011/12/2011/13/2011/14/2011/15/2011/16/2011/17/2011/18/2011/19/2011/20/2011/21/2011/22/2011/23/2011/24/2011/25/2011/26/2011/27/2011/28/2011/29/2011/30/2012/1/2012/2/2012/3/2012/4/2012/5/2012/6/2012/7/2012/8/2012/9/2012/10/2012/11/2012/12/2012/13/2012/14/2012/15/2012/16/2012/17/2012/18/2012/19/2012/20/2012/21/2012/22/2012/23/2012/24/2012/25/2012/26/2012/27/2012/28/2012/29/2012/30/2012/31/201/1/211/2/211/3/211/4/211/5/211/6/211/7/211/8/211/9/211/10/211/11/211/12/211/13/211/14/211/15/211/16/211/17/211/18/211/19/211/20/211/21/211/22/211/23/211/24/211/25/211/26/211/27/211/28/211/29/211/30/211/31/212/1/212/2/212/3/212/4/212/5/212/6/212/7/212/8/212/9/212/10/212/11/212/12/212/13/212/14/212/15/212/16/212/17/212/18/212/19/212/20/212/21/212/22/212/23/212/24/212/25/212/26/212/27/212/28/213/1/213/2/213/3/213/4/213/5/213/6/213/7/213/8/213/9/213/10/213/11/213/12/213/13/213/14/213/15/213/16/213/17/213/18/213/19/213/20/213/21/213/22/213/23/213/24/213/25/213/26/213/27/213/28/213/29/213/30/213/31/214/1/214/2/214/3/214/4/214/5/214/6/214/7/214/8/214/9/214/10/214/11/214/12/214/13/214/14/214/15/214/16/214/17/214/18/214/19/214/20/214/21/214/22/214/23/214/24/214/25/214/26/214/27/214/28/214/29/214/30/215/1/215/2/215/3/215/4/215/5/215/6/215/7/215/8/215/9/215/10/215/11/215/12/215/13/215/14/215/15/215/16/215/17/215/18/215/19/215/20/215/21/215/22/215/23/215/24/215/25/215/26/215/27/215/28/215/29/215/30/215/31/216/1/216/2/216/3/216/4/216/5/216/6/216/7/216/8/216/9/216/10/216/11/216/12/216/13/216/14/216/15/216/16/216/17/216/18/216/19/216/20/216/21/216/22/216/23/216/24/216/25/216/26/216/27/216/28/216/29/216/30/217/1/217/2/217/3/217/4/217/5/217/6/217/7/217/8/217/9/217/10/217/11/217/12/217/13/217/14/217/15/217/16/217/17/217/18/217/19/217/20/217/21/217/22/217/23/217/24/217/25/217/26/217/27/217/28/217/29/217/30/217/31/218/1/218/2/218/3/218/4/218/5/218/6/218/7/218/8/218/9/218/10/218/11/218/12/218/13/218/14/218/15/218/16/218/17/218/18/218/19/218/20/218/21/218/22/218/23/218/24/218/25/218/26/218/27/218/28/218/29/218/30/218/31/219/1/219/2/219/3/219/4/219/5/219/6/219/7/219/8/219/9/219/10/219/11/219/12/219/13/219/14/219/15/219/16/219/17/219/18/219/19/219/20/219/21/219/22/219/23/219/24/219/25/219/26/219/27/219/28/219/29/219/30/2110/1/2110/2/2110/3/2110/4/2110/5/2110/6/2110/7/2110/8/2110/9/2110/10/2110/11/2110/12/2110/13/2110/14/2110/15/2110/16/2110/17/2110/18/2110/19/2110/20/2110/21/2110/22/2110/23/2110/24/2110/25/2110/26/2110/27/2110/28/2110/29/2110/30/2110/31/2111/1/2111/2/2111/3/2111/4/2111/5/2111/6/2111/7/2111/8/2111/9/2111/10/2111/11/2111/12/2111/13/2111/14/2111/15/2111/16/2111/17/2111/18/2111/19/2111/20/2111/21/2111/22/2111/23/2111/24/2111/25/2111/26/2111/27/2111/28/2111/29/2111/30/2112/1/2112/2/2112/3/2112/4/2112/5/2112/6/2112/7/2112/8/2112/9/2112/10/2112/11/2112/12/2112/13/2112/14/2112/15/2112/16/2112/17/2112/18/2112/19/2112/20/2112/21/2112/22/2112/23/2112/24/2112/25/2112/26/2112/27/2112/28/2112/29/2112/30/2112/31/211/1/221/2/221/3/221/4/221/5/221/6/221/7/221/8/221/9/221/10/221/11/221/12/221/13/221/14/221/15/221/16/221/17/221/18/221/19/221/20/221/21/221/22/221/23/221/24/221/25/221/26/221/27/221/28/221/29/221/30/221/31/222/1/222/2/222/3/222/4/222/5/222/6/222/7/222/8/222/9/222/10/222/11/222/12/222/13/222/14/222/15/222/16/222/17/222/18/222/19/222/20/222/21/222/22/222/23/222/24/222/25/222/26/222/27/222/28/223/1/223/2/223/3/223/4/223/5/223/6/223/7/223/8/223/9/223/10/223/11/223/12/223/13/223/14/223/15/223/16/223/17/223/18/223/19/223/20/223/21/223/22/223/23/223/24/223/25/223/26/223/27/223/28/223/29/223/30/223/31/224/1/224/2/224/3/224/4/224/5/224/6/224/7/224/8/224/9/224/10/224/11/224/12/224/13/224/14/224/15/224/16/224/17/224/18/224/19/224/20/224/21/224/22/224/23/224/24/224/25/224/26/224/27/224/28/224/29/224/30/225/1/225/2/225/3/225/4/225/5/225/6/225/7/225/8/225/9/225/10/225/11/225/12/225/13/225/14/225/15/225/16/225/17/225/18/225/19/225/20/225/21/225/22/225/23/225/24/225/25/225/26/225/27/225/28/225/29/225/30/225/31/226/1/226/2/226/3/226/4/226/5/226/6/226/7/226/8/226/9/226/10/226/11/226/12/226/13/226/14/226/15/226/16/226/17/226/18/226/19/226/20/226/21/226/22/226/23/226/24/226/25/226/26/226/27/226/28/226/29/226/30/227/1/227/2/227/3/227/4/227/5/227/6/227/7/227/8/227/9/227/10/227/11/227/12/227/13/227/14/227/15/227/16/227/17/227/18/227/19/227/20/227/21/227/22/227/23/227/24/227/25/227/26/227/27/227/28/227/29/227/30/227/31/228/1/228/2/228/3/228/4/228/5/228/6/228/7/228/8/228/9/228/10/228/11/228/12/228/13/228/14/228/15/228/16/228/17/228/18/228/19/228/20/228/21/228/22/228/23/228/24/228/25/228/26/228/27/228/28/228/29/228/30/228/31/229/1/229/2/229/3/229/4/229/5/229/6/229/7/229/8/229/9/229/10/229/11/229/12/229/13/229/14/229/15/229/16/229/17/229/18/229/19/229/20/229/21/229/22/229/23/229/24/229/25/229/26/229/27/229/28/229/29/229/30/2210/1/2210/2/2210/3/2210/4/2210/5/2210/6/2210/7/2210/8/2210/9/2210/10/2210/11/2210/12/2210/13/2210/14/2210/15/2210/16/2210/17/2210/18/2210/19/2210/20/2210/21/2210/22/2210/23/2210/24/2210/25/2210/26/2210/27/2210/28/2210/29/2210/30/2210/31/2211/1/2211/2/2211/3/2211/4/2211/5/2211/6/2211/7/2211/8/2211/9/2211/10/2211/11/2211/12/2211/13/2211/14/2211/15/2211/16/2211/17/2211/18/2211/19/2211/20/2211/21/2211/22/2211/23/2211/24/2211/25/2211/26/2211/27/2211/28/2211/29/2211/30/2212/1/2212/2/2212/3/2212/4/2212/5/2212/6/2212/7/2212/8/2212/9/2212/10/2212/11/2212/12/2212/13/2212/14/2212/15/2212/16/2212/17/2212/18/2212/19/2212/20/2212/21/2212/22/2212/23/2212/24/2212/25/2212/26/2212/27/2212/28/2212/29/2212/30/2212/31/221/1/231/2/23",
                  "497709738",
                  "11060446",
                  "2.2222683535277747"
                ],
                [
                  "Eswatini",
                  "0",
                  "-28564.732500000002",
                  "33888.774300000005",
                  "1/22/201/23/201/24/201/25/201/26/201/27/201/28/201/29/201/30/201/31/202/1/202/2/202/3/202/4/202/5/202/6/202/7/202/8/202/9/202/10/202/11/202/12/202/13/202/14/202/15/202/16/202/17/202/18/202/19/202/20/202/21/202/22/202/23/202/24/202/25/202/26/202/27/202/28/202/29/203/1/203/2/203/3/203/4/203/5/203/6/203/7/203/8/203/9/203/10/203/11/203/12/203/13/203/14/203/15/203/16/203/17/203/18/203/19/203/20/203/21/203/22/203/23/203/24/203/25/203/26/203/27/203/28/203/29/203/30/203/31/204/1/204/2/204/3/204/4/204/5/204/6/204/7/204/8/204/9/204/10/204/11/204/12/204/13/204/14/204/15/204/16/204/17/204/18/204/19/204/20/204/21/204/22/204/23/204/24/204/25/204/26/204/27/204/28/204/29/204/30/205/1/205/2/205/3/205/4/205/5/205/6/205/7/205/8/205/9/205/10/205/11/205/12/205/13/205/14/205/15/205/16/205/17/205/18/205/19/205/20/205/21/205/22/205/23/205/24/205/25/205/26/205/27/205/28/205/29/205/30/205/31/206/1/206/2/206/3/206/4/206/5/206/6/206/7/206/8/206/9/206/10/206/11/206/12/206/13/206/14/206/15/206/16/206/17/206/18/206/19/206/20/206/21/206/22/206/23/206/24/206/25/206/26/206/27/206/28/206/29/206/30/207/1/207/2/207/3/207/4/207/5/207/6/207/7/207/8/207/9/207/10/207/11/207/12/207/13/207/14/207/15/207/16/207/17/207/18/207/19/207/20/207/21/207/22/207/23/207/24/207/25/207/26/207/27/207/28/207/29/207/30/207/31/208/1/208/2/208/3/208/4/208/5/208/6/208/7/208/8/208/9/208/10/208/11/208/12/208/13/208/14/208/15/208/16/208/17/208/18/208/19/208/20/208/21/208/22/208/23/208/24/208/25/208/26/208/27/208/28/208/29/208/30/208/31/209/1/209/2/209/3/209/4/209/5/209/6/209/7/209/8/209/9/209/10/209/11/209/12/209/13/209/14/209/15/209/16/209/17/209/18/209/19/209/20/209/21/209/22/209/23/209/24/209/25/209/26/209/27/209/28/209/29/209/30/2010/1/2010/2/2010/3/2010/4/2010/5/2010/6/2010/7/2010/8/2010/9/2010/10/2010/11/2010/12/2010/13/2010/14/2010/15/2010/16/2010/17/2010/18/2010/19/2010/20/2010/21/2010/22/2010/23/2010/24/2010/25/2010/26/2010/27/2010/28/2010/29/2010/30/2010/31/2011/1/2011/2/2011/3/2011/4/2011/5/2011/6/2011/7/2011/8/2011/9/2011/10/2011/11/2011/12/2011/13/2011/14/2011/15/2011/16/2011/17/2011/18/2011/19/2011/20/2011/21/2011/22/2011/23/2011/24/2011/25/2011/26/2011/27/2011/28/2011/29/2011/30/2012/1/2012/2/2012/3/2012/4/2012/5/2012/6/2012/7/2012/8/2012/9/2012/10/2012/11/2012/12/2012/13/2012/14/2012/15/2012/16/2012/17/2012/18/2012/19/2012/20/2012/21/2012/22/2012/23/2012/24/2012/25/2012/26/2012/27/2012/28/2012/29/2012/30/2012/31/201/1/211/2/211/3/211/4/211/5/211/6/211/7/211/8/211/9/211/10/211/11/211/12/211/13/211/14/211/15/211/16/211/17/211/18/211/19/211/20/211/21/211/22/211/23/211/24/211/25/211/26/211/27/211/28/211/29/211/30/211/31/212/1/212/2/212/3/212/4/212/5/212/6/212/7/212/8/212/9/212/10/212/11/212/12/212/13/212/14/212/15/212/16/212/17/212/18/212/19/212/20/212/21/212/22/212/23/212/24/212/25/212/26/212/27/212/28/213/1/213/2/213/3/213/4/213/5/213/6/213/7/213/8/213/9/213/10/213/11/213/12/213/13/213/14/213/15/213/16/213/17/213/18/213/19/213/20/213/21/213/22/213/23/213/24/213/25/213/26/213/27/213/28/213/29/213/30/213/31/214/1/214/2/214/3/214/4/214/5/214/6/214/7/214/8/214/9/214/10/214/11/214/12/214/13/214/14/214/15/214/16/214/17/214/18/214/19/214/20/214/21/214/22/214/23/214/24/214/25/214/26/214/27/214/28/214/29/214/30/215/1/215/2/215/3/215/4/215/5/215/6/215/7/215/8/215/9/215/10/215/11/215/12/215/13/215/14/215/15/215/16/215/17/215/18/215/19/215/20/215/21/215/22/215/23/215/24/215/25/215/26/215/27/215/28/215/29/215/30/215/31/216/1/216/2/216/3/216/4/216/5/216/6/216/7/216/8/216/9/216/10/216/11/216/12/216/13/216/14/216/15/216/16/216/17/216/18/216/19/216/20/216/21/216/22/216/23/216/24/216/25/216/26/216/27/216/28/216/29/216/30/217/1/217/2/217/3/217/4/217/5/217/6/217/7/217/8/217/9/217/10/217/11/217/12/217/13/217/14/217/15/217/16/217/17/217/18/217/19/217/20/217/21/217/22/217/23/217/24/217/25/217/26/217/27/217/28/217/29/217/30/217/31/218/1/218/2/218/3/218/4/218/5/218/6/218/7/218/8/218/9/218/10/218/11/218/12/218/13/218/14/218/15/218/16/218/17/218/18/218/19/218/20/218/21/218/22/218/23/218/24/218/25/218/26/218/27/218/28/218/29/218/30/218/31/219/1/219/2/219/3/219/4/219/5/219/6/219/7/219/8/219/9/219/10/219/11/219/12/219/13/219/14/219/15/219/16/219/17/219/18/219/19/219/20/219/21/219/22/219/23/219/24/219/25/219/26/219/27/219/28/219/29/219/30/2110/1/2110/2/2110/3/2110/4/2110/5/2110/6/2110/7/2110/8/2110/9/2110/10/2110/11/2110/12/2110/13/2110/14/2110/15/2110/16/2110/17/2110/18/2110/19/2110/20/2110/21/2110/22/2110/23/2110/24/2110/25/2110/26/2110/27/2110/28/2110/29/2110/30/2110/31/2111/1/2111/2/2111/3/2111/4/2111/5/2111/6/2111/7/2111/8/2111/9/2111/10/2111/11/2111/12/2111/13/2111/14/2111/15/2111/16/2111/17/2111/18/2111/19/2111/20/2111/21/2111/22/2111/23/2111/24/2111/25/2111/26/2111/27/2111/28/2111/29/2111/30/2112/1/2112/2/2112/3/2112/4/2112/5/2112/6/2112/7/2112/8/2112/9/2112/10/2112/11/2112/12/2112/13/2112/14/2112/15/2112/16/2112/17/2112/18/2112/19/2112/20/2112/21/2112/22/2112/23/2112/24/2112/25/2112/26/2112/27/2112/28/2112/29/2112/30/2112/31/211/1/221/2/221/3/221/4/221/5/221/6/221/7/221/8/221/9/221/10/221/11/221/12/221/13/221/14/221/15/221/16/221/17/221/18/221/19/221/20/221/21/221/22/221/23/221/24/221/25/221/26/221/27/221/28/221/29/221/30/221/31/222/1/222/2/222/3/222/4/222/5/222/6/222/7/222/8/222/9/222/10/222/11/222/12/222/13/222/14/222/15/222/16/222/17/222/18/222/19/222/20/222/21/222/22/222/23/222/24/222/25/222/26/222/27/222/28/223/1/223/2/223/3/223/4/223/5/223/6/223/7/223/8/223/9/223/10/223/11/223/12/223/13/223/14/223/15/223/16/223/17/223/18/223/19/223/20/223/21/223/22/223/23/223/24/223/25/223/26/223/27/223/28/223/29/223/30/223/31/224/1/224/2/224/3/224/4/224/5/224/6/224/7/224/8/224/9/224/10/224/11/224/12/224/13/224/14/224/15/224/16/224/17/224/18/224/19/224/20/224/21/224/22/224/23/224/24/224/25/224/26/224/27/224/28/224/29/224/30/225/1/225/2/225/3/225/4/225/5/225/6/225/7/225/8/225/9/225/10/225/11/225/12/225/13/225/14/225/15/225/16/225/17/225/18/225/19/225/20/225/21/225/22/225/23/225/24/225/25/225/26/225/27/225/28/225/29/225/30/225/31/226/1/226/2/226/3/226/4/226/5/226/6/226/7/226/8/226/9/226/10/226/11/226/12/226/13/226/14/226/15/226/16/226/17/226/18/226/19/226/20/226/21/226/22/226/23/226/24/226/25/226/26/226/27/226/28/226/29/226/30/227/1/227/2/227/3/227/4/227/5/227/6/227/7/227/8/227/9/227/10/227/11/227/12/227/13/227/14/227/15/227/16/227/17/227/18/227/19/227/20/227/21/227/22/227/23/227/24/227/25/227/26/227/27/227/28/227/29/227/30/227/31/228/1/228/2/228/3/228/4/228/5/228/6/228/7/228/8/228/9/228/10/228/11/228/12/228/13/228/14/228/15/228/16/228/17/228/18/228/19/228/20/228/21/228/22/228/23/228/24/228/25/228/26/228/27/228/28/228/29/228/30/228/31/229/1/229/2/229/3/229/4/229/5/229/6/229/7/229/8/229/9/229/10/229/11/229/12/229/13/229/14/229/15/229/16/229/17/229/18/229/19/229/20/229/21/229/22/229/23/229/24/229/25/229/26/229/27/229/28/229/29/229/30/2210/1/2210/2/2210/3/2210/4/2210/5/2210/6/2210/7/2210/8/2210/9/2210/10/2210/11/2210/12/2210/13/2210/14/2210/15/2210/16/2210/17/2210/18/2210/19/2210/20/2210/21/2210/22/2210/23/2210/24/2210/25/2210/26/2210/27/2210/28/2210/29/2210/30/2210/31/2211/1/2211/2/2211/3/2211/4/2211/5/2211/6/2211/7/2211/8/2211/9/2211/10/2211/11/2211/12/2211/13/2211/14/2211/15/2211/16/2211/17/2211/18/2211/19/2211/20/2211/21/2211/22/2211/23/2211/24/2211/25/2211/26/2211/27/2211/28/2211/29/2211/30/2212/1/2212/2/2212/3/2212/4/2212/5/2212/6/2212/7/2212/8/2212/9/2212/10/2212/11/2212/12/2212/13/2212/14/2212/15/2212/16/2212/17/2212/18/2212/19/2212/20/2212/21/2212/22/2212/23/2212/24/2212/25/2212/26/2212/27/2212/28/2212/29/2212/30/2212/31/221/1/231/2/23",
                  "38087582",
                  "845996",
                  "2.2211858972827416"
                ],
                [
                  "Jamaica",
                  "0",
                  "19504.0392",
                  "-83249.4075",
                  "1/22/201/23/201/24/201/25/201/26/201/27/201/28/201/29/201/30/201/31/202/1/202/2/202/3/202/4/202/5/202/6/202/7/202/8/202/9/202/10/202/11/202/12/202/13/202/14/202/15/202/16/202/17/202/18/202/19/202/20/202/21/202/22/202/23/202/24/202/25/202/26/202/27/202/28/202/29/203/1/203/2/203/3/203/4/203/5/203/6/203/7/203/8/203/9/203/10/203/11/203/12/203/13/203/14/203/15/203/16/203/17/203/18/203/19/203/20/203/21/203/22/203/23/203/24/203/25/203/26/203/27/203/28/203/29/203/30/203/31/204/1/204/2/204/3/204/4/204/5/204/6/204/7/204/8/204/9/204/10/204/11/204/12/204/13/204/14/204/15/204/16/204/17/204/18/204/19/204/20/204/21/204/22/204/23/204/24/204/25/204/26/204/27/204/28/204/29/204/30/205/1/205/2/205/3/205/4/205/5/205/6/205/7/205/8/205/9/205/10/205/11/205/12/205/13/205/14/205/15/205/16/205/17/205/18/205/19/205/20/205/21/205/22/205/23/205/24/205/25/205/26/205/27/205/28/205/29/205/30/205/31/206/1/206/2/206/3/206/4/206/5/206/6/206/7/206/8/206/9/206/10/206/11/206/12/206/13/206/14/206/15/206/16/206/17/206/18/206/19/206/20/206/21/206/22/206/23/206/24/206/25/206/26/206/27/206/28/206/29/206/30/207/1/207/2/207/3/207/4/207/5/207/6/207/7/207/8/207/9/207/10/207/11/207/12/207/13/207/14/207/15/207/16/207/17/207/18/207/19/207/20/207/21/207/22/207/23/207/24/207/25/207/26/207/27/207/28/207/29/207/30/207/31/208/1/208/2/208/3/208/4/208/5/208/6/208/7/208/8/208/9/208/10/208/11/208/12/208/13/208/14/208/15/208/16/208/17/208/18/208/19/208/20/208/21/208/22/208/23/208/24/208/25/208/26/208/27/208/28/208/29/208/30/208/31/209/1/209/2/209/3/209/4/209/5/209/6/209/7/209/8/209/9/209/10/209/11/209/12/209/13/209/14/209/15/209/16/209/17/209/18/209/19/209/20/209/21/209/22/209/23/209/24/209/25/209/26/209/27/209/28/209/29/209/30/2010/1/2010/2/2010/3/2010/4/2010/5/2010/6/2010/7/2010/8/2010/9/2010/10/2010/11/2010/12/2010/13/2010/14/2010/15/2010/16/2010/17/2010/18/2010/19/2010/20/2010/21/2010/22/2010/23/2010/24/2010/25/2010/26/2010/27/2010/28/2010/29/2010/30/2010/31/2011/1/2011/2/2011/3/2011/4/2011/5/2011/6/2011/7/2011/8/2011/9/2011/10/2011/11/2011/12/2011/13/2011/14/2011/15/2011/16/2011/17/2011/18/2011/19/2011/20/2011/21/2011/22/2011/23/2011/24/2011/25/2011/26/2011/27/2011/28/2011/29/2011/30/2012/1/2012/2/2012/3/2012/4/2012/5/2012/6/2012/7/2012/8/2012/9/2012/10/2012/11/2012/12/2012/13/2012/14/2012/15/2012/16/2012/17/2012/18/2012/19/2012/20/2012/21/2012/22/2012/23/2012/24/2012/25/2012/26/2012/27/2012/28/2012/29/2012/30/2012/31/201/1/211/2/211/3/211/4/211/5/211/6/211/7/211/8/211/9/211/10/211/11/211/12/211/13/211/14/211/15/211/16/211/17/211/18/211/19/211/20/211/21/211/22/211/23/211/24/211/25/211/26/211/27/211/28/211/29/211/30/211/31/212/1/212/2/212/3/212/4/212/5/212/6/212/7/212/8/212/9/212/10/212/11/212/12/212/13/212/14/212/15/212/16/212/17/212/18/212/19/212/20/212/21/212/22/212/23/212/24/212/25/212/26/212/27/212/28/213/1/213/2/213/3/213/4/213/5/213/6/213/7/213/8/213/9/213/10/213/11/213/12/213/13/213/14/213/15/213/16/213/17/213/18/213/19/213/20/213/21/213/22/213/23/213/24/213/25/213/26/213/27/213/28/213/29/213/30/213/31/214/1/214/2/214/3/214/4/214/5/214/6/214/7/214/8/214/9/214/10/214/11/214/12/214/13/214/14/214/15/214/16/214/17/214/18/214/19/214/20/214/21/214/22/214/23/214/24/214/25/214/26/214/27/214/28/214/29/214/30/215/1/215/2/215/3/215/4/215/5/215/6/215/7/215/8/215/9/215/10/215/11/215/12/215/13/215/14/215/15/215/16/215/17/215/18/215/19/215/20/215/21/215/22/215/23/215/24/215/25/215/26/215/27/215/28/215/29/215/30/215/31/216/1/216/2/216/3/216/4/216/5/216/6/216/7/216/8/216/9/216/10/216/11/216/12/216/13/216/14/216/15/216/16/216/17/216/18/216/19/216/20/216/21/216/22/216/23/216/24/216/25/216/26/216/27/216/28/216/29/216/30/217/1/217/2/217/3/217/4/217/5/217/6/217/7/217/8/217/9/217/10/217/11/217/12/217/13/217/14/217/15/217/16/217/17/217/18/217/19/217/20/217/21/217/22/217/23/217/24/217/25/217/26/217/27/217/28/217/29/217/30/217/31/218/1/218/2/218/3/218/4/218/5/218/6/218/7/218/8/218/9/218/10/218/11/218/12/218/13/218/14/218/15/218/16/218/17/218/18/218/19/218/20/218/21/218/22/218/23/218/24/218/25/218/26/218/27/218/28/218/29/218/30/218/31/219/1/219/2/219/3/219/4/219/5/219/6/219/7/219/8/219/9/219/10/219/11/219/12/219/13/219/14/219/15/219/16/219/17/219/18/219/19/219/20/219/21/219/22/219/23/219/24/219/25/219/26/219/27/219/28/219/29/219/30/2110/1/2110/2/2110/3/2110/4/2110/5/2110/6/2110/7/2110/8/2110/9/2110/10/2110/11/2110/12/2110/13/2110/14/2110/15/2110/16/2110/17/2110/18/2110/19/2110/20/2110/21/2110/22/2110/23/2110/24/2110/25/2110/26/2110/27/2110/28/2110/29/2110/30/2110/31/2111/1/2111/2/2111/3/2111/4/2111/5/2111/6/2111/7/2111/8/2111/9/2111/10/2111/11/2111/12/2111/13/2111/14/2111/15/2111/16/2111/17/2111/18/2111/19/2111/20/2111/21/2111/22/2111/23/2111/24/2111/25/2111/26/2111/27/2111/28/2111/29/2111/30/2112/1/2112/2/2112/3/2112/4/2112/5/2112/6/2112/7/2112/8/2112/9/2112/10/2112/11/2112/12/2112/13/2112/14/2112/15/2112/16/2112/17/2112/18/2112/19/2112/20/2112/21/2112/22/2112/23/2112/24/2112/25/2112/26/2112/27/2112/28/2112/29/2112/30/2112/31/211/1/221/2/221/3/221/4/221/5/221/6/221/7/221/8/221/9/221/10/221/11/221/12/221/13/221/14/221/15/221/16/221/17/221/18/221/19/221/20/221/21/221/22/221/23/221/24/221/25/221/26/221/27/221/28/221/29/221/30/221/31/222/1/222/2/222/3/222/4/222/5/222/6/222/7/222/8/222/9/222/10/222/11/222/12/222/13/222/14/222/15/222/16/222/17/222/18/222/19/222/20/222/21/222/22/222/23/222/24/222/25/222/26/222/27/222/28/223/1/223/2/223/3/223/4/223/5/223/6/223/7/223/8/223/9/223/10/223/11/223/12/223/13/223/14/223/15/223/16/223/17/223/18/223/19/223/20/223/21/223/22/223/23/223/24/223/25/223/26/223/27/223/28/223/29/223/30/223/31/224/1/224/2/224/3/224/4/224/5/224/6/224/7/224/8/224/9/224/10/224/11/224/12/224/13/224/14/224/15/224/16/224/17/224/18/224/19/224/20/224/21/224/22/224/23/224/24/224/25/224/26/224/27/224/28/224/29/224/30/225/1/225/2/225/3/225/4/225/5/225/6/225/7/225/8/225/9/225/10/225/11/225/12/225/13/225/14/225/15/225/16/225/17/225/18/225/19/225/20/225/21/225/22/225/23/225/24/225/25/225/26/225/27/225/28/225/29/225/30/225/31/226/1/226/2/226/3/226/4/226/5/226/6/226/7/226/8/226/9/226/10/226/11/226/12/226/13/226/14/226/15/226/16/226/17/226/18/226/19/226/20/226/21/226/22/226/23/226/24/226/25/226/26/226/27/226/28/226/29/226/30/227/1/227/2/227/3/227/4/227/5/227/6/227/7/227/8/227/9/227/10/227/11/227/12/227/13/227/14/227/15/227/16/227/17/227/18/227/19/227/20/227/21/227/22/227/23/227/24/227/25/227/26/227/27/227/28/227/29/227/30/227/31/228/1/228/2/228/3/228/4/228/5/228/6/228/7/228/8/228/9/228/10/228/11/228/12/228/13/228/14/228/15/228/16/228/17/228/18/228/19/228/20/228/21/228/22/228/23/228/24/228/25/228/26/228/27/228/28/228/29/228/30/228/31/229/1/229/2/229/3/229/4/229/5/229/6/229/7/229/8/229/9/229/10/229/11/229/12/229/13/229/14/229/15/229/16/229/17/229/18/229/19/229/20/229/21/229/22/229/23/229/24/229/25/229/26/229/27/229/28/229/29/229/30/2210/1/2210/2/2210/3/2210/4/2210/5/2210/6/2210/7/2210/8/2210/9/2210/10/2210/11/2210/12/2210/13/2210/14/2210/15/2210/16/2210/17/2210/18/2210/19/2210/20/2210/21/2210/22/2210/23/2210/24/2210/25/2210/26/2210/27/2210/28/2210/29/2210/30/2210/31/2211/1/2211/2/2211/3/2211/4/2211/5/2211/6/2211/7/2211/8/2211/9/2211/10/2211/11/2211/12/2211/13/2211/14/2211/15/2211/16/2211/17/2211/18/2211/19/2211/20/2211/21/2211/22/2211/23/2211/24/2211/25/2211/26/2211/27/2211/28/2211/29/2211/30/2212/1/2212/2/2212/3/2212/4/2212/5/2212/6/2212/7/2212/8/2212/9/2212/10/2212/11/2212/12/2212/13/2212/14/2212/15/2212/16/2212/17/2212/18/2212/19/2212/20/2212/21/2212/22/2212/23/2212/24/2212/25/2212/26/2212/27/2212/28/2212/29/2212/30/2212/31/221/1/231/2/23",
                  "72462099",
                  "1607979",
                  "2.219062133433369"
                ],
                [
                  "Iran",
                  "0",
                  "34924.856916000004",
                  "57822.025542",
                  "1/22/201/23/201/24/201/25/201/26/201/27/201/28/201/29/201/30/201/31/202/1/202/2/202/3/202/4/202/5/202/6/202/7/202/8/202/9/202/10/202/11/202/12/202/13/202/14/202/15/202/16/202/17/202/18/202/19/202/20/202/21/202/22/202/23/202/24/202/25/202/26/202/27/202/28/202/29/203/1/203/2/203/3/203/4/203/5/203/6/203/7/203/8/203/9/203/10/203/11/203/12/203/13/203/14/203/15/203/16/203/17/203/18/203/19/203/20/203/21/203/22/203/23/203/24/203/25/203/26/203/27/203/28/203/29/203/30/203/31/204/1/204/2/204/3/204/4/204/5/204/6/204/7/204/8/204/9/204/10/204/11/204/12/204/13/204/14/204/15/204/16/204/17/204/18/204/19/204/20/204/21/204/22/204/23/204/24/204/25/204/26/204/27/204/28/204/29/204/30/205/1/205/2/205/3/205/4/205/5/205/6/205/7/205/8/205/9/205/10/205/11/205/12/205/13/205/14/205/15/205/16/205/17/205/18/205/19/205/20/205/21/205/22/205/23/205/24/205/25/205/26/205/27/205/28/205/29/205/30/205/31/206/1/206/2/206/3/206/4/206/5/206/6/206/7/206/8/206/9/206/10/206/11/206/12/206/13/206/14/206/15/206/16/206/17/206/18/206/19/206/20/206/21/206/22/206/23/206/24/206/25/206/26/206/27/206/28/206/29/206/30/207/1/207/2/207/3/207/4/207/5/207/6/207/7/207/8/207/9/207/10/207/11/207/12/207/13/207/14/207/15/207/16/207/17/207/18/207/19/207/20/207/21/207/22/207/23/207/24/207/25/207/26/207/27/207/28/207/29/207/30/207/31/208/1/208/2/208/3/208/4/208/5/208/6/208/7/208/8/208/9/208/10/208/11/208/12/208/13/208/14/208/15/208/16/208/17/208/18/208/19/208/20/208/21/208/22/208/23/208/24/208/25/208/26/208/27/208/28/208/29/208/30/208/31/209/1/209/2/209/3/209/4/209/5/209/6/209/7/209/8/209/9/209/10/209/11/209/12/209/13/209/14/209/15/209/16/209/17/209/18/209/19/209/20/209/21/209/22/209/23/209/24/209/25/209/26/209/27/209/28/209/29/209/30/2010/1/2010/2/2010/3/2010/4/2010/5/2010/6/2010/7/2010/8/2010/9/2010/10/2010/11/2010/12/2010/13/2010/14/2010/15/2010/16/2010/17/2010/18/2010/19/2010/20/2010/21/2010/22/2010/23/2010/24/2010/25/2010/26/2010/27/2010/28/2010/29/2010/30/2010/31/2011/1/2011/2/2011/3/2011/4/2011/5/2011/6/2011/7/2011/8/2011/9/2011/10/2011/11/2011/12/2011/13/2011/14/2011/15/2011/16/2011/17/2011/18/2011/19/2011/20/2011/21/2011/22/2011/23/2011/24/2011/25/2011/26/2011/27/2011/28/2011/29/2011/30/2012/1/2012/2/2012/3/2012/4/2012/5/2012/6/2012/7/2012/8/2012/9/2012/10/2012/11/2012/12/2012/13/2012/14/2012/15/2012/16/2012/17/2012/18/2012/19/2012/20/2012/21/2012/22/2012/23/2012/24/2012/25/2012/26/2012/27/2012/28/2012/29/2012/30/2012/31/201/1/211/2/211/3/211/4/211/5/211/6/211/7/211/8/211/9/211/10/211/11/211/12/211/13/211/14/211/15/211/16/211/17/211/18/211/19/211/20/211/21/211/22/211/23/211/24/211/25/211/26/211/27/211/28/211/29/211/30/211/31/212/1/212/2/212/3/212/4/212/5/212/6/212/7/212/8/212/9/212/10/212/11/212/12/212/13/212/14/212/15/212/16/212/17/212/18/212/19/212/20/212/21/212/22/212/23/212/24/212/25/212/26/212/27/212/28/213/1/213/2/213/3/213/4/213/5/213/6/213/7/213/8/213/9/213/10/213/11/213/12/213/13/213/14/213/15/213/16/213/17/213/18/213/19/213/20/213/21/213/22/213/23/213/24/213/25/213/26/213/27/213/28/213/29/213/30/213/31/214/1/214/2/214/3/214/4/214/5/214/6/214/7/214/8/214/9/214/10/214/11/214/12/214/13/214/14/214/15/214/16/214/17/214/18/214/19/214/20/214/21/214/22/214/23/214/24/214/25/214/26/214/27/214/28/214/29/214/30/215/1/215/2/215/3/215/4/215/5/215/6/215/7/215/8/215/9/215/10/215/11/215/12/215/13/215/14/215/15/215/16/215/17/215/18/215/19/215/20/215/21/215/22/215/23/215/24/215/25/215/26/215/27/215/28/215/29/215/30/215/31/216/1/216/2/216/3/216/4/216/5/216/6/216/7/216/8/216/9/216/10/216/11/216/12/216/13/216/14/216/15/216/16/216/17/216/18/216/19/216/20/216/21/216/22/216/23/216/24/216/25/216/26/216/27/216/28/216/29/216/30/217/1/217/2/217/3/217/4/217/5/217/6/217/7/217/8/217/9/217/10/217/11/217/12/217/13/217/14/217/15/217/16/217/17/217/18/217/19/217/20/217/21/217/22/217/23/217/24/217/25/217/26/217/27/217/28/217/29/217/30/217/31/218/1/218/2/218/3/218/4/218/5/218/6/218/7/218/8/218/9/218/10/218/11/218/12/218/13/218/14/218/15/218/16/218/17/218/18/218/19/218/20/218/21/218/22/218/23/218/24/218/25/218/26/218/27/218/28/218/29/218/30/218/31/219/1/219/2/219/3/219/4/219/5/219/6/219/7/219/8/219/9/219/10/219/11/219/12/219/13/219/14/219/15/219/16/219/17/219/18/219/19/219/20/219/21/219/22/219/23/219/24/219/25/219/26/219/27/219/28/219/29/219/30/2110/1/2110/2/2110/3/2110/4/2110/5/2110/6/2110/7/2110/8/2110/9/2110/10/2110/11/2110/12/2110/13/2110/14/2110/15/2110/16/2110/17/2110/18/2110/19/2110/20/2110/21/2110/22/2110/23/2110/24/2110/25/2110/26/2110/27/2110/28/2110/29/2110/30/2110/31/2111/1/2111/2/2111/3/2111/4/2111/5/2111/6/2111/7/2111/8/2111/9/2111/10/2111/11/2111/12/2111/13/2111/14/2111/15/2111/16/2111/17/2111/18/2111/19/2111/20/2111/21/2111/22/2111/23/2111/24/2111/25/2111/26/2111/27/2111/28/2111/29/2111/30/2112/1/2112/2/2112/3/2112/4/2112/5/2112/6/2112/7/2112/8/2112/9/2112/10/2112/11/2112/12/2112/13/2112/14/2112/15/2112/16/2112/17/2112/18/2112/19/2112/20/2112/21/2112/22/2112/23/2112/24/2112/25/2112/26/2112/27/2112/28/2112/29/2112/30/2112/31/211/1/221/2/221/3/221/4/221/5/221/6/221/7/221/8/221/9/221/10/221/11/221/12/221/13/221/14/221/15/221/16/221/17/221/18/221/19/221/20/221/21/221/22/221/23/221/24/221/25/221/26/221/27/221/28/221/29/221/30/221/31/222/1/222/2/222/3/222/4/222/5/222/6/222/7/222/8/222/9/222/10/222/11/222/12/222/13/222/14/222/15/222/16/222/17/222/18/222/19/222/20/222/21/222/22/222/23/222/24/222/25/222/26/222/27/222/28/223/1/223/2/223/3/223/4/223/5/223/6/223/7/223/8/223/9/223/10/223/11/223/12/223/13/223/14/223/15/223/16/223/17/223/18/223/19/223/20/223/21/223/22/223/23/223/24/223/25/223/26/223/27/223/28/223/29/223/30/223/31/224/1/224/2/224/3/224/4/224/5/224/6/224/7/224/8/224/9/224/10/224/11/224/12/224/13/224/14/224/15/224/16/224/17/224/18/224/19/224/20/224/21/224/22/224/23/224/24/224/25/224/26/224/27/224/28/224/29/224/30/225/1/225/2/225/3/225/4/225/5/225/6/225/7/225/8/225/9/225/10/225/11/225/12/225/13/225/14/225/15/225/16/225/17/225/18/225/19/225/20/225/21/225/22/225/23/225/24/225/25/225/26/225/27/225/28/225/29/225/30/225/31/226/1/226/2/226/3/226/4/226/5/226/6/226/7/226/8/226/9/226/10/226/11/226/12/226/13/226/14/226/15/226/16/226/17/226/18/226/19/226/20/226/21/226/22/226/23/226/24/226/25/226/26/226/27/226/28/226/29/226/30/227/1/227/2/227/3/227/4/227/5/227/6/227/7/227/8/227/9/227/10/227/11/227/12/227/13/227/14/227/15/227/16/227/17/227/18/227/19/227/20/227/21/227/22/227/23/227/24/227/25/227/26/227/27/227/28/227/29/227/30/227/31/228/1/228/2/228/3/228/4/228/5/228/6/228/7/228/8/228/9/228/10/228/11/228/12/228/13/228/14/228/15/228/16/228/17/228/18/228/19/228/20/228/21/228/22/228/23/228/24/228/25/228/26/228/27/228/28/228/29/228/30/228/31/229/1/229/2/229/3/229/4/229/5/229/6/229/7/229/8/229/9/229/10/229/11/229/12/229/13/229/14/229/15/229/16/229/17/229/18/229/19/229/20/229/21/229/22/229/23/229/24/229/25/229/26/229/27/229/28/229/29/229/30/2210/1/2210/2/2210/3/2210/4/2210/5/2210/6/2210/7/2210/8/2210/9/2210/10/2210/11/2210/12/2210/13/2210/14/2210/15/2210/16/2210/17/2210/18/2210/19/2210/20/2210/21/2210/22/2210/23/2210/24/2210/25/2210/26/2210/27/2210/28/2210/29/2210/30/2210/31/2211/1/2211/2/2211/3/2211/4/2211/5/2211/6/2211/7/2211/8/2211/9/2211/10/2211/11/2211/12/2211/13/2211/14/2211/15/2211/16/2211/17/2211/18/2211/19/2211/20/2211/21/2211/22/2211/23/2211/24/2211/25/2211/26/2211/27/2211/28/2211/29/2211/30/2212/1/2212/2/2212/3/2212/4/2212/5/2212/6/2212/7/2212/8/2212/9/2212/10/2212/11/2212/12/2212/13/2212/14/2212/15/2212/16/2212/17/2212/18/2212/19/2212/20/2212/21/2212/22/2212/23/2212/24/2212/25/2212/26/2212/27/2212/28/2212/29/2212/30/2212/31/221/1/231/2/23",
                  "4113115000",
                  "91079762",
                  "2.214374312412855"
                ],
                [
                  "Cambodia",
                  "0",
                  "12439.35",
                  "112995.2859",
                  "1/22/201/23/201/24/201/25/201/26/201/27/201/28/201/29/201/30/201/31/202/1/202/2/202/3/202/4/202/5/202/6/202/7/202/8/202/9/202/10/202/11/202/12/202/13/202/14/202/15/202/16/202/17/202/18/202/19/202/20/202/21/202/22/202/23/202/24/202/25/202/26/202/27/202/28/202/29/203/1/203/2/203/3/203/4/203/5/203/6/203/7/203/8/203/9/203/10/203/11/203/12/203/13/203/14/203/15/203/16/203/17/203/18/203/19/203/20/203/21/203/22/203/23/203/24/203/25/203/26/203/27/203/28/203/29/203/30/203/31/204/1/204/2/204/3/204/4/204/5/204/6/204/7/204/8/204/9/204/10/204/11/204/12/204/13/204/14/204/15/204/16/204/17/204/18/204/19/204/20/204/21/204/22/204/23/204/24/204/25/204/26/204/27/204/28/204/29/204/30/205/1/205/2/205/3/205/4/205/5/205/6/205/7/205/8/205/9/205/10/205/11/205/12/205/13/205/14/205/15/205/16/205/17/205/18/205/19/205/20/205/21/205/22/205/23/205/24/205/25/205/26/205/27/205/28/205/29/205/30/205/31/206/1/206/2/206/3/206/4/206/5/206/6/206/7/206/8/206/9/206/10/206/11/206/12/206/13/206/14/206/15/206/16/206/17/206/18/206/19/206/20/206/21/206/22/206/23/206/24/206/25/206/26/206/27/206/28/206/29/206/30/207/1/207/2/207/3/207/4/207/5/207/6/207/7/207/8/207/9/207/10/207/11/207/12/207/13/207/14/207/15/207/16/207/17/207/18/207/19/207/20/207/21/207/22/207/23/207/24/207/25/207/26/207/27/207/28/207/29/207/30/207/31/208/1/208/2/208/3/208/4/208/5/208/6/208/7/208/8/208/9/208/10/208/11/208/12/208/13/208/14/208/15/208/16/208/17/208/18/208/19/208/20/208/21/208/22/208/23/208/24/208/25/208/26/208/27/208/28/208/29/208/30/208/31/209/1/209/2/209/3/209/4/209/5/209/6/209/7/209/8/209/9/209/10/209/11/209/12/209/13/209/14/209/15/209/16/209/17/209/18/209/19/209/20/209/21/209/22/209/23/209/24/209/25/209/26/209/27/209/28/209/29/209/30/2010/1/2010/2/2010/3/2010/4/2010/5/2010/6/2010/7/2010/8/2010/9/2010/10/2010/11/2010/12/2010/13/2010/14/2010/15/2010/16/2010/17/2010/18/2010/19/2010/20/2010/21/2010/22/2010/23/2010/24/2010/25/2010/26/2010/27/2010/28/2010/29/2010/30/2010/31/2011/1/2011/2/2011/3/2011/4/2011/5/2011/6/2011/7/2011/8/2011/9/2011/10/2011/11/2011/12/2011/13/2011/14/2011/15/2011/16/2011/17/2011/18/2011/19/2011/20/2011/21/2011/22/2011/23/2011/24/2011/25/2011/26/2011/27/2011/28/2011/29/2011/30/2012/1/2012/2/2012/3/2012/4/2012/5/2012/6/2012/7/2012/8/2012/9/2012/10/2012/11/2012/12/2012/13/2012/14/2012/15/2012/16/2012/17/2012/18/2012/19/2012/20/2012/21/2012/22/2012/23/2012/24/2012/25/2012/26/2012/27/2012/28/2012/29/2012/30/2012/31/201/1/211/2/211/3/211/4/211/5/211/6/211/7/211/8/211/9/211/10/211/11/211/12/211/13/211/14/211/15/211/16/211/17/211/18/211/19/211/20/211/21/211/22/211/23/211/24/211/25/211/26/211/27/211/28/211/29/211/30/211/31/212/1/212/2/212/3/212/4/212/5/212/6/212/7/212/8/212/9/212/10/212/11/212/12/212/13/212/14/212/15/212/16/212/17/212/18/212/19/212/20/212/21/212/22/212/23/212/24/212/25/212/26/212/27/212/28/213/1/213/2/213/3/213/4/213/5/213/6/213/7/213/8/213/9/213/10/213/11/213/12/213/13/213/14/213/15/213/16/213/17/213/18/213/19/213/20/213/21/213/22/213/23/213/24/213/25/213/26/213/27/213/28/213/29/213/30/213/31/214/1/214/2/214/3/214/4/214/5/214/6/214/7/214/8/214/9/214/10/214/11/214/12/214/13/214/14/214/15/214/16/214/17/214/18/214/19/214/20/214/21/214/22/214/23/214/24/214/25/214/26/214/27/214/28/214/29/214/30/215/1/215/2/215/3/215/4/215/5/215/6/215/7/215/8/215/9/215/10/215/11/215/12/215/13/215/14/215/15/215/16/215/17/215/18/215/19/215/20/215/21/215/22/215/23/215/24/215/25/215/26/215/27/215/28/215/29/215/30/215/31/216/1/216/2/216/3/216/4/216/5/216/6/216/7/216/8/216/9/216/10/216/11/216/12/216/13/216/14/216/15/216/16/216/17/216/18/216/19/216/20/216/21/216/22/216/23/216/24/216/25/216/26/216/27/216/28/216/29/216/30/217/1/217/2/217/3/217/4/217/5/217/6/217/7/217/8/217/9/217/10/217/11/217/12/217/13/217/14/217/15/217/16/217/17/217/18/217/19/217/20/217/21/217/22/217/23/217/24/217/25/217/26/217/27/217/28/217/29/217/30/217/31/218/1/218/2/218/3/218/4/218/5/218/6/218/7/218/8/218/9/218/10/218/11/218/12/218/13/218/14/218/15/218/16/218/17/218/18/218/19/218/20/218/21/218/22/218/23/218/24/218/25/218/26/218/27/218/28/218/29/218/30/218/31/219/1/219/2/219/3/219/4/219/5/219/6/219/7/219/8/219/9/219/10/219/11/219/12/219/13/219/14/219/15/219/16/219/17/219/18/219/19/219/20/219/21/219/22/219/23/219/24/219/25/219/26/219/27/219/28/219/29/219/30/2110/1/2110/2/2110/3/2110/4/2110/5/2110/6/2110/7/2110/8/2110/9/2110/10/2110/11/2110/12/2110/13/2110/14/2110/15/2110/16/2110/17/2110/18/2110/19/2110/20/2110/21/2110/22/2110/23/2110/24/2110/25/2110/26/2110/27/2110/28/2110/29/2110/30/2110/31/2111/1/2111/2/2111/3/2111/4/2111/5/2111/6/2111/7/2111/8/2111/9/2111/10/2111/11/2111/12/2111/13/2111/14/2111/15/2111/16/2111/17/2111/18/2111/19/2111/20/2111/21/2111/22/2111/23/2111/24/2111/25/2111/26/2111/27/2111/28/2111/29/2111/30/2112/1/2112/2/2112/3/2112/4/2112/5/2112/6/2112/7/2112/8/2112/9/2112/10/2112/11/2112/12/2112/13/2112/14/2112/15/2112/16/2112/17/2112/18/2112/19/2112/20/2112/21/2112/22/2112/23/2112/24/2112/25/2112/26/2112/27/2112/28/2112/29/2112/30/2112/31/211/1/221/2/221/3/221/4/221/5/221/6/221/7/221/8/221/9/221/10/221/11/221/12/221/13/221/14/221/15/221/16/221/17/221/18/221/19/221/20/221/21/221/22/221/23/221/24/221/25/221/26/221/27/221/28/221/29/221/30/221/31/222/1/222/2/222/3/222/4/222/5/222/6/222/7/222/8/222/9/222/10/222/11/222/12/222/13/222/14/222/15/222/16/222/17/222/18/222/19/222/20/222/21/222/22/222/23/222/24/222/25/222/26/222/27/222/28/223/1/223/2/223/3/223/4/223/5/223/6/223/7/223/8/223/9/223/10/223/11/223/12/223/13/223/14/223/15/223/16/223/17/223/18/223/19/223/20/223/21/223/22/223/23/223/24/223/25/223/26/223/27/223/28/223/29/223/30/223/31/224/1/224/2/224/3/224/4/224/5/224/6/224/7/224/8/224/9/224/10/224/11/224/12/224/13/224/14/224/15/224/16/224/17/224/18/224/19/224/20/224/21/224/22/224/23/224/24/224/25/224/26/224/27/224/28/224/29/224/30/225/1/225/2/225/3/225/4/225/5/225/6/225/7/225/8/225/9/225/10/225/11/225/12/225/13/225/14/225/15/225/16/225/17/225/18/225/19/225/20/225/21/225/22/225/23/225/24/225/25/225/26/225/27/225/28/225/29/225/30/225/31/226/1/226/2/226/3/226/4/226/5/226/6/226/7/226/8/226/9/226/10/226/11/226/12/226/13/226/14/226/15/226/16/226/17/226/18/226/19/226/20/226/21/226/22/226/23/226/24/226/25/226/26/226/27/226/28/226/29/226/30/227/1/227/2/227/3/227/4/227/5/227/6/227/7/227/8/227/9/227/10/227/11/227/12/227/13/227/14/227/15/227/16/227/17/227/18/227/19/227/20/227/21/227/22/227/23/227/24/227/25/227/26/227/27/227/28/227/29/227/30/227/31/228/1/228/2/228/3/228/4/228/5/228/6/228/7/228/8/228/9/228/10/228/11/228/12/228/13/228/14/228/15/228/16/228/17/228/18/228/19/228/20/228/21/228/22/228/23/228/24/228/25/228/26/228/27/228/28/228/29/228/30/228/31/229/1/229/2/229/3/229/4/229/5/229/6/229/7/229/8/229/9/229/10/229/11/229/12/229/13/229/14/229/15/229/16/229/17/229/18/229/19/229/20/229/21/229/22/229/23/229/24/229/25/229/26/229/27/229/28/229/29/229/30/2210/1/2210/2/2210/3/2210/4/2210/5/2210/6/2210/7/2210/8/2210/9/2210/10/2210/11/2210/12/2210/13/2210/14/2210/15/2210/16/2210/17/2210/18/2210/19/2210/20/2210/21/2210/22/2210/23/2210/24/2210/25/2210/26/2210/27/2210/28/2210/29/2210/30/2210/31/2211/1/2211/2/2211/3/2211/4/2211/5/2211/6/2211/7/2211/8/2211/9/2211/10/2211/11/2211/12/2211/13/2211/14/2211/15/2211/16/2211/17/2211/18/2211/19/2211/20/2211/21/2211/22/2211/23/2211/24/2211/25/2211/26/2211/27/2211/28/2211/29/2211/30/2212/1/2212/2/2212/3/2212/4/2212/5/2212/6/2212/7/2212/8/2212/9/2212/10/2212/11/2212/12/2212/13/2212/14/2212/15/2212/16/2212/17/2212/18/2212/19/2212/20/2212/21/2212/22/2212/23/2212/24/2212/25/2212/26/2212/27/2212/28/2212/29/2212/30/2212/31/221/1/231/2/23",
                  "70262871",
                  "1542982",
                  "2.196013311212404"
                ]
              ],
              "shape": {
                "columns": 7,
                "rows": 201
              }
            },
            "text/html": [
              "<div>\n",
              "<style scoped>\n",
              "    .dataframe tbody tr th:only-of-type {\n",
              "        vertical-align: middle;\n",
              "    }\n",
              "\n",
              "    .dataframe tbody tr th {\n",
              "        vertical-align: top;\n",
              "    }\n",
              "\n",
              "    .dataframe thead th {\n",
              "        text-align: right;\n",
              "    }\n",
              "</style>\n",
              "<table border=\"1\" class=\"dataframe\">\n",
              "  <thead>\n",
              "    <tr style=\"text-align: right;\">\n",
              "      <th></th>\n",
              "      <th>Province/State</th>\n",
              "      <th>Lat</th>\n",
              "      <th>Long</th>\n",
              "      <th>date</th>\n",
              "      <th>num_cases</th>\n",
              "      <th>num_deaths</th>\n",
              "      <th>death_percentage</th>\n",
              "    </tr>\n",
              "    <tr>\n",
              "      <th>Country/Region</th>\n",
              "      <th></th>\n",
              "      <th></th>\n",
              "      <th></th>\n",
              "      <th></th>\n",
              "      <th></th>\n",
              "      <th></th>\n",
              "      <th></th>\n",
              "    </tr>\n",
              "  </thead>\n",
              "  <tbody>\n",
              "    <tr>\n",
              "      <th>Korea, North</th>\n",
              "      <td>0</td>\n",
              "      <td>43446.072300</td>\n",
              "      <td>137328.377700</td>\n",
              "      <td>1/22/201/23/201/24/201/25/201/26/201/27/201/28...</td>\n",
              "      <td>234</td>\n",
              "      <td>1404</td>\n",
              "      <td>600.000000</td>\n",
              "    </tr>\n",
              "    <tr>\n",
              "      <th>MS Zaandam</th>\n",
              "      <td>0</td>\n",
              "      <td>0.000000</td>\n",
              "      <td>0.000000</td>\n",
              "      <td>1/22/201/23/201/24/201/25/201/26/201/27/201/28...</td>\n",
              "      <td>9071</td>\n",
              "      <td>2014</td>\n",
              "      <td>22.202624</td>\n",
              "    </tr>\n",
              "    <tr>\n",
              "      <th>Yemen</th>\n",
              "      <td>0</td>\n",
              "      <td>16750.286979</td>\n",
              "      <td>52252.149876</td>\n",
              "      <td>1/22/201/23/201/24/201/25/201/26/201/27/201/28...</td>\n",
              "      <td>7091065</td>\n",
              "      <td>1372952</td>\n",
              "      <td>19.361718</td>\n",
              "    </tr>\n",
              "    <tr>\n",
              "      <th>Sudan</th>\n",
              "      <td>0</td>\n",
              "      <td>13853.235600</td>\n",
              "      <td>32544.355200</td>\n",
              "      <td>1/22/201/23/201/24/201/25/201/26/201/27/201/28...</td>\n",
              "      <td>38729339</td>\n",
              "      <td>2850576</td>\n",
              "      <td>7.360250</td>\n",
              "    </tr>\n",
              "    <tr>\n",
              "      <th>Peru</th>\n",
              "      <td>0</td>\n",
              "      <td>-9897.630000</td>\n",
              "      <td>-80791.370400</td>\n",
              "      <td>1/22/201/23/201/24/201/25/201/26/201/27/201/28...</td>\n",
              "      <td>2203724423</td>\n",
              "      <td>156296296</td>\n",
              "      <td>7.092370</td>\n",
              "    </tr>\n",
              "    <tr>\n",
              "      <th>...</th>\n",
              "      <td>...</td>\n",
              "      <td>...</td>\n",
              "      <td>...</td>\n",
              "      <td>...</td>\n",
              "      <td>...</td>\n",
              "      <td>...</td>\n",
              "      <td>...</td>\n",
              "    </tr>\n",
              "    <tr>\n",
              "      <th>Antarctica</th>\n",
              "      <td>0</td>\n",
              "      <td>-77490.042300</td>\n",
              "      <td>25144.719000</td>\n",
              "      <td>1/22/201/23/201/24/201/25/201/26/201/27/201/28...</td>\n",
              "      <td>4235</td>\n",
              "      <td>0</td>\n",
              "      <td>0.000000</td>\n",
              "    </tr>\n",
              "    <tr>\n",
              "      <th>Holy See</th>\n",
              "      <td>0</td>\n",
              "      <td>45129.423300</td>\n",
              "      <td>13412.311800</td>\n",
              "      <td>1/22/201/23/201/24/201/25/201/26/201/27/201/28...</td>\n",
              "      <td>24893</td>\n",
              "      <td>0</td>\n",
              "      <td>0.000000</td>\n",
              "    </tr>\n",
              "    <tr>\n",
              "      <th>Summer Olympics 2020</th>\n",
              "      <td>0</td>\n",
              "      <td>38394.080700</td>\n",
              "      <td>150536.274900</td>\n",
              "      <td>1/22/201/23/201/24/201/25/201/26/201/27/201/28...</td>\n",
              "      <td>441598</td>\n",
              "      <td>0</td>\n",
              "      <td>0.000000</td>\n",
              "    </tr>\n",
              "    <tr>\n",
              "      <th>Tuvalu</th>\n",
              "      <td>0</td>\n",
              "      <td>-7656.931500</td>\n",
              "      <td>191328.296100</td>\n",
              "      <td>1/22/201/23/201/24/201/25/201/26/201/27/201/28...</td>\n",
              "      <td>137771</td>\n",
              "      <td>0</td>\n",
              "      <td>0.000000</td>\n",
              "    </tr>\n",
              "    <tr>\n",
              "      <th>Winter Olympics 2022</th>\n",
              "      <td>0</td>\n",
              "      <td>42976.823400</td>\n",
              "      <td>125370.769800</td>\n",
              "      <td>1/22/201/23/201/24/201/25/201/26/201/27/201/28...</td>\n",
              "      <td>179152</td>\n",
              "      <td>0</td>\n",
              "      <td>0.000000</td>\n",
              "    </tr>\n",
              "  </tbody>\n",
              "</table>\n",
              "<p>201 rows × 7 columns</p>\n",
              "</div>"
            ],
            "text/plain": [
              "                     Province/State           Lat           Long  \\\n",
              "Country/Region                                                     \n",
              "Korea, North                      0  43446.072300  137328.377700   \n",
              "MS Zaandam                        0      0.000000       0.000000   \n",
              "Yemen                             0  16750.286979   52252.149876   \n",
              "Sudan                             0  13853.235600   32544.355200   \n",
              "Peru                              0  -9897.630000  -80791.370400   \n",
              "...                             ...           ...            ...   \n",
              "Antarctica                        0 -77490.042300   25144.719000   \n",
              "Holy See                          0  45129.423300   13412.311800   \n",
              "Summer Olympics 2020              0  38394.080700  150536.274900   \n",
              "Tuvalu                            0  -7656.931500  191328.296100   \n",
              "Winter Olympics 2022              0  42976.823400  125370.769800   \n",
              "\n",
              "                                                                   date  \\\n",
              "Country/Region                                                            \n",
              "Korea, North          1/22/201/23/201/24/201/25/201/26/201/27/201/28...   \n",
              "MS Zaandam            1/22/201/23/201/24/201/25/201/26/201/27/201/28...   \n",
              "Yemen                 1/22/201/23/201/24/201/25/201/26/201/27/201/28...   \n",
              "Sudan                 1/22/201/23/201/24/201/25/201/26/201/27/201/28...   \n",
              "Peru                  1/22/201/23/201/24/201/25/201/26/201/27/201/28...   \n",
              "...                                                                 ...   \n",
              "Antarctica            1/22/201/23/201/24/201/25/201/26/201/27/201/28...   \n",
              "Holy See              1/22/201/23/201/24/201/25/201/26/201/27/201/28...   \n",
              "Summer Olympics 2020  1/22/201/23/201/24/201/25/201/26/201/27/201/28...   \n",
              "Tuvalu                1/22/201/23/201/24/201/25/201/26/201/27/201/28...   \n",
              "Winter Olympics 2022  1/22/201/23/201/24/201/25/201/26/201/27/201/28...   \n",
              "\n",
              "                       num_cases  num_deaths  death_percentage  \n",
              "Country/Region                                                  \n",
              "Korea, North                 234        1404        600.000000  \n",
              "MS Zaandam                  9071        2014         22.202624  \n",
              "Yemen                    7091065     1372952         19.361718  \n",
              "Sudan                   38729339     2850576          7.360250  \n",
              "Peru                  2203724423   156296296          7.092370  \n",
              "...                          ...         ...               ...  \n",
              "Antarctica                  4235           0          0.000000  \n",
              "Holy See                   24893           0          0.000000  \n",
              "Summer Olympics 2020      441598           0          0.000000  \n",
              "Tuvalu                    137771           0          0.000000  \n",
              "Winter Olympics 2022      179152           0          0.000000  \n",
              "\n",
              "[201 rows x 7 columns]"
            ]
          },
          "execution_count": 15,
          "metadata": {},
          "output_type": "execute_result"
        }
      ],
      "source": [
        "# code here\n",
        "temp_df = final_df.groupby('Country/Region').sum()\n",
        "\n",
        "temp_df['death_percentage'] = (temp_df['num_deaths']/temp_df['num_cases'])*100\n",
        "\n",
        "temp_df.sort_values('death_percentage',ascending=False)"
      ]
    },
    {
      "cell_type": "markdown",
      "metadata": {
        "id": "ujM8q7h3Nwhr"
      },
      "source": [
        "##### `Q-4` : Make a dataframe for India from Covid Data with one extra column representing no of new cases.\n",
        "\n",
        "* Just for Assumption \"No of new cases\" will be equal to difference of \"no of cases\" with previous day.\n",
        "* First day new cases will be NaN or equal to no of cases\n",
        "\n",
        "Say on 12/30/22 No of cases is - 44679608\tand a day previous (12/29/22) no of cases is - 44679382.\n",
        "\n",
        "Then for 12/30/22 -> No of New Cases  = 44679608 - 44679382 =\n",
        "\n",
        "Note:- Try using shift Function"
      ]
    },
    {
      "cell_type": "markdown",
      "metadata": {
        "id": "mwD53QGmOGti"
      },
      "source": [
        "Try using the shift function\n",
        "\n",
        "```\n",
        "s = pd.Series([1,2,3,4,5,6])\n",
        "s #-> [1,2,3,4,5,6]\n",
        "s.shift(1) #-> [NaN, 1,2,3,4,5]\n",
        "s.shift(-1) #-> [2,3,4,5,6, NaN]\n",
        "```"
      ]
    },
    {
      "cell_type": "code",
      "execution_count": 23,
      "metadata": {
        "id": "WFsdHfFhODAM"
      },
      "outputs": [
        {
          "ename": "KeyError",
          "evalue": "'India'",
          "output_type": "error",
          "traceback": [
            "\u001b[1;31m---------------------------------------------------------------------------\u001b[0m",
            "\u001b[1;31mKeyError\u001b[0m                                  Traceback (most recent call last)",
            "Cell \u001b[1;32mIn[23], line 2\u001b[0m\n\u001b[0;32m      1\u001b[0m \u001b[38;5;66;03m# code here\u001b[39;00m\n\u001b[1;32m----> 2\u001b[0m india_df \u001b[38;5;241m=\u001b[39m final_df\u001b[38;5;241m.\u001b[39mloc[\u001b[38;5;124m'\u001b[39m\u001b[38;5;124mIndia\u001b[39m\u001b[38;5;124m'\u001b[39m]\u001b[38;5;241m.\u001b[39mcopy()\n\u001b[0;32m      4\u001b[0m india_df[\u001b[38;5;124m'\u001b[39m\u001b[38;5;124mnew_cases\u001b[39m\u001b[38;5;124m'\u001b[39m] \u001b[38;5;241m=\u001b[39m india_df[\u001b[38;5;124m'\u001b[39m\u001b[38;5;124mnum_cases\u001b[39m\u001b[38;5;124m'\u001b[39m] \u001b[38;5;241m-\u001b[39m india_df[\u001b[38;5;124m'\u001b[39m\u001b[38;5;124mnum_cases\u001b[39m\u001b[38;5;124m'\u001b[39m]\u001b[38;5;241m.\u001b[39mshift(\u001b[38;5;241m1\u001b[39m)\n\u001b[0;32m      6\u001b[0m india_df\n",
            "File \u001b[1;32mc:\\Users\\singh\\anaconda3\\Lib\\site-packages\\pandas\\core\\indexing.py:1191\u001b[0m, in \u001b[0;36m_LocationIndexer.__getitem__\u001b[1;34m(self, key)\u001b[0m\n\u001b[0;32m   1189\u001b[0m maybe_callable \u001b[38;5;241m=\u001b[39m com\u001b[38;5;241m.\u001b[39mapply_if_callable(key, \u001b[38;5;28mself\u001b[39m\u001b[38;5;241m.\u001b[39mobj)\n\u001b[0;32m   1190\u001b[0m maybe_callable \u001b[38;5;241m=\u001b[39m \u001b[38;5;28mself\u001b[39m\u001b[38;5;241m.\u001b[39m_check_deprecated_callable_usage(key, maybe_callable)\n\u001b[1;32m-> 1191\u001b[0m \u001b[38;5;28;01mreturn\u001b[39;00m \u001b[38;5;28mself\u001b[39m\u001b[38;5;241m.\u001b[39m_getitem_axis(maybe_callable, axis\u001b[38;5;241m=\u001b[39maxis)\n",
            "File \u001b[1;32mc:\\Users\\singh\\anaconda3\\Lib\\site-packages\\pandas\\core\\indexing.py:1431\u001b[0m, in \u001b[0;36m_LocIndexer._getitem_axis\u001b[1;34m(self, key, axis)\u001b[0m\n\u001b[0;32m   1429\u001b[0m \u001b[38;5;66;03m# fall thru to straight lookup\u001b[39;00m\n\u001b[0;32m   1430\u001b[0m \u001b[38;5;28mself\u001b[39m\u001b[38;5;241m.\u001b[39m_validate_key(key, axis)\n\u001b[1;32m-> 1431\u001b[0m \u001b[38;5;28;01mreturn\u001b[39;00m \u001b[38;5;28mself\u001b[39m\u001b[38;5;241m.\u001b[39m_get_label(key, axis\u001b[38;5;241m=\u001b[39maxis)\n",
            "File \u001b[1;32mc:\\Users\\singh\\anaconda3\\Lib\\site-packages\\pandas\\core\\indexing.py:1381\u001b[0m, in \u001b[0;36m_LocIndexer._get_label\u001b[1;34m(self, label, axis)\u001b[0m\n\u001b[0;32m   1379\u001b[0m \u001b[38;5;28;01mdef\u001b[39;00m\u001b[38;5;250m \u001b[39m\u001b[38;5;21m_get_label\u001b[39m(\u001b[38;5;28mself\u001b[39m, label, axis: AxisInt):\n\u001b[0;32m   1380\u001b[0m     \u001b[38;5;66;03m# GH#5567 this will fail if the label is not present in the axis.\u001b[39;00m\n\u001b[1;32m-> 1381\u001b[0m     \u001b[38;5;28;01mreturn\u001b[39;00m \u001b[38;5;28mself\u001b[39m\u001b[38;5;241m.\u001b[39mobj\u001b[38;5;241m.\u001b[39mxs(label, axis\u001b[38;5;241m=\u001b[39maxis)\n",
            "File \u001b[1;32mc:\\Users\\singh\\anaconda3\\Lib\\site-packages\\pandas\\core\\generic.py:4301\u001b[0m, in \u001b[0;36mNDFrame.xs\u001b[1;34m(self, key, axis, level, drop_level)\u001b[0m\n\u001b[0;32m   4299\u001b[0m             new_index \u001b[38;5;241m=\u001b[39m index[loc]\n\u001b[0;32m   4300\u001b[0m \u001b[38;5;28;01melse\u001b[39;00m:\n\u001b[1;32m-> 4301\u001b[0m     loc \u001b[38;5;241m=\u001b[39m index\u001b[38;5;241m.\u001b[39mget_loc(key)\n\u001b[0;32m   4303\u001b[0m     \u001b[38;5;28;01mif\u001b[39;00m \u001b[38;5;28misinstance\u001b[39m(loc, np\u001b[38;5;241m.\u001b[39mndarray):\n\u001b[0;32m   4304\u001b[0m         \u001b[38;5;28;01mif\u001b[39;00m loc\u001b[38;5;241m.\u001b[39mdtype \u001b[38;5;241m==\u001b[39m np\u001b[38;5;241m.\u001b[39mbool_:\n",
            "File \u001b[1;32mc:\\Users\\singh\\anaconda3\\Lib\\site-packages\\pandas\\core\\indexes\\range.py:417\u001b[0m, in \u001b[0;36mRangeIndex.get_loc\u001b[1;34m(self, key)\u001b[0m\n\u001b[0;32m    415\u001b[0m         \u001b[38;5;28;01mraise\u001b[39;00m \u001b[38;5;167;01mKeyError\u001b[39;00m(key) \u001b[38;5;28;01mfrom\u001b[39;00m\u001b[38;5;250m \u001b[39m\u001b[38;5;21;01merr\u001b[39;00m\n\u001b[0;32m    416\u001b[0m \u001b[38;5;28;01mif\u001b[39;00m \u001b[38;5;28misinstance\u001b[39m(key, Hashable):\n\u001b[1;32m--> 417\u001b[0m     \u001b[38;5;28;01mraise\u001b[39;00m \u001b[38;5;167;01mKeyError\u001b[39;00m(key)\n\u001b[0;32m    418\u001b[0m \u001b[38;5;28mself\u001b[39m\u001b[38;5;241m.\u001b[39m_check_indexing_error(key)\n\u001b[0;32m    419\u001b[0m \u001b[38;5;28;01mraise\u001b[39;00m \u001b[38;5;167;01mKeyError\u001b[39;00m(key)\n",
            "\u001b[1;31mKeyError\u001b[0m: 'India'"
          ]
        }
      ],
      "source": [
        "# code here\n",
        "india_df = final_df.loc['India'].copy()\n",
        "\n",
        "india_df['new_cases'] = india_df['num_cases'] - india_df['num_cases'].shift(1)\n",
        "\n",
        "india_df"
      ]
    },
    {
      "cell_type": "markdown",
      "metadata": {
        "id": "C7BEzT8fOQoO"
      },
      "source": [
        "##### `Q-5:` Read the Dataset using the below given link and create a multi-index dataframe using the columns \"Country\" and \"City/Town\".\n",
        "\n",
        "This dataset is about the most polluted cities in the world. You can get details from [here](https://www.kaggle.com/datasets/rajkumarpandey02/worlds-most-air-polluted-countries-cities).\n",
        "\n",
        "**Dataset link:** https://tinyurl.com/2fe6vz4u Directly use this link to read.\n",
        "\n",
        "**Task:**\n",
        "1. Find out the name of the city of India which is most poluted based on PM10.\n",
        "2. Find out the name of the city of India which has minumum pollution level based on PM10.\n",
        "3. Do same operations (like 1 and 2) with the country China.\n",
        "4. Make a pie chart based on the column \"PM10\" of the country Poland.\n",
        "5. Make a bar chart based on the columns \"PM2.5\" and \"PM10\" of the countries Israel and Qatar.\n",
        "6. Convert this MultiIndex DataFrame to Series by retaining the informations."
      ]
    },
    {
      "cell_type": "code",
      "execution_count": 24,
      "metadata": {
        "id": "GGxjITQPOf3n"
      },
      "outputs": [
        {
          "data": {
            "application/vnd.microsoft.datawrangler.viewer.v0+json": {
              "columns": [
                {
                  "name": "index",
                  "rawType": "int64",
                  "type": "integer"
                },
                {
                  "name": "Unnamed: 0",
                  "rawType": "int64",
                  "type": "integer"
                },
                {
                  "name": "Position",
                  "rawType": "int64",
                  "type": "integer"
                },
                {
                  "name": "Country",
                  "rawType": "object",
                  "type": "string"
                },
                {
                  "name": "City/Town",
                  "rawType": "object",
                  "type": "string"
                },
                {
                  "name": "Year",
                  "rawType": "int64",
                  "type": "integer"
                },
                {
                  "name": "PM2.5",
                  "rawType": "int64",
                  "type": "integer"
                },
                {
                  "name": "Temporal coverage",
                  "rawType": "object",
                  "type": "string"
                },
                {
                  "name": "PM10",
                  "rawType": "int64",
                  "type": "integer"
                },
                {
                  "name": "Temporal coverage.1",
                  "rawType": "object",
                  "type": "unknown"
                },
                {
                  "name": "Database version (year)",
                  "rawType": "int64",
                  "type": "integer"
                }
              ],
              "ref": "6361c707-c0ad-4fee-96b4-54c2b3ebebcc",
              "rows": [
                [
                  "0",
                  "0",
                  "1",
                  "India",
                  "Kanpur",
                  "2016",
                  "173",
                  ">75%",
                  "319",
                  null,
                  "2018"
                ],
                [
                  "1",
                  "1",
                  "2",
                  "India",
                  "Faridabad",
                  "2016",
                  "172",
                  ">75%",
                  "316",
                  null,
                  "2018"
                ],
                [
                  "2",
                  "2",
                  "3",
                  "India",
                  "Gaya",
                  "2016",
                  "149",
                  "50% -< 75%",
                  "275",
                  null,
                  "2018"
                ],
                [
                  "3",
                  "3",
                  "4",
                  "India",
                  "Varanasi",
                  "2016",
                  "146",
                  ">75%",
                  "260",
                  null,
                  "2018"
                ],
                [
                  "4",
                  "4",
                  "5",
                  "India",
                  "Patna",
                  "2016",
                  "144",
                  ">75%",
                  "266",
                  null,
                  "2018"
                ]
              ],
              "shape": {
                "columns": 10,
                "rows": 5
              }
            },
            "text/html": [
              "<div>\n",
              "<style scoped>\n",
              "    .dataframe tbody tr th:only-of-type {\n",
              "        vertical-align: middle;\n",
              "    }\n",
              "\n",
              "    .dataframe tbody tr th {\n",
              "        vertical-align: top;\n",
              "    }\n",
              "\n",
              "    .dataframe thead th {\n",
              "        text-align: right;\n",
              "    }\n",
              "</style>\n",
              "<table border=\"1\" class=\"dataframe\">\n",
              "  <thead>\n",
              "    <tr style=\"text-align: right;\">\n",
              "      <th></th>\n",
              "      <th>Unnamed: 0</th>\n",
              "      <th>Position</th>\n",
              "      <th>Country</th>\n",
              "      <th>City/Town</th>\n",
              "      <th>Year</th>\n",
              "      <th>PM2.5</th>\n",
              "      <th>Temporal coverage</th>\n",
              "      <th>PM10</th>\n",
              "      <th>Temporal coverage.1</th>\n",
              "      <th>Database version (year)</th>\n",
              "    </tr>\n",
              "  </thead>\n",
              "  <tbody>\n",
              "    <tr>\n",
              "      <th>0</th>\n",
              "      <td>0</td>\n",
              "      <td>1</td>\n",
              "      <td>India</td>\n",
              "      <td>Kanpur</td>\n",
              "      <td>2016</td>\n",
              "      <td>173</td>\n",
              "      <td>&gt;75%</td>\n",
              "      <td>319</td>\n",
              "      <td>NaN</td>\n",
              "      <td>2018</td>\n",
              "    </tr>\n",
              "    <tr>\n",
              "      <th>1</th>\n",
              "      <td>1</td>\n",
              "      <td>2</td>\n",
              "      <td>India</td>\n",
              "      <td>Faridabad</td>\n",
              "      <td>2016</td>\n",
              "      <td>172</td>\n",
              "      <td>&gt;75%</td>\n",
              "      <td>316</td>\n",
              "      <td>NaN</td>\n",
              "      <td>2018</td>\n",
              "    </tr>\n",
              "    <tr>\n",
              "      <th>2</th>\n",
              "      <td>2</td>\n",
              "      <td>3</td>\n",
              "      <td>India</td>\n",
              "      <td>Gaya</td>\n",
              "      <td>2016</td>\n",
              "      <td>149</td>\n",
              "      <td>50% -&lt; 75%</td>\n",
              "      <td>275</td>\n",
              "      <td>NaN</td>\n",
              "      <td>2018</td>\n",
              "    </tr>\n",
              "    <tr>\n",
              "      <th>3</th>\n",
              "      <td>3</td>\n",
              "      <td>4</td>\n",
              "      <td>India</td>\n",
              "      <td>Varanasi</td>\n",
              "      <td>2016</td>\n",
              "      <td>146</td>\n",
              "      <td>&gt;75%</td>\n",
              "      <td>260</td>\n",
              "      <td>NaN</td>\n",
              "      <td>2018</td>\n",
              "    </tr>\n",
              "    <tr>\n",
              "      <th>4</th>\n",
              "      <td>4</td>\n",
              "      <td>5</td>\n",
              "      <td>India</td>\n",
              "      <td>Patna</td>\n",
              "      <td>2016</td>\n",
              "      <td>144</td>\n",
              "      <td>&gt;75%</td>\n",
              "      <td>266</td>\n",
              "      <td>NaN</td>\n",
              "      <td>2018</td>\n",
              "    </tr>\n",
              "  </tbody>\n",
              "</table>\n",
              "</div>"
            ],
            "text/plain": [
              "   Unnamed: 0  Position Country  City/Town  Year  PM2.5 Temporal coverage  \\\n",
              "0           0         1   India     Kanpur  2016    173              >75%   \n",
              "1           1         2   India  Faridabad  2016    172              >75%   \n",
              "2           2         3   India       Gaya  2016    149        50% -< 75%   \n",
              "3           3         4   India   Varanasi  2016    146              >75%   \n",
              "4           4         5   India      Patna  2016    144              >75%   \n",
              "\n",
              "   PM10 Temporal coverage.1  Database version (year)  \n",
              "0   319                 NaN                     2018  \n",
              "1   316                 NaN                     2018  \n",
              "2   275                 NaN                     2018  \n",
              "3   260                 NaN                     2018  \n",
              "4   266                 NaN                     2018  "
            ]
          },
          "execution_count": 24,
          "metadata": {},
          "output_type": "execute_result"
        }
      ],
      "source": [
        "# code here\n",
        "df = pd.read_csv('https://tinyurl.com/2fe6vz4u')\n",
        "df.head()"
      ]
    },
    {
      "cell_type": "code",
      "execution_count": 25,
      "metadata": {},
      "outputs": [],
      "source": [
        "df.drop(columns=['Unnamed: 0'],inplace=True)"
      ]
    },
    {
      "cell_type": "code",
      "execution_count": 26,
      "metadata": {},
      "outputs": [
        {
          "data": {
            "application/vnd.microsoft.datawrangler.viewer.v0+json": {
              "columns": [
                {
                  "name": "index",
                  "rawType": "int64",
                  "type": "integer"
                },
                {
                  "name": "Position",
                  "rawType": "int64",
                  "type": "integer"
                },
                {
                  "name": "Country",
                  "rawType": "object",
                  "type": "string"
                },
                {
                  "name": "City/Town",
                  "rawType": "object",
                  "type": "string"
                },
                {
                  "name": "Year",
                  "rawType": "int64",
                  "type": "integer"
                },
                {
                  "name": "PM2.5",
                  "rawType": "int64",
                  "type": "integer"
                },
                {
                  "name": "Temporal coverage",
                  "rawType": "object",
                  "type": "string"
                },
                {
                  "name": "PM10",
                  "rawType": "int64",
                  "type": "integer"
                },
                {
                  "name": "Temporal coverage.1",
                  "rawType": "object",
                  "type": "unknown"
                },
                {
                  "name": "Database version (year)",
                  "rawType": "int64",
                  "type": "integer"
                }
              ],
              "ref": "a0625c1d-f1b8-45d2-8942-8105f14cffb3",
              "rows": [
                [
                  "0",
                  "1",
                  "India",
                  "Kanpur",
                  "2016",
                  "173",
                  ">75%",
                  "319",
                  null,
                  "2018"
                ],
                [
                  "1",
                  "2",
                  "India",
                  "Faridabad",
                  "2016",
                  "172",
                  ">75%",
                  "316",
                  null,
                  "2018"
                ],
                [
                  "2",
                  "3",
                  "India",
                  "Gaya",
                  "2016",
                  "149",
                  "50% -< 75%",
                  "275",
                  null,
                  "2018"
                ],
                [
                  "3",
                  "4",
                  "India",
                  "Varanasi",
                  "2016",
                  "146",
                  ">75%",
                  "260",
                  null,
                  "2018"
                ],
                [
                  "4",
                  "5",
                  "India",
                  "Patna",
                  "2016",
                  "144",
                  ">75%",
                  "266",
                  null,
                  "2018"
                ]
              ],
              "shape": {
                "columns": 9,
                "rows": 5
              }
            },
            "text/html": [
              "<div>\n",
              "<style scoped>\n",
              "    .dataframe tbody tr th:only-of-type {\n",
              "        vertical-align: middle;\n",
              "    }\n",
              "\n",
              "    .dataframe tbody tr th {\n",
              "        vertical-align: top;\n",
              "    }\n",
              "\n",
              "    .dataframe thead th {\n",
              "        text-align: right;\n",
              "    }\n",
              "</style>\n",
              "<table border=\"1\" class=\"dataframe\">\n",
              "  <thead>\n",
              "    <tr style=\"text-align: right;\">\n",
              "      <th></th>\n",
              "      <th>Position</th>\n",
              "      <th>Country</th>\n",
              "      <th>City/Town</th>\n",
              "      <th>Year</th>\n",
              "      <th>PM2.5</th>\n",
              "      <th>Temporal coverage</th>\n",
              "      <th>PM10</th>\n",
              "      <th>Temporal coverage.1</th>\n",
              "      <th>Database version (year)</th>\n",
              "    </tr>\n",
              "  </thead>\n",
              "  <tbody>\n",
              "    <tr>\n",
              "      <th>0</th>\n",
              "      <td>1</td>\n",
              "      <td>India</td>\n",
              "      <td>Kanpur</td>\n",
              "      <td>2016</td>\n",
              "      <td>173</td>\n",
              "      <td>&gt;75%</td>\n",
              "      <td>319</td>\n",
              "      <td>NaN</td>\n",
              "      <td>2018</td>\n",
              "    </tr>\n",
              "    <tr>\n",
              "      <th>1</th>\n",
              "      <td>2</td>\n",
              "      <td>India</td>\n",
              "      <td>Faridabad</td>\n",
              "      <td>2016</td>\n",
              "      <td>172</td>\n",
              "      <td>&gt;75%</td>\n",
              "      <td>316</td>\n",
              "      <td>NaN</td>\n",
              "      <td>2018</td>\n",
              "    </tr>\n",
              "    <tr>\n",
              "      <th>2</th>\n",
              "      <td>3</td>\n",
              "      <td>India</td>\n",
              "      <td>Gaya</td>\n",
              "      <td>2016</td>\n",
              "      <td>149</td>\n",
              "      <td>50% -&lt; 75%</td>\n",
              "      <td>275</td>\n",
              "      <td>NaN</td>\n",
              "      <td>2018</td>\n",
              "    </tr>\n",
              "    <tr>\n",
              "      <th>3</th>\n",
              "      <td>4</td>\n",
              "      <td>India</td>\n",
              "      <td>Varanasi</td>\n",
              "      <td>2016</td>\n",
              "      <td>146</td>\n",
              "      <td>&gt;75%</td>\n",
              "      <td>260</td>\n",
              "      <td>NaN</td>\n",
              "      <td>2018</td>\n",
              "    </tr>\n",
              "    <tr>\n",
              "      <th>4</th>\n",
              "      <td>5</td>\n",
              "      <td>India</td>\n",
              "      <td>Patna</td>\n",
              "      <td>2016</td>\n",
              "      <td>144</td>\n",
              "      <td>&gt;75%</td>\n",
              "      <td>266</td>\n",
              "      <td>NaN</td>\n",
              "      <td>2018</td>\n",
              "    </tr>\n",
              "  </tbody>\n",
              "</table>\n",
              "</div>"
            ],
            "text/plain": [
              "   Position Country  City/Town  Year  PM2.5 Temporal coverage  PM10  \\\n",
              "0         1   India     Kanpur  2016    173              >75%   319   \n",
              "1         2   India  Faridabad  2016    172              >75%   316   \n",
              "2         3   India       Gaya  2016    149        50% -< 75%   275   \n",
              "3         4   India   Varanasi  2016    146              >75%   260   \n",
              "4         5   India      Patna  2016    144              >75%   266   \n",
              "\n",
              "  Temporal coverage.1  Database version (year)  \n",
              "0                 NaN                     2018  \n",
              "1                 NaN                     2018  \n",
              "2                 NaN                     2018  \n",
              "3                 NaN                     2018  \n",
              "4                 NaN                     2018  "
            ]
          },
          "execution_count": 26,
          "metadata": {},
          "output_type": "execute_result"
        }
      ],
      "source": [
        "df.head()"
      ]
    },
    {
      "cell_type": "code",
      "execution_count": 27,
      "metadata": {},
      "outputs": [],
      "source": [
        "df.set_index(['Country','City/Town'],inplace=True)"
      ]
    },
    {
      "cell_type": "code",
      "execution_count": 28,
      "metadata": {},
      "outputs": [
        {
          "data": {
            "application/vnd.microsoft.datawrangler.viewer.v0+json": {
              "columns": [
                {
                  "name": "('Country', 'City/Town')",
                  "rawType": "object",
                  "type": "unknown"
                },
                {
                  "name": "Position",
                  "rawType": "int64",
                  "type": "integer"
                },
                {
                  "name": "Year",
                  "rawType": "int64",
                  "type": "integer"
                },
                {
                  "name": "PM2.5",
                  "rawType": "int64",
                  "type": "integer"
                },
                {
                  "name": "Temporal coverage",
                  "rawType": "object",
                  "type": "string"
                },
                {
                  "name": "PM10",
                  "rawType": "int64",
                  "type": "integer"
                },
                {
                  "name": "Temporal coverage.1",
                  "rawType": "object",
                  "type": "unknown"
                },
                {
                  "name": "Database version (year)",
                  "rawType": "int64",
                  "type": "integer"
                }
              ],
              "ref": "48f5c251-f11e-4e14-b249-5805516836ff",
              "rows": [
                [
                  "('India', 'Kanpur')",
                  "1",
                  "2016",
                  "173",
                  ">75%",
                  "319",
                  null,
                  "2018"
                ],
                [
                  "('India', 'Faridabad')",
                  "2",
                  "2016",
                  "172",
                  ">75%",
                  "316",
                  null,
                  "2018"
                ],
                [
                  "('India', 'Gaya')",
                  "3",
                  "2016",
                  "149",
                  "50% -< 75%",
                  "275",
                  null,
                  "2018"
                ],
                [
                  "('India', 'Varanasi')",
                  "4",
                  "2016",
                  "146",
                  ">75%",
                  "260",
                  null,
                  "2018"
                ],
                [
                  "('India', 'Patna')",
                  "5",
                  "2016",
                  "144",
                  ">75%",
                  "266",
                  null,
                  "2018"
                ]
              ],
              "shape": {
                "columns": 7,
                "rows": 5
              }
            },
            "text/html": [
              "<div>\n",
              "<style scoped>\n",
              "    .dataframe tbody tr th:only-of-type {\n",
              "        vertical-align: middle;\n",
              "    }\n",
              "\n",
              "    .dataframe tbody tr th {\n",
              "        vertical-align: top;\n",
              "    }\n",
              "\n",
              "    .dataframe thead th {\n",
              "        text-align: right;\n",
              "    }\n",
              "</style>\n",
              "<table border=\"1\" class=\"dataframe\">\n",
              "  <thead>\n",
              "    <tr style=\"text-align: right;\">\n",
              "      <th></th>\n",
              "      <th></th>\n",
              "      <th>Position</th>\n",
              "      <th>Year</th>\n",
              "      <th>PM2.5</th>\n",
              "      <th>Temporal coverage</th>\n",
              "      <th>PM10</th>\n",
              "      <th>Temporal coverage.1</th>\n",
              "      <th>Database version (year)</th>\n",
              "    </tr>\n",
              "    <tr>\n",
              "      <th>Country</th>\n",
              "      <th>City/Town</th>\n",
              "      <th></th>\n",
              "      <th></th>\n",
              "      <th></th>\n",
              "      <th></th>\n",
              "      <th></th>\n",
              "      <th></th>\n",
              "      <th></th>\n",
              "    </tr>\n",
              "  </thead>\n",
              "  <tbody>\n",
              "    <tr>\n",
              "      <th rowspan=\"5\" valign=\"top\">India</th>\n",
              "      <th>Kanpur</th>\n",
              "      <td>1</td>\n",
              "      <td>2016</td>\n",
              "      <td>173</td>\n",
              "      <td>&gt;75%</td>\n",
              "      <td>319</td>\n",
              "      <td>NaN</td>\n",
              "      <td>2018</td>\n",
              "    </tr>\n",
              "    <tr>\n",
              "      <th>Faridabad</th>\n",
              "      <td>2</td>\n",
              "      <td>2016</td>\n",
              "      <td>172</td>\n",
              "      <td>&gt;75%</td>\n",
              "      <td>316</td>\n",
              "      <td>NaN</td>\n",
              "      <td>2018</td>\n",
              "    </tr>\n",
              "    <tr>\n",
              "      <th>Gaya</th>\n",
              "      <td>3</td>\n",
              "      <td>2016</td>\n",
              "      <td>149</td>\n",
              "      <td>50% -&lt; 75%</td>\n",
              "      <td>275</td>\n",
              "      <td>NaN</td>\n",
              "      <td>2018</td>\n",
              "    </tr>\n",
              "    <tr>\n",
              "      <th>Varanasi</th>\n",
              "      <td>4</td>\n",
              "      <td>2016</td>\n",
              "      <td>146</td>\n",
              "      <td>&gt;75%</td>\n",
              "      <td>260</td>\n",
              "      <td>NaN</td>\n",
              "      <td>2018</td>\n",
              "    </tr>\n",
              "    <tr>\n",
              "      <th>Patna</th>\n",
              "      <td>5</td>\n",
              "      <td>2016</td>\n",
              "      <td>144</td>\n",
              "      <td>&gt;75%</td>\n",
              "      <td>266</td>\n",
              "      <td>NaN</td>\n",
              "      <td>2018</td>\n",
              "    </tr>\n",
              "  </tbody>\n",
              "</table>\n",
              "</div>"
            ],
            "text/plain": [
              "                   Position  Year  PM2.5 Temporal coverage  PM10  \\\n",
              "Country City/Town                                                  \n",
              "India   Kanpur            1  2016    173              >75%   319   \n",
              "        Faridabad         2  2016    172              >75%   316   \n",
              "        Gaya              3  2016    149        50% -< 75%   275   \n",
              "        Varanasi          4  2016    146              >75%   260   \n",
              "        Patna             5  2016    144              >75%   266   \n",
              "\n",
              "                  Temporal coverage.1  Database version (year)  \n",
              "Country City/Town                                               \n",
              "India   Kanpur                    NaN                     2018  \n",
              "        Faridabad                 NaN                     2018  \n",
              "        Gaya                      NaN                     2018  \n",
              "        Varanasi                  NaN                     2018  \n",
              "        Patna                     NaN                     2018  "
            ]
          },
          "execution_count": 28,
          "metadata": {},
          "output_type": "execute_result"
        }
      ],
      "source": [
        "df.head()"
      ]
    },
    {
      "cell_type": "code",
      "execution_count": 29,
      "metadata": {},
      "outputs": [
        {
          "data": {
            "text/plain": [
              "'Kanpur'"
            ]
          },
          "execution_count": 29,
          "metadata": {},
          "output_type": "execute_result"
        }
      ],
      "source": [
        "df.loc['India'].sort_values('PM10',ascending=False).head(1).index[0]"
      ]
    },
    {
      "cell_type": "code",
      "execution_count": 30,
      "metadata": {},
      "outputs": [
        {
          "data": {
            "text/plain": [
              "'Aizawl'"
            ]
          },
          "execution_count": 30,
          "metadata": {},
          "output_type": "execute_result"
        }
      ],
      "source": [
        "df.loc['India'].sort_values('PM10',ascending=False).tail(1).index[0]"
      ]
    },
    {
      "cell_type": "code",
      "execution_count": 31,
      "metadata": {},
      "outputs": [
        {
          "data": {
            "text/plain": [
              "'Jinan'"
            ]
          },
          "execution_count": 31,
          "metadata": {},
          "output_type": "execute_result"
        }
      ],
      "source": [
        "df.loc['China'].sort_values('PM10',ascending=False).head(1).index[0]"
      ]
    },
    {
      "cell_type": "code",
      "execution_count": 32,
      "metadata": {},
      "outputs": [
        {
          "data": {
            "text/plain": [
              "'Anshun'"
            ]
          },
          "execution_count": 32,
          "metadata": {},
          "output_type": "execute_result"
        }
      ],
      "source": [
        "df.loc['China'].sort_values('PM10',ascending=False).tail(1).index[0]"
      ]
    },
    {
      "cell_type": "code",
      "execution_count": 33,
      "metadata": {},
      "outputs": [
        {
          "data": {
            "text/plain": [
              "<Axes: ylabel='PM10'>"
            ]
          },
          "execution_count": 33,
          "metadata": {},
          "output_type": "execute_result"
        },
        {
          "data": {
            "image/png": "[encoded data removed]",
            "text/plain": [
              "<Figure size 640x480 with 1 Axes>"
            ]
          },
          "metadata": {},
          "output_type": "display_data"
        }
      ],
      "source": [
        "df.loc['Poland']['PM10'].plot(kind='pie',autopct=\"%0.1f%%\")"
      ]
    },
    {
      "cell_type": "code",
      "execution_count": 34,
      "metadata": {},
      "outputs": [
        {
          "data": {
            "text/plain": [
              "<Axes: xlabel='Country,City/Town'>"
            ]
          },
          "execution_count": 34,
          "metadata": {},
          "output_type": "execute_result"
        },
        {
          "data": {
            "image/png": "[encoded data removed]",
            "text/plain": [
              "<Figure size 640x480 with 1 Axes>"
            ]
          },
          "metadata": {},
          "output_type": "display_data"
        }
      ],
      "source": [
        "df.loc[['Israel','Qatar']][['PM2.5','PM10']].plot(kind='bar')"
      ]
    },
    {
      "cell_type": "code",
      "execution_count": 35,
      "metadata": {},
      "outputs": [
        {
          "data": {
            "text/plain": [
              "<bound method DataFrame.stack of                           Position  Year  PM2.5 Temporal coverage  PM10  \\\n",
              "Country     City/Town                                                     \n",
              "India       Kanpur               1  2016    173              >75%   319   \n",
              "            Faridabad            2  2016    172              >75%   316   \n",
              "            Gaya                 3  2016    149        50% -< 75%   275   \n",
              "            Varanasi             4  2016    146              >75%   260   \n",
              "            Patna                5  2016    144              >75%   266   \n",
              "...                            ...   ...    ...               ...   ...   \n",
              "Poland      Lublin             496  2016     27              >75%    31   \n",
              "            Siedlce            497  2016     27              >75%    29   \n",
              "            Trzebinia          498  2016     27              >75%    35   \n",
              "El Salvador San Salvador       499  2016     27        50% -< 75%    59   \n",
              "Turkey      Sivas              500  2016     27              >75%    56   \n",
              "\n",
              "                         Temporal coverage.1  Database version (year)  \n",
              "Country     City/Town                                                  \n",
              "India       Kanpur                       NaN                     2018  \n",
              "            Faridabad                    NaN                     2018  \n",
              "            Gaya                         NaN                     2018  \n",
              "            Varanasi                     NaN                     2018  \n",
              "            Patna                        NaN                     2018  \n",
              "...                                      ...                      ...  \n",
              "Poland      Lublin                      >75%                     2018  \n",
              "            Siedlce                     >75%                     2018  \n",
              "            Trzebinia                   >75%                     2018  \n",
              "El Salvador San Salvador                 NaN                     2018  \n",
              "Turkey      Sivas                       >75%                     2018  \n",
              "\n",
              "[500 rows x 7 columns]>"
            ]
          },
          "execution_count": 35,
          "metadata": {},
          "output_type": "execute_result"
        }
      ],
      "source": [
        "df.stack"
      ]
    },
    {
      "cell_type": "code",
      "execution_count": null,
      "metadata": {},
      "outputs": [],
      "source": []
    }
  ],
  "metadata": {
    "colab": {
      "provenance": []
    },
    "kernelspec": {
      "display_name": "base",
      "language": "python",
      "name": "python3"
    },
    "language_info": {
      "codemirror_mode": {
        "name": "ipython",
        "version": 3
      },
      "file_extension": ".py",
      "mimetype": "text/x-python",
      "name": "python",
      "nbconvert_exporter": "python",
      "pygments_lexer": "ipython3",
      "version": "3.13.5"
    }
  },
  "nbformat": 4,
  "nbformat_minor": 0
}
