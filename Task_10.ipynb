{
  "cells": [
    {
      "cell_type": "markdown",
      "metadata": {
        "id": "MbeMdx5d5qRj"
      },
      "source": [
        "### `Q-1:` Write a function `get_final_line(filename)`, which takes filename as input and return final line of the file.\n",
        "\n",
        "Note: You can choose any file of your choice."
      ]
    },
    {
      "cell_type": "code",
      "execution_count": 1,
      "metadata": {
        "id": "rjx9XRTq5uzD"
      },
      "outputs": [
        {
          "data": {
            "text/plain": [
              "'This comprehensive list should help users understand the versatility of MLflow for tracking and managing their machine learning workflows.'"
            ]
          },
          "execution_count": 1,
          "metadata": {},
          "output_type": "execute_result"
        }
      ],
      "source": [
        "# Write code here\n",
        "def get_final_line(filename):\n",
        "    final_line = ''\n",
        "\n",
        "    for current_line in open(filename,'r'):\n",
        "        final_line = current_line\n",
        "    return final_line\n",
        "\n",
        "get_final_line('mlflow-basics.txt')"
      ]
    },
    {
      "cell_type": "code",
      "execution_count": 2,
      "metadata": {},
      "outputs": [
        {
          "data": {
            "text/plain": [
              "'This comprehensive list should help users understand the versatility of MLflow for tracking and managing their machine learning workflows.'"
            ]
          },
          "execution_count": 2,
          "metadata": {},
          "output_type": "execute_result"
        }
      ],
      "source": [
        "def get_final_line(filename):\n",
        "    \"\"\"Return the last line of a large file efficiently.\"\"\"\n",
        "    with open(filename, 'r') as file:\n",
        "        last_line = None\n",
        "        for line in file:\n",
        "            last_line = line\n",
        "        return last_line.strip() if last_line else \"File is empty\"\n",
        "    \n",
        "get_final_line('mlflow-basics.txt')\n"
      ]
    },
    {
      "cell_type": "markdown",
      "metadata": {
        "id": "B87Z6-yQ5wVO"
      },
      "source": [
        "##### `Q-2:` Read through a text file, line by line. Use a dict to keep track of how many times each vowel (a, e, i, o, and u) appears in the file. Print the resulting tabulation -- dictionary."
      ]
    },
    {
      "cell_type": "code",
      "execution_count": null,
      "metadata": {
        "id": "XeXnOL7X50Sa"
      },
      "outputs": [
        {
          "data": {
            "text/plain": [
              "{'a': 189, 'e': 299, 'i': 188, 'o': 184, 'u': 90}"
            ]
          },
          "execution_count": 3,
          "metadata": {},
          "output_type": "execute_result"
        }
      ],
      "source": [
        "# Write code here\n",
        "def vowel_count(filename):\n",
        "\n",
        "    with open(filename, 'r') as file:\n",
        "        text = file.read().lower()\n",
        "        vowels = 'aeiou'\n",
        "        vowel_dict = {vowel:0 for vowel in vowels}\n",
        "\n",
        "        for char in text:\n",
        "            if char in vowel_dict:\n",
        "                vowel_dict[char] +=1\n",
        "\n",
        "    return vowel_dict\n",
        "\n",
        "vowel_count('mlflow-basics.txt')\n"
      ]
    },
    {
      "cell_type": "markdown",
      "metadata": {
        "id": "lRqQ2Y295-Gg"
      },
      "source": [
        "##### `Q-3:` Create a text file (using an editor, not necessarily Python) containing two tab separated columns, with each column containing a number. Then use Python to read through the file you’ve created. For each line, multiply each first number by the second and include it in the file in third column. In last add a line Total, by summing the value of third column\n",
        "\n"
      ]
    },
    {
      "cell_type": "markdown",
      "metadata": {
        "id": "GtFfahZc6Bvg"
      },
      "source": [
        "Input File example: That you need to create\n",
        "```\n",
        "1   2\n",
        "3   4\n",
        "5   6\n",
        "7   8\n",
        "9   10\n",
        "\n",
        "```\n",
        "\n",
        "Output File Example:\n",
        "```\n",
        "1   2   2\n",
        "3   4   12\n",
        "5   6   30\n",
        "7   8   56\n",
        "9   10  90\n",
        "Total   190\n",
        "```\n"
      ]
    },
    {
      "cell_type": "code",
      "execution_count": 5,
      "metadata": {
        "id": "GiKvqHnr5-j2"
      },
      "outputs": [],
      "source": [
        "# write code here\n",
        "file_name = \"file1.txt\"\n",
        "f = open(file_name, \"w\")\n",
        "for i in range(1, 11, 2):\n",
        "    line = '{}\\t{}\\n'.format(i, i+1)\n",
        "    f.writelines(line)\n",
        "f.close()\n",
        "\n",
        "with open(file_name, 'r') as f:\n",
        "    lines = f.read().splitlines()\n",
        "\n",
        "total = 0   \n",
        "with open(file_name, 'w') as f:\n",
        "    for line in lines:\n",
        "        num1,num2 = line.split(sep=\"\\t\")\n",
        "        result = int(num1) * int(num2)\n",
        "        total+= result\n",
        "        f.write(\"{}\\t{}\\t{}\\n\".format(num1,num2, result))\n",
        "    f.write(\"Total\\t\"+str(total))\n",
        "\n",
        "\n",
        "# with open('file1.txt','r') as file:\n",
        "#     lines = file.readlines()\n",
        "\n",
        "# total = 0\n",
        "# with open('file1.txt','a') as file:\n",
        "#     for line in lines:\n",
        "#         num1, num2 = map(int, line.split())\n",
        "#         product = num1 * num2\n",
        "#         total += product\n",
        "#         file.write(f\"{line.strip()}\\t{product}\\n\")\n",
        "#     file.write(f\"Total\\t{total}\\n\")"
      ]
    },
    {
      "cell_type": "markdown",
      "metadata": {
        "id": "DunQepHC6J9r"
      },
      "source": [
        "### `Q-4:` Create line wise reverse of a file\n",
        "Write a function which takes two arguments: the names of the input file (to be read from) and the output file (which will be created)."
      ]
    },
    {
      "cell_type": "markdown",
      "metadata": {
        "id": "QxWEtFle6Nmu"
      },
      "source": [
        "For example, if a file looks like\n",
        " ```\n",
        "abc def\n",
        "ghi jkl\n",
        "```\n",
        "then the output file will be\n",
        "```\n",
        "fed cba\n",
        "lkj ihg\n",
        "```\n",
        "**Notice**: The newline remains at the end of the string, while the rest of the characters are all reversed."
      ]
    },
    {
      "cell_type": "code",
      "execution_count": 6,
      "metadata": {
        "id": "aIJTJNAq6LD7"
      },
      "outputs": [],
      "source": [
        "# write code here\n",
        "def line_wise_reverse(input_file, output_file):\n",
        "    \"\"\"Reads lines from input_file and writes each line reversed into output_file.\"\"\"\n",
        "    with open(input_file, 'r') as infile, open(output_file, 'w') as outfile:\n",
        "        for line in infile:\n",
        "            # Preserve newline at the end, reverse rest of the characters\n",
        "            if line.endswith('\\n'):\n",
        "                outfile.write(line[:-1][::-1] + '\\n')\n",
        "            else:\n",
        "                outfile.write(line[::-1])\n",
        "\n",
        "\n",
        "\n",
        "line_wise_reverse('input.txt', 'output.txt')\n",
        "\n",
        "\n",
        "# input_file = \"sample.txt\"\n",
        "# output_file = \"sample_reversed.txt\"\n",
        "\n",
        "# def reverse_lines(infilename, outfilename):\n",
        "#     with open(infilename, 'r') as infile, open(outfilename, \"w\") as outfile:\n",
        "#         for one_line in infile:\n",
        "#             outfile.write(one_line.rstrip()[::-1]+\"\\n\")\n",
        "# reverse_lines(input_file, output_file)\n",
        "\n"
      ]
    },
    {
      "cell_type": "markdown",
      "metadata": {
        "id": "wqvx3sMY6bou"
      },
      "source": [
        "##### `Q-5:` Create a Serialized dict of frequency of words in the file. And from given list of words, using serialized dict show word count.\n",
        "\n",
        "* List of word will be given\n",
        "\n"
      ]
    },
    {
      "cell_type": "markdown",
      "metadata": {
        "id": "uc5MSUWg6cZG"
      },
      "source": [
        "Given String\n",
        "\n",
        "```\n",
        "strings = \"\"\"Alice was beginning to get very tired of sitting by her sister\n",
        "            on the bank, and of having nothing to do:  once or twice she had\n",
        "            peeped into the book her sister was reading, but it had no\n",
        "            pictures or conversations in it, `and what is the use of a book,'\n",
        "            thought Alice `without pictures or conversation?'\n",
        "\n",
        "            So she was considering in her own mind (as well as she could,\n",
        "            for the hot day made her feel very sleepy and stupid), whether\n",
        "            the pleasure of making a daisy-chain would be worth the trouble\n",
        "            of getting up and picking the daisies, when suddenly a White\n",
        "            Rabbit with pink eyes ran close by her.\n",
        "\n",
        "            There was nothing so VERY remarkable in that; nor did Alice\n",
        "            think it so VERY much out of the way to hear the Rabbit say to\n",
        "            itself, `Oh dear!  Oh dear!  I shall be late!'  (when she thought\n",
        "            it over afterwards, it occurred to her that she ought to have\n",
        "            wondered at this, but at the time it all seemed quite natural);\n",
        "            but when the Rabbit actually TOOK A WATCH OUT OF ITS WAISTCOAT-\n",
        "            POCKET, and looked at it, and then hurried on, Alice started to\n",
        "            her feet, for it flashed across her mind that she had never\n",
        "            before seen a rabbit with either a waistcoat-pocket, or a watch to\n",
        "            take out of it, and burning with curiosity, she ran across the\n",
        "            field after it, and fortunately was just in time to see it pop\n",
        "            down a large rabbit-hole under the hedge.\"\"\"\n",
        "\n",
        "word_list = ['alice', 'wonder', 'natural']\n",
        "```"
      ]
    },
    {
      "cell_type": "code",
      "execution_count": 11,
      "metadata": {
        "id": "-SmtFFUq6a70"
      },
      "outputs": [
        {
          "data": {
            "text/plain": [
              "{'alice': 4, 'wonder': 0, 'natural': 0}"
            ]
          },
          "execution_count": 11,
          "metadata": {},
          "output_type": "execute_result"
        }
      ],
      "source": [
        "# write code here\n",
        "\n",
        "strings = \"\"\"Alice was beginning to get very tired of sitting by her sister\n",
        "            on the bank, and of having nothing to do:  once or twice she had\n",
        "            peeped into the book her sister was reading, but it had no\n",
        "            pictures or conversations in it, `and what is the use of a book,'\n",
        "            thought Alice `without pictures or conversation?'\n",
        "\n",
        "            So she was considering in her own mind (as well as she could,\n",
        "            for the hot day made her feel very sleepy and stupid), whether\n",
        "            the pleasure of making a daisy-chain would be worth the trouble\n",
        "            of getting up and picking the daisies, when suddenly a White\n",
        "            Rabbit with pink eyes ran close by her.\n",
        "\n",
        "            There was nothing so VERY remarkable in that; nor did Alice\n",
        "            think it so VERY much out of the way to hear the Rabbit say to\n",
        "            itself, `Oh dear!  Oh dear!  I shall be late!'  (when she thought\n",
        "            it over afterwards, it occurred to her that she ought to have\n",
        "            wondered at this, but at the time it all seemed quite natural);\n",
        "            but when the Rabbit actually TOOK A WATCH OUT OF ITS WAISTCOAT-\n",
        "            POCKET, and looked at it, and then hurried on, Alice started to\n",
        "            her feet, for it flashed across her mind that she had never\n",
        "            before seen a rabbit with either a waistcoat-pocket, or a watch to\n",
        "            take out of it, and burning with curiosity, she ran across the\n",
        "            field after it, and fortunately was just in time to see it pop\n",
        "            down a large rabbit-hole under the hedge.\"\"\"\n",
        "\n",
        "word_list = ['alice', 'wonder', 'natural']\n",
        "\n",
        "word_count = {}\n",
        "for word in word_list:\n",
        "    word_count[word] = 0\n",
        "for word in strings.lower().split():\n",
        "    word = word.strip(\"',.`\")\n",
        "    if word in word_count:\n",
        "        word_count[word] += 1\n",
        "word_count\n",
        "\n",
        "\n",
        "# import pickle as pkl\n",
        "# word_count_dict=dict()\n",
        "# for word in strings.lower().split(' '):\n",
        "#     try:\n",
        "#         word_count_dict[word] += 1\n",
        "#     except:\n",
        "#         word_count_dict[word] = 1\n",
        "\n",
        "# pkl.dump(word_count_dict, open(\"word_count_dict.pkl\", \"wb\"))\n",
        "# word_count = pkl.load(open(\"word_count_dict.pkl\", \"rb\"))\n",
        "# for s in word_list:\n",
        "#     try:\n",
        "#         print(s, word_count[s])\n",
        "#     except:\n",
        "#         print(s, 0)\n"
      ]
    },
    {
      "cell_type": "markdown",
      "metadata": {
        "id": "Und2HuFW6kAw"
      },
      "source": [
        "### **`Q-6:`** Given a string calculate length of the string using recursion.\n",
        "\n",
        "**Example 1:**\n",
        "\n",
        "Input:\n",
        "```bash\n",
        "\"abcd\"\n",
        "```\n",
        "\n",
        "Output:\n",
        "\n",
        "```bash\n",
        "4\n",
        "```\n",
        "\n",
        "**Example 2:**\n",
        "\n",
        "Input:\n",
        "```bash\n",
        "DataScience\n",
        "```\n",
        "\n",
        "Output:\n",
        "\n",
        "```bash\n",
        "11\n",
        "```\n"
      ]
    },
    {
      "cell_type": "code",
      "execution_count": null,
      "metadata": {
        "id": "9HE7lB5W61gT"
      },
      "outputs": [
        {
          "name": "stdout",
          "output_type": "stream",
          "text": [
            "Length of the input string is: 5\n"
          ]
        }
      ],
      "source": [
        "# Write code here\n",
        "\n",
        "s = input(\"Enter a string: \")\n",
        "\n",
        "count = 0\n",
        "for char in s:\n",
        "    count += 1\n",
        "print(\"Length of the input string is:\", count)\n",
        "\n",
        "\n",
        "# def string_length(s):\n",
        "#     if s == \"\":\n",
        "#         return 0\n",
        "#     else:\n",
        "#         return 1 + string_length(s[1:])\n",
        "# string_length(string)\n",
        "    "
      ]
    },
    {
      "cell_type": "markdown",
      "metadata": {
        "id": "iUDvc-jl6759"
      },
      "source": [
        "##### **`Q-7:`** Write a function that accepts two numbers and returns their greatest common divisior. Without using any loop\n",
        "\n",
        "def gcd(int, int) => int\n",
        "\n",
        "```\n",
        "gcd(16,24) will give 8\n",
        "```"
      ]
    },
    {
      "cell_type": "code",
      "execution_count": null,
      "metadata": {
        "id": "uMQnojHR7O2S"
      },
      "outputs": [
        {
          "data": {
            "text/plain": [
              "6"
            ]
          },
          "execution_count": 13,
          "metadata": {},
          "output_type": "execute_result"
        }
      ],
      "source": [
        "# Write code here\n",
        "def gcd(a,b):\n",
        "    if a == b:\n",
        "        return a\n",
        "    elif a>b:\n",
        "        return gcd(a-b,b)\n",
        "    else:\n",
        "        return gcd(a,b-a)\n",
        "    \n",
        "gcd(48,18)"
      ]
    },
    {
      "cell_type": "markdown",
      "metadata": {
        "id": "wFD35fva7Q_B"
      },
      "source": [
        " ### `Q-8:` String Edit Distance\n",
        "\n",
        " Use your recursive function to write a program that reads two strings from the\n",
        "user and displays the edit distance between them.\n",
        "\n",
        "*The edit distance between two strings is a measure of their similarity—the smaller the edit distance, the more similar the strings are with regard to the minimum number of insert, delete and substitute operations needed to transform one string into the other.*\n",
        "\n",
        "Consider the strings `kitten` and `sitting`. The first string can be transformed\n",
        "into the second string with the following operations:\n",
        "* Substitute the `k` with an `s`,\n",
        "* substitute the `e` with an `i`,\n",
        "* and insert a `g` at the end of the string.\n",
        "\n",
        "This is the smallest number of operations that can be performed to transform kitten into sitting. As a result, the edit distance is `3`.\n",
        "\n",
        "\n",
        "Write a recursive function that computes the edit distance between two strings.\n",
        "\n",
        "Use the following algorithm:\n",
        "\n",
        "```\n",
        "Let s and t be the strings\n",
        "    If the length of s is 0 then\n",
        "        Return the length of t\n",
        "    Else if the length of t is 0 then\n",
        "        Return the length of s\n",
        "    Else\n",
        "        Set cost to 0\n",
        "        If the last character in s does not equal the last character in t then\n",
        "            Set cost to 1\n",
        "        Set d1 equal to the edit distance between all characters except the last one in s, and all characters in t, plus 1\n",
        "        Set d2 equal to the edit distance between all characters in s, and all characters except the last one in t, plus 1\n",
        "\n",
        "        Set d3 equal to the edit distance between all characters except the last one in s, and all characters except the last one in t, plus cost\n",
        "        Return the minimum of d1, d2 and d3\n",
        "```\n",
        "\n",
        "\n",
        "\n"
      ]
    },
    {
      "cell_type": "code",
      "execution_count": 19,
      "metadata": {
        "id": "zlNy_Q987QOX"
      },
      "outputs": [
        {
          "name": "stdout",
          "output_type": "stream",
          "text": [
            "The first string is:  kitchen\n",
            "The second string is:  kitten\n",
            "Edit distance between kitchen and kitten is: 2\n"
          ]
        }
      ],
      "source": [
        "# write code here\n",
        "\n",
        "def edit_distance(s1, s2):\n",
        "    if len(s1) == 0:\n",
        "        return len(s2)\n",
        "\n",
        "    if len(s2) == 0:\n",
        "        return len(s1)\n",
        "\n",
        "    if s1[0] == s2[0]:\n",
        "        return edit_distance(s1[1:], s2[1:])\n",
        "\n",
        "    insert_op = 1 + edit_distance(s1, s2[1:])\n",
        "    delete_op = 1 + edit_distance(s1[1:], s2)\n",
        "    replace_op = 1 + edit_distance(s1[1:], s2[1:])\n",
        "\n",
        "    return min(insert_op, delete_op, replace_op)\n",
        "    \n",
        "edit_distance(s1, s2)\n",
        "\n",
        "s1 = input(\"Enter first string: \")\n",
        "print(\"The first string is: \", s1)\n",
        "s2 = input(\"Enter second string: \")\n",
        "print(\"The second string is: \", s2)\n",
        "\n",
        "print(\"Edit distance between\", s1, \"and\", s2, \"is:\", edit_distance(s1, s2))\n",
        "\n",
        "\n",
        "# def editDistance(s, t):\n",
        "    \n",
        "#     if len(s) == 0:\n",
        "#         return len(t)\n",
        "#     elif len(t) == 0:\n",
        "#         return len(s)\n",
        "#     else:\n",
        "#         cost = 0\n",
        "#         if s[-1] != t[-1]:\n",
        "#             cost = 1\n",
        "        \n",
        "#         d1 = editDistance(s[:-1], t) + 1\n",
        "#         d2 = editDistance(s, t[:-1]) + 1\n",
        "#         d3 = editDistance(s[:-1] , t[:-1]) + cost\n",
        "#         return min(d1, d2, d3)\n",
        "\n",
        "# editDistance('kitten' , 'sitting')"
      ]
    },
    {
      "cell_type": "markdown",
      "metadata": {
        "id": "Hc9e-qES7iAK"
      },
      "source": [
        "### `Q-9:` Run-Length Encoding\n",
        "\n",
        "Run-length encoding is a simple data compression technique that can be effective when repeated values occur at adjacent positions within a list. Compression is achieved by replacing groups of repeated values with one copy of the value, followed by the number of times that the value should be repeated. For example, the list\n",
        "```\n",
        "[\"A\", \"A\", \"A\", \"A\", \"A\", \"A\", \"A\", \"A\", \"A\", \"A\", \"A\", \"A\", \"B\", \"B\", \"B\", \"B\", \"A\", \"A\", \"A\", \"A\", \"A\", \"A\", \"B\"]\n",
        "```\n",
        "would be compressed as `[\"A\", 12, \"B\", 4, \"A\", 6, \"B\", 1]`.\n",
        "\n",
        "Write a recursive function that implements the run-length compression technique\n",
        "described above. Your function will take a list or a string as its only parameter. It should return the run-length compressed list as its only result. Include a main program that reads a string from the user, compresses it, and displays the run-length encoded result."
      ]
    },
    {
      "cell_type": "code",
      "execution_count": null,
      "metadata": {
        "id": "W2Wb_WzP7qM1"
      },
      "outputs": [],
      "source": [
        "# Write code here\n",
        "string = \"aabbbcdabcddffgah\"\n",
        "\n",
        "def runEncode(s):\n",
        "    if len(s) == 0:\n",
        "        return []\n",
        "    else:\n",
        "        index = 1\n",
        "        while index < len(s) and s[index] == s[index-1]:\n",
        "            index += 1\n",
        "        compressed = [s[0], index]\n",
        "        \n",
        "        return compressed + runEncode(s[index:])\n",
        "        \n",
        "print(runEncode(string))"
      ]
    },
    {
      "cell_type": "code",
      "execution_count": null,
      "metadata": {},
      "outputs": [
        {
          "name": "stdout",
          "output_type": "stream",
          "text": [
            "Run-length encoded result: ['a', 4, 'b', 3, 'c', 1, 'f', 2, 'g', 2, 'h', 2]\n",
            "Decoded string: aaaabbbcffgghh\n"
          ]
        }
      ],
      "source": [
        "# Alternative approach\n",
        "def runEncode(s):\n",
        "    # Base case\n",
        "    if len(s) == 0:\n",
        "        return []\n",
        "    \n",
        "    # Count consecutive same characters\n",
        "    count = 1\n",
        "    while count < len(s) and s[count] == s[0]:\n",
        "        count += 1\n",
        "    \n",
        "    # Store first character and its count\n",
        "    compressed = [s[0], count]\n",
        "    \n",
        "    # Recursive call for remaining part\n",
        "    return compressed + runEncode(s[count:])\n",
        "\n",
        "\n",
        "# --- Main program ---\n",
        "string = input(\"Enter a string: \")\n",
        "encoded = runEncode(string)\n",
        "print(\"Run-length encoded result:\", encoded)\n",
        "\n",
        "def runDecode(encoded):\n",
        "    decoded = \"\"\n",
        "    for i in range(0, len(encoded), 2):\n",
        "        decoded += encoded[i] * encoded[i+1]\n",
        "    return decoded\n",
        "\n",
        "print(\"Decoded string:\", runDecode(encoded))"
      ]
    },
    {
      "cell_type": "markdown",
      "metadata": {
        "id": "x6A-4vGC8SLs"
      },
      "source": [
        "### `Q-10:` Write a recursive function to convert a decimal to binary"
      ]
    },
    {
      "cell_type": "code",
      "execution_count": 22,
      "metadata": {
        "id": "izOr6D9V8aME"
      },
      "outputs": [
        {
          "data": {
            "text/plain": [
              "'0111'"
            ]
          },
          "execution_count": 22,
          "metadata": {},
          "output_type": "execute_result"
        }
      ],
      "source": [
        "# Write code here\n",
        "\n",
        "decimal = int(input(\"Enter a decimal number: \"))\n",
        "\n",
        "def decToBin(decimal):\n",
        "    if decimal == 0:\n",
        "        return \"0\"\n",
        "    else:\n",
        "        return decToBin(decimal >> 1) + str(decimal & 1)\n",
        "decToBin(decimal)"
      ]
    },
    {
      "cell_type": "code",
      "execution_count": 21,
      "metadata": {},
      "outputs": [
        {
          "name": "stdout",
          "output_type": "stream",
          "text": [
            "Binary of 7 is: 111\n"
          ]
        }
      ],
      "source": [
        "# Alternative approach\n",
        "def decToBin(decimal):\n",
        "    # Base case: if number is 0, return empty string\n",
        "    if decimal == 0:\n",
        "        return \"\"\n",
        "    else:\n",
        "        return decToBin(decimal // 2) + str(decimal % 2)\n",
        "\n",
        "# Main program\n",
        "decimal = int(input(\"Enter a decimal number: \"))\n",
        "\n",
        "# Handle the case when user enters 0 explicitly\n",
        "binary = decToBin(decimal)\n",
        "if binary == \"\":\n",
        "    binary = \"0\"\n",
        "\n",
        "print(f\"Binary of {decimal} is: {binary}\")\n"
      ]
    },
    {
      "cell_type": "code",
      "execution_count": null,
      "metadata": {},
      "outputs": [],
      "source": []
    }
  ],
  "metadata": {
    "colab": {
      "provenance": []
    },
    "kernelspec": {
      "display_name": "base",
      "language": "python",
      "name": "python3"
    },
    "language_info": {
      "codemirror_mode": {
        "name": "ipython",
        "version": 3
      },
      "file_extension": ".py",
      "mimetype": "text/x-python",
      "name": "python",
      "nbconvert_exporter": "python",
      "pygments_lexer": "ipython3",
      "version": "3.13.5"
    }
  },
  "nbformat": 4,
  "nbformat_minor": 0
}
